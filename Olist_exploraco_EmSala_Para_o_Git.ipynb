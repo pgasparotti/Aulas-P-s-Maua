{
  "nbformat": 4,
  "nbformat_minor": 0,
  "metadata": {
    "colab": {
      "name": "Olist_exploraco_EmSala - Para o Git.ipynb",
      "provenance": [],
      "collapsed_sections": [],
      "toc_visible": true,
      "include_colab_link": true
    },
    "kernelspec": {
      "name": "python3",
      "display_name": "Python 3"
    }
  },
  "cells": [
    {
      "cell_type": "markdown",
      "metadata": {
        "id": "view-in-github",
        "colab_type": "text"
      },
      "source": [
        "<a href=\"https://colab.research.google.com/github/pgasparotti/Aulas-P-s-Maua/blob/main/Olist_exploraco_EmSala_Para_o_Git.ipynb\" target=\"_parent\"><img src=\"https://colab.research.google.com/assets/colab-badge.svg\" alt=\"Open In Colab\"/></a>"
      ]
    },
    {
      "cell_type": "code",
      "metadata": {
        "id": "wH9ZqIHxFtEP",
        "colab": {
          "base_uri": "https://localhost:8080/"
        },
        "outputId": "3be59a11-c2df-4484-c813-c5ed48c90240"
      },
      "source": [
        "!pip install -U gitly"
      ],
      "execution_count": null,
      "outputs": [
        {
          "output_type": "stream",
          "text": [
            "Collecting gitly\n",
            "  Downloading https://files.pythonhosted.org/packages/45/fe/0afeaec8b05a3056e3081c890ea7daae3674ef2849df792561c9bd5dd799/gitly-1.1.4.tar.gz\n",
            "Collecting plotly>=4.9.0\n",
            "\u001b[?25l  Downloading https://files.pythonhosted.org/packages/c9/09/315462259ab7b60a3d4b7159233ed700733c87d889755bdc00a9fb46d692/plotly-4.14.1-py2.py3-none-any.whl (13.2MB)\n",
            "\u001b[K     |████████████████████████████████| 13.2MB 5.9MB/s \n",
            "\u001b[?25hCollecting kaleido\n",
            "\u001b[?25l  Downloading https://files.pythonhosted.org/packages/83/39/1c960a971f8d27e6aa4f1462dc048275c98bbb46f16871269ba941bb4a04/kaleido-0.1.0-py2.py3-none-manylinux1_x86_64.whl (74.6MB)\n",
            "\u001b[K     |████████████████████████████████| 74.6MB 68kB/s \n",
            "\u001b[?25hRequirement already satisfied, skipping upgrade: retrying>=1.3.3 in /usr/local/lib/python3.6/dist-packages (from plotly>=4.9.0->gitly) (1.3.3)\n",
            "Requirement already satisfied, skipping upgrade: six in /usr/local/lib/python3.6/dist-packages (from plotly>=4.9.0->gitly) (1.15.0)\n",
            "Building wheels for collected packages: gitly\n",
            "  Building wheel for gitly (setup.py) ... \u001b[?25l\u001b[?25hdone\n",
            "  Created wheel for gitly: filename=gitly-1.1.4-cp36-none-any.whl size=4522 sha256=9e633d8ba7af9aedf75ea72dd9ee0b1421f61ac4b530a3c0dafdc0ac5664dfd4\n",
            "  Stored in directory: /root/.cache/pip/wheels/41/5c/0b/6cd3a688991c83f17c948adf0775f7907a0406d1119bd809af\n",
            "Successfully built gitly\n",
            "Installing collected packages: plotly, kaleido, gitly\n",
            "  Found existing installation: plotly 4.4.1\n",
            "    Uninstalling plotly-4.4.1:\n",
            "      Successfully uninstalled plotly-4.4.1\n",
            "Successfully installed gitly-1.1.4 kaleido-0.1.0 plotly-4.14.1\n"
          ],
          "name": "stdout"
        }
      ]
    },
    {
      "cell_type": "code",
      "metadata": {
        "colab": {
          "base_uri": "https://localhost:8080/"
        },
        "id": "qow28qocEmVP",
        "outputId": "6d0cdb96-90b2-499f-886a-15f44913cb55"
      },
      "source": [
        "from google.colab import drive\n",
        "drive.mount('/content/drive')"
      ],
      "execution_count": null,
      "outputs": [
        {
          "output_type": "stream",
          "text": [
            "Mounted at /content/drive\n"
          ],
          "name": "stdout"
        }
      ]
    },
    {
      "cell_type": "code",
      "metadata": {
        "id": "u9Vh9NgnXpMj",
        "colab": {
          "base_uri": "https://localhost:8080/"
        },
        "outputId": "a2d660b8-c2f0-4cd8-db37-3eff24e9fd33"
      },
      "source": [
        "!pip install pycep-correios"
      ],
      "execution_count": null,
      "outputs": [
        {
          "output_type": "stream",
          "text": [
            "Collecting pycep-correios\n",
            "  Downloading https://files.pythonhosted.org/packages/a7/f1/4d5ac723907f04e3d3f367d6036b27182b707aba2b7eac1d77386da77fe4/pycep_correios-4.0.4-py2.py3-none-any.whl\n",
            "Requirement already satisfied: requests>=2.7.0 in /usr/local/lib/python3.6/dist-packages (from pycep-correios) (2.23.0)\n",
            "Collecting deprecated\n",
            "  Downloading https://files.pythonhosted.org/packages/76/a1/05d7f62f956d77b23a640efc650f80ce24483aa2f85a09c03fb64f49e879/Deprecated-1.2.10-py2.py3-none-any.whl\n",
            "Collecting zeep>=2.0.0\n",
            "\u001b[?25l  Downloading https://files.pythonhosted.org/packages/e5/8c/b14cbe8562e582786dbd86487c041827cb2a4dafcaf832c035878e94651f/zeep-4.0.0-py2.py3-none-any.whl (100kB)\n",
            "\u001b[K     |████████████████████████████████| 102kB 3.4MB/s \n",
            "\u001b[?25hRequirement already satisfied: idna<3,>=2.5 in /usr/local/lib/python3.6/dist-packages (from requests>=2.7.0->pycep-correios) (2.10)\n",
            "Requirement already satisfied: urllib3!=1.25.0,!=1.25.1,<1.26,>=1.21.1 in /usr/local/lib/python3.6/dist-packages (from requests>=2.7.0->pycep-correios) (1.24.3)\n",
            "Requirement already satisfied: certifi>=2017.4.17 in /usr/local/lib/python3.6/dist-packages (from requests>=2.7.0->pycep-correios) (2020.12.5)\n",
            "Requirement already satisfied: chardet<4,>=3.0.2 in /usr/local/lib/python3.6/dist-packages (from requests>=2.7.0->pycep-correios) (3.0.4)\n",
            "Requirement already satisfied: wrapt<2,>=1.10 in /usr/local/lib/python3.6/dist-packages (from deprecated->pycep-correios) (1.12.1)\n",
            "Requirement already satisfied: attrs>=17.2.0 in /usr/local/lib/python3.6/dist-packages (from zeep>=2.0.0->pycep-correios) (20.3.0)\n",
            "Collecting isodate>=0.5.4\n",
            "\u001b[?25l  Downloading https://files.pythonhosted.org/packages/9b/9f/b36f7774ff5ea8e428fdcfc4bb332c39ee5b9362ddd3d40d9516a55221b2/isodate-0.6.0-py2.py3-none-any.whl (45kB)\n",
            "\u001b[K     |████████████████████████████████| 51kB 4.0MB/s \n",
            "\u001b[?25hCollecting requests-toolbelt>=0.7.1\n",
            "\u001b[?25l  Downloading https://files.pythonhosted.org/packages/60/ef/7681134338fc097acef8d9b2f8abe0458e4d87559c689a8c306d0957ece5/requests_toolbelt-0.9.1-py2.py3-none-any.whl (54kB)\n",
            "\u001b[K     |████████████████████████████████| 61kB 4.0MB/s \n",
            "\u001b[?25hRequirement already satisfied: pytz in /usr/local/lib/python3.6/dist-packages (from zeep>=2.0.0->pycep-correios) (2018.9)\n",
            "Requirement already satisfied: defusedxml>=0.4.1 in /usr/local/lib/python3.6/dist-packages (from zeep>=2.0.0->pycep-correios) (0.6.0)\n",
            "Collecting appdirs>=1.4.0\n",
            "  Downloading https://files.pythonhosted.org/packages/3b/00/2344469e2084fb287c2e0b57b72910309874c3245463acd6cf5e3db69324/appdirs-1.4.4-py2.py3-none-any.whl\n",
            "Requirement already satisfied: lxml>=3.1.0 in /usr/local/lib/python3.6/dist-packages (from zeep>=2.0.0->pycep-correios) (4.2.6)\n",
            "Collecting requests-file>=1.5.1\n",
            "  Downloading https://files.pythonhosted.org/packages/77/86/cdb5e8eaed90796aa83a6d9f75cfbd37af553c47a291cd47bc410ef9bdb2/requests_file-1.5.1-py2.py3-none-any.whl\n",
            "Collecting cached-property>=1.3.0\n",
            "  Downloading https://files.pythonhosted.org/packages/48/19/f2090f7dad41e225c7f2326e4cfe6fff49e57dedb5b53636c9551f86b069/cached_property-1.5.2-py2.py3-none-any.whl\n",
            "Requirement already satisfied: six in /usr/local/lib/python3.6/dist-packages (from isodate>=0.5.4->zeep>=2.0.0->pycep-correios) (1.15.0)\n",
            "Installing collected packages: deprecated, isodate, requests-toolbelt, appdirs, requests-file, cached-property, zeep, pycep-correios\n",
            "Successfully installed appdirs-1.4.4 cached-property-1.5.2 deprecated-1.2.10 isodate-0.6.0 pycep-correios-4.0.4 requests-file-1.5.1 requests-toolbelt-0.9.1 zeep-4.0.0\n"
          ],
          "name": "stdout"
        }
      ]
    },
    {
      "cell_type": "code",
      "metadata": {
        "id": "JE7-JtDgIhpy"
      },
      "source": [
        "from gitly.colab.plot import GitlyPlotter\n",
        "\n",
        "gitly = GitlyPlotter('git')\n",
        "gitly.config_render(renderer='colab')"
      ],
      "execution_count": null,
      "outputs": []
    },
    {
      "cell_type": "markdown",
      "metadata": {
        "id": "JnuNMjVwSEOA"
      },
      "source": [
        "# Carregar CSVs"
      ]
    },
    {
      "cell_type": "code",
      "metadata": {
        "id": "g2vS1VYzI3X-"
      },
      "source": [
        "import pandas as pd"
      ],
      "execution_count": null,
      "outputs": []
    },
    {
      "cell_type": "code",
      "metadata": {
        "id": "e3-c1EZ5nVyS"
      },
      "source": [
        "df_clientes = pd.read_csv('/content/drive/My Drive/Colab Notebooks/Datasets/olist_customers_dataset.csv')\n",
        "df_geo = pd.read_csv('/content/drive/My Drive/Colab Notebooks/Datasets/olist_geolocation_dataset.csv')\n",
        "df_compra_itens = pd.read_csv('/content/drive/My Drive/Colab Notebooks/Datasets/olist_order_items_dataset.csv')\n",
        "df_compra_pagamentos = pd.read_csv('/content/drive/My Drive/Colab Notebooks/Datasets/olist_order_payments_dataset.csv')\n",
        "df_reviews = pd.read_csv('/content/drive/My Drive/Colab Notebooks/Datasets/olist_order_reviews_dataset.csv')\n",
        "df_compras = pd.read_csv('/content/drive/My Drive/Colab Notebooks/Datasets/olist_orders_dataset.csv')\n",
        "df_produtos = pd.read_csv('/content/drive/My Drive/Colab Notebooks/Datasets/olist_products_dataset.csv')\n",
        "df_vendedores = pd.read_csv('/content/drive/My Drive/Colab Notebooks/Datasets/olist_sellers_dataset.csv')"
      ],
      "execution_count": null,
      "outputs": []
    },
    {
      "cell_type": "markdown",
      "metadata": {
        "id": "d9IyuGplU7Yg"
      },
      "source": [
        "# Exploração das tabelas"
      ]
    },
    {
      "cell_type": "markdown",
      "metadata": {
        "id": "HGV9nZINIKL-"
      },
      "source": [
        "## Clientes - olist_customers_dataset"
      ]
    },
    {
      "cell_type": "code",
      "metadata": {
        "id": "pgGGuPL1IGxI",
        "colab": {
          "base_uri": "https://localhost:8080/",
          "height": 135
        },
        "outputId": "8661ca86-c2da-4059-ebce-d28165429f07"
      },
      "source": [
        "df_clientes.head(3)"
      ],
      "execution_count": null,
      "outputs": [
        {
          "output_type": "execute_result",
          "data": {
            "text/html": [
              "<div>\n",
              "<style scoped>\n",
              "    .dataframe tbody tr th:only-of-type {\n",
              "        vertical-align: middle;\n",
              "    }\n",
              "\n",
              "    .dataframe tbody tr th {\n",
              "        vertical-align: top;\n",
              "    }\n",
              "\n",
              "    .dataframe thead th {\n",
              "        text-align: right;\n",
              "    }\n",
              "</style>\n",
              "<table border=\"1\" class=\"dataframe\">\n",
              "  <thead>\n",
              "    <tr style=\"text-align: right;\">\n",
              "      <th></th>\n",
              "      <th>customer_id</th>\n",
              "      <th>customer_unique_id</th>\n",
              "      <th>customer_zip_code_prefix</th>\n",
              "      <th>customer_city</th>\n",
              "      <th>customer_state</th>\n",
              "    </tr>\n",
              "  </thead>\n",
              "  <tbody>\n",
              "    <tr>\n",
              "      <th>0</th>\n",
              "      <td>06b8999e2fba1a1fbc88172c00ba8bc7</td>\n",
              "      <td>861eff4711a542e4b93843c6dd7febb0</td>\n",
              "      <td>14409</td>\n",
              "      <td>franca</td>\n",
              "      <td>SP</td>\n",
              "    </tr>\n",
              "    <tr>\n",
              "      <th>1</th>\n",
              "      <td>18955e83d337fd6b2def6b18a428ac77</td>\n",
              "      <td>290c77bc529b7ac935b93aa66c333dc3</td>\n",
              "      <td>9790</td>\n",
              "      <td>sao bernardo do campo</td>\n",
              "      <td>SP</td>\n",
              "    </tr>\n",
              "    <tr>\n",
              "      <th>2</th>\n",
              "      <td>4e7b3e00288586ebd08712fdd0374a03</td>\n",
              "      <td>060e732b5b29e8181a18229c7b0b2b5e</td>\n",
              "      <td>1151</td>\n",
              "      <td>sao paulo</td>\n",
              "      <td>SP</td>\n",
              "    </tr>\n",
              "  </tbody>\n",
              "</table>\n",
              "</div>"
            ],
            "text/plain": [
              "                        customer_id  ... customer_state\n",
              "0  06b8999e2fba1a1fbc88172c00ba8bc7  ...             SP\n",
              "1  18955e83d337fd6b2def6b18a428ac77  ...             SP\n",
              "2  4e7b3e00288586ebd08712fdd0374a03  ...             SP\n",
              "\n",
              "[3 rows x 5 columns]"
            ]
          },
          "metadata": {
            "tags": []
          },
          "execution_count": 7
        }
      ]
    },
    {
      "cell_type": "markdown",
      "metadata": {
        "id": "twtMjMhqIpWn"
      },
      "source": [
        "### Info - Estrutura da tabela"
      ]
    },
    {
      "cell_type": "code",
      "metadata": {
        "id": "1ic3Lhu_IhaV",
        "colab": {
          "base_uri": "https://localhost:8080/"
        },
        "outputId": "ab2bef06-cc93-46f7-eb4e-919ff4ef044f"
      },
      "source": [
        "#(linhas, colunas)\n",
        "df_clientes.shape"
      ],
      "execution_count": null,
      "outputs": [
        {
          "output_type": "execute_result",
          "data": {
            "text/plain": [
              "(99441, 5)"
            ]
          },
          "metadata": {
            "tags": []
          },
          "execution_count": 8
        }
      ]
    },
    {
      "cell_type": "code",
      "metadata": {
        "id": "ahHr_jbsIwGx",
        "colab": {
          "base_uri": "https://localhost:8080/"
        },
        "outputId": "69392696-4317-47ad-c14e-17bf29d90ad2"
      },
      "source": [
        "# valores unicos em cada coluna\n",
        "df_clientes.nunique()"
      ],
      "execution_count": null,
      "outputs": [
        {
          "output_type": "execute_result",
          "data": {
            "text/plain": [
              "customer_id                 99441\n",
              "customer_unique_id          96096\n",
              "customer_zip_code_prefix    14994\n",
              "customer_city                4119\n",
              "customer_state                 27\n",
              "dtype: int64"
            ]
          },
          "metadata": {
            "tags": []
          },
          "execution_count": 9
        }
      ]
    },
    {
      "cell_type": "code",
      "metadata": {
        "id": "lVGhg-vII6po",
        "colab": {
          "base_uri": "https://localhost:8080/",
          "height": 135
        },
        "outputId": "3670e15e-d1e1-4fe0-aeb8-14ef967b74e8"
      },
      "source": [
        "# nunique = qtd. valores unicos na coluna\n",
        "# count = qtd. valores n]ao nulos na coluna\n",
        "# size = qtd. de elemetos\n",
        "df_clientes.agg( ['nunique', 'count', 'size'] )"
      ],
      "execution_count": null,
      "outputs": [
        {
          "output_type": "execute_result",
          "data": {
            "text/html": [
              "<div>\n",
              "<style scoped>\n",
              "    .dataframe tbody tr th:only-of-type {\n",
              "        vertical-align: middle;\n",
              "    }\n",
              "\n",
              "    .dataframe tbody tr th {\n",
              "        vertical-align: top;\n",
              "    }\n",
              "\n",
              "    .dataframe thead th {\n",
              "        text-align: right;\n",
              "    }\n",
              "</style>\n",
              "<table border=\"1\" class=\"dataframe\">\n",
              "  <thead>\n",
              "    <tr style=\"text-align: right;\">\n",
              "      <th></th>\n",
              "      <th>customer_id</th>\n",
              "      <th>customer_unique_id</th>\n",
              "      <th>customer_zip_code_prefix</th>\n",
              "      <th>customer_city</th>\n",
              "      <th>customer_state</th>\n",
              "    </tr>\n",
              "  </thead>\n",
              "  <tbody>\n",
              "    <tr>\n",
              "      <th>nunique</th>\n",
              "      <td>99441</td>\n",
              "      <td>96096</td>\n",
              "      <td>14994</td>\n",
              "      <td>4119</td>\n",
              "      <td>27</td>\n",
              "    </tr>\n",
              "    <tr>\n",
              "      <th>count</th>\n",
              "      <td>99441</td>\n",
              "      <td>99441</td>\n",
              "      <td>99441</td>\n",
              "      <td>99441</td>\n",
              "      <td>99441</td>\n",
              "    </tr>\n",
              "    <tr>\n",
              "      <th>size</th>\n",
              "      <td>99441</td>\n",
              "      <td>99441</td>\n",
              "      <td>99441</td>\n",
              "      <td>99441</td>\n",
              "      <td>99441</td>\n",
              "    </tr>\n",
              "  </tbody>\n",
              "</table>\n",
              "</div>"
            ],
            "text/plain": [
              "         customer_id  customer_unique_id  ...  customer_city  customer_state\n",
              "nunique        99441               96096  ...           4119              27\n",
              "count          99441               99441  ...          99441           99441\n",
              "size           99441               99441  ...          99441           99441\n",
              "\n",
              "[3 rows x 5 columns]"
            ]
          },
          "metadata": {
            "tags": []
          },
          "execution_count": 10
        }
      ]
    },
    {
      "cell_type": "markdown",
      "metadata": {
        "id": "kV4acYZHKMiZ"
      },
      "source": [
        "### Info - Negócio"
      ]
    },
    {
      "cell_type": "code",
      "metadata": {
        "id": "jZlTny90JtkY",
        "colab": {
          "base_uri": "https://localhost:8080/",
          "height": 106
        },
        "outputId": "0f220290-0a9f-4d7c-d260-9cba62b66ad0"
      },
      "source": [
        "df_clientes.head(2)"
      ],
      "execution_count": null,
      "outputs": [
        {
          "output_type": "execute_result",
          "data": {
            "text/html": [
              "<div>\n",
              "<style scoped>\n",
              "    .dataframe tbody tr th:only-of-type {\n",
              "        vertical-align: middle;\n",
              "    }\n",
              "\n",
              "    .dataframe tbody tr th {\n",
              "        vertical-align: top;\n",
              "    }\n",
              "\n",
              "    .dataframe thead th {\n",
              "        text-align: right;\n",
              "    }\n",
              "</style>\n",
              "<table border=\"1\" class=\"dataframe\">\n",
              "  <thead>\n",
              "    <tr style=\"text-align: right;\">\n",
              "      <th></th>\n",
              "      <th>customer_id</th>\n",
              "      <th>customer_unique_id</th>\n",
              "      <th>customer_zip_code_prefix</th>\n",
              "      <th>customer_city</th>\n",
              "      <th>customer_state</th>\n",
              "    </tr>\n",
              "  </thead>\n",
              "  <tbody>\n",
              "    <tr>\n",
              "      <th>0</th>\n",
              "      <td>06b8999e2fba1a1fbc88172c00ba8bc7</td>\n",
              "      <td>861eff4711a542e4b93843c6dd7febb0</td>\n",
              "      <td>14409</td>\n",
              "      <td>franca</td>\n",
              "      <td>SP</td>\n",
              "    </tr>\n",
              "    <tr>\n",
              "      <th>1</th>\n",
              "      <td>18955e83d337fd6b2def6b18a428ac77</td>\n",
              "      <td>290c77bc529b7ac935b93aa66c333dc3</td>\n",
              "      <td>9790</td>\n",
              "      <td>sao bernardo do campo</td>\n",
              "      <td>SP</td>\n",
              "    </tr>\n",
              "  </tbody>\n",
              "</table>\n",
              "</div>"
            ],
            "text/plain": [
              "                        customer_id  ... customer_state\n",
              "0  06b8999e2fba1a1fbc88172c00ba8bc7  ...             SP\n",
              "1  18955e83d337fd6b2def6b18a428ac77  ...             SP\n",
              "\n",
              "[2 rows x 5 columns]"
            ]
          },
          "metadata": {
            "tags": []
          },
          "execution_count": 11
        }
      ]
    },
    {
      "cell_type": "code",
      "metadata": {
        "id": "ZfF9oCHfKZO-",
        "colab": {
          "base_uri": "https://localhost:8080/"
        },
        "outputId": "65975700-1ac4-4ada-8ad2-9faca6c2e410"
      },
      "source": [
        "# Quantos clientes unicos\n",
        "print( 'Qtd. de clientes únicos', df_clientes.customer_unique_id.nunique())"
      ],
      "execution_count": null,
      "outputs": [
        {
          "output_type": "stream",
          "text": [
            "Qtd. de clientes únicos 96096\n"
          ],
          "name": "stdout"
        }
      ]
    },
    {
      "cell_type": "code",
      "metadata": {
        "id": "ASskK7ZXLIhC",
        "colab": {
          "base_uri": "https://localhost:8080/"
        },
        "outputId": "e18c7fd3-25cc-4b0b-f928-734798a9ed25"
      },
      "source": [
        "# Valeu Lore!\n",
        "df_clientes_unique = df_clientes.drop_duplicates('customer_unique_id', keep='first')\n",
        "df_clientes_unique.shape"
      ],
      "execution_count": null,
      "outputs": [
        {
          "output_type": "execute_result",
          "data": {
            "text/plain": [
              "(96096, 5)"
            ]
          },
          "metadata": {
            "tags": []
          },
          "execution_count": 13
        }
      ]
    },
    {
      "cell_type": "code",
      "metadata": {
        "id": "EoZ1Vx5fMGWA",
        "colab": {
          "base_uri": "https://localhost:8080/",
          "height": 135
        },
        "outputId": "1b5360b4-98ba-4fd8-9ccb-71650cb3597b"
      },
      "source": [
        "df_clientes_unique.head(3)"
      ],
      "execution_count": null,
      "outputs": [
        {
          "output_type": "execute_result",
          "data": {
            "text/html": [
              "<div>\n",
              "<style scoped>\n",
              "    .dataframe tbody tr th:only-of-type {\n",
              "        vertical-align: middle;\n",
              "    }\n",
              "\n",
              "    .dataframe tbody tr th {\n",
              "        vertical-align: top;\n",
              "    }\n",
              "\n",
              "    .dataframe thead th {\n",
              "        text-align: right;\n",
              "    }\n",
              "</style>\n",
              "<table border=\"1\" class=\"dataframe\">\n",
              "  <thead>\n",
              "    <tr style=\"text-align: right;\">\n",
              "      <th></th>\n",
              "      <th>customer_id</th>\n",
              "      <th>customer_unique_id</th>\n",
              "      <th>customer_zip_code_prefix</th>\n",
              "      <th>customer_city</th>\n",
              "      <th>customer_state</th>\n",
              "    </tr>\n",
              "  </thead>\n",
              "  <tbody>\n",
              "    <tr>\n",
              "      <th>0</th>\n",
              "      <td>06b8999e2fba1a1fbc88172c00ba8bc7</td>\n",
              "      <td>861eff4711a542e4b93843c6dd7febb0</td>\n",
              "      <td>14409</td>\n",
              "      <td>franca</td>\n",
              "      <td>SP</td>\n",
              "    </tr>\n",
              "    <tr>\n",
              "      <th>1</th>\n",
              "      <td>18955e83d337fd6b2def6b18a428ac77</td>\n",
              "      <td>290c77bc529b7ac935b93aa66c333dc3</td>\n",
              "      <td>9790</td>\n",
              "      <td>sao bernardo do campo</td>\n",
              "      <td>SP</td>\n",
              "    </tr>\n",
              "    <tr>\n",
              "      <th>2</th>\n",
              "      <td>4e7b3e00288586ebd08712fdd0374a03</td>\n",
              "      <td>060e732b5b29e8181a18229c7b0b2b5e</td>\n",
              "      <td>1151</td>\n",
              "      <td>sao paulo</td>\n",
              "      <td>SP</td>\n",
              "    </tr>\n",
              "  </tbody>\n",
              "</table>\n",
              "</div>"
            ],
            "text/plain": [
              "                        customer_id  ... customer_state\n",
              "0  06b8999e2fba1a1fbc88172c00ba8bc7  ...             SP\n",
              "1  18955e83d337fd6b2def6b18a428ac77  ...             SP\n",
              "2  4e7b3e00288586ebd08712fdd0374a03  ...             SP\n",
              "\n",
              "[3 rows x 5 columns]"
            ]
          },
          "metadata": {
            "tags": []
          },
          "execution_count": 14
        }
      ]
    },
    {
      "cell_type": "markdown",
      "metadata": {
        "id": "Y750yc4fK_b6"
      },
      "source": [
        "Top 5 **estados**"
      ]
    },
    {
      "cell_type": "code",
      "metadata": {
        "id": "Mrymc9qXKxeu",
        "colab": {
          "base_uri": "https://localhost:8080/"
        },
        "outputId": "fa260126-e27e-44fe-b46e-7949b245ee68"
      },
      "source": [
        "df_top5_estados = df_clientes_unique.customer_state.value_counts().head(5)\n",
        "df_top5_estados"
      ],
      "execution_count": null,
      "outputs": [
        {
          "output_type": "execute_result",
          "data": {
            "text/plain": [
              "SP    40295\n",
              "RJ    12377\n",
              "MG    11255\n",
              "RS     5277\n",
              "PR     4882\n",
              "Name: customer_state, dtype: int64"
            ]
          },
          "metadata": {
            "tags": []
          },
          "execution_count": 15
        }
      ]
    },
    {
      "cell_type": "code",
      "metadata": {
        "id": "oh94DqBnLyzp",
        "colab": {
          "base_uri": "https://localhost:8080/",
          "height": 542
        },
        "outputId": "6260d6f5-a620-4772-b8bf-be3897b7d4d5"
      },
      "source": [
        "import plotly.express as px\n",
        "\n",
        "fig = px.bar(df_top5_estados, y='customer_state', title='Cinco estados com mais clientes', labels={'customer_state': 'Número de Clientes', 'index':'Estado (BR)'})\n",
        "gitly.show( fig )"
      ],
      "execution_count": null,
      "outputs": [
        {
          "output_type": "display_data",
          "data": {
            "text/html": [
              "<html>\n",
              "<head><meta charset=\"utf-8\" /></head>\n",
              "<body>\n",
              "    <div>            <script src=\"https://cdnjs.cloudflare.com/ajax/libs/mathjax/2.7.5/MathJax.js?config=TeX-AMS-MML_SVG\"></script><script type=\"text/javascript\">if (window.MathJax) {MathJax.Hub.Config({SVG: {font: \"STIX-Web\"}});}</script>                <script type=\"text/javascript\">window.PlotlyConfig = {MathJaxConfig: 'local'};</script>\n",
              "        <script src=\"https://cdn.plot.ly/plotly-latest.min.js\"></script>                <div id=\"561642bc-61ca-4e18-bf5f-20c1ed48f917\" class=\"plotly-graph-div\" style=\"height:525px; width:100%;\"></div>            <script type=\"text/javascript\">                                    window.PLOTLYENV=window.PLOTLYENV || {};                                    if (document.getElementById(\"561642bc-61ca-4e18-bf5f-20c1ed48f917\")) {                    Plotly.newPlot(                        \"561642bc-61ca-4e18-bf5f-20c1ed48f917\",                        [{\"alignmentgroup\": \"True\", \"hovertemplate\": \"Estado (BR)=%{x}<br>N\\u00famero de Clientes=%{y}<extra></extra>\", \"legendgroup\": \"\", \"marker\": {\"color\": \"#636efa\"}, \"name\": \"\", \"offsetgroup\": \"\", \"orientation\": \"v\", \"showlegend\": false, \"textposition\": \"auto\", \"type\": \"bar\", \"x\": [\"SP\", \"RJ\", \"MG\", \"RS\", \"PR\"], \"xaxis\": \"x\", \"y\": [40295, 12377, 11255, 5277, 4882], \"yaxis\": \"y\"}],                        {\"barmode\": \"relative\", \"legend\": {\"tracegroupgap\": 0}, \"template\": {\"data\": {\"bar\": [{\"error_x\": {\"color\": \"#2a3f5f\"}, \"error_y\": {\"color\": \"#2a3f5f\"}, \"marker\": {\"line\": {\"color\": \"#E5ECF6\", \"width\": 0.5}}, \"type\": \"bar\"}], \"barpolar\": [{\"marker\": {\"line\": {\"color\": \"#E5ECF6\", \"width\": 0.5}}, \"type\": \"barpolar\"}], \"carpet\": [{\"aaxis\": {\"endlinecolor\": \"#2a3f5f\", \"gridcolor\": \"white\", \"linecolor\": \"white\", \"minorgridcolor\": \"white\", \"startlinecolor\": \"#2a3f5f\"}, \"baxis\": {\"endlinecolor\": \"#2a3f5f\", \"gridcolor\": \"white\", \"linecolor\": \"white\", \"minorgridcolor\": \"white\", \"startlinecolor\": \"#2a3f5f\"}, \"type\": \"carpet\"}], \"choropleth\": [{\"colorbar\": {\"outlinewidth\": 0, \"ticks\": \"\"}, \"type\": \"choropleth\"}], \"contour\": [{\"colorbar\": {\"outlinewidth\": 0, \"ticks\": \"\"}, \"colorscale\": [[0.0, \"#0d0887\"], [0.1111111111111111, \"#46039f\"], [0.2222222222222222, \"#7201a8\"], [0.3333333333333333, \"#9c179e\"], [0.4444444444444444, \"#bd3786\"], [0.5555555555555556, \"#d8576b\"], [0.6666666666666666, \"#ed7953\"], [0.7777777777777778, \"#fb9f3a\"], [0.8888888888888888, \"#fdca26\"], [1.0, \"#f0f921\"]], \"type\": \"contour\"}], \"contourcarpet\": [{\"colorbar\": {\"outlinewidth\": 0, \"ticks\": \"\"}, \"type\": \"contourcarpet\"}], \"heatmap\": [{\"colorbar\": {\"outlinewidth\": 0, \"ticks\": \"\"}, \"colorscale\": [[0.0, \"#0d0887\"], [0.1111111111111111, \"#46039f\"], [0.2222222222222222, \"#7201a8\"], [0.3333333333333333, \"#9c179e\"], [0.4444444444444444, \"#bd3786\"], [0.5555555555555556, \"#d8576b\"], [0.6666666666666666, \"#ed7953\"], [0.7777777777777778, \"#fb9f3a\"], [0.8888888888888888, \"#fdca26\"], [1.0, \"#f0f921\"]], \"type\": \"heatmap\"}], \"heatmapgl\": [{\"colorbar\": {\"outlinewidth\": 0, \"ticks\": \"\"}, \"colorscale\": [[0.0, \"#0d0887\"], [0.1111111111111111, \"#46039f\"], [0.2222222222222222, \"#7201a8\"], [0.3333333333333333, \"#9c179e\"], [0.4444444444444444, \"#bd3786\"], [0.5555555555555556, \"#d8576b\"], [0.6666666666666666, \"#ed7953\"], [0.7777777777777778, \"#fb9f3a\"], [0.8888888888888888, \"#fdca26\"], [1.0, \"#f0f921\"]], \"type\": \"heatmapgl\"}], \"histogram\": [{\"marker\": {\"colorbar\": {\"outlinewidth\": 0, \"ticks\": \"\"}}, \"type\": \"histogram\"}], \"histogram2d\": [{\"colorbar\": {\"outlinewidth\": 0, \"ticks\": \"\"}, \"colorscale\": [[0.0, \"#0d0887\"], [0.1111111111111111, \"#46039f\"], [0.2222222222222222, \"#7201a8\"], [0.3333333333333333, \"#9c179e\"], [0.4444444444444444, \"#bd3786\"], [0.5555555555555556, \"#d8576b\"], [0.6666666666666666, \"#ed7953\"], [0.7777777777777778, \"#fb9f3a\"], [0.8888888888888888, \"#fdca26\"], [1.0, \"#f0f921\"]], \"type\": \"histogram2d\"}], \"histogram2dcontour\": [{\"colorbar\": {\"outlinewidth\": 0, \"ticks\": \"\"}, \"colorscale\": [[0.0, \"#0d0887\"], [0.1111111111111111, \"#46039f\"], [0.2222222222222222, \"#7201a8\"], [0.3333333333333333, \"#9c179e\"], [0.4444444444444444, \"#bd3786\"], [0.5555555555555556, \"#d8576b\"], [0.6666666666666666, \"#ed7953\"], [0.7777777777777778, \"#fb9f3a\"], [0.8888888888888888, \"#fdca26\"], [1.0, \"#f0f921\"]], \"type\": \"histogram2dcontour\"}], \"mesh3d\": [{\"colorbar\": {\"outlinewidth\": 0, \"ticks\": \"\"}, \"type\": \"mesh3d\"}], \"parcoords\": [{\"line\": {\"colorbar\": {\"outlinewidth\": 0, \"ticks\": \"\"}}, \"type\": \"parcoords\"}], \"pie\": [{\"automargin\": true, \"type\": \"pie\"}], \"scatter\": [{\"marker\": {\"colorbar\": {\"outlinewidth\": 0, \"ticks\": \"\"}}, \"type\": \"scatter\"}], \"scatter3d\": [{\"line\": {\"colorbar\": {\"outlinewidth\": 0, \"ticks\": \"\"}}, \"marker\": {\"colorbar\": {\"outlinewidth\": 0, \"ticks\": \"\"}}, \"type\": \"scatter3d\"}], \"scattercarpet\": [{\"marker\": {\"colorbar\": {\"outlinewidth\": 0, \"ticks\": \"\"}}, \"type\": \"scattercarpet\"}], \"scattergeo\": [{\"marker\": {\"colorbar\": {\"outlinewidth\": 0, \"ticks\": \"\"}}, \"type\": \"scattergeo\"}], \"scattergl\": [{\"marker\": {\"colorbar\": {\"outlinewidth\": 0, \"ticks\": \"\"}}, \"type\": \"scattergl\"}], \"scattermapbox\": [{\"marker\": {\"colorbar\": {\"outlinewidth\": 0, \"ticks\": \"\"}}, \"type\": \"scattermapbox\"}], \"scatterpolar\": [{\"marker\": {\"colorbar\": {\"outlinewidth\": 0, \"ticks\": \"\"}}, \"type\": \"scatterpolar\"}], \"scatterpolargl\": [{\"marker\": {\"colorbar\": {\"outlinewidth\": 0, \"ticks\": \"\"}}, \"type\": \"scatterpolargl\"}], \"scatterternary\": [{\"marker\": {\"colorbar\": {\"outlinewidth\": 0, \"ticks\": \"\"}}, \"type\": \"scatterternary\"}], \"surface\": [{\"colorbar\": {\"outlinewidth\": 0, \"ticks\": \"\"}, \"colorscale\": [[0.0, \"#0d0887\"], [0.1111111111111111, \"#46039f\"], [0.2222222222222222, \"#7201a8\"], [0.3333333333333333, \"#9c179e\"], [0.4444444444444444, \"#bd3786\"], [0.5555555555555556, \"#d8576b\"], [0.6666666666666666, \"#ed7953\"], [0.7777777777777778, \"#fb9f3a\"], [0.8888888888888888, \"#fdca26\"], [1.0, \"#f0f921\"]], \"type\": \"surface\"}], \"table\": [{\"cells\": {\"fill\": {\"color\": \"#EBF0F8\"}, \"line\": {\"color\": \"white\"}}, \"header\": {\"fill\": {\"color\": \"#C8D4E3\"}, \"line\": {\"color\": \"white\"}}, \"type\": \"table\"}]}, \"layout\": {\"annotationdefaults\": {\"arrowcolor\": \"#2a3f5f\", \"arrowhead\": 0, \"arrowwidth\": 1}, \"autotypenumbers\": \"strict\", \"coloraxis\": {\"colorbar\": {\"outlinewidth\": 0, \"ticks\": \"\"}}, \"colorscale\": {\"diverging\": [[0, \"#8e0152\"], [0.1, \"#c51b7d\"], [0.2, \"#de77ae\"], [0.3, \"#f1b6da\"], [0.4, \"#fde0ef\"], [0.5, \"#f7f7f7\"], [0.6, \"#e6f5d0\"], [0.7, \"#b8e186\"], [0.8, \"#7fbc41\"], [0.9, \"#4d9221\"], [1, \"#276419\"]], \"sequential\": [[0.0, \"#0d0887\"], [0.1111111111111111, \"#46039f\"], [0.2222222222222222, \"#7201a8\"], [0.3333333333333333, \"#9c179e\"], [0.4444444444444444, \"#bd3786\"], [0.5555555555555556, \"#d8576b\"], [0.6666666666666666, \"#ed7953\"], [0.7777777777777778, \"#fb9f3a\"], [0.8888888888888888, \"#fdca26\"], [1.0, \"#f0f921\"]], \"sequentialminus\": [[0.0, \"#0d0887\"], [0.1111111111111111, \"#46039f\"], [0.2222222222222222, \"#7201a8\"], [0.3333333333333333, \"#9c179e\"], [0.4444444444444444, \"#bd3786\"], [0.5555555555555556, \"#d8576b\"], [0.6666666666666666, \"#ed7953\"], [0.7777777777777778, \"#fb9f3a\"], [0.8888888888888888, \"#fdca26\"], [1.0, \"#f0f921\"]]}, \"colorway\": [\"#636efa\", \"#EF553B\", \"#00cc96\", \"#ab63fa\", \"#FFA15A\", \"#19d3f3\", \"#FF6692\", \"#B6E880\", \"#FF97FF\", \"#FECB52\"], \"font\": {\"color\": \"#2a3f5f\"}, \"geo\": {\"bgcolor\": \"white\", \"lakecolor\": \"white\", \"landcolor\": \"#E5ECF6\", \"showlakes\": true, \"showland\": true, \"subunitcolor\": \"white\"}, \"hoverlabel\": {\"align\": \"left\"}, \"hovermode\": \"closest\", \"mapbox\": {\"style\": \"light\"}, \"paper_bgcolor\": \"white\", \"plot_bgcolor\": \"#E5ECF6\", \"polar\": {\"angularaxis\": {\"gridcolor\": \"white\", \"linecolor\": \"white\", \"ticks\": \"\"}, \"bgcolor\": \"#E5ECF6\", \"radialaxis\": {\"gridcolor\": \"white\", \"linecolor\": \"white\", \"ticks\": \"\"}}, \"scene\": {\"xaxis\": {\"backgroundcolor\": \"#E5ECF6\", \"gridcolor\": \"white\", \"gridwidth\": 2, \"linecolor\": \"white\", \"showbackground\": true, \"ticks\": \"\", \"zerolinecolor\": \"white\"}, \"yaxis\": {\"backgroundcolor\": \"#E5ECF6\", \"gridcolor\": \"white\", \"gridwidth\": 2, \"linecolor\": \"white\", \"showbackground\": true, \"ticks\": \"\", \"zerolinecolor\": \"white\"}, \"zaxis\": {\"backgroundcolor\": \"#E5ECF6\", \"gridcolor\": \"white\", \"gridwidth\": 2, \"linecolor\": \"white\", \"showbackground\": true, \"ticks\": \"\", \"zerolinecolor\": \"white\"}}, \"shapedefaults\": {\"line\": {\"color\": \"#2a3f5f\"}}, \"ternary\": {\"aaxis\": {\"gridcolor\": \"white\", \"linecolor\": \"white\", \"ticks\": \"\"}, \"baxis\": {\"gridcolor\": \"white\", \"linecolor\": \"white\", \"ticks\": \"\"}, \"bgcolor\": \"#E5ECF6\", \"caxis\": {\"gridcolor\": \"white\", \"linecolor\": \"white\", \"ticks\": \"\"}}, \"title\": {\"x\": 0.05}, \"xaxis\": {\"automargin\": true, \"gridcolor\": \"white\", \"linecolor\": \"white\", \"ticks\": \"\", \"title\": {\"standoff\": 15}, \"zerolinecolor\": \"white\", \"zerolinewidth\": 2}, \"yaxis\": {\"automargin\": true, \"gridcolor\": \"white\", \"linecolor\": \"white\", \"ticks\": \"\", \"title\": {\"standoff\": 15}, \"zerolinecolor\": \"white\", \"zerolinewidth\": 2}}}, \"title\": {\"text\": \"Cinco estados com mais clientes\"}, \"xaxis\": {\"anchor\": \"y\", \"domain\": [0.0, 1.0], \"title\": {\"text\": \"Estado (BR)\"}}, \"yaxis\": {\"anchor\": \"x\", \"domain\": [0.0, 1.0], \"title\": {\"text\": \"N\\u00famero de Clientes\"}}},                        {\"responsive\": true}                    ).then(function(){\n",
              "                            \n",
              "var gd = document.getElementById('561642bc-61ca-4e18-bf5f-20c1ed48f917');\n",
              "var x = new MutationObserver(function (mutations, observer) {{\n",
              "        var display = window.getComputedStyle(gd).display;\n",
              "        if (!display || display === 'none') {{\n",
              "            console.log([gd, 'removed!']);\n",
              "            Plotly.purge(gd);\n",
              "            observer.disconnect();\n",
              "        }}\n",
              "}});\n",
              "\n",
              "// Listen for the removal of the full notebook cells\n",
              "var notebookContainer = gd.closest('#notebook-container');\n",
              "if (notebookContainer) {{\n",
              "    x.observe(notebookContainer, {childList: true});\n",
              "}}\n",
              "\n",
              "// Listen for the clearing of the current output cell\n",
              "var outputEl = gd.closest('.output');\n",
              "if (outputEl) {{\n",
              "    x.observe(outputEl, {childList: true});\n",
              "}}\n",
              "\n",
              "                        })                };                            </script>        </div>\n",
              "</body>\n",
              "</html>"
            ]
          },
          "metadata": {
            "tags": []
          }
        }
      ]
    },
    {
      "cell_type": "markdown",
      "metadata": {
        "id": "2AagTnPgPFVQ"
      },
      "source": [
        "Top 5 **cidades**"
      ]
    },
    {
      "cell_type": "code",
      "metadata": {
        "id": "K96EAhnsNhuu",
        "colab": {
          "base_uri": "https://localhost:8080/"
        },
        "outputId": "8e5dff7c-ea48-4a60-a3d1-5e7ee08ff9ea"
      },
      "source": [
        "df_top5_cidade = df_clientes_unique.customer_city.value_counts().head(5)\n",
        "df_top5_cidade"
      ],
      "execution_count": null,
      "outputs": [
        {
          "output_type": "execute_result",
          "data": {
            "text/plain": [
              "sao paulo         14971\n",
              "rio de janeiro     6611\n",
              "belo horizonte     2671\n",
              "brasilia           2066\n",
              "curitiba           1462\n",
              "Name: customer_city, dtype: int64"
            ]
          },
          "metadata": {
            "tags": []
          },
          "execution_count": 17
        }
      ]
    },
    {
      "cell_type": "code",
      "metadata": {
        "id": "We-JrQjBPQXL",
        "colab": {
          "base_uri": "https://localhost:8080/",
          "height": 542
        },
        "outputId": "095c5417-893f-4543-9b7c-046a081a3649"
      },
      "source": [
        "fig = px.bar(df_top5_cidade, y='customer_city', title='Cinco cidades com mais clientes', labels={'customer_city': 'Número de Clientes', 'index':'Cidades'})\n",
        "gitly.show( fig )"
      ],
      "execution_count": null,
      "outputs": [
        {
          "output_type": "display_data",
          "data": {
            "text/html": [
              "<html>\n",
              "<head><meta charset=\"utf-8\" /></head>\n",
              "<body>\n",
              "    <div>            <script src=\"https://cdnjs.cloudflare.com/ajax/libs/mathjax/2.7.5/MathJax.js?config=TeX-AMS-MML_SVG\"></script><script type=\"text/javascript\">if (window.MathJax) {MathJax.Hub.Config({SVG: {font: \"STIX-Web\"}});}</script>                <script type=\"text/javascript\">window.PlotlyConfig = {MathJaxConfig: 'local'};</script>\n",
              "        <script src=\"https://cdn.plot.ly/plotly-latest.min.js\"></script>                <div id=\"3c99130a-9765-4181-8f05-fe168a395af9\" class=\"plotly-graph-div\" style=\"height:525px; width:100%;\"></div>            <script type=\"text/javascript\">                                    window.PLOTLYENV=window.PLOTLYENV || {};                                    if (document.getElementById(\"3c99130a-9765-4181-8f05-fe168a395af9\")) {                    Plotly.newPlot(                        \"3c99130a-9765-4181-8f05-fe168a395af9\",                        [{\"alignmentgroup\": \"True\", \"hovertemplate\": \"Cidades=%{x}<br>N\\u00famero de Clientes=%{y}<extra></extra>\", \"legendgroup\": \"\", \"marker\": {\"color\": \"#636efa\"}, \"name\": \"\", \"offsetgroup\": \"\", \"orientation\": \"v\", \"showlegend\": false, \"textposition\": \"auto\", \"type\": \"bar\", \"x\": [\"sao paulo\", \"rio de janeiro\", \"belo horizonte\", \"brasilia\", \"curitiba\"], \"xaxis\": \"x\", \"y\": [14971, 6611, 2671, 2066, 1462], \"yaxis\": \"y\"}],                        {\"barmode\": \"relative\", \"legend\": {\"tracegroupgap\": 0}, \"template\": {\"data\": {\"bar\": [{\"error_x\": {\"color\": \"#2a3f5f\"}, \"error_y\": {\"color\": \"#2a3f5f\"}, \"marker\": {\"line\": {\"color\": \"#E5ECF6\", \"width\": 0.5}}, \"type\": \"bar\"}], \"barpolar\": [{\"marker\": {\"line\": {\"color\": \"#E5ECF6\", \"width\": 0.5}}, \"type\": \"barpolar\"}], \"carpet\": [{\"aaxis\": {\"endlinecolor\": \"#2a3f5f\", \"gridcolor\": \"white\", \"linecolor\": \"white\", \"minorgridcolor\": \"white\", \"startlinecolor\": \"#2a3f5f\"}, \"baxis\": {\"endlinecolor\": \"#2a3f5f\", \"gridcolor\": \"white\", \"linecolor\": \"white\", \"minorgridcolor\": \"white\", \"startlinecolor\": \"#2a3f5f\"}, \"type\": \"carpet\"}], \"choropleth\": [{\"colorbar\": {\"outlinewidth\": 0, \"ticks\": \"\"}, \"type\": \"choropleth\"}], \"contour\": [{\"colorbar\": {\"outlinewidth\": 0, \"ticks\": \"\"}, \"colorscale\": [[0.0, \"#0d0887\"], [0.1111111111111111, \"#46039f\"], [0.2222222222222222, \"#7201a8\"], [0.3333333333333333, \"#9c179e\"], [0.4444444444444444, \"#bd3786\"], [0.5555555555555556, \"#d8576b\"], [0.6666666666666666, \"#ed7953\"], [0.7777777777777778, \"#fb9f3a\"], [0.8888888888888888, \"#fdca26\"], [1.0, \"#f0f921\"]], \"type\": \"contour\"}], \"contourcarpet\": [{\"colorbar\": {\"outlinewidth\": 0, \"ticks\": \"\"}, \"type\": \"contourcarpet\"}], \"heatmap\": [{\"colorbar\": {\"outlinewidth\": 0, \"ticks\": \"\"}, \"colorscale\": [[0.0, \"#0d0887\"], [0.1111111111111111, \"#46039f\"], [0.2222222222222222, \"#7201a8\"], [0.3333333333333333, \"#9c179e\"], [0.4444444444444444, \"#bd3786\"], [0.5555555555555556, \"#d8576b\"], [0.6666666666666666, \"#ed7953\"], [0.7777777777777778, \"#fb9f3a\"], [0.8888888888888888, \"#fdca26\"], [1.0, \"#f0f921\"]], \"type\": \"heatmap\"}], \"heatmapgl\": [{\"colorbar\": {\"outlinewidth\": 0, \"ticks\": \"\"}, \"colorscale\": [[0.0, \"#0d0887\"], [0.1111111111111111, \"#46039f\"], [0.2222222222222222, \"#7201a8\"], [0.3333333333333333, \"#9c179e\"], [0.4444444444444444, \"#bd3786\"], [0.5555555555555556, \"#d8576b\"], [0.6666666666666666, \"#ed7953\"], [0.7777777777777778, \"#fb9f3a\"], [0.8888888888888888, \"#fdca26\"], [1.0, \"#f0f921\"]], \"type\": \"heatmapgl\"}], \"histogram\": [{\"marker\": {\"colorbar\": {\"outlinewidth\": 0, \"ticks\": \"\"}}, \"type\": \"histogram\"}], \"histogram2d\": [{\"colorbar\": {\"outlinewidth\": 0, \"ticks\": \"\"}, \"colorscale\": [[0.0, \"#0d0887\"], [0.1111111111111111, \"#46039f\"], [0.2222222222222222, \"#7201a8\"], [0.3333333333333333, \"#9c179e\"], [0.4444444444444444, \"#bd3786\"], [0.5555555555555556, \"#d8576b\"], [0.6666666666666666, \"#ed7953\"], [0.7777777777777778, \"#fb9f3a\"], [0.8888888888888888, \"#fdca26\"], [1.0, \"#f0f921\"]], \"type\": \"histogram2d\"}], \"histogram2dcontour\": [{\"colorbar\": {\"outlinewidth\": 0, \"ticks\": \"\"}, \"colorscale\": [[0.0, \"#0d0887\"], [0.1111111111111111, \"#46039f\"], [0.2222222222222222, \"#7201a8\"], [0.3333333333333333, \"#9c179e\"], [0.4444444444444444, \"#bd3786\"], [0.5555555555555556, \"#d8576b\"], [0.6666666666666666, \"#ed7953\"], [0.7777777777777778, \"#fb9f3a\"], [0.8888888888888888, \"#fdca26\"], [1.0, \"#f0f921\"]], \"type\": \"histogram2dcontour\"}], \"mesh3d\": [{\"colorbar\": {\"outlinewidth\": 0, \"ticks\": \"\"}, \"type\": \"mesh3d\"}], \"parcoords\": [{\"line\": {\"colorbar\": {\"outlinewidth\": 0, \"ticks\": \"\"}}, \"type\": \"parcoords\"}], \"pie\": [{\"automargin\": true, \"type\": \"pie\"}], \"scatter\": [{\"marker\": {\"colorbar\": {\"outlinewidth\": 0, \"ticks\": \"\"}}, \"type\": \"scatter\"}], \"scatter3d\": [{\"line\": {\"colorbar\": {\"outlinewidth\": 0, \"ticks\": \"\"}}, \"marker\": {\"colorbar\": {\"outlinewidth\": 0, \"ticks\": \"\"}}, \"type\": \"scatter3d\"}], \"scattercarpet\": [{\"marker\": {\"colorbar\": {\"outlinewidth\": 0, \"ticks\": \"\"}}, \"type\": \"scattercarpet\"}], \"scattergeo\": [{\"marker\": {\"colorbar\": {\"outlinewidth\": 0, \"ticks\": \"\"}}, \"type\": \"scattergeo\"}], \"scattergl\": [{\"marker\": {\"colorbar\": {\"outlinewidth\": 0, \"ticks\": \"\"}}, \"type\": \"scattergl\"}], \"scattermapbox\": [{\"marker\": {\"colorbar\": {\"outlinewidth\": 0, \"ticks\": \"\"}}, \"type\": \"scattermapbox\"}], \"scatterpolar\": [{\"marker\": {\"colorbar\": {\"outlinewidth\": 0, \"ticks\": \"\"}}, \"type\": \"scatterpolar\"}], \"scatterpolargl\": [{\"marker\": {\"colorbar\": {\"outlinewidth\": 0, \"ticks\": \"\"}}, \"type\": \"scatterpolargl\"}], \"scatterternary\": [{\"marker\": {\"colorbar\": {\"outlinewidth\": 0, \"ticks\": \"\"}}, \"type\": \"scatterternary\"}], \"surface\": [{\"colorbar\": {\"outlinewidth\": 0, \"ticks\": \"\"}, \"colorscale\": [[0.0, \"#0d0887\"], [0.1111111111111111, \"#46039f\"], [0.2222222222222222, \"#7201a8\"], [0.3333333333333333, \"#9c179e\"], [0.4444444444444444, \"#bd3786\"], [0.5555555555555556, \"#d8576b\"], [0.6666666666666666, \"#ed7953\"], [0.7777777777777778, \"#fb9f3a\"], [0.8888888888888888, \"#fdca26\"], [1.0, \"#f0f921\"]], \"type\": \"surface\"}], \"table\": [{\"cells\": {\"fill\": {\"color\": \"#EBF0F8\"}, \"line\": {\"color\": \"white\"}}, \"header\": {\"fill\": {\"color\": \"#C8D4E3\"}, \"line\": {\"color\": \"white\"}}, \"type\": \"table\"}]}, \"layout\": {\"annotationdefaults\": {\"arrowcolor\": \"#2a3f5f\", \"arrowhead\": 0, \"arrowwidth\": 1}, \"autotypenumbers\": \"strict\", \"coloraxis\": {\"colorbar\": {\"outlinewidth\": 0, \"ticks\": \"\"}}, \"colorscale\": {\"diverging\": [[0, \"#8e0152\"], [0.1, \"#c51b7d\"], [0.2, \"#de77ae\"], [0.3, \"#f1b6da\"], [0.4, \"#fde0ef\"], [0.5, \"#f7f7f7\"], [0.6, \"#e6f5d0\"], [0.7, \"#b8e186\"], [0.8, \"#7fbc41\"], [0.9, \"#4d9221\"], [1, \"#276419\"]], \"sequential\": [[0.0, \"#0d0887\"], [0.1111111111111111, \"#46039f\"], [0.2222222222222222, \"#7201a8\"], [0.3333333333333333, \"#9c179e\"], [0.4444444444444444, \"#bd3786\"], [0.5555555555555556, \"#d8576b\"], [0.6666666666666666, \"#ed7953\"], [0.7777777777777778, \"#fb9f3a\"], [0.8888888888888888, \"#fdca26\"], [1.0, \"#f0f921\"]], \"sequentialminus\": [[0.0, \"#0d0887\"], [0.1111111111111111, \"#46039f\"], [0.2222222222222222, \"#7201a8\"], [0.3333333333333333, \"#9c179e\"], [0.4444444444444444, \"#bd3786\"], [0.5555555555555556, \"#d8576b\"], [0.6666666666666666, \"#ed7953\"], [0.7777777777777778, \"#fb9f3a\"], [0.8888888888888888, \"#fdca26\"], [1.0, \"#f0f921\"]]}, \"colorway\": [\"#636efa\", \"#EF553B\", \"#00cc96\", \"#ab63fa\", \"#FFA15A\", \"#19d3f3\", \"#FF6692\", \"#B6E880\", \"#FF97FF\", \"#FECB52\"], \"font\": {\"color\": \"#2a3f5f\"}, \"geo\": {\"bgcolor\": \"white\", \"lakecolor\": \"white\", \"landcolor\": \"#E5ECF6\", \"showlakes\": true, \"showland\": true, \"subunitcolor\": \"white\"}, \"hoverlabel\": {\"align\": \"left\"}, \"hovermode\": \"closest\", \"mapbox\": {\"style\": \"light\"}, \"paper_bgcolor\": \"white\", \"plot_bgcolor\": \"#E5ECF6\", \"polar\": {\"angularaxis\": {\"gridcolor\": \"white\", \"linecolor\": \"white\", \"ticks\": \"\"}, \"bgcolor\": \"#E5ECF6\", \"radialaxis\": {\"gridcolor\": \"white\", \"linecolor\": \"white\", \"ticks\": \"\"}}, \"scene\": {\"xaxis\": {\"backgroundcolor\": \"#E5ECF6\", \"gridcolor\": \"white\", \"gridwidth\": 2, \"linecolor\": \"white\", \"showbackground\": true, \"ticks\": \"\", \"zerolinecolor\": \"white\"}, \"yaxis\": {\"backgroundcolor\": \"#E5ECF6\", \"gridcolor\": \"white\", \"gridwidth\": 2, \"linecolor\": \"white\", \"showbackground\": true, \"ticks\": \"\", \"zerolinecolor\": \"white\"}, \"zaxis\": {\"backgroundcolor\": \"#E5ECF6\", \"gridcolor\": \"white\", \"gridwidth\": 2, \"linecolor\": \"white\", \"showbackground\": true, \"ticks\": \"\", \"zerolinecolor\": \"white\"}}, \"shapedefaults\": {\"line\": {\"color\": \"#2a3f5f\"}}, \"ternary\": {\"aaxis\": {\"gridcolor\": \"white\", \"linecolor\": \"white\", \"ticks\": \"\"}, \"baxis\": {\"gridcolor\": \"white\", \"linecolor\": \"white\", \"ticks\": \"\"}, \"bgcolor\": \"#E5ECF6\", \"caxis\": {\"gridcolor\": \"white\", \"linecolor\": \"white\", \"ticks\": \"\"}}, \"title\": {\"x\": 0.05}, \"xaxis\": {\"automargin\": true, \"gridcolor\": \"white\", \"linecolor\": \"white\", \"ticks\": \"\", \"title\": {\"standoff\": 15}, \"zerolinecolor\": \"white\", \"zerolinewidth\": 2}, \"yaxis\": {\"automargin\": true, \"gridcolor\": \"white\", \"linecolor\": \"white\", \"ticks\": \"\", \"title\": {\"standoff\": 15}, \"zerolinecolor\": \"white\", \"zerolinewidth\": 2}}}, \"title\": {\"text\": \"Cinco cidades com mais clientes\"}, \"xaxis\": {\"anchor\": \"y\", \"domain\": [0.0, 1.0], \"title\": {\"text\": \"Cidades\"}}, \"yaxis\": {\"anchor\": \"x\", \"domain\": [0.0, 1.0], \"title\": {\"text\": \"N\\u00famero de Clientes\"}}},                        {\"responsive\": true}                    ).then(function(){\n",
              "                            \n",
              "var gd = document.getElementById('3c99130a-9765-4181-8f05-fe168a395af9');\n",
              "var x = new MutationObserver(function (mutations, observer) {{\n",
              "        var display = window.getComputedStyle(gd).display;\n",
              "        if (!display || display === 'none') {{\n",
              "            console.log([gd, 'removed!']);\n",
              "            Plotly.purge(gd);\n",
              "            observer.disconnect();\n",
              "        }}\n",
              "}});\n",
              "\n",
              "// Listen for the removal of the full notebook cells\n",
              "var notebookContainer = gd.closest('#notebook-container');\n",
              "if (notebookContainer) {{\n",
              "    x.observe(notebookContainer, {childList: true});\n",
              "}}\n",
              "\n",
              "// Listen for the clearing of the current output cell\n",
              "var outputEl = gd.closest('.output');\n",
              "if (outputEl) {{\n",
              "    x.observe(outputEl, {childList: true});\n",
              "}}\n",
              "\n",
              "                        })                };                            </script>        </div>\n",
              "</body>\n",
              "</html>"
            ]
          },
          "metadata": {
            "tags": []
          }
        }
      ]
    },
    {
      "cell_type": "markdown",
      "metadata": {
        "id": "R6wYWdBjPqO-"
      },
      "source": [
        "Discussão"
      ]
    },
    {
      "cell_type": "code",
      "metadata": {
        "id": "wAYxQ_sVPsJf",
        "colab": {
          "base_uri": "https://localhost:8080/",
          "height": 542
        },
        "outputId": "95add3ba-0808-472b-d0bc-446cfe4660c1"
      },
      "source": [
        "from plotly.subplots import make_subplots\n",
        "\n",
        "fig = make_subplots( rows=1, cols=2, column_titles= ['Cidades com mais clientes', 'Estados com mais clientes'] )\n",
        "\n",
        "fig.add_bar( x=df_top5_cidade.index , y=df_top5_cidade, row=1, col=1 )\n",
        "fig.add_bar( x=df_top5_estados.index, y=df_top5_estados, row=1, col=2 )\n",
        "fig.update_layout( dict( {'title':'Clientes: Cidades vs Estados'} ) )\n",
        "fig.update_layout( dict( {'showlegend':False} ) )\n",
        "gitly.show(fig)"
      ],
      "execution_count": null,
      "outputs": [
        {
          "output_type": "display_data",
          "data": {
            "text/html": [
              "<html>\n",
              "<head><meta charset=\"utf-8\" /></head>\n",
              "<body>\n",
              "    <div>            <script src=\"https://cdnjs.cloudflare.com/ajax/libs/mathjax/2.7.5/MathJax.js?config=TeX-AMS-MML_SVG\"></script><script type=\"text/javascript\">if (window.MathJax) {MathJax.Hub.Config({SVG: {font: \"STIX-Web\"}});}</script>                <script type=\"text/javascript\">window.PlotlyConfig = {MathJaxConfig: 'local'};</script>\n",
              "        <script src=\"https://cdn.plot.ly/plotly-latest.min.js\"></script>                <div id=\"bd140fe4-10f6-40f4-b8b9-9d7263838fee\" class=\"plotly-graph-div\" style=\"height:525px; width:100%;\"></div>            <script type=\"text/javascript\">                                    window.PLOTLYENV=window.PLOTLYENV || {};                                    if (document.getElementById(\"bd140fe4-10f6-40f4-b8b9-9d7263838fee\")) {                    Plotly.newPlot(                        \"bd140fe4-10f6-40f4-b8b9-9d7263838fee\",                        [{\"type\": \"bar\", \"x\": [\"sao paulo\", \"rio de janeiro\", \"belo horizonte\", \"brasilia\", \"curitiba\"], \"xaxis\": \"x\", \"y\": [14971, 6611, 2671, 2066, 1462], \"yaxis\": \"y\"}, {\"type\": \"bar\", \"x\": [\"SP\", \"RJ\", \"MG\", \"RS\", \"PR\"], \"xaxis\": \"x2\", \"y\": [40295, 12377, 11255, 5277, 4882], \"yaxis\": \"y2\"}],                        {\"annotations\": [{\"font\": {\"size\": 16}, \"showarrow\": false, \"text\": \"Cidades com mais clientes\", \"x\": 0.225, \"xanchor\": \"center\", \"xref\": \"paper\", \"y\": 1.0, \"yanchor\": \"bottom\", \"yref\": \"paper\"}, {\"font\": {\"size\": 16}, \"showarrow\": false, \"text\": \"Estados com mais clientes\", \"x\": 0.775, \"xanchor\": \"center\", \"xref\": \"paper\", \"y\": 1.0, \"yanchor\": \"bottom\", \"yref\": \"paper\"}], \"showlegend\": false, \"template\": {\"data\": {\"bar\": [{\"error_x\": {\"color\": \"#2a3f5f\"}, \"error_y\": {\"color\": \"#2a3f5f\"}, \"marker\": {\"line\": {\"color\": \"#E5ECF6\", \"width\": 0.5}}, \"type\": \"bar\"}], \"barpolar\": [{\"marker\": {\"line\": {\"color\": \"#E5ECF6\", \"width\": 0.5}}, \"type\": \"barpolar\"}], \"carpet\": [{\"aaxis\": {\"endlinecolor\": \"#2a3f5f\", \"gridcolor\": \"white\", \"linecolor\": \"white\", \"minorgridcolor\": \"white\", \"startlinecolor\": \"#2a3f5f\"}, \"baxis\": {\"endlinecolor\": \"#2a3f5f\", \"gridcolor\": \"white\", \"linecolor\": \"white\", \"minorgridcolor\": \"white\", \"startlinecolor\": \"#2a3f5f\"}, \"type\": \"carpet\"}], \"choropleth\": [{\"colorbar\": {\"outlinewidth\": 0, \"ticks\": \"\"}, \"type\": \"choropleth\"}], \"contour\": [{\"colorbar\": {\"outlinewidth\": 0, \"ticks\": \"\"}, \"colorscale\": [[0.0, \"#0d0887\"], [0.1111111111111111, \"#46039f\"], [0.2222222222222222, \"#7201a8\"], [0.3333333333333333, \"#9c179e\"], [0.4444444444444444, \"#bd3786\"], [0.5555555555555556, \"#d8576b\"], [0.6666666666666666, \"#ed7953\"], [0.7777777777777778, \"#fb9f3a\"], [0.8888888888888888, \"#fdca26\"], [1.0, \"#f0f921\"]], \"type\": \"contour\"}], \"contourcarpet\": [{\"colorbar\": {\"outlinewidth\": 0, \"ticks\": \"\"}, \"type\": \"contourcarpet\"}], \"heatmap\": [{\"colorbar\": {\"outlinewidth\": 0, \"ticks\": \"\"}, \"colorscale\": [[0.0, \"#0d0887\"], [0.1111111111111111, \"#46039f\"], [0.2222222222222222, \"#7201a8\"], [0.3333333333333333, \"#9c179e\"], [0.4444444444444444, \"#bd3786\"], [0.5555555555555556, \"#d8576b\"], [0.6666666666666666, \"#ed7953\"], [0.7777777777777778, \"#fb9f3a\"], [0.8888888888888888, \"#fdca26\"], [1.0, \"#f0f921\"]], \"type\": \"heatmap\"}], \"heatmapgl\": [{\"colorbar\": {\"outlinewidth\": 0, \"ticks\": \"\"}, \"colorscale\": [[0.0, \"#0d0887\"], [0.1111111111111111, \"#46039f\"], [0.2222222222222222, \"#7201a8\"], [0.3333333333333333, \"#9c179e\"], [0.4444444444444444, \"#bd3786\"], [0.5555555555555556, \"#d8576b\"], [0.6666666666666666, \"#ed7953\"], [0.7777777777777778, \"#fb9f3a\"], [0.8888888888888888, \"#fdca26\"], [1.0, \"#f0f921\"]], \"type\": \"heatmapgl\"}], \"histogram\": [{\"marker\": {\"colorbar\": {\"outlinewidth\": 0, \"ticks\": \"\"}}, \"type\": \"histogram\"}], \"histogram2d\": [{\"colorbar\": {\"outlinewidth\": 0, \"ticks\": \"\"}, \"colorscale\": [[0.0, \"#0d0887\"], [0.1111111111111111, \"#46039f\"], [0.2222222222222222, \"#7201a8\"], [0.3333333333333333, \"#9c179e\"], [0.4444444444444444, \"#bd3786\"], [0.5555555555555556, \"#d8576b\"], [0.6666666666666666, \"#ed7953\"], [0.7777777777777778, \"#fb9f3a\"], [0.8888888888888888, \"#fdca26\"], [1.0, \"#f0f921\"]], \"type\": \"histogram2d\"}], \"histogram2dcontour\": [{\"colorbar\": {\"outlinewidth\": 0, \"ticks\": \"\"}, \"colorscale\": [[0.0, \"#0d0887\"], [0.1111111111111111, \"#46039f\"], [0.2222222222222222, \"#7201a8\"], [0.3333333333333333, \"#9c179e\"], [0.4444444444444444, \"#bd3786\"], [0.5555555555555556, \"#d8576b\"], [0.6666666666666666, \"#ed7953\"], [0.7777777777777778, \"#fb9f3a\"], [0.8888888888888888, \"#fdca26\"], [1.0, \"#f0f921\"]], \"type\": \"histogram2dcontour\"}], \"mesh3d\": [{\"colorbar\": {\"outlinewidth\": 0, \"ticks\": \"\"}, \"type\": \"mesh3d\"}], \"parcoords\": [{\"line\": {\"colorbar\": {\"outlinewidth\": 0, \"ticks\": \"\"}}, \"type\": \"parcoords\"}], \"pie\": [{\"automargin\": true, \"type\": \"pie\"}], \"scatter\": [{\"marker\": {\"colorbar\": {\"outlinewidth\": 0, \"ticks\": \"\"}}, \"type\": \"scatter\"}], \"scatter3d\": [{\"line\": {\"colorbar\": {\"outlinewidth\": 0, \"ticks\": \"\"}}, \"marker\": {\"colorbar\": {\"outlinewidth\": 0, \"ticks\": \"\"}}, \"type\": \"scatter3d\"}], \"scattercarpet\": [{\"marker\": {\"colorbar\": {\"outlinewidth\": 0, \"ticks\": \"\"}}, \"type\": \"scattercarpet\"}], \"scattergeo\": [{\"marker\": {\"colorbar\": {\"outlinewidth\": 0, \"ticks\": \"\"}}, \"type\": \"scattergeo\"}], \"scattergl\": [{\"marker\": {\"colorbar\": {\"outlinewidth\": 0, \"ticks\": \"\"}}, \"type\": \"scattergl\"}], \"scattermapbox\": [{\"marker\": {\"colorbar\": {\"outlinewidth\": 0, \"ticks\": \"\"}}, \"type\": \"scattermapbox\"}], \"scatterpolar\": [{\"marker\": {\"colorbar\": {\"outlinewidth\": 0, \"ticks\": \"\"}}, \"type\": \"scatterpolar\"}], \"scatterpolargl\": [{\"marker\": {\"colorbar\": {\"outlinewidth\": 0, \"ticks\": \"\"}}, \"type\": \"scatterpolargl\"}], \"scatterternary\": [{\"marker\": {\"colorbar\": {\"outlinewidth\": 0, \"ticks\": \"\"}}, \"type\": \"scatterternary\"}], \"surface\": [{\"colorbar\": {\"outlinewidth\": 0, \"ticks\": \"\"}, \"colorscale\": [[0.0, \"#0d0887\"], [0.1111111111111111, \"#46039f\"], [0.2222222222222222, \"#7201a8\"], [0.3333333333333333, \"#9c179e\"], [0.4444444444444444, \"#bd3786\"], [0.5555555555555556, \"#d8576b\"], [0.6666666666666666, \"#ed7953\"], [0.7777777777777778, \"#fb9f3a\"], [0.8888888888888888, \"#fdca26\"], [1.0, \"#f0f921\"]], \"type\": \"surface\"}], \"table\": [{\"cells\": {\"fill\": {\"color\": \"#EBF0F8\"}, \"line\": {\"color\": \"white\"}}, \"header\": {\"fill\": {\"color\": \"#C8D4E3\"}, \"line\": {\"color\": \"white\"}}, \"type\": \"table\"}]}, \"layout\": {\"annotationdefaults\": {\"arrowcolor\": \"#2a3f5f\", \"arrowhead\": 0, \"arrowwidth\": 1}, \"autotypenumbers\": \"strict\", \"coloraxis\": {\"colorbar\": {\"outlinewidth\": 0, \"ticks\": \"\"}}, \"colorscale\": {\"diverging\": [[0, \"#8e0152\"], [0.1, \"#c51b7d\"], [0.2, \"#de77ae\"], [0.3, \"#f1b6da\"], [0.4, \"#fde0ef\"], [0.5, \"#f7f7f7\"], [0.6, \"#e6f5d0\"], [0.7, \"#b8e186\"], [0.8, \"#7fbc41\"], [0.9, \"#4d9221\"], [1, \"#276419\"]], \"sequential\": [[0.0, \"#0d0887\"], [0.1111111111111111, \"#46039f\"], [0.2222222222222222, \"#7201a8\"], [0.3333333333333333, \"#9c179e\"], [0.4444444444444444, \"#bd3786\"], [0.5555555555555556, \"#d8576b\"], [0.6666666666666666, \"#ed7953\"], [0.7777777777777778, \"#fb9f3a\"], [0.8888888888888888, \"#fdca26\"], [1.0, \"#f0f921\"]], \"sequentialminus\": [[0.0, \"#0d0887\"], [0.1111111111111111, \"#46039f\"], [0.2222222222222222, \"#7201a8\"], [0.3333333333333333, \"#9c179e\"], [0.4444444444444444, \"#bd3786\"], [0.5555555555555556, \"#d8576b\"], [0.6666666666666666, \"#ed7953\"], [0.7777777777777778, \"#fb9f3a\"], [0.8888888888888888, \"#fdca26\"], [1.0, \"#f0f921\"]]}, \"colorway\": [\"#636efa\", \"#EF553B\", \"#00cc96\", \"#ab63fa\", \"#FFA15A\", \"#19d3f3\", \"#FF6692\", \"#B6E880\", \"#FF97FF\", \"#FECB52\"], \"font\": {\"color\": \"#2a3f5f\"}, \"geo\": {\"bgcolor\": \"white\", \"lakecolor\": \"white\", \"landcolor\": \"#E5ECF6\", \"showlakes\": true, \"showland\": true, \"subunitcolor\": \"white\"}, \"hoverlabel\": {\"align\": \"left\"}, \"hovermode\": \"closest\", \"mapbox\": {\"style\": \"light\"}, \"paper_bgcolor\": \"white\", \"plot_bgcolor\": \"#E5ECF6\", \"polar\": {\"angularaxis\": {\"gridcolor\": \"white\", \"linecolor\": \"white\", \"ticks\": \"\"}, \"bgcolor\": \"#E5ECF6\", \"radialaxis\": {\"gridcolor\": \"white\", \"linecolor\": \"white\", \"ticks\": \"\"}}, \"scene\": {\"xaxis\": {\"backgroundcolor\": \"#E5ECF6\", \"gridcolor\": \"white\", \"gridwidth\": 2, \"linecolor\": \"white\", \"showbackground\": true, \"ticks\": \"\", \"zerolinecolor\": \"white\"}, \"yaxis\": {\"backgroundcolor\": \"#E5ECF6\", \"gridcolor\": \"white\", \"gridwidth\": 2, \"linecolor\": \"white\", \"showbackground\": true, \"ticks\": \"\", \"zerolinecolor\": \"white\"}, \"zaxis\": {\"backgroundcolor\": \"#E5ECF6\", \"gridcolor\": \"white\", \"gridwidth\": 2, \"linecolor\": \"white\", \"showbackground\": true, \"ticks\": \"\", \"zerolinecolor\": \"white\"}}, \"shapedefaults\": {\"line\": {\"color\": \"#2a3f5f\"}}, \"ternary\": {\"aaxis\": {\"gridcolor\": \"white\", \"linecolor\": \"white\", \"ticks\": \"\"}, \"baxis\": {\"gridcolor\": \"white\", \"linecolor\": \"white\", \"ticks\": \"\"}, \"bgcolor\": \"#E5ECF6\", \"caxis\": {\"gridcolor\": \"white\", \"linecolor\": \"white\", \"ticks\": \"\"}}, \"title\": {\"x\": 0.05}, \"xaxis\": {\"automargin\": true, \"gridcolor\": \"white\", \"linecolor\": \"white\", \"ticks\": \"\", \"title\": {\"standoff\": 15}, \"zerolinecolor\": \"white\", \"zerolinewidth\": 2}, \"yaxis\": {\"automargin\": true, \"gridcolor\": \"white\", \"linecolor\": \"white\", \"ticks\": \"\", \"title\": {\"standoff\": 15}, \"zerolinecolor\": \"white\", \"zerolinewidth\": 2}}}, \"title\": {\"text\": \"Clientes: Cidades vs Estados\"}, \"xaxis\": {\"anchor\": \"y\", \"domain\": [0.0, 0.45]}, \"xaxis2\": {\"anchor\": \"y2\", \"domain\": [0.55, 1.0]}, \"yaxis\": {\"anchor\": \"x\", \"domain\": [0.0, 1.0]}, \"yaxis2\": {\"anchor\": \"x2\", \"domain\": [0.0, 1.0]}},                        {\"responsive\": true}                    ).then(function(){\n",
              "                            \n",
              "var gd = document.getElementById('bd140fe4-10f6-40f4-b8b9-9d7263838fee');\n",
              "var x = new MutationObserver(function (mutations, observer) {{\n",
              "        var display = window.getComputedStyle(gd).display;\n",
              "        if (!display || display === 'none') {{\n",
              "            console.log([gd, 'removed!']);\n",
              "            Plotly.purge(gd);\n",
              "            observer.disconnect();\n",
              "        }}\n",
              "}});\n",
              "\n",
              "// Listen for the removal of the full notebook cells\n",
              "var notebookContainer = gd.closest('#notebook-container');\n",
              "if (notebookContainer) {{\n",
              "    x.observe(notebookContainer, {childList: true});\n",
              "}}\n",
              "\n",
              "// Listen for the clearing of the current output cell\n",
              "var outputEl = gd.closest('.output');\n",
              "if (outputEl) {{\n",
              "    x.observe(outputEl, {childList: true});\n",
              "}}\n",
              "\n",
              "                        })                };                            </script>        </div>\n",
              "</body>\n",
              "</html>"
            ]
          },
          "metadata": {
            "tags": []
          }
        }
      ]
    },
    {
      "cell_type": "markdown",
      "metadata": {
        "id": "3i_eXiJOUTUH"
      },
      "source": [
        "Top 4 - Bairro/Distrito - Número de clientes"
      ]
    },
    {
      "cell_type": "code",
      "metadata": {
        "id": "fNl2IJtZUdDt",
        "colab": {
          "base_uri": "https://localhost:8080/",
          "height": 135
        },
        "outputId": "fa41e5ae-cf39-4828-81fa-b3cda77375ed"
      },
      "source": [
        "df_clientes_unique.head(3)"
      ],
      "execution_count": null,
      "outputs": [
        {
          "output_type": "execute_result",
          "data": {
            "text/html": [
              "<div>\n",
              "<style scoped>\n",
              "    .dataframe tbody tr th:only-of-type {\n",
              "        vertical-align: middle;\n",
              "    }\n",
              "\n",
              "    .dataframe tbody tr th {\n",
              "        vertical-align: top;\n",
              "    }\n",
              "\n",
              "    .dataframe thead th {\n",
              "        text-align: right;\n",
              "    }\n",
              "</style>\n",
              "<table border=\"1\" class=\"dataframe\">\n",
              "  <thead>\n",
              "    <tr style=\"text-align: right;\">\n",
              "      <th></th>\n",
              "      <th>customer_id</th>\n",
              "      <th>customer_unique_id</th>\n",
              "      <th>customer_zip_code_prefix</th>\n",
              "      <th>customer_city</th>\n",
              "      <th>customer_state</th>\n",
              "    </tr>\n",
              "  </thead>\n",
              "  <tbody>\n",
              "    <tr>\n",
              "      <th>0</th>\n",
              "      <td>06b8999e2fba1a1fbc88172c00ba8bc7</td>\n",
              "      <td>861eff4711a542e4b93843c6dd7febb0</td>\n",
              "      <td>14409</td>\n",
              "      <td>franca</td>\n",
              "      <td>SP</td>\n",
              "    </tr>\n",
              "    <tr>\n",
              "      <th>1</th>\n",
              "      <td>18955e83d337fd6b2def6b18a428ac77</td>\n",
              "      <td>290c77bc529b7ac935b93aa66c333dc3</td>\n",
              "      <td>9790</td>\n",
              "      <td>sao bernardo do campo</td>\n",
              "      <td>SP</td>\n",
              "    </tr>\n",
              "    <tr>\n",
              "      <th>2</th>\n",
              "      <td>4e7b3e00288586ebd08712fdd0374a03</td>\n",
              "      <td>060e732b5b29e8181a18229c7b0b2b5e</td>\n",
              "      <td>1151</td>\n",
              "      <td>sao paulo</td>\n",
              "      <td>SP</td>\n",
              "    </tr>\n",
              "  </tbody>\n",
              "</table>\n",
              "</div>"
            ],
            "text/plain": [
              "                        customer_id  ... customer_state\n",
              "0  06b8999e2fba1a1fbc88172c00ba8bc7  ...             SP\n",
              "1  18955e83d337fd6b2def6b18a428ac77  ...             SP\n",
              "2  4e7b3e00288586ebd08712fdd0374a03  ...             SP\n",
              "\n",
              "[3 rows x 5 columns]"
            ]
          },
          "metadata": {
            "tags": []
          },
          "execution_count": 20
        }
      ]
    },
    {
      "cell_type": "code",
      "metadata": {
        "id": "bDO5m1j_PxKD",
        "colab": {
          "base_uri": "https://localhost:8080/",
          "height": 164
        },
        "outputId": "430c7df7-ba67-40ec-a0c9-41c6f1f26f12"
      },
      "source": [
        "df_top4_bairros = df_clientes_unique.customer_zip_code_prefix.value_counts().head(4).rename('qtd_clientes_bairro').reset_index()\n",
        "df_top4_bairros"
      ],
      "execution_count": null,
      "outputs": [
        {
          "output_type": "execute_result",
          "data": {
            "text/html": [
              "<div>\n",
              "<style scoped>\n",
              "    .dataframe tbody tr th:only-of-type {\n",
              "        vertical-align: middle;\n",
              "    }\n",
              "\n",
              "    .dataframe tbody tr th {\n",
              "        vertical-align: top;\n",
              "    }\n",
              "\n",
              "    .dataframe thead th {\n",
              "        text-align: right;\n",
              "    }\n",
              "</style>\n",
              "<table border=\"1\" class=\"dataframe\">\n",
              "  <thead>\n",
              "    <tr style=\"text-align: right;\">\n",
              "      <th></th>\n",
              "      <th>index</th>\n",
              "      <th>qtd_clientes_bairro</th>\n",
              "    </tr>\n",
              "  </thead>\n",
              "  <tbody>\n",
              "    <tr>\n",
              "      <th>0</th>\n",
              "      <td>22790</td>\n",
              "      <td>136</td>\n",
              "    </tr>\n",
              "    <tr>\n",
              "      <th>1</th>\n",
              "      <td>22793</td>\n",
              "      <td>119</td>\n",
              "    </tr>\n",
              "    <tr>\n",
              "      <th>2</th>\n",
              "      <td>24220</td>\n",
              "      <td>113</td>\n",
              "    </tr>\n",
              "    <tr>\n",
              "      <th>3</th>\n",
              "      <td>24230</td>\n",
              "      <td>112</td>\n",
              "    </tr>\n",
              "  </tbody>\n",
              "</table>\n",
              "</div>"
            ],
            "text/plain": [
              "   index  qtd_clientes_bairro\n",
              "0  22790                  136\n",
              "1  22793                  119\n",
              "2  24220                  113\n",
              "3  24230                  112"
            ]
          },
          "metadata": {
            "tags": []
          },
          "execution_count": 21
        }
      ]
    },
    {
      "cell_type": "code",
      "metadata": {
        "id": "y6MYekZ6Vaz_",
        "colab": {
          "base_uri": "https://localhost:8080/",
          "height": 164
        },
        "outputId": "fe8ab9bf-a5f3-48aa-fff1-eba4de562a94"
      },
      "source": [
        "# fonte https://imasters.com.br/back-end/python-consulta-de-cep-com-pycepcorreios\n",
        "import pycep_correios\n",
        "\n",
        "def bairro_cidade( cep ):\n",
        "    end = pycep_correios.get_address_from_cep( str( cep ) + '000' )\n",
        "    return '{} / {}'.format(end['bairro'], end['cidade'])\n",
        "\n",
        "df_top4_bairros['distrito'] = df_top4_bairros['index'].apply( bairro_cidade )\n",
        "df_top4_bairros"
      ],
      "execution_count": null,
      "outputs": [
        {
          "output_type": "execute_result",
          "data": {
            "text/html": [
              "<div>\n",
              "<style scoped>\n",
              "    .dataframe tbody tr th:only-of-type {\n",
              "        vertical-align: middle;\n",
              "    }\n",
              "\n",
              "    .dataframe tbody tr th {\n",
              "        vertical-align: top;\n",
              "    }\n",
              "\n",
              "    .dataframe thead th {\n",
              "        text-align: right;\n",
              "    }\n",
              "</style>\n",
              "<table border=\"1\" class=\"dataframe\">\n",
              "  <thead>\n",
              "    <tr style=\"text-align: right;\">\n",
              "      <th></th>\n",
              "      <th>index</th>\n",
              "      <th>qtd_clientes_bairro</th>\n",
              "      <th>distrito</th>\n",
              "    </tr>\n",
              "  </thead>\n",
              "  <tbody>\n",
              "    <tr>\n",
              "      <th>0</th>\n",
              "      <td>22790</td>\n",
              "      <td>136</td>\n",
              "      <td>Recreio dos Bandeirantes / Rio de Janeiro</td>\n",
              "    </tr>\n",
              "    <tr>\n",
              "      <th>1</th>\n",
              "      <td>22793</td>\n",
              "      <td>119</td>\n",
              "      <td>Barra da Tijuca / Rio de Janeiro</td>\n",
              "    </tr>\n",
              "    <tr>\n",
              "      <th>2</th>\n",
              "      <td>24220</td>\n",
              "      <td>113</td>\n",
              "      <td>Icaraí / Niterói</td>\n",
              "    </tr>\n",
              "    <tr>\n",
              "      <th>3</th>\n",
              "      <td>24230</td>\n",
              "      <td>112</td>\n",
              "      <td>Icaraí / Niterói</td>\n",
              "    </tr>\n",
              "  </tbody>\n",
              "</table>\n",
              "</div>"
            ],
            "text/plain": [
              "   index  qtd_clientes_bairro                                   distrito\n",
              "0  22790                  136  Recreio dos Bandeirantes / Rio de Janeiro\n",
              "1  22793                  119           Barra da Tijuca / Rio de Janeiro\n",
              "2  24220                  113                           Icaraí / Niterói\n",
              "3  24230                  112                           Icaraí / Niterói"
            ]
          },
          "metadata": {
            "tags": []
          },
          "execution_count": 22
        }
      ]
    },
    {
      "cell_type": "markdown",
      "metadata": {
        "id": "7ShtKB9RZ916"
      },
      "source": [
        "## Produtos - olist_products_dataset"
      ]
    },
    {
      "cell_type": "code",
      "metadata": {
        "id": "XjhpJvAMZ9r4",
        "colab": {
          "base_uri": "https://localhost:8080/",
          "height": 155
        },
        "outputId": "ba50365f-be4c-4f2f-a72f-beb3a308818b"
      },
      "source": [
        "df_produtos.head(3)"
      ],
      "execution_count": null,
      "outputs": [
        {
          "output_type": "execute_result",
          "data": {
            "text/html": [
              "<div>\n",
              "<style scoped>\n",
              "    .dataframe tbody tr th:only-of-type {\n",
              "        vertical-align: middle;\n",
              "    }\n",
              "\n",
              "    .dataframe tbody tr th {\n",
              "        vertical-align: top;\n",
              "    }\n",
              "\n",
              "    .dataframe thead th {\n",
              "        text-align: right;\n",
              "    }\n",
              "</style>\n",
              "<table border=\"1\" class=\"dataframe\">\n",
              "  <thead>\n",
              "    <tr style=\"text-align: right;\">\n",
              "      <th></th>\n",
              "      <th>product_id</th>\n",
              "      <th>product_category_name</th>\n",
              "      <th>product_name_lenght</th>\n",
              "      <th>product_description_lenght</th>\n",
              "      <th>product_photos_qty</th>\n",
              "      <th>product_weight_g</th>\n",
              "      <th>product_length_cm</th>\n",
              "      <th>product_height_cm</th>\n",
              "      <th>product_width_cm</th>\n",
              "    </tr>\n",
              "  </thead>\n",
              "  <tbody>\n",
              "    <tr>\n",
              "      <th>0</th>\n",
              "      <td>1e9e8ef04dbcff4541ed26657ea517e5</td>\n",
              "      <td>perfumaria</td>\n",
              "      <td>40.0</td>\n",
              "      <td>287.0</td>\n",
              "      <td>1.0</td>\n",
              "      <td>225.0</td>\n",
              "      <td>16.0</td>\n",
              "      <td>10.0</td>\n",
              "      <td>14.0</td>\n",
              "    </tr>\n",
              "    <tr>\n",
              "      <th>1</th>\n",
              "      <td>3aa071139cb16b67ca9e5dea641aaa2f</td>\n",
              "      <td>artes</td>\n",
              "      <td>44.0</td>\n",
              "      <td>276.0</td>\n",
              "      <td>1.0</td>\n",
              "      <td>1000.0</td>\n",
              "      <td>30.0</td>\n",
              "      <td>18.0</td>\n",
              "      <td>20.0</td>\n",
              "    </tr>\n",
              "    <tr>\n",
              "      <th>2</th>\n",
              "      <td>96bd76ec8810374ed1b65e291975717f</td>\n",
              "      <td>esporte_lazer</td>\n",
              "      <td>46.0</td>\n",
              "      <td>250.0</td>\n",
              "      <td>1.0</td>\n",
              "      <td>154.0</td>\n",
              "      <td>18.0</td>\n",
              "      <td>9.0</td>\n",
              "      <td>15.0</td>\n",
              "    </tr>\n",
              "  </tbody>\n",
              "</table>\n",
              "</div>"
            ],
            "text/plain": [
              "                         product_id  ... product_width_cm\n",
              "0  1e9e8ef04dbcff4541ed26657ea517e5  ...             14.0\n",
              "1  3aa071139cb16b67ca9e5dea641aaa2f  ...             20.0\n",
              "2  96bd76ec8810374ed1b65e291975717f  ...             15.0\n",
              "\n",
              "[3 rows x 9 columns]"
            ]
          },
          "metadata": {
            "tags": []
          },
          "execution_count": 23
        }
      ]
    },
    {
      "cell_type": "markdown",
      "metadata": {
        "id": "B7sxERs8aNZg"
      },
      "source": [
        "### Info - Estrutura"
      ]
    },
    {
      "cell_type": "code",
      "metadata": {
        "id": "Mvz1hpZaYBA8",
        "colab": {
          "base_uri": "https://localhost:8080/"
        },
        "outputId": "e661721b-fc8d-4258-bb7f-4d0f0ebbdd7e"
      },
      "source": [
        "df_produtos.shape"
      ],
      "execution_count": null,
      "outputs": [
        {
          "output_type": "execute_result",
          "data": {
            "text/plain": [
              "(32951, 9)"
            ]
          },
          "metadata": {
            "tags": []
          },
          "execution_count": 24
        }
      ]
    },
    {
      "cell_type": "code",
      "metadata": {
        "id": "qBTAlIUDaXDz",
        "colab": {
          "base_uri": "https://localhost:8080/",
          "height": 155
        },
        "outputId": "04e65373-eebe-4ffb-dad6-a519176097b3"
      },
      "source": [
        "# nunique = qtd. valores unicos na coluna\n",
        "# count = qtd. valores não nulos na coluna\n",
        "# size = qtd. de elemetos\n",
        "df_produtos.agg( ['nunique', 'count', 'size'] )"
      ],
      "execution_count": null,
      "outputs": [
        {
          "output_type": "execute_result",
          "data": {
            "text/html": [
              "<div>\n",
              "<style scoped>\n",
              "    .dataframe tbody tr th:only-of-type {\n",
              "        vertical-align: middle;\n",
              "    }\n",
              "\n",
              "    .dataframe tbody tr th {\n",
              "        vertical-align: top;\n",
              "    }\n",
              "\n",
              "    .dataframe thead th {\n",
              "        text-align: right;\n",
              "    }\n",
              "</style>\n",
              "<table border=\"1\" class=\"dataframe\">\n",
              "  <thead>\n",
              "    <tr style=\"text-align: right;\">\n",
              "      <th></th>\n",
              "      <th>product_id</th>\n",
              "      <th>product_category_name</th>\n",
              "      <th>product_name_lenght</th>\n",
              "      <th>product_description_lenght</th>\n",
              "      <th>product_photos_qty</th>\n",
              "      <th>product_weight_g</th>\n",
              "      <th>product_length_cm</th>\n",
              "      <th>product_height_cm</th>\n",
              "      <th>product_width_cm</th>\n",
              "    </tr>\n",
              "  </thead>\n",
              "  <tbody>\n",
              "    <tr>\n",
              "      <th>nunique</th>\n",
              "      <td>32951</td>\n",
              "      <td>73</td>\n",
              "      <td>66</td>\n",
              "      <td>2960</td>\n",
              "      <td>19</td>\n",
              "      <td>2204</td>\n",
              "      <td>99</td>\n",
              "      <td>102</td>\n",
              "      <td>95</td>\n",
              "    </tr>\n",
              "    <tr>\n",
              "      <th>count</th>\n",
              "      <td>32951</td>\n",
              "      <td>32341</td>\n",
              "      <td>32341</td>\n",
              "      <td>32341</td>\n",
              "      <td>32341</td>\n",
              "      <td>32949</td>\n",
              "      <td>32949</td>\n",
              "      <td>32949</td>\n",
              "      <td>32949</td>\n",
              "    </tr>\n",
              "    <tr>\n",
              "      <th>size</th>\n",
              "      <td>32951</td>\n",
              "      <td>32951</td>\n",
              "      <td>32951</td>\n",
              "      <td>32951</td>\n",
              "      <td>32951</td>\n",
              "      <td>32951</td>\n",
              "      <td>32951</td>\n",
              "      <td>32951</td>\n",
              "      <td>32951</td>\n",
              "    </tr>\n",
              "  </tbody>\n",
              "</table>\n",
              "</div>"
            ],
            "text/plain": [
              "         product_id  product_category_name  ...  product_height_cm  product_width_cm\n",
              "nunique       32951                     73  ...                102                95\n",
              "count         32951                  32341  ...              32949             32949\n",
              "size          32951                  32951  ...              32951             32951\n",
              "\n",
              "[3 rows x 9 columns]"
            ]
          },
          "metadata": {
            "tags": []
          },
          "execution_count": 25
        }
      ]
    },
    {
      "cell_type": "code",
      "metadata": {
        "id": "Kl897uhRaaIc",
        "colab": {
          "base_uri": "https://localhost:8080/",
          "height": 155
        },
        "outputId": "c0290add-9b30-4675-de08-5fe190fe1312"
      },
      "source": [
        "df_produtos.product_category_name.fillna(value='nao informado', inplace=True)\n",
        "df_produtos.agg( ['nunique', 'count', 'size'] )"
      ],
      "execution_count": null,
      "outputs": [
        {
          "output_type": "execute_result",
          "data": {
            "text/html": [
              "<div>\n",
              "<style scoped>\n",
              "    .dataframe tbody tr th:only-of-type {\n",
              "        vertical-align: middle;\n",
              "    }\n",
              "\n",
              "    .dataframe tbody tr th {\n",
              "        vertical-align: top;\n",
              "    }\n",
              "\n",
              "    .dataframe thead th {\n",
              "        text-align: right;\n",
              "    }\n",
              "</style>\n",
              "<table border=\"1\" class=\"dataframe\">\n",
              "  <thead>\n",
              "    <tr style=\"text-align: right;\">\n",
              "      <th></th>\n",
              "      <th>product_id</th>\n",
              "      <th>product_category_name</th>\n",
              "      <th>product_name_lenght</th>\n",
              "      <th>product_description_lenght</th>\n",
              "      <th>product_photos_qty</th>\n",
              "      <th>product_weight_g</th>\n",
              "      <th>product_length_cm</th>\n",
              "      <th>product_height_cm</th>\n",
              "      <th>product_width_cm</th>\n",
              "    </tr>\n",
              "  </thead>\n",
              "  <tbody>\n",
              "    <tr>\n",
              "      <th>nunique</th>\n",
              "      <td>32951</td>\n",
              "      <td>74</td>\n",
              "      <td>66</td>\n",
              "      <td>2960</td>\n",
              "      <td>19</td>\n",
              "      <td>2204</td>\n",
              "      <td>99</td>\n",
              "      <td>102</td>\n",
              "      <td>95</td>\n",
              "    </tr>\n",
              "    <tr>\n",
              "      <th>count</th>\n",
              "      <td>32951</td>\n",
              "      <td>32951</td>\n",
              "      <td>32341</td>\n",
              "      <td>32341</td>\n",
              "      <td>32341</td>\n",
              "      <td>32949</td>\n",
              "      <td>32949</td>\n",
              "      <td>32949</td>\n",
              "      <td>32949</td>\n",
              "    </tr>\n",
              "    <tr>\n",
              "      <th>size</th>\n",
              "      <td>32951</td>\n",
              "      <td>32951</td>\n",
              "      <td>32951</td>\n",
              "      <td>32951</td>\n",
              "      <td>32951</td>\n",
              "      <td>32951</td>\n",
              "      <td>32951</td>\n",
              "      <td>32951</td>\n",
              "      <td>32951</td>\n",
              "    </tr>\n",
              "  </tbody>\n",
              "</table>\n",
              "</div>"
            ],
            "text/plain": [
              "         product_id  product_category_name  ...  product_height_cm  product_width_cm\n",
              "nunique       32951                     74  ...                102                95\n",
              "count         32951                  32951  ...              32949             32949\n",
              "size          32951                  32951  ...              32951             32951\n",
              "\n",
              "[3 rows x 9 columns]"
            ]
          },
          "metadata": {
            "tags": []
          },
          "execution_count": 26
        }
      ]
    },
    {
      "cell_type": "code",
      "metadata": {
        "id": "2obNuFxddDKl",
        "colab": {
          "base_uri": "https://localhost:8080/",
          "height": 542
        },
        "outputId": "c1bfdf21-8671-4c24-bef7-7266637ef686"
      },
      "source": [
        "# Como esta a distribuição?\n",
        "fig = px.box(df_produtos.product_weight_g, y=\"product_weight_g\")\n",
        "gitly.show(fig)"
      ],
      "execution_count": null,
      "outputs": [
        {
          "output_type": "display_data",
          "data": {
            "text/html": [
              "<html>\n",
              "<head><meta charset=\"utf-8\" /></head>\n",
              "<body>\n",
              "    <div>            <script src=\"https://cdnjs.cloudflare.com/ajax/libs/mathjax/2.7.5/MathJax.js?config=TeX-AMS-MML_SVG\"></script><script type=\"text/javascript\">if (window.MathJax) {MathJax.Hub.Config({SVG: {font: \"STIX-Web\"}});}</script>                <script type=\"text/javascript\">window.PlotlyConfig = {MathJaxConfig: 'local'};</script>\n",
              "        <script src=\"https://cdn.plot.ly/plotly-latest.min.js\"></script>                <div id=\"8d56433e-3937-4c4f-a720-101465bd3377\" class=\"plotly-graph-div\" style=\"height:525px; width:100%;\"></div>            <script type=\"text/javascript\">                                    window.PLOTLYENV=window.PLOTLYENV || {};                                    if (document.getElementById(\"8d56433e-3937-4c4f-a720-101465bd3377\")) {                    Plotly.newPlot(                        \"8d56433e-3937-4c4f-a720-101465bd3377\",                        [{\"alignmentgroup\": \"True\", \"hovertemplate\": \"product_weight_g=%{y}<extra></extra>\", \"legendgroup\": \"\", \"marker\": {\"color\": \"#636efa\"}, \"name\": \"\", \"notched\": false, \"offsetgroup\": \"\", \"orientation\": \"v\", \"showlegend\": false, \"type\": \"box\", \"x0\": \" \", \"xaxis\": \"x\", \"y\": [225.0, 1000.0, 154.0, 371.0, 625.0, 200.0, 18350.0, 900.0, 400.0, 600.0, 1100.0, 7150.0, 250.0, 600.0, 200.0, 800.0, 400.0, 900.0, 1700.0, 500.0, 2550.0, 800.0, 75.0, 500.0, 1800.0, 900.0, 3600.0, 300.0, 740.0, 3600.0, 650.0, 2150.0, 800.0, 8950.0, 1388.0, 7950.0, 6000.0, 263.0, 3900.0, 600.0, 2050.0, 725.0, 6350.0, 600.0, 11750.0, 2550.0, 15350.0, 1300.0, 850.0, 1300.0, 4800.0, 1300.0, 220.0, 5700.0, 450.0, 2000.0, 100.0, 1100.0, 1400.0, 250.0, 1050.0, 500.0, 1467.0, 100.0, 100.0, 300.0, 950.0, 250.0, 12000.0, 921.0, 10000.0, 250.0, 1200.0, 4800.0, 700.0, 1050.0, 350.0, 422.0, 317.0, 16400.0, 938.0, 2700.0, 1750.0, 3850.0, 267.0, 16200.0, 1400.0, 6450.0, 2300.0, 300.0, 600.0, 3600.0, 150.0, 400.0, 100.0, 800.0, 5250.0, 200.0, 335.0, 1300.0, 150.0, 367.0, 250.0, 8500.0, 2150.0, 650.0, 150.0, 650.0, 2700.0, 1200.0, 6050.0, 150.0, 1050.0, 1350.0, 600.0, 1000.0, 1550.0, 2700.0, 200.0, 800.0, 377.0, 400.0, 450.0, 2000.0, 300.0, 250.0, 1950.0, 500.0, 300.0, 7900.0, 1800.0, 900.0, 200.0, 4500.0, 250.0, 550.0, 1100.0, 3600.0, 100.0, 150.0, 3775.0, 1400.0, 900.0, 250.0, 350.0, 200.0, 1800.0, 5050.0, 27100.0, 1500.0, 500.0, 350.0, 500.0, 1000.0, 18500.0, 300.0, 250.0, 10700.0, 1700.0, 7700.0, 5200.0, 125.0, 15700.0, 350.0, 213.0, 150.0, 18200.0, 850.0, 1050.0, 200.0, 300.0, 200.0, 800.0, 200.0, 698.0, 350.0, 1000.0, 783.0, 600.0, 11650.0, 400.0, 3050.0, 100.0, 16500.0, 750.0, 250.0, 2300.0, 1350.0, 530.0, 1300.0, 4000.0, 8150.0, 2200.0, 1150.0, 200.0, 400.0, 600.0, 300.0, 1200.0, 10664.0, 1800.0, 500.0, 258.0, 1400.0, 400.0, 1300.0, 1000.0, 1300.0, 3305.0, 6000.0, 300.0, 250.0, 400.0, 250.0, 1250.0, 950.0, 2000.0, 13575.0, 667.0, 267.0, 1750.0, 150.0, 10550.0, 1725.0, 700.0, 400.0, 300.0, 5850.0, 267.0, 1500.0, 400.0, 1300.0, 400.0, 150.0, 650.0, 706.0, 300.0, 4850.0, 825.0, 600.0, 700.0, 300.0, 1270.0, 450.0, 2200.0, 150.0, 200.0, 10893.0, 1800.0, 1220.0, 360.0, 175.0, 1900.0, 250.0, 6950.0, 1100.0, 300.0, 16500.0, 300.0, 1836.0, 175.0, 675.0, 200.0, 1200.0, 200.0, 16100.0, 117.0, 455.0, 550.0, 750.0, 586.0, 540.0, 3700.0, 3150.0, 2100.0, 314.0, 550.0, 13825.0, 850.0, 250.0, 400.0, 400.0, 200.0, 250.0, 1950.0, 300.0, 1050.0, 400.0, 1000.0, 150.0, 700.0, 450.0, 2000.0, 21400.0, 300.0, 188.0, 300.0, 13600.0, 800.0, 300.0, 1400.0, 650.0, 600.0, 3000.0, 950.0, 17400.0, 300.0, 700.0, 625.0, 3250.0, 1500.0, 250.0, 425.0, 150.0, 350.0, 300.0, 100.0, 550.0, 250.0, 1000.0, 14850.0, 850.0, 1850.0, 300.0, 200.0, 150.0, 900.0, 1900.0, 1450.0, 1100.0, 200.0, 12600.0, 1450.0, 800.0, 1300.0, 150.0, 200.0, 11450.0, 2200.0, 13200.0, 200.0, 150.0, 3350.0, 2200.0, 30000.0, 500.0, 1800.0, 200.0, 1300.0, 150.0, 700.0, 2900.0, 200.0, 300.0, 200.0, 700.0, 200.0, 7800.0, 550.0, 200.0, 1000.0, 1000.0, 1450.0, 5850.0, 8300.0, 1800.0, 900.0, 415.0, 103.0, 500.0, 600.0, 4750.0, 263.0, 50.0, 200.0, 360.0, 150.0, 1100.0, 2250.0, 1475.0, 1600.0, 1650.0, 650.0, 900.0, 75.0, 600.0, 400.0, 553.0, 900.0, 250.0, 14900.0, 1100.0, 2050.0, 850.0, 350.0, 1400.0, 200.0, 617.0, 2600.0, 200.0, 2000.0, 266.0, 200.0, 300.0, 300.0, 200.0, 1300.0, 482.0, 550.0, 270.0, 300.0, 2150.0, 3300.0, 200.0, 200.0, 514.0, 3100.0, 1200.0, 250.0, 7400.0, 7600.0, 875.0, 700.0, 900.0, 700.0, 1100.0, 1150.0, 900.0, 1400.0, 2050.0, 2150.0, 490.0, 1000.0, 200.0, 500.0, 500.0, 4300.0, 1000.0, 4200.0, 350.0, 125.0, 100.0, 4100.0, 200.0, 300.0, 8400.0, 1550.0, 600.0, 200.0, 500.0, 1250.0, 667.0, 300.0, 400.0, 450.0, 2800.0, 250.0, 250.0, 300.0, 150.0, 1000.0, 6267.0, 2653.0, 3000.0, 8500.0, 2120.0, 750.0, 200.0, 1650.0, 900.0, 150.0, 800.0, 700.0, 700.0, 10400.0, 5850.0, 75.0, 1000.0, 1475.0, 750.0, 3600.0, 2200.0, 150.0, 1750.0, 1300.0, 7750.0, 3100.0, 1600.0, 350.0, 888.0, 150.0, 1025.0, 250.0, 450.0, 1000.0, 400.0, 150.0, 400.0, 9500.0, 300.0, 150.0, 550.0, 1100.0, 300.0, 21450.0, 850.0, 500.0, 750.0, 150.0, 30000.0, 325.0, 200.0, 200.0, 200.0, 1000.0, 800.0, 700.0, 250.0, 1800.0, 300.0, 450.0, 400.0, 1635.0, 750.0, 500.0, 350.0, 200.0, 950.0, 300.0, 452.0, 17650.0, 1100.0, 5250.0, 200.0, 340.0, 750.0, 2650.0, 300.0, 13600.0, 1250.0, 3950.0, 400.0, 1100.0, 200.0, 425.0, 22050.0, 150.0, 800.0, 800.0, 650.0, 500.0, 198.0, 9150.0, 500.0, 950.0, 3750.0, 250.0, 100.0, 800.0, 200.0, 7225.0, 50.0, 425.0, 950.0, 550.0, 14350.0, 328.0, 1950.0, 700.0, 1250.0, 400.0, 2320.0, 2700.0, 455.0, 150.0, 2200.0, 1400.0, 450.0, 835.0, 1250.0, 550.0, 3850.0, 7000.0, 1250.0, 850.0, 900.0, 400.0, 400.0, 1100.0, 850.0, 400.0, 675.0, 175.0, 1350.0, 588.0, 450.0, 1500.0, 1550.0, 683.0, 2500.0, 500.0, 300.0, 350.0, 250.0, 2900.0, 200.0, 383.0, 200.0, 1300.0, 4300.0, 150.0, 400.0, 1400.0, 450.0, 154.0, 470.0, 5500.0, 650.0, 100.0, 1600.0, 400.0, 2350.0, 975.0, 1800.0, 1150.0, 1250.0, 1300.0, 1300.0, 1200.0, 1800.0, 509.0, 100.0, 8809.0, 14900.0, 1050.0, 950.0, 500.0, 100.0, 12400.0, 700.0, 253.0, 1413.0, 1150.0, 18667.0, 65.0, 700.0, 1075.0, 4050.0, 200.0, 1200.0, 500.0, 8817.0, 100.0, 2050.0, 13600.0, 250.0, 24050.0, 300.0, 667.0, 7100.0, 600.0, 1450.0, 6250.0, 400.0, 283.0, 850.0, 1200.0, 350.0, 200.0, 150.0, 250.0, 2240.0, 213.0, 1150.0, 8850.0, 3000.0, 10900.0, 300.0, 600.0, 415.0, 400.0, 8150.0, 5250.0, 700.0, 650.0, 200.0, 1000.0, 1500.0, 253.0, 800.0, 7350.0, 4400.0, 1200.0, 1600.0, 250.0, 150.0, 200.0, 775.0, 300.0, 150.0, 950.0, 4000.0, 500.0, 100.0, 200.0, 800.0, 300.0, 2000.0, 300.0, 1900.0, 783.0, 775.0, 1400.0, 600.0, 200.0, 1000.0, 1100.0, 100.0, 400.0, 250.0, 1050.0, 200.0, 300.0, 2450.0, 400.0, 2200.0, 500.0, 1700.0, 325.0, 150.0, 200.0, 6250.0, 950.0, 200.0, 6200.0, 1650.0, 200.0, 3350.0, 150.0, 2900.0, 1550.0, 5750.0, 200.0, 350.0, 100.0, 700.0, 233.0, 100.0, 1800.0, 10700.0, 750.0, 300.0, 250.0, 461.0, 4000.0, 1250.0, 543.0, 1000.0, 9050.0, 1550.0, 300.0, 200.0, 500.0, 9900.0, 875.0, 1100.0, 200.0, 50.0, 750.0, 530.0, 400.0, 250.0, 2000.0, 2400.0, 500.0, 99.0, 1150.0, 175.0, 217.0, 100.0, 700.0, 900.0, 200.0, 2800.0, 500.0, 1150.0, 300.0, 200.0, 2550.0, 200.0, 10900.0, 300.0, 450.0, 584.0, 2700.0, 4200.0, 300.0, 1400.0, 600.0, 2250.0, 4500.0, 500.0, 900.0, 450.0, 700.0, 200.0, 600.0, 75.0, 600.0, 750.0, 100.0, 110.0, 125.0, 300.0, 133.0, 750.0, 6700.0, 16900.0, 4200.0, 100.0, 150.0, 550.0, 7000.0, 1100.0, 3850.0, 800.0, 1500.0, 450.0, 2350.0, 700.0, 500.0, 2100.0, 4700.0, 200.0, 900.0, 400.0, 7000.0, 400.0, 1150.0, 100.0, 10100.0, 250.0, 4500.0, 1550.0, 1000.0, 3000.0, 150.0, 2150.0, 550.0, 17600.0, 250.0, 350.0, 2700.0, 17150.0, 300.0, 250.0, 300.0, 650.0, 1700.0, 200.0, 6400.0, 200.0, 1350.0, 263.0, 1000.0, 4350.0, 303.0, 200.0, 2950.0, 100.0, 130.0, 350.0, 250.0, 3300.0, 5500.0, 200.0, 4200.0, 217.0, 5600.0, 150.0, 239.0, 1300.0, 200.0, 800.0, 150.0, 580.0, 1600.0, 100.0, 1000.0, 1450.0, 600.0, 1200.0, 1376.0, 350.0, 220.0, 6084.0, 400.0, 300.0, 250.0, 600.0, 317.0, 2000.0, 5650.0, 575.0, 18450.0, 1000.0, 450.0, 75.0, 200.0, 625.0, 200.0, 1500.0, 650.0, 600.0, 225.0, 550.0, 7175.0, 300.0, 350.0, 650.0, 424.0, 102.0, 200.0, 650.0, 400.0, 200.0, 400.0, 2300.0, 400.0, 300.0, 150.0, 600.0, 10050.0, 420.0, 200.0, 1200.0, 500.0, 2250.0, 2300.0, 1500.0, 250.0, 700.0, 300.0, 175.0, 3975.0, 18600.0, 300.0, 100.0, 200.0, 2550.0, 15050.0, 1800.0, 325.0, 9500.0, 4000.0, 30000.0, 700.0, 150.0, 200.0, 150.0, 100.0, 595.0, 600.0, 200.0, 2350.0, 200.0, 500.0, 9000.0, 500.0, 100.0, 400.0, 16900.0, 200.0, 150.0, 225.0, 18200.0, 790.0, 21467.0, 300.0, 150.0, 975.0, 304.0, 8200.0, 700.0, 1400.0, 18000.0, 350.0, 1200.0, 1200.0, 7683.0, 100.0, 600.0, 1400.0, 4550.0, 1588.0, 1400.0, 1100.0, 800.0, 867.0, 225.0, 75.0, 3350.0, 1800.0, 100.0, 300.0, 300.0, 950.0, 100.0, 1800.0, 700.0, 1125.0, 1200.0, 230.0, 300.0, 200.0, 400.0, 250.0, 5903.0, 417.0, 2550.0, 6800.0, 1900.0, 900.0, 400.0, 350.0, 800.0, 300.0, 200.0, 550.0, 2050.0, 1650.0, 4400.0, 100.0, 850.0, 450.0, 1850.0, 2555.0, 300.0, 600.0, 100.0, 317.0, 100.0, 2000.0, 1050.0, 1200.0, 150.0, 200.0, 150.0, 500.0, 8350.0, 100.0, 300.0, 325.0, 250.0, 100.0, 7300.0, 3000.0, 233.0, 900.0, 1550.0, 900.0, 600.0, 800.0, 350.0, 200.0, 300.0, 850.0, 1000.0, 2100.0, 100.0, 800.0, 14300.0, 400.0, 300.0, 3100.0, 100.0, 200.0, 20300.0, 6600.0, 11550.0, 750.0, 475.0, 900.0, 5500.0, 850.0, 650.0, 6750.0, 975.0, 250.0, 4050.0, 717.0, 155.0, 475.0, 600.0, 150.0, 650.0, 400.0, 200.0, 1050.0, 1150.0, 950.0, 2300.0, 405.0, 1900.0, 217.0, 300.0, 225.0, 150.0, 400.0, 125.0, 200.0, 600.0, 1300.0, 2433.0, 1833.0, 150.0, 100.0, 1000.0, 550.0, 100.0, 1950.0, 267.0, 800.0, 200.0, 150.0, 100.0, 800.0, 300.0, 750.0, 1700.0, 300.0, 1050.0, 533.0, 600.0, 500.0, 1350.0, 949.0, 350.0, 1800.0, 283.0, 433.0, 100.0, 3375.0, 450.0, 450.0, 800.0, 300.0, 3350.0, 100.0, 500.0, 500.0, 2450.0, 520.0, 1300.0, 5050.0, 75.0, 450.0, 325.0, 200.0, 30000.0, 150.0, 200.0, 250.0, 100.0, 450.0, 1000.0, 300.0, 1350.0, 200.0, 200.0, 600.0, 700.0, 200.0, 4000.0, 4683.0, 1450.0, 300.0, 600.0, 16850.0, 975.0, 1550.0, 2500.0, 2350.0, 550.0, 2275.0, 215.0, 19450.0, 500.0, 350.0, 200.0, 368.0, 750.0, 17900.0, 150.0, 250.0, 700.0, 200.0, 200.0, 690.0, 700.0, 350.0, 700.0, 1050.0, 1350.0, 150.0, 80.0, 1000.0, 3800.0, 500.0, 1000.0, 10000.0, 200.0, 850.0, 700.0, 225.0, 3800.0, 1000.0, 680.0, 183.0, 450.0, 8800.0, 1625.0, 400.0, 525.0, 800.0, 2200.0, 200.0, 450.0, 200.0, 950.0, 1300.0, 850.0, 16350.0, 6150.0, 200.0, 9100.0, 300.0, 210.0, 214.0, 10600.0, 300.0, 900.0, 500.0, 3350.0, 500.0, 150.0, 200.0, 100.0, 700.0, 200.0, 300.0, 750.0, 233.0, 400.0, 1400.0, 20500.0, 1550.0, 1600.0, 2850.0, 300.0, 2100.0, 550.0, 200.0, 725.0, 500.0, 200.0, 4200.0, 1600.0, 450.0, 650.0, 275.0, 2200.0, 367.0, 850.0, 150.0, 4150.0, 2550.0, 250.0, 1700.0, 2150.0, 300.0, 150.0, 6500.0, 700.0, 200.0, 50.0, 1000.0, 10100.0, 450.0, 2500.0, 1000.0, 125.0, 2000.0, 1583.0, 500.0, 200.0, 900.0, 100.0, 3150.0, 17325.0, 375.0, 1100.0, 4450.0, 133.0, 50.0, 100.0, 250.0, 2775.0, 500.0, 400.0, 1850.0, 1250.0, 250.0, 600.0, 950.0, 8450.0, 850.0, 300.0, 200.0, 10750.0, 250.0, 550.0, 400.0, 550.0, 500.0, 500.0, 4513.0, 768.0, 530.0, 375.0, 150.0, 500.0, 150.0, 1300.0, 7100.0, 20600.0, 300.0, 200.0, 13900.0, 1100.0, 2650.0, 1200.0, 4800.0, 932.0, 1050.0, 920.0, 500.0, 600.0, 150.0, 700.0, 1100.0, 400.0, 300.0, 1350.0, 150.0, 2400.0, 450.0, 600.0, 200.0, 269.0, 700.0, 100.0, 150.0, 14750.0, 550.0, 14725.0, 550.0, 1232.0, 2413.0, 2000.0, 600.0, 500.0, 400.0, 150.0, 1550.0, 175.0, 2900.0, 900.0, 1050.0, 750.0, 250.0, 100.0, 150.0, 400.0, 1000.0, 1200.0, 650.0, 300.0, 300.0, 2300.0, 200.0, 859.0, 350.0, 96.0, 400.0, 233.0, 100.0, 3700.0, 1000.0, 500.0, 2150.0, 6250.0, 1800.0, 2750.0, 300.0, 1200.0, 243.0, 150.0, 1000.0, 200.0, 950.0, 6397.0, 1900.0, 200.0, 150.0, 1900.0, 150.0, 700.0, 25400.0, 900.0, 175.0, 9750.0, 1750.0, 1188.0, 5650.0, 488.0, 500.0, 350.0, 3850.0, 300.0, 203.0, 825.0, 1500.0, 4000.0, 250.0, 2450.0, 283.0, 600.0, 280.0, 3250.0, 1600.0, 4350.0, 200.0, 850.0, 150.0, 1150.0, 1900.0, 1500.0, 5650.0, 876.0, 26200.0, 440.0, 500.0, 3600.0, 9650.0, 950.0, 1900.0, 25000.0, 125.0, 1150.0, 800.0, 9400.0, 400.0, 250.0, 300.0, 390.0, 1050.0, 1200.0, 300.0, 30000.0, 1200.0, 450.0, 500.0, 500.0, 500.0, 200.0, 200.0, 228.0, 2900.0, 250.0, 17100.0, 700.0, 250.0, 300.0, 150.0, 2350.0, 100.0, 400.0, 500.0, 300.0, 200.0, 100.0, 950.0, 200.0, 8300.0, 1200.0, 8638.0, 2400.0, 3450.0, 452.0, 1000.0, 120.0, 1200.0, 4800.0, 1450.0, 13300.0, 450.0, 2150.0, 250.0, 450.0, 150.0, 850.0, 2343.0, 400.0, 30000.0, 550.0, 200.0, 750.0, 120.0, 350.0, 200.0, 300.0, 150.0, 100.0, 1975.0, 1450.0, 150.0, 5700.0, 150.0, 500.0, 1000.0, 7000.0, 1600.0, 600.0, 650.0, 3550.0, 300.0, 150.0, 500.0, 700.0, 1400.0, 200.0, 400.0, 350.0, 400.0, 550.0, 700.0, 250.0, 25100.0, 14550.0, 4200.0, 7300.0, 1150.0, 600.0, 3650.0, 1600.0, 3950.0, 2700.0, 2550.0, 950.0, 8850.0, 300.0, 200.0, 750.0, 140.0, 1450.0, 300.0, 2000.0, 145.0, 417.0, 600.0, 281.0, 3975.0, 1700.0, 225.0, 250.0, 300.0, 2700.0, 150.0, 900.0, 6950.0, 1183.0, 1350.0, 100.0, 1300.0, 2850.0, 300.0, 3500.0, 200.0, 5650.0, 50.0, 16550.0, 1100.0, 50.0, 400.0, 500.0, 150.0, 850.0, 150.0, 50.0, 15400.0, 300.0, 610.0, 900.0, 215.0, 100.0, 300.0, 350.0, 590.0, 517.0, 6150.0, 7450.0, 200.0, 1200.0, 6850.0, 804.0, 700.0, 100.0, 5850.0, 1800.0, 9088.0, 1201.0, 10850.0, 5150.0, 3600.0, 500.0, 200.0, 100.0, 2839.0, 2100.0, 750.0, 300.0, 300.0, 500.0, 1000.0, 400.0, 300.0, 450.0, 250.0, 100.0, 50.0, 7900.0, 800.0, 1350.0, 850.0, 500.0, 250.0, 700.0, 300.0, 100.0, 7650.0, 1625.0, 21300.0, 2500.0, 1350.0, 200.0, 3800.0, 900.0, 2450.0, 200.0, 790.0, 1400.0, 800.0, 250.0, 100.0, 10500.0, 2400.0, 650.0, 125.0, 700.0, 2775.0, 1600.0, 150.0, 100.0, 400.0, 600.0, 22800.0, 210.0, 463.0, 150.0, 150.0, 450.0, 500.0, 100.0, 9750.0, 1550.0, 200.0, 400.0, 650.0, 600.0, 2300.0, 12450.0, 5200.0, 300.0, 800.0, 1000.0, 100.0, 1400.0, 1500.0, 163.0, 200.0, 30000.0, 190.0, 425.0, 5450.0, 950.0, 300.0, 1400.0, 920.0, 300.0, 475.0, 1000.0, 1600.0, 1050.0, 30000.0, 27400.0, 200.0, 900.0, 1700.0, 350.0, 250.0, 1050.0, 500.0, 1507.0, 8425.0, 165.0, 2550.0, 250.0, 600.0, 150.0, 2150.0, 3100.0, 450.0, 600.0, 1400.0, 400.0, 500.0, 3525.0, 30000.0, 300.0, 150.0, 100.0, 14600.0, 1250.0, 243.0, 10850.0, 1400.0, 200.0, 1550.0, 100.0, 150.0, 300.0, 50.0, 1900.0, 14500.0, 200.0, 450.0, 500.0, 533.0, 200.0, 1850.0, 350.0, 1100.0, 1950.0, 530.0, 16200.0, 700.0, 4900.0, 4375.0, 283.0, 1133.0, 400.0, 2150.0, 2123.0, 300.0, 400.0, 415.0, 550.0, 4950.0, 300.0, 300.0, 1650.0, 540.0, 700.0, 2250.0, 3775.0, 124.0, 2900.0, 650.0, 434.0, 100.0, 18150.0, 500.0, 150.0, 200.0, 200.0, 2800.0, 250.0, 6550.0, 500.0, 1200.0, 700.0, 14600.0, 200.0, 970.0, 800.0, 1850.0, 483.0, 12100.0, 500.0, 500.0, 475.0, 5100.0, 2300.0, 1600.0, 8900.0, 450.0, 600.0, 100.0, 300.0, 700.0, 250.0, 7300.0, 500.0, 1700.0, 550.0, 12200.0, 850.0, 900.0, 300.0, 100.0, 4317.0, 11600.0, 15200.0, 800.0, 350.0, 450.0, 350.0, 3350.0, 325.0, 500.0, 450.0, 4650.0, 500.0, 7600.0, 1700.0, 600.0, 5450.0, 2950.0, 500.0, 280.0, 670.0, 8500.0, 1000.0, 200.0, 800.0, 250.0, 6950.0, 14200.0, 700.0, 150.0, 900.0, 600.0, 250.0, 400.0, 1250.0, 6250.0, 650.0, 3350.0, 300.0, 12150.0, 1350.0, 300.0, 1600.0, 2600.0, 300.0, 650.0, 9275.0, 9550.0, 5275.0, 2200.0, 150.0, 1950.0, 1900.0, 500.0, 950.0, 4800.0, 1200.0, 950.0, 16400.0, 100.0, 150.0, 220.0, 4700.0, 500.0, 1050.0, 1050.0, 12900.0, 1013.0, 450.0, 250.0, 265.0, 5500.0, 500.0, 350.0, 3000.0, 560.0, 3250.0, 1600.0, 1350.0, 5200.0, 3400.0, 550.0, 400.0, 1750.0, 150.0, 500.0, 500.0, 700.0, 4950.0, 10100.0, 725.0, 550.0, 1500.0, 700.0, 200.0, 4550.0, 150.0, 100.0, 700.0, 1200.0, 1136.0, 700.0, 150.0, 10450.0, 700.0, 150.0, 250.0, 100.0, 450.0, 6100.0, 6050.0, 950.0, 2300.0, 1100.0, 1050.0, 200.0, 6100.0, 3700.0, 2007.0, 200.0, 3097.0, 250.0, 3150.0, 200.0, 100.0, 50.0, 500.0, 800.0, 1100.0, 150.0, 150.0, 1000.0, 2500.0, 100.0, 3300.0, 4200.0, 200.0, 3305.0, 200.0, 2400.0, 9800.0, 1344.0, 300.0, 150.0, 16000.0, 550.0, 16600.0, 150.0, 6613.0, 1050.0, 700.0, 1650.0, 2050.0, 400.0, 1050.0, 1400.0, 600.0, 300.0, 600.0, 1733.0, 486.0, 550.0, 5967.0, 983.0, 800.0, 790.0, 1525.0, 150.0, 300.0, 1425.0, 550.0, 900.0, 100.0, 12000.0, 100.0, 850.0, 400.0, 285.0, 575.0, 350.0, 1050.0, 527.0, 2700.0, 800.0, 2150.0, 3600.0, 250.0, 300.0, 1182.0, 1500.0, 417.0, 500.0, 6550.0, 600.0, 2400.0, 30000.0, 2700.0, 23100.0, 475.0, 100.0, 175.0, 457.0, 200.0, 700.0, 450.0, 9850.0, 350.0, 300.0, 1250.0, 200.0, 350.0, 50.0, 400.0, 800.0, 100.0, 11600.0, 300.0, 7450.0, 17000.0, 2000.0, 2600.0, 738.0, 6900.0, 400.0, 1050.0, 350.0, 270.0, 625.0, 400.0, 400.0, 1700.0, 800.0, 400.0, 150.0, 5400.0, 300.0, 525.0, 150.0, 1450.0, 150.0, 1600.0, 1450.0, 5600.0, 200.0, 700.0, 6900.0, 400.0, 5950.0, 3400.0, 450.0, 3000.0, 800.0, 150.0, 467.0, 300.0, 615.0, 350.0, 1500.0, 600.0, 1250.0, 400.0, 500.0, 200.0, 3250.0, 2600.0, 7550.0, 400.0, 3250.0, 200.0, 1185.0, 433.0, 600.0, 800.0, 7600.0, 1900.0, 2900.0, 900.0, 5100.0, 8225.0, 3300.0, 2400.0, 1150.0, 783.0, 7675.0, 1350.0, 1500.0, 5550.0, 250.0, 550.0, 1400.0, 5475.0, 23000.0, 200.0, 600.0, 2200.0, 700.0, 650.0, 16050.0, 200.0, 1200.0, 50.0, 200.0, 2300.0, 13700.0, 800.0, 200.0, 11850.0, 350.0, 525.0, 325.0, 3850.0, 4259.0, 100.0, 9950.0, 24000.0, 600.0, 4450.0, 350.0, 2140.0, 14600.0, 150.0, 2600.0, 475.0, 200.0, 186.0, 1300.0, 900.0, 433.0, 400.0, 2000.0, 1500.0, 1300.0, 3600.0, 900.0, 250.0, 450.0, 300.0, 8525.0, 3450.0, 50.0, 900.0, 50.0, 11867.0, 300.0, 19250.0, 6050.0, 500.0, 975.0, 250.0, 375.0, 1200.0, 6350.0, 2350.0, 7350.0, 350.0, 4550.0, 300.0, 250.0, 1150.0, 450.0, 1400.0, 800.0, 1300.0, 1150.0, 175.0, 2000.0, 450.0, 100.0, 1400.0, 419.0, 100.0, 500.0, 400.0, 571.0, 900.0, 300.0, 550.0, 1550.0, 400.0, 350.0, 400.0, 1767.0, 400.0, 500.0, 150.0, 500.0, 12000.0, 150.0, 200.0, 300.0, 4083.0, 1400.0, 550.0, 500.0, 250.0, 250.0, 100.0, 150.0, 350.0, 500.0, 3000.0, 1300.0, 300.0, 300.0, 900.0, 1300.0, 350.0, 400.0, 300.0, 100.0, 408.0, 19100.0, 750.0, 1400.0, 1075.0, 500.0, 302.0, 2000.0, 150.0, 50.0, 400.0, 30000.0, 1775.0, 850.0, 900.0, 267.0, 250.0, 400.0, 233.0, 900.0, 850.0, 150.0, 300.0, 4500.0, 500.0, 600.0, 500.0, 150.0, 217.0, 4600.0, 450.0, 900.0, 500.0, 200.0, 950.0, 1500.0, 138.0, 300.0, 800.0, 9950.0, 100.0, 200.0, 200.0, 200.0, 3250.0, 1100.0, 200.0, 1700.0, 1500.0, 950.0, 450.0, 683.0, 3550.0, 3450.0, 3650.0, 600.0, 7950.0, 1400.0, 550.0, 1400.0, 150.0, 250.0, 3350.0, 383.0, 550.0, 3025.0, 275.0, 127.0, 450.0, 1036.0, 550.0, 500.0, 200.0, 1900.0, 21600.0, 200.0, 250.0, 300.0, 200.0, 150.0, 250.0, 1250.0, 800.0, 8200.0, 1600.0, 5550.0, 1350.0, 17100.0, 750.0, 113.0, 750.0, 5850.0, 525.0, 1900.0, 450.0, 350.0, 1200.0, 523.0, 175.0, 1000.0, 400.0, 150.0, 17950.0, 6975.0, 350.0, 200.0, 6800.0, 400.0, 500.0, 4050.0, 300.0, 7100.0, 100.0, 12800.0, 1000.0, 3450.0, 1100.0, 15267.0, 2500.0, 1600.0, 1200.0, 200.0, 1925.0, 300.0, 500.0, 400.0, 7700.0, 1300.0, 550.0, 300.0, 5100.0, 700.0, 1000.0, 750.0, 1110.0, 200.0, 350.0, 2750.0, 1100.0, 450.0, 1050.0, 8200.0, 1750.0, 250.0, 1050.0, 400.0, 500.0, 650.0, 2900.0, 3100.0, 1300.0, 9350.0, 3585.0, 300.0, 200.0, 625.0, 2450.0, 550.0, 500.0, 200.0, 400.0, 680.0, 14350.0, 253.0, 15817.0, 1000.0, 800.0, 1100.0, 150.0, 1300.0, 8100.0, 600.0, 2600.0, 1125.0, 1600.0, 300.0, 30000.0, 1050.0, 900.0, 3500.0, 700.0, 500.0, 250.0, 250.0, 300.0, 600.0, 1850.0, 800.0, 6650.0, 500.0, 2300.0, 100.0, 1200.0, 300.0, 50.0, 2050.0, 50.0, 250.0, 1050.0, 300.0, 300.0, 250.0, 1600.0, 610.0, 200.0, 900.0, 450.0, 700.0, 850.0, 6050.0, 300.0, 8750.0, 575.0, 318.0, 600.0, 5300.0, 275.0, 600.0, 1100.0, 1150.0, 2133.0, 200.0, 1150.0, 350.0, 600.0, 2700.0, 1000.0, 1100.0, 200.0, 850.0, 700.0, 413.0, 800.0, 12150.0, 5950.0, 1900.0, 1600.0, 3550.0, 200.0, 200.0, 650.0, 500.0, 250.0, 250.0, 543.0, 2152.0, 1700.0, 625.0, 3500.0, 400.0, 5900.0, 200.0, 2980.0, 200.0, 274.0, 27300.0, 550.0, 300.0, 100.0, 2300.0, 450.0, 400.0, 100.0, 350.0, 2725.0, 350.0, 300.0, 300.0, 5800.0, 350.0, 100.0, 200.0, 200.0, 200.0, 19550.0, 850.0, 200.0, 599.0, 300.0, 1100.0, 450.0, 2250.0, 650.0, 2050.0, 300.0, 2700.0, 1625.0, 124.0, 60.0, 5400.0, 700.0, 88.0, 8850.0, 400.0, 200.0, 246.0, 30000.0, 700.0, 14350.0, 12450.0, 150.0, 1225.0, 250.0, 250.0, 900.0, 1550.0, 5900.0, 1300.0, 700.0, 1000.0, 400.0, 200.0, 200.0, 2600.0, 150.0, 150.0, 10050.0, 1300.0, 1050.0, 700.0, 300.0, 300.0, 12675.0, 750.0, 100.0, 300.0, 100.0, 16167.0, 1500.0, 450.0, 400.0, 250.0, 1550.0, 2150.0, 900.0, 350.0, 573.0, 350.0, 600.0, 253.0, 5650.0, 200.0, 1200.0, 600.0, 800.0, 1000.0, 263.0, 1000.0, 1300.0, 200.0, 100.0, 133.0, 10175.0, 1150.0, 12200.0, 200.0, 1400.0, 200.0, 800.0, 950.0, 1700.0, 950.0, 300.0, 700.0, 500.0, 300.0, 383.0, 1650.0, 167.0, 1000.0, 832.0, 150.0, 900.0, 200.0, 200.0, 200.0, 2450.0, 183.0, 500.0, 1475.0, 2400.0, 300.0, 13500.0, 350.0, 850.0, 5500.0, 550.0, 2800.0, 350.0, 500.0, 200.0, 475.0, 550.0, 2000.0, 1150.0, 1000.0, 1200.0, 1000.0, 22600.0, 600.0, 1900.0, 550.0, 250.0, 100.0, 400.0, 1950.0, 1700.0, 3300.0, 750.0, 1100.0, 6550.0, 1000.0, 258.0, 9300.0, 526.0, 2200.0, 250.0, 275.0, 193.0, 2175.0, 175.0, 600.0, 7450.0, 1017.0, 1725.0, 600.0, 6100.0, 200.0, 603.0, 6900.0, 500.0, 414.0, 287.0, 304.0, 450.0, 400.0, 750.0, 200.0, 1000.0, 5550.0, 7150.0, 5288.0, 75.0, 200.0, 700.0, 1700.0, 720.0, 11700.0, 700.0, 600.0, 600.0, 7950.0, 150.0, 2000.0, 10800.0, 150.0, 200.0, 250.0, 300.0, 250.0, 389.0, 50.0, 200.0, 200.0, 475.0, 1450.0, 100.0, 1250.0, 3600.0, 2000.0, 7350.0, 400.0, 2000.0, 4350.0, 360.0, 430.0, 783.0, 8500.0, 21750.0, 450.0, 20700.0, 1850.0, 200.0, 200.0, 17150.0, 1000.0, 3686.0, 3175.0, 1650.0, 750.0, 11450.0, 750.0, 5850.0, 550.0, 4200.0, 1390.0, 350.0, 1600.0, 700.0, 550.0, 575.0, 800.0, 8750.0, 150.0, 330.0, 1750.0, 100.0, 600.0, 100.0, 2500.0, 300.0, 2000.0, 250.0, 1150.0, 1000.0, 1150.0, 450.0, 2100.0, 300.0, 150.0, 500.0, 500.0, 550.0, 4700.0, 3300.0, 400.0, 1800.0, 475.0, 10600.0, 165.0, 1250.0, 2400.0, 100.0, 500.0, 1000.0, 1000.0, 1950.0, 400.0, 600.0, 600.0, 950.0, 250.0, 2600.0, 600.0, 2900.0, 140.0, 11450.0, 900.0, 50.0, 2283.0, 1600.0, 600.0, 2250.0, 150.0, 173.0, 850.0, 163.0, 3150.0, 550.0, 1150.0, 1200.0, 6185.0, 500.0, 107.0, 4500.0, 200.0, 2400.0, 200.0, 675.0, 3450.0, 350.0, 475.0, 13475.0, 200.0, 367.0, 4700.0, 800.0, 1000.0, 350.0, 1200.0, 200.0, 500.0, 10850.0, 600.0, 250.0, 100.0, 429.0, 250.0, 1100.0, 100.0, 1500.0, 20650.0, 600.0, 250.0, 200.0, 200.0, 600.0, 800.0, 7600.0, 200.0, 15050.0, 2100.0, 400.0, 500.0, 3200.0, 550.0, 650.0, 375.0, 450.0, 4650.0, 200.0, 5350.0, 3850.0, 100.0, 500.0, 200.0, 150.0, 2200.0, 6700.0, 383.0, 6675.0, 8050.0, 550.0, 600.0, 11875.0, 100.0, 2700.0, 2000.0, 300.0, 3200.0, 1125.0, 2500.0, 350.0, 310.0, 500.0, 325.0, 450.0, 11200.0, 200.0, 500.0, 3700.0, 2050.0, 230.0, 2525.0, 2200.0, 150.0, 700.0, 150.0, 250.0, 800.0, 1950.0, 318.0, 800.0, 825.0, 150.0, 20050.0, 1000.0, 300.0, 417.0, 750.0, 250.0, 1600.0, 375.0, 50.0, 550.0, 750.0, 10750.0, 700.0, 450.0, 20900.0, 241.0, 100.0, 3000.0, 800.0, 1500.0, 1600.0, 350.0, 11500.0, 3000.0, 2500.0, 100.0, 300.0, 17300.0, 1300.0, 150.0, 1250.0, 300.0, 200.0, 2400.0, 550.0, 350.0, 195.0, 20850.0, 1800.0, 900.0, 9000.0, 1260.0, 5350.0, 4383.0, 2850.0, 6200.0, 1200.0, 250.0, 575.0, 250.0, 250.0, 113.0, 200.0, 200.0, 200.0, 700.0, 1350.0, 2700.0, 17400.0, 550.0, 1400.0, 800.0, 650.0, 200.0, 500.0, 8850.0, 1350.0, 275.0, 200.0, 400.0, 2416.0, 3100.0, 6000.0, 350.0, 11400.0, 350.0, 1000.0, 2100.0, 200.0, 269.0, 100.0, 500.0, 1150.0, 600.0, 613.0, 3000.0, 7350.0, 7433.0, 350.0, 15000.0, 400.0, 300.0, 200.0, 1450.0, 3575.0, 8200.0, 1300.0, 300.0, 300.0, 2625.0, 400.0, 350.0, 200.0, 2875.0, 300.0, 666.0, 150.0, 350.0, 15000.0, 1350.0, 1800.0, 600.0, 525.0, 400.0, 550.0, 146.0, 837.0, 11400.0, 1250.0, 3650.0, 50.0, 6000.0, 3400.0, 450.0, 600.0, 1150.0, 1053.0, 500.0, 1000.0, 450.0, 600.0, 16283.0, 300.0, 900.0, 200.0, 200.0, 650.0, 2550.0, 600.0, 500.0, 1700.0, 250.0, 400.0, 250.0, 700.0, 6700.0, 750.0, 3000.0, 100.0, 1450.0, 430.0, 200.0, 300.0, 200.0, 200.0, 400.0, 50.0, 1200.0, 200.0, 9080.0, 225.0, 10150.0, 1900.0, 227.0, 1450.0, 400.0, 400.0, 1950.0, 300.0, 900.0, 300.0, 2200.0, 606.0, 167.0, 3050.0, 1000.0, 8700.0, 213.0, 100.0, 200.0, 400.0, 9500.0, 600.0, 3000.0, 1150.0, 500.0, 100.0, 403.0, 860.0, 4250.0, 20850.0, 4500.0, 200.0, 1200.0, 1300.0, 1500.0, 409.0, 725.0, 4600.0, 575.0, 375.0, 550.0, 1200.0, 400.0, 500.0, 600.0, 900.0, 300.0, 300.0, 600.0, 575.0, 1500.0, 500.0, 700.0, 250.0, 1000.0, 300.0, 2300.0, 13100.0, 300.0, 100.0, 725.0, 3400.0, 1300.0, 10800.0, 3150.0, 1233.0, 16300.0, 1100.0, 200.0, 100.0, 6050.0, 1170.0, 650.0, 200.0, 700.0, 5750.0, 1000.0, 350.0, 500.0, 1117.0, 550.0, 200.0, 300.0, 1200.0, 1100.0, 3100.0, 2000.0, 175.0, 19600.0, 5300.0, 1420.0, 9000.0, 5400.0, 300.0, 850.0, 167.0, 1500.0, 150.0, 350.0, 900.0, 350.0, 150.0, 1050.0, 9200.0, 250.0, 1200.0, 3250.0, 13550.0, 200.0, 950.0, 2150.0, 400.0, 900.0, 350.0, 17950.0, 1450.0, 650.0, 350.0, 150.0, 200.0, 1100.0, 3000.0, 250.0, 150.0, 346.0, 3100.0, 350.0, 100.0, 6050.0, 195.0, 1500.0, 300.0, 13050.0, 50.0, 975.0, 1500.0, 2100.0, 650.0, 150.0, 2146.0, 350.0, 700.0, 3400.0, 163.0, 288.0, 400.0, 250.0, 2650.0, 200.0, 2600.0, 1550.0, 150.0, 100.0, 1307.0, 900.0, 333.0, 30000.0, 450.0, 1200.0, 200.0, 300.0, 6900.0, 500.0, 1550.0, 7400.0, 1500.0, 200.0, 4925.0, 1750.0, 600.0, 225.0, 1100.0, 10400.0, 100.0, 150.0, 98.0, 1500.0, 573.0, 350.0, 400.0, 1214.0, 650.0, 2150.0, 250.0, 1600.0, 100.0, 19300.0, 50.0, 1150.0, 400.0, 300.0, 950.0, 888.0, 2650.0, 700.0, 683.0, 1250.0, 250.0, 355.0, 850.0, 500.0, 200.0, 5700.0, 1550.0, 525.0, 7900.0, 400.0, 400.0, 725.0, 100.0, 175.0, 600.0, 300.0, 800.0, 7700.0, 2700.0, 350.0, 400.0, 650.0, 350.0, 550.0, 200.0, 175.0, 250.0, 300.0, 1100.0, 1500.0, 400.0, 200.0, 1800.0, 22550.0, 1500.0, 700.0, 200.0, 350.0, 300.0, 700.0, 200.0, 2500.0, 200.0, 600.0, 882.0, 300.0, 2700.0, 350.0, 1200.0, 11350.0, 1850.0, 7950.0, 1300.0, 100.0, 450.0, 2708.0, 360.0, 150.0, 150.0, 100.0, 16000.0, 600.0, 1200.0, 450.0, 24050.0, 148.0, 398.0, 1500.0, 1050.0, 15600.0, 1200.0, 364.0, 1050.0, 113.0, 900.0, 700.0, 2900.0, 300.0, 1400.0, 1800.0, 150.0, 2100.0, 700.0, 950.0, 225.0, 1700.0, 150.0, 1000.0, 5300.0, 6950.0, 8550.0, 3250.0, 300.0, 3600.0, 2050.0, 18900.0, 220.0, 100.0, 450.0, 400.0, 1300.0, 400.0, 1550.0, 350.0, 200.0, 500.0, 1800.0, 600.0, 1067.0, 200.0, 550.0, 100.0, 21000.0, 550.0, 10100.0, 900.0, 900.0, 100.0, 100.0, 5900.0, 950.0, 450.0, 600.0, 100.0, 700.0, 8400.0, 50.0, 350.0, 200.0, 300.0, 14150.0, 140.0, 1250.0, 1000.0, 2363.0, 267.0, 800.0, 150.0, 1500.0, 600.0, 15200.0, 350.0, 400.0, 1950.0, 950.0, 1750.0, 2650.0, 1700.0, 1000.0, 200.0, 800.0, 368.0, 8050.0, 3500.0, 293.0, 3900.0, 400.0, 400.0, 150.0, 400.0, 550.0, 800.0, 5300.0, 2150.0, 140.0, 1607.0, 500.0, 500.0, 7500.0, 1400.0, 6600.0, 200.0, 250.0, 1250.0, 4250.0, 3000.0, 100.0, 350.0, 9550.0, 1800.0, 100.0, 200.0, 50.0, 1300.0, 100.0, 1200.0, 1200.0, 300.0, 1800.0, 750.0, 17500.0, 1400.0, 900.0, 100.0, 1400.0, 250.0, 6500.0, 200.0, 5700.0, 450.0, 600.0, 10150.0, 800.0, 9050.0, 125.0, 800.0, 700.0, 333.0, 13700.0, 200.0, 400.0, 675.0, 1100.0, 2200.0, 925.0, 100.0, 3050.0, 541.0, 250.0, 450.0, 850.0, 850.0, 1500.0, 600.0, 500.0, 350.0, 300.0, 7000.0, 500.0, 425.0, 150.0, 150.0, 700.0, 1775.0, 300.0, 1200.0, 1225.0, 1400.0, 1000.0, 150.0, 650.0, 1150.0, 195.0, 100.0, 600.0, 850.0, 200.0, 17550.0, 6900.0, 4350.0, 700.0, 200.0, 7300.0, 1217.0, 550.0, 14350.0, 800.0, 675.0, 400.0, 1000.0, 800.0, 1850.0, 117.0, 450.0, 217.0, 745.0, 250.0, 1700.0, 300.0, 1000.0, 300.0, 417.0, 2900.0, 245.0, 1100.0, 2200.0, 400.0, 2300.0, 200.0, 7750.0, 5950.0, 1100.0, 10700.0, 1000.0, 400.0, 2600.0, 3000.0, 1100.0, 100.0, 2000.0, 1400.0, 800.0, 1400.0, 1350.0, 17950.0, 1100.0, 1360.0, 150.0, 900.0, 100.0, 7300.0, 1400.0, 3400.0, 3718.0, 2150.0, 1250.0, 675.0, 9300.0, 300.0, 1000.0, 467.0, 3125.0, 150.0, 1300.0, 300.0, 1800.0, 867.0, 1900.0, 300.0, 800.0, 300.0, 1050.0, 30000.0, 270.0, 250.0, 550.0, 500.0, 1150.0, 100.0, 400.0, 650.0, 9350.0, 2000.0, 3700.0, 500.0, 1150.0, 550.0, 300.0, 650.0, 200.0, 700.0, 400.0, 2000.0, 350.0, 300.0, 757.0, 1800.0, 1450.0, 3200.0, 350.0, 250.0, 360.0, 26000.0, 3450.0, 300.0, 150.0, 350.0, 9500.0, 2500.0, 1800.0, 17950.0, 200.0, 700.0, 1650.0, 700.0, 850.0, 150.0, 600.0, 300.0, 20900.0, 1300.0, 2000.0, 1500.0, 1300.0, 6850.0, 1003.0, 300.0, 333.0, 400.0, 7500.0, 3500.0, 1300.0, 350.0, 1200.0, 600.0, 1617.0, 1000.0, 200.0, 1700.0, 1600.0, 550.0, 200.0, 600.0, 140.0, 350.0, 3000.0, 200.0, 950.0, 600.0, 3600.0, 200.0, 7100.0, 300.0, 215.0, 150.0, 1625.0, 3000.0, 1050.0, 250.0, 5217.0, 5550.0, 550.0, 350.0, 3050.0, 1250.0, 700.0, 4150.0, 300.0, 1250.0, 2444.0, 13350.0, 600.0, 231.0, 1900.0, 16900.0, 150.0, 183.0, 225.0, 50.0, 200.0, 606.0, 2000.0, 1925.0, 250.0, 600.0, 50.0, 550.0, 900.0, 200.0, 400.0, 1900.0, 500.0, 1350.0, 800.0, 9075.0, 300.0, 3500.0, 4150.0, 8700.0, 150.0, 100.0, 303.0, 7150.0, 1000.0, 11850.0, 651.0, 200.0, 450.0, 15200.0, 21900.0, 850.0, 300.0, 329.0, 7150.0, 5150.0, 250.0, 400.0, 7850.0, 300.0, 750.0, 100.0, 1000.0, 200.0, 450.0, 3400.0, 100.0, 800.0, 650.0, 2500.0, 450.0, 450.0, 525.0, 2800.0, 200.0, 200.0, 50.0, 1300.0, 175.0, 930.0, 280.0, 552.0, 1650.0, 1000.0, 2200.0, 650.0, 150.0, 9200.0, 900.0, 200.0, 150.0, 1300.0, 950.0, 200.0, 350.0, 500.0, 16500.0, 650.0, 5100.0, 300.0, 1150.0, 200.0, 23033.0, 430.0, 250.0, 100.0, 310.0, 30000.0, 14600.0, 1650.0, 150.0, 1650.0, 1050.0, 900.0, 1400.0, 100.0, 600.0, 500.0, 563.0, 150.0, 7500.0, 550.0, 434.0, 100.0, 325.0, 600.0, 675.0, 501.0, 200.0, 537.0, 400.0, 11800.0, 13700.0, 550.0, 350.0, 5525.0, 2775.0, 1100.0, 6800.0, 50.0, 1425.0, 667.0, 450.0, 287.0, 700.0, 850.0, 1097.0, 16200.0, 1900.0, 1500.0, 2150.0, 900.0, 400.0, 400.0, 800.0, 400.0, 2750.0, 750.0, 1500.0, 2167.0, 10875.0, 2100.0, 700.0, 14350.0, 939.0, 560.0, 400.0, 4950.0, 8400.0, 150.0, 7400.0, 1350.0, 300.0, 550.0, 2350.0, 900.0, 5000.0, 1850.0, 1500.0, 3200.0, 1517.0, 1650.0, 463.0, 200.0, 150.0, 1125.0, 200.0, 350.0, 175.0, 200.0, 217.0, 2075.0, 7050.0, 2000.0, 200.0, 25400.0, 7500.0, 500.0, 2000.0, 1850.0, 8900.0, 300.0, 1500.0, 100.0, 200.0, 700.0, 900.0, 150.0, 150.0, 800.0, 363.0, 400.0, 5070.0, 300.0, 1050.0, 879.0, 500.0, 300.0, 150.0, 500.0, 621.0, 1700.0, 2750.0, 13400.0, 150.0, 14100.0, 100.0, 750.0, 150.0, 300.0, 100.0, 1800.0, 150.0, 200.0, 1050.0, 14050.0, 917.0, 350.0, 1450.0, 1350.0, 200.0, 233.0, 400.0, 2550.0, 3700.0, 200.0, 4417.0, 2700.0, 1200.0, 3950.0, 600.0, 1850.0, 6750.0, 150.0, 1000.0, 200.0, 350.0, 2650.0, 2250.0, 6400.0, 950.0, 4900.0, 800.0, 12000.0, 7300.0, 100.0, 353.0, 1250.0, 3800.0, 2450.0, 700.0, 2100.0, 475.0, 200.0, 1600.0, 700.0, 450.0, 1250.0, 1000.0, 3950.0, 4450.0, 6350.0, 1650.0, 350.0, 10550.0, 5950.0, 1100.0, 700.0, 472.0, 7300.0, 417.0, 9600.0, 400.0, 613.0, 4325.0, 2250.0, 500.0, 1250.0, 3600.0, 521.0, 150.0, 158.0, 650.0, 500.0, 5047.0, 1000.0, 600.0, 1800.0, 1045.0, 650.0, 400.0, 2450.0, 9700.0, 750.0, 350.0, 300.0, 500.0, 1600.0, 50.0, 600.0, 5000.0, 29250.0, 6200.0, 25325.0, 150.0, 400.0, 450.0, 16300.0, 5524.0, 2500.0, 3400.0, 650.0, 300.0, 150.0, 300.0, 11450.0, 250.0, 50.0, 400.0, 1350.0, 3450.0, 250.0, 500.0, 1200.0, 950.0, 1983.0, 600.0, 2700.0, 200.0, 350.0, 100.0, 1650.0, 200.0, 1350.0, 200.0, 1400.0, 2700.0, 10100.0, 2400.0, 6600.0, 325.0, 150.0, 1400.0, 800.0, 50.0, 450.0, 100.0, 650.0, 300.0, 3000.0, 450.0, 200.0, 749.0, 600.0, 300.0, 100.0, 650.0, 1150.0, 350.0, 950.0, 2660.0, 325.0, 2100.0, 240.0, 1000.0, 867.0, 500.0, 6600.0, 200.0, 200.0, 300.0, 900.0, 5675.0, 200.0, 500.0, 600.0, 600.0, 550.0, 400.0, 400.0, 633.0, 1225.0, 13650.0, 200.0, 2138.0, 2200.0, 10550.0, 1150.0, 600.0, 1100.0, 600.0, 200.0, 600.0, 300.0, 1150.0, 2035.0, 2300.0, 450.0, 700.0, 150.0, 9900.0, 250.0, 200.0, 500.0, 7450.0, 600.0, 2067.0, 300.0, 600.0, 200.0, 50.0, 1750.0, 250.0, 2250.0, 3300.0, 200.0, 150.0, 457.0, 1600.0, 300.0, 5100.0, 200.0, 530.0, 3000.0, 300.0, 550.0, 3400.0, 1563.0, 3400.0, 364.0, 1500.0, 26700.0, 300.0, 331.0, 333.0, 21400.0, 20100.0, 150.0, 717.0, 250.0, 500.0, 350.0, 800.0, 200.0, 6050.0, 300.0, 350.0, 2200.0, 757.0, 200.0, 204.0, 250.0, 7300.0, 3850.0, 200.0, 1900.0, 650.0, 1300.0, 100.0, 14675.0, 20500.0, 1450.0, 2000.0, 175.0, 700.0, 100.0, 50.0, 12100.0, 525.0, 1250.0, 150.0, 300.0, 8900.0, 400.0, 650.0, 625.0, 1700.0, 1050.0, 100.0, 9500.0, 300.0, 350.0, 1550.0, 100.0, 417.0, 250.0, 600.0, 250.0, 750.0, 600.0, 1200.0, 1500.0, 400.0, 1500.0, 138.0, 300.0, 1750.0, 1525.0, 75.0, 700.0, 550.0, 3600.0, 30000.0, 260.0, 450.0, 1688.0, 1000.0, 2200.0, 3000.0, 594.0, 75.0, 2350.0, 250.0, 1700.0, 1200.0, 200.0, 400.0, 1300.0, 150.0, 100.0, 5150.0, 180.0, 150.0, 100.0, 200.0, 4900.0, 350.0, 4442.0, 400.0, 350.0, 1400.0, 200.0, 623.0, 100.0, 300.0, 100.0, 6300.0, 8575.0, 250.0, 250.0, 550.0, 11350.0, 475.0, 7200.0, 11100.0, 1500.0, 650.0, 183.0, 2175.0, 100.0, 475.0, 400.0, 250.0, 250.0, 200.0, 6300.0, 1750.0, 5750.0, 240.0, 1083.0, 10750.0, 1571.0, 290.0, 100.0, 250.0, 500.0, 650.0, 11400.0, 1350.0, 5000.0, 3500.0, 1500.0, 200.0, 950.0, 200.0, 800.0, 20700.0, 3175.0, 200.0, 300.0, 6000.0, 250.0, 100.0, 1450.0, 400.0, 14650.0, 11683.0, 3474.0, 300.0, 2000.0, 150.0, 483.0, 500.0, 2725.0, 1200.0, 9650.0, 1673.0, 4033.0, 900.0, 100.0, 900.0, 233.0, 314.0, 1900.0, 450.0, 800.0, 12800.0, 1600.0, 1874.0, 150.0, 1014.0, 6150.0, 250.0, 100.0, 7700.0, 1200.0, 4300.0, 900.0, 288.0, 367.0, 600.0, 200.0, 1600.0, 200.0, 1700.0, 11100.0, 8350.0, 200.0, 1250.0, 1100.0, 400.0, 1850.0, 200.0, 600.0, 8800.0, 200.0, 200.0, 3700.0, 92.0, 3100.0, 2350.0, 425.0, 350.0, 1850.0, 150.0, 200.0, 1400.0, 350.0, 476.0, 500.0, 800.0, 600.0, 900.0, 900.0, 2950.0, 400.0, 400.0, 613.0, 450.0, 11880.0, 167.0, 1300.0, 400.0, 10700.0, 1500.0, 200.0, 129.0, 500.0, 3900.0, 200.0, 500.0, 1250.0, 150.0, 1150.0, 6300.0, 300.0, 2175.0, 500.0, 250.0, 240.0, 2400.0, 1175.0, 450.0, 3650.0, 700.0, 5400.0, 2100.0, 750.0, 6550.0, 425.0, 1200.0, 650.0, 600.0, 3700.0, 500.0, 350.0, 800.0, 1650.0, 5200.0, 450.0, 3000.0, 1200.0, 2200.0, 117.0, 2900.0, 2150.0, 100.0, 300.0, 1400.0, 4735.0, 150.0, 17450.0, 1078.0, 2000.0, 14500.0, 5550.0, 200.0, 2200.0, 6700.0, 800.0, 21000.0, 350.0, 1600.0, 2750.0, 300.0, 700.0, 6350.0, 250.0, 1350.0, 350.0, 100.0, 700.0, 400.0, 3350.0, 350.0, 3300.0, 833.0, 14000.0, 200.0, 9050.0, 400.0, 850.0, 188.0, 7350.0, 850.0, 200.0, 600.0, 800.0, 3800.0, 500.0, 900.0, 2750.0, 1200.0, 665.0, 300.0, 543.0, 2700.0, 150.0, 800.0, 900.0, 440.0, 925.0, 425.0, 250.0, 425.0, 100.0, 700.0, 850.0, 2700.0, 1000.0, 900.0, 350.0, 150.0, 4550.0, 50.0, 6000.0, 200.0, 150.0, 300.0, 150.0, 9900.0, 100.0, 700.0, 5750.0, 14600.0, 350.0, 343.0, 350.0, 700.0, 23300.0, 2200.0, 14813.0, 600.0, 250.0, 1000.0, 300.0, 400.0, 3000.0, 850.0, 200.0, 400.0, 200.0, 1700.0, 11083.0, 9900.0, 7300.0, 150.0, 250.0, 200.0, 650.0, 20050.0, 1900.0, 200.0, 800.0, 100.0, 150.0, 283.0, 950.0, 383.0, 300.0, 20050.0, 750.0, 24700.0, 300.0, 140.0, 225.0, 550.0, 17050.0, 400.0, 950.0, 100.0, 700.0, 7300.0, 150.0, 2000.0, 418.0, 2650.0, 200.0, 150.0, 1000.0, 950.0, 2050.0, 1300.0, 200.0, 500.0, 400.0, 200.0, 425.0, 300.0, 700.0, 800.0, 389.0, 11850.0, 2800.0, 3313.0, 300.0, 500.0, 1450.0, 300.0, 800.0, 200.0, 2300.0, 15550.0, 150.0, 350.0, 350.0, 12075.0, 450.0, 200.0, 2000.0, 400.0, 3000.0, 350.0, 400.0, 250.0, 450.0, 200.0, 1350.0, 1100.0, 450.0, 15300.0, 8500.0, 400.0, 900.0, 1925.0, 200.0, 1600.0, 325.0, 2500.0, 2000.0, 200.0, 525.0, 1200.0, 700.0, 1238.0, 2200.0, 2300.0, 850.0, 2300.0, 5950.0, 1225.0, 2300.0, 650.0, 1700.0, 350.0, 2350.0, 21000.0, 300.0, 2600.0, 1900.0, 200.0, 30000.0, 3300.0, 700.0, 300.0, 1650.0, 400.0, 1000.0, 675.0, 600.0, 450.0, 125.0, 1400.0, 3675.0, 3500.0, 2000.0, 4850.0, 2250.0, 933.0, 5350.0, 300.0, 850.0, 1600.0, 2350.0, 1200.0, 4400.0, 250.0, 1000.0, 150.0, 350.0, 2200.0, 975.0, 350.0, 800.0, 600.0, 100.0, 100.0, 1907.0, 1600.0, 555.0, 7125.0, 250.0, 7300.0, 100.0, 150.0, 225.0, 2797.0, 350.0, 400.0, 700.0, 470.0, 500.0, 521.0, 2400.0, 150.0, 200.0, 150.0, 650.0, 8750.0, 550.0, 200.0, 975.0, 30000.0, 1550.0, 1350.0, 225.0, 887.0, 250.0, 700.0, 400.0, 400.0, 450.0, 275.0, 1200.0, 150.0, 1871.0, 400.0, 14800.0, 400.0, 2250.0, 1200.0, 250.0, 600.0, 150.0, 12775.0, 450.0, 400.0, 500.0, 500.0, 1200.0, 2050.0, 3400.0, 200.0, 2000.0, 1600.0, 150.0, 100.0, 956.0, 3100.0, 1200.0, 200.0, 1300.0, 426.0, 425.0, 1000.0, 2050.0, 1600.0, 350.0, 200.0, 600.0, 700.0, 700.0, 250.0, 328.0, 175.0, 8050.0, 2600.0, 1900.0, 100.0, 200.0, 663.0, 150.0, 400.0, 6450.0, 150.0, 300.0, 2000.0, 500.0, 800.0, 200.0, 850.0, 50.0, 6200.0, 200.0, 400.0, 500.0, 19000.0, 800.0, 500.0, 233.0, 200.0, 600.0, 3100.0, 2350.0, 10150.0, 350.0, 1600.0, 300.0, 107.0, 1000.0, 10050.0, 2950.0, 850.0, 550.0, 400.0, 550.0, 500.0, 1150.0, 6300.0, 100.0, 500.0, 200.0, 567.0, 125.0, 4300.0, 153.0, 8700.0, 900.0, 4850.0, 200.0, 2500.0, 500.0, 250.0, 2000.0, 975.0, 300.0, 150.0, 233.0, 392.0, 700.0, 400.0, 500.0, 1450.0, 950.0, 1550.0, 3150.0, 23200.0, 275.0, 200.0, 6550.0, 5800.0, 1400.0, 5500.0, 150.0, 650.0, 200.0, 4800.0, 200.0, 450.0, 12400.0, 8700.0, 6350.0, 3000.0, 600.0, 1467.0, 200.0, 250.0, 250.0, 417.0, 200.0, 4200.0, 200.0, 3400.0, 1100.0, 3100.0, 300.0, 400.0, 50.0, 300.0, 1100.0, 500.0, 30000.0, 500.0, 550.0, 795.0, 150.0, 200.0, 400.0, 520.0, 375.0, 343.0, 2975.0, 1100.0, 700.0, 100.0, 5075.0, 3050.0, 833.0, 900.0, 3400.0, 625.0, 550.0, 3900.0, 850.0, 3750.0, 100.0, 600.0, 400.0, 1350.0, 250.0, 200.0, 1250.0, 3875.0, 6700.0, 600.0, 5300.0, 800.0, 150.0, 525.0, 2700.0, 400.0, 1600.0, 3475.0, 900.0, 380.0, 300.0, 367.0, 3000.0, 1700.0, 920.0, 9100.0, 2350.0, 18700.0, 1250.0, 3150.0, 650.0, 254.0, 600.0, 750.0, 450.0, 300.0, 650.0, 10750.0, 464.0, 2400.0, 550.0, 200.0, 800.0, 400.0, 1533.0, 9300.0, 700.0, 250.0, 200.0, 250.0, 700.0, 2825.0, 950.0, 50.0, 300.0, 600.0, 200.0, 400.0, 21150.0, 300.0, 900.0, 576.0, 700.0, 450.0, 496.0, 4350.0, 650.0, 500.0, 600.0, 2750.0, 300.0, 3350.0, 1250.0, 100.0, 1325.0, 850.0, 700.0, 1200.0, 150.0, 950.0, 300.0, 2400.0, 4450.0, 6700.0, 5600.0, 450.0, 800.0, 450.0, 850.0, 2250.0, 5950.0, 625.0, 100.0, 450.0, 1450.0, 19900.0, 50.0, 2600.0, 561.0, 600.0, 500.0, 562.0, 1775.0, 500.0, 50.0, 200.0, 14100.0, 100.0, 450.0, 1400.0, 1850.0, 250.0, 250.0, 250.0, 1250.0, 6800.0, 300.0, 200.0, 425.0, 1600.0, 500.0, 10150.0, 250.0, 400.0, 1000.0, 2600.0, 600.0, 1000.0, 3750.0, 200.0, 600.0, 1700.0, 150.0, 750.0, 600.0, 500.0, 700.0, 600.0, 300.0, 10443.0, 19700.0, 138.0, 400.0, 500.0, 2300.0, 100.0, 150.0, 1300.0, 3550.0, 975.0, 1200.0, 3850.0, 900.0, 300.0, 300.0, 2400.0, 900.0, 5300.0, 3350.0, 800.0, 250.0, 700.0, 300.0, 8100.0, 150.0, 250.0, 100.0, 300.0, 2450.0, 2500.0, 2410.0, 550.0, 70.0, 400.0, 2550.0, 700.0, 570.0, 2950.0, 18800.0, 1850.0, 575.0, 750.0, 400.0, 800.0, 240.0, 6050.0, 2800.0, 300.0, 200.0, 963.0, 5150.0, 198.0, 8875.0, 1300.0, 450.0, 20100.0, 1100.0, 250.0, 200.0, 325.0, 200.0, 262.0, 980.0, 2850.0, 250.0, 8375.0, 400.0, 150.0, 600.0, 2900.0, 458.0, 750.0, 150.0, 300.0, 550.0, 1175.0, 980.0, 9900.0, 900.0, 250.0, 650.0, 277.0, 3733.0, 1075.0, 1050.0, 450.0, 1500.0, 150.0, 1300.0, 1800.0, 800.0, 4350.0, 1700.0, 630.0, 250.0, 2400.0, 797.0, 9150.0, 850.0, 2650.0, 500.0, 700.0, 200.0, 800.0, 400.0, 250.0, 450.0, 7400.0, 500.0, 9950.0, 1600.0, 2500.0, 150.0, 150.0, 1400.0, 200.0, 250.0, 600.0, 3000.0, 8900.0, 6500.0, 513.0, 650.0, 250.0, 125.0, 100.0, 1150.0, 8250.0, 770.0, 100.0, 400.0, 150.0, 3900.0, 1400.0, 1075.0, 6400.0, 450.0, 117.0, 300.0, 600.0, 15400.0, 550.0, 370.0, 200.0, 550.0, 950.0, 5500.0, 150.0, 450.0, 250.0, 800.0, 550.0, 400.0, 1250.0, 1850.0, 400.0, 15750.0, 420.0, 350.0, 500.0, 100.0, 1300.0, 50.0, 1029.0, 600.0, 875.0, 900.0, 650.0, 500.0, 1625.0, 450.0, 150.0, 600.0, 5350.0, 400.0, 274.0, 600.0, 4050.0, 600.0, 950.0, 2600.0, 1400.0, 300.0, 7200.0, 1950.0, 445.0, 5250.0, 2400.0, 100.0, 150.0, 11650.0, 445.0, 100.0, 15300.0, 1800.0, 1100.0, 200.0, 9150.0, 150.0, 408.0, 9400.0, 1500.0, 300.0, 1200.0, 200.0, 8950.0, 460.0, 1125.0, 133.0, 529.0, 800.0, 1450.0, 300.0, 1000.0, 2958.0, 1000.0, 7850.0, 2200.0, 6700.0, 175.0, 400.0, 600.0, 2150.0, 500.0, 2000.0, 383.0, 1255.0, 100.0, 300.0, 2900.0, 1100.0, 3550.0, 270.0, 2800.0, 300.0, 300.0, 250.0, 100.0, 13800.0, 5800.0, 425.0, 3500.0, 200.0, 650.0, 675.0, 200.0, 750.0, 200.0, 1600.0, 725.0, 300.0, 245.0, 950.0, 300.0, 200.0, 800.0, 200.0, 150.0, 231.0, 600.0, 200.0, 200.0, 2850.0, 500.0, 4727.0, 3148.0, 300.0, 2050.0, 2700.0, 138.0, 1075.0, 1700.0, 100.0, 400.0, 400.0, 1450.0, 7000.0, 850.0, 1250.0, 16650.0, 635.0, 150.0, 6950.0, 550.0, 550.0, 1000.0, 675.0, 1450.0, 1000.0, 100.0, 5300.0, 783.0, 225.0, 300.0, 15350.0, 900.0, 4200.0, 10700.0, 600.0, 5650.0, 1450.0, 700.0, 1540.0, 1350.0, 458.0, 1050.0, 12250.0, 950.0, 1300.0, 500.0, 800.0, 4350.0, 1100.0, 1950.0, 200.0, 103.0, 1350.0, 400.0, 3400.0, 850.0, 2175.0, 550.0, 600.0, 1350.0, 550.0, 900.0, 21300.0, 800.0, 150.0, 600.0, 1200.0, 1900.0, 50.0, 300.0, 200.0, 500.0, 1400.0, 850.0, 900.0, 856.0, 900.0, 400.0, 250.0, 500.0, 1000.0, 800.0, 200.0, 742.0, 9950.0, 600.0, 300.0, 2200.0, 700.0, 100.0, 17533.0, 1550.0, 15200.0, 200.0, 10400.0, 350.0, 133.0, 100.0, 400.0, 410.0, 200.0, 700.0, 1164.0, 400.0, 700.0, 1900.0, 500.0, 600.0, 150.0, 2000.0, 500.0, 500.0, 3200.0, 200.0, 750.0, 300.0, 550.0, 400.0, 3950.0, 1280.0, 2133.0, 4853.0, 8525.0, 10600.0, 700.0, 6900.0, 517.0, 175.0, 2000.0, 300.0, 17900.0, 457.0, 15500.0, 300.0, 175.0, 7563.0, 1450.0, 125.0, 300.0, 1000.0, 1450.0, 150.0, 14800.0, 1050.0, 2100.0, 450.0, 6600.0, 400.0, 6250.0, 1200.0, 15800.0, 12050.0, 400.0, 150.0, 200.0, 9850.0, 300.0, 1500.0, 350.0, 250.0, 1400.0, 200.0, 250.0, 9300.0, 500.0, 800.0, 950.0, 675.0, 1100.0, 310.0, 800.0, 200.0, 1900.0, 600.0, 18050.0, 1300.0, 1700.0, 6800.0, 450.0, 100.0, 300.0, 750.0, 6950.0, 6300.0, 150.0, 750.0, 700.0, 200.0, 400.0, 300.0, 1100.0, 700.0, 100.0, 600.0, 450.0, 500.0, 150.0, 550.0, 250.0, 5075.0, 200.0, 175.0, 400.0, 850.0, 3167.0, 16300.0, 150.0, 1860.0, 100.0, 1600.0, 525.0, 300.0, 500.0, 700.0, 600.0, 730.0, 650.0, 2300.0, 1200.0, 300.0, 1150.0, 200.0, 1500.0, 30000.0, 2250.0, 1350.0, 556.0, 1700.0, 450.0, 2200.0, 700.0, 900.0, 1400.0, 800.0, 1800.0, 228.0, 7183.0, 600.0, 450.0, 1300.0, 5800.0, 2300.0, 50.0, 314.0, 8100.0, 600.0, 1500.0, 617.0, 700.0, 367.0, 400.0, 550.0, 600.0, 50.0, 2850.0, 8250.0, 100.0, 12150.0, 300.0, 150.0, 700.0, 200.0, 1050.0, 133.0, 150.0, 775.0, 2050.0, 2400.0, 600.0, 700.0, 1450.0, 4000.0, 6745.0, 1000.0, 200.0, 22150.0, 550.0, 5750.0, 4633.0, 1775.0, 400.0, 7950.0, 250.0, 400.0, 650.0, 950.0, 6350.0, 450.0, 1000.0, 190.0, 1600.0, 300.0, 111.0, 200.0, 300.0, 2400.0, 26600.0, 1050.0, 13300.0, 400.0, 2125.0, 950.0, 4350.0, 250.0, 2300.0, 200.0, 900.0, 500.0, 1750.0, 400.0, 119.0, 375.0, 500.0, 1125.0, 700.0, 300.0, 650.0, 9950.0, 800.0, 900.0, 400.0, 167.0, 343.0, 400.0, 14000.0, 8075.0, 7400.0, 300.0, 150.0, 200.0, 6700.0, 8250.0, 5550.0, 350.0, 1000.0, 1300.0, 300.0, 274.0, 842.0, 200.0, 150.0, 400.0, 700.0, 2850.0, 200.0, 100.0, 517.0, 450.0, 6100.0, 200.0, 200.0, 500.0, 662.0, 450.0, 100.0, 2600.0, 400.0, 598.0, 450.0, 250.0, 3000.0, 178.0, 29600.0, 800.0, 7725.0, 14600.0, 400.0, 1500.0, 110.0, 500.0, 1185.0, 8550.0, 500.0, 28250.0, 300.0, 250.0, 200.0, 1550.0, 400.0, 1500.0, 1103.0, 3450.0, 2250.0, 400.0, 3180.0, 19100.0, 200.0, 700.0, 700.0, 267.0, 200.0, 100.0, 300.0, 250.0, 4000.0, 200.0, 850.0, 400.0, 14200.0, 200.0, 2800.0, 1600.0, 700.0, 300.0, 12200.0, 100.0, 1650.0, 575.0, 350.0, 1050.0, 400.0, 6050.0, 275.0, 600.0, 150.0, 500.0, 100.0, 1200.0, 6100.0, 2008.0, 325.0, 275.0, 1700.0, 1025.0, 800.0, 306.0, 1683.0, 163.0, 300.0, 250.0, 400.0, 3250.0, 1200.0, 30000.0, 2056.0, 16850.0, 850.0, 200.0, 200.0, 400.0, 350.0, 15150.0, 175.0, 300.0, 1650.0, 500.0, 1150.0, 1200.0, 7600.0, 650.0, 190.0, 206.0, 761.0, 425.0, 200.0, 50.0, 400.0, 4750.0, 200.0, 11950.0, 2000.0, 596.0, 500.0, 266.0, 13700.0, 1200.0, 800.0, 200.0, 1275.0, 100.0, 1500.0, 493.0, 1000.0, 5050.0, 725.0, 367.0, 27200.0, 200.0, 100.0, 350.0, 283.0, 300.0, 2400.0, 6100.0, 300.0, 588.0, 350.0, 7750.0, 1250.0, 2250.0, 350.0, 600.0, 1050.0, 200.0, 700.0, 700.0, 9100.0, 450.0, 300.0, 1250.0, 3750.0, 5879.0, 417.0, 1200.0, 2130.0, 6450.0, 500.0, 11250.0, 100.0, 1100.0, 188.0, 300.0, 500.0, 1100.0, 1850.0, 900.0, 1200.0, 16350.0, 6900.0, 550.0, 2600.0, 3000.0, 2400.0, 9650.0, 575.0, 385.0, 1000.0, 800.0, 500.0, 2250.0, 600.0, 250.0, 700.0, 1900.0, 2200.0, 700.0, 3900.0, 300.0, 1050.0, 500.0, 200.0, 30000.0, 94.0, 1168.0, 700.0, 500.0, 6800.0, 400.0, 450.0, 7300.0, 963.0, 100.0, 500.0, 400.0, 450.0, 825.0, 6100.0, 375.0, 100.0, 3450.0, 350.0, 1310.0, 2550.0, 200.0, 10650.0, 1050.0, 16400.0, 500.0, 125.0, 400.0, 4700.0, 5350.0, 150.0, 1100.0, 226.0, 400.0, 1800.0, 150.0, 1500.0, 1200.0, 250.0, 750.0, 450.0, 83.0, 500.0, 4368.0, 10200.0, 642.0, 850.0, 400.0, 200.0, 217.0, 250.0, 250.0, 750.0, 268.0, 2150.0, 500.0, 200.0, 325.0, 2850.0, 10600.0, 2650.0, 300.0, 1000.0, 1100.0, 650.0, 350.0, 1200.0, 800.0, 320.0, 1075.0, 900.0, 800.0, 150.0, 233.0, 800.0, 3600.0, 840.0, 300.0, 750.0, 400.0, 450.0, 2550.0, 1300.0, 200.0, 1000.0, 810.0, 1300.0, 500.0, 200.0, 4900.0, 1550.0, 5750.0, 300.0, 1300.0, 1000.0, 200.0, 2850.0, 1600.0, 3900.0, 950.0, 1150.0, 200.0, 200.0, 500.0, 5600.0, 400.0, 150.0, 2900.0, 250.0, 2150.0, 300.0, 425.0, 100.0, 300.0, 1064.0, 30000.0, 600.0, 1300.0, 500.0, 350.0, 515.0, 14000.0, 1400.0, 50.0, 3050.0, 60.0, 450.0, 1700.0, 8450.0, 1533.0, 1050.0, 8450.0, 1375.0, 250.0, 200.0, 100.0, 6400.0, 900.0, 200.0, 1900.0, 1250.0, 217.0, 1100.0, 100.0, 501.0, 550.0, 567.0, 550.0, 300.0, 7600.0, 1325.0, 28750.0, 8500.0, 480.0, 900.0, 8650.0, 650.0, 50.0, 1050.0, 1500.0, 4800.0, 2570.0, 1850.0, 2800.0, 2250.0, 150.0, 300.0, 577.0, 1625.0, 300.0, 1250.0, 30000.0, 350.0, 2150.0, 1700.0, 650.0, 2000.0, 2500.0, 1200.0, 1200.0, 300.0, 400.0, 400.0, 450.0, 200.0, 5900.0, 1500.0, 1317.0, 7550.0, 100.0, 9950.0, 600.0, 350.0, 122.0, 2500.0, 650.0, 400.0, 2400.0, 381.0, 850.0, 275.0, 1250.0, 2950.0, 200.0, 250.0, 550.0, 250.0, 20700.0, 2483.0, 1500.0, 1400.0, 100.0, 2000.0, 167.0, 1300.0, 11150.0, 400.0, 1800.0, 5200.0, 6100.0, 30000.0, 2400.0, 2400.0, 15450.0, 249.0, 1450.0, 1300.0, 8000.0, 3000.0, 50.0, 200.0, 5150.0, 1600.0, 210.0, 300.0, 400.0, 225.0, 4400.0, 3100.0, 2550.0, 1400.0, 1700.0, 4450.0, 1033.0, 200.0, 900.0, 1100.0, 500.0, 8550.0, 600.0, 400.0, 5500.0, 4300.0, 600.0, 1975.0, 500.0, 600.0, 1050.0, 1700.0, 550.0, 1350.0, 600.0, 600.0, 367.0, 300.0, 500.0, 210.0, 1800.0, 1600.0, 500.0, 300.0, 800.0, 750.0, 300.0, 567.0, 300.0, 400.0, 600.0, 1675.0, 600.0, 4940.0, 100.0, 617.0, 580.0, 450.0, 100.0, 21450.0, 250.0, 150.0, 1000.0, 200.0, 188.0, 750.0, 150.0, 1800.0, 500.0, 300.0, 450.0, 350.0, 3500.0, 600.0, 1900.0, 3720.0, 700.0, 700.0, 1400.0, 150.0, 300.0, 350.0, 200.0, 700.0, 1400.0, 250.0, 465.0, 200.0, 800.0, 250.0, 7700.0, 400.0, 400.0, 150.0, 15800.0, 700.0, 1300.0, 275.0, 394.0, 700.0, 350.0, 300.0, 192.0, 350.0, 700.0, 275.0, 1375.0, 10408.0, 900.0, 800.0, 3350.0, 342.0, 700.0, 50.0, 9700.0, 150.0, 16750.0, 19500.0, 3750.0, 175.0, 1950.0, 150.0, 750.0, 1200.0, 16100.0, 600.0, 750.0, 3200.0, 2100.0, 5683.0, 300.0, 1650.0, 1100.0, 400.0, 1350.0, 4850.0, 500.0, 2500.0, 5300.0, 100.0, 2050.0, 3000.0, 1250.0, 600.0, 7450.0, 300.0, 100.0, 6025.0, 2000.0, 400.0, 6300.0, 1400.0, 900.0, 2400.0, 882.0, 13700.0, 300.0, 350.0, 10050.0, 1100.0, 9900.0, 800.0, 900.0, 600.0, 1750.0, 250.0, 1950.0, 850.0, 16900.0, 350.0, 383.0, 200.0, 3000.0, 6360.0, 750.0, 500.0, 3600.0, 1500.0, 300.0, 12950.0, 850.0, 530.0, 700.0, 700.0, 700.0, 200.0, 21200.0, 30000.0, 4920.0, 250.0, 1317.0, 1500.0, 5700.0, 700.0, 2050.0, 9400.0, 500.0, 150.0, 264.0, 200.0, 1325.0, 19500.0, 300.0, 3300.0, 750.0, 547.0, 575.0, 1000.0, 350.0, 3600.0, 400.0, 1700.0, 1500.0, 26950.0, 250.0, 8000.0, 500.0, 483.0, 9600.0, 487.0, 250.0, 5500.0, 300.0, 667.0, 100.0, 300.0, 1200.0, 6650.0, 140.0, 1700.0, 750.0, 400.0, 750.0, 1100.0, 9250.0, 145.0, 5100.0, 450.0, 200.0, 1350.0, 100.0, 950.0, 517.0, 100.0, 423.0, 867.0, 100.0, 4200.0, 583.0, 12350.0, 350.0, 1400.0, 200.0, 1750.0, 150.0, 350.0, 300.0, 200.0, 3150.0, 11600.0, 550.0, 700.0, 1150.0, 1500.0, 6143.0, 440.0, 10850.0, 250.0, 350.0, 200.0, 150.0, 700.0, 1600.0, 300.0, 1200.0, 3150.0, 153.0, 250.0, 175.0, 200.0, 300.0, 600.0, 850.0, 250.0, 1475.0, 1700.0, 1600.0, 6372.0, 17800.0, 300.0, 200.0, 6267.0, 1150.0, 100.0, 3400.0, 100.0, 1938.0, 10450.0, 820.0, 1500.0, 12400.0, 7150.0, 153.0, 150.0, 350.0, 800.0, 100.0, 400.0, 100.0, 22625.0, 100.0, 500.0, 5575.0, 250.0, 1050.0, 550.0, 2100.0, 21000.0, 10800.0, 4350.0, 100.0, 1600.0, 100.0, 200.0, 250.0, 575.0, 5690.0, 1650.0, 550.0, 1200.0, 1600.0, 16000.0, 550.0, 200.0, 775.0, 442.0, 1000.0, 1900.0, 2600.0, 200.0, 9350.0, 7350.0, 1050.0, 8500.0, 200.0, 9200.0, 1600.0, 600.0, 500.0, 550.0, 97.0, 800.0, 100.0, 1100.0, 800.0, 700.0, 1106.0, 300.0, 533.0, 100.0, 5200.0, 425.0, 1000.0, 5300.0, 300.0, 200.0, 1000.0, 900.0, 400.0, 1200.0, 450.0, 650.0, 1700.0, 538.0, 325.0, 2100.0, 300.0, 150.0, 160.0, 1358.0, 850.0, 1123.0, 450.0, 200.0, 1600.0, 3000.0, 4000.0, 190.0, 3663.0, 958.0, 275.0, 200.0, 600.0, 700.0, 500.0, 6850.0, 6150.0, 950.0, 500.0, 900.0, 150.0, 1400.0, 700.0, 6400.0, 390.0, 900.0, 2220.0, 10400.0, 4950.0, 2400.0, 150.0, 510.0, 9400.0, 600.0, 2000.0, 800.0, 567.0, 300.0, 4400.0, 450.0, 400.0, 6850.0, 400.0, 2800.0, 1400.0, 300.0, 800.0, 150.0, 700.0, 150.0, 450.0, 600.0, 700.0, 200.0, 400.0, 100.0, 1425.0, 950.0, 600.0, 8800.0, 200.0, 100.0, 200.0, 200.0, 2000.0, 1000.0, 340.0, 800.0, 1325.0, 2350.0, 600.0, 600.0, 100.0, 6200.0, 500.0, 5050.0, 325.0, 450.0, 1350.0, 1100.0, 3000.0, 22175.0, 1300.0, 10100.0, 200.0, 550.0, 1950.0, 300.0, 200.0, 1650.0, 200.0, 1700.0, 200.0, 500.0, 900.0, 1200.0, 9000.0, 139.0, 400.0, 3400.0, 1700.0, 23700.0, 5050.0, 750.0, 400.0, 2600.0, 840.0, 200.0, 18600.0, 12160.0, 400.0, 1600.0, 500.0, 2800.0, 295.0, 825.0, 3400.0, 400.0, 6950.0, 200.0, 225.0, 7400.0, 1700.0, 250.0, 1400.0, 2500.0, 200.0, 250.0, 18500.0, 1000.0, 900.0, 975.0, 700.0, 600.0, 400.0, 850.0, 250.0, 5500.0, 150.0, 450.0, 483.0, 291.0, 1650.0, 350.0, 650.0, 600.0, 200.0, 200.0, 600.0, 150.0, 550.0, 800.0, 2250.0, 1850.0, 2100.0, 2750.0, 1850.0, 750.0, 775.0, 1450.0, 850.0, 800.0, 2350.0, 242.0, 900.0, 750.0, 200.0, 400.0, 4900.0, 400.0, 300.0, 225.0, 700.0, 761.0, 2550.0, 200.0, 100.0, 500.0, 5700.0, 7000.0, 750.0, 5850.0, 2700.0, 400.0, 700.0, 6050.0, 540.0, 1900.0, 150.0, 1400.0, 1100.0, 600.0, 350.0, 1000.0, 286.0, 300.0, 300.0, 12333.0, 628.0, 700.0, 700.0, 250.0, 800.0, 2100.0, 380.0, 650.0, 1600.0, 2000.0, 1600.0, 583.0, 13800.0, 700.0, 355.0, 325.0, 650.0, 1000.0, 190.0, 350.0, 1700.0, 400.0, 23950.0, 150.0, 550.0, 18950.0, 500.0, 100.0, 3450.0, 3750.0, 217.0, 250.0, 1550.0, 300.0, 860.0, 300.0, 540.0, 350.0, 30000.0, 2100.0, 1100.0, 500.0, 1100.0, 250.0, 150.0, 900.0, 100.0, 1800.0, 225.0, 100.0, 200.0, 14150.0, 823.0, 750.0, 3300.0, 2850.0, 418.0, 300.0, 1080.0, 1400.0, 500.0, 417.0, 16100.0, 600.0, 250.0, 200.0, 600.0, 250.0, 200.0, 14100.0, 450.0, 2125.0, 850.0, 650.0, 1400.0, 500.0, 14500.0, 800.0, 300.0, 150.0, 4600.0, 200.0, 2800.0, 150.0, 17200.0, 300.0, 200.0, 1100.0, 3000.0, 200.0, 610.0, 14775.0, 650.0, 10000.0, 350.0, 1800.0, 800.0, 650.0, 250.0, 1422.0, 456.0, 10050.0, 900.0, 1825.0, 150.0, 20500.0, 1600.0, 400.0, 300.0, 4250.0, 300.0, 250.0, 7350.0, 150.0, 200.0, 1600.0, 1350.0, 2350.0, 2233.0, 200.0, 400.0, 400.0, 1150.0, 300.0, 773.0, 4250.0, 50.0, 974.0, 600.0, 1330.0, 1833.0, 1650.0, 1450.0, 923.0, 200.0, 250.0, 300.0, 200.0, 250.0, 29700.0, 800.0, 900.0, 700.0, 550.0, 250.0, 2600.0, 12880.0, 600.0, 14150.0, 633.0, 600.0, 400.0, 14033.0, 400.0, 250.0, 1200.0, 300.0, 300.0, 250.0, 400.0, 600.0, 200.0, 1100.0, 283.0, 16133.0, 300.0, 20500.0, 700.0, 8950.0, 200.0, 350.0, 575.0, 5000.0, 1286.0, 1500.0, 700.0, 300.0, 200.0, 500.0, 650.0, 1000.0, 19800.0, 200.0, 2950.0, 3750.0, 600.0, 550.0, 300.0, 425.0, 500.0, 150.0, 300.0, 550.0, 850.0, 900.0, 1917.0, 350.0, 700.0, 500.0, 1450.0, 800.0, 300.0, 450.0, 6600.0, 350.0, 8950.0, 200.0, 250.0, 100.0, 200.0, 100.0, 1075.0, 1200.0, 700.0, 350.0, 1300.0, 150.0, 200.0, 550.0, 217.0, 1750.0, 200.0, 1450.0, 200.0, 700.0, 250.0, 2300.0, 350.0, 1300.0, 900.0, 6300.0, 200.0, 1000.0, 693.0, 348.0, 2050.0, 1000.0, 500.0, 700.0, 1640.0, 300.0, 300.0, 1240.0, 700.0, 2650.0, 12100.0, 688.0, 2300.0, 333.0, 150.0, 1200.0, 593.0, 600.0, 17800.0, 300.0, 200.0, 3150.0, 50.0, 850.0, 975.0, 13000.0, 1500.0, 2500.0, 1450.0, 500.0, 2000.0, 400.0, 3250.0, 350.0, 500.0, 8800.0, 900.0, 325.0, 900.0, 1600.0, 400.0, 1950.0, 2350.0, 280.0, 1867.0, 207.0, 517.0, 250.0, 500.0, 300.0, 775.0, 5400.0, 5850.0, 4750.0, 1500.0, 1150.0, 2300.0, 600.0, 200.0, 1400.0, 12200.0, 50.0, 300.0, 900.0, 357.0, 525.0, 13050.0, 350.0, 10650.0, 200.0, 100.0, 9200.0, 2600.0, 500.0, 983.0, 100.0, 2300.0, 150.0, 4750.0, 550.0, 200.0, 700.0, 3100.0, 300.0, 650.0, 717.0, 1363.0, 450.0, 1500.0, 2850.0, 280.0, 50.0, 588.0, 850.0, 900.0, 700.0, 200.0, 100.0, 350.0, 200.0, 3100.0, 175.0, 200.0, 750.0, 400.0, 88.0, 467.0, 300.0, 150.0, 100.0, 750.0, 483.0, 200.0, 550.0, 550.0, 475.0, 800.0, 280.0, 8050.0, 800.0, 2250.0, 7175.0, 30000.0, 2350.0, 163.0, 600.0, 1725.0, 1600.0, 1800.0, 600.0, 800.0, 200.0, 2700.0, 1750.0, 550.0, 275.0, 200.0, 800.0, 1000.0, 9200.0, 100.0, 650.0, 700.0, 225.0, 200.0, 800.0, 100.0, 500.0, 1100.0, 1300.0, 13805.0, 1250.0, 150.0, 1400.0, 650.0, 200.0, 175.0, 1050.0, 10950.0, 2350.0, 6700.0, 450.0, 400.0, 200.0, 725.0, 1825.0, 350.0, 100.0, 835.0, 1175.0, 26000.0, 4650.0, 300.0, 550.0, 150.0, 1500.0, 400.0, 900.0, 1349.0, 2500.0, 10800.0, 550.0, 1275.0, 100.0, 550.0, 2700.0, 445.0, 700.0, 400.0, 600.0, 400.0, 2200.0, 3550.0, 400.0, 6950.0, 1300.0, 1300.0, 342.0, 180.0, 200.0, 1100.0, 600.0, 117.0, 8800.0, 2200.0, 920.0, 683.0, 925.0, 575.0, 275.0, 250.0, 200.0, 2500.0, 3850.0, 900.0, 225.0, 1300.0, 300.0, 100.0, 100.0, 750.0, 200.0, 1850.0, 200.0, 200.0, 200.0, 450.0, 6700.0, 13700.0, 500.0, 1250.0, 850.0, 2050.0, 1263.0, 1650.0, 14900.0, 100.0, 1050.0, 11450.0, 100.0, 914.0, 250.0, 350.0, 1450.0, 400.0, 450.0, 1100.0, 8800.0, 7250.0, 500.0, 3100.0, 950.0, 1350.0, 1925.0, 28500.0, 1500.0, 12250.0, 2133.0, 1133.0, 1300.0, 2275.0, 600.0, 3250.0, 700.0, 175.0, 2900.0, 600.0, 225.0, 1250.0, 2075.0, 400.0, 400.0, 213.0, 1150.0, 1750.0, 1250.0, 1700.0, 800.0, 100.0, 650.0, 350.0, 100.0, 5800.0, 250.0, 400.0, 300.0, 350.0, 12600.0, 350.0, 1625.0, 525.0, 300.0, 300.0, 200.0, 800.0, 300.0, 267.0, 200.0, 16650.0, 18500.0, 650.0, 460.0, 4900.0, 500.0, 481.0, 700.0, 440.0, 342.0, 100.0, 2300.0, 375.0, 2350.0, 4900.0, 1700.0, 50.0, 300.0, 450.0, 3060.0, 550.0, 1100.0, 300.0, 2350.0, 1500.0, 1400.0, 3750.0, 189.0, 250.0, 16800.0, 300.0, 1800.0, 100.0, 1500.0, 20850.0, 3200.0, 350.0, 350.0, 350.0, 200.0, 350.0, 10300.0, 13450.0, 150.0, 750.0, 800.0, 200.0, 100.0, 100.0, 100.0, 1000.0, 250.0, 600.0, 100.0, 6500.0, 1500.0, 10000.0, 500.0, 950.0, 1167.0, 200.0, 1100.0, 400.0, 4600.0, 1350.0, 1200.0, 1100.0, 90.0, 575.0, 600.0, 450.0, 550.0, 900.0, 20100.0, 950.0, 500.0, 250.0, 700.0, 3600.0, 1975.0, 4050.0, 1100.0, 13700.0, 675.0, 100.0, 250.0, 700.0, 2800.0, 170.0, 4100.0, 200.0, 8250.0, 900.0, 550.0, 450.0, 450.0, 450.0, 5100.0, 200.0, 950.0, 400.0, 4400.0, 150.0, 450.0, 400.0, 363.0, 1400.0, 3100.0, 1400.0, 750.0, 1950.0, 300.0, 30000.0, 75.0, 150.0, 550.0, 350.0, 300.0, 1850.0, 200.0, 500.0, 1400.0, 183.0, 200.0, 200.0, 400.0, 600.0, 283.0, 950.0, 22250.0, 350.0, 83.0, 4583.0, 100.0, 325.0, 7750.0, 200.0, 300.0, 350.0, 5900.0, 650.0, 10150.0, 150.0, 3650.0, 250.0, 100.0, 200.0, 5050.0, 600.0, 700.0, 30000.0, 289.0, 1750.0, 19650.0, 700.0, 700.0, 20450.0, 250.0, 1250.0, 350.0, 50.0, 250.0, 350.0, 667.0, 200.0, 50.0, 1400.0, 1950.0, 2350.0, 617.0, 500.0, 300.0, 10550.0, 1933.0, 300.0, 925.0, 450.0, 200.0, 700.0, 1500.0, 1700.0, 2800.0, 825.0, 1900.0, 900.0, 150.0, 2200.0, 263.0, 287.0, 29500.0, 1250.0, 990.0, 1100.0, 400.0, 5000.0, 335.0, 1400.0, 250.0, 600.0, 550.0, 700.0, 1150.0, 3600.0, 1200.0, 200.0, 750.0, 200.0, 1700.0, 1300.0, 400.0, 250.0, 300.0, 28100.0, 13350.0, 517.0, 200.0, 350.0, 500.0, 5350.0, 200.0, 1300.0, 2300.0, 1150.0, 1800.0, 3533.0, 400.0, 300.0, 9100.0, 200.0, 1300.0, 575.0, 600.0, 433.0, 7250.0, 1818.0, 300.0, 1550.0, 750.0, 700.0, 400.0, 2200.0, 600.0, 1200.0, 350.0, 300.0, 2800.0, 135.0, 700.0, 300.0, 8900.0, 250.0, 600.0, 1750.0, 350.0, 700.0, 1850.0, 350.0, 100.0, 200.0, 200.0, 250.0, 850.0, 18150.0, 1350.0, 500.0, 700.0, 3300.0, 9150.0, 900.0, 200.0, 5300.0, 1150.0, 2303.0, 200.0, 5600.0, 800.0, 401.0, 1350.0, 1900.0, 125.0, 444.0, 1288.0, 600.0, 1700.0, 600.0, 58.0, 250.0, 700.0, 400.0, 500.0, 1750.0, 1450.0, 250.0, 375.0, 7003.0, 9000.0, 1600.0, 550.0, 270.0, 600.0, 30000.0, 285.0, 450.0, 2050.0, 600.0, 270.0, 150.0, 2000.0, 650.0, 4800.0, 950.0, 600.0, 250.0, 625.0, 1800.0, 980.0, 1650.0, 450.0, 850.0, 600.0, 150.0, 438.0, 1050.0, 1600.0, 633.0, 850.0, 400.0, 10850.0, 3020.0, 350.0, 1400.0, 150.0, 80.0, 1925.0, 498.0, 500.0, 150.0, 371.0, 800.0, 450.0, 3000.0, 1750.0, 9560.0, 250.0, 400.0, 11300.0, 11550.0, 1300.0, 800.0, 300.0, 18400.0, 2300.0, 167.0, 150.0, 225.0, 650.0, 650.0, 9050.0, 300.0, 100.0, 5350.0, 100.0, 800.0, 200.0, 100.0, 200.0, 800.0, 1250.0, 100.0, 12450.0, 1750.0, 400.0, 700.0, 550.0, 1250.0, 1300.0, 250.0, 700.0, 900.0, 50.0, 300.0, 6575.0, 250.0, 3425.0, 500.0, 3150.0, 394.0, 3750.0, 400.0, 223.0, 2700.0, 9000.0, 400.0, 2500.0, 2850.0, 3100.0, 1500.0, 90.0, 1600.0, 600.0, 6150.0, 100.0, 975.0, 350.0, 7750.0, 480.0, 4550.0, 3600.0, 300.0, 800.0, 250.0, 600.0, 1700.0, 30000.0, 333.0, 750.0, 900.0, 1000.0, 2229.0, 317.0, 500.0, 150.0, 250.0, 3300.0, 200.0, 1250.0, 2900.0, 800.0, 1300.0, 1500.0, 4450.0, 14300.0, 1350.0, 800.0, 606.0, 550.0, 50.0, 1700.0, 5875.0, 2710.0, 150.0, 100.0, 1350.0, 4325.0, 2100.0, 6900.0, 1375.0, 1150.0, 750.0, 300.0, 2374.0, 100.0, 900.0, 200.0, 250.0, 200.0, 11600.0, 400.0, 150.0, 330.0, 200.0, 1600.0, 600.0, 350.0, 300.0, 600.0, 800.0, 100.0, 350.0, 2400.0, 300.0, 1300.0, 500.0, 788.0, 450.0, 1225.0, 600.0, 5867.0, 2225.0, 1800.0, 500.0, 1550.0, 750.0, 521.0, 100.0, 3750.0, 7200.0, 50.0, 1050.0, 528.0, 1150.0, 300.0, 240.0, 650.0, 1650.0, 372.0, 200.0, 422.0, 1650.0, 250.0, 400.0, 175.0, 1100.0, 682.0, 1150.0, 750.0, 150.0, 767.0, 20900.0, 300.0, 200.0, 120.0, 475.0, 50.0, 5200.0, 233.0, 100.0, 1500.0, 100.0, 300.0, 400.0, 310.0, 700.0, 500.0, 250.0, 300.0, 600.0, 400.0, 600.0, 1450.0, 350.0, 200.0, 1700.0, 1250.0, 1500.0, 900.0, 150.0, 4800.0, 2000.0, 15300.0, 18400.0, 125.0, 230.0, 425.0, 26400.0, 750.0, 250.0, 3250.0, 5200.0, 1032.0, 775.0, 350.0, 3133.0, 600.0, 550.0, 150.0, 200.0, 2750.0, 2400.0, 7250.0, 500.0, 250.0, 250.0, 300.0, 1538.0, 100.0, 1500.0, 1200.0, 100.0, 900.0, 1200.0, 900.0, 15200.0, 10300.0, 270.0, 1500.0, 3900.0, 995.0, 550.0, 1900.0, 3675.0, 1205.0, 350.0, 150.0, 1950.0, 200.0, 500.0, 4550.0, 2800.0, 350.0, 50.0, 200.0, 438.0, 3600.0, 1200.0, 1250.0, 550.0, 13000.0, 150.0, 370.0, 400.0, 7150.0, 400.0, 733.0, 700.0, 155.0, 1100.0, 600.0, 500.0, 4825.0, 7325.0, 1200.0, 250.0, 505.0, 400.0, 2100.0, 350.0, 1450.0, 500.0, 300.0, 2200.0, 200.0, 400.0, 500.0, 10750.0, 300.0, 650.0, 700.0, 1600.0, 300.0, 300.0, 11833.0, 1700.0, 11900.0, 850.0, 100.0, 150.0, 500.0, 600.0, 433.0, 350.0, 2375.0, 1454.0, 440.0, 500.0, 650.0, 500.0, 850.0, 200.0, 6500.0, 700.0, 15467.0, 900.0, 525.0, 350.0, 3600.0, 150.0, 1150.0, 200.0, 8350.0, 850.0, 550.0, 750.0, 450.0, 1600.0, 300.0, 400.0, 300.0, 200.0, 378.0, 250.0, 410.0, 3900.0, 1095.0, 900.0, 2250.0, 500.0, 484.0, 400.0, 250.0, 500.0, 4800.0, 719.0, 1500.0, 1650.0, 100.0, 3900.0, 400.0, 7550.0, 650.0, 200.0, 175.0, 3200.0, 150.0, 600.0, 1000.0, 1225.0, 1500.0, 150.0, 100.0, 3300.0, 793.0, 400.0, 20500.0, 100.0, 400.0, 1950.0, 1450.0, 5800.0, 250.0, 3400.0, 250.0, 367.0, 4550.0, 550.0, 600.0, 300.0, 50.0, 8250.0, 300.0, 1850.0, 600.0, 500.0, 921.0, 2300.0, 900.0, 200.0, 150.0, 300.0, 200.0, 633.0, 750.0, 850.0, 284.0, 100.0, 300.0, 3300.0, 800.0, 426.0, 800.0, 600.0, 10825.0, 2800.0, 150.0, 2400.0, 900.0, 945.0, 700.0, 200.0, 200.0, 7050.0, 700.0, 1550.0, 200.0, 700.0, 400.0, 300.0, 400.0, 400.0, 700.0, 6200.0, 6050.0, 3400.0, 4400.0, 150.0, 450.0, 500.0, 700.0, 850.0, 500.0, 165.0, 350.0, 400.0, 3000.0, 150.0, 3500.0, 400.0, 1000.0, 700.0, 700.0, 800.0, 3200.0, 600.0, 150.0, 500.0, 250.0, 800.0, 125.0, 4200.0, 300.0, 725.0, 2600.0, 50.0, 850.0, 283.0, 1650.0, 20650.0, 10900.0, 800.0, 333.0, 1600.0, 2000.0, 200.0, 400.0, 5050.0, 2350.0, 450.0, 200.0, 1000.0, 625.0, 2000.0, 975.0, 400.0, 200.0, 900.0, 725.0, 250.0, 325.0, 250.0, 800.0, 200.0, 450.0, 353.0, 100.0, 1100.0, 850.0, 463.0, 2900.0, 400.0, 283.0, 3000.0, 2650.0, 900.0, 232.0, 6500.0, 300.0, 800.0, 7150.0, 250.0, 600.0, 183.0, 578.0, 8700.0, 900.0, 3000.0, 3900.0, 3600.0, 800.0, 2800.0, 500.0, 550.0, 500.0, 1300.0, 3750.0, 2500.0, 18050.0, 2200.0, 3050.0, 5150.0, 450.0, 1250.0, 9350.0, 567.0, 1300.0, 900.0, 450.0, 850.0, 800.0, 400.0, 850.0, 100.0, 200.0, 100.0, 1800.0, 665.0, 600.0, 200.0, 700.0, 235.0, 300.0, 8400.0, 1650.0, 300.0, 75.0, 3400.0, 1500.0, 15300.0, 300.0, 547.0, 250.0, 1000.0, 425.0, 100.0, 6150.0, 27350.0, 100.0, 1025.0, 1325.0, 13300.0, 875.0, 200.0, 5900.0, 2800.0, 950.0, 100.0, 17350.0, 8400.0, 300.0, 1850.0, 500.0, 400.0, 2650.0, 1200.0, 7650.0, 250.0, 1500.0, 400.0, 1950.0, 600.0, 900.0, 1050.0, 1400.0, 175.0, 150.0, 500.0, 425.0, 800.0, 750.0, 1300.0, 1100.0, 4050.0, 1900.0, 1050.0, 1150.0, 650.0, 900.0, 3250.0, 100.0, 200.0, 500.0, 3000.0, 1100.0, 250.0, 350.0, 238.0, 7600.0, 550.0, 200.0, 200.0, 650.0, 1150.0, 600.0, 220.0, 1900.0, 450.0, 650.0, 9150.0, 1575.0, 500.0, 1275.0, 1300.0, 1750.0, 850.0, 125.0, 1000.0, 700.0, 300.0, 15300.0, 450.0, 1000.0, 1500.0, 150.0, 150.0, 150.0, 800.0, 200.0, 1033.0, 350.0, 4050.0, 140.0, 100.0, 6100.0, 1036.0, 200.0, 600.0, 400.0, 1600.0, 200.0, 700.0, 600.0, 550.0, 250.0, 855.0, 250.0, 422.0, 426.0, 200.0, 1350.0, 500.0, 900.0, 850.0, 1150.0, 727.0, 9750.0, 4750.0, 700.0, 300.0, 128.0, 175.0, 250.0, 1300.0, 200.0, 1350.0, 300.0, 200.0, 300.0, 12700.0, 665.0, 800.0, 400.0, 1050.0, 3450.0, 400.0, 900.0, 900.0, 8450.0, 150.0, 3750.0, 300.0, 200.0, 100.0, 700.0, 250.0, 350.0, 170.0, 850.0, 3500.0, 320.0, 250.0, 700.0, 10400.0, 500.0, 1600.0, 2250.0, 1100.0, 200.0, 29000.0, 5350.0, 1600.0, 600.0, 250.0, 628.0, 5800.0, 1650.0, 200.0, 6350.0, 6750.0, 100.0, 5575.0, 50.0, 300.0, 1175.0, 200.0, 1600.0, 15100.0, 200.0, 3300.0, 1450.0, 1775.0, 1000.0, 2550.0, 1325.0, 1000.0, 350.0, 500.0, 429.0, 1100.0, 900.0, 150.0, 450.0, 11200.0, 200.0, 1100.0, 1500.0, 556.0, 1100.0, 200.0, 710.0, 2350.0, 950.0, 3875.0, 233.0, 1900.0, 6650.0, 2100.0, 6050.0, 30000.0, 850.0, 1100.0, 14900.0, 1100.0, 350.0, 2200.0, 200.0, 183.0, 5900.0, 3500.0, 1800.0, 3000.0, 900.0, 338.0, 1700.0, 800.0, 125.0, 2250.0, 200.0, 2150.0, 150.0, 1100.0, 300.0, 1450.0, 375.0, 1350.0, 100.0, 600.0, 1875.0, 450.0, 750.0, 250.0, 50.0, 400.0, 5550.0, 100.0, 15200.0, 500.0, 450.0, 425.0, 340.0, 100.0, 1300.0, 700.0, 300.0, 438.0, 1800.0, 550.0, 500.0, 300.0, 1795.0, 8800.0, 400.0, 1350.0, 305.0, 825.0, 500.0, 900.0, 4000.0, 284.0, 1900.0, 9350.0, 650.0, 200.0, 1800.0, 505.0, 1725.0, 300.0, 200.0, 1500.0, 750.0, 6550.0, 10750.0, 11450.0, 2300.0, 950.0, 1900.0, 2500.0, 1400.0, 15000.0, 23700.0, 833.0, 2208.0, 800.0, 200.0, 1000.0, 450.0, 4050.0, 2900.0, 400.0, 17300.0, 8250.0, 550.0, 3300.0, 1000.0, 950.0, 700.0, 3100.0, 2900.0, 1700.0, 1350.0, 1250.0, 2900.0, 2150.0, 1050.0, 3200.0, 867.0, 175.0, 900.0, 600.0, 800.0, 450.0, 400.0, 16000.0, 200.0, 300.0, 1600.0, 11900.0, 100.0, 575.0, 2350.0, 450.0, 1400.0, 350.0, 4300.0, 700.0, 1100.0, 1650.0, 700.0, 550.0, 350.0, 1300.0, 900.0, 5100.0, 300.0, 1200.0, 300.0, 1200.0, 600.0, 3700.0, 11400.0, 600.0, 538.0, 100.0, 300.0, 1850.0, 1956.0, 15000.0, 200.0, 100.0, 450.0, 100.0, 650.0, 100.0, 1000.0, 100.0, 450.0, 300.0, 500.0, 450.0, 1626.0, 1100.0, 200.0, 1100.0, 1625.0, 5600.0, 250.0, 1100.0, 800.0, 1875.0, 3200.0, 4600.0, 500.0, 250.0, 300.0, 1650.0, 50.0, 400.0, 975.0, 250.0, 11710.0, 460.0, 400.0, 2900.0, 600.0, 400.0, 1338.0, 450.0, 500.0, 300.0, 350.0, 1000.0, 400.0, 200.0, 412.0, 2900.0, 2600.0, 2850.0, 3150.0, 850.0, 4300.0, 10750.0, 850.0, 4500.0, 250.0, 300.0, 147.0, 450.0, 300.0, 250.0, 570.0, 200.0, 550.0, 2150.0, 1300.0, 3250.0, 200.0, 650.0, 1600.0, 200.0, 14400.0, 190.0, 800.0, 15100.0, 900.0, 450.0, 1500.0, 850.0, 250.0, 800.0, 4825.0, 200.0, 150.0, 1150.0, 400.0, 2300.0, 1900.0, 2550.0, 50.0, 1175.0, 150.0, 400.0, 1800.0, 300.0, 400.0, 7900.0, 50.0, 250.0, 150.0, 200.0, 600.0, 1373.0, 2900.0, 750.0, 3300.0, 473.0, 5000.0, 2300.0, 800.0, 9725.0, 5400.0, 8725.0, 100.0, 400.0, 11950.0, 6575.0, 150.0, 250.0, 50.0, 500.0, 200.0, 150.0, 3550.0, 600.0, 30000.0, 550.0, 900.0, 300.0, 200.0, 900.0, 1500.0, 500.0, 500.0, 100.0, 6300.0, 950.0, 300.0, 250.0, 500.0, 500.0, 300.0, 1200.0, 1100.0, 350.0, 1500.0, 8250.0, 518.0, 200.0, 500.0, 2200.0, 2400.0, 150.0, 5150.0, 100.0, 1252.0, 4350.0, 1100.0, 1625.0, 1300.0, 209.0, 8100.0, 1450.0, 100.0, 900.0, 150.0, 1200.0, 7800.0, 6225.0, 900.0, 450.0, 190.0, 150.0, 350.0, 600.0, 250.0, 100.0, 2600.0, 3000.0, 2835.0, 1375.0, 18900.0, 10050.0, 200.0, 400.0, 13900.0, 6900.0, 1950.0, 700.0, 200.0, 250.0, 450.0, 1050.0, 5050.0, 9100.0, 100.0, 600.0, 450.0, 1100.0, 6450.0, 2000.0, 15600.0, 1400.0, 5775.0, 750.0, 350.0, 200.0, 400.0, 200.0, 300.0, null, 900.0, 1400.0, 200.0, 1600.0, 450.0, 900.0, 1100.0, 167.0, 333.0, 1100.0, 2500.0, 300.0, 300.0, 400.0, 600.0, 300.0, 900.0, 500.0, 650.0, 200.0, 1400.0, 400.0, 11700.0, 2400.0, 700.0, 14650.0, 400.0, 18900.0, 200.0, 300.0, 300.0, 350.0, 1000.0, 6300.0, 900.0, 30000.0, 350.0, 2400.0, 150.0, 200.0, 950.0, 985.0, 1100.0, 16100.0, 150.0, 1425.0, 300.0, 15200.0, 18233.0, 2000.0, 25800.0, 700.0, 750.0, 5900.0, 950.0, 50.0, 1050.0, 200.0, 600.0, 400.0, 250.0, 9600.0, 6000.0, 800.0, 22800.0, 30000.0, 300.0, 350.0, 5200.0, 300.0, 800.0, 175.0, 200.0, 3125.0, 700.0, 4400.0, 200.0, 1500.0, 200.0, 3121.0, 10950.0, 1167.0, 3050.0, 1600.0, 600.0, 200.0, 20050.0, 200.0, 800.0, 550.0, 400.0, 250.0, 700.0, 5750.0, 1350.0, 300.0, 17100.0, 700.0, 5775.0, 150.0, 225.0, 1000.0, 1700.0, 1800.0, 200.0, 1400.0, 500.0, 1000.0, 817.0, 3800.0, 1100.0, 9700.0, 375.0, 300.0, 1150.0, 150.0, 416.0, 650.0, 250.0, 400.0, 200.0, 250.0, 350.0, 1300.0, 900.0, 1250.0, 1250.0, 10150.0, 175.0, 800.0, 1350.0, 217.0, 200.0, 650.0, 275.0, 200.0, 300.0, 4200.0, 796.0, 700.0, 1450.0, 2220.0, 100.0, 17150.0, 427.0, 250.0, 1700.0, 350.0, 5550.0, 8700.0, 10800.0, 300.0, 450.0, 300.0, 300.0, 100.0, 1650.0, 10650.0, 200.0, 6600.0, 2700.0, 852.0, 258.0, 300.0, 700.0, 11200.0, 1500.0, 1000.0, 1600.0, 25900.0, 400.0, 800.0, 848.0, 13100.0, 500.0, 100.0, 100.0, 225.0, 2250.0, 150.0, 400.0, 250.0, 1850.0, 600.0, 1132.0, 1800.0, 17400.0, 500.0, 1275.0, 481.0, 500.0, 804.0, 300.0, 678.0, 1000.0, 200.0, 400.0, 3300.0, 700.0, 1250.0, 2700.0, 100.0, 500.0, 3700.0, 1950.0, 255.0, 300.0, 1535.0, 533.0, 4350.0, 1350.0, 350.0, 1600.0, 500.0, 4450.0, 2600.0, 638.0, 300.0, 450.0, 5600.0, 2200.0, 650.0, 4300.0, 1700.0, 200.0, 550.0, 50.0, 200.0, 200.0, 700.0, 2150.0, 200.0, 400.0, 6700.0, 425.0, 15150.0, 23800.0, 1150.0, 250.0, 1800.0, 850.0, 200.0, 1375.0, 150.0, 1500.0, 1780.0, 676.0, 2300.0, 433.0, 3325.0, 1125.0, 225.0, 250.0, 350.0, 325.0, 250.0, 3000.0, 2800.0, 100.0, 1000.0, 4400.0, 350.0, 400.0, 350.0, 150.0, 250.0, 625.0, 5100.0, 1100.0, 200.0, 650.0, 700.0, 2000.0, 3150.0, 550.0, 5075.0, 24050.0, 1000.0, 4600.0, 50.0, 300.0, 550.0, 300.0, 3750.0, 800.0, 200.0, 1200.0, 950.0, 606.0, 600.0, 850.0, 13867.0, 400.0, 200.0, 1950.0, 350.0, 150.0, 400.0, 4100.0, 3800.0, 700.0, 1050.0, 150.0, 1550.0, 1000.0, 800.0, 2350.0, 341.0, 242.0, 250.0, 1550.0, 7300.0, 150.0, 1650.0, 450.0, 750.0, 350.0, 300.0, 100.0, 1400.0, 875.0, 5500.0, 1100.0, 500.0, 300.0, 70.0, 550.0, 300.0, 13075.0, 5500.0, 850.0, 10750.0, 3100.0, 850.0, 210.0, 400.0, 1800.0, 525.0, 950.0, 15400.0, 250.0, 2600.0, 1000.0, 1150.0, 20000.0, 300.0, 50.0, 1100.0, 100.0, 150.0, 2500.0, 1100.0, 175.0, 375.0, 200.0, 950.0, 300.0, 150.0, 7050.0, 1300.0, 570.0, 300.0, 350.0, 650.0, 1000.0, 200.0, 4200.0, 300.0, 150.0, 1300.0, 320.0, 800.0, 360.0, 500.0, 820.0, 416.0, 200.0, 250.0, 900.0, 1200.0, 200.0, 550.0, 500.0, 350.0, 16550.0, 400.0, 200.0, 400.0, 750.0, 2150.0, 1400.0, 600.0, 635.0, 300.0, 2000.0, 10300.0, 950.0, 600.0, 350.0, 1200.0, 100.0, 500.0, 2200.0, 350.0, 15250.0, 1250.0, 9475.0, 900.0, 6825.0, 2400.0, 800.0, 350.0, 6150.0, 700.0, 100.0, 1203.0, 110.0, 370.0, 200.0, 400.0, 950.0, 150.0, 1100.0, 850.0, 1700.0, 1175.0, 1150.0, 400.0, 700.0, 3700.0, 8250.0, 100.0, 250.0, 11600.0, 350.0, 650.0, 850.0, 200.0, 2100.0, 100.0, 1400.0, 800.0, 254.0, 8900.0, 1100.0, 500.0, 10250.0, 300.0, 150.0, 1150.0, 150.0, 400.0, 550.0, 7500.0, 983.0, 2300.0, 275.0, 200.0, 3150.0, 12475.0, 100.0, 75.0, 547.0, 600.0, 1025.0, 217.0, 500.0, 200.0, 350.0, 50.0, 1200.0, 2300.0, 1500.0, 3350.0, 200.0, 150.0, 24700.0, 2033.0, 650.0, 150.0, 19100.0, 1300.0, 1017.0, 7650.0, 1175.0, 7350.0, 715.0, 1225.0, 800.0, 217.0, 1133.0, 100.0, 3320.0, 4050.0, 170.0, 825.0, 337.0, 600.0, 350.0, 1900.0, 200.0, 1850.0, 2450.0, 650.0, 100.0, 400.0, 550.0, 3467.0, 1350.0, 1200.0, 300.0, 1300.0, 9950.0, 150.0, 550.0, 200.0, 2900.0, 1183.0, 350.0, 750.0, 250.0, 3000.0, 300.0, 400.0, 100.0, 5700.0, 2200.0, 1525.0, 5000.0, 850.0, 200.0, 150.0, 500.0, 4213.0, 2150.0, 900.0, 299.0, 250.0, 150.0, 19300.0, 210.0, 1300.0, 250.0, 1500.0, 400.0, 1050.0, 300.0, 150.0, 2050.0, 450.0, 550.0, 300.0, 300.0, 473.0, 100.0, 1238.0, 1340.0, 50.0, 3500.0, 7800.0, 1400.0, 1525.0, 1300.0, 1000.0, 350.0, 300.0, 6100.0, 600.0, 833.0, 2850.0, 200.0, 700.0, 355.0, 1500.0, 100.0, 2000.0, 400.0, 350.0, 700.0, 650.0, 700.0, 6038.0, 450.0, 500.0, 1110.0, 6050.0, 200.0, 3600.0, 600.0, 100.0, 2550.0, 500.0, 1700.0, 2000.0, 1000.0, 650.0, 1400.0, 650.0, 10100.0, 200.0, 1400.0, 500.0, 3125.0, 1075.0, 300.0, 1550.0, 1400.0, 700.0, 10700.0, 158.0, 200.0, 200.0, 800.0, 313.0, 15150.0, 2163.0, 300.0, 2500.0, 150.0, 1100.0, 700.0, 150.0, 150.0, 2050.0, 600.0, 1600.0, 2300.0, 1000.0, 900.0, 600.0, 650.0, 450.0, 11750.0, 1850.0, 5150.0, 900.0, 250.0, 2600.0, 2500.0, 800.0, 300.0, 2950.0, 11400.0, 400.0, 100.0, 388.0, 7150.0, 350.0, 600.0, 850.0, 200.0, 268.0, 200.0, 1050.0, 140.0, 1250.0, 2700.0, 200.0, 300.0, 250.0, 7050.0, 825.0, 8800.0, 2200.0, 100.0, 1300.0, 1350.0, 615.0, 325.0, 1500.0, 3675.0, 700.0, 12900.0, 650.0, 500.0, 1350.0, 8950.0, 900.0, 1050.0, 18100.0, 761.0, 800.0, 1600.0, 13450.0, 5850.0, 1200.0, 150.0, 1025.0, 10667.0, 300.0, 250.0, 1000.0, 2000.0, 600.0, 500.0, 50.0, 2000.0, 500.0, 3200.0, 850.0, 500.0, 150.0, 400.0, 1500.0, 200.0, 1500.0, 3050.0, 250.0, 283.0, 275.0, 5400.0, 1531.0, 1000.0, 150.0, 1100.0, 570.0, 500.0, 500.0, 650.0, 300.0, 300.0, 900.0, 350.0, 1650.0, 350.0, 50.0, 1625.0, 600.0, 500.0, 100.0, 6050.0, 6700.0, 413.0, 3500.0, 200.0, 150.0, 475.0, 125.0, 400.0, 3000.0, 1567.0, 2550.0, 2300.0, 1150.0, 500.0, 225.0, 700.0, 600.0, 10000.0, 645.0, 500.0, 226.0, 400.0, 4073.0, 200.0, 350.0, 800.0, 238.0, 15800.0, 550.0, 450.0, 250.0, 400.0, 1250.0, 2750.0, 3100.0, 1800.0, 350.0, 18750.0, 425.0, 950.0, 100.0, 2200.0, 1417.0, 350.0, 900.0, 100.0, 30000.0, 3300.0, 1850.0, 2600.0, 200.0, 300.0, 200.0, 30000.0, 1145.0, 250.0, 225.0, 650.0, 600.0, 700.0, 200.0, 25.0, 150.0, 30000.0, 275.0, 900.0, 1350.0, 350.0, 1400.0, 300.0, 100.0, 950.0, 250.0, 12850.0, 1950.0, 1050.0, 50.0, 200.0, 650.0, 1200.0, 526.0, 1160.0, 200.0, 1600.0, 150.0, 150.0, 2.0, 1433.0, 650.0, 800.0, 200.0, 200.0, 300.0, 175.0, 175.0, 875.0, 1150.0, 8267.0, 800.0, 250.0, 1100.0, 700.0, 250.0, 400.0, 200.0, 8900.0, 3350.0, 400.0, 200.0, 750.0, 3400.0, 200.0, 200.0, 107.0, 925.0, 475.0, 1125.0, 200.0, 300.0, 400.0, 400.0, 700.0, 400.0, 1200.0, 100.0, 28800.0, 1100.0, 100.0, 2000.0, 1500.0, 550.0, 150.0, 11950.0, 200.0, 500.0, 200.0, 12478.0, 2425.0, 800.0, 1650.0, 300.0, 6900.0, 425.0, 900.0, 350.0, 3000.0, 700.0, 800.0, 5700.0, 1350.0, 500.0, 200.0, 5400.0, 225.0, 3000.0, 5900.0, 8500.0, 190.0, 250.0, 250.0, 200.0, 500.0, 3100.0, 425.0, 275.0, 1400.0, 5150.0, 251.0, 675.0, 1800.0, 150.0, 421.0, 1600.0, 2900.0, 2750.0, 300.0, 1000.0, 13650.0, 1287.0, 550.0, 400.0, 450.0, 600.0, 800.0, 200.0, 300.0, 900.0, 800.0, 6000.0, 1500.0, 650.0, 1250.0, 2300.0, 200.0, 1450.0, 694.0, 600.0, 150.0, 200.0, 750.0, 100.0, 300.0, 900.0, 1250.0, 400.0, 283.0, 11800.0, 1500.0, 1400.0, 150.0, 4650.0, 600.0, 5200.0, 750.0, 650.0, 275.0, 200.0, 1000.0, 250.0, 1500.0, 30000.0, 200.0, 900.0, 12600.0, 50.0, 350.0, 500.0, 700.0, 1128.0, 13300.0, 478.0, 2400.0, 250.0, 500.0, 550.0, 7450.0, 450.0, 150.0, 8200.0, 3650.0, 1000.0, 300.0, 1250.0, 375.0, 1300.0, 250.0, 300.0, 30000.0, 1100.0, 833.0, 12250.0, 5000.0, 4000.0, 1400.0, 150.0, 200.0, 3500.0, 600.0, 400.0, 450.0, 850.0, 1550.0, 3000.0, 800.0, 100.0, 1500.0, 16550.0, 11100.0, 1150.0, 9150.0, 850.0, 700.0, 900.0, 1550.0, 850.0, 740.0, 4850.0, 500.0, 525.0, 1550.0, 4950.0, 500.0, 1075.0, 1200.0, 900.0, 1188.0, 2200.0, 300.0, 5850.0, 800.0, 288.0, 150.0, 200.0, 600.0, 500.0, 3865.0, 175.0, 338.0, 900.0, 3900.0, 250.0, 850.0, 1550.0, 1666.0, 710.0, 1134.0, 257.0, 2850.0, 450.0, 2500.0, 100.0, 200.0, 100.0, 700.0, 6100.0, 1200.0, 6600.0, 250.0, 300.0, 1100.0, 200.0, 150.0, 200.0, 4300.0, 700.0, 30000.0, 400.0, 200.0, 2500.0, 100.0, 400.0, 3600.0, 50.0, 400.0, 500.0, 7450.0, 350.0, 450.0, 1000.0, 2500.0, 450.0, 2450.0, 200.0, 16450.0, 16050.0, 950.0, 1050.0, 2150.0, 6600.0, 250.0, 6500.0, 1383.0, 100.0, 200.0, 1150.0, 450.0, 550.0, 600.0, 200.0, 750.0, 425.0, 1700.0, 150.0, 500.0, 3275.0, 1600.0, 9800.0, 150.0, 900.0, 401.0, 530.0, 250.0, 350.0, 3000.0, 300.0, 4800.0, 1500.0, 1750.0, 1350.0, 800.0, 400.0, 483.0, 2250.0, 800.0, 4900.0, 250.0, 300.0, 290.0, 1400.0, 300.0, 4200.0, 400.0, 2700.0, 5600.0, 1158.0, 518.0, 2000.0, 2350.0, 100.0, 50.0, 900.0, 475.0, 1200.0, 350.0, 2500.0, 1700.0, 850.0, 2500.0, 4000.0, 350.0, 300.0, 200.0, 1950.0, 530.0, 400.0, 150.0, 4800.0, 2200.0, 325.0, 300.0, 125.0, 400.0, 100.0, 200.0, 400.0, 10375.0, 6200.0, 350.0, 1100.0, 30000.0, 2800.0, 5000.0, 100.0, 600.0, 2150.0, 350.0, 1544.0, 11600.0, 200.0, 320.0, 2400.0, 450.0, 875.0, 250.0, 300.0, 153.0, 550.0, 200.0, 950.0, 400.0, 250.0, 475.0, 550.0, 500.0, 7300.0, 150.0, 275.0, 21600.0, 950.0, 0.0, 1300.0, 450.0, 50.0, 7800.0, 3000.0, 300.0, 360.0, 400.0, 320.0, 750.0, 375.0, 300.0, 950.0, 827.0, 100.0, 400.0, 600.0, 600.0, 500.0, 16000.0, 250.0, 2933.0, 200.0, 800.0, 10700.0, 700.0, 350.0, 405.0, 850.0, 700.0, 19400.0, 550.0, 100.0, 4050.0, 200.0, 125.0, 2125.0, 543.0, 1000.0, 300.0, 3700.0, 1250.0, 12000.0, 600.0, 6250.0, 2350.0, 50.0, 350.0, 600.0, 5100.0, 14700.0, 1600.0, 750.0, 700.0, 308.0, 450.0, 250.0, 2000.0, 550.0, 300.0, 250.0, 700.0, 8450.0, 1000.0, 8300.0, 150.0, 1650.0, 300.0, 300.0, 200.0, 300.0, 1900.0, 200.0, 400.0, 100.0, 5500.0, 1283.0, 113.0, 2050.0, 400.0, 3250.0, 3450.0, 395.0, 1450.0, 900.0, 6400.0, 400.0, 4150.0, 500.0, 7000.0, 200.0, 150.0, 450.0, 500.0, 2700.0, 5150.0, 945.0, 6550.0, 100.0, 850.0, 1200.0, 200.0, 400.0, 867.0, 475.0, 7500.0, 350.0, 400.0, 363.0, 617.0, 203.0, 1800.0, 550.0, 150.0, 813.0, 300.0, 2075.0, 400.0, 100.0, 1050.0, 200.0, 2300.0, 150.0, 6900.0, 3550.0, 700.0, 610.0, 83.0, 150.0, 1000.0, 3000.0, 525.0, 100.0, 463.0, 300.0, 275.0, 600.0, 100.0, 250.0, 150.0, 4750.0, 200.0, 150.0, 1000.0, 1400.0, 1800.0, 50.0, 450.0, 1100.0, 1750.0, 150.0, 300.0, 800.0, 850.0, 150.0, 440.0, 250.0, 1100.0, 1400.0, 1450.0, 1325.0, 50.0, 150.0, 1840.0, 900.0, 500.0, 300.0, 100.0, 2800.0, 390.0, 28450.0, 1100.0, 150.0, 800.0, 3300.0, 200.0, 125.0, 300.0, 100.0, 800.0, 1657.0, 1900.0, 948.0, 700.0, 200.0, 1150.0, 50.0, 3150.0, 1900.0, 8650.0, 350.0, 3600.0, 400.0, 305.0, 200.0, 600.0, 225.0, 450.0, 750.0, 800.0, 300.0, 600.0, 267.0, 150.0, 650.0, 100.0, 800.0, 150.0, 350.0, 350.0, 500.0, 450.0, 50.0, 467.0, 500.0, 200.0, 450.0, 550.0, 19800.0, 150.0, 6050.0, 4800.0, 450.0, 83.0, 1500.0, 400.0, 600.0, 400.0, 1400.0, 1600.0, 1650.0, 600.0, 3100.0, 7550.0, 1150.0, 750.0, 150.0, 350.0, 150.0, 600.0, 1400.0, 900.0, 1000.0, 1150.0, 400.0, 950.0, 500.0, 300.0, 200.0, 316.0, 260.0, 1500.0, 800.0, 2000.0, 733.0, 150.0, 417.0, 760.0, 6600.0, 350.0, 2700.0, 150.0, 6213.0, 185.0, 200.0, 100.0, 250.0, 1000.0, 640.0, 650.0, 100.0, 600.0, 1500.0, 625.0, 2700.0, 625.0, 10550.0, 1100.0, 150.0, 10100.0, 1360.0, 2200.0, 750.0, 20550.0, 583.0, 6410.0, 1950.0, 500.0, 7400.0, 125.0, 350.0, 217.0, 450.0, 2500.0, 1400.0, 150.0, 200.0, 1650.0, 1900.0, 100.0, 600.0, 100.0, 5200.0, 150.0, 150.0, 12600.0, 800.0, 550.0, 1000.0, 550.0, 250.0, 500.0, 300.0, 200.0, 400.0, 600.0, 1100.0, 1000.0, 750.0, 200.0, 1000.0, 450.0, 1250.0, 2000.0, 550.0, 204.0, 600.0, 200.0, 804.0, 500.0, 15850.0, 1200.0, 3000.0, 18700.0, 9450.0, 1525.0, 2000.0, 200.0, 157.0, 100.0, 3000.0, 11750.0, 900.0, 815.0, 650.0, 600.0, 300.0, 150.0, 150.0, 150.0, 29600.0, 1950.0, 13700.0, 200.0, 150.0, 600.0, 1000.0, 530.0, 150.0, 7700.0, 5400.0, 300.0, 50.0, 15875.0, 1850.0, 296.0, 275.0, 1100.0, 100.0, 15700.0, 1683.0, 300.0, 1000.0, 800.0, 9550.0, 1250.0, 250.0, 1100.0, 100.0, 200.0, 11000.0, 675.0, 550.0, 300.0, 1600.0, 250.0, 200.0, 650.0, 1550.0, 500.0, 275.0, 1400.0, 300.0, 1205.0, 450.0, 400.0, 600.0, 350.0, 1700.0, 9225.0, 1000.0, 1200.0, 733.0, 1900.0, 1500.0, 100.0, 14000.0, 500.0, 900.0, 500.0, 533.0, 150.0, 900.0, 800.0, 100.0, 300.0, 575.0, 850.0, 7950.0, 550.0, 2000.0, 1000.0, 450.0, 1900.0, 3225.0, 22900.0, 723.0, 5446.0, 550.0, 2450.0, 1600.0, 600.0, 350.0, 6450.0, 200.0, 187.0, 9000.0, 1200.0, 700.0, 6600.0, 450.0, 950.0, 2600.0, 375.0, 350.0, 350.0, 2550.0, 200.0, 850.0, 9500.0, 250.0, 200.0, 400.0, 275.0, 13300.0, 1750.0, 1450.0, 300.0, 100.0, 500.0, 1500.0, 200.0, 1650.0, 2200.0, 5550.0, 1400.0, 6750.0, 900.0, 150.0, 550.0, 1100.0, 1250.0, 400.0, 200.0, 900.0, 6250.0, 300.0, 850.0, 30000.0, 100.0, 987.0, 500.0, 600.0, 250.0, 50.0, 300.0, 13800.0, 3499.0, 10725.0, 400.0, 300.0, 400.0, 250.0, 600.0, 990.0, 6050.0, 400.0, 54.0, 3300.0, 950.0, 5850.0, 2700.0, 350.0, 7738.0, 20500.0, 6200.0, 7400.0, 100.0, 4300.0, 2600.0, 225.0, 383.0, 100.0, 600.0, 800.0, 2000.0, 1350.0, 1150.0, 400.0, 2150.0, 367.0, 225.0, 950.0, 1050.0, 350.0, 300.0, 400.0, 83.0, 383.0, 700.0, 200.0, 250.0, 1750.0, 1400.0, 1350.0, 550.0, 1400.0, 100.0, 1250.0, 4147.0, 850.0, 11100.0, 1100.0, 250.0, 53.0, 600.0, 6350.0, 700.0, 975.0, 950.0, 2950.0, 1150.0, 275.0, 100.0, 350.0, 400.0, 450.0, 11350.0, 250.0, 484.0, 150.0, 150.0, 1400.0, 998.0, 900.0, 850.0, 1100.0, 2200.0, 5300.0, 1050.0, 800.0, 2300.0, 2050.0, 350.0, 600.0, 100.0, 150.0, 16900.0, 1550.0, 1050.0, 150.0, 500.0, 200.0, 250.0, 500.0, 1050.0, 1250.0, 900.0, 1100.0, 22200.0, 5400.0, 750.0, 350.0, 400.0, 750.0, 350.0, 300.0, 300.0, 300.0, 500.0, 1400.0, 1050.0, 9550.0, 1400.0, 1150.0, 450.0, 1700.0, 200.0, 2150.0, 3550.0, 1950.0, 600.0, 1050.0, 300.0, 100.0, 1050.0, 1800.0, 1150.0, 200.0, 200.0, 800.0, 5375.0, 10500.0, 2050.0, 605.0, 550.0, 2050.0, 1100.0, 900.0, 550.0, 200.0, 1250.0, 681.0, 150.0, 30000.0, 350.0, 623.0, 300.0, 100.0, 900.0, 3250.0, 100.0, 200.0, 3367.0, 850.0, 1250.0, 475.0, 200.0, 125.0, 1850.0, 478.0, 200.0, 300.0, 201.0, 375.0, 200.0, 450.0, 800.0, 700.0, 200.0, 380.0, 1500.0, 6350.0, 6050.0, 1100.0, 1400.0, 250.0, 1250.0, 450.0, 250.0, 600.0, 250.0, 2000.0, 2050.0, 600.0, 400.0, 11700.0, 5350.0, 1450.0, 2050.0, 167.0, 550.0, 9950.0, 3000.0, 700.0, 700.0, 1150.0, 9150.0, 500.0, 150.0, 1000.0, 550.0, 400.0, 30000.0, 400.0, 900.0, 191.0, 2033.0, 1110.0, 7500.0, 400.0, 583.0, 4650.0, 300.0, 704.0, 5400.0, 550.0, 1836.0, 350.0, 150.0, 200.0, 100.0, 300.0, 550.0, 300.0, 800.0, 300.0, 100.0, 491.0, 13700.0, 1100.0, 250.0, 1600.0, 2300.0, 1200.0, 150.0, 1800.0, 1950.0, 200.0, 150.0, 600.0, 450.0, 1200.0, 1475.0, 650.0, 1400.0, 2200.0, 750.0, 400.0, 1500.0, 12500.0, 1250.0, 225.0, 200.0, 1800.0, 4100.0, 2800.0, 700.0, 3100.0, 700.0, 12467.0, 21100.0, 3300.0, 1400.0, 100.0, 4800.0, 1150.0, 200.0, 250.0, 450.0, 150.0, 600.0, 350.0, 2100.0, 300.0, 1650.0, 600.0, 375.0, 15750.0, 1900.0, 1050.0, 2300.0, 24300.0, 1100.0, 500.0, 2750.0, 1150.0, 3567.0, 300.0, 30000.0, 250.0, 600.0, 1200.0, 422.0, 450.0, 225.0, 800.0, 2800.0, 1000.0, 350.0, 1600.0, 1600.0, 3900.0, 1450.0, 10000.0, 600.0, 454.0, 150.0, 175.0, 850.0, 400.0, 7900.0, 217.0, 800.0, 600.0, 1750.0, 1200.0, 2300.0, 1550.0, 300.0, 390.0, 300.0, 950.0, 700.0, 750.0, 400.0, 825.0, 250.0, 391.0, 300.0, 30000.0, 2025.0, 400.0, 200.0, 3950.0, 2200.0, 3600.0, 800.0, 1100.0, 262.0, 500.0, 1833.0, 2100.0, 900.0, 375.0, 500.0, 400.0, 100.0, 650.0, 1400.0, 2200.0, 500.0, 300.0, 5350.0, 500.0, 400.0, 340.0, 600.0, 300.0, 2700.0, 21200.0, 100.0, 5000.0, 8600.0, 1000.0, 450.0, 500.0, 100.0, 850.0, 250.0, 2700.0, 1250.0, 100.0, 150.0, 337.0, 1067.0, 4500.0, 175.0, 388.0, 875.0, 2900.0, 100.0, 4000.0, 650.0, 300.0, 700.0, 1500.0, 300.0, 150.0, 850.0, 500.0, 5450.0, 1500.0, 400.0, 2500.0, 450.0, 600.0, 1200.0, 1700.0, 200.0, 200.0, 750.0, 1150.0, 1183.0, 550.0, 700.0, 600.0, 450.0, 750.0, 712.0, 400.0, 1300.0, 3200.0, 1150.0, 5300.0, 4800.0, 12150.0, 200.0, 800.0, 210.0, 200.0, 200.0, 200.0, 3550.0, 575.0, 200.0, 500.0, 2375.0, 10700.0, 650.0, 175.0, 150.0, 200.0, 300.0, 16700.0, 500.0, 500.0, 14000.0, 150.0, 1000.0, 2000.0, 1700.0, 200.0, 800.0, 300.0, 9500.0, 10700.0, 4850.0, 25100.0, 2000.0, 750.0, 200.0, 900.0, 3100.0, 300.0, 100.0, 300.0, 3400.0, 750.0, 3700.0, 1100.0, 550.0, 7500.0, 125.0, 800.0, 100.0, 1700.0, 6867.0, 1400.0, 224.0, 3250.0, 6600.0, 6750.0, 1245.0, 350.0, 800.0, 100.0, 6050.0, 17500.0, 200.0, 2250.0, 1150.0, 150.0, 75.0, 700.0, 3500.0, 450.0, 1250.0, 16200.0, 4150.0, 390.0, 300.0, 13800.0, 483.0, 150.0, 850.0, 12300.0, 650.0, 200.0, 350.0, 3550.0, 19300.0, 400.0, 1550.0, 1400.0, 6250.0, 2000.0, 500.0, 1000.0, 200.0, 1250.0, 150.0, 2633.0, 400.0, 100.0, 250.0, 400.0, 533.0, 700.0, 150.0, 250.0, 1650.0, 300.0, 1300.0, 2000.0, 8950.0, 1350.0, 600.0, 264.0, 133.0, 1400.0, 350.0, 3000.0, 517.0, 1000.0, 850.0, 600.0, 1525.0, 2000.0, 700.0, 250.0, 1400.0, 16000.0, 2550.0, 500.0, 50.0, 1660.0, 100.0, 250.0, 388.0, 950.0, 700.0, 400.0, 3100.0, 600.0, 650.0, 1950.0, 950.0, 350.0, 500.0, 2550.0, 500.0, 2600.0, 150.0, 6350.0, 600.0, 100.0, 500.0, 150.0, 2000.0, 700.0, 700.0, 700.0, 50.0, 400.0, 375.0, 400.0, 2380.0, 100.0, 100.0, 500.0, 300.0, 750.0, 550.0, 1150.0, 1525.0, 600.0, 5650.0, 600.0, 200.0, 750.0, 200.0, 600.0, 2550.0, 450.0, 600.0, 17800.0, 7450.0, 700.0, 6300.0, 900.0, 200.0, 200.0, 2150.0, 850.0, 7300.0, 250.0, 8333.0, 5350.0, 100.0, 300.0, 4100.0, 3717.0, 950.0, 900.0, 200.0, 1250.0, 200.0, 1830.0, 7450.0, 300.0, 4050.0, 150.0, 1700.0, 900.0, 200.0, 200.0, 300.0, 400.0, 200.0, 1400.0, 400.0, 200.0, 5650.0, 300.0, 750.0, 1020.0, 1150.0, 100.0, 2200.0, 649.0, 350.0, 200.0, 850.0, 100.0, 850.0, 5275.0, 500.0, 943.0, 7600.0, 850.0, 1450.0, 1150.0, 3350.0, 300.0, 1815.0, 438.0, 11850.0, 9200.0, 350.0, 700.0, 888.0, 300.0, 6350.0, 550.0, 1350.0, 150.0, 500.0, 3450.0, 275.0, 450.0, 100.0, 150.0, 1000.0, 7825.0, 600.0, 300.0, 927.0, 1340.0, 14900.0, 250.0, 250.0, 9150.0, 200.0, 550.0, 200.0, 8750.0, 1500.0, 7875.0, 200.0, 350.0, 100.0, 600.0, 2200.0, 250.0, 100.0, 150.0, 700.0, 100.0, 200.0, 4600.0, 1600.0, 475.0, 922.0, 550.0, 150.0, 483.0, 300.0, 200.0, 1600.0, 750.0, 1213.0, 2200.0, 3765.0, 1900.0, 250.0, 4000.0, 175.0, 2650.0, 900.0, 12200.0, 2400.0, 150.0, 1300.0, 300.0, 600.0, 1350.0, 1225.0, 1650.0, 200.0, 5050.0, 100.0, 3350.0, 100.0, 550.0, 833.0, 450.0, 1283.0, 717.0, 13850.0, 300.0, 700.0, 525.0, 2150.0, 1600.0, 700.0, 200.0, 7150.0, 2500.0, 1150.0, 283.0, 350.0, 200.0, 250.0, 300.0, 900.0, 600.0, 350.0, 650.0, 750.0, 6125.0, 167.0, 9650.0, 13900.0, 9000.0, 825.0, 250.0, 550.0, 600.0, 1500.0, 350.0, 350.0, 200.0, 400.0, 200.0, 200.0, 650.0, 2150.0, 550.0, 1200.0, 2750.0, 100.0, 2350.0, 300.0, 150.0, 1000.0, 1650.0, 18150.0, 4950.0, 400.0, 1050.0, 200.0, 150.0, 5417.0, 200.0, 3000.0, 150.0, 300.0, 2400.0, 500.0, 8200.0, 1500.0, 300.0, 11250.0, 1650.0, 475.0, 800.0, 8100.0, 800.0, 300.0, 250.0, 150.0, 250.0, 150.0, 7800.0, 100.0, 4850.0, 1100.0, 200.0, 2000.0, 329.0, 850.0, 4950.0, 500.0, 733.0, 350.0, 26800.0, 300.0, 500.0, 145.0, 950.0, 4700.0, 400.0, 4650.0, 1613.0, 2400.0, 7925.0, 1233.0, 2000.0, 100.0, 1000.0, 850.0, 175.0, 150.0, 100.0, 2338.0, 225.0, 150.0, 800.0, 250.0, 2800.0, 100.0, 100.0, 6050.0, 1050.0, 600.0, 950.0, 900.0, 200.0, 1950.0, 738.0, 1500.0, 9675.0, 1200.0, 150.0, 950.0, 27050.0, 200.0, 9900.0, 450.0, 250.0, 867.0, 1350.0, 2000.0, 150.0, 700.0, 1100.0, 850.0, 1300.0, 500.0, 683.0, 650.0, 200.0, 1825.0, 3800.0, 4450.0, 2350.0, 800.0, 900.0, 600.0, 150.0, 300.0, 150.0, 327.0, 1175.0, 150.0, 100.0, 200.0, 650.0, 150.0, 9450.0, 300.0, 7350.0, 950.0, 250.0, 1150.0, 400.0, 1600.0, 7200.0, 20400.0, 50.0, 2350.0, 2950.0, 450.0, 585.0, 500.0, 150.0, 1350.0, 300.0, 700.0, 1100.0, 1900.0, 200.0, 14850.0, 3150.0, 1600.0, 3100.0, 750.0, 200.0, 350.0, 850.0, 1600.0, 6800.0, 21800.0, 600.0, 1400.0, 5400.0, 100.0, 1150.0, 200.0, 150.0, 3500.0, 400.0, 800.0, 11400.0, 4000.0, 450.0, 150.0, 5100.0, 5400.0, 1500.0, 433.0, 1000.0, 950.0, 550.0, 3900.0, 900.0, 150.0, 450.0, 1550.0, 3300.0, 383.0, 1625.0, 760.0, 6650.0, 1800.0, 50.0, 550.0, 9500.0, 6300.0, 1000.0, 2667.0, 200.0, 1100.0, 1025.0, 2250.0, 200.0, 150.0, 250.0, 400.0, 1050.0, 1700.0, 1100.0, 1100.0, 2450.0, 200.0, 28350.0, 550.0, 525.0, 200.0, 3500.0, 150.0, 900.0, 700.0, 2000.0, 2200.0, 1000.0, 1700.0, 400.0, 1000.0, 1260.0, 2450.0, 483.0, 800.0, 650.0, 500.0, 100.0, 3127.0, 717.0, 1550.0, 750.0, 1600.0, 8050.0, 8350.0, 2500.0, 1550.0, 733.0, 350.0, 650.0, 24850.0, 2000.0, 2300.0, 600.0, 300.0, 250.0, 2638.0, 435.0, 1250.0, 1650.0, 355.0, 1000.0, 700.0, 7500.0, 350.0, 1200.0, 650.0, 3000.0, 400.0, 200.0, 8200.0, 1000.0, 300.0, 400.0, 22700.0, 5650.0, 200.0, 700.0, 450.0, 4600.0, 600.0, 150.0, 300.0, 500.0, 1800.0, 17050.0, 608.0, 1800.0, 500.0, 850.0, 411.0, 200.0, 1250.0, 2200.0, 1350.0, 1050.0, 4700.0, 2700.0, 30000.0, 50.0, 886.0, 2200.0, 150.0, 400.0, 1100.0, 5450.0, 166.0, 1100.0, 2300.0, 5700.0, 2600.0, 100.0, 900.0, 1000.0, 700.0, 5100.0, 700.0, 500.0, 3100.0, 5200.0, 7000.0, 350.0, 900.0, 400.0, 650.0, 2200.0, 200.0, 250.0, 1000.0, 650.0, 200.0, 1500.0, 140.0, 2550.0, 600.0, 433.0, 200.0, 1300.0, 650.0, 150.0, 200.0, 3200.0, 700.0, 50.0, 900.0, 250.0, 100.0, 2200.0, 150.0, 880.0, 900.0, 1213.0, 490.0, 100.0, 150.0, 10575.0, 600.0, 50.0, 250.0, 1800.0, 6965.0, 400.0, 1500.0, 200.0, 5000.0, 5500.0, 2375.0, 900.0, 2725.0, 700.0, 441.0, 900.0, 150.0, 1450.0, 1300.0, 2000.0, 900.0, 500.0, 8050.0, 925.0, 700.0, 12050.0, 1000.0, 100.0, 2600.0, 950.0, 700.0, 150.0, 200.0, 1250.0, 900.0, 1100.0, 100.0, 200.0, 850.0, 2034.0, 200.0, 1000.0, 2300.0, 250.0, 500.0, 1500.0, 550.0, 13300.0, 1600.0, 1000.0, 1100.0, 1250.0, 1600.0, 24400.0, 200.0, 900.0, 200.0, 300.0, 8000.0, 775.0, 16250.0, 9550.0, 1100.0, 300.0, 5470.0, 18950.0, 600.0, 300.0, 200.0, 350.0, 700.0, 850.0, 500.0, 290.0, 300.0, 900.0, 22850.0, 250.0, 1400.0, 300.0, 2500.0, 7900.0, 8050.0, 5950.0, 3200.0, 133.0, 750.0, 250.0, 200.0, 650.0, 350.0, 3200.0, 100.0, 150.0, 500.0, 400.0, 7463.0, 250.0, 7900.0, 400.0, 354.0, 3950.0, 250.0, 350.0, 200.0, 13350.0, 1050.0, 4338.0, 100.0, 100.0, 2900.0, 975.0, 580.0, 233.0, 300.0, 1150.0, 10950.0, 1025.0, 400.0, 2700.0, 800.0, 900.0, 5350.0, 283.0, 200.0, 400.0, 10050.0, 3350.0, 7750.0, 150.0, 500.0, 16400.0, 1000.0, 10500.0, 450.0, 4367.0, 200.0, 650.0, 550.0, 401.0, 350.0, 350.0, 50.0, 150.0, 800.0, 900.0, 100.0, 450.0, 3000.0, 250.0, 150.0, 3200.0, 5150.0, 300.0, 250.0, 300.0, 700.0, 100.0, 500.0, 300.0, 3500.0, 300.0, 1450.0, 1350.0, 300.0, 500.0, 267.0, 150.0, 140.0, 8450.0, 2100.0, 525.0, 200.0, 550.0, 12850.0, 1200.0, 450.0, 850.0, 400.0, 600.0, 150.0, 950.0, 1400.0, 300.0, 500.0, 1150.0, 1100.0, 800.0, 300.0, 513.0, 22600.0, 650.0, 1050.0, 4381.0, 1860.0, 50.0, 21300.0, 4700.0, 900.0, 4000.0, 300.0, 7300.0, 2200.0, 200.0, 800.0, 14150.0, 150.0, 1400.0, 15250.0, 550.0, 500.0, 2600.0, 150.0, 1600.0, 200.0, 100.0, 1200.0, 250.0, 700.0, 5550.0, 400.0, 1100.0, 275.0, 1550.0, 490.0, 1200.0, 400.0, 650.0, 83.0, 17750.0, 800.0, 2825.0, 2650.0, 29750.0, 3700.0, 3900.0, 3000.0, 350.0, 100.0, 550.0, 600.0, 400.0, 300.0, 400.0, 10025.0, 250.0, 900.0, 550.0, 1000.0, 2600.0, 350.0, 550.0, 825.0, 7650.0, 803.0, 4700.0, 10900.0, 153.0, 400.0, 1500.0, 4750.0, 250.0, 100.0, 10750.0, 1100.0, 300.0, 300.0, 600.0, 5950.0, 300.0, 1300.0, 458.0, 450.0, 500.0, 400.0, 5275.0, 400.0, 100.0, 4800.0, 200.0, 890.0, 1350.0, 750.0, 1150.0, 28300.0, 400.0, 300.0, 1680.0, 500.0, 6600.0, 350.0, 3100.0, 650.0, 150.0, 2100.0, 1100.0, 500.0, 850.0, 500.0, 100.0, 23700.0, 300.0, 200.0, 117.0, 200.0, 200.0, 1600.0, 4550.0, 1450.0, 1150.0, 2600.0, 150.0, 1094.0, 23100.0, 150.0, 4450.0, 700.0, 470.0, 418.0, 1699.0, 300.0, 1291.0, 530.0, 600.0, 4300.0, 574.0, 550.0, 300.0, 575.0, 1175.0, 750.0, 1000.0, 6950.0, 900.0, 2350.0, 1100.0, 750.0, 761.0, 450.0, 350.0, 350.0, 1100.0, 1200.0, 700.0, 2200.0, 30000.0, 1300.0, 500.0, 9650.0, 850.0, 2500.0, 1300.0, 400.0, 3342.0, 200.0, 100.0, 650.0, 19100.0, 1200.0, 813.0, 9800.0, 850.0, 2000.0, 1300.0, 10350.0, 381.0, 800.0, 2600.0, 6100.0, 1250.0, 1200.0, 900.0, 107.0, 250.0, 550.0, 400.0, 27150.0, 500.0, 900.0, 250.0, 633.0, 1100.0, 1450.0, 12200.0, 300.0, 575.0, 500.0, 2800.0, 350.0, 600.0, 2050.0, 200.0, 12100.0, 250.0, 488.0, 2150.0, 867.0, 600.0, 200.0, 233.0, 1400.0, 3267.0, 250.0, 1700.0, 1300.0, 14850.0, 200.0, 5000.0, 1000.0, 2450.0, 500.0, 250.0, 100.0, 1200.0, 1000.0, 400.0, 1100.0, 200.0, 800.0, 4875.0, 2300.0, 650.0, 300.0, 600.0, 675.0, 925.0, 300.0, 75.0, 288.0, 1450.0, 2100.0, 600.0, 6800.0, 300.0, 250.0, 14925.0, 183.0, 20150.0, 1925.0, 333.0, 2100.0, 250.0, 200.0, 1000.0, 350.0, 1150.0, 150.0, 7900.0, 650.0, 11850.0, 2733.0, 9717.0, 400.0, 100.0, 522.0, 500.0, 450.0, 2450.0, 2975.0, 700.0, 2400.0, 250.0, 2250.0, 4125.0, 400.0, 800.0, 550.0, 400.0, 500.0, 800.0, 150.0, 500.0, 1050.0, 100.0, 7698.0, 10800.0, 488.0, 1533.0, 300.0, 200.0, 50.0, 300.0, 900.0, 2200.0, 464.0, 950.0, 1300.0, 1500.0, 1500.0, 400.0, 100.0, 500.0, 3400.0, 1350.0, 400.0, 450.0, 1650.0, 783.0, 275.0, 431.0, 200.0, 2950.0, 600.0, 7150.0, 9567.0, 1400.0, 3100.0, 1207.0, 250.0, 450.0, 9275.0, 150.0, 5700.0, 100.0, 11200.0, 250.0, 300.0, 150.0, 14500.0, 550.0, 2000.0, 1150.0, 300.0, 550.0, 8700.0, 2700.0, 2130.0, 1250.0, 208.0, 888.0, 10500.0, 10300.0, 1000.0, 7625.0, 100.0, 75.0, 18050.0, 1100.0, 400.0, 600.0, 300.0, 1771.0, 150.0, 16100.0, 200.0, 2500.0, 4000.0, 367.0, 700.0, 400.0, 150.0, 950.0, 16050.0, 316.0, 1200.0, 600.0, 1000.0, 18000.0, 6550.0, 110.0, 100.0, 1100.0, 1100.0, 200.0, 600.0, 10150.0, 950.0, 469.0, 4300.0, 1500.0, 200.0, 150.0, 21100.0, 200.0, 13900.0, 100.0, 350.0, 200.0, 150.0, 300.0, 3463.0, 1100.0, 1450.0, 680.0, 100.0, 183.0, 2950.0, 3567.0, 200.0, 7500.0, 2800.0, 9400.0, 500.0, 400.0, 1900.0, 7675.0, 1700.0, 650.0, 700.0, 300.0, 1250.0, 100.0, 200.0, 600.0, 150.0, 1300.0, 1900.0, 7700.0, 500.0, 24100.0, 400.0, 500.0, 1200.0, 100.0, 550.0, 150.0, 2200.0, 2900.0, 550.0, 1500.0, 2450.0, 200.0, 500.0, 1400.0, 200.0, 2325.0, 200.0, 1300.0, 200.0, 400.0, 575.0, 750.0, 2100.0, 500.0, 150.0, 350.0, 150.0, 100.0, 200.0, 611.0, 675.0, 100.0, 300.0, 350.0, 3700.0, 850.0, 1900.0, 303.0, 2300.0, 700.0, 2398.0, 800.0, 16150.0, 2467.0, 5700.0, 9075.0, 650.0, 13800.0, 2650.0, 683.0, 2350.0, 1800.0, 600.0, 625.0, 550.0, 500.0, 324.0, 178.0, 200.0, 700.0, 1400.0, 200.0, 5400.0, 2300.0, 100.0, 6900.0, 400.0, 1000.0, 775.0, 100.0, 750.0, 1350.0, 526.0, 600.0, 1100.0, 1450.0, 800.0, 9850.0, 250.0, 100.0, 9950.0, 1279.0, 700.0, 9600.0, 700.0, 1700.0, 150.0, 300.0, 150.0, 500.0, 1000.0, 9200.0, 1650.0, 250.0, 650.0, 6600.0, 13550.0, 1111.0, 150.0, 500.0, 15600.0, 7300.0, 750.0, 3750.0, 2000.0, 400.0, 900.0, 2200.0, 600.0, 1850.0, 30000.0, 500.0, 1700.0, 413.0, 12125.0, 300.0, 1850.0, 1200.0, 640.0, 200.0, 400.0, 4050.0, 1900.0, 100.0, 2350.0, 1100.0, 600.0, 4900.0, 250.0, 1200.0, 625.0, 1300.0, 400.0, 1300.0, 600.0, 2000.0, 225.0, 800.0, 850.0, 12600.0, 529.0, 450.0, 150.0, 1350.0, 2100.0, 600.0, 710.0, 7650.0, 100.0, 500.0, 7900.0, 30000.0, 2650.0, 200.0, 200.0, 100.0, 300.0, 900.0, 1250.0, 500.0, 300.0, 500.0, 277.0, 450.0, 1200.0, 150.0, 850.0, 1200.0, 300.0, 1500.0, 6500.0, 2200.0, 1100.0, 500.0, 1375.0, 1200.0, 1800.0, 267.0, 500.0, 300.0, 11100.0, 2900.0, 1800.0, 8750.0, 100.0, 300.0, 300.0, 900.0, 200.0, 1400.0, 1700.0, 1450.0, 1700.0, 400.0, 250.0, 100.0, 1925.0, 200.0, 1300.0, 2350.0, 350.0, 300.0, 200.0, 4600.0, 6050.0, 250.0, 200.0, 500.0, 450.0, 1100.0, 500.0, 350.0, 2146.0, 350.0, 2400.0, 333.0, 15200.0, 1150.0, 350.0, 300.0, 350.0, 1100.0, 1600.0, 450.0, 2290.0, 4850.0, 6200.0, 550.0, 5800.0, 8750.0, 600.0, 400.0, 150.0, 420.0, 5050.0, 440.0, 250.0, 100.0, 300.0, 200.0, 450.0, 100.0, 8875.0, 3500.0, 1200.0, 441.0, 12700.0, 2500.0, 150.0, 1600.0, 250.0, 8050.0, 538.0, 1900.0, 600.0, 1850.0, 450.0, 2600.0, 400.0, 2700.0, 900.0, 200.0, 100.0, 1200.0, 150.0, 150.0, 650.0, 277.0, 1200.0, 300.0, 400.0, 500.0, 1350.0, 300.0, 250.0, 1050.0, 1000.0, 3000.0, 118.0, 200.0, 600.0, 2200.0, 700.0, 1000.0, 1800.0, 300.0, 1466.0, 600.0, 2450.0, 250.0, 75.0, 1500.0, 700.0, 350.0, 3900.0, 200.0, 1400.0, 4000.0, 200.0, 750.0, 2350.0, 1475.0, 550.0, 1400.0, 100.0, 300.0, 10200.0, 600.0, 150.0, 467.0, 200.0, 225.0, 400.0, 1300.0, 6600.0, 1200.0, 500.0, 50.0, 700.0, 150.0, 600.0, 2813.0, 10900.0, 850.0, 1050.0, 1100.0, 900.0, 100.0, 200.0, 800.0, 1100.0, 625.0, 150.0, 6600.0, 850.0, 275.0, 100.0, 400.0, 400.0, 350.0, 900.0, 250.0, 1400.0, 1150.0, 1650.0, 600.0, 1750.0, 9200.0, 500.0, 250.0, 400.0, 350.0, 1150.0, 675.0, 1200.0, 925.0, 2200.0, 5000.0, 250.0, 7850.0, 6050.0, 200.0, 1900.0, 1000.0, 15850.0, 300.0, 150.0, 400.0, 950.0, 200.0, 125.0, 50.0, 600.0, 200.0, 150.0, 2200.0, 500.0, 1350.0, 5650.0, 800.0, 900.0, 30000.0, 600.0, 150.0, 1350.0, 1362.0, 850.0, 1000.0, 200.0, 1100.0, 500.0, 550.0, 600.0, 200.0, 500.0, 1092.0, 600.0, 7100.0, 50.0, 1800.0, 50.0, 217.0, 2250.0, 6600.0, 2555.0, 875.0, 5250.0, 900.0, 750.0, 1400.0, 8200.0, 200.0, 1575.0, 3400.0, 450.0, 400.0, 350.0, 350.0, 688.0, 283.0, 4200.0, 4600.0, 850.0, 117.0, 7200.0, 1900.0, 400.0, 105.0, 1650.0, 150.0, 1450.0, 550.0, 1300.0, 5300.0, 1400.0, 1167.0, 250.0, 400.0, 100.0, 12050.0, 50.0, 2300.0, 950.0, 250.0, 450.0, 9400.0, 1900.0, 713.0, 330.0, 400.0, 2450.0, 650.0, 8050.0, 1700.0, 50.0, 200.0, 5300.0, 540.0, 17450.0, 2500.0, 800.0, 2217.0, 200.0, 300.0, 13500.0, 525.0, 1700.0, 100.0, 8000.0, 50.0, 13700.0, 6025.0, 100.0, 500.0, 50.0, 100.0, 250.0, 289.0, 800.0, 300.0, 1200.0, 450.0, 725.0, 1475.0, 150.0, 483.0, 200.0, 3900.0, 2450.0, 1800.0, 50.0, 1700.0, 700.0, 200.0, 450.0, 175.0, 850.0, 150.0, 15950.0, 500.0, 550.0, 3000.0, 17500.0, 11450.0, 2000.0, 970.0, 230.0, 350.0, 5700.0, 8633.0, 700.0, 800.0, 550.0, 350.0, 300.0, 250.0, 400.0, 1350.0, 4600.0, 2550.0, 12650.0, 600.0, 100.0, 450.0, 400.0, 150.0, 250.0, 300.0, 1750.0, 350.0, 129.0, 500.0, 2400.0, 425.0, 5850.0, 8400.0, 500.0, 583.0, 1000.0, 7900.0, 150.0, 1200.0, 725.0, 2850.0, 2950.0, 300.0, 11800.0, 400.0, 600.0, 250.0, 400.0, 1417.0, 4250.0, 4200.0, 5900.0, 480.0, 3700.0, 133.0, 250.0, 463.0, 288.0, 5000.0, 675.0, 1200.0, 200.0, 200.0, 10050.0, 1024.0, 400.0, 2000.0, 400.0, 300.0, 253.0, 767.0, 275.0, 640.0, 400.0, 250.0, 18800.0, 250.0, 2600.0, 303.0, 18000.0, 100.0, 200.0, 700.0, 200.0, 3675.0, 13250.0, 350.0, 1400.0, 600.0, 1550.0, 550.0, 900.0, 10850.0, 400.0, 1200.0, 2100.0, 2100.0, 300.0, 1650.0, 400.0, 700.0, 4750.0, 200.0, 650.0, 6200.0, 1200.0, 200.0, 570.0, 600.0, 1800.0, 250.0, 700.0, 300.0, 1350.0, 450.0, 200.0, 83.0, 250.0, 2500.0, 18550.0, 350.0, 1900.0, 300.0, 1823.0, 600.0, 8000.0, 1750.0, 633.0, 650.0, 800.0, 500.0, 1813.0, 1625.0, 620.0, 1450.0, 1383.0, 1350.0, 6400.0, 1000.0, 17400.0, 550.0, 1200.0, 1150.0, 975.0, 200.0, 200.0, 100.0, 11450.0, 150.0, 14650.0, 317.0, 400.0, 350.0, 200.0, 75.0, 237.0, 300.0, 26100.0, 30000.0, 200.0, 500.0, 200.0, 800.0, 150.0, 200.0, 300.0, 10300.0, 700.0, 200.0, 1200.0, 1400.0, 800.0, 700.0, 450.0, 1100.0, 2150.0, 2000.0, 300.0, 1100.0, 350.0, 3200.0, 1100.0, 200.0, 1450.0, 11275.0, 450.0, 23350.0, 600.0, 9400.0, 1092.0, 850.0, 2450.0, 1200.0, 4100.0, 700.0, 5600.0, 500.0, 333.0, 100.0, 750.0, 450.0, 5000.0, 1000.0, 500.0, 150.0, 100.0, 500.0, 1000.0, 200.0, 200.0, 2100.0, 900.0, 1100.0, 600.0, 150.0, 14550.0, 1950.0, 3300.0, 8000.0, 400.0, 500.0, 1950.0, 476.0, 800.0, 433.0, 440.0, 200.0, 9150.0, 1700.0, 200.0, 850.0, 600.0, 4700.0, 350.0, 1300.0, 750.0, 1500.0, 500.0, 100.0, 400.0, 349.0, 1100.0, 16700.0, 1000.0, 175.0, 400.0, 50.0, 700.0, 550.0, 2150.0, 1550.0, 500.0, 6000.0, 8100.0, 200.0, 1400.0, 783.0, 550.0, 3300.0, 725.0, 1300.0, 2650.0, 50.0, 2200.0, 1900.0, 500.0, 400.0, 1550.0, 250.0, 200.0, 1650.0, 700.0, 250.0, 1525.0, 200.0, 2400.0, 650.0, 100.0, 300.0, 9500.0, 250.0, 1150.0, 100.0, 250.0, 400.0, 200.0, 2200.0, 150.0, 14800.0, 1197.0, 140.0, 500.0, 300.0, 1450.0, 500.0, 6350.0, 875.0, 550.0, 900.0, 350.0, 1000.0, 300.0, 460.0, 850.0, 25250.0, 20000.0, 1125.0, 1093.0, 1450.0, 350.0, 1550.0, 750.0, 400.0, 3300.0, 318.0, 500.0, 3700.0, 5200.0, 700.0, 305.0, 5475.0, 2550.0, 225.0, 100.0, 1700.0, 200.0, 825.0, 600.0, 2600.0, 125.0, 550.0, 2900.0, 150.0, 50.0, 2100.0, 470.0, 9300.0, 21100.0, 10850.0, 600.0, 3000.0, 1900.0, 2350.0, 500.0, 825.0, 2450.0, 300.0, 100.0, 3050.0, 1280.0, 895.0, 1450.0, 1550.0, 900.0, 1717.0, 100.0, 200.0, 700.0, 4950.0, 300.0, 600.0, 600.0, 300.0, 550.0, 200.0, 2100.0, 7900.0, 600.0, 1042.0, 125.0, 150.0, 30000.0, 7875.0, 1600.0, 400.0, 700.0, 350.0, 400.0, 200.0, 100.0, 550.0, 550.0, 1400.0, 450.0, 150.0, 700.0, 350.0, 200.0, 1550.0, 5350.0, 425.0, 1250.0, 650.0, 900.0, 23450.0, 500.0, 500.0, 150.0, 2300.0, 825.0, 800.0, 850.0, 7700.0, 6500.0, 200.0, 600.0, 500.0, 600.0, 1372.0, 200.0, 1100.0, 2150.0, 150.0, 7050.0, 750.0, 500.0, 13000.0, 400.0, 1150.0, 50.0, 450.0, 6700.0, 9650.0, 6700.0, 1400.0, 810.0, 16000.0, 450.0, 600.0, 550.0, 10900.0, 250.0, 8200.0, 200.0, 50.0, 180.0, 100.0, 400.0, 1050.0, 850.0, 50.0, 150.0, 550.0, 800.0, 6900.0, 800.0, 425.0, 2000.0, 355.0, 450.0, 1550.0, 900.0, 563.0, 350.0, 1000.0, 300.0, 100.0, 5210.0, 550.0, 450.0, 2550.0, 190.0, 400.0, 800.0, 550.0, 650.0, 200.0, 150.0, 400.0, 1400.0, 300.0, 450.0, 100.0, 900.0, 150.0, 100.0, 1000.0, 2600.0, 1500.0, 250.0, 650.0, 250.0, 1038.0, 550.0, 200.0, 7150.0, 500.0, 1200.0, 1375.0, 3550.0, 2300.0, 325.0, 1500.0, 100.0, 1700.0, 7150.0, 1800.0, 250.0, 8200.0, 350.0, 1510.0, 100.0, 4750.0, 1150.0, 7000.0, 450.0, 700.0, 5200.0, 450.0, 15400.0, 100.0, 1700.0, 1250.0, 650.0, 300.0, 300.0, 300.0, 500.0, 200.0, 800.0, 660.0, 400.0, 150.0, 1800.0, 400.0, 2500.0, 500.0, 1000.0, 8500.0, 900.0, 650.0, 1200.0, 250.0, 300.0, 100.0, 2700.0, 583.0, 3150.0, 300.0, 200.0, 3900.0, 467.0, 50.0, 375.0, 6400.0, 374.0, 2541.0, 1800.0, 100.0, 500.0, 1600.0, 300.0, 720.0, 1000.0, 220.0, 1317.0, 350.0, 1538.0, 467.0, 167.0, 1000.0, 10950.0, 1000.0, 1000.0, 150.0, 600.0, 600.0, 100.0, 100.0, 1200.0, 100.0, 6350.0, 350.0, 1100.0, 650.0, 2550.0, 950.0, 150.0, 200.0, 1350.0, 933.0, 25950.0, 900.0, 800.0, 8675.0, 443.0, 1075.0, 8975.0, 300.0, 350.0, 200.0, 350.0, 100.0, 200.0, 1150.0, 1100.0, 22350.0, 150.0, 467.0, 150.0, 300.0, 1300.0, 10250.0, 800.0, 600.0, 15400.0, 16400.0, 161.0, 150.0, 575.0, 150.0, 300.0, 1450.0, 800.0, 1700.0, 200.0, 250.0, 1400.0, 225.0, 438.0, 225.0, 200.0, 1400.0, 170.0, 200.0, 200.0, 10500.0, 450.0, 900.0, 12050.0, 1075.0, 450.0, 600.0, 5300.0, 600.0, 550.0, 650.0, 3500.0, 2200.0, 950.0, 150.0, 300.0, 1800.0, 2000.0, 213.0, 929.0, 1100.0, 813.0, 2550.0, 200.0, 357.0, 250.0, 3850.0, 2900.0, 800.0, 800.0, 800.0, 150.0, 1050.0, 16650.0, 1200.0, 100.0, 400.0, 100.0, 250.0, 1750.0, 200.0, 350.0, 5700.0, 500.0, 375.0, 3900.0, 1550.0, 1000.0, 17450.0, 7575.0, 8150.0, 440.0, 150.0, 550.0, 700.0, 400.0, 4525.0, 1200.0, 1017.0, 600.0, 297.0, 717.0, 15200.0, 300.0, 475.0, 13250.0, 200.0, 100.0, 400.0, 3600.0, 150.0, 300.0, 500.0, 400.0, 200.0, 1000.0, 650.0, 600.0, 5400.0, 1050.0, 200.0, 1143.0, 400.0, 2100.0, 350.0, 700.0, 18450.0, 250.0, 1200.0, 150.0, 725.0, 12000.0, 833.0, 1400.0, 650.0, 1200.0, 2200.0, 9650.0, 3200.0, 400.0, 150.0, 300.0, 200.0, 400.0, 1350.0, 1500.0, 705.0, 4000.0, 1450.0, 4267.0, 700.0, 5700.0, 350.0, 8650.0, 100.0, 200.0, 167.0, 250.0, 30000.0, 200.0, 200.0, 3500.0, 150.0, 3300.0, 300.0, 3070.0, 925.0, 850.0, 225.0, 1650.0, 550.0, 550.0, 7500.0, 800.0, 250.0, 725.0, 2350.0, 500.0, 150.0, 630.0, 150.0, 550.0, 300.0, 1225.0, 300.0, 6700.0, 8217.0, 14700.0, 205.0, 1150.0, 1000.0, 100.0, 1200.0, 300.0, 1900.0, 7350.0, 300.0, 400.0, 6450.0, 350.0, 2800.0, 750.0, 250.0, 150.0, 9250.0, 200.0, 650.0, 400.0, 5050.0, 700.0, 700.0, 13800.0, 15100.0, 200.0, 850.0, 10200.0, 2100.0, 400.0, 6600.0, 700.0, 950.0, 2200.0, 400.0, 250.0, 375.0, 2450.0, 550.0, 692.0, 3500.0, 2525.0, 300.0, 400.0, 450.0, 9500.0, 1600.0, 1000.0, 1150.0, 350.0, 441.0, 10750.0, 13000.0, 650.0, 2900.0, 8300.0, 2100.0, 150.0, 325.0, 750.0, 400.0, 800.0, 250.0, 745.0, 550.0, 2000.0, 3025.0, 600.0, 600.0, 2300.0, 50.0, 850.0, 900.0, 200.0, 150.0, 750.0, 100.0, 200.0, 500.0, 650.0, 200.0, 120.0, 1050.0, 1000.0, 375.0, 2650.0, 75.0, 3700.0, 300.0, 1000.0, 200.0, 2150.0, 1500.0, 242.0, 600.0, 75.0, 419.0, 1000.0, 3900.0, 1600.0, 3600.0, 673.0, 1500.0, 1150.0, 22550.0, 3225.0, 6900.0, 600.0, 2600.0, 50.0, 1350.0, 11100.0, 200.0, 1000.0, 450.0, 1300.0, 300.0, 1637.0, 1500.0, 150.0, 14300.0, 200.0, 425.0, 8600.0, 4000.0, 2.0, 9225.0, 1200.0, 950.0, 6075.0, 5400.0, 550.0, 200.0, 200.0, 7800.0, 840.0, 4925.0, 2000.0, 188.0, 1800.0, 313.0, 2850.0, 7400.0, 600.0, 2900.0, 12100.0, 400.0, 1400.0, 500.0, 900.0, 1150.0, 1700.0, 1400.0, 1150.0, 4000.0, 500.0, 1150.0, 1150.0, 2600.0, 800.0, 900.0, 1033.0, 200.0, 225.0, 100.0, 600.0, 150.0, 6900.0, 150.0, 200.0, 100.0, 210.0, 1050.0, 2600.0, 200.0, 2467.0, 200.0, 1300.0, 1050.0, 4800.0, 150.0, 300.0, 100.0, 200.0, 8000.0, 50.0, 600.0, 1300.0, 600.0, 50.0, 350.0, 650.0, 950.0, 600.0, 822.0, 625.0, 400.0, 2050.0, 800.0, 1400.0, 320.0, 200.0, 500.0, 650.0, 60.0, 250.0, 800.0, 450.0, 1150.0, 2250.0, 9350.0, 158.0, 2000.0, 100.0, 1400.0, 200.0, 400.0, 850.0, 1650.0, 350.0, 5250.0, 275.0, 117.0, 4700.0, 900.0, 900.0, 1750.0, 1300.0, 7300.0, 2500.0, 3000.0, 700.0, 1100.0, 500.0, 800.0, 950.0, 1200.0, 100.0, 631.0, 700.0, 1300.0, 400.0, 600.0, 500.0, 200.0, 900.0, 750.0, 321.0, 900.0, 1625.0, 1800.0, 200.0, 3300.0, 500.0, 450.0, 450.0, 400.0, 650.0, 100.0, 2900.0, 500.0, 195.0, 450.0, 2925.0, 850.0, 350.0, 2250.0, 600.0, 283.0, 1500.0, 400.0, 150.0, 300.0, 1000.0, 1100.0, 700.0, 100.0, 400.0, 400.0, 550.0, 300.0, 2300.0, 1400.0, 4100.0, 1400.0, 650.0, 680.0, 4550.0, 700.0, 8000.0, 241.0, 472.0, 2200.0, 30000.0, 5600.0, 800.0, 350.0, 200.0, 8350.0, 500.0, 3008.0, 450.0, 2650.0, 470.0, 1250.0, 11000.0, 450.0, 1200.0, 1300.0, 900.0, 2100.0, 200.0, 1300.0, 8050.0, 6950.0, 1400.0, 940.0, 5175.0, 150.0, 7400.0, 1100.0, 697.0, 5850.0, 1000.0, 2000.0, 2000.0, 1200.0, 600.0, 150.0, 700.0, 300.0, 300.0, 300.0, 1200.0, 200.0, 150.0, 350.0, 1150.0, 167.0, 5400.0, 1500.0, 1009.0, 100.0, 650.0, 1250.0, 850.0, 1800.0, 1059.0, 300.0, 6000.0, 2350.0, 800.0, 15833.0, 1500.0, 400.0, 325.0, 850.0, 313.0, 300.0, 2250.0, 700.0, 350.0, 1500.0, 200.0, 8900.0, 4850.0, 650.0, 1675.0, 450.0, 950.0, 2750.0, 600.0, 450.0, 167.0, 200.0, 350.0, 1000.0, 1500.0, 14600.0, 750.0, 2800.0, 200.0, 500.0, 300.0, 100.0, 200.0, 200.0, 150.0, 300.0, 500.0, 250.0, 900.0, 3175.0, 436.0, 100.0, 850.0, 1700.0, 1050.0, 150.0, 500.0, 466.0, 2100.0, 211.0, 2100.0, 150.0, 200.0, 1600.0, 1000.0, 6100.0, 600.0, 600.0, 0.0, 3450.0, 4200.0, 3850.0, 95.0, 400.0, 800.0, 250.0, 2250.0, 495.0, 400.0, 650.0, 55.0, 700.0, 3100.0, 900.0, 22600.0, 650.0, 150.0, 650.0, 100.0, 105.0, 18800.0, 1400.0, 200.0, 125.0, 8500.0, 8450.0, 100.0, 350.0, 600.0, 1100.0, 150.0, 500.0, 1100.0, 4233.0, 1050.0, 500.0, 200.0, 900.0, 800.0, 5483.0, 1050.0, 30000.0, 650.0, 100.0, 1300.0, 532.0, 1200.0, 1300.0, 300.0, 600.0, 800.0, 6800.0, 1400.0, 425.0, 627.0, 450.0, 1750.0, 2300.0, 1700.0, 500.0, 2450.0, 725.0, 300.0, 8600.0, 200.0, 850.0, 12400.0, 600.0, 6730.0, 467.0, 3783.0, 200.0, 500.0, 3000.0, 7400.0, 6600.0, 450.0, 700.0, 2250.0, 500.0, 50.0, 50.0, 600.0, 1550.0, 600.0, 4925.0, 250.0, 650.0, 150.0, 200.0, 10150.0, 150.0, 5900.0, 3200.0, 550.0, 200.0, 2400.0, 100.0, 3900.0, 200.0, 300.0, 14900.0, 700.0, 650.0, 214.0, 400.0, 15742.0, 300.0, 1500.0, 700.0, 1200.0, 150.0, 450.0, 1350.0, 100.0, 18800.0, 3100.0, 5400.0, 250.0, 2243.0, 650.0, 1300.0, 150.0, 200.0, 700.0, 350.0, 750.0, 600.0, 8400.0, 400.0, 1050.0, 4800.0, 500.0, 3300.0, 750.0, 305.0, 500.0, 1525.0, 350.0, 400.0, 12050.0, 1125.0, 5690.0, 700.0, 2000.0, 14900.0, 450.0, 350.0, 600.0, 30000.0, 575.0, 1200.0, 2500.0, 600.0, 817.0, 11850.0, 900.0, 275.0, 3600.0, 10400.0, 1400.0, 200.0, 20500.0, 375.0, 450.0, 600.0, 1100.0, 750.0, 4650.0, 2985.0, 1650.0, 8400.0, 350.0, 150.0, 13700.0, 500.0, 3300.0, 750.0, 2850.0, 117.0, 700.0, 350.0, 900.0, 900.0, 400.0, 2500.0, 400.0, 800.0, 1050.0, 1400.0, 2425.0, 3500.0, 150.0, 2500.0, 1581.0, 600.0, 150.0, 4580.0, 550.0, 200.0, 200.0, 15800.0, 100.0, 300.0, 1350.0, 250.0, 700.0, 800.0, 16250.0, 1850.0, 9000.0, 150.0, 567.0, 150.0, 900.0, 350.0, 3200.0, 2450.0, 500.0, 450.0, 2450.0, 900.0, 2700.0, 500.0, 7300.0, 10483.0, 1050.0, 200.0, 3700.0, 333.0, 850.0, 125.0, 350.0, 950.0, 50.0, 950.0, 1300.0, 600.0, 8500.0, 400.0, 10200.0, 200.0, 500.0, 900.0, 350.0, 150.0, 2100.0, 275.0, 300.0, 1450.0, 30000.0, 20800.0, 2250.0, 2350.0, 2700.0, 600.0, 968.0, 300.0, 1419.0, 200.0, 5400.0, 1000.0, 880.0, 250.0, 285.0, 1150.0, 700.0, 2100.0, 950.0, 1627.0, 8017.0, 3400.0, 300.0, 350.0, 400.0, 375.0, 6400.0, 1600.0, 600.0, 900.0, 800.0, 200.0, 3800.0, 300.0, 50.0, 150.0, 800.0, 3400.0, 5650.0, 250.0, 300.0, 375.0, 6050.0, 150.0, 400.0, 3875.0, 800.0, 200.0, 467.0, 350.0, 50.0, 6000.0, 15900.0, 150.0, 700.0, 250.0, 1150.0, 350.0, 500.0, 500.0, 3900.0, 800.0, 550.0, 300.0, 18200.0, 400.0, 2900.0, 500.0, 200.0, 10300.0, 500.0, 400.0, 2150.0, 2000.0, 3000.0, 1350.0, 300.0, 400.0, 5000.0, 200.0, 150.0, 500.0, 200.0, 100.0, 300.0, 800.0, 2250.0, 100.0, 1100.0, 5700.0, 1700.0, 800.0, 575.0, 1200.0, 1200.0, 2700.0, 8100.0, 1600.0, 550.0, 390.0, 2050.0, 5950.0, 1155.0, 700.0, 375.0, 250.0, 2300.0, 700.0, 350.0, 250.0, 6650.0, 250.0, 650.0, 2250.0, 400.0, 250.0, 1550.0, 300.0, 750.0, 259.0, 150.0, 3000.0, 1300.0, 1400.0, 16400.0, 600.0, 600.0, 3350.0, 900.0, 1500.0, 436.0, 175.0, 300.0, 800.0, 700.0, 260.0, 600.0, 600.0, 717.0, 5250.0, 800.0, 2300.0, 9300.0, 150.0, 300.0, 100.0, 417.0, 5350.0, 10200.0, 1600.0, 8400.0, 2050.0, 350.0, 500.0, 3000.0, 480.0, 3833.0, 1900.0, 10850.0, 4500.0, 1250.0, 750.0, 9400.0, 1398.0, 550.0, 350.0, 500.0, 550.0, 5667.0, 425.0, 500.0, 1000.0, 250.0, 67.0, 3300.0, 200.0, 350.0, 300.0, 250.0, 800.0, 10200.0, 4550.0, 225.0, 600.0, 300.0, 550.0, 1300.0, 250.0, 2950.0, 700.0, 100.0, 27050.0, 200.0, 600.0, 1700.0, 950.0, 2300.0, 6050.0, 650.0, 160.0, 350.0, 1400.0, 400.0, 6663.0, 450.0, 100.0, 7400.0, 1100.0, 6200.0, 500.0, 188.0, 6600.0, 400.0, 500.0, 150.0, 477.0, 300.0, 150.0, 350.0, 325.0, 150.0, 2200.0, 300.0, 15200.0, 400.0, 300.0, 5000.0, 550.0, 425.0, 2100.0, 23250.0, 3100.0, 6200.0, 2000.0, 1750.0, 1500.0, 167.0, 300.0, 550.0, 160.0, 300.0, 250.0, 2663.0, 300.0, 750.0, 1600.0, 550.0, 7975.0, 266.0, 900.0, 18100.0, 1700.0, 600.0, 2750.0, 100.0, 213.0, 17300.0, 5150.0, 233.0, 1020.0, 19067.0, 950.0, 350.0, 2000.0, 238.0, 300.0, 17050.0, 950.0, 14000.0, 500.0, 490.0, 900.0, 200.0, 24400.0, 91.0, 200.0, 6150.0, 1150.0, 500.0, 80.0, 1400.0, 100.0, 300.0, 450.0, 350.0, 2000.0, 550.0, 150.0, 5250.0, 150.0, 400.0, 958.0, 338.0, 5600.0, 150.0, 2250.0, 1350.0, 250.0, 800.0, 850.0, 350.0, 150.0, 800.0, 993.0, 400.0, 3950.0, 2220.0, 7225.0, 1475.0, 150.0, 600.0, 200.0, 27067.0, 100.0, 1600.0, 250.0, 1675.0, 3000.0, 1752.0, 500.0, 500.0, 200.0, 200.0, 600.0, 9900.0, 700.0, 275.0, 1700.0, 1225.0, 150.0, 200.0, 10600.0, 2800.0, 366.0, 200.0, 1000.0, 150.0, 400.0, 250.0, 250.0, 300.0, 705.0, 100.0, 3300.0, 500.0, 2350.0, 8450.0, 700.0, 350.0, 2400.0, 600.0, 16850.0, 425.0, 550.0, 1200.0, 900.0, 500.0, 200.0, 15008.0, 100.0, 150.0, 1350.0, 1000.0, 200.0, 900.0, 1100.0, 250.0, 200.0, 1200.0, 525.0, 325.0, 1200.0, 426.0, 750.0, 500.0, 1217.0, 1150.0, 317.0, 500.0, 50.0, 500.0, 250.0, 1650.0, 800.0, 8600.0, 100.0, 8350.0, 1025.0, 200.0, 200.0, 1900.0, 9750.0, 950.0, 950.0, 4600.0, 2550.0, 200.0, 300.0, 260.0, 1550.0, 2850.0, 200.0, 1350.0, 150.0, 5153.0, 400.0, 3250.0, 150.0, 3600.0, 1000.0, 550.0, 5400.0, 11250.0, 21300.0, 3000.0, 3110.0, 1683.0, 200.0, 1133.0, 500.0, 2550.0, 200.0, 138.0, 200.0, 100.0, 14325.0, 150.0, 725.0, 3350.0, 300.0, 850.0, 550.0, 23300.0, 975.0, 1300.0, 1950.0, 400.0, 200.0, 5675.0, 950.0, 400.0, 2000.0, 500.0, 1500.0, 575.0, 1900.0, 2450.0, 800.0, 145.0, 150.0, 300.0, 9700.0, 250.0, 50.0, 1050.0, 50.0, 600.0, 850.0, 300.0, 950.0, 100.0, 250.0, 17600.0, 1900.0, 600.0, 9400.0, 1350.0, 1050.0, 500.0, 400.0, 400.0, 5950.0, 450.0, 288.0, 100.0, 300.0, 1400.0, 600.0, 200.0, 600.0, 200.0, 303.0, 382.0, 650.0, 100.0, 750.0, 1200.0, 150.0, 7400.0, 150.0, 550.0, 1450.0, 160.0, 625.0, 800.0, 2300.0, 200.0, 1700.0, 292.0, 1000.0, 500.0, 200.0, 1100.0, 300.0, 200.0, 1650.0, 250.0, 500.0, 100.0, 467.0, 1100.0, 1250.0, 4075.0, 7700.0, 300.0, 200.0, 300.0, 343.0, 300.0, 725.0, 1000.0, 21500.0, 342.0, 350.0, 1975.0, 200.0, 150.0, 600.0, 20200.0, 300.0, 200.0, 24600.0, 2200.0, 1150.0, 1000.0, 200.0, 1550.0, 6250.0, 6200.0, 30000.0, 5888.0, 400.0, 50.0, 1000.0, 350.0, 600.0, 7050.0, 100.0, 13650.0, 250.0, 350.0, 1800.0, 300.0, 600.0, 594.0, 1550.0, 300.0, 2050.0, 1050.0, 1400.0, 900.0, 100.0, 550.0, 367.0, 325.0, 550.0, 150.0, 9900.0, 3600.0, 100.0, 600.0, 2100.0, 300.0, 400.0, 900.0, 600.0, 1000.0, 1238.0, 200.0, 3100.0, 1075.0, 700.0, 9270.0, 750.0, 750.0, 350.0, 350.0, 300.0, 500.0, 100.0, 450.0, 450.0, 2050.0, 400.0, 300.0, 2400.0, 100.0, 5650.0, 300.0, 1800.0, 100.0, 100.0, 200.0, 150.0, 1850.0, 463.0, 500.0, 200.0, 850.0, 250.0, 100.0, 21700.0, 550.0, 600.0, 1850.0, 600.0, 200.0, 900.0, 8325.0, 400.0, 200.0, 750.0, 13150.0, 7650.0, 300.0, 125.0, 14000.0, 1513.0, 900.0, 350.0, 1250.0, 2750.0, 217.0, 459.0, 1900.0, 375.0, 200.0, 700.0, 300.0, 50.0, 19025.0, 1000.0, 150.0, 900.0, 800.0, 208.0, 10100.0, 17100.0, 2950.0, 375.0, 400.0, 1625.0, 550.0, 1800.0, 3000.0, 1500.0, 1022.0, 1050.0, 2300.0, 450.0, 600.0, 150.0, 200.0, 600.0, 1800.0, 400.0, 225.0, 2693.0, 700.0, 4825.0, 24800.0, 1900.0, 650.0, 700.0, 10750.0, 250.0, 650.0, 125.0, 2000.0, 1100.0, 2400.0, 340.0, 150.0, 2750.0, 352.0, 2963.0, 700.0, 12450.0, 450.0, 500.0, 300.0, 550.0, 5100.0, 850.0, 200.0, 250.0, 1700.0, 250.0, 2550.0, 9600.0, 1900.0, 600.0, 650.0, 505.0, 100.0, 100.0, 750.0, 650.0, 100.0, 1625.0, 525.0, 350.0, 300.0, 13800.0, 10000.0, 2367.0, 1500.0, 200.0, 1200.0, 350.0, 300.0, 450.0, 300.0, 275.0, 250.0, 1150.0, 200.0, 350.0, 30000.0, 225.0, 700.0, 2500.0, 500.0, 1625.0, 2300.0, 1200.0, 13650.0, 200.0, 14000.0, 100.0, 380.0, 825.0, 1000.0, 1050.0, 150.0, 2900.0, 550.0, 120.0, 2350.0, 550.0, 2000.0, 448.0, 600.0, 950.0, 1400.0, 5550.0, 50.0, 6300.0, 600.0, 6350.0, 6850.0, 4075.0, 1600.0, 1950.0, 200.0, 250.0, 12050.0, 200.0, 250.0, 600.0, 700.0, 375.0, 4750.0, 1200.0, 467.0, 100.0, 992.0, 950.0, 2100.0, 5500.0, 150.0, 29500.0, 100.0, 2733.0, 300.0, 100.0, 1500.0, 125.0, 600.0, 500.0, 250.0, 418.0, 900.0, 2000.0, 5200.0, 150.0, 250.0, 100.0, 800.0, 4236.0, 183.0, 150.0, 175.0, 450.0, 5000.0, 243.0, 2000.0, 5100.0, 7775.0, 1500.0, 2100.0, 4900.0, 1000.0, 550.0, 100.0, 300.0, 588.0, 2950.0, 800.0, 250.0, 100.0, 200.0, 478.0, 2000.0, 1500.0, 400.0, 1695.0, 667.0, 100.0, 600.0, 600.0, 13900.0, 1200.0, 650.0, 300.0, 200.0, 700.0, 200.0, 1134.0, 13699.0, 100.0, 400.0, 200.0, 225.0, 500.0, 300.0, 300.0, 50.0, 200.0, 23375.0, 20600.0, 1100.0, 183.0, 800.0, 8950.0, 10250.0, 10325.0, 1900.0, 350.0, 248.0, 2350.0, 400.0, 313.0, 100.0, 850.0, 5683.0, 250.0, 350.0, 1000.0, 6450.0, 350.0, 1600.0, 2275.0, 4350.0, 100.0, 200.0, 600.0, 150.0, 15200.0, 300.0, 50.0, 11650.0, 100.0, 12800.0, 500.0, 635.0, 50.0, 1200.0, 100.0, 1050.0, 1650.0, 300.0, 50.0, 1000.0, 1200.0, 383.0, 1800.0, 350.0, 13900.0, 600.0, 1300.0, 1150.0, 200.0, 900.0, 125.0, 150.0, 800.0, 10975.0, 100.0, 600.0, 250.0, 9575.0, 600.0, 483.0, 1600.0, 2630.0, 10450.0, 1100.0, 700.0, 3400.0, 400.0, 350.0, 650.0, 5250.0, 4000.0, 300.0, 550.0, 200.0, 300.0, 325.0, 2000.0, 16100.0, 6450.0, 1000.0, 700.0, 5300.0, 200.0, 7130.0, 5700.0, 500.0, 120.0, 8800.0, 350.0, 450.0, 9900.0, 1225.0, 1300.0, 1400.0, 1250.0, 3900.0, 185.0, 10300.0, 400.0, 2700.0, 4000.0, 3500.0, 125.0, 300.0, 2100.0, 18438.0, 3150.0, 200.0, 300.0, 2000.0, 200.0, 1750.0, 200.0, 350.0, 700.0, 500.0, 150.0, 178.0, 650.0, 816.0, 425.0, 275.0, 2000.0, 900.0, 5500.0, 10700.0, 2800.0, 1450.0, 900.0, 500.0, 300.0, 3150.0, 7100.0, 1000.0, 748.0, 1223.0, 550.0, 100.0, 1250.0, 200.0, 2000.0, 2825.0, 1850.0, 2000.0, 600.0, 600.0, 600.0, 1300.0, 200.0, 100.0, 250.0, 550.0, 200.0, 200.0, 1500.0, 450.0, 600.0, 2350.0, 300.0, 425.0, 2450.0, 1200.0, 450.0, 200.0, 13300.0, 163.0, 1300.0, 500.0, 998.0, 2200.0, 600.0, 300.0, 300.0, 200.0, 70.0, 5950.0, 900.0, 647.0, 2950.0, 1200.0, 550.0, 1450.0, 200.0, 420.0, 400.0, 100.0, 1000.0, 1050.0, 250.0, 500.0, 175.0, 50.0, 800.0, 220.0, 900.0, 450.0, 100.0, 400.0, 850.0, 150.0, 100.0, 150.0, 400.0, 30000.0, 150.0, 1500.0, 945.0, 544.0, 0.0, 100.0, 9850.0, 6192.0, 300.0, 100.0, 1800.0, 1000.0, 400.0, 200.0, 1450.0, 400.0, 1200.0, 1936.0, 400.0, 156.0, 250.0, 17550.0, 5125.0, 465.0, 450.0, 150.0, 7125.0, 400.0, 850.0, 500.0, 600.0, 200.0, 450.0, 2450.0, 100.0, 17950.0, 1050.0, 650.0, 100.0, 600.0, 4900.0, 450.0, 950.0, 50.0, 350.0, 1000.0, 95.0, 1150.0, 150.0, 592.0, 6050.0, 300.0, 100.0, 947.0, 200.0, 6600.0, 900.0, 2150.0, 1800.0, 300.0, 850.0, 120.0, 650.0, 600.0, 9660.0, 450.0, 350.0, 100.0, 473.0, 669.0, 200.0, 600.0, 150.0, 6050.0, 700.0, 150.0, 2700.0, 5400.0, 800.0, 372.0, 100.0, 6200.0, 1100.0, 525.0, 100.0, 300.0, 2600.0, 6750.0, 1300.0, 3550.0, 650.0, 750.0, 105.0, 450.0, 650.0, 650.0, 275.0, 1750.0, 1300.0, 800.0, 200.0, 250.0, 350.0, 500.0, 5250.0, 500.0, 1000.0, 1700.0, 300.0, 9400.0, 250.0, 50.0, 170.0, 200.0, 250.0, 850.0, 300.0, 550.0, 641.0, 1100.0, 850.0, 1600.0, 6500.0, 2200.0, 250.0, 50.0, 700.0, 450.0, 450.0, 5800.0, 4300.0, 200.0, 350.0, 717.0, 1450.0, 150.0, 700.0, 3500.0, 1050.0, 450.0, 900.0, 200.0, 24600.0, 1350.0, 950.0, 1500.0, 400.0, 2000.0, 900.0, 19500.0, 5350.0, 150.0, 5000.0, 500.0, 8250.0, 125.0, 1450.0, 6450.0, 2400.0, 450.0, 200.0, 1300.0, 550.0, 1200.0, 150.0, 150.0, 1400.0, 8550.0, 400.0, 1500.0, 1500.0, 1058.0, 900.0, 500.0, 100.0, 1475.0, 1000.0, 2300.0, 2000.0, 525.0, 1535.0, 250.0, 228.0, 1300.0, 200.0, 600.0, 7550.0, 1400.0, 214.0, 2850.0, 200.0, 750.0, 275.0, 150.0, 400.0, 250.0, 600.0, 4250.0, 696.0, 125.0, 2700.0, 605.0, 3300.0, 1150.0, 2245.0, 15700.0, 3250.0, 480.0, 1350.0, 1400.0, 2450.0, 10200.0, 6950.0, 1550.0, 300.0, 507.0, 650.0, 13850.0, 200.0, 2600.0, 75.0, 750.0, 22183.0, 2000.0, 100.0, 267.0, 300.0, 300.0, 366.0, 400.0, 1440.0, 5150.0, 1650.0, 300.0, 18050.0, 50.0, 300.0, 450.0, 300.0, 50.0, 1205.0, 1150.0, 600.0, 3767.0, 1200.0, 500.0, 365.0, 225.0, 550.0, 675.0, 3354.0, 550.0, 4850.0, 100.0, 3000.0, 225.0, 6033.0, 600.0, 8600.0, 600.0, 122.0, 4050.0, 750.0, 300.0, 367.0, 500.0, 300.0, 500.0, 750.0, 450.0, 150.0, 2138.0, 1700.0, 2000.0, 2950.0, 1200.0, 450.0, 100.0, 5200.0, 100.0, 1600.0, 5350.0, 9850.0, 1500.0, 1067.0, 667.0, 500.0, 3100.0, 1650.0, 725.0, 150.0, 150.0, 900.0, 150.0, 4100.0, 150.0, 200.0, 850.0, 350.0, 3000.0, 728.0, 350.0, 550.0, 250.0, 300.0, 2300.0, 725.0, 600.0, 150.0, 900.0, 700.0, 900.0, 500.0, 150.0, 1650.0, 5000.0, 550.0, 1000.0, 1350.0, 200.0, 1100.0, 2400.0, 50.0, 7417.0, 700.0, 1800.0, 700.0, 100.0, 12000.0, 350.0, 100.0, 50.0, 1500.0, 2950.0, 9625.0, 1500.0, 200.0, 200.0, 400.0, 2650.0, 100.0, 5000.0, 527.0, 950.0, 650.0, 300.0, 338.0, 1500.0, 850.0, 400.0, 550.0, 3700.0, 4050.0, 2067.0, 700.0, 600.0, 600.0, 2950.0, 400.0, 10200.0, 1008.0, 350.0, 2500.0, 300.0, 300.0, 1500.0, 550.0, 2475.0, 10450.0, 250.0, 2800.0, 1000.0, 370.0, 300.0, 3000.0, 2000.0, 500.0, 1150.0, 250.0, 3600.0, 10700.0, 2.0, 1650.0, 350.0, 363.0, 2100.0, 110.0, 5300.0, 14350.0, 350.0, 450.0, 367.0, 27100.0, 500.0, 9950.0, 200.0, 1100.0, 130.0, 3800.0, 800.0, 350.0, 353.0, 1400.0, 1100.0, 1000.0, 383.0, 300.0, 350.0, 850.0, 1300.0, 200.0, 1650.0, 700.0, 2200.0, 200.0, 2500.0, 3875.0, 2700.0, 200.0, 250.0, 1500.0, 11500.0, 625.0, 600.0, 200.0, 2225.0, 449.0, 1500.0, 200.0, 400.0, 500.0, 400.0, 575.0, 400.0, 300.0, 300.0, 100.0, 200.0, 350.0, 2525.0, 750.0, 2650.0, 200.0, 1500.0, 2900.0, 700.0, 600.0, 250.0, 4200.0, 643.0, 200.0, 200.0, 100.0, 900.0, 4400.0, 800.0, 600.0, 200.0, 200.0, 2908.0, 300.0, 1650.0, 3000.0, 83.0, 1000.0, 683.0, 400.0, 187.0, 750.0, 350.0, 233.0, 300.0, 1400.0, 500.0, 9800.0, 150.0, 200.0, 200.0, 200.0, 200.0, 450.0, 600.0, 18050.0, 1500.0, 400.0, 1100.0, 450.0, 250.0, 3500.0, 14050.0, 150.0, 1250.0, 500.0, 525.0, 200.0, 700.0, 725.0, 1150.0, 125.0, 28600.0, 525.0, 1350.0, 200.0, 1900.0, 8200.0, 338.0, 200.0, 400.0, 100.0, 450.0, 1133.0, 1100.0, 500.0, 617.0, 500.0, 400.0, 1500.0, 15500.0, 960.0, 1050.0, 250.0, 28500.0, 3325.0, 750.0, 400.0, 1250.0, 10400.0, 10500.0, 100.0, 400.0, 450.0, 800.0, 2300.0, 600.0, 1050.0, 200.0, 550.0, 488.0, 1200.0, 950.0, 148.0, 250.0, 153.0, 8200.0, 1250.0, 200.0, 125.0, 3270.0, 1100.0, 2600.0, 400.0, 1150.0, 128.0, 200.0, 1350.0, 200.0, 900.0, 700.0, 1067.0, 550.0, 250.0, 150.0, 450.0, 600.0, 1150.0, 10200.0, 4775.0, 1277.0, 728.0, 800.0, 600.0, 11300.0, 3700.0, 1000.0, 410.0, 200.0, 1300.0, 3550.0, 300.0, 290.0, 250.0, 350.0, 4100.0, 350.0, 500.0, 3250.0, 447.0, 200.0, 18800.0, 1155.0, 2150.0, 491.0, 300.0, 5417.0, 200.0, 2400.0, 300.0, 750.0, 1400.0, 950.0, 1500.0, 1050.0, 400.0, 6550.0, 19500.0, 1350.0, 16450.0, 83.0, 350.0, 1800.0, 300.0, 200.0, 350.0, 525.0, 17600.0, 200.0, 1400.0, 900.0, 200.0, 1125.0, 200.0, 5200.0, 917.0, 1750.0, 1800.0, 300.0, 2350.0, 1600.0, 2100.0, 15600.0, 900.0, 16897.0, 4750.0, 6950.0, 350.0, 100.0, 800.0, 825.0, 386.0, 3975.0, 800.0, 1700.0, 1650.0, 2000.0, 1600.0, 275.0, 250.0, 5925.0, 300.0, 200.0, 927.0, 50.0, 50.0, 2000.0, 277.0, 400.0, 575.0, 600.0, 350.0, 3100.0, 748.0, 900.0, 400.0, 950.0, 1925.0, 400.0, 350.0, 2717.0, 600.0, 150.0, 2825.0, 1275.0, 400.0, 7000.0, 425.0, 950.0, 28500.0, 3500.0, 2200.0, 700.0, 350.0, 1200.0, 2.0, 4600.0, 800.0, 600.0, 11800.0, 200.0, 1500.0, 200.0, 2500.0, 308.0, 250.0, 650.0, 800.0, 3500.0, 150.0, 1100.0, 4750.0, 400.0, 550.0, 2300.0, 350.0, 6700.0, 1450.0, 2500.0, 200.0, 1000.0, 2200.0, 4200.0, 1700.0, 1950.0, 9700.0, 250.0, 150.0, 200.0, 10000.0, 1500.0, 1150.0, 1700.0, 600.0, 2800.0, 800.0, 891.0, 1000.0, 6500.0, 450.0, 2200.0, 600.0, 450.0, 550.0, 1350.0, 200.0, 400.0, 200.0, 2000.0, 150.0, 1050.0, 800.0, 125.0, 1500.0, 500.0, 7300.0, 500.0, 1600.0, 200.0, 550.0, 800.0, 250.0, 2400.0, 850.0, 675.0, 300.0, 200.0, 433.0, 200.0, 3900.0, 400.0, 500.0, 900.0, 9550.0, 525.0, 125.0, 150.0, 1183.0, 2400.0, 1900.0, 11780.0, 1200.0, 1200.0, 160.0, 1925.0, 400.0, 4550.0, 300.0, 300.0, 7300.0, 800.0, 250.0, 2650.0, 200.0, 1300.0, 1400.0, 225.0, 500.0, 255.0, 6050.0, 1000.0, 175.0, 400.0, 3050.0, 950.0, 800.0, 200.0, 1100.0, 8400.0, 200.0, 1600.0, 1550.0, 5900.0, 6300.0, 400.0, 200.0, 4300.0, 1550.0, 700.0, 500.0, 600.0, 127.0, 200.0, 2200.0, 350.0, 375.0, 300.0, 8050.0, 400.0, 350.0, 800.0, 10450.0, 1000.0, 600.0, 1750.0, 713.0, 2700.0, 550.0, 1300.0, 2250.0, 250.0, 2400.0, 10500.0, 200.0, 2150.0, 8750.0, 8200.0, 2350.0, 200.0, 200.0, 200.0, 250.0, 100.0, 950.0, 1500.0, 200.0, 900.0, 900.0, 467.0, 540.0, 850.0, 400.0, 550.0, 150.0, 8300.0, 1900.0, 5200.0, 1650.0, 14100.0, 600.0, 2850.0, 1350.0, 150.0, 200.0, 500.0, 150.0, 14250.0, 1400.0, 450.0, 150.0, 400.0, 1733.0, 250.0, 1200.0, 1900.0, 850.0, 2000.0, 400.0, 900.0, 1000.0, 2600.0, 3000.0, 2300.0, 1700.0, 19200.0, 450.0, 1850.0, 100.0, 600.0, 700.0, 1700.0, 3045.0, 4000.0, 4725.0, 450.0, 1400.0, 500.0, 1000.0, 13600.0, 100.0, 200.0, 300.0, 400.0, 150.0, 700.0, 400.0, 3300.0, 425.0, 550.0, 650.0, 300.0, 150.0, 150.0, 7000.0, 300.0, 300.0, 400.0, 900.0, 10300.0, 2300.0, 200.0, 512.0, 200.0, 150.0, 1650.0, 10825.0, 1700.0, 2146.0, 431.0, 1025.0, 1700.0, 300.0, 1100.0, 100.0, 250.0, 2550.0, 350.0, 756.0, 9950.0, 1100.0, 1250.0, 600.0, 175.0, 250.0, 493.0, 2550.0, 6700.0, 450.0, 300.0, 325.0, 400.0, 1200.0, 4700.0, 11200.0, 16750.0, 330.0, 7600.0, 500.0, 200.0, 1850.0, 175.0, 950.0, 488.0, 250.0, 2250.0, 600.0, 10150.0, 525.0, 3200.0, 500.0, 1250.0, 750.0, 200.0, 200.0, 19200.0, 500.0, 6725.0, 50.0, 400.0, 6400.0, 500.0, 1300.0, 300.0, 400.0, 350.0, 250.0, 1600.0, 3400.0, 100.0, 700.0, 1473.0, 350.0, 30000.0, 250.0, 1075.0, 1200.0, 170.0, 200.0, 2700.0, 13800.0, 488.0, 300.0, 4088.0, 1750.0, 300.0, 200.0, 8400.0, 400.0, 13300.0, 700.0, 250.0, 6225.0, 640.0, 975.0, 1350.0, 500.0, 10975.0, 1025.0, 300.0, 400.0, 1550.0, 50.0, 100.0, 3900.0, 2000.0, 11900.0, 5350.0, 1000.0, 150.0, 158.0, 1300.0, 350.0, 650.0, 4200.0, 1500.0, 1700.0, 971.0, 4700.0, 1500.0, 550.0, 700.0, 3250.0, 950.0, 200.0, 450.0, 18050.0, 675.0, 300.0, 3000.0, 650.0, 2050.0, 2200.0, 350.0, 10150.0, 900.0, 1850.0, 750.0, 300.0, 300.0, 6650.0, 530.0, 100.0, 4000.0, 1050.0, 1600.0, 1000.0, 350.0, 850.0, 8800.0, 1400.0, 6400.0, 1500.0, 525.0, 150.0, 900.0, 600.0, 2600.0, 200.0, 800.0, 7760.0, 500.0, 100.0, 300.0, 350.0, 470.0, 1000.0, 5950.0, 4100.0, 150.0, 3750.0, 1350.0, 1000.0, 4400.0, 2600.0, 5000.0, 13250.0, 1590.0, 250.0, 400.0, 650.0, 150.0, 1600.0, 100.0, 1500.0, 800.0, 6500.0, 200.0, 400.0, 750.0, 800.0, 700.0, 21200.0, 150.0, 150.0, 1200.0, 1500.0, 500.0, 1111.0, 650.0, 450.0, 400.0, 250.0, 700.0, 185.0, 1721.0, 620.0, 573.0, 10475.0, 150.0, 900.0, 350.0, 400.0, 575.0, 617.0, 100.0, 7800.0, 350.0, 275.0, 1150.0, 9300.0, 6284.0, 1950.0, 1100.0, 200.0, 900.0, 500.0, 150.0, 800.0, 350.0, 550.0, 1250.0, 600.0, 100.0, 550.0, 2850.0, 1225.0, 200.0, 1100.0, 100.0, 2383.0, 500.0, 400.0, 4750.0, 350.0, 15100.0, 400.0, 600.0, 450.0, 450.0, 200.0, 1100.0, 200.0, 200.0, 250.0, 200.0, 400.0, 200.0, 200.0, 1300.0, 1600.0, 12300.0, 375.0, 1900.0, 2950.0, 7000.0, 1183.0, 1200.0, 300.0, 700.0, 1183.0, 1256.0, 2.0, 750.0, 3700.0, 50.0, 150.0, 400.0, 100.0, 567.0, 600.0, 963.0, 200.0, 100.0, 10850.0, 1625.0, 250.0, 450.0, 125.0, 300.0, 200.0, 185.0, 350.0, 150.0, 3250.0, 1150.0, 500.0, 30000.0, 825.0, 550.0, 1100.0, 1300.0, 250.0, 1600.0, 700.0, 233.0, 16950.0, 400.0, 192.0, 800.0, 2050.0, 1100.0, 250.0, 1012.0, 17400.0, 600.0, 3050.0, 650.0, 350.0, 1500.0, 3800.0, 1150.0, 10600.0, 500.0, 700.0, 1300.0, 500.0, 1150.0, 1150.0, 2350.0, 200.0, 350.0, 875.0, 500.0, 2200.0, 100.0, 250.0, 4850.0, 9900.0, 200.0, 3800.0, 300.0, 650.0, 17950.0, 400.0, 1000.0, 153.0, 300.0, 450.0, 100.0, 1550.0, 3400.0, 300.0, 8767.0, 200.0, 300.0, 650.0, 3000.0, 130.0, 500.0, 200.0, 328.0, 500.0, 1600.0, 417.0, 200.0, 383.0, 500.0, 1100.0, 263.0, 15450.0, 4200.0, 600.0, 10400.0, 1100.0, 13325.0, 400.0, 1130.0, 19800.0, 2800.0, 7500.0, 700.0, 1200.0, 50.0, 1100.0, 1500.0, 700.0, 500.0, 50.0, 1500.0, 5250.0, 1350.0, 12250.0, 1600.0, 450.0, 200.0, 2000.0, 2350.0, 1800.0, 300.0, 1800.0, 600.0, 1150.0, 250.0, 16200.0, 200.0, 100.0, 750.0, 163.0, 1975.0, 1100.0, 3050.0, 1850.0, 2400.0, 1000.0, 4150.0, 2000.0, 1100.0, 2400.0, 2783.0, 1000.0, 11400.0, 1400.0, 400.0, 1067.0, 6800.0, 700.0, 150.0, 2600.0, 27200.0, 1200.0, 200.0, 1575.0, 400.0, 300.0, 1200.0, 1700.0, 500.0, 700.0, 1000.0, 1050.0, 150.0, 250.0, 350.0, 12300.0, 4325.0, 150.0, 200.0, 1200.0, 27250.0, 2400.0, 200.0, 150.0, 300.0, 1181.0, 300.0, 30000.0, 200.0, 800.0, 317.0, 3600.0, 5350.0, 350.0, 150.0, 2000.0, 200.0, 6350.0, 3000.0, 5525.0, 1050.0, 25200.0, 3300.0, 650.0, 1100.0, 200.0, 925.0, 600.0, 6050.0, 2000.0, 500.0, 250.0, 650.0, 485.0, 1000.0, 1400.0, 150.0, 5850.0, 314.0, 300.0, 2700.0, 600.0, 500.0, 10800.0, 1400.0, 550.0, 500.0, 600.0, 21200.0, 650.0, 1140.0, 600.0, 1250.0, 900.0, 1450.0, 5850.0, 1300.0, 1783.0, 7500.0, 1800.0, 1750.0, 300.0, 1300.0, 800.0, 650.0, 150.0, 50.0, 9450.0, 400.0, 1450.0, 400.0, 100.0, 1400.0, 600.0, 550.0, 1350.0, 200.0, 800.0, 1040.0, 2100.0, 250.0, 300.0, 5300.0, 1100.0, 2750.0, 875.0, 450.0, 250.0, 4125.0, 550.0, 2550.0, 11489.0, 30000.0, 419.0, 500.0, 233.0, 267.0, 850.0, 200.0, 950.0, 6400.0, 575.0, 400.0, 1200.0, 500.0, 6650.0, 250.0, 150.0, 2850.0, 1300.0, 250.0, 200.0, 200.0, 267.0, 317.0, 601.0, 350.0, 200.0, 11825.0, 500.0, 50.0, 2000.0, 10800.0, 100.0, 12500.0, 200.0, 500.0, 3350.0, 100.0, 5150.0, 150.0, 7000.0, 650.0, 2100.0, 325.0, 11300.0, 550.0, 450.0, 480.0, 900.0, 3500.0, 300.0, 150.0, 600.0, 2000.0, 1600.0, 1500.0, 350.0, 900.0, 550.0, 9700.0, 1000.0, 4050.0, 175.0, 14900.0, 3000.0, 650.0, 7100.0, 100.0, 2600.0, 150.0, 10800.0, 3500.0, 8050.0, 1250.0, 1350.0, 150.0, 1700.0, 1700.0, 200.0, 1150.0, 1100.0, 1650.0, 215.0, 478.0, 250.0, 550.0, 4700.0, 900.0, 133.0, 2863.0, 22150.0, 10100.0, 8200.0, 2483.0, 200.0, 193.0, 300.0, 500.0, 83.0, 150.0, 600.0, 1000.0, 1000.0, 16050.0, 1700.0, 200.0, 700.0, 1850.0, 4025.0, 18800.0, 5100.0, 850.0, 463.0, 2050.0, 1800.0, 700.0, 750.0, 8950.0, 410.0, 333.0, 9800.0, 250.0, 300.0, 200.0, 1100.0, 400.0, 30000.0, 500.0, 100.0, 500.0, 150.0, 4317.0, 4550.0, 800.0, 16000.0, 331.0, 383.0, 400.0, 600.0, 7475.0, 1100.0, 150.0, 30000.0, 3000.0, 1550.0, 200.0, 600.0, 13900.0, 9000.0, 150.0, 1000.0, 350.0, 1250.0, 1575.0, 850.0, 150.0, 730.0, 197.0, 292.0, 500.0, 850.0, 750.0, 2100.0, 200.0, 805.0, 3200.0, 700.0, 350.0, 375.0, 3150.0, 700.0, 100.0, 300.0, 600.0, 7400.0, 9375.0, 500.0, 1300.0, 250.0, 300.0, 200.0, 450.0, 150.0, 683.0, 6350.0, 200.0, 100.0, 850.0, 150.0, 6900.0, 150.0, 500.0, 1650.0, 350.0, 300.0, 2950.0, 450.0, 50.0, 2975.0, 1600.0, 500.0, 5150.0, 3400.0, 350.0, 175.0, 6500.0, 1700.0, 1000.0, 10850.0, 2250.0, 50.0, 920.0, 100.0, 400.0, 1300.0, 400.0, 250.0, 750.0, 2100.0, 200.0, 467.0, 2700.0, 167.0, 179.0, 200.0, 75.0, 7550.0, 1550.0, 1650.0, 365.0, 450.0, 200.0, 350.0, 1750.0, 400.0, 13475.0, 5900.0, 408.0, 15100.0, 900.0, 50.0, 1580.0, 15400.0, 475.0, 4850.0, 950.0, 117.0, 150.0, 900.0, 550.0, 1800.0, 30000.0, 800.0, 2600.0, 200.0, 250.0, 850.0, 8450.0, 700.0, 151.0, 1150.0, 150.0, 200.0, 200.0, 800.0, 100.0, 500.0, 550.0, 950.0, 556.0, 4900.0, 300.0, 267.0, 100.0, 400.0, 500.0, 600.0, 2225.0, 605.0, 30000.0, 1750.0, 325.0, 1538.0, 450.0, 3800.0, 700.0, 2000.0, 9450.0, 434.0, 900.0, 1100.0, 1150.0, 1300.0, 600.0, 250.0, 550.0, 1075.0, 700.0, 150.0, 169.0, 550.0, 7817.0, 50.0, 250.0, 1400.0, 200.0, 700.0, 300.0, 150.0, 800.0, 1800.0, 200.0, 2300.0, 400.0, 850.0, 900.0, 7800.0, 5550.0, 650.0, 8200.0, 100.0, 27500.0, 87.0, 6400.0, 200.0, 1600.0, 750.0, 1250.0, 1000.0, 600.0, 2150.0, 700.0, 2450.0, 2900.0, 6300.0, 1600.0, 532.0, 200.0, 1400.0, 100.0, 350.0, 400.0, 3000.0, 4000.0, 200.0, 600.0, 300.0, 300.0, 200.0, 250.0, 400.0, 100.0, 1825.0, 700.0, 1350.0, 7150.0, 450.0, 6650.0, 5300.0, 400.0, 2200.0, 2250.0, 250.0, 360.0, 10250.0, 1238.0, 6600.0, 200.0, 600.0, 1850.0, 200.0, 1500.0, 600.0, 850.0, 150.0, 350.0, 1750.0, 250.0, 1383.0, 700.0, 100.0, 1433.0, 300.0, 350.0, 4300.0, 150.0, 23950.0, 300.0, 1800.0, 350.0, 700.0, 10500.0, 1100.0, 7150.0, 925.0, 1050.0, 250.0, 800.0, 100.0, 450.0, 600.0, 10050.0, 2675.0, 3500.0, 17650.0, 100.0, 1850.0, 1450.0, 7400.0, 700.0, 2500.0, 2525.0, 8600.0, 100.0, 250.0, 5000.0, 27800.0, 2200.0, 310.0, 400.0, 817.0, 317.0, 507.0, 1000.0, 700.0, 200.0, 333.0, 2900.0, 1600.0, 6317.0, 567.0, 725.0, 13600.0, 20250.0, 1050.0, 600.0, 1026.0, 116.0, 17500.0, 1100.0, 2300.0, 300.0, 1150.0, 1600.0, 150.0, 400.0, 1250.0, 1200.0, 1400.0, 801.0, 1050.0, 8400.0, 200.0, 200.0, 1450.0, 850.0, 5050.0, 250.0, 1091.0, 5000.0, 550.0, 400.0, 500.0, 900.0, 250.0, 400.0, 300.0, 850.0, 100.0, 10800.0, 4300.0, 300.0, 300.0, 900.0, 1033.0, 900.0, 500.0, 190.0, 250.0, 100.0, 2350.0, 800.0, 100.0, 700.0, 2550.0, 1650.0, 2650.0, 4400.0, 700.0, 5700.0, 744.0, 100.0, 7480.0, 650.0, 250.0, 1475.0, 50.0, 200.0, 850.0, 1750.0, 800.0, 500.0, 100.0, 244.0, 15700.0, 7550.0, 9800.0, 4550.0, 214.0, 100.0, 150.0, 50.0, 7550.0, 200.0, 400.0, 7500.0, 1150.0, 350.0, 550.0, 2000.0, 500.0, 750.0, 1500.0, 3900.0, 4853.0, 1750.0, 830.0, 400.0, 550.0, 700.0, 750.0, 1100.0, 83.0, 100.0, 1150.0, 300.0, 850.0, 2050.0, 5000.0, 2500.0, 800.0, 850.0, 1150.0, 125.0, 700.0, 2500.0, 1100.0, 7700.0, 1750.0, 628.0, 300.0, 4000.0, 200.0, 150.0, 488.0, 1650.0, 13750.0, 100.0, 800.0, 2800.0, 400.0, 175.0, 200.0, 17100.0, 1200.0, 200.0, 3200.0, 400.0, 900.0, 3000.0, 150.0, 350.0, 725.0, 400.0, 1350.0, 200.0, 167.0, 400.0, 350.0, 3350.0, 700.0, 14450.0, 300.0, 50.0, 2800.0, 200.0, 1100.0, 1850.0, 375.0, 300.0, 800.0, 1000.0, 2450.0, 1200.0, 3000.0, 5550.0, 250.0, 150.0, 550.0, 155.0, 650.0, 400.0, 650.0, 400.0, 950.0, 50.0, 600.0, 468.0, 15600.0, 900.0, 1000.0, 726.0, 350.0, 5350.0, 200.0, 250.0, 750.0, 300.0, 250.0, 500.0, 300.0, 300.0, 2000.0, 400.0, 100.0, 2900.0, 200.0, 1350.0, 300.0, 50.0, 1400.0, 2900.0, 20000.0, 500.0, 450.0, 638.0, 100.0, 297.0, 3050.0, 1000.0, 200.0, 1100.0, 850.0, 400.0, 200.0, 800.0, 300.0, 630.0, 900.0, 600.0, 350.0, 400.0, 100.0, 1400.0, 900.0, 7050.0, 9700.0, 200.0, 2200.0, 1100.0, 1350.0, 1834.0, 1150.0, 650.0, 625.0, 473.0, 495.0, 1434.0, 9050.0, 4650.0, 1275.0, 2850.0, 21750.0, 2533.0, 550.0, 200.0, 3170.0, 250.0, 2600.0, 450.0, 5100.0, 850.0, 1700.0, 100.0, 200.0, 1200.0, 14900.0, 19000.0, 250.0, 3367.0, 600.0, 550.0, 325.0, 200.0, 150.0, 900.0, 167.0, 1000.0, 150.0, 150.0, 1600.0, 200.0, 800.0, 700.0, 464.0, 17175.0, 1363.0, 825.0, 9350.0, 100.0, 1400.0, 400.0, 250.0, 400.0, 1000.0, 300.0, 3100.0, 3300.0, 300.0, 2400.0, 1450.0, 600.0, 1150.0, 200.0, 200.0, 6850.0, 2250.0, 650.0, 2250.0, 17300.0, 1800.0, 275.0, 50.0, 400.0, 2400.0, 2100.0, 4000.0, 3900.0, 200.0, 2750.0, 200.0, 350.0, 2450.0, 100.0, 100.0, 370.0, 900.0, 5250.0, 1050.0, 1086.0, 1350.0, 300.0, 1200.0, 400.0, 340.0, 20850.0, 700.0, 1900.0, 650.0, 3000.0, 2400.0, 9650.0, 1500.0, 400.0, 4350.0, 3225.0, 200.0, 350.0, 8850.0, 800.0, 1300.0, 695.0, 2500.0, 3500.0, 300.0, 1550.0, 200.0, 400.0, 1050.0, 6600.0, 300.0, 7200.0, 3000.0, 1250.0, 400.0, 400.0, 1350.0, 2200.0, 1200.0, 800.0, 1168.0, 4200.0, 600.0, 235.0, 350.0, 425.0, 5850.0, 550.0, 1400.0, 517.0, 120.0, 300.0, 900.0, 150.0, 300.0, 350.0, 18950.0, 7350.0, 250.0, 1200.0, 200.0, 200.0, 250.0, 950.0, 150.0, 800.0, 2300.0, 400.0, 400.0, 5850.0, 1775.0, 12100.0, 13200.0, 200.0, 950.0, 500.0, 2600.0, 2550.0, 13700.0, 525.0, 1150.0, 600.0, 600.0, 4600.0, 1037.0, 250.0, 197.0, 517.0, 3600.0, 1800.0, 650.0, 2300.0, 177.0, 1800.0, 1200.0, 1200.0, 100.0, 3450.0, 5900.0, 1250.0, 300.0, 650.0, 500.0, 2700.0, 30000.0, 329.0, 900.0, 400.0, 173.0, 600.0, 5850.0, 1200.0, 6300.0, 300.0, 308.0, 12400.0, 5800.0, 2450.0, 1500.0, 700.0, 1300.0, 529.0, 8900.0, 200.0, 650.0, 1150.0, 600.0, 3973.0, 400.0, 5347.0, 1650.0, 1648.0, 450.0, 1800.0, 300.0, 650.0, 7850.0, 500.0, 487.0, 1167.0, 2100.0, 1400.0, 3890.0, 600.0, 300.0, 400.0, 900.0, 492.0, 500.0, 1500.0, 1100.0, 4750.0, 395.0, 350.0, 567.0, 12600.0, 300.0, 250.0, 900.0, 3850.0, 2600.0, 450.0, 200.0, 450.0, 800.0, 1300.0, 1500.0, 5000.0, 1400.0, 100.0, 300.0, 50.0, 12700.0, 24550.0, 3100.0, 200.0, 2400.0, 1500.0, 750.0, 150.0, 750.0, 9350.0, 8300.0, 30000.0, 313.0, 200.0, 1000.0, 4250.0, 1100.0, 450.0, 100.0, 30000.0, 450.0, 1700.0, 833.0, 4900.0, 10250.0, 200.0, 1850.0, 400.0, 200.0, 5150.0, 1168.0, 800.0, 150.0, 100.0, 6250.0, 1350.0, 1250.0, 1350.0, 500.0, 850.0, 400.0, 100.0, 500.0, 2700.0, 600.0, 1200.0, 443.0, 1900.0, 417.0, 4300.0, 10050.0, 200.0, 3050.0, 836.0, 400.0, 200.0, 350.0, 850.0, 250.0, 2460.0, 650.0, 350.0, 20300.0, 1500.0, 100.0, 750.0, 650.0, 1450.0, 2423.0, 3200.0, 1150.0, 850.0, 316.0, 300.0, 425.0, 200.0, 700.0, 400.0, 700.0, 1100.0, 133.0, 2000.0, 100.0, 850.0, 390.0, 18150.0, 600.0, 550.0, 2970.0, 600.0, 1600.0, 1300.0, 350.0, 6083.0, 275.0, 7075.0, 400.0, 550.0, 150.0, 600.0, 200.0, 200.0, 3950.0, 1200.0, 200.0, 1000.0, 800.0, 150.0, 150.0, 3100.0, 3750.0, 100.0, 2134.0, 600.0, 1400.0, 150.0, 513.0, 5000.0, 250.0, 600.0, 830.0, 450.0, 150.0, 1250.0, 1050.0, 1600.0, 800.0, 500.0, 3000.0, 9000.0, 1700.0, 1450.0, 1200.0, 1200.0, 400.0, 700.0, 750.0, 680.0, 2075.0, 750.0, 300.0, 450.0, 20600.0, 27800.0, 500.0, 400.0, 300.0, 3500.0, 600.0, 4350.0, 2300.0, 100.0, 900.0, 450.0, 850.0, 850.0, 3900.0, 555.0, 650.0, 28750.0, 200.0, 625.0, 550.0, 342.0, 200.0, 1550.0, 250.0, 233.0, 100.0, 1200.0, 755.0, 650.0, 532.0, 1575.0, 1550.0, 200.0, 1600.0, 200.0, 1600.0, 750.0, 1000.0, 200.0, 543.0, 450.0, 1800.0, 150.0, 184.0, 800.0, 1350.0, 22100.0, 13388.0, 1500.0, 1000.0, 550.0, 1700.0, 1500.0, 7550.0, 500.0, 350.0, 1250.0, 1000.0, 1500.0, 12950.0, 500.0, 11850.0, 250.0, 100.0, 10750.0, 250.0, 450.0, 650.0, 8250.0, 2350.0, 275.0, 200.0, 600.0, 1000.0, 200.0, 1600.0, 27050.0, 500.0, 350.0, 1000.0, 371.0, 800.0, 2200.0, 150.0, 400.0, 950.0, 300.0, 475.0, 1550.0, 1000.0, 1100.0, 200.0, 592.0, 1850.0, 1750.0, 100.0, 350.0, 4900.0, 475.0, 343.0, 100.0, 25650.0, 1900.0, 350.0, 3000.0, 1400.0, 100.0, 4450.0, 300.0, 2100.0, 600.0, 800.0, 350.0, 275.0, 250.0, 119.0, 1200.0, 650.0, 3500.0, 300.0, 1000.0, 2300.0, 16200.0, 300.0, 538.0, 200.0, 1467.0, 550.0, 500.0, 580.0, 1400.0, 975.0, 1450.0, 800.0, 200.0, 150.0, 3000.0, 417.0, 250.0, 1200.0, 900.0, 250.0, 150.0, 3000.0, 300.0, 1100.0, 1300.0, 2300.0, 350.0, 100.0, 9800.0, 550.0, 850.0, 5300.0, 1900.0, 2200.0, 350.0, 12000.0, 10450.0, 800.0, 200.0, 1400.0, 5700.0, 300.0, 2350.0, 700.0, 1000.0, 2750.0, 600.0, 350.0, 2850.0, 550.0, 10900.0, 650.0, 800.0, 1125.0, 400.0, 250.0, 350.0, 1200.0, 2800.0, 3300.0, 150.0, 2787.0, 1100.0, 14400.0, 10700.0, 1200.0, 1900.0, 400.0, 455.0, 100.0, 8100.0, 200.0, 4300.0, 150.0, 2050.0, 900.0, 458.0, 1495.0, 850.0, 600.0, 700.0, 300.0, 6300.0, 500.0, 1200.0, 200.0, 600.0, 400.0, 100.0, 850.0, 350.0, 1900.0, 317.0, 500.0, 300.0, 500.0, 1500.0, 700.0, 3050.0, 3250.0, 550.0, 4600.0, 1800.0, 10750.0, 8150.0, 700.0, 300.0, 6250.0, 300.0, 150.0, 733.0, 550.0, 350.0, 300.0, 700.0, 1300.0, 425.0, 26300.0, 1150.0, 600.0, 50.0, 800.0, 200.0, 200.0, 5400.0, 400.0, 15700.0, 150.0, 500.0, 30000.0, 650.0, 11500.0, 700.0, 333.0, 5875.0, 7800.0, 150.0, 300.0, 300.0, 5250.0, 250.0, 150.0, 100.0, 900.0, 1754.0, 900.0, 1200.0, 3100.0, 3075.0, 1050.0, 700.0, 16800.0, 10200.0, 2700.0, 700.0, 1500.0, 100.0, 11100.0, 200.0, 10700.0, 17400.0, 550.0, 900.0, 50.0, 7350.0, 9700.0, 550.0, 550.0, 300.0, 650.0, 1400.0, 1400.0, 150.0, 900.0, 1100.0, 1850.0, 150.0, 283.0, 20800.0, 6050.0, 100.0, 500.0, 800.0, 5150.0, 550.0, 345.0, 5850.0, 600.0, 2000.0, 300.0, 1250.0, 400.0, 200.0, 400.0, 175.0, 600.0, 1350.0, 740.0, 700.0, 950.0, 2300.0, 1250.0, 1600.0, 1138.0, 2500.0, 383.0, 1250.0, 2600.0, 200.0, 4200.0, 500.0, 1200.0, 7150.0, 50.0, 2100.0, 1000.0, 7950.0, 250.0, 850.0, 250.0, 450.0, 250.0, 2900.0, 417.0, 750.0, 2200.0, 900.0, 1300.0, 1300.0, 4900.0, 1190.0, 200.0, 1200.0, 2050.0, 350.0, 400.0, 100.0, 3100.0, 850.0, 200.0, 500.0, 950.0, 700.0, 1150.0, 150.0, 11175.0, 600.0, 9050.0, 50.0, 700.0, 250.0, 3000.0, 2100.0, 200.0, 10700.0, 683.0, 133.0, 817.0, 12900.0, 1000.0, 300.0, 1500.0, 1000.0, 320.0, 1500.0, 583.0, 700.0, 5962.0, 100.0, 2350.0, 350.0, 1600.0, 100.0, 750.0, 700.0, 90.0, 382.0, 1300.0, 30000.0, 650.0, 100.0, 350.0, 100.0, 6200.0, 100.0, 1300.0, 8550.0, 13800.0, 800.0, 440.0, 14900.0, 700.0, 6800.0, 100.0, 400.0, 450.0, 4950.0, 5950.0, 2150.0, 3225.0, 650.0, 1000.0, 900.0, 7050.0, 3100.0, 4100.0, 1000.0, 400.0, 750.0, 500.0, 1250.0, 200.0, 2200.0, 500.0, 250.0, 300.0, 3000.0, 2200.0, 333.0, 450.0, 100.0, 800.0, 150.0, 1150.0, 350.0, 1250.0, 250.0, 250.0, 400.0, 700.0, 550.0, 550.0, 400.0, 150.0, 250.0, 23100.0, 658.0, 7900.0, 750.0, 3700.0, 200.0, 100.0, 200.0, 200.0, 1700.0, 13500.0, 450.0, 700.0, 150.0, 1050.0, 1567.0, 8170.0, 7350.0, 1200.0, 350.0, 1400.0, 832.0, 30000.0, 150.0, 5100.0, 400.0, 900.0, 900.0, 400.0, 4350.0, 551.0, 840.0, 7525.0, 550.0, 200.0, 2050.0, 150.0, 500.0, 2050.0, 5850.0, 9400.0, 1200.0, 750.0, 3000.0, 4200.0, 24450.0, 9850.0, 340.0, 350.0, 100.0, 5700.0, 350.0, 250.0, 450.0, 600.0, 100.0, 200.0, 1800.0, 16500.0, 500.0, 3500.0, 800.0, 1400.0, 7625.0, 300.0, 650.0, 900.0, 75.0, 1350.0, 1360.0, 375.0, 790.0, 214.0, 1150.0, 6550.0, 5000.0, 18800.0, 2100.0, 5700.0, 600.0, 5350.0, 5100.0, 150.0, 700.0, 300.0, 450.0, 390.0, 1250.0, 300.0, 633.0, 11100.0, 7034.0, 1500.0, 850.0, 3400.0, 26700.0, 250.0, 1967.0, 1500.0, 300.0, 500.0, 1150.0, 700.0, 250.0, 900.0, 100.0, 1010.0, 750.0, 1950.0, 5400.0, 800.0, 2000.0, 2300.0, 450.0, 350.0, 1600.0, 50.0, 2500.0, 100.0, 3900.0, 250.0, 7200.0, 500.0, 4550.0, 3000.0, 600.0, 50.0, 6800.0, 3657.0, 650.0, 420.0, 3100.0, 185.0, 850.0, 4050.0, 200.0, 7125.0, 7474.0, 731.0, 1800.0, 700.0, 1450.0, 150.0, 550.0, 450.0, 1850.0, 137.0, 925.0, 1350.0, 7900.0, 600.0, 235.0, 900.0, 5700.0, 850.0, 500.0, 550.0, 300.0, 3000.0, 317.0, 808.0, 2800.0, 27800.0, 717.0, 2750.0, 300.0, 200.0, 3000.0, 165.0, 3600.0, 750.0, 300.0, 350.0, 500.0, 2100.0, 2400.0, 2200.0, 3100.0, 107.0, 300.0, 1650.0, 350.0, 185.0, 350.0, 161.0, 1575.0, 1650.0, 350.0, 250.0, 700.0, 23500.0, 1900.0, 100.0, 12600.0, 1600.0, 2625.0, 400.0, 2050.0, 6100.0, 700.0, 650.0, 21500.0, 2100.0, 500.0, 700.0, 200.0, 50.0, 10300.0, 12250.0, 1250.0, 1000.0, 1800.0, 1050.0, 600.0, 400.0, 200.0, 2000.0, 250.0, 550.0, 500.0, 1900.0, 1900.0, 1550.0, 3050.0, 850.0, 3950.0, 900.0, 10950.0, 8925.0, 500.0, 775.0, 700.0, 150.0, 600.0, 3550.0, 1125.0, 22600.0, 150.0, 230.0, 190.0, 100.0, 1950.0, 1050.0, 500.0, 750.0, 5900.0, 300.0, 200.0, 400.0, 100.0, 150.0, 550.0, 1350.0, 2900.0, 518.0, 10700.0, 1100.0, 1100.0, 18100.0, 1105.0, 500.0, 13400.0, 600.0, 225.0, 467.0, 4400.0, 300.0, 350.0, 1800.0, 19783.0, 900.0, 7833.0, 550.0, 950.0, 21400.0, 12900.0, 200.0, 400.0, 400.0, 300.0, 1000.0, 1450.0, 1700.0, 400.0, 386.0, 700.0, 2726.0, 100.0, 850.0, 450.0, 20500.0, 200.0, 500.0, 14050.0, 200.0, 150.0, 200.0, 200.0, 150.0, 1900.0, 2100.0, 150.0, 200.0, 3000.0, 10200.0, 3600.0, 450.0, 100.0, 5000.0, 600.0, 4500.0, 175.0, 9500.0, 16550.0, 1013.0, 1000.0, 700.0, 4700.0, 950.0, 1400.0, 3450.0, 267.0, 635.0, 10500.0, 500.0, 800.0, 700.0, 1350.0, 2750.0, 400.0, 250.0, 400.0, 250.0, 1050.0, 467.0, 500.0, 800.0, 1000.0, 9100.0, 1400.0, 254.0, 150.0, 900.0, 25750.0, 17800.0, 293.0, 300.0, 350.0, 400.0, 6975.0, 1450.0, 1550.0, 400.0, 150.0, 1050.0, 3695.0, 951.0, 3585.0, 500.0, 300.0, 21500.0, 100.0, 100.0, 900.0, 1550.0, 100.0, 1600.0, 925.0, 18950.0, 3800.0, 14050.0, 2000.0, 500.0, 500.0, 1500.0, 970.0, 1200.0, 500.0, 325.0, 150.0, 8700.0, 475.0, 150.0, 4400.0, 400.0, 1300.0, 500.0, 1550.0, 250.0, 600.0, 2300.0, 100.0, 250.0, 400.0, 600.0, 250.0, 1200.0, 113.0, 700.0, 300.0, 450.0, 2000.0, 150.0, 1750.0, 260.0, 80.0, 1400.0, 1050.0, 5200.0, 350.0, 500.0, 7750.0, 1150.0, 4480.0, 1100.0, 150.0, 317.0, 400.0, 1800.0, 4600.0, 600.0, 150.0, 400.0, 300.0, 800.0, 100.0, 200.0, 1650.0, 475.0, 450.0, 1750.0, 100.0, 3500.0, 4550.0, 1100.0, 300.0, 850.0, 4200.0, 3000.0, 500.0, 2050.0, 12850.0, 2600.0, 700.0, 218.0, 1425.0, 650.0, 750.0, 250.0, 200.0, 2400.0, 700.0, 152.0, 1044.0, 950.0, 343.0, 1050.0, 100.0, 900.0, 3000.0, 6600.0, 200.0, 400.0, 550.0, 417.0, 8450.0, 250.0, 500.0, 100.0, 100.0, 1175.0, 350.0, 525.0, 3750.0, 150.0, 2150.0, 1000.0, 200.0, 200.0, 550.0, 536.0, 2400.0, 400.0, 2800.0, 600.0, 1000.0, 442.0, 125.0, 250.0, 450.0, 100.0, 20450.0, 4200.0, 475.0, 500.0, 22750.0, 600.0, 1175.0, 9400.0, 8100.0, 50.0, 450.0, 5350.0, 200.0, 250.0, 8750.0, 500.0, 8200.0, 1400.0, 675.0, 3825.0, 1250.0, 925.0, 1500.0, 950.0, 1500.0, 4300.0, 300.0, 200.0, 475.0, 8775.0, 9800.0, 13500.0, 2800.0, 300.0, 7275.0, 200.0, 100.0, 400.0, 300.0, 1100.0, 900.0, 1400.0, 100.0, 200.0, 100.0, 1815.0, 300.0, 1000.0, 150.0, 600.0, 1450.0, 1950.0, 2050.0, 486.0, 200.0, 250.0, 100.0, 26550.0, 2000.0, 5500.0, 300.0, 2000.0, 150.0, 1900.0, 9813.0, 1454.0, 5950.0, 800.0, 800.0, 500.0, 17250.0, 1200.0, 433.0, 950.0, 300.0, 400.0, 550.0, 700.0, 1567.0, 150.0, 400.0, 16100.0, 1300.0, 100.0, 5600.0, 417.0, 300.0, 750.0, 2400.0, 1600.0, 12050.0, 400.0, 750.0, 1000.0, 250.0, 525.0, 100.0, 350.0, 617.0, 1100.0, 3575.0, 1768.0, 188.0, 50.0, 4600.0, 50.0, 250.0, 1025.0, 7050.0, 12800.0, 18500.0, 300.0, 1300.0, 15900.0, 4325.0, 5450.0, 1450.0, 650.0, 12325.0, 1100.0, 950.0, 500.0, 900.0, 300.0, 2250.0, 100.0, 640.0, 6550.0, 4550.0, 550.0, 285.0, 50.0, 2900.0, 600.0, 300.0, 100.0, 600.0, 1050.0, 18600.0, 1300.0, 2550.0, 225.0, 200.0, 150.0, 1050.0, 3500.0, 2700.0, 255.0, 750.0, 1250.0, 1675.0, 15200.0, 1650.0, 450.0, 200.0, 150.0, 650.0, 355.0, 700.0, 500.0, 600.0, 773.0, 1800.0, 3700.0, 1300.0, 247.0, 517.0, 600.0, 1800.0, 12300.0, 520.0, 350.0, 575.0, 3100.0, 250.0, 900.0, 250.0, 200.0, 1300.0, 14100.0, 600.0, 850.0, 800.0, 200.0, 1300.0, 703.0, 500.0, 150.0, 500.0, 550.0, 1725.0, 850.0, 1950.0, 2100.0, 200.0, 550.0, 8550.0, 4900.0, 150.0, 9550.0, 2450.0, 367.0, 6900.0, 900.0, 820.0, 2450.0, 1600.0, 16515.0, 16900.0, 1900.0, 283.0, 1125.0, 150.0, 450.0, 200.0, 50.0, 850.0, 500.0, 266.0, 300.0, 550.0, 6950.0, 150.0, 700.0, 750.0, 200.0, 313.0, 160.0, 200.0, 1400.0, 1600.0, 5900.0, 12000.0, 250.0, 950.0, 4725.0, 18600.0, 980.0, 600.0, 250.0, 21600.0, 2200.0, 550.0, 7150.0, 375.0, 600.0, 800.0, 3550.0, 340.0, 200.0, 875.0, 1300.0, 12550.0, 300.0, 300.0, 100.0, 300.0, 200.0, 1350.0, 300.0, 100.0, 1550.0, 600.0, 3000.0, 1000.0, 450.0, 900.0, 650.0, 2093.0, 417.0, 600.0, 250.0, 1290.0, 8150.0, 10800.0, 200.0, 100.0, 150.0, 425.0, 550.0, 2300.0, 300.0, 650.0, 500.0, 7600.0, 400.0, 200.0, 200.0, 100.0, 4800.0, 100.0, 200.0, 50.0, 650.0, 575.0, 3900.0, 389.0, 575.0, 8200.0, 2560.0, 1867.0, 1150.0, 8400.0, 250.0, 300.0, 1050.0, 2150.0, 1800.0, 150.0, 19200.0, 7550.0, 500.0, 162.0, 9300.0, 300.0, 1450.0, 3800.0, 17150.0, 300.0, 750.0, 400.0, 14200.0, 150.0, 1050.0, 1950.0, 6950.0, 2300.0, 100.0, 10100.0, 30000.0, 3450.0, 1000.0, 425.0, 2000.0, 350.0, 250.0, 400.0, 167.0, 1250.0, 100.0, 350.0, 400.0, 900.0, 800.0, 600.0, 6833.0, 800.0, 350.0, 500.0, 425.0, 336.0, 200.0, 750.0, 700.0, 550.0, 2800.0, 2600.0, 200.0, 1000.0, 300.0, 550.0, 1285.0, 400.0, 200.0, 1050.0, 380.0, 750.0, 217.0, 700.0, 1350.0, 16500.0, 775.0, 19200.0, 10050.0, 450.0, 800.0, 1500.0, 1300.0, 2050.0, 1735.0, 150.0, 300.0, 85.0, 533.0, 6250.0, 600.0, 2000.0, 350.0, 200.0, null, 9950.0, 1400.0, 1150.0, 200.0, 400.0, 2000.0, 1080.0, 100.0, 260.0, 200.0, 250.0, 600.0, 9800.0, 300.0, 490.0, 100.0, 250.0, 2225.0, 400.0, 140.0, 1200.0, 250.0, 150.0, 600.0, 400.0, 753.0, 3050.0, 13450.0, 150.0, 200.0, 1000.0, 26000.0, 400.0, 650.0, 700.0, 1000.0, 21400.0, 200.0, 16800.0, 400.0, 90.0, 2394.0, 825.0, 942.0, 300.0, 350.0, 172.0, 250.0, 200.0, 600.0, 500.0, 1300.0, 200.0, 1650.0, 12800.0, 400.0, 200.0, 10225.0, 100.0, 4750.0, 2800.0, 6050.0, 750.0, 300.0, 1250.0, 1000.0, 1250.0, 8750.0, 5150.0, 600.0, 50.0, 1100.0, 700.0, 700.0, 3200.0, 600.0, 800.0, 6850.0, 200.0, 450.0, 550.0, 150.0, 200.0, 800.0, 325.0, 10200.0, 150.0, 100.0, 9617.0, 300.0, 400.0, 900.0, 100.0, 1350.0, 100.0, 11550.0, 1650.0, 375.0, 3000.0, 500.0, 1087.0, 150.0, 300.0, 900.0, 1100.0, 500.0, 800.0, 1300.0, 400.0, 950.0, 400.0, 50.0, 2900.0, 2700.0, 1150.0, 100.0, 1050.0, 300.0, 6950.0, 1100.0, 1675.0, 1042.0, 300.0, 800.0, 150.0, 550.0, 9650.0, 375.0, 500.0, 200.0, 1200.0, 300.0, 650.0, 2200.0, 408.0, 1500.0, 6000.0, 1400.0, 800.0, 2100.0, 662.0, 267.0, 1450.0, 4350.0, 473.0, 150.0, 550.0, 200.0, 167.0, 1350.0, 2000.0, 200.0, 5550.0, 100.0, 300.0, 1100.0, 29600.0, 345.0, 300.0, 3400.0, 550.0, 504.0, 567.0, 1900.0, 400.0, 200.0, 315.0, 17900.0, 4700.0, 400.0, 1100.0, 30000.0, 500.0, 550.0, 2400.0, 100.0, 700.0, 100.0, 7650.0, 4663.0, 200.0, 400.0, 6867.0, 325.0, 11800.0, 1100.0, 1400.0, 1150.0, 1025.0, 775.0, 14950.0, 1300.0, 14733.0, 22450.0, 2000.0, 394.0, 475.0, 5800.0, 8350.0, 250.0, 900.0, 300.0, 150.0, 1500.0, 8900.0, 500.0, 1000.0, 130.0, 200.0, 375.0, 983.0, 1377.0, 350.0, 1500.0, 100.0, 550.0, 600.0, 850.0, 2550.0, 280.0, 350.0, 350.0, 500.0, 700.0, 278.0, 700.0, 350.0, 2250.0, 2600.0, 300.0, 150.0, 500.0, 850.0, 400.0, 2100.0, 2150.0, 500.0, 3120.0, 1600.0, 750.0, 600.0, 1700.0, 650.0, 450.0, 200.0, 200.0, 2750.0, 700.0, 767.0, 300.0, 1400.0, 2100.0, 200.0, 675.0, 2900.0, 250.0, 4025.0, 1300.0, 4175.0, 400.0, 1150.0, 500.0, 575.0, 100.0, 150.0, 500.0, 3550.0, 3800.0, 500.0, 2600.0, 4100.0, 6350.0, 100.0, 600.0, 800.0, 500.0, 20900.0, 7133.0, 6850.0, 200.0, 550.0, 600.0, 650.0, 150.0, 8500.0, 11750.0, 200.0, 100.0, 7700.0, 450.0, 600.0, 1050.0, 2100.0, 400.0, 150.0, 6250.0, 625.0, 13200.0, 400.0, 250.0, 300.0, 450.0, 2150.0, 875.0, 8161.0, 150.0, 9350.0, 400.0, 425.0, 700.0, 550.0, 200.0, 11250.0, 300.0, 115.0, 350.0, 200.0, 450.0, 300.0, 1758.0, 600.0, 900.0, 1067.0, 300.0, 700.0, 345.0, 2500.0, 250.0, 1200.0, 600.0, 250.0, 1400.0, 800.0, 500.0, 268.0, 190.0, 1100.0, 1400.0, 2717.0, 250.0, 400.0, 2800.0, 2192.0, 5438.0, 7700.0, 200.0, 900.0, 6750.0, 300.0, 23650.0, 650.0, 1500.0, 800.0, 4050.0, 7350.0, 1007.0, 200.0, 8050.0, 919.0, 1500.0, 1238.0, 200.0, 900.0, 1850.0, 100.0, 300.0, 550.0, 550.0, 150.0, 1000.0, 17200.0, 950.0, 3250.0, 100.0, 300.0, 900.0, 950.0, 11500.0, 3500.0, 350.0, 500.0, 30000.0, 350.0, 650.0, 2800.0, 6650.0, 150.0, 150.0, 300.0, 200.0, 1083.0, 3850.0, 5300.0, 550.0, 200.0, 250.0, 424.0, 300.0, 1700.0, 700.0, 100.0, 150.0, 500.0, 550.0, 2267.0, 250.0, 617.0, 200.0, 500.0, 900.0, 367.0, 1350.0, 250.0, 20600.0, 900.0, 1300.0, 500.0, 22800.0, 250.0, 29600.0, 1500.0, 1400.0, 894.0, 1350.0, 450.0, 1270.0, 786.0, 405.0, 200.0, 350.0, 250.0, 300.0, 950.0, 1800.0, 200.0, 150.0, 2200.0, 100.0, 250.0, 1100.0, 1000.0, 1500.0, 358.0, 3300.0, 500.0, 2837.0, 300.0, 825.0, 100.0, 250.0, 250.0, 575.0, 3750.0, 200.0, 400.0, 200.0, 850.0, 3200.0, 2750.0, 200.0, 1050.0, 700.0, 450.0, 1050.0, 1300.0, 3763.0, 400.0, 1500.0, 500.0, 1501.0, 4475.0, 300.0, 350.0, 385.0, 25000.0, 250.0, 2450.0, 550.0, 2200.0, 345.0, 100.0, 5350.0, 1800.0, 500.0, 550.0, 375.0, 1850.0, 1100.0, 450.0, 800.0, 3400.0, 250.0, 450.0, 2100.0, 500.0, 850.0, 275.0, 350.0, 2750.0, 1200.0, 7600.0, 50.0, 1650.0, 9200.0, 1600.0, 1900.0, 4800.0, 1400.0, 250.0, 8250.0, 1400.0, 800.0, 438.0, 400.0, 180.0, 983.0, 2400.0, 500.0, 453.0, 20600.0, 240.0, 400.0, 100.0, 1025.0, 1550.0, 350.0, 19600.0, 27100.0, 800.0, 2000.0, 1000.0, 2550.0, 1525.0, 150.0, 517.0, 1825.0, 1000.0, 400.0, 250.0, 20300.0, 600.0, 100.0, 525.0, 5323.0, 450.0, 1200.0, 3050.0, 1800.0, 100.0, 900.0, 1100.0, 550.0, 200.0, 583.0, 1050.0, 1000.0, 1225.0, 850.0, 21800.0, 400.0, 500.0, 700.0, 100.0, 800.0, 200.0, 1000.0, 3950.0, 1950.0, 300.0, 6000.0, 400.0, 150.0, 350.0, 800.0, 350.0, 500.0, 900.0, 508.0, 55.0, 1550.0, 150.0, 450.0, 1300.0, 100.0, 1650.0, 1400.0, 550.0, 4650.0, 200.0, 237.0, 200.0, 100.0, 2300.0, 700.0, 6133.0, 3300.0, 444.0, 300.0, 6150.0, 700.0, 50.0, 1400.0, 1000.0, 4000.0, 800.0, 1100.0, 8800.0, 550.0, 4000.0, 20950.0, 1100.0, 5400.0, 2650.0, 13450.0, 3850.0, 3000.0, 12550.0, 400.0, 500.0, 1000.0, 200.0, 9900.0, 100.0, 1400.0, 200.0, 400.0, 10400.0, 700.0, 400.0, 600.0, 5650.0, 2667.0, 300.0, 250.0, 550.0, 1350.0, 250.0, 23300.0, 3800.0, 5650.0, 1300.0, 3100.0, 200.0, 550.0, 1200.0, 1150.0, 400.0, 3500.0, 7650.0, 1488.0, 800.0, 1900.0, 350.0, 700.0, 200.0, 400.0, 250.0, 150.0, 6300.0, 85.0, 300.0, 200.0, 7550.0, 250.0, 250.0, 150.0, 100.0, 800.0, 1000.0, 6000.0, 1583.0, 200.0, 350.0, 99.0, 300.0, 1400.0, 1450.0, 125.0, 350.0, 4100.0, 300.0, 150.0, 200.0, 700.0, 175.0, 250.0, 2000.0, 1525.0, 100.0, 130.0, 9950.0, 467.0, 270.0, 1750.0, 650.0, 1267.0, 100.0, 100.0, 1300.0, 1400.0, 1200.0, 300.0, 167.0, 50.0, 2400.0, 1200.0, 1400.0, 1100.0, 1200.0, 1200.0, 300.0, 600.0, 225.0, 300.0, 350.0, 2050.0, 2003.0, 1150.0, 3800.0, 1550.0, 1350.0, 2400.0, 4800.0, 555.0, 2676.0, 600.0, 1850.0, 1500.0, 2000.0, 426.0, 1050.0, 7050.0, 1067.0, 350.0, 3050.0, 1150.0, 900.0, 400.0, 178.0, 200.0, 400.0, 150.0, 100.0, 16950.0, 14050.0, 600.0, 550.0, 3000.0, 1600.0, 1750.0, 725.0, 1450.0, 500.0, 825.0, 1400.0, 1000.0, 600.0, 100.0, 610.0, 90.0, 200.0, 1850.0, 5950.0, 800.0, 1100.0, 322.0, 600.0, 30000.0, 8750.0, 2900.0, 600.0, 50.0, 120.0, 105.0, 350.0, 100.0, 300.0, 50.0, 1200.0, 12500.0, 2300.0, 5200.0, 1000.0, 150.0, 700.0, 1128.0, 300.0, 1700.0, 6700.0, 600.0, 100.0, 1850.0, 1283.0, 2700.0, 200.0, 10800.0, 1300.0, 2050.0, 600.0, 6400.0, 200.0, 1700.0, 350.0, 9950.0, 300.0, 6500.0, 4300.0, 700.0, 250.0, 800.0, 1450.0, 12250.0, 950.0, 600.0, 350.0, 150.0, 500.0, 950.0, 500.0, 6500.0, 200.0, 10745.0, 500.0, 175.0, 300.0, 333.0, 500.0, 800.0, 1500.0, 200.0, 12700.0, 200.0, 1000.0, 1050.0, 700.0, 866.0, 150.0, 4200.0, 200.0, 600.0, 6025.0, 1500.0, 1100.0, 1275.0, 9200.0, 300.0, 1400.0, 100.0, 1050.0, 4975.0, 400.0, 900.0, 840.0, 150.0, 100.0, 550.0, 2530.0, 650.0, 7700.0, 13000.0, 1100.0, 1075.0, 300.0, 2000.0, 1000.0, 900.0, 1950.0, 450.0, 25000.0, 345.0, 5050.0, 350.0, 1350.0, 7100.0, 500.0, 600.0, 9600.0, 10850.0, 1350.0, 500.0, 100.0, 400.0, 840.0, 1100.0, 3800.0, 5900.0, 500.0, 6820.0, 25000.0, 2750.0, 1500.0, 250.0, 1200.0, 700.0, 250.0, 150.0, 3200.0, 1400.0, 650.0, 500.0, 213.0, 30000.0, 250.0, 100.0, 900.0, 5600.0, 750.0, 250.0, 400.0, 1200.0, 1940.0, 375.0, 125.0, 750.0, 16050.0, 600.0, 400.0, 150.0, 400.0, 500.0, 200.0, 200.0, 3900.0, 5250.0, 838.0, 500.0, 4150.0, 450.0, 1000.0, 4075.0, 5700.0, 28450.0, 400.0, 400.0, 500.0, 350.0, 1000.0, 2150.0, 1300.0, 775.0, 150.0, 1250.0, 650.0, 400.0, 567.0, 400.0, 950.0, 575.0, 900.0, 250.0, 3890.0, 350.0, 100.0, 375.0, 1925.0, 250.0, 250.0, 1850.0, 100.0, 50.0, 8650.0, 100.0, 400.0, 3598.0, 200.0, 600.0, 1175.0, 700.0, 4000.0, 1200.0, 100.0, 10850.0, 500.0, 6800.0, 400.0, 250.0, 350.0, 255.0, 350.0, 3000.0, 100.0, 11600.0, 30000.0, 800.0, 200.0, 450.0, 5900.0, 67.0, 200.0, 600.0, 3750.0, 2500.0, 100.0, 150.0, 600.0, 100.0, 15300.0, 300.0, 800.0, 1350.0, 425.0, 1900.0, 1100.0, 10600.0, 2300.0, 15000.0, 575.0, 625.0, 200.0, 6400.0, 3050.0, 1150.0, 7100.0, 150.0, 21100.0, 1100.0, 300.0, 700.0, 350.0, 150.0, 1650.0, 300.0, 1500.0, 30000.0, 1600.0, 22800.0, 200.0, 300.0, 2250.0, 150.0, 800.0, 700.0, 450.0, 850.0, 5350.0, 150.0, 50.0, 450.0, 550.0, 700.0, 300.0, 1950.0, 12733.0, 2186.0, 150.0, 1950.0, 353.0, 635.0, 3000.0, 450.0, 325.0, 450.0, 1582.0, 2450.0, 200.0, 1250.0, 450.0, 800.0, 20900.0, 500.0, 650.0, 5300.0, 900.0, 350.0, 16300.0, 500.0, 450.0, 1400.0, 4867.0, 250.0, 4050.0, 300.0, 1400.0, 3000.0, 11800.0, 150.0, 6050.0, 3100.0, 9750.0, 1200.0, 2400.0, 250.0, 592.0, 400.0, 225.0, 11000.0, 750.0, 6850.0, 250.0, 200.0, 11200.0, 200.0, 500.0, 300.0, 158.0, 3117.0, 14327.0, 4550.0, 2300.0, 400.0, 350.0, 950.0, 1550.0, 22350.0, 600.0, 6250.0, 1450.0, 300.0, 7950.0, 1750.0, 14100.0, 7600.0, 288.0, 800.0, 22000.0, 133.0, 1250.0, 3313.0, 10965.0, 1600.0, 500.0, 1050.0, 1800.0, 4000.0, 1250.0, 1750.0, 550.0, 100.0, 1900.0, 1050.0, 550.0, 6125.0, 1300.0, 500.0, 2225.0, 4100.0, 187.0, 290.0, 300.0, 200.0, 7150.0, 800.0, 300.0, 2550.0, 5600.0, 20900.0, 300.0, 300.0, 50.0, 3500.0, 150.0, 200.0, 3000.0, 300.0, 1400.0, 6000.0, 3000.0, 3600.0, 125.0, 300.0, 1450.0, 200.0, 550.0, 3500.0, 1200.0, 400.0, 150.0, 300.0, 1400.0, 300.0, 5050.0, 300.0, 200.0, 1500.0, 540.0, 500.0, 2800.0, 10800.0, 1300.0, 1725.0, 900.0, 350.0, 25000.0, 1275.0, 340.0, 250.0, 5450.0, 600.0, 1500.0, 550.0, 1500.0, 450.0, 100.0, 2700.0, 110.0, 6050.0, 1000.0, 1200.0, 1215.0, 9400.0, 700.0, 200.0, 383.0, 600.0, 700.0, 200.0, 190.0, 1700.0, 500.0, 5350.0, 4300.0, 1000.0, 500.0, 900.0, 500.0, 138.0, 1000.0, 350.0, 800.0, 22050.0, 6170.0, 450.0, 1100.0, 100.0, 300.0, 2079.0, 800.0, 150.0, 325.0, 1250.0, 3117.0, 150.0, 200.0, 10200.0, 475.0, 6400.0, 400.0, 550.0, 1550.0, 300.0, 300.0, 350.0, 353.0, 100.0, 8800.0, 150.0, 550.0, 400.0, 12300.0, 1600.0, 19800.0, 725.0, 695.0, 200.0, 750.0, 650.0, 400.0, 500.0, 7500.0, 1100.0, 2646.0, 2450.0, 2200.0, 300.0, 900.0, 300.0, 450.0, 900.0, 150.0, 1025.0, 4600.0, 214.0, 300.0, 433.0, 5300.0, 3700.0, 200.0, 100.0, 3250.0, 650.0, 20100.0, 4150.0, 3450.0, 600.0, 400.0, 200.0, 750.0, 300.0, 750.0, 425.0, 350.0, 400.0, 2900.0, 775.0, 1500.0, 2100.0, 400.0, 7350.0, 450.0, 100.0, 600.0, 200.0, 425.0, 200.0, 1000.0, 800.0, 1367.0, 200.0, 2850.0, 500.0, 300.0, 900.0, 150.0, 1000.0, 1185.0, 550.0, 8050.0, 3100.0, 3000.0, 550.0, 887.0, 250.0, 15400.0, 880.0, 750.0, 900.0, 250.0, 250.0, 1000.0, 2700.0, 25200.0, 200.0, 467.0, 3000.0, 1025.0, 300.0, 1700.0, 150.0, 13750.0, 290.0, 650.0, 50.0, 900.0, 250.0, 100.0, 100.0, 450.0, 5400.0, 200.0, 150.0, 150.0, 5200.0, 188.0, 150.0, 317.0, 300.0, 175.0, 400.0, 1200.0, 2363.0, 200.0, 2850.0, 450.0, 400.0, 1454.0, 150.0, 1600.0, 17600.0, 1950.0, 19150.0, 30000.0, 450.0, 2500.0, 24400.0, 250.0, 450.0, 8250.0, 400.0, 2500.0, 2000.0, 7750.0, 50.0, 1200.0, 497.0, 2900.0, 400.0, 500.0, 850.0, 250.0, 800.0, 100.0, 600.0, 493.0, 350.0, 1600.0, 500.0, 600.0, 450.0, 250.0, 200.0, 1800.0, 9700.0, 850.0, 7500.0, 450.0, 2800.0, 500.0, 200.0, 200.0, 150.0, 250.0, 700.0, 750.0, 227.0, 4917.0, 5775.0, 2000.0, 7600.0, 6250.0, 5400.0, 400.0, 566.0, 150.0, 650.0, 193.0, 600.0, 275.0, 250.0, 600.0, 900.0, 1000.0, 433.0, 2100.0, 1700.0, 233.0, 6750.0, 100.0, 1800.0, 6500.0, 600.0, 14150.0, 667.0, 4200.0, 14500.0, 300.0, 1840.0, 245.0, 550.0, 150.0, 5000.0, 350.0, 875.0, 1100.0, 1563.0, 600.0, 243.0, 9200.0, 9800.0, 200.0, 100.0, 700.0, 400.0, 30000.0, 100.0, 50.0, 258.0, 1286.0, 250.0, 700.0, 1100.0, 1600.0, 2525.0, 1850.0, 300.0, 900.0, 2000.0, 2300.0, 2100.0, 700.0, 6050.0, 17175.0, 736.0, 4800.0, 3288.0, 100.0, 6300.0, 4200.0, 1600.0, 229.0, 600.0, 500.0, 1800.0, 1900.0, 70.0, 650.0, 150.0, 700.0, 1200.0, 800.0, 650.0, 1400.0, 250.0, 650.0, 1550.0, 2250.0, 500.0, 325.0, 125.0, 1000.0, 750.0, 1800.0, 650.0, 1500.0, 200.0, 200.0, 100.0, 1800.0, 250.0, 400.0, 450.0, 289.0, 350.0, 100.0, 433.0, 450.0, 150.0, 350.0, 5350.0, 2150.0, 250.0, 16550.0, 450.0, 200.0, 133.0, 6050.0, 400.0, 150.0, 1700.0, 100.0, 200.0, 2900.0, 2300.0, 260.0, 250.0, 3400.0, 300.0, 450.0, 25150.0, 968.0, 8200.0, 150.0, 505.0, 160.0, 350.0, 2050.0, 950.0, 250.0, 117.0, 220.0, 130.0, 100.0, 300.0, 800.0, 1050.0, 88.0, 250.0, 2200.0, 400.0, 8086.0, 5100.0, 400.0, 1300.0, 400.0, 800.0, 1250.0, 200.0, 450.0, 300.0, 1850.0, 11850.0, 1400.0, 1600.0, 480.0, 1250.0, 150.0, 1150.0, 5350.0, 1200.0, 300.0, 475.0, 2200.0, 4300.0, 8950.0, 1050.0, 475.0, 1400.0, 700.0, 200.0, 2150.0, 9850.0, 6550.0, 800.0, 50.0, 400.0, 350.0, 2200.0, 550.0, 3500.0, 700.0, 429.0, 100.0, 3100.0, 125.0, 600.0, 4600.0, 6850.0, 100.0, 300.0, 800.0, 275.0, 950.0, 250.0, 185.0, 500.0, 433.0, 150.0, 2550.0, 2300.0, 500.0, 600.0, 15650.0, 200.0, 1700.0, 2400.0, 483.0, 150.0, 250.0, 1500.0, 207.0, 5300.0, 4550.0, 1900.0, 700.0, 9300.0, 250.0, 1050.0, 5833.0, 200.0, 140.0, 1200.0, 6250.0, 16150.0, 700.0, 500.0, 200.0, 700.0, 1200.0, 550.0, 1250.0, 125.0, 1000.0, 11450.0, 16700.0, 150.0, 1000.0, 550.0, 200.0, 3625.0, 200.0, 700.0, 500.0, 1000.0, 450.0, 200.0, 767.0, 600.0, 450.0, 10850.0, 350.0, 1047.0, 350.0, 500.0, 1400.0, 600.0, 3750.0, 600.0, 300.0, 6700.0, 1350.0, 275.0, 650.0, 276.0, 150.0, 1900.0, 1000.0, 8600.0, 6700.0, 14550.0, 400.0, 1050.0, 1100.0, 150.0, 450.0, 250.0, 27500.0, 500.0, 3350.0, 5050.0, 950.0, 1850.0, 7760.0, 10075.0, 1200.0, 600.0, 400.0, 400.0, 1350.0, 900.0, 500.0, 250.0, 450.0, 200.0, 30000.0, 1200.0, 421.0, 1300.0, 300.0, 6150.0, 1750.0, 200.0, 750.0, 2600.0, 450.0, 900.0, 700.0, 950.0, 1275.0, 300.0, 750.0, 14350.0, 1600.0, 700.0, 600.0, 11200.0, 400.0, 800.0, 700.0, 4950.0, 1250.0, 400.0, 800.0, 1200.0, 9050.0, 500.0, 175.0, 675.0, 100.0, 2000.0, 2400.0, 700.0, 400.0, 7850.0, 1300.0, 750.0, 400.0, 4800.0, 13350.0, 100.0, 1700.0, 150.0, 1000.0, 600.0, 1280.0, 300.0, 800.0, 400.0, 246.0, 400.0, 7900.0, 200.0, 200.0, 200.0, 700.0, 300.0, 1800.0, 14900.0, 1300.0, 800.0, 275.0, 8100.0, 1750.0, 115.0, 500.0, 725.0, 300.0, 175.0, 200.0, 2475.0, 300.0, 1800.0, 9950.0, 19250.0, 3650.0, 2500.0, 3750.0, 150.0, 250.0, 50.0, 415.0, 700.0, 1500.0, 3000.0, 30000.0, 1400.0, 350.0, 1300.0, 150.0, 667.0, 2400.0, 1150.0, 1000.0, 650.0, 250.0, 2050.0, 350.0, 2100.0, 2200.0, 375.0, 100.0, 6500.0, 900.0, 1900.0, 3214.0, 250.0, 300.0, 300.0, 2450.0, 725.0, 700.0, 2350.0, 300.0, 100.0, 350.0, 600.0, 1000.0, 6250.0, 6500.0, 425.0, 150.0, 2500.0, 863.0, 30000.0, 1000.0, 530.0, 3325.0, 200.0, 1850.0, 233.0, 1200.0, 9325.0, 600.0, 2300.0, 300.0, 21100.0, 475.0, 5300.0, 3400.0, 100.0, 100.0, 3700.0, 5550.0, 3900.0, 500.0, 250.0, 950.0, 1250.0, 650.0, 100.0, 300.0, 1250.0, 75.0, 6825.0, 950.0, 2300.0, 500.0, 100.0, 1200.0, 450.0, 500.0, 150.0, 600.0, 150.0, 250.0, 100.0, 1800.0, 550.0, 250.0, 7333.0, 200.0, 100.0, 1850.0, 4500.0, 450.0, 700.0, 1650.0, 600.0, 7300.0, 300.0, 300.0, 750.0, 1200.0, 20800.0, 800.0, 1100.0, 1750.0, 5700.0, 1150.0, 200.0, 1250.0, 300.0, 150.0, 5800.0, 400.0, 200.0, 16300.0, 200.0, 300.0, 200.0, 450.0, 100.0, 700.0, 50.0, 900.0, 19200.0, 12400.0, 20000.0, 1000.0, 500.0, 2900.0, 3500.0, 1950.0, 3407.0, 14250.0, 500.0, 13900.0, 1950.0, 3800.0, 413.0, 7000.0, 5750.0, 350.0, 300.0, 300.0, 300.0, 1050.0, 1600.0, 1800.0, 150.0, 900.0, 10925.0, 2100.0, 200.0, 350.0, 1200.0, 650.0, 300.0, 642.0, 9900.0, 5977.0, 3500.0, 1600.0, 150.0, 700.0, 350.0, 750.0, 1200.0, 1125.0, 750.0, 350.0, 300.0, 600.0, 600.0, 1400.0, 700.0, 1300.0, 400.0, 1725.0, 500.0, 550.0, 75.0, 8250.0, 475.0, 1600.0, 4900.0, 400.0, 2933.0, 300.0, 2238.0, 750.0, 150.0, 200.0, 10100.0, 400.0, 650.0, 1100.0, 11400.0, 200.0, 200.0, 1450.0, 100.0, 400.0, 200.0, 700.0, 400.0, 700.0, 100.0, 400.0, 1500.0, 5050.0, 800.0, 16750.0, 2000.0, 200.0, 250.0, 2800.0, 850.0, 2438.0, 2100.0, 600.0, 3150.0, 6100.0, 450.0, 1550.0, 150.0, 2100.0, 7900.0, 700.0, 200.0, 100.0, 300.0, 500.0, 310.0, 117.0, 12100.0, 300.0, 1400.0, 800.0, 800.0, 900.0, 1200.0, 18525.0, 600.0, 50.0, 6270.0, 19100.0, 800.0, 994.0, 65.0, 350.0, 4950.0, 3550.0, 1350.0, 1500.0, 550.0, 750.0, 1300.0, 200.0, 1450.0, 225.0, 1600.0, 5700.0, 700.0, 3767.0, 24300.0, 700.0, 200.0, 500.0, 650.0, 100.0, 260.0, 8225.0, 400.0, 200.0, 6450.0, 22200.0, 1000.0, 14267.0, 1000.0, 3573.0, 1000.0, 400.0, 1050.0, 100.0, 4825.0, 525.0, 200.0, 3950.0, 283.0, 350.0, 100.0, 10500.0, 1200.0, 350.0, 1100.0, 10500.0, 800.0, 967.0, 400.0, 225.0, 1550.0, 250.0, 100.0, 850.0, 50.0, 5575.0, 500.0, 400.0, 1500.0, 12700.0, 3750.0, 213.0, 200.0, 1000.0, 3837.0, 200.0, 550.0, 7517.0, 3250.0, 2600.0, 50.0, 100.0, 733.0, 100.0, 436.0, 50.0, 300.0, 400.0, 900.0, 2000.0, 150.0, 6000.0, 900.0, 1338.0, 6350.0, 800.0, 350.0, 2150.0, 450.0, 500.0, 400.0, 850.0, 200.0, 1000.0, 200.0, 150.0, 350.0, 250.0, 4100.0, 800.0, 1400.0, 4200.0, 150.0, 300.0, 200.0, 1200.0, 1500.0, 750.0, 2800.0, 1250.0, 800.0, 450.0, 3276.0, 500.0, 1250.0, 3000.0, 15900.0, 500.0, 300.0, 150.0, 3900.0, 995.0, 50.0, 1800.0, 233.0, 600.0, 200.0, 550.0, 350.0, 1600.0, 1000.0, 100.0, 4300.0, 300.0, 400.0, 100.0, 1900.0, 1000.0, 1150.0, 250.0, 12150.0, 2500.0, 200.0, 450.0, 250.0, 2900.0, 450.0, 100.0, 15100.0, 1850.0, 400.0, 600.0, 483.0, 100.0, 300.0, 300.0, 325.0, 1150.0, 100.0, 1800.0, 425.0, 150.0, 200.0, 1100.0, 1200.0, 250.0, 500.0, 150.0, 400.0, 155.0, 50.0, 1350.0, 1663.0, 500.0, 200.0, 400.0, 950.0, 445.0, 16100.0, 300.0, 700.0, 100.0, 150.0, 100.0, 450.0, 500.0, 250.0, 1200.0, 8400.0, 1400.0, 150.0, 600.0, 250.0, 200.0, 50.0, 375.0, 500.0, 593.0, 200.0, 15200.0, 450.0, 525.0, 600.0, 6100.0, 700.0, 500.0, 650.0, 700.0, 1150.0, 225.0, 350.0, 300.0, 650.0, 5534.0, 195.0, 11400.0, 800.0, 900.0, 311.0, 1100.0, 600.0, 100.0, 700.0, 500.0, 798.0, 400.0, 850.0, 400.0, 1900.0, 500.0, 600.0, 481.0, 100.0, 3600.0, 500.0, 530.0, 400.0, 1050.0, 300.0, 165.0, 1017.0, 800.0, 480.0, 2800.0, 600.0, 573.0, 1200.0, 550.0, 700.0, 450.0, 990.0, 900.0, 50.0, 325.0, 2500.0, 200.0, 450.0, 7000.0, 250.0, 1200.0, 300.0, 150.0, 700.0, 500.0, 700.0, 800.0, 1700.0, 151.0, 2000.0, 6550.0, 2100.0, 1900.0, 1225.0, 100.0, 800.0, 100.0, 1900.0, 1300.0, 150.0, 200.0, 650.0, 338.0, 1300.0, 200.0, 150.0, 500.0, 22600.0, 400.0, 500.0, 400.0, 100.0, 4875.0, 6750.0, 13150.0, 5200.0, 3200.0, 600.0, 300.0, 317.0, 3600.0, 350.0, 200.0, 150.0, 350.0, 500.0, 300.0, 19700.0, 850.0, 300.0, 1550.0, 300.0, 150.0, 200.0, 2350.0, 2500.0, 275.0, 813.0, 13700.0, 200.0, 500.0, 1025.0, 350.0, 200.0, 7050.0, 2300.0, 279.0, 2500.0, 600.0, 219.0, 950.0, 4100.0, 367.0, 950.0, 200.0, 3300.0, 1380.0, 200.0, 850.0, 3400.0, 900.0, 300.0, 6350.0, 400.0, 1064.0, 200.0, 850.0, 3650.0, 900.0, 300.0, 5500.0, 2750.0, 1900.0, 26100.0, 450.0, 2300.0, 5300.0, 6742.0, 800.0, 100.0, 725.0, 550.0, 50.0, 500.0, 3800.0, 600.0, 3975.0, 3350.0, 5150.0, 200.0, 750.0, 50.0, 1050.0, 450.0, 800.0, 650.0, 950.0, 800.0, 2650.0, 1050.0, 485.0, 300.0, 13050.0, 50.0, 100.0, 625.0, 100.0, 400.0, 4350.0, 5500.0, 950.0, 200.0, 600.0, 1700.0, 1225.0, 200.0, 50.0, 10550.0, 250.0, 8917.0, 4800.0, 6800.0, 1300.0, 3600.0, 200.0, 2200.0, 2200.0, 1400.0, 5600.0, 90.0, 4400.0, 100.0, 633.0, 5375.0, 220.0, 1500.0, 700.0, 200.0, 250.0, 1700.0, 200.0, 975.0, 200.0, 100.0, 546.0, 200.0, 375.0, 500.0, 450.0, 850.0, 2550.0, 300.0, 450.0, 600.0, 250.0, 525.0, 2200.0, 2050.0, 293.0, 800.0, 2700.0, 250.0, 18250.0, 3647.0, 1750.0, 2100.0, 300.0, 200.0, 180.0, 10700.0, 1050.0, 150.0, 1400.0, 250.0, 600.0, 800.0, 200.0, 450.0, 1400.0, 200.0, 275.0, 550.0, 200.0, 700.0, 300.0, 1600.0, 3950.0, 750.0, 567.0, 1117.0, 2225.0, 1000.0, 2300.0, 200.0, 200.0, 2456.0, 2400.0, 1450.0, 1300.0, 758.0, 500.0, 5500.0, 900.0, 2000.0, 1050.0, 180.0, 1500.0, 1150.0, 100.0, 13800.0, 1021.0, 200.0, 3850.0, 1200.0, 2150.0, 400.0, 1953.0, 2000.0, 29150.0, 70.0, 8100.0, 600.0, 200.0, 700.0, 700.0, 450.0, 475.0, 225.0, 114.0, 2700.0, 200.0, 500.0, 350.0, 850.0, 400.0, 1100.0, 150.0, 4150.0, 525.0, 675.0, 7800.0, 2150.0, 82.0, 203.0, 11250.0, 300.0, 350.0, 1633.0, 790.0, 100.0, 1450.0, 160.0, 200.0, 30000.0, 150.0, 150.0, 500.0, 1183.0, 9450.0, 1000.0, 8150.0, 700.0, 2850.0, 800.0, 400.0, 1600.0, 201.0, 2150.0, 450.0, 650.0, 400.0, 6100.0, 1450.0, 8500.0, 500.0, 190.0, 200.0, 650.0, 289.0, 600.0, 653.0, 600.0, 300.0, 250.0, 500.0, 400.0, 50.0, 200.0, 600.0, 450.0, 1300.0, 150.0, 2700.0, 400.0, 30000.0, 150.0, 555.0, 1300.0, 150.0, 300.0, 400.0, 160.0, 100.0, 5400.0, 150.0, 2000.0, 175.0, 650.0, 400.0, 200.0, 1300.0, 450.0, 7850.0, 12700.0, 425.0, 600.0, 125.0, 3400.0, 4384.0, 250.0, 425.0, 2200.0, 1500.0, 300.0, 450.0, 1900.0, 1100.0, 3300.0, 700.0, 1800.0, 150.0, 250.0, 325.0, 738.0, 1150.0, 400.0, 100.0, 150.0, 459.0, 200.0, 200.0, 300.0, 450.0, 1046.0, 700.0, 300.0, 1200.0, 950.0, 350.0, 1200.0, 611.0, 23900.0, 600.0, 5543.0, 187.0, 300.0, 6450.0, 1113.0, 500.0, 300.0, 367.0, 12150.0, 300.0, 1000.0, 1200.0, 9800.0, 200.0, 100.0, 2850.0, 1800.0, 200.0, 200.0, 2250.0, 200.0, 800.0, 800.0, 750.0, 800.0, 300.0, 1050.0, 100.0, 1800.0, 550.0, 11200.0, 250.0, 185.0, 350.0, 100.0, 600.0, 7400.0, 490.0, 20050.0, 287.0, 311.0, 2800.0, 400.0, 363.0, 12500.0, 2000.0, 500.0, 233.0, 900.0, 1950.0, 750.0, 700.0, 200.0, 350.0, 11450.0, 3150.0, 2200.0, 300.0, 1100.0, 750.0, 30000.0, 150.0, 100.0, 2400.0, 275.0, 400.0, 633.0, 525.0, 450.0, 100.0, 442.0, 800.0, 13950.0, 450.0, 200.0, 100.0, 300.0, 16150.0, 100.0, 3400.0, 200.0, 600.0, 2550.0, 568.0, 600.0, 200.0, 750.0, 275.0, 462.0, 7850.0, 100.0, 400.0, 2050.0, 200.0, 7900.0, 355.0, 4300.0, 1742.0, 900.0, 300.0, 600.0, 17550.0, 2400.0, 600.0, 2600.0, 1167.0, 700.0, 6150.0, 825.0, 10450.0, 1550.0, 1350.0, 2000.0, 15300.0, 800.0, 1275.0, 450.0, 2550.0, 15200.0, 9183.0, 200.0, 150.0, 4100.0, 900.0, 1150.0, 225.0, 11100.0, 700.0, 638.0, 8950.0, 525.0, 6000.0, 347.0, 400.0, 600.0, 1300.0, 1900.0, 3050.0, 4000.0, 1750.0, 225.0, 6150.0, 17800.0, 9500.0, 850.0, 1550.0, 1100.0, 5700.0, 250.0, 300.0, 800.0, 500.0, 600.0, 350.0, 129.0, 1325.0, 3100.0, 950.0, 2450.0, 5300.0, 917.0, 200.0, 275.0, 500.0, 300.0, 500.0, 450.0, 5600.0, 200.0, 700.0, 9200.0, 113.0, 12000.0, 5000.0, 1375.0, 350.0, 4000.0, 5750.0, 5600.0, 50.0, 1828.0, 100.0, 350.0, 150.0, 7100.0, 5600.0, 1750.0, 6500.0, 150.0, 553.0, 680.0, 1850.0, 3000.0, 2400.0, 800.0, 650.0, 300.0, 300.0, 10400.0, 500.0, 2150.0, 517.0, 1500.0, 250.0, 100.0, 1800.0, 14200.0, 3350.0, 100.0, 325.0, 1850.0, 600.0, 250.0, 700.0, 800.0, 400.0, 550.0, 100.0, 200.0, 343.0, 400.0, 22300.0, 625.0, 750.0, 1800.0, 5660.0, 2100.0, 1800.0, 300.0, 6325.0, 783.0, 550.0, 140.0, 350.0, 1850.0, 1050.0, 5225.0, 700.0, 600.0, 200.0, 650.0, 6950.0, 929.0, 250.0, 1533.0, 600.0, 1200.0, 800.0, 2700.0, 192.0, 13450.0, 1050.0, 18700.0, 650.0, 750.0, 3000.0, 3950.0, 300.0, 1567.0, 5050.0, 200.0, 250.0, 900.0, 1500.0, 7150.0, 200.0, 4100.0, 13950.0, 100.0, 21350.0, 29700.0, 10700.0, 900.0, 550.0, 2000.0, 217.0, 350.0, 583.0, 6050.0, 850.0, 1700.0, 817.0, 5950.0, 300.0, 1000.0, 450.0, 100.0, 600.0, 200.0, 12400.0, 803.0, 300.0, 290.0, 900.0, 150.0, 1900.0, 500.0, 300.0, 3000.0, 248.0, 500.0, 75.0, 150.0, 50.0, 600.0, 500.0, 300.0, 300.0, 800.0, 625.0, 13250.0, 200.0, 2750.0, 850.0, 200.0, 350.0, 750.0, 50.0, 5950.0, 100.0, 600.0, 1600.0, 150.0, 550.0, 800.0, 500.0, 1400.0, 1000.0, 1600.0, 5450.0, 500.0, 1100.0, 200.0, 1150.0, 6975.0, 1900.0, 850.0, 200.0, 350.0, 300.0, 800.0, 1500.0, 350.0, 1400.0, 200.0, 500.0, 1600.0, 12750.0, 300.0, 875.0, 200.0, 300.0, 575.0, 225.0, 150.0, 400.0, 600.0, 200.0, 1050.0, 2100.0, 2100.0, 400.0, 2300.0, 250.0, 2200.0, 300.0, 1050.0, 1000.0, 500.0, 350.0, 6950.0, 300.0, 200.0, 900.0, 200.0, 900.0, 500.0, 263.0, 675.0, 350.0, 625.0, 250.0, 400.0, 1400.0, 150.0, 3000.0, 1800.0, 100.0, 6050.0, 5850.0, 850.0, 50.0, 2550.0, 16300.0, 200.0, 400.0, 14300.0, 3850.0, 4463.0, 250.0, 10000.0, 6950.0, 342.0, 3300.0, 150.0, 3973.0, 400.0, 870.0, 1100.0, 203.0, 2000.0, 1950.0, 700.0, 400.0, 1450.0, 50.0, 4037.0, 200.0, 550.0, 100.0, 400.0, 450.0, 50.0, 300.0, 2940.0, 275.0, 200.0, 300.0, 1000.0, 300.0, 100.0, 450.0, 6800.0, 2950.0, 500.0, 100.0, 1700.0, 850.0, 350.0, 2000.0, 275.0, 128.0, 11200.0, 150.0, 300.0, 150.0, 200.0, 2300.0, 1900.0, 700.0, 250.0, 300.0, 150.0, 280.0, 300.0, 6100.0, 150.0, 1100.0, 383.0, 300.0, 200.0, 600.0, 1100.0, 1150.0, 1100.0, 525.0, 350.0, 450.0, 750.0, 1050.0, 1500.0, 1623.0, 200.0, 900.0, 125.0, 167.0, 5700.0, 450.0, 1333.0, 700.0, 367.0, 180.0, 4000.0, 200.0, 1000.0, 217.0, 1075.0, 200.0, 200.0, 950.0, 100.0, 850.0, 200.0, 200.0, 1500.0, 1250.0, 1011.0, 1250.0, 200.0, 2250.0, 350.0, 6370.0, 9850.0, 2000.0, 200.0, 770.0, 1200.0, 350.0, 200.0, 100.0, 3850.0, 150.0, 900.0, 150.0, 2100.0, 2300.0, 8400.0, 100.0, 350.0, 6700.0, 700.0, 550.0, 1150.0, 350.0, 250.0, 3400.0, 2750.0, 100.0, 680.0, 350.0, 2800.0, 200.0, 900.0, 100.0, 500.0, 3200.0, 11150.0, 500.0, 750.0, 433.0, 1250.0, 2500.0, 100.0, 1250.0, 600.0, 6775.0, 300.0, 200.0, 1000.0, 175.0, 250.0, 1400.0, 315.0, 500.0, 500.0, 100.0, 150.0, 1750.0, 1720.0, 30000.0, 1300.0, 250.0, 1400.0, 10300.0, 2750.0, 400.0, 150.0, 117.0, 775.0, 350.0, 150.0, 5200.0, 1200.0, 132.0, 1200.0, 450.0, 400.0, 8250.0, 2800.0, 332.0, 200.0, 5650.0, 500.0, 1700.0, 1200.0, 4400.0, 350.0, 500.0, 150.0, 750.0, 250.0, 300.0, 1750.0, 850.0, 1900.0, 8350.0, 1300.0, 2400.0, 1400.0, 650.0, 9950.0, 350.0, 9400.0, 600.0, 1000.0, 1199.0, 300.0, 2350.0, 50.0, 1100.0, 6933.0, 400.0, 2233.0, 150.0, 8400.0, 550.0, 700.0, 9050.0, 9700.0, 499.0, 2300.0, 300.0, 250.0, 900.0, 700.0, 7450.0, 1175.0, 150.0, 1200.0, 300.0, 175.0, 5275.0, 200.0, 800.0, 700.0, 200.0, 1050.0, 1600.0, 375.0, 350.0, 2800.0, 463.0, 400.0, 417.0, 2650.0, 3000.0, 850.0, 750.0, 400.0, 550.0, 15500.0, 9900.0, 2050.0, 650.0, 700.0, 1200.0, 400.0, 600.0, 900.0, 950.0, 1800.0, 6000.0, 9700.0, 1300.0, 2050.0, 1500.0, 26950.0, 1250.0, 600.0, 150.0, 800.0, 300.0, 950.0, 1900.0, 450.0, 900.0, 950.0, 400.0, 933.0, 439.0, 7700.0, 200.0, 15700.0, 10150.0, 26250.0, 150.0, 750.0, 2600.0, 2017.0, 250.0, 200.0, 200.0, 1075.0, 900.0, 2700.0, 350.0, 200.0, 5000.0, 175.0, 200.0, 350.0, 200.0, 650.0, 190.0, 550.0, 1500.0, 1200.0, 200.0, 50.0, 530.0, 12600.0, 1400.0, 150.0, 700.0, 450.0, 1500.0, 550.0, 275.0, 200.0, 100.0, 100.0, 600.0, 400.0, 425.0, 322.0, 16617.0, 521.0, 4200.0, 1100.0, 2250.0, 200.0, 300.0, 1800.0, 5650.0, 200.0, 100.0, 12550.0, 300.0, 1000.0, 150.0, 30000.0, 3900.0, 100.0, 400.0, 1050.0, 550.0, 1400.0, 200.0, 668.0, 200.0, 100.0, 625.0, 327.0, 5650.0, 29600.0, 400.0, 550.0, 550.0, 1750.0, 3450.0, 1350.0, 350.0, 10000.0, 2700.0, 4600.0, 200.0, 450.0, 7150.0, 200.0, 300.0, 1200.0, 750.0, 350.0, 9550.0, 350.0, 12900.0, 500.0, 1850.0, 10450.0, 100.0, 600.0, 200.0, 450.0, 150.0, 200.0, 1950.0, 350.0, 200.0, 817.0, 400.0, 200.0, 800.0, 900.0, 300.0, 350.0, 340.0, 173.0, 400.0, 7600.0, 2000.0, 123.0, 3650.0, 645.0, 650.0, 300.0, 19150.0, 100.0, 150.0, 2100.0, 650.0, 7000.0, 1520.0, 100.0, 600.0, 700.0, 1600.0, 300.0, 1200.0, 450.0, 500.0, 700.0, 1000.0, 21100.0, 600.0, 300.0, 700.0, 250.0, 1900.0, 3600.0, 20100.0, 550.0, 1475.0, 2200.0, 200.0, 1075.0, 4700.0, 100.0, 2800.0, 3250.0, 500.0, 775.0, 350.0, 1550.0, 250.0, 1550.0, 5150.0, 650.0, 1500.0, 1400.0, 12050.0, 400.0, 150.0, 2083.0, 100.0, 14550.0, 675.0, 250.0, 50.0, 400.0, 800.0, 100.0, 1400.0, 150.0, 700.0, 1800.0, 100.0, 175.0, 185.0, 1250.0, 750.0, 650.0, 150.0, 300.0, 350.0, 2500.0, 183.0, 400.0, 350.0, 16050.0, 1750.0, 200.0, 2050.0, 4700.0, 150.0, 250.0, 2200.0, 250.0, 700.0, 800.0, 700.0, 300.0, 600.0, 800.0, 200.0, 400.0, 500.0, 3950.0, 300.0, 200.0, 7600.0, 1517.0, 5850.0, 1000.0, 600.0, 100.0, 650.0, 13950.0, 27050.0, 8450.0, 20900.0, 500.0, 500.0, 2600.0, 2050.0, 1900.0, 350.0, 1140.0, 350.0, 600.0, 500.0, 1000.0, 1225.0, 800.0, 400.0, 50.0, 300.0, 1400.0, 550.0, 150.0, 875.0, 575.0, 1038.0, 400.0, 4300.0, 210.0, 343.0, 20850.0, 8000.0, 150.0, 2550.0, 100.0, 800.0, 1500.0, 600.0, 1000.0, 700.0, 1150.0, 420.0, 300.0, 200.0, 18400.0, 300.0, 150.0, 2350.0, 3700.0, 12750.0, 200.0, 1625.0, 4100.0, 1100.0, 550.0, 800.0, 200.0, 100.0, 500.0, 100.0, 500.0, 650.0, 600.0, 14150.0, 1200.0, 1700.0, 10200.0, 250.0, 3450.0, 500.0, 3750.0, 800.0, 600.0, 200.0, 150.0, 3500.0, 1400.0, 5700.0, 400.0, 350.0, 50.0, 250.0, 600.0, 700.0, 2550.0, 1000.0, 1808.0, 400.0, 200.0, 250.0, 63.0, 3000.0, 13550.0, 500.0, 900.0, 150.0, 1613.0, 350.0, 369.0, 393.0, 200.0, 2500.0, 1400.0, 2500.0, 10500.0, 104.0, 100.0, 500.0, 1100.0, 450.0, 200.0, 875.0, 1600.0, 2100.0, 850.0, 300.0, 750.0, 6375.0, 350.0, 19700.0, 5200.0, 400.0, 800.0, 800.0, 800.0, 100.0, 445.0, 100.0, 550.0, 200.0, 700.0, 3150.0, 550.0, 230.0, 200.0, 100.0, 200.0, 11700.0, 150.0, 150.0, 6400.0, 413.0, 300.0, 411.0, 14300.0, 650.0, 2550.0, 650.0, 1363.0, 350.0, 450.0, 1900.0, 150.0, 6200.0, 2500.0, 1400.0, 433.0, 300.0, 200.0, 700.0, 200.0, 550.0, 2200.0, 200.0, 8975.0, 175.0, 400.0, 700.0, 900.0, 700.0, 1650.0, 300.0, 2800.0, 1000.0, 200.0, 3050.0, 800.0, 250.0, 6011.0, 717.0, 300.0, 2400.0, 200.0, 250.0, 3000.0, 2800.0, 2000.0, 8900.0, 300.0, 450.0, 600.0, 461.0, 175.0, 3042.0, 300.0, 850.0, 3400.0, 200.0, 200.0, 350.0, 500.0, 1350.0, 175.0, 350.0, 650.0, 3000.0, 1050.0, 50.0, 200.0, 1000.0, 100.0, 150.0, 100.0, 1400.0, 1060.0, 100.0, 250.0, 25200.0, 4400.0, 1250.0, 400.0, 900.0, 1350.0, 700.0, 850.0, 275.0, 350.0, 1100.0, 150.0, 6300.0, 350.0, 350.0, 100.0, 200.0, 8500.0, 425.0, 11700.0, 1100.0, 50.0, 500.0, 240.0, 13450.0, 1000.0, 325.0, 7250.0, 600.0, 5908.0, 850.0, 800.0, 2100.0, 975.0, 460.0, 2000.0, 300.0, 250.0, 2100.0, 500.0, 1250.0, 1233.0, 750.0, 313.0, 117.0, 3200.0, 50.0, 250.0, 350.0, 900.0, 150.0, 300.0, 1600.0, 600.0, 430.0, 400.0, 433.0, 1450.0, 245.0, 600.0, 600.0, 268.0, 350.0, 1450.0, 1450.0, 550.0, 3850.0, 200.0, 2700.0, 250.0, 8900.0, 1100.0, 100.0, 2250.0, 450.0, 200.0, 700.0, 100.0, 450.0, 881.0, 1000.0, 510.0, 100.0, 350.0, 150.0, 150.0, 2400.0, 450.0, 450.0, 450.0, 900.0, 1900.0, 500.0, 400.0, 13900.0, 550.0, 133.0, 600.0, 850.0, 200.0, 500.0, 100.0, 600.0, 3188.0, 500.0, 8850.0, 6700.0, 7900.0, 990.0, 550.0, 6700.0, 100.0, 500.0, 200.0, 2200.0, 125.0, 775.0, 273.0, 250.0, 2450.0, 433.0, 1200.0, 200.0, 900.0, 200.0, 250.0, 300.0, 300.0, 5850.0, 500.0, 2200.0, 100.0, 450.0, 350.0, 300.0, 119.0, 8650.0, 150.0, 543.0, 5000.0, 200.0, 217.0, 1100.0, 900.0, 150.0, 600.0, 150.0, 11700.0, 350.0, 125.0, 6325.0, 1300.0, 900.0, 6600.0, 600.0, 100.0, 215.0, 1250.0, 350.0, 300.0, 3000.0, 300.0, 400.0, 1300.0, 25950.0, 350.0, 100.0, 397.0, 183.0, 850.0, 200.0, 800.0, 3300.0, 13250.0, 250.0, 166.0, 550.0, 400.0, 183.0, 1000.0, 2200.0, 900.0, 1167.0, 200.0, 4600.0, 250.0, 100.0, 2250.0, 2900.0, 1250.0, 1000.0, 250.0, 1500.0, 900.0, 350.0, 850.0, 6850.0, 2600.0, 1000.0, 1500.0, 700.0, 75.0, 1200.0, 650.0, 175.0, 17300.0, 850.0, 1600.0, 200.0, 6250.0, 12500.0, 8200.0, 150.0, 700.0, 270.0, 1700.0, 200.0, 5450.0, 512.0, 1400.0, 1200.0, 500.0, 1200.0, 1300.0, 900.0, 150.0, 750.0, 700.0, 1100.0, 200.0, 1630.0, 275.0, 300.0, 6200.0, 1250.0, 50.0, 650.0, 350.0, 400.0, 500.0, 700.0, 917.0, 1250.0, 1200.0, 300.0, 750.0, 880.0, 200.0, 1800.0, 150.0, 800.0, 1800.0, 15225.0, 350.0, 1600.0, 400.0, 275.0, 2500.0, 17000.0, 800.0, 300.0, 26400.0, 1300.0, 875.0, 5950.0, 200.0, 350.0, 600.0, 200.0, 6600.0, 5600.0, 1050.0, 2750.0, 1875.0, 1050.0, 400.0, 600.0, 300.0, 888.0, 600.0, 350.0, 13400.0, 300.0, 1000.0, 5950.0, 6525.0, 150.0, 2600.0, 125.0, 350.0, 4755.0, 300.0, 200.0, 300.0, 2575.0, 150.0, 250.0, 1650.0, 100.0, 185.0, 300.0, 200.0, 5850.0, 3900.0, 1650.0, 950.0, 100.0, 150.0, 10050.0, 300.0, 895.0, 262.0, 5500.0, 650.0, 225.0, 400.0, 8900.0, 700.0, 1300.0, 1600.0, 1507.0, 250.0, 200.0, 679.0, 9000.0, 1050.0, 300.0, 8200.0, 250.0, 600.0, 300.0, 450.0, 1200.0, 575.0, 450.0, 1068.0, 400.0, 3000.0, 500.0, 1200.0, 4200.0, 300.0, 293.0, 150.0, 19950.0, 1950.0, 500.0, 500.0, 800.0, 700.0, 2850.0, 150.0, 155.0, 2200.0, 150.0, 441.0, 6000.0, 1000.0, 300.0, 357.0, 200.0, 3675.0, 450.0, 1800.0, 250.0, 800.0, 100.0, 7900.0, 3900.0, 750.0, 1000.0, 1600.0, 150.0, 750.0, 90.0, 8800.0, 50.0, 450.0, 415.0, 175.0, 1700.0, 100.0, 1900.0, 700.0, 500.0, 750.0, 2650.0, 199.0, 1050.0, 1150.0, 800.0, 900.0, 400.0, 700.0, 16650.0, 300.0, 4017.0, 1275.0, 22150.0, 500.0, 2250.0, 2000.0, 950.0, 3000.0, 500.0, 200.0, 200.0, 150.0, 300.0, 800.0, 450.0, 60.0, 400.0, 300.0, 150.0, 13150.0, 400.0, 150.0, 1000.0, 150.0, 150.0, 12100.0, 550.0, 11867.0, 2100.0, 400.0, 1300.0, 400.0, 250.0, 14425.0, 1325.0, 1000.0, 2525.0, 325.0, 375.0, 200.0, 1500.0, 217.0, 5350.0, 2300.0, 600.0, 456.0, 700.0, 200.0, 258.0, 1250.0, 1400.0, 1500.0, 200.0, 400.0, 1050.0, 800.0, 1867.0, 300.0, 885.0, 200.0, 200.0, 900.0, 200.0, 1050.0, 9900.0, 3200.0, 950.0, 350.0, 800.0, 700.0, 8425.0, 1100.0, 2000.0, 400.0, 950.0, 650.0, 10067.0, 1000.0, 5025.0, 767.0, 775.0, 200.0, 343.0, 950.0, 450.0, 9500.0, 750.0, 350.0, 950.0, 6300.0, 200.0, 200.0, 5900.0, 50.0, 400.0, 200.0, 600.0, 617.0, 5350.0, 885.0, 9700.0, 4450.0, 150.0, 300.0, 2500.0, 760.0, 350.0, 900.0, 4000.0, 2301.0, 4275.0, 650.0, 250.0, 100.0, 450.0, 1100.0, 150.0, 600.0, 100.0, 200.0, 475.0, 1350.0, 8450.0, 200.0, 150.0, 1477.0, 8000.0, 150.0, 6700.0, 13550.0, 900.0, 200.0, 800.0, 350.0, 600.0, 200.0, 500.0, 500.0, 517.0, 1250.0, 2150.0, 500.0, 300.0, 500.0, 150.0, 200.0, 1300.0, 2450.0, 800.0, 2250.0, 1550.0, 250.0, 180.0, 50.0, 9650.0, 200.0, 750.0, 950.0, 3600.0, 500.0, 2700.0, 400.0, 1800.0, 200.0, 1500.0, 750.0, 300.0, 7650.0, 1400.0, 600.0, 2600.0, 550.0, 1600.0, 16650.0, 9900.0, 501.0, 800.0, 650.0, 2700.0, 3950.0, 200.0, 1098.0, 250.0, 567.0, 4250.0, 275.0, 150.0, 435.0, 600.0, 200.0, 450.0, 100.0, 800.0, 700.0, 100.0, 225.0, 150.0, 400.0, 400.0, 300.0, 250.0, 150.0, 1500.0, 100.0, 650.0, 125.0, 2200.0, 950.0, 850.0, 933.0, 250.0, 200.0, 417.0, 150.0, 200.0, 12450.0, 5250.0, 1200.0, 100.0, 2200.0, 405.0, 350.0, 100.0, 1300.0, 1400.0, 600.0, 9400.0, 500.0, 5750.0, 200.0, 545.0, 200.0, 150.0, 425.0, 400.0, 1250.0, 1888.0, 5636.0, 14800.0, 3300.0, 1650.0, 1644.0, 700.0, 700.0, 4475.0, 1400.0, 250.0, 750.0, 200.0, 1450.0, 7500.0, 282.0, 722.0, 100.0, 6700.0, 4100.0, 900.0, 4700.0, 3200.0, 483.0, 360.0, 1700.0, 5500.0, 1350.0, 2100.0, 800.0, 310.0, 4200.0, 387.0, 1400.0, 800.0, 1084.0, 350.0, 11125.0, 850.0, 500.0, 400.0, 2900.0, 15250.0, 1300.0, 400.0, 400.0, 6200.0, 800.0, 150.0, 500.0, 700.0, 5000.0, 500.0, 150.0, 856.0, 1167.0, 700.0, 2000.0, 200.0, 1200.0, 300.0, 500.0, 1350.0, 1200.0, 150.0, 600.0, 2500.0, 8450.0, 267.0, 1187.0, 1300.0, 1550.0, 240.0, 2075.0, 150.0, 1550.0, 750.0, 1800.0, 800.0, 2000.0, 2050.0, 1600.0, 550.0, 2300.0, 1800.0, 500.0, 2350.0, 950.0, 231.0, 1307.0, 100.0, 78.0, 300.0, 1067.0, 2550.0, 200.0, 300.0, 353.0, 200.0, 1500.0, 1250.0, 2750.0, 800.0, 1700.0, 350.0, 400.0, 8175.0, 1450.0, 9700.0, 900.0, 550.0, 7500.0, 200.0, 638.0, 350.0, 2200.0, 100.0, 450.0, 1350.0, 700.0, 194.0, 800.0, 3450.0, 3850.0, 950.0, 650.0, 600.0, 128.0, 1387.0, 100.0, 588.0, 700.0, 550.0, 200.0, 200.0, 200.0, 150.0, 2800.0, 800.0, 3025.0, 1200.0, 1650.0, 430.0, 300.0, 400.0, 1320.0, 11100.0, 4700.0, 756.0, 1300.0, 3400.0, 3200.0, 1211.0, 450.0, 11450.0, 600.0, 400.0, 400.0, 7150.0, 1100.0, 325.0, 5850.0, 235.0, 2550.0, 200.0, 1200.0, 950.0, 600.0, 4100.0, 2100.0, 550.0, 500.0, 4000.0, 6700.0, 310.0, 500.0, 1045.0, 1670.0, 200.0, 50.0, 300.0, 200.0, 250.0, 400.0, 640.0, 200.0, 100.0, 250.0, 2500.0, 8150.0, 550.0, 700.0, 800.0, 100.0, 1500.0, 300.0, 600.0, 19400.0, 700.0, 1743.0, 100.0, 350.0, 375.0, 150.0, 1450.0, 200.0, 100.0, 1450.0, 600.0, 150.0, 329.0, 350.0, 1700.0, 700.0, 225.0, 425.0, 600.0, 11600.0, 1850.0, 200.0, 5575.0, 500.0, 200.0, 150.0, 390.0, 100.0, 4200.0, 550.0, 900.0, 900.0, 333.0, 200.0, 526.0, 200.0, 1700.0, 250.0, 150.0, 1975.0, 1500.0, 100.0, 1800.0, 300.0, 500.0, 2100.0, 1300.0, 300.0, 200.0, 2000.0, 300.0, 550.0, 70.0, 1100.0, 2200.0, 550.0, 200.0, 2700.0, 900.0, 150.0, 300.0, 250.0, 200.0, 7650.0, 150.0, 600.0, 28300.0, 200.0, 13725.0, 250.0, 5350.0, 250.0, 16450.0, 667.0, 17400.0, 11100.0, 250.0, 200.0, 600.0, 11200.0, 8850.0, 10550.0, 300.0, 3750.0, 3500.0, 30000.0, 1050.0, 200.0, 200.0, 9850.0, 1450.0, 1800.0, 2300.0, 533.0, 250.0, 250.0, 8350.0, 500.0, 300.0, 350.0, 1900.0, 8100.0, 200.0, 450.0, 1900.0, 250.0, 130.0, 130.0, 2700.0, 250.0, 700.0, 750.0, 300.0, 600.0, 350.0, 350.0, 1000.0, 1050.0, 250.0, 7000.0, 1900.0, 335.0, 20450.0, 200.0, 450.0, 1100.0, 4825.0, 550.0, 3462.0, 900.0, 493.0, 500.0, 1800.0, 175.0, 407.0, 3450.0, 700.0, 1000.0, 4150.0, 563.0, 1000.0, 5500.0, 3700.0, 3350.0, 100.0, 12500.0, 1625.0, 125.0, 450.0, 700.0, 558.0, 1250.0, 6317.0, 550.0, 8050.0, 600.0, 4100.0, 17783.0, 1000.0, 10600.0, 1950.0, 450.0, 1050.0, 850.0, 8100.0, 10150.0, 350.0, 320.0, 25700.0, 600.0, 18225.0, 500.0, 400.0, 350.0, 750.0, 1300.0, 100.0, 3750.0, 300.0, 900.0, 500.0, 200.0, 25700.0, 1100.0, 5050.0, 1350.0, 50.0, 875.0, 1400.0, 450.0, 3400.0, 1100.0, 300.0, 900.0, 500.0, 100.0, 500.0, 100.0, 200.0, 3600.0, 238.0, 300.0, 250.0, 350.0, 2000.0, 400.0, 1350.0, 250.0, 150.0, 2050.0, 3150.0, 500.0, 2200.0, 700.0, 767.0, 200.0, 350.0, 2500.0, 900.0, 1200.0, 650.0, 300.0, 12100.0, 200.0, 150.0, 13625.0, 200.0, 300.0, 1700.0, 5000.0, 1400.0, 150.0, 550.0, 100.0, 3100.0, 2200.0, 2550.0, 250.0, 350.0, 350.0, 315.0, 2300.0, 1800.0, 550.0, 150.0, 200.0, 125.0, 300.0, 2000.0, 5950.0, 3450.0, 350.0, 1200.0, 690.0, 2900.0, 1550.0, 600.0, 350.0, 1500.0, 2600.0, 1250.0, 696.0, 900.0, 1875.0, 250.0, 6700.0, 613.0, 200.0, 4000.0, 3100.0, 22525.0, 200.0, 300.0, 4300.0, 100.0, 680.0, 463.0, 800.0, 1900.0, 11950.0, 250.0, 850.0, 1344.0, 500.0, 5200.0, 2392.0, 3750.0, 267.0, 300.0, 300.0, 650.0, 500.0, 450.0, 450.0, 5900.0, 100.0, 1750.0, 320.0, 550.0, 2150.0, 300.0, 550.0, 100.0, 1650.0, 250.0, 300.0, 16400.0, 700.0, 150.0, 200.0, 3225.0, 5600.0, 200.0, 450.0, 200.0, 1800.0, 14100.0, 2400.0, 2100.0, 200.0, 13150.0, 200.0, 1275.0, 350.0, 130.0, 175.0, 3500.0, 200.0, 175.0, 2700.0, 300.0, 915.0, 1700.0, 150.0, 710.0, 5900.0, 9600.0, 500.0, 400.0, 213.0, 7550.0, 1867.0, 150.0, 1221.0, 700.0, 1825.0, 1000.0, 5800.0, 100.0, 575.0, 4200.0, 600.0, 14550.0, 23250.0, 1193.0, 1875.0, 2800.0, 100.0, 6700.0, 1285.0, 1300.0, 200.0, 450.0, 200.0, 700.0, 8350.0, 350.0, 912.0, 6200.0, 2500.0, 15700.0, 100.0, 1500.0, 350.0, 11500.0, 1000.0, 600.0, 5100.0, 600.0, 700.0, 250.0, 333.0, 150.0, 150.0, 300.0, 12050.0, 200.0, 163.0, 50.0, 363.0, 300.0, 5600.0, 550.0, 1850.0, 500.0, 400.0, 5650.0, 288.0, 250.0, 3500.0, 950.0, 2628.0, 110.0, 750.0, 1500.0, 2725.0, 100.0, 350.0, 1100.0, 1850.0, 600.0, 4700.0, 10000.0, 1800.0, 300.0, 1250.0, 1550.0, 4300.0, 8600.0, 2450.0, 333.0, 1100.0, 12700.0, 1400.0, 833.0, 5350.0, 7950.0, 2100.0, 625.0, 1550.0, 163.0, 15750.0, 150.0, 450.0, 4000.0, 500.0, 241.0, 1300.0, 100.0, 2500.0, 1000.0, 2238.0, 6175.0, 125.0, 1357.0, 950.0, 21500.0, 6050.0, 1800.0, 125.0, 1550.0, 600.0, 200.0, 7100.0, 61.0, 5350.0, 1300.0, 350.0, 250.0, 200.0, 450.0, 250.0, 933.0, 700.0, 1500.0, 200.0, 2500.0, 200.0, 150.0, 850.0, 1100.0, 8600.0, 1164.0, 1600.0, 150.0, 200.0, 200.0, 350.0, 333.0, 350.0, 300.0, 3250.0, 400.0, 1250.0, 200.0, 900.0, 30000.0, 350.0, 4222.0, 235.0, 975.0, 250.0, 30000.0, 500.0, 650.0, 21400.0, 300.0, 500.0, 300.0, 4550.0, 1650.0, 1267.0, 300.0, 1710.0, 750.0, 1400.0, 200.0, 100.0, 100.0, 2300.0, 255.0, 650.0, 1150.0, 1000.0, 400.0, 150.0, 150.0, 464.0, 2650.0, 967.0, 1300.0, 500.0, 15225.0, 1200.0, 100.0, 600.0, 550.0, 300.0, 1067.0, 8500.0, 16900.0, 300.0, 250.0, 30000.0, 1350.0, 3300.0, 9400.0, 550.0, 800.0, 300.0, 10000.0, 1850.0, 10900.0, 50.0, 125.0, 13050.0, 400.0, 250.0, 400.0, 5150.0, 100.0, 600.0, 400.0, 199.0, 560.0, 950.0, 500.0, 2900.0, 600.0, 1300.0, 1170.0, 275.0, 1900.0, 10850.0, 150.0, 5200.0, 1350.0, 500.0, 350.0, 340.0, 800.0, 125.0, 50.0, 250.0, 1400.0, 400.0, 20500.0, 6800.0, 10600.0, 250.0, 300.0, 350.0, 800.0, 566.0, 417.0, 500.0, 250.0, 200.0, 2100.0, 125.0, 400.0, 150.0, 139.0, 650.0, 3500.0, 20850.0, 1080.0, 1200.0, 11700.0, 550.0, 9700.0, 567.0, 3600.0, 2500.0, 650.0, 336.0, 2800.0, 350.0, 613.0, 1600.0, 700.0, 200.0, 3450.0, 550.0, 3300.0, 700.0, 1250.0, 6950.0, 4350.0, 750.0, 21400.0, 700.0, 340.0, 133.0, 300.0, 21800.0, 300.0, 300.0, 2000.0, 3100.0, 250.0, 160.0, 1700.0, 16400.0, 1050.0, 500.0, 3300.0, 1600.0, 1450.0, 300.0, 7320.0, 550.0, 1000.0, 2650.0, 1450.0, 8963.0, 250.0, 150.0, 405.0, 1900.0, 1175.0, 4970.0, 200.0, 150.0, 500.0, 200.0, 2550.0, 175.0, 150.0, 214.0, 1050.0, 500.0, 400.0, 1150.0, 3750.0, 300.0, 825.0, 1100.0, 608.0, 2200.0, 533.0, 1538.0, 325.0, 400.0, 950.0, 250.0, 450.0, 350.0, 2050.0, 1200.0, 1500.0, 4500.0, 200.0, 375.0, 300.0, 900.0, 7900.0, 200.0, 2000.0, 500.0, 8000.0, 600.0, 550.0, 400.0, 850.0, 200.0, 800.0, 1000.0, 2150.0, 150.0, 3925.0, 500.0, 50.0, 250.0, 3275.0, 467.0, 950.0, 4317.0, 175.0, 100.0, 950.0, 950.0, 1150.0, 200.0, 1300.0, 3900.0, 1950.0, 2150.0, 600.0, 13400.0, 5375.0, 300.0, 600.0, 15800.0, 1500.0, 8300.0, 725.0, 16400.0, 5475.0, 200.0, 4250.0, 1250.0, 150.0, 1200.0, 1600.0, 250.0, 1255.0, 3000.0, 100.0, 250.0, 6900.0, 1800.0, 3100.0, 400.0, 1100.0, 300.0, 24050.0, 2689.0, 600.0, 100.0, 300.0, 300.0, 200.0, 200.0, 500.0, 7700.0, 6900.0, 167.0, 200.0, 2100.0, 200.0, 300.0, 700.0, 2400.0, 650.0, 200.0, 200.0, 350.0, 500.0, 950.0, 2900.0, 1500.0, 30000.0, 250.0, 1000.0, 350.0, 1150.0, 412.0, 200.0, 150.0, 600.0, 683.0, 400.0, 1550.0, 400.0, 900.0, 5600.0, 5300.0, 900.0, 9950.0, 2600.0, 500.0, 400.0, 1300.0, 620.0, 450.0, 600.0, 2750.0, 1750.0, 3600.0, 5950.0, 2550.0, 250.0, 3100.0, 1400.0, 1800.0, 200.0, 2000.0, 429.0, 450.0, 2050.0, 2000.0, 250.0, 3400.0, 1600.0, 550.0, 500.0, 10250.0, 50.0, 500.0, 150.0, 1400.0, 300.0, 350.0, 300.0, 500.0, 200.0, 250.0, 150.0, 150.0, 3000.0, 10650.0, 400.0, 400.0, 150.0, 510.0, 700.0, 9700.0, 7450.0, 1800.0, 1250.0, 550.0, 2950.0, 361.0, 11350.0, 1100.0, 1600.0, 450.0, 1000.0, 483.0, 3300.0, 1075.0, 667.0, 1750.0, 3500.0, 1600.0, 600.0, 1350.0, 2750.0, 300.0, 350.0, 1000.0, 3350.0, 100.0, 1500.0, 700.0, 100.0, 19050.0, 300.0, 258.0, 900.0, 200.0, 650.0, 200.0, 850.0, 250.0, 200.0, 450.0, 50.0, 4950.0, 400.0, 300.0, 2300.0, 1450.0, 400.0, 500.0, 1150.0, 400.0, 1250.0, 351.0, 30000.0, 1100.0, 3520.0, 1500.0, 1500.0, 1038.0, 450.0, 50.0, 250.0, 350.0, 1200.0, 400.0, 200.0, 850.0, 183.0, 200.0, 7650.0, 3100.0, 10013.0, 890.0, 300.0, 290.0, 12150.0, 600.0, 300.0, 200.0, 1200.0, 250.0, 1700.0, 2500.0, 100.0, 10250.0, 375.0, 1100.0, 150.0, 400.0, 3150.0, 310.0, 238.0, 2600.0, 363.0, 50.0, 2200.0, 475.0, 29800.0, 1050.0, 300.0, 2100.0, 3900.0, 200.0, 200.0, 350.0, 1250.0, 4500.0, 100.0, 950.0, 12775.0, 350.0, 100.0, 600.0, 1650.0, 1050.0, 1000.0, 300.0, 1300.0, 500.0, 850.0, 5750.0, 850.0, 100.0, 100.0, 250.0, 150.0, 1400.0, 1250.0, 1100.0, 1350.0, 850.0, 200.0, 180.0, 350.0, 100.0, 500.0, 17800.0, 500.0, 300.0, 850.0, 100.0, 500.0, 200.0, 200.0, 150.0, 750.0, 1850.0, 250.0, 150.0, 1050.0, 325.0, 450.0, 2350.0, 250.0, 400.0, 1900.0, 1200.0, 700.0, 6700.0, 538.0, 125.0, 6700.0, 600.0, 2543.0, 300.0, 3200.0, 300.0, 450.0, 1300.0, 600.0, 1400.0, 88.0, 600.0, 300.0, 150.0, 300.0, 8450.0, 450.0, 900.0, 567.0, 600.0, 1050.0, 200.0, 1200.0, 583.0, 100.0, 200.0, 400.0, 50.0, 1050.0, 9450.0, 8600.0, 400.0, 2685.0, 3400.0, 1200.0, 2550.0, 200.0, 600.0, 900.0, 300.0, 283.0, 3300.0, 883.0, 3967.0, 1500.0, 500.0, 450.0, 600.0, 10100.0, 300.0, 550.0, 1600.0, 1275.0, 5200.0, 3600.0, 350.0, 475.0, 1350.0, 7900.0, 450.0, 400.0, 300.0, 1150.0, 900.0, 1400.0, 50.0, 1050.0, 50.0, 650.0, 3300.0, 1650.0, 250.0, 250.0, 1600.0, 1600.0, 600.0, 1900.0, 373.0, 1400.0, 283.0, 100.0, 300.0, 200.0, 1200.0, 7000.0, 2050.0, 250.0, 100.0, 1050.0, 100.0, 440.0, 1200.0, 4500.0, 4400.0, 600.0, 950.0, 2900.0, 100.0, 5700.0, 4450.0, 1650.0, 5000.0, 1000.0, 1600.0, 1400.0, 100.0, 200.0, 800.0, 223.0, 150.0, 200.0, 300.0, 1000.0, 2900.0, 550.0, 1517.0, 1900.0, 300.0, 1400.0, 400.0, 550.0, 200.0, 400.0, 700.0, 550.0, 650.0, 1100.0, 50.0, 22700.0, 8050.0, 75.0, 400.0, 1750.0, 200.0, 150.0, 400.0, 2200.0, 3600.0, 300.0, 11450.0, 350.0, 1000.0, 200.0, 397.0, 600.0, 1100.0, 300.0, 7900.0, 500.0, 300.0, 236.0, 50.0, 725.0, 200.0, 5100.0, 300.0, 500.0, 150.0, 1000.0, 10150.0, 500.0, 225.0, 12000.0, 150.0, 700.0, 800.0, 1650.0, 7150.0, 600.0, 800.0, 1100.0, 4400.0, 100.0, 25250.0, 600.0, 1500.0, 2000.0, 650.0, 1400.0, 650.0, 350.0, 500.0, 200.0, 450.0, 2500.0, 750.0, 300.0, 563.0, 700.0, 450.0, 488.0, 30000.0, 4006.0, 1083.0, 500.0, 500.0, 400.0, 600.0, 500.0, 100.0, 1900.0, 1300.0, 5031.0, 600.0, 5350.0, 500.0, 175.0, 500.0, 2700.0, 5400.0, 350.0, 100.0, 200.0, 281.0, 1675.0, 7550.0, 1000.0, 250.0, 2500.0, 5100.0, 350.0, 183.0, 9200.0, 2525.0, 1600.0, 3500.0, 1017.0, 200.0, 250.0, 100.0, 600.0, 750.0, 550.0, 350.0, 14900.0, 2550.0, 625.0, 100.0, 18100.0, 11500.0, 113.0, 1900.0, 1350.0, 100.0, 300.0, 450.0, 300.0, 200.0, 600.0, 550.0, 150.0, 900.0, 1050.0, 2600.0, 950.0, 14600.0, 850.0, 1025.0, 1450.0, 22350.0, 588.0, 700.0, 400.0, 400.0, 500.0, 1050.0, 265.0, 8350.0, 2000.0, 400.0, 4500.0, 300.0, 1550.0, 1800.0, 1100.0, 200.0, 500.0, 650.0, 750.0, 400.0, 5650.0, 1250.0, 2000.0, 3375.0, 250.0, 150.0, 900.0, 415.0, 1500.0, 2100.0, 550.0, 250.0, 150.0, 3525.0, 6250.0, 362.0, 7650.0, 8800.0, 300.0, 2050.0, 240.0, 175.0, 300.0, 7667.0, 200.0, 1050.0, 500.0, 1350.0, 150.0, 1905.0, 1400.0, 7900.0, 5300.0, 1225.0, 600.0, 50.0, 100.0, 725.0, 21400.0, 500.0, 250.0, 450.0, 150.0, 600.0, 725.0, 350.0, 378.0, 2800.0, 5867.0, 1300.0, 300.0, 2700.0, 200.0, 200.0, 125.0, 500.0, 100.0, 800.0, 800.0, 1250.0, 217.0, 1500.0, 400.0, 2300.0, 1600.0, 100.0, 200.0, 1050.0, 1200.0, 5250.0, 19800.0, 600.0, 200.0, 675.0, 825.0, 3250.0, 450.0, 150.0, 1100.0, 6700.0, 15100.0, 3050.0, 750.0, 1075.0, 3000.0, 400.0, 570.0, 30000.0, 150.0, 2400.0, 2250.0, 800.0, 1200.0, 389.0, 150.0, 275.0, 2400.0, 16825.0, 6550.0, 1000.0, 470.0, 250.0, 450.0, 900.0, 1100.0, 4950.0, 710.0, 175.0, 900.0, 300.0, 1050.0, 300.0, 27600.0, 4900.0, 500.0, 1550.0, 200.0, 1450.0, 250.0, 400.0, 650.0, 400.0, 600.0, 1800.0, 100.0, 1550.0, 600.0, 6500.0, 1100.0, 1450.0, 900.0, 150.0, 250.0, 1000.0, 15750.0, 1700.0, 900.0, 450.0, 5500.0, 8000.0, 12200.0, 500.0, 700.0, 500.0, 765.0, 2200.0, 6150.0, 150.0, 200.0, 10850.0, 1750.0, 800.0, 125.0, 250.0, 200.0, 1000.0, 19275.0, 900.0, 350.0, 150.0, 400.0, 1194.0, 600.0, 3600.0, 2804.0, 1100.0, 1375.0, 380.0, 1400.0, 9000.0, 200.0, 430.0, 150.0, 8350.0, 200.0, 800.0, 200.0, 1600.0, 3400.0, 3050.0, 17200.0, 150.0, 800.0, 500.0, 150.0, 150.0, 200.0, 410.0, 300.0, 950.0, 500.0, 1800.0, 9750.0, 800.0, 1403.0, 7625.0, 425.0, 9025.0, 400.0, 800.0, 6300.0, 450.0, 1633.0, 1150.0, 3650.0, 800.0, 200.0, 1400.0, 200.0, 600.0, 5450.0, 2800.0, 1600.0, 100.0, 225.0, 100.0, 3000.0, 800.0, 1350.0, 200.0, 2900.0, 600.0, 3550.0, 433.0, 150.0, 315.0, 525.0, 300.0, 150.0, 813.0, 850.0, 500.0, 200.0, 77.0, 2000.0, 500.0, 250.0, 200.0, 400.0, 120.0, 13800.0, 10550.0, 900.0, 700.0, 500.0, 6000.0, 1200.0, 300.0, 200.0, 7050.0, 175.0, 200.0, 850.0, 15100.0, 400.0, 5250.0, 2000.0, 600.0, 800.0, 200.0, 1850.0, 5250.0, 300.0, 150.0, 6150.0, 2200.0, 900.0, 260.0, 500.0, 300.0, 16000.0, 200.0, 600.0, 6150.0, 367.0, 600.0, 14600.0, 150.0, 513.0, 650.0, 250.0, 350.0, 50.0, 450.0, 1050.0, 250.0, 400.0, 200.0, 100.0, 500.0, 50.0, 250.0, 420.0, 363.0, 900.0, 3700.0, 200.0, 650.0, 650.0, 12750.0, 11650.0, 400.0, 18650.0, 1900.0, 475.0, 855.0, 6600.0, 200.0, 750.0, 500.0, 600.0, 800.0, 2750.0, 125.0, 300.0, 450.0, 16550.0, 225.0, 250.0, 350.0, 550.0, 100.0, 10500.0, 300.0, 1517.0, 200.0, 800.0, 1000.0, 350.0, 550.0, 15700.0, 12800.0, 1925.0, 1000.0, 6400.0, 300.0, 850.0, 550.0, 250.0, 1400.0, 2500.0, 200.0, 20000.0, 2400.0, 250.0, 200.0, 300.0, 1400.0, 5400.0, 5300.0, 1700.0, 100.0, 900.0, 13600.0, 350.0, 1500.0, 11100.0, 250.0, 8975.0, 1850.0, 6125.0, 400.0, 567.0, 300.0, 100.0, 8750.0, 4000.0, 1250.0, 400.0, 5350.0, 3000.0, 1300.0, 300.0, 8050.0, 2100.0, 16600.0, 1500.0, 275.0, 600.0, 400.0, 100.0, 900.0, 350.0, 250.0, 250.0, 5000.0, 4500.0, 100.0, 750.0, 2500.0, 300.0, 126.0, 40425.0, 50.0, 2775.0, 1950.0, 425.0, 501.0, 100.0, 650.0, 500.0, 900.0, 300.0, 500.0, 2000.0, 350.0, 568.0, 5000.0, 7950.0, 713.0, 1800.0, 450.0, 1300.0, 275.0, 6200.0, 8050.0, 100.0, 300.0, 10500.0, 1000.0, 213.0, 250.0, 117.0, 2200.0, 3450.0, 750.0, 7413.0, 500.0, 100.0, 1350.0, 550.0, 150.0, 400.0, 150.0, 550.0, 250.0, 1300.0, 1350.0, 300.0, 150.0, 7200.0, 3700.0, 17100.0, 1500.0, 5700.0, 100.0, 325.0, 350.0, 150.0, 200.0, 783.0, 650.0, 650.0, 20650.0, 2500.0, 200.0, 150.0, 200.0, 225.0, 150.0, 6050.0, 7600.0, 250.0, 3715.0, 3300.0, 13000.0, 150.0, 1200.0, 400.0, 700.0, 700.0, 1850.0, 8050.0, 2000.0, 100.0, 825.0, 450.0, 250.0, 6450.0, 1800.0, 400.0, 2125.0, 8100.0, 1650.0, 1200.0, 725.0, 1500.0, 150.0, 150.0, 500.0, 200.0, 250.0, 3100.0, 1575.0, 500.0, 1117.0, 300.0, 200.0, 200.0, 700.0, 250.0, 1150.0, 8050.0, 1000.0, 700.0, 8200.0, 645.0, 300.0, 3783.0, 100.0, 2500.0, 1650.0, 500.0, 2500.0, 900.0, 50.0, 300.0, 1050.0, 900.0, 4200.0, 11400.0, 700.0, 450.0, 3375.0, 800.0, 200.0, 150.0, 2000.0, 500.0, 12250.0, 283.0, 500.0, 302.0, 150.0, 600.0, 600.0, 100.0, 6050.0, 450.0, 750.0, 700.0, 213.0, 3450.0, 1000.0, 1525.0, 350.0, 950.0, 400.0, 1655.0, 475.0, 15800.0, 1700.0, 1500.0, 300.0, 133.0, 700.0, 175.0, 150.0, 1900.0, 7700.0, 1700.0, 400.0, 1000.0, 400.0, 2400.0, 700.0, 450.0, 1000.0, 7300.0, 17700.0, 300.0, 200.0, 1800.0, 2584.0, 650.0, 3100.0, 400.0, 7350.0, 100.0, 200.0, 100.0, 500.0, 400.0, 15300.0, 125.0, 3650.0, 150.0, 550.0, 200.0, 400.0, 150.0, 2555.0, 1850.0, 600.0, 233.0, 2533.0, 5500.0, 1250.0, 200.0, 800.0, 700.0, 3000.0, 14000.0, 1950.0, 2100.0, 200.0, 175.0, 300.0, 450.0, 2650.0, 9950.0, 108.0, 4925.0, 300.0, 7850.0, 2950.0, 350.0, 1275.0, 7000.0, 500.0, 200.0, 600.0, 1071.0, 250.0, 15925.0, 150.0, 1050.0, 1100.0, 1350.0, 1350.0, 363.0, 1300.0, 300.0, 200.0, 2800.0, 150.0, 19425.0, 600.0, 100.0, 1600.0, 400.0, 250.0, 600.0, 6038.0, 1050.0, 900.0, 850.0, 5400.0, 500.0, 150.0, 14700.0, 50.0, 155.0, 200.0, 100.0, 600.0, 67.0, 1300.0, 300.0, 300.0, 6250.0, 250.0, 1400.0, 15650.0, 200.0, 5850.0, 5400.0, 16500.0, 8750.0, 250.0, 150.0, 950.0, 2400.0, 14475.0, 500.0, 14050.0, 650.0, 2900.0, 13800.0, 300.0, 471.0, 100.0, 250.0, 900.0, 1900.0, 1600.0, 300.0, 200.0, 1750.0, 967.0, 250.0, 400.0, 575.0, 300.0, 358.0, 3200.0, 17163.0, 1525.0, 2400.0, 4250.0, 850.0, 263.0, 1750.0, 400.0, 1050.0, 300.0, 1000.0, 5400.0, 150.0, 2200.0, 600.0, 100.0, 1200.0, 450.0, 12650.0, 200.0, 450.0, 600.0, 13050.0, 250.0, 365.0, 100.0, 350.0, 5700.0, 125.0, 375.0, 100.0, 30000.0, 1300.0, 5500.0, 1000.0, 5900.0, 1000.0, 200.0, 10975.0, 2386.0, 3863.0, 100.0, 600.0, 325.0, 5000.0, 1600.0, 1050.0, 450.0, 500.0, 200.0, 850.0, 200.0, 2800.0, 1250.0, 30000.0, 250.0, 6275.0, 250.0, 400.0, 150.0, 1267.0, 200.0, 750.0, 400.0, 400.0, 100.0, 250.0, 9250.0, 375.0, 7150.0, 200.0, 900.0, 3050.0, 850.0, 115.0, 700.0, 350.0, 450.0, 1050.0, 600.0, 800.0, 350.0, 300.0, 200.0, 335.0, 700.0, 450.0, 1700.0, 147.0, 300.0, 500.0, 1275.0, 13550.0, 1200.0, 250.0, 300.0, 7200.0, 2050.0, 200.0, 750.0, 200.0, 400.0, 17000.0, 100.0, 800.0, 250.0, 5800.0, 1200.0, 4100.0, 250.0, 200.0, 200.0, 150.0, 7725.0, 200.0, 16200.0, 550.0, 1300.0, 1350.0, 100.0, 600.0, 550.0, 850.0, 15800.0, 400.0, 1200.0, 250.0, 350.0, 100.0, 8250.0, 4300.0, 275.0, 2900.0, 500.0, 1525.0, 290.0, 1050.0, 300.0, 300.0, 7400.0, 4000.0, 100.0, 400.0, 615.0, 200.0, 650.0, 600.0, 1700.0, 200.0, 167.0, 750.0, 875.0, 825.0, 600.0, 1100.0, 250.0, 667.0, 200.0, 300.0, 450.0, 800.0, 800.0, 1400.0, 200.0, 2575.0, 650.0, 525.0, 1600.0, 7600.0, 100.0, 300.0, 8550.0, 500.0, 400.0, 4200.0, 200.0, 5700.0, 175.0, 200.0, 50.0, 200.0, 300.0, 22900.0, 2150.0, 1400.0, 200.0, 200.0, 700.0, 7767.0, 500.0, 450.0, 200.0, 750.0, 1300.0, 200.0, 6000.0, 200.0, 400.0, 4600.0, 350.0, 350.0, 8350.0, 600.0, 250.0, 50.0, 150.0, 1063.0, 100.0, 200.0, 900.0, 250.0, 1000.0, 200.0, 450.0, 2910.0, 1200.0, 22200.0, 350.0, 433.0, 100.0, 6800.0, 100.0, 4700.0, 5550.0, 1000.0, 1550.0, 2400.0, 1100.0, 750.0, 2500.0, 1600.0, 1350.0, 2500.0, 1804.0, 600.0, 513.0, 3950.0, 650.0, 150.0, 1500.0, 60.0, 200.0, 400.0, 1300.0, 675.0, 200.0, 1200.0, 5350.0, 16000.0, 50.0, 625.0, 13300.0, 2600.0, 150.0, 1050.0, 1200.0, 100.0, 300.0, 550.0, 775.0, 100.0, 30000.0, 2700.0, 2000.0, 175.0, 6200.0, 1200.0, 250.0, 1000.0, 250.0, 200.0, 9800.0, 300.0, 225.0, 700.0, 750.0, 2200.0, 600.0, 4700.0, 1750.0, 4250.0, 7200.0, 300.0, 3550.0, 8150.0, 9375.0, 288.0, 300.0, 10125.0, 6800.0, 2500.0, 250.0, 700.0, 350.0, 333.0, 17100.0, 1250.0, 1900.0, 2700.0, 2250.0, 15000.0, 4000.0, 975.0, 50.0, 3800.0, 100.0, 6500.0, 500.0, 200.0, 300.0, 350.0, 319.0, 400.0, 700.0, 800.0, 135.0, 1600.0, 75.0, 900.0, 250.0, 250.0, 5700.0, 950.0, 950.0, 1950.0, 1000.0, 5900.0, 1400.0, 150.0, 2900.0, 413.0, 350.0, 1783.0, 4550.0, 340.0, 1500.0, 2500.0, 100.0, 375.0, 15475.0, 18400.0, 1250.0, 600.0, 900.0, 1500.0, 200.0, 400.0, 513.0, 5050.0, 300.0, 1700.0, 483.0, 900.0, 7300.0, 1450.0, 400.0, 400.0, 150.0, 7400.0, 200.0, 1400.0, 6550.0, 2200.0, 4100.0, 1250.0, 100.0, 350.0, 150.0, 3300.0, 200.0, 663.0, 650.0, 1650.0, 13450.0, 1300.0, 450.0, 500.0, 300.0, 1500.0, 1100.0, 200.0, 300.0, 2200.0, 150.0, 1100.0, 1600.0, 1000.0, 3000.0, 300.0, 1200.0, 750.0, 350.0, 1375.0, 700.0, 650.0, 650.0, 9150.0, 100.0, 404.0, 250.0, 1100.0, 1450.0, 5300.0, 10700.0, 400.0, 125.0, 500.0, 200.0, 353.0, 24100.0, 167.0, 400.0, 100.0, 1350.0, 2100.0, 150.0, 180.0, 7750.0, 250.0, 600.0, 700.0, 480.0, 16100.0, 350.0, 100.0, 2100.0, 300.0, 300.0, 1300.0, 300.0, 500.0, 200.0, 550.0, 900.0, 250.0, 1300.0, 475.0, 10600.0, 700.0, 450.0, 17100.0, 250.0, 225.0, 1400.0, 279.0, 600.0, 50.0, 150.0, 3600.0, 663.0, 10100.0, 300.0, 200.0, 2700.0, 925.0, 7575.0, 3100.0, 520.0, 150.0, 150.0, 150.0, 14600.0, 100.0, 400.0, 11900.0, 1450.0, 1050.0, 625.0, 500.0, 200.0, 183.0, 75.0, 350.0, 800.0, 1500.0, 250.0, 1000.0, 1225.0, 5400.0, 850.0, 175.0, 800.0, 210.0, 700.0, 537.0, 15900.0, 150.0, 400.0, 6617.0, 150.0, 11450.0, 1400.0, 20650.0, 200.0, 700.0, 567.0, 880.0, 125.0, 30000.0, 5650.0, 661.0, 1300.0, 500.0, 150.0, 100.0, 350.0, 817.0, 200.0, 30000.0, 200.0, 550.0, 750.0, 300.0, 3000.0, 1150.0, 4315.0, 50.0, 9075.0, 350.0, 150.0, 6650.0, 350.0, 189.0, 200.0, 900.0, 400.0, 3000.0, 2400.0, 10550.0, 6000.0, 400.0, 500.0, 1200.0, 4500.0, 3550.0, 430.0, 1300.0, 50.0, 200.0, 2000.0, 1000.0, 8250.0, 300.0, 3600.0, 166.0, 14150.0, 3800.0, 300.0, 100.0, 1050.0, 1500.0, 7600.0, 1352.0, 6700.0, 3200.0, 1200.0, 3600.0, 7750.0, 100.0, 900.0, 5950.0, 950.0, 1400.0, 400.0, 600.0, 717.0, 400.0, 700.0, 450.0, 100.0, 633.0, 650.0, 2000.0, 300.0, 10800.0, 400.0, 2475.0, 850.0, 8800.0, 1350.0, 2200.0, 600.0, 1050.0, 900.0, 550.0, 1550.0, 300.0, 1050.0, 1520.0, 30000.0, 1350.0, 950.0, 50.0, 150.0, 1600.0, 375.0, 600.0, 1050.0, 13575.0, 2850.0, 200.0, 1600.0, 1082.0, 250.0, 570.0, 100.0, 150.0, 225.0, 700.0, 550.0, 4375.0, 1100.0, 200.0, 3200.0, 900.0, 200.0, 1150.0, 567.0, 750.0, 5050.0, 600.0, 700.0, 600.0, 500.0, 950.0, 1650.0, 250.0, 500.0, 300.0, 150.0, 1000.0, 1000.0, 1600.0, 800.0, 800.0, 600.0, 4650.0, 30000.0, 150.0, 200.0, 100.0, 300.0, 150.0, 2250.0, 306.0, 4100.0, 200.0, 850.0, 11200.0, 500.0, 400.0, 200.0, 1450.0, 9750.0, 167.0, 700.0, 8250.0, 775.0, 150.0, 1000.0, 2300.0, 6200.0, 1200.0, 1800.0, 700.0, 3300.0, 150.0, 50.0, 393.0, 117.0, 200.0, 500.0, 800.0, 300.0, 1350.0, 3000.0, 1100.0, 350.0, 11000.0, 400.0, 850.0, 500.0, 900.0, 8350.0, 76.0, 350.0, 400.0, 100.0, 450.0, 950.0, 600.0, 600.0, 550.0, 125.0, 700.0, 300.0, 3400.0, 150.0, 1300.0, 1500.0, 283.0, 850.0, 1100.0, 5700.0, 320.0, 450.0, 369.0, 1750.0, 300.0, 275.0, 3950.0, 1250.0, 1053.0, 16100.0, 500.0, 200.0, 9350.0, 1100.0, 1050.0, 969.0, 233.0, 450.0, 1400.0, 350.0, 2000.0, 600.0, 250.0, 970.0, 150.0, 1720.0, 300.0, 900.0, 1850.0, 350.0, 5600.0, 150.0, 600.0, 1000.0, 200.0, 750.0, 150.0, 1250.0, 250.0, 200.0, 600.0, 250.0, 3400.0, 700.0, 6875.0, 150.0, 400.0, 5250.0, 16100.0, 19050.0, 717.0, 1550.0, 12950.0, 1100.0, 1650.0, 250.0, 150.0, 100.0, 700.0, 250.0, 50.0, 400.0, 700.0, 400.0, 475.0, 16200.0, 600.0, 150.0, 283.0, 100.0, 975.0, 207.0, 300.0, 300.0, 500.0, 1300.0, 17100.0, 300.0, 321.0, 200.0, 2300.0, 1500.0, 100.0, 1075.0, 500.0, 2200.0, 575.0, 450.0, 450.0, 300.0, 400.0, 633.0, 250.0, 984.0, 400.0, 250.0, 899.0, 6700.0, 450.0, 300.0, 2700.0, 9300.0, 1550.0, 650.0, 250.0, 125.0, 200.0, 249.0, 400.0, 1000.0, 350.0, 1550.0, 250.0, 510.0, 500.0, 200.0, 425.0, 10850.0, 400.0, 5550.0, 250.0, 12800.0, 2500.0, 1700.0, 200.0, 833.0, 1000.0, 3550.0, 2000.0, 1979.0, 300.0, 2300.0, 13100.0, 350.0, 2555.0, 500.0, 700.0, 300.0, 1550.0, 300.0, 200.0, 7600.0, 1740.0, 275.0, 200.0, 6200.0, 550.0, 6700.0, 90.0, 138.0, 5600.0, 3733.0, 3000.0, 600.0, 1300.0, 733.0, 875.0, 550.0, 534.0, 1550.0, 50.0, 14000.0, 500.0, 250.0, 725.0, 150.0, 1450.0, 1550.0, 400.0, 1200.0, 1000.0, 250.0, 350.0, 300.0, 550.0, 150.0, 1200.0, 100.0, 1000.0, 1650.0, 1000.0, 600.0, 1410.0, 477.0, 200.0, 500.0, 1700.0, 217.0, 1400.0, 250.0, 300.0, 600.0, 600.0, 5900.0, 250.0, 13300.0, 4850.0, 2200.0, 1200.0, 400.0, 318.0, 100.0, 902.0, 400.0, 1233.0, 3100.0, 2000.0, 350.0, 1750.0, 707.0, 500.0, 1000.0, 1100.0, 3200.0, 450.0, 250.0, 5825.0, 8950.0, 200.0, 950.0, 650.0, 5200.0, 500.0, 5288.0, 23600.0, 4403.0, 800.0, 600.0, 950.0, 4750.0, 2400.0, 225.0, 2500.0, 300.0, 725.0, 375.0, 150.0, 1200.0, 150.0, 200.0, 250.0, 120.0, 200.0, 150.0, 18500.0, 700.0, 13050.0, 800.0, 150.0, 700.0, 200.0, 700.0, 575.0, 150.0, 1200.0, 299.0, 8550.0, 1000.0, 100.0, 200.0, 3450.0, 10050.0, 16800.0, 160.0, 800.0, 2500.0, 1938.0, 255.0, 163.0, 300.0, 3350.0, 2400.0, 900.0, 2850.0, 4800.0, 200.0, 1500.0, 2300.0, 814.0, 2500.0, 13000.0, 1100.0, 2150.0, 1225.0, 950.0, 1850.0, 2400.0, 2000.0, 250.0, 1900.0, 1200.0, 850.0, 750.0, 100.0, 1100.0, 3000.0, 800.0, 600.0, 10317.0, 1400.0, 1200.0, 10450.0, 750.0, 425.0, 900.0, 1800.0, 1500.0, 2000.0, 300.0, 550.0, 100.0, 800.0, 2000.0, 150.0, 200.0, 12800.0, 2886.0, 703.0, 2600.0, 1500.0, 1000.0, 30000.0, 700.0, 600.0, 150.0, 100.0, 500.0, 2375.0, 100.0, 1000.0, 4025.0, 7225.0, 3050.0, 12650.0, 290.0, 400.0, 300.0, 250.0, 2300.0, 900.0, 256.0, 4400.0, 500.0, 400.0, 1000.0, 275.0, 100.0, 217.0, 2100.0, 900.0, 2350.0, 850.0, 18200.0, 2800.0, 950.0, 50.0, 1100.0, 1600.0, 800.0, 10200.0, 650.0, 6183.0, 750.0, 525.0, 2400.0, 2100.0, 800.0, 600.0, 1200.0, 14300.0, 500.0, 600.0, 13483.0, 600.0, 1900.0, 652.0, 1800.0, 2850.0, 350.0, 237.0, 300.0, 800.0, 1150.0, 300.0, 400.0, 14000.0, 250.0, 150.0, 1625.0, 5500.0, 50.0, 4600.0, 13300.0, 700.0, 2450.0, 600.0, 2483.0, 150.0, 1100.0, 14850.0, 150.0, 1800.0, 1150.0, 2000.0, 200.0, 22700.0, 100.0, 350.0, 4400.0, 3711.0, 9550.0, 900.0, 1700.0, 100.0, 6700.0, 2500.0, 1250.0, 200.0, 350.0, 3000.0, 13100.0, 217.0, 10350.0, 9050.0, 500.0, 650.0, 150.0, 600.0, 450.0, 250.0, 1617.0, 100.0, 400.0, 1400.0, 250.0, 250.0, 1910.0, 650.0, 200.0, 145.0, 1350.0, 917.0, 460.0, 1550.0, 155.0, 950.0, 400.0, 8850.0, 4900.0, 100.0, 100.0, 1175.0, 275.0, 225.0, 200.0, 5750.0, 950.0, 125.0, 214.0, 2400.0, 500.0, 200.0, 1200.0, 600.0, 300.0, 4117.0, 300.0, 1300.0, 600.0, 700.0, 700.0, 7950.0, 500.0, 583.0, 3500.0, 90.0, 7600.0, 195.0, 3500.0, 350.0, 2500.0, 5900.0, 200.0, 14450.0, 900.0, 500.0, 450.0, 18800.0, 1600.0, 100.0, 1200.0, 11767.0, 600.0, 1600.0, 1600.0, 3150.0, 30000.0, 1150.0, 1800.0, 250.0, 2200.0, 200.0, 2450.0, 579.0, 1800.0, 15500.0, 100.0, 400.0, 550.0, 1700.0, 1900.0, 1100.0, 11800.0, 900.0, 150.0, 6050.0, 16600.0, 1100.0, 767.0, 1600.0, 1400.0, 1500.0, 2150.0, 350.0, 100.0, 1300.0, 300.0, 117.0, 400.0, 11375.0, 200.0, 350.0, 600.0, 800.0, 100.0, 300.0, 600.0, 400.0, 1000.0, 2600.0, 200.0, 606.0, 3450.0, 17350.0, 1433.0, 1700.0, 1300.0, 3050.0, 725.0, 1800.0, 30000.0, 150.0, 1600.0, 3275.0, 1050.0, 250.0, 3300.0, 600.0, 400.0, 550.0, 1000.0, 450.0, 150.0, 1675.0, 600.0, 2300.0, 4100.0, 363.0, 300.0, 450.0, 500.0, 200.0, 350.0, 640.0, 500.0, 600.0, 400.0, 300.0, 400.0, 19150.0, 12300.0, 500.0, 500.0, 817.0, 4450.0, 110.0, 4050.0, 100.0, 100.0, 345.0, 1750.0, 800.0, 150.0, 900.0, 200.0, 1800.0, 313.0, 3000.0, 1800.0, 1700.0, 4683.0, 400.0, 400.0, 750.0, 3250.0, 2850.0, 10550.0, 250.0, 100.0, 6050.0, 800.0, 660.0, 100.0, 17000.0, 400.0, 1100.0, 850.0, 200.0, 2975.0, 100.0, 2525.0, 800.0, 775.0, 867.0, 300.0, 200.0, 500.0, 14950.0, 18250.0, 253.0, 340.0, 5200.0, 2300.0, 750.0, 350.0, 800.0, 325.0, 900.0, 800.0, 4300.0, 7500.0, 300.0, 250.0, 6050.0, 300.0, 250.0, 1050.0, 75.0, 2200.0, 2750.0, 200.0, 7000.0, 250.0, 1250.0, 750.0, 500.0, 500.0, 3400.0, 588.0, 950.0, 3700.0, 1400.0, 300.0, 12250.0, 2500.0, 1600.0, 10900.0, 183.0, 250.0, 600.0, 100.0, 100.0, 1800.0, 2400.0, 150.0, 1850.0, 450.0, 700.0, 30000.0, 1400.0, 800.0, 300.0, 7150.0, 200.0, 2965.0, 400.0, 1147.0, 100.0, 27000.0, 950.0, 250.0, 4500.0, 120.0, 200.0, 400.0, 2550.0, 12667.0, 1333.0, 3700.0, 1500.0, 4450.0, 200.0, 150.0, 683.0, 200.0, 150.0, 500.0, 480.0, 20700.0, 650.0, 950.0, 300.0, 3100.0, 600.0, 12200.0, 6794.0, 650.0, 700.0, 3000.0, 1350.0, 5900.0, 300.0, 90.0, 550.0, 400.0, 50.0, 500.0, 200.0, 1025.0, 150.0, 150.0, 2313.0, 1750.0, 450.0, 1550.0, 50.0, 600.0, 475.0, 30000.0, 350.0, 200.0, 300.0, 75.0, 500.0, 300.0, 4850.0, 550.0, 200.0, 350.0, 750.0, 900.0, 225.0, 27800.0, 900.0, 200.0, 5025.0, 450.0, 550.0, 500.0, 200.0, 2425.0, 10100.0, 1000.0, 100.0, 3600.0, 2963.0, 150.0, 2146.0, 1050.0, 250.0, 2750.0, 5900.0, 5700.0, 850.0, 200.0, 150.0, 150.0, 2100.0, 600.0, 975.0, 600.0, 3800.0, 2500.0, 3300.0, 2950.0, 2800.0, 13250.0, 450.0, 3330.0, 3525.0, 2050.0, 1550.0, 1223.0, 550.0, 6250.0, 1150.0, 1050.0, 350.0, 14550.0, 700.0, 900.0, 200.0, 300.0, 1300.0, 1150.0, 1100.0, 800.0, 575.0, 200.0, 1850.0, 5400.0, 2500.0, 550.0, 450.0, 4575.0, 400.0, 350.0, 6950.0, 183.0, 800.0, 350.0, 22983.0, 600.0, 532.0, 2200.0, 2768.0, 250.0, 1550.0, 400.0, 2700.0, 1500.0, 100.0, 1500.0, 1830.0, 750.0, 800.0, 350.0, 400.0, 50.0, 1075.0, 1200.0, 2150.0, 410.0, 400.0, 300.0, 200.0, 12375.0, 500.0, 1550.0, 1650.0, 350.0, 500.0, 1100.0, 1500.0, 700.0, 500.0, 7700.0, 700.0, 123.0, 550.0, 450.0, 340.0, 100.0, 2600.0, 1996.0, 247.0, 2000.0, 470.0, 396.0, 950.0, 300.0, 767.0, 1846.0, 700.0, 400.0, 1000.0, 367.0, 400.0, 1200.0, 6050.0, 125.0, 3650.0, 500.0, 1075.0, 3450.0, 9750.0, 200.0, 250.0, 400.0, 3200.0, 2225.0, 350.0, 300.0, 300.0, 300.0, 1350.0, 467.0, 450.0, 3450.0, 6100.0, 3500.0, 650.0, 200.0, 800.0, 5500.0, 300.0, 450.0, 550.0, 1350.0, 383.0, 600.0, 5450.0, 2100.0, 300.0, 343.0, 200.0, 7500.0, 4100.0, 4700.0, 600.0, 800.0, 350.0, 400.0, 200.0, 613.0, 700.0, 1000.0, 238.0, 200.0, 1400.0, 1250.0, 550.0, 300.0, 12900.0, 7250.0, 6400.0, 80.0, 250.0, 250.0, 9750.0, 8150.0, 500.0, 650.0, 350.0, 2850.0, 1600.0, 370.0, 200.0, 5300.0, 300.0, 350.0, 450.0, 1000.0, 250.0, 300.0, 600.0, 850.0, 1400.0, 825.0, 400.0, 950.0, 600.0, 200.0, 18050.0, 900.0, 9950.0, 300.0, 300.0, 900.0, 200.0, 950.0, 300.0, 1900.0, 283.0, 143.0, 150.0, 1150.0, 21300.0, 50.0, 300.0, 500.0, 650.0, 1100.0, 325.0, 2238.0, 3200.0, 1200.0, 150.0, 200.0, 600.0, 1575.0, 7550.0, 800.0, 1650.0, 900.0, 750.0, 11400.0, 16050.0, 800.0, 900.0, 1100.0, 550.0, 548.0, 3190.0, 1200.0, 10250.0, 1350.0, 300.0, 13600.0, 1372.0, 100.0, 200.0, 450.0, 8350.0, 100.0, 150.0, 10300.0, 80.0, 2050.0, 750.0, 11850.0, 1750.0, 2200.0, 800.0, 250.0, 800.0, 250.0, 50.0, 230.0, 1450.0, 500.0, 2465.0, 250.0, 800.0, 150.0, 1350.0, 300.0, 375.0, 17600.0, 1452.0, 200.0, 144.0, 400.0, 400.0, 350.0, 150.0, 163.0, 9900.0, 2050.0, 850.0, 19300.0, 350.0, 1400.0, 500.0, 1500.0, 1112.0, 30000.0, 550.0, 910.0, 9000.0, 300.0, 200.0, 600.0, 400.0, 8550.0, 19575.0, 20650.0, 27300.0, 75.0, 1000.0, 150.0, 1323.0, 1600.0, 3680.0, 850.0, 3100.0, 400.0, 150.0, 400.0, 200.0, 20550.0, 230.0, 3450.0, 6025.0, 2000.0, 150.0, 225.0, 1125.0, 800.0, 700.0, 3650.0, 600.0, 30000.0, 100.0, 1700.0, 500.0, 800.0, 2967.0, 1129.0, 300.0, 9167.0, 600.0, 17000.0, 300.0, 400.0, 200.0, 300.0, 500.0, 18550.0, 350.0, 1650.0, 450.0, 200.0, 200.0, 200.0, 100.0, 5250.0, 90.0, 7150.0, 1383.0, 100.0, 350.0, 425.0, 250.0, 1200.0, 300.0, 3211.0, 500.0, 400.0, 1300.0, 650.0, 850.0, 250.0, 800.0, 1100.0, 550.0, 850.0, 3000.0, 517.0, 200.0, 700.0, 3100.0, 1300.0, 400.0, 400.0, 5450.0, 5900.0, 350.0, 16250.0, 800.0, 450.0, 800.0, 30000.0, 800.0, 1150.0, 800.0, 250.0, 6200.0, 550.0, 200.0, 3400.0, 2500.0, 28250.0, 200.0, 5350.0, 500.0, 3675.0, 2650.0, 900.0, 750.0, 8950.0, 200.0, 200.0, 50.0, 2000.0, 1500.0, 250.0, 1133.0, 14250.0, 200.0, 200.0, 2350.0, 300.0, 1250.0, 950.0, 630.0, 156.0, 900.0, 400.0, 400.0, 200.0, 200.0, 1700.0, 4100.0, 2900.0, 1550.0, 1500.0, 800.0, 334.0, 1050.0, 200.0, 4300.0, 100.0, 1250.0, 700.0, 200.0, 1750.0, 117.0, 200.0, 1177.0, 1500.0, 800.0, 500.0, 200.0, 1150.0, 3300.0, 367.0, 6150.0, 400.0, 1050.0, 1500.0, 1300.0, 1250.0, 10500.0, 16700.0, 200.0, 10700.0, 2100.0, 60.0, 2700.0, 1200.0, 150.0, 500.0, 400.0, 1800.0, 1950.0, 22200.0, 223.0, 4950.0, 1350.0, 7150.0, 200.0, 350.0, 300.0, 1900.0, 200.0, 100.0, 3900.0, 200.0, 1000.0, 6200.0, 6200.0, 304.0, 1525.0, 893.0, 8725.0, 250.0, 700.0, 100.0, 9250.0, 465.0, 413.0, 600.0, 2100.0, 1400.0, 200.0, 5300.0, 500.0, 700.0, 500.0, 700.0, 696.0, 400.0, 1400.0, 985.0, 30000.0, 300.0, 3000.0, 50.0, 1600.0, 3000.0, 600.0, 400.0, 800.0, 300.0, 2500.0, 833.0, 2450.0, 600.0, 300.0, 1000.0, 10075.0, 1500.0, 3800.0, 3400.0, 2700.0, 4400.0, 150.0, 470.0, 10400.0, 3000.0, 250.0, 1000.0, 1200.0, 5275.0, 700.0, 450.0, 350.0, 8200.0, 425.0, 600.0, 4450.0, 350.0, 300.0, 550.0, 1500.0, 7850.0, 133.0, 500.0, 300.0, 6700.0, 9550.0, 900.0, 2600.0, 1100.0, 1550.0, 2100.0, 5900.0, 50.0, 700.0, 1600.0, 2650.0, 1883.0, 550.0, 900.0, 400.0, 600.0, 360.0, 550.0, 2100.0, 200.0, 300.0, 375.0, 800.0, 300.0, 150.0, 2050.0, 1100.0, 6200.0, 83.0, 1550.0, 150.0, 300.0, 1400.0, 6700.0, 450.0, 200.0, 500.0, 150.0, 50.0, 300.0, 6200.0, 2500.0, 150.0, 275.0, 1400.0, 17600.0, 850.0, 1200.0, 150.0, 1083.0, 542.0, 9950.0, 775.0, 200.0, 600.0, 300.0, 400.0, 1150.0, 200.0, 1100.0, 1400.0, 8800.0, 1200.0, 5900.0, 200.0, 2017.0, 9750.0, 4350.0, 817.0, 550.0, 2267.0, 733.0, 3000.0, 9400.0, 600.0, 550.0, 3300.0, 13000.0, 6000.0, 550.0, 2100.0, 7050.0, 300.0, 1250.0, 2100.0, 2775.0, 450.0, 3300.0, 1620.0, 700.0, 400.0, 5350.0, 775.0, 3100.0, 114.0, 900.0, 2650.0, 4100.0, 1400.0, 450.0, 800.0, 500.0, 175.0, 300.0, 250.0, 5900.0, 515.0, 100.0, 8000.0, 3650.0, 150.0, 3000.0, 1150.0, 275.0, 5400.0, 600.0, 1000.0, 400.0, 1900.0, 150.0, 550.0, 233.0, 200.0, 300.0, 1200.0, 410.0, 6450.0, 5800.0, 150.0, 1150.0, 400.0, 713.0, 700.0, 1150.0, 150.0, 1350.0, 450.0, 515.0, 1950.0, 250.0, 300.0, 19200.0, 600.0, 150.0, 350.0, 400.0, 1700.0, 1150.0, 1217.0, 450.0, 10600.0, 3200.0, 3000.0, 300.0, 350.0, 3876.0, 4400.0, 800.0, 600.0, 250.0, 400.0, 150.0, 800.0, 150.0, 400.0, 175.0, 800.0, 10950.0, 100.0, 6200.0, 3950.0, 1350.0, 1600.0, 200.0, 100.0, 300.0, 400.0, 1150.0, 1450.0, 1420.0, 600.0, 350.0, 450.0, 250.0, 1700.0, 225.0, 2750.0, 2800.0, 200.0, 250.0, 100.0, 625.0, 300.0, 240.0, 500.0, 1500.0, 1965.0, 1850.0, 20500.0, 312.0, 200.0, 1850.0, 225.0, 30000.0, 1050.0, 4000.0, 453.0, 800.0, 300.0, 9350.0, 2300.0, 1200.0, 100.0, 450.0, 500.0, 1550.0, 1100.0, 12050.0, 300.0, 10350.0, 233.0, 400.0, 125.0, 6750.0, 350.0, 250.0, 300.0, 350.0, 1000.0, 300.0, 550.0, 300.0, 330.0, 14400.0, 150.0, 2300.0, 4219.0, 10350.0, 7800.0, 1900.0, 1450.0, 1100.0, 3200.0, 1550.0, 330.0, 150.0, 100.0, 300.0, 100.0, 1350.0, 650.0, 1000.0, 850.0, 500.0, 1110.0, 450.0, 5700.0, 1400.0, 100.0, 700.0, 2950.0, 700.0, 700.0, 2900.0, 1950.0, 10050.0, 1400.0, 450.0, 1200.0, 200.0, 150.0, 700.0, 650.0, 850.0, 886.0, 150.0, 1400.0, 400.0, 1900.0, 5900.0, 2000.0, 9950.0, 600.0, 450.0, 550.0, 650.0, 200.0, 625.0, 1300.0, 3100.0, 400.0, 8000.0, 1250.0, 5150.0, 5150.0, 19000.0, 1950.0, 600.0, 500.0, 100.0, 900.0, 200.0, 700.0, 300.0, 1600.0, 171.0, 350.0, 2250.0, 1800.0, 700.0, 200.0, 500.0, 514.0, 250.0, 100.0, 5025.0, 300.0, 50.0, 150.0, 300.0, 2775.0, 700.0, 100.0, 2850.0, 700.0, 1200.0, 3450.0, 10900.0, 150.0, 300.0, 263.0, 133.0, 1350.0, 23200.0, 367.0, 100.0, 450.0, 150.0, 2200.0, 25850.0, 1450.0, 650.0, 800.0, 3200.0, 1350.0, 600.0, 300.0, 743.0, 1900.0, 2350.0, 1300.0, 150.0, 400.0, 150.0, 100.0, 200.0, 250.0, 1188.0, 2025.0, 680.0, 1350.0, 1750.0, 1075.0, 30000.0, 500.0, 400.0, 300.0, 2100.0, 767.0, 700.0, 350.0, 600.0, 800.0, 600.0, 500.0, 350.0, 100.0, 400.0, 500.0, 150.0, 1160.0, 400.0, 500.0, 340.0, 1100.0, 350.0, 200.0, 150.0, 350.0, 1100.0, 3000.0, 250.0, 350.0, 200.0, 1400.0, 900.0, 1550.0, 150.0, 28100.0, 350.0, 1400.0, 600.0, 3200.0, 1700.0, 4100.0, 1250.0, 183.0, 1150.0, 2750.0, 100.0, 400.0, 200.0, 1000.0, 100.0, 400.0, 1400.0, 431.0, 100.0, 1550.0, 1050.0, 725.0, 16700.0, 5250.0, 900.0, 1200.0, 250.0, 360.0, 4550.0, 2000.0, 200.0, 17550.0, 600.0, 700.0, 500.0, 2900.0, 300.0, 125.0, 550.0, 2600.0, 500.0, 6050.0, 900.0, 2200.0, 900.0, 650.0, 4000.0, 800.0, 10150.0, 100.0, 250.0, 500.0, 700.0, 1067.0, 300.0, 200.0, 100.0, 350.0, 150.0, 600.0, 1050.0, 300.0, 100.0, 167.0, 800.0, 1600.0, 1400.0, 250.0, 850.0, 150.0, 633.0, 1300.0, 5050.0, 450.0, 375.0, 150.0, 438.0, 400.0, 550.0, 700.0, 500.0, 600.0, 400.0, 350.0, 400.0, 1000.0, 150.0, 300.0, 1850.0, 450.0, 153.0, 600.0, 8400.0, 9900.0, 1170.0, 2200.0, 200.0, 833.0, 150.0, 650.0, 2250.0, 7513.0, 15500.0, 2300.0, 4500.0, 8450.0, 5850.0, 6513.0, 400.0, 500.0, 200.0, 850.0, 2820.0, 13200.0, 2250.0, 1250.0, 200.0, 430.0, 500.0, 200.0, 1100.0, 9800.0, 1800.0, 3050.0, 350.0, 800.0, 14550.0, 2200.0, 250.0, 800.0, 400.0, 8160.0, 175.0, 200.0, 5200.0, 200.0, 12275.0, 450.0, 1000.0, 700.0, 425.0, 3300.0, 5800.0, 450.0, 875.0, 400.0, 200.0, 3300.0, 150.0, 400.0, 1200.0, 300.0, 967.0, 750.0, 250.0, 1400.0, 200.0, 1200.0, 291.0, 800.0, 2500.0, 1350.0, 5300.0, 570.0, 350.0, 10750.0, 250.0, 200.0, 700.0, 500.0, 1100.0, 700.0, 3013.0, 300.0, 200.0, 267.0, 250.0, 500.0, 300.0, 9500.0, 350.0, 100.0, 200.0, 13200.0, 121.0, 2350.0, 200.0, 450.0, 7100.0, 300.0, 800.0, 400.0, 22500.0, 4250.0, 24500.0, 475.0, 1200.0, 954.0, 400.0, 2100.0, 2250.0, 100.0, 100.0, 250.0, 550.0, 550.0, 200.0, 1100.0, 100.0, 5300.0, 150.0, 525.0, 300.0, 400.0, 3500.0, 350.0, 300.0, 350.0, 300.0, 450.0, 1450.0, 900.0, 567.0, 100.0, 2800.0, 500.0, 200.0, 100.0, 100.0, 9600.0, 1400.0, 1750.0, 17200.0, 550.0, 350.0, 400.0, 200.0, 600.0, 650.0, 650.0, 150.0, 900.0, 750.0, 1000.0, 550.0, 600.0, 850.0, 900.0, 400.0, 3000.0, 1200.0, 30000.0, 50.0, 1750.0, 1600.0, 1050.0, 3167.0, 500.0, 550.0, 17100.0, 1350.0, 2350.0, 9850.0, 100.0, 5300.0, 1450.0, 100.0, 1650.0, 1300.0, 350.0, 350.0, 5700.0, 11650.0, 1250.0, 300.0, 413.0, 625.0, 1550.0, 7050.0, 800.0, 900.0, 1900.0, 1850.0, 100.0, 125.0, 1000.0, 150.0, 850.0, 6850.0, 2500.0, 3950.0, 300.0, 100.0, 240.0, 16700.0, 300.0, 1800.0, 240.0, 400.0, 160.0, 400.0, 1400.0, 600.0, 2700.0, 23700.0, 850.0, 1850.0, 600.0, 2200.0, 7600.0, 600.0, 2550.0, 7800.0, 1350.0, 18250.0, 1000.0, 1550.0, 125.0, 650.0, 13400.0, 600.0, 10983.0, 875.0, 850.0, 5925.0, 6700.0, 500.0, 150.0, 483.0, 400.0, 3000.0, 11050.0, 300.0, 1000.0, 200.0, 450.0, 5200.0, 250.0, 250.0, 1000.0, 100.0, 1575.0, 155.0, 5700.0, 1300.0, 700.0, 450.0, 10050.0, 300.0, 100.0, 450.0, 1400.0, 500.0, 250.0, 273.0, 750.0, 282.0, 450.0, 12750.0, 1100.0, 15150.0, 850.0, 7250.0, 700.0, 1800.0, 50.0, 5950.0, 2300.0, 1450.0, 350.0, 300.0, 368.0, 1403.0, 3850.0, 16050.0, 410.0, 7900.0, 200.0, 300.0, 300.0, 400.0, 1500.0, 100.0, 100.0, 500.0, 800.0, 700.0, 2100.0, 1100.0, 150.0, 300.0, 7000.0, 450.0, 1150.0, 275.0, 625.0, 200.0, 350.0, 200.0, 500.0, 600.0, 300.0, 700.0, 600.0, 500.0, 8800.0, 250.0, 1150.0, 240.0, 300.0, 1000.0, 200.0, 30000.0, 950.0, 400.0, 500.0, 2000.0, 250.0, 250.0, 2010.0, 200.0, 750.0, 525.0, 500.0, 300.0, 350.0, 7450.0, 1200.0, 250.0, 200.0, 3700.0, 1400.0, 9100.0, 900.0, 450.0, 400.0, 350.0, 30000.0, 2025.0, 1775.0, 200.0, 100.0, 2000.0, 350.0, 800.0, 1100.0, 1500.0, 1600.0, 150.0, 650.0, 500.0, 150.0, 500.0, 100.0, 400.0, 200.0, 5800.0, 200.0, 1000.0, 1200.0, 400.0, 3200.0, 850.0, 200.0, 1200.0, 500.0, 10250.0, 250.0, 1600.0, 200.0, 600.0, 975.0, 1000.0, 850.0, 140.0, 300.0, 300.0, 300.0, 750.0, 700.0, 250.0, 800.0, 1575.0, 1300.0, 700.0, 350.0, 500.0, 5150.0, 9850.0, 12050.0, 350.0, 350.0, 4000.0, 250.0, 10100.0, 10050.0, 3800.0, 150.0, 300.0, 1100.0, 225.0, 30000.0, 1800.0, 2300.0, 250.0, 650.0, 1657.0, 27100.0, 610.0, 3350.0, 500.0, 3217.0, 850.0, 1150.0, 100.0, 16500.0, 350.0, 500.0, 5700.0, 400.0, 510.0, 400.0, 8900.0, 100.0, 400.0, 600.0, 4800.0, 343.0, 3650.0, 600.0, 300.0, 13150.0, 250.0, 200.0, 125.0, 20325.0, 1350.0, 931.0, 300.0, 500.0, 4200.0, 9850.0, 3000.0, 3800.0, 3550.0, 475.0, 200.0, 150.0, 382.0, 275.0, 225.0, 50.0, 7650.0, 150.0, 350.0, 3350.0, 825.0, 700.0, 19250.0, 20450.0, 14000.0, 494.0, 475.0, 400.0, 200.0, 550.0, 500.0, 3600.0, 450.0, 150.0, 200.0, 29050.0, 250.0, 550.0, 300.0, 200.0, 450.0, 550.0, 3800.0, 6050.0, 1100.0, 400.0, 460.0, 700.0, 1200.0, 350.0, 1850.0, 350.0, 250.0, 375.0, 700.0, 5925.0, 280.0, 600.0, 100.0, 3900.0, 800.0, 925.0, 550.0, 4850.0, 483.0, 150.0, 700.0, 350.0, 300.0, 5550.0, 50.0, 1700.0, 350.0, 400.0, 500.0, 2600.0, 1650.0, 100.0, 150.0, 1500.0, 150.0, 300.0, 2700.0, 24950.0, 136.0, 350.0, 350.0, 650.0, 3550.0, 500.0, 350.0, 1546.0, 150.0, 813.0, 1050.0, 250.0, 550.0, 200.0, 514.0, 100.0, 500.0, 2400.0, 1800.0, 1500.0, 600.0, 400.0, 20900.0, 1150.0, 10650.0, 125.0, 800.0, 2200.0, 400.0, 1750.0, 800.0, 2600.0, 100.0, 2600.0, 2700.0, 9950.0, 1550.0, 700.0, 300.0, 200.0, 200.0, 300.0, 3280.0, 1017.0, 150.0, 800.0, 200.0, 350.0, 300.0, 8800.0, 300.0, 20300.0, 50.0, 700.0, 500.0, 600.0, 350.0, 450.0, 500.0, 200.0, 300.0, 7550.0, 4350.0, 600.0, 2450.0, 22650.0, 100.0, 2900.0, 200.0, 650.0, 850.0, 900.0, 600.0, 500.0, 150.0, 750.0, 350.0, 87.0, 200.0, 100.0, 1100.0, 950.0, 6000.0, 300.0, 345.0, 1050.0, 700.0, 120.0, 18700.0, 650.0, 1250.0, 4267.0, 1050.0, 475.0, 200.0, 7600.0, 16650.0, 600.0, 350.0, 450.0, 150.0, 200.0, 450.0, 1800.0, 6650.0, 700.0, 1850.0, 4900.0, 450.0, 14900.0, 400.0, 350.0, 450.0, 200.0, 600.0, 6100.0, 1350.0, 125.0, 800.0, 300.0, 5550.0, 50.0, 3300.0, 500.0, 175.0, 1870.0, 1700.0, 3300.0, 1400.0, 2700.0, 1300.0, 50.0, 200.0, 300.0, 30000.0, 4200.0, 1400.0, 9900.0, 321.0, 600.0, 1000.0, 200.0, 150.0, 579.0, 450.0, 200.0, 50.0, 900.0, 3080.0, 400.0, 1400.0, 450.0, 200.0, 317.0, 700.0, 300.0, 300.0, 4000.0, 850.0, 50.0, 150.0, 700.0, 950.0, 250.0, 750.0, 550.0, 250.0, 1087.0, 100.0, 1900.0, 100.0, 100.0, 850.0, 2600.0, 1500.0, 650.0, 530.0, 350.0, 100.0, 1700.0, 1000.0, 200.0, 1300.0, 3300.0, 250.0, 3600.0, 150.0, 1600.0, 2650.0, 400.0, 9175.0, 3000.0, 600.0, 4425.0, 1400.0, 400.0, 200.0, 1667.0, 1500.0, 550.0, 575.0, 3100.0, 100.0, 900.0, 550.0, 1550.0, 250.0, 100.0, 150.0, 650.0, 500.0, 9750.0, 400.0, 100.0, 300.0, 215.0, 225.0, 600.0, 513.0, 3450.0, 100.0, 20500.0, 325.0, 1350.0, 200.0, 600.0, 325.0, 966.0, 2000.0, 263.0, 1450.0, 1650.0, 900.0, 200.0, 200.0, 1200.0, 4100.0, 550.0, 300.0, 100.0, 833.0, 900.0, 200.0, 150.0, 700.0, 1150.0, 2900.0, 200.0, 300.0, 431.0, 21700.0, 175.0, 1200.0, 2144.0, 18000.0, 600.0, 400.0, 16750.0, 600.0, 25600.0, 300.0, 1300.0, 250.0, 1350.0, 268.0, 160.0, 4000.0, 750.0, 250.0, 350.0, 1200.0, 200.0, 500.0, 6600.0, 1400.0, 450.0, 250.0, 1200.0, 875.0, 550.0, 600.0, 2450.0, 700.0, 2000.0, 512.0, 700.0, 100.0, 1500.0, 14000.0, 380.0, 11450.0, 4800.0, 4650.0, 10750.0, 19200.0, 150.0, 3500.0, 1230.0, 5200.0, 1200.0, 300.0, 3800.0, 750.0, 18350.0, 450.0, 18650.0, 5600.0, 450.0, 700.0, 400.0, 467.0, 200.0, 482.0, 6500.0, 650.0, 350.0, 600.0, 550.0, 425.0, 750.0, 150.0, 900.0, 5508.0, 200.0, 500.0, 2100.0, 100.0, 2800.0, 600.0, 1300.0, 2800.0, 250.0, 4900.0, 9650.0, 2950.0, 238.0, 2700.0, 200.0, 4050.0, 200.0, 1350.0, 3000.0, 225.0, 19250.0, 1640.0, 600.0, 5900.0, 300.0, 150.0, 925.0, 500.0, 2600.0, 100.0, 3400.0, 413.0, 600.0, 200.0, 400.0, 117.0, 300.0, 85.0, 400.0, 350.0, 15100.0, 300.0, 150.0, 650.0, 850.0, 8750.0, 500.0, 600.0, 1400.0, 200.0, 690.0, 133.0, 950.0, 850.0, 700.0, 18100.0, 6200.0, 250.0, 200.0, 500.0, 260.0, 17100.0, 550.0, 1325.0, 150.0, 1900.0, 200.0, 700.0, 200.0, 500.0, 150.0, 3300.0, 600.0, 1600.0, 200.0, 10100.0, 200.0, 10300.0, 800.0, 300.0, 450.0, 750.0, 250.0, 150.0, 1250.0, 800.0, 7550.0, 2488.0, 5050.0, 250.0, 150.0, 900.0, 450.0, 1000.0, 910.0, 650.0, 700.0, 305.0, 150.0, 17200.0, 350.0, 980.0, 100.0, 800.0, 2375.0, 1550.0, 8500.0, 7811.0, 4300.0, 150.0, 2425.0, 500.0, 400.0, 400.0, 850.0, 100.0, 100.0, 1850.0, 450.0, 1800.0, 3500.0, 900.0, 250.0, 350.0, 1700.0, 20600.0, 1300.0, 500.0, 1250.0, 600.0, 1600.0, 100.0, 3800.0, 150.0, 1500.0, 2200.0, 11200.0, 150.0, 8238.0, 200.0, 900.0, 1200.0, 150.0, 3000.0, 300.0, 450.0, 5200.0, 50.0, 13175.0, 500.0, 21700.0, 117.0, 1900.0, 500.0, 450.0, 100.0, 888.0, 200.0, 450.0, 400.0, 500.0, 620.0, 1450.0, 300.0, 150.0, 100.0, 1000.0, 350.0, 250.0, 750.0, 4300.0, 1650.0, 50.0, 225.0, 1550.0, 1250.0, 250.0, 200.0, 5300.0, 1650.0, 150.0, 1200.0, 400.0, 150.0, 900.0, 300.0, 3000.0, 100.0, 1167.0, 1400.0, 8400.0, 325.0, 450.0, 300.0, 400.0, 400.0, 650.0, 350.0, 550.0, 7850.0, 225.0, 7800.0, 663.0, 700.0, 200.0, 250.0, 200.0, 12700.0, 200.0, 300.0, 850.0, 1250.0, 1500.0, 300.0, 200.0, 1600.0, 1050.0, 2200.0, 2100.0, 400.0, 2225.0, 850.0, 375.0, 11100.0, 1250.0, 2050.0, 900.0, 625.0, 400.0, 1650.0, 200.0, 400.0, 740.0, 232.0, 450.0, 400.0, 400.0, 7050.0, 800.0, 500.0, 1650.0, 800.0, 483.0, 975.0, 300.0, 5800.0, 750.0, 550.0, 30000.0, 390.0, 6400.0, 23900.0, 617.0, 850.0, 400.0, 800.0, 1225.0, 10250.0, 450.0, 1000.0, 300.0, 250.0, 1900.0, 1050.0, 10950.0, 300.0, 367.0, 100.0, 1550.0, 620.0, 5975.0, 2150.0, 400.0, 18000.0, 300.0, 700.0, 1000.0, 800.0, 214.0, 1550.0, 950.0, 2600.0, 3500.0, 483.0, 150.0, 1125.0, 5450.0, 550.0, 1300.0, 317.0, 600.0, 500.0, 533.0, 125.0, 1400.0, 2200.0, 550.0, 120.0, 2300.0, 100.0, 2300.0, 4250.0, 250.0, 300.0, 7050.0, 5150.0, 1100.0, 6700.0, 1617.0, 3000.0, 810.0, 850.0, 1100.0, 5900.0, 400.0, 250.0, 100.0, 10600.0, 500.0, 800.0, 100.0, 1550.0, 4550.0, 300.0, 450.0, 850.0, 1250.0, 250.0, 1700.0, 372.0, 250.0, 1650.0, 400.0, 850.0, 900.0, 950.0, 1300.0, 1600.0, 850.0, 750.0, 1250.0, 11000.0, 250.0, 1649.0, 500.0, 1000.0, 150.0, 633.0, 4000.0, 700.0, 450.0, 250.0, 1632.0, 115.0, 1750.0, 1850.0, 460.0, 5500.0, 5326.0, 650.0, 125.0, 250.0, 300.0, 275.0, 1250.0, 11600.0, 150.0, 3550.0, 8150.0, 650.0, 7300.0, 5700.0, 1100.0, 6500.0, 300.0, 550.0, 2600.0, 23900.0, 125.0, 150.0, 200.0, 925.0, 22050.0, 275.0, 150.0, 133.0, 800.0, 600.0, 500.0, 667.0, 350.0, 8650.0, 350.0, 1130.0, 3250.0, 500.0, 9750.0, 300.0, 600.0, 5750.0, 650.0, 750.0, 3100.0, 3717.0, 1083.0, 425.0, 5100.0, 5850.0, 200.0, 1050.0, 1200.0, 300.0, 350.0, 300.0, 832.0, 200.0, 10350.0, 800.0, 900.0, 2150.0, 6025.0, 350.0, 15200.0, 308.0, 700.0, 200.0, 13950.0, 200.0, 200.0, 600.0, 1700.0, 1275.0, 900.0, 150.0, 350.0, 250.0, 900.0, 300.0, 213.0, 1600.0, 250.0, 3550.0, 200.0, 3075.0, 1575.0, 1150.0, 1284.0, 250.0, 100.0, 7400.0, 300.0, 2600.0, 3550.0, 388.0, 1250.0, 250.0, 300.0, 1088.0, 1850.0, 1250.0, 650.0, 600.0, 200.0, 750.0, 500.0, 200.0, 375.0, 600.0, 850.0, 50.0, 320.0, 1500.0, 1000.0, 200.0, 850.0, 950.0, 200.0, 800.0, 900.0, 200.0, 350.0, 400.0, 150.0, 250.0, 2300.0, 100.0, 1483.0, 10500.0, 18700.0, 750.0, 850.0, 3974.0, 1400.0, 400.0, 1400.0, 133.0, 350.0, 185.0, 925.0, 358.0, 900.0, 3300.0, 950.0, 300.0, 800.0, 820.0, 125.0, 3350.0, 6700.0, 20100.0, 600.0, 1000.0, 5700.0, 11500.0, 6450.0, 1300.0, 800.0, 1500.0, 800.0, 500.0, 900.0, 775.0, 500.0, 8200.0, 900.0, 200.0, 7600.0, 917.0, 1650.0, 1150.0, 225.0, 515.0, 200.0, 950.0, 200.0, 100.0, 700.0, 3150.0, 600.0, 3300.0, 1600.0, 200.0, 450.0, 900.0, 300.0, 450.0, 7500.0, 200.0, 6225.0, 1350.0, 250.0, 500.0, 900.0, 500.0, 585.0, 500.0, 100.0, 3200.0, 150.0, 9400.0, 300.0, 7200.0, 700.0, 500.0, 250.0, 7300.0, 4500.0, 2288.0, 400.0, 1800.0, 250.0, 1050.0, 150.0, 800.0, 500.0, 4000.0, 750.0, 350.0, 900.0, 250.0, 1000.0, 1000.0, 100.0, 150.0, 1900.0, 553.0, 500.0, 2600.0, 933.0, 300.0, 150.0, 250.0, 150.0, 475.0, 400.0, 597.0, 463.0, 8600.0, 300.0, 1267.0, 950.0, 50.0, 300.0, 11450.0, 100.0, 650.0, 5550.0, 400.0, 700.0, 900.0, 200.0, 400.0, 100.0, 400.0, 100.0, 5000.0, 200.0, 1600.0, 270.0, 200.0, 500.0, 500.0, 550.0, 200.0, 18800.0, 450.0, 5200.0, 200.0, 1100.0, 850.0, 2500.0, 150.0, 630.0, 250.0, 800.0, 700.0, 2150.0, 20500.0, 2500.0, 300.0, 1900.0, 350.0, 2867.0, 1150.0, 1050.0, 14950.0, 950.0, 450.0, 700.0, 1450.0, 2400.0, 50.0, 20450.0, 1650.0, 100.0, 1800.0, 3500.0, 900.0, 550.0, 150.0, 550.0, 850.0, 850.0, 3100.0, 185.0, 100.0, 8500.0, 450.0, 950.0, 300.0, 296.0, 14600.0, 300.0, 525.0, 450.0, 950.0, 5650.0, 225.0, 3725.0, 267.0, 600.0, 450.0, 850.0, 1500.0, 1458.0, 8600.0, 3950.0, 2450.0, 125.0, 1300.0, 200.0, 575.0, 800.0, 100.0, 2600.0, 700.0, 1450.0, 200.0, 400.0, 200.0, 3700.0, 523.0, 200.0, 200.0, 150.0, 4650.0, 650.0, 400.0, 1250.0, 3250.0, 22800.0, 2000.0, 10300.0, 15200.0, 333.0, 400.0, 5200.0, 500.0, 8100.0, 1900.0, 525.0, 200.0, 9700.0, 11400.0, 950.0, 105.0, 1050.0, 450.0, 21900.0, 6325.0, 300.0, 400.0, 850.0, 225.0, 1100.0, 1300.0, 600.0, 800.0, 1947.0, 1100.0, 700.0, 30000.0, 6450.0, 15100.0, 900.0, 400.0, 7450.0, 3000.0, 850.0, 6950.0, 200.0, 200.0, 700.0, 575.0, 3400.0, 1000.0, 300.0, 650.0, 2267.0, 300.0, 100.0, 2300.0, 150.0, 200.0, 400.0, 1100.0, 600.0, 350.0, 750.0, 1054.0, 200.0, 500.0, 175.0, 250.0, 350.0, 2850.0, 250.0, 200.0, 1950.0, 350.0, 7700.0, 800.0, 400.0, 890.0, 500.0, 3200.0, 500.0, 200.0, 5380.0, 225.0, 150.0, 257.0, 600.0, 567.0, 5250.0, 150.0, 600.0, 2250.0, 250.0, 1150.0, 525.0, 1450.0, 150.0, 400.0, 200.0, 300.0, 225.0, 150.0, 1600.0, 250.0, 23975.0, 250.0, 435.0, 1700.0, 3500.0, 1100.0, 4105.0, 400.0, 100.0, 1025.0, 850.0, 400.0, 467.0, 600.0, 1550.0, 650.0, 900.0, 83.0, 3600.0, 900.0, 230.0, 700.0, 21400.0, 150.0, 1425.0, 150.0, 14300.0, 300.0, 16950.0, 6050.0, 1550.0, 800.0, 200.0, 1300.0, 950.0, 30000.0, 650.0, 550.0, 500.0, 500.0, 1450.0, 100.0, 50.0, 1050.0, 12150.0, 500.0, 4600.0, 125.0, 300.0, 1850.0, 2800.0, 1700.0, 25500.0, 200.0, 600.0, 280.0, 450.0, 4450.0, 550.0, 600.0, 215.0, 900.0, 1500.0, 1450.0, 150.0, 2700.0, 390.0, 350.0, 150.0, 1000.0, 5400.0, 792.0, 650.0, 120.0, 1400.0, 12100.0, 300.0, 553.0, 850.0, 100.0, 575.0, 450.0, 2350.0, 850.0, 100.0, 500.0, 200.0, 100.0, 225.0, 2300.0, 1000.0, 1017.0, 600.0, 1250.0, 300.0, 200.0, 2250.0, 1050.0, 611.0, 3900.0, 100.0, 300.0, 1000.0, 200.0, 200.0, 300.0, 1100.0, 200.0, 1500.0, 650.0, 1350.0, 457.0, 300.0, 1300.0, 850.0, 90.0, 6850.0, 250.0, 475.0, 3350.0, 167.0, 900.0, 11700.0, 500.0, 115.0, 250.0, 2800.0, 300.0, 1500.0, 300.0, 316.0, 7400.0, 350.0, 8000.0, 5300.0, 500.0, 3400.0, 117.0, 710.0, 150.0, 12000.0, 800.0, 1875.0, 400.0, 500.0, 433.0, 200.0, 10050.0, 2000.0, 800.0, 2600.0, 750.0, 90.0, 1523.0, 1250.0, 125.0, 300.0, 14500.0, 300.0, 1150.0, 1300.0, 300.0, 300.0, 6500.0, 6800.0, 300.0, 4000.0, 3000.0, 3900.0, 150.0, 150.0, 250.0, 1525.0, 4800.0, 1275.0, 6450.0, 1850.0, 1200.0, 800.0, 500.0, 1600.0, 400.0, 950.0, 300.0, 220.0, 125.0, 700.0, 150.0, 750.0, 6050.0, 900.0, 300.0, 50.0, 1800.0, 8550.0, 1250.0, 1450.0, 100.0, 350.0, 450.0, 100.0, 150.0, 5900.0, 401.0, 2500.0, 1178.0, 200.0, 400.0, 287.0, 1000.0, 500.0, 190.0, 11763.0, 100.0, 1000.0, 750.0, 3350.0, 65.0, 1800.0, 1400.0, 16400.0, 600.0, 4450.0, 2500.0, 4250.0, 600.0, 900.0, 2450.0, 2000.0, 750.0, 2841.0, 400.0, 5400.0, 350.0, 10500.0, 100.0, 200.0, 767.0, 5800.0, 11325.0, 250.0, 550.0, 1050.0, 700.0, 4025.0, 600.0, 30000.0, 2600.0, 2350.0, 150.0, 1633.0, 300.0, 7900.0, 1475.0, 500.0, 9200.0, 700.0, 475.0, 5350.0, 260.0, 800.0, 300.0, 200.0, 10700.0, 300.0, 4750.0, 675.0, 375.0, 500.0, 200.0, 3200.0, 11575.0, 625.0, 9400.0, 500.0, 200.0, 3800.0, 5600.0, 450.0, 400.0, 1850.0, 350.0, 900.0, 400.0, 1400.0, 450.0, 528.0, 1850.0, 700.0, 300.0, 183.0, 1150.0, 50.0, 400.0, 4900.0, 100.0, 1000.0, 600.0, 200.0, 1000.0, 200.0, 1400.0, 850.0, 850.0, 550.0, 441.0, 5500.0, 150.0, 450.0, 10850.0, 13000.0, 850.0, 1700.0, 870.0, 12700.0, 1900.0, 150.0, 825.0, 183.0, 400.0, 1000.0, 1600.0, 2800.0, 2500.0, 200.0, 4433.0, 225.0, 900.0, 2100.0, 300.0, 200.0, 2950.0, 387.0, 350.0, 500.0, 2700.0, 100.0, 640.0, 600.0, 248.0, 2075.0, 1700.0, 4765.0, 14250.0, 15200.0, 14350.0, 1250.0, 400.0, 150.0, 300.0, 650.0, 150.0, 2300.0, 1500.0, 575.0, 250.0, 1950.0, 1050.0, 675.0, 2000.0, 200.0, 4200.0, 225.0, 1500.0, 750.0, 1500.0, 3100.0, 750.0, 1400.0, 200.0, 250.0, 150.0, 2100.0, 100.0, 400.0, 167.0, 550.0, 200.0, 7750.0, 1940.0, 5700.0, 200.0, 300.0, 800.0, 175.0, 450.0, 575.0, 2150.0, 90.0, 800.0, 750.0, 350.0, 200.0, 4625.0, 150.0, 600.0, 400.0, 1500.0, 3050.0, 2950.0, 250.0, 533.0, 4050.0, 225.0, 350.0, 150.0, 70.0, 500.0, 1050.0, 200.0, 6400.0, 1200.0, 900.0, 1750.0, 2300.0, 200.0, 200.0, 500.0, 300.0, 650.0, 1100.0, 1300.0, 14100.0, 200.0, 4100.0, 880.0, 100.0, 4633.0, 1374.0, 500.0, 4800.0, 650.0, 16000.0, 12800.0, 2400.0, 300.0, 900.0, 2000.0, 1500.0, 8800.0, 1100.0, 2069.0, 2550.0, 21400.0, 200.0, 100.0, 2850.0, 18050.0, 2550.0, 1600.0, 600.0, 850.0, 1400.0, 600.0, 1350.0, 4600.0, 100.0, 350.0, 100.0, 2300.0, 2750.0, 400.0, 300.0, 400.0, 800.0, 5700.0, 2150.0, 500.0, 1300.0, 900.0, 100.0, 1100.0, 1500.0, 6050.0, 550.0, 200.0, 550.0, 6150.0, 3800.0, 9133.0, 600.0, 3000.0, 1950.0, 250.0, 100.0, 1150.0, 100.0, 3750.0, 650.0, 200.0, 50.0, 150.0, 600.0, 500.0, 400.0, 1750.0, 100.0, 3800.0, 1150.0, 3300.0, 150.0, 1150.0, 250.0, 150.0, 400.0, 300.0, 300.0, 800.0, 200.0, 200.0, 2350.0, 12500.0, 300.0, 350.0, 500.0, 8600.0, 1000.0, 200.0, 350.0, 300.0, 20200.0, 12050.0, 800.0, 450.0, 1150.0, 150.0, 2000.0, 300.0, 310.0, 1075.0, 275.0, 13100.0, 150.0, 850.0, 325.0, 552.0, 100.0, 200.0, 150.0, 1250.0, 442.0, 500.0, 8250.0, 3000.0, 4517.0, 950.0, 150.0, 29100.0, 5250.0, 150.0, 150.0, 6600.0, 1200.0, 625.0, 300.0, 200.0, 2400.0, 8450.0, 613.0, 6150.0, 1150.0, 1354.0, 300.0, 800.0, 271.0, 1600.0, 300.0, 6000.0, 700.0, 14300.0, 250.0, 1500.0, 1250.0, 1000.0, 100.0, 1000.0, 2350.0, 3012.0, 200.0, 950.0, 650.0, 2700.0, 472.0, 900.0, 2450.0, 5850.0, 1950.0, 200.0, 400.0, 800.0, 650.0, 100.0, 100.0, 1500.0, 10350.0, 625.0, 20800.0, 2200.0, 7000.0, 6400.0, 11500.0, 4000.0, 1750.0, 150.0, 1500.0, 2690.0, 4100.0, 11450.0, 300.0, 350.0, 1550.0, 50.0, 500.0, 15150.0, 250.0, 850.0, 163.0, 11950.0, 500.0, 900.0, 14600.0, 100.0, 275.0, 1250.0, 650.0, 1600.0, 700.0, 200.0, 650.0, 1600.0, 600.0, 5450.0, 300.0, 3550.0, 3200.0, 750.0, 5550.0, 9950.0, 468.0, 250.0, 12600.0, 100.0, 2450.0, 300.0, 100.0, 200.0, 1750.0, 200.0, 1550.0, 1900.0, 300.0, 400.0, 150.0, 700.0, 1000.0, 2490.0, 1600.0, 300.0, 2325.0, 150.0, 10450.0, 767.0, 400.0, 525.0, 300.0, 50.0, 550.0, 500.0, 17250.0, 550.0, 2550.0, 350.0, 250.0, 300.0, 8750.0, 19600.0, 150.0, 4300.0, 1000.0, 400.0, 5950.0, 300.0, 8150.0, 2300.0, 16350.0, 100.0, 300.0, 200.0, 450.0, 450.0, 800.0, 5650.0, 80.0, 30000.0, 300.0, 9050.0, 390.0, 350.0, 107.0, 500.0, 300.0, 200.0, 250.0, 1050.0, 1500.0, 500.0, 400.0, 500.0, 950.0, 320.0, 250.0, 200.0, 1750.0, 950.0, 13900.0, 350.0, 200.0, 200.0, 2400.0, 150.0, 4050.0, 806.0, 550.0, 6122.0, 300.0, 175.0, 5000.0, 1150.0, 100.0, 225.0, 550.0, 570.0, 1250.0, 3875.0, 400.0, 300.0, 50.0, 4175.0, 1000.0, 5000.0, 8100.0, 200.0, 117.0, 350.0, 700.0, 375.0, 1400.0, 150.0, 1175.0, 1063.0, 100.0, 800.0, 180.0, 450.0, 1800.0, 15600.0, 3700.0, 300.0, 2450.0, 400.0, 1400.0, 750.0, 500.0, 450.0, 3775.0, 1050.0, 3510.0, 350.0, 200.0, 925.0, 667.0, 475.0, 800.0, 600.0, 600.0, 4300.0, 150.0, 500.0, 500.0, 2800.0, 5900.0, 400.0, 167.0, 18900.0, 4650.0, 650.0, 12600.0, 500.0, 11400.0, 1500.0, 200.0, 550.0, 3200.0, 100.0, 200.0, 3300.0, 50.0, 3150.0, 500.0, 550.0, 250.0, 2700.0, 800.0, 50.0, 2300.0, 200.0, 500.0, 100.0, 75.0, 607.0, 900.0, 3000.0, 200.0, 883.0, 425.0, 300.0, 1500.0, 100.0, 13600.0, 500.0, 650.0, 1450.0, 600.0, 450.0, 185.0, 700.0, 280.0, 1250.0, 250.0, 300.0, 150.0, 1000.0, 100.0, 400.0, 50.0, 2400.0, 5455.0, 700.0, 2300.0, 775.0, 75.0, 250.0, 1500.0, 483.0, 150.0, 100.0, 700.0, 15400.0, 1300.0, 1525.0, 1117.0, 850.0, 200.0, 150.0, 6100.0, 500.0, 200.0, 100.0, 50.0, 400.0, 4000.0, 900.0, 333.0, 325.0, 100.0, 650.0, 566.0, 8050.0, 262.0, 398.0, 100.0, 10100.0, 550.0, 300.0, 475.0, 6250.0, 200.0, 1600.0, 3633.0, 346.0, 4000.0, 800.0, 550.0, 600.0, 550.0, 425.0, 2600.0, 850.0, 600.0, 1050.0, 1700.0, 475.0, 650.0, 2117.0, 258.0, 267.0, 500.0, 2000.0, 100.0, 600.0, 150.0, 1133.0, 100.0, 500.0, 500.0, 90.0, 2450.0, 600.0, 600.0, 1200.0, 450.0, 550.0, 200.0, 653.0, 550.0, 1350.0, 1417.0, 265.0, 5000.0, 750.0, 700.0, 666.0, 600.0, 50.0, 30000.0, 175.0, 1400.0, 544.0, 2300.0, 7950.0, 550.0, 600.0, 1625.0, 500.0, 30000.0, 150.0, 23500.0, 50.0, 1900.0, 6250.0, 200.0, 750.0, 450.0, 700.0, 1200.0, 300.0, 400.0, 1400.0, 11017.0, 1500.0, 400.0, 300.0, 150.0, 800.0, 100.0, 6500.0, 200.0, 350.0, 900.0, 4850.0, 150.0, 2400.0, 1150.0, 4750.0, 15400.0, 1250.0, 650.0, 250.0, 400.0, 150.0, 600.0, 600.0, 800.0, 150.0, 7450.0, 875.0, 200.0, 1600.0, 1000.0, 500.0, 200.0, 3250.0, 5900.0, 200.0, 500.0, 14200.0, 513.0, 7250.0, 2197.0, 900.0, 1150.0, 850.0, 650.0, 1175.0, 850.0, 700.0, 1100.0, 850.0, 350.0, 100.0, 1250.0, 1250.0, 150.0, 100.0, 8900.0, 800.0, 150.0, 5850.0, 3600.0, 600.0, 1225.0, 22200.0, 2583.0, 400.0, 1450.0, 500.0, 5700.0, 5400.0, 6350.0, 8875.0, 150.0, 950.0, 200.0, 125.0, 50.0, 725.0, 300.0, 200.0, 1900.0, 350.0, 583.0, 350.0, 300.0, 10000.0, 300.0, 500.0, 514.0, 650.0, 3725.0, 510.0, 26100.0, 3500.0, 1833.0, 451.0, 1643.0, 2500.0, 500.0, 3600.0, 350.0, 450.0, 1100.0, 400.0, 2400.0, 3350.0, 950.0, 1020.0, 2800.0, 3050.0, 150.0, 100.0, 6050.0, 350.0, 11025.0, 260.0, 850.0, 18850.0, 1100.0, 400.0, 450.0, 200.0, 500.0, 3000.0, 750.0, 350.0, 3128.0, 200.0, 850.0, 850.0, 300.0, 1000.0, 975.0, 950.0, 1250.0, 1300.0, 350.0, 1700.0, 550.0, 7050.0, 500.0, 275.0, 200.0, 550.0, 350.0, 1750.0, 300.0, 417.0, 900.0, 200.0, 6150.0, 9800.0, 317.0, 1367.0, 4150.0, 538.0, 250.0, 200.0, 11900.0, 100.0, 95.0, 150.0, 6000.0, 8400.0, 130.0, 567.0, 2000.0, 300.0, 1100.0, 200.0, 200.0, 467.0, 250.0, 700.0, 14700.0, 800.0, 1450.0, 1250.0, 200.0, 2100.0, 225.0, 700.0, 550.0, 750.0, 250.0, 1900.0, 2650.0, 700.0, 150.0, 200.0, 100.0, 600.0, 1900.0, 1900.0, 433.0, 1600.0, 550.0, 235.0, 4300.0, 50.0, 1350.0, 550.0, 200.0, 378.0, 3566.0, 200.0, 1150.0, 150.0, 950.0, 350.0, 100.0, 1250.0, 2400.0, 1600.0, 11517.0, 2100.0, 2350.0, 500.0, 305.0, 350.0, 450.0, 12950.0, 9850.0, 1250.0, 250.0, 1200.0, 550.0, 2550.0, 2200.0, 150.0, 3100.0, 1800.0, 2200.0, 1000.0, 14100.0, 100.0, 9125.0, 250.0, 11350.0, 1005.0, 250.0, 133.0, 1000.0, 13250.0, 1200.0, 150.0, 644.0, 1100.0, 4800.0, 300.0, 550.0, 98.0, 30000.0, 263.0, 600.0, 460.0, 50.0, 600.0, 1250.0, 300.0, 5700.0, 100.0, 950.0, 250.0, 1225.0, 200.0, 1600.0, 10050.0, 200.0, 15750.0, 400.0, 400.0, 250.0, 2500.0, 2250.0, 1150.0, 400.0, 975.0, 2800.0, 200.0, 350.0, 150.0, 283.0, 250.0, 200.0, 300.0, 250.0, 150.0, 933.0, 325.0, 700.0, 400.0, 150.0, 400.0, 100.0, 1800.0, 1450.0, 1350.0, 400.0, 1850.0, 500.0, 550.0, 250.0, 2300.0, 300.0, 1008.0, 425.0, 6400.0, 963.0, 367.0, 325.0, 926.0, 400.0, 300.0, 7050.0, 1300.0, 1400.0, 21700.0, 600.0, 500.0, 300.0, 250.0, 800.0, 100.0, 1250.0, 500.0, 500.0, 300.0, 2550.0, 850.0, 200.0, 850.0, 2800.0, 358.0, 400.0, 328.0, 7700.0, 850.0, 200.0, 300.0, 100.0, 350.0, 1700.0, 600.0, 1000.0, 1800.0, 150.0, 9025.0, 400.0, 1400.0, 150.0, 200.0, 300.0, 281.0, 3300.0, 2500.0, 975.0, 3000.0, 1000.0, 500.0, 275.0, 24200.0, 400.0, 25000.0, 1136.0, 300.0, 1650.0, 18800.0, 300.0, 450.0, 3100.0, 4975.0, 3400.0, 2150.0, 1300.0, 875.0, 600.0, 1650.0, 200.0, 900.0, 700.0, 250.0, 6750.0, 150.0, 100.0, 1100.0, 1250.0, 12000.0, 700.0, 150.0, 500.0, 3800.0, 933.0, 11100.0, 30000.0, 3950.0, 13900.0, 250.0, 150.0, 550.0, 3300.0, 1200.0, 2500.0, 400.0, 650.0, 11150.0, 200.0, 760.0, 300.0, 600.0, 1900.0, 200.0, 250.0, 525.0, 22750.0, 2300.0, 5750.0, 950.0, 650.0, 5300.0, 200.0, 350.0, 16125.0, 650.0, 375.0, 6350.0, 600.0, 1400.0, 1000.0, 725.0, 700.0, 2000.0, 6100.0, 400.0, 7975.0, 1500.0, 150.0, 5250.0, 150.0, 350.0, 1200.0, 150.0, 150.0, 20800.0, 200.0, 3900.0, 75.0, 30000.0, 2200.0, 300.0, 400.0, 500.0, 700.0, 800.0, 200.0, 13150.0, 420.0, 200.0, 5193.0, 500.0, 600.0, 1000.0, 18800.0, 900.0, 1950.0, 1900.0, 2500.0, 9200.0, 650.0, 1550.0, 1700.0, 6100.0, 1500.0, 700.0, 850.0, 550.0, 7100.0, 2750.0, 300.0, 2000.0, 2920.0, 800.0, 541.0, 450.0, 500.0, 5400.0, 10000.0, 1350.0, 2550.0, 1250.0, 200.0, 500.0, 700.0, 250.0, 2000.0, 800.0, 300.0, 650.0, 1400.0, 2150.0, 600.0, 100.0, 515.0, 30000.0, 1200.0, 150.0, 3550.0, 100.0, 1150.0, 475.0, 150.0, 4150.0, 350.0, 350.0, 200.0, 10200.0, 1550.0, 100.0, 30000.0, 2700.0, 1250.0, 250.0, 1150.0, 3100.0, 4000.0, 200.0, 275.0, 200.0, 1000.0, 2300.0, 1000.0, 525.0, 500.0, 9250.0, 11900.0, 650.0, 400.0, 550.0, 536.0, 400.0, 600.0, 200.0, 2400.0, 100.0, 1100.0, 400.0, 300.0, 200.0, 300.0, 150.0, 1050.0, 800.0, 6738.0, 450.0, 100.0, 5200.0, 200.0, 350.0, 400.0, 2550.0, 200.0, 750.0, 300.0, 2000.0, 4225.0, 3900.0, 2700.0, 3700.0, 25800.0, 100.0, 1904.0, 4900.0, 1850.0, 450.0, 1150.0, 1700.0, 5300.0, 750.0, 2300.0, 890.0, 500.0, 700.0, 500.0, 1500.0, 500.0, 1650.0, 1000.0, 641.0, 300.0, 450.0, 2800.0, 13050.0, 350.0, 1813.0, 447.0, 100.0, 3150.0, 15100.0, 900.0, 500.0, 4540.0, 1250.0, 800.0, 517.0, 175.0, 1200.0, 3450.0, 350.0, 4300.0, 325.0, 6750.0, 3350.0, 200.0, 550.0, 2000.0, 850.0, 150.0, 6050.0, 150.0, 800.0, 250.0, 163.0, 400.0, 100.0, 2800.0, 3000.0, 800.0, 4150.0, 400.0, 3550.0, 450.0, 250.0, 200.0, 2200.0, 600.0, 671.0, 900.0, 600.0, 200.0, 400.0, 1725.0, 50.0, 700.0, 10750.0, 14050.0, 350.0, 2450.0, 150.0, 150.0, 188.0, 10750.0, 500.0, 700.0, 150.0, 267.0, 350.0, 12300.0, 250.0, 150.0, 2100.0, 150.0, 300.0, 808.0, 850.0, 550.0, 200.0, 375.0, 275.0, 200.0, 799.0, 1436.0, 5850.0, 700.0, 1025.0, 4900.0, 150.0, 750.0, 1000.0, 850.0, 850.0, 3900.0, 650.0, 500.0, 450.0, 150.0, 1133.0, 850.0, 175.0, 200.0, 6400.0, 500.0, 600.0, 100.0, 100.0, 3050.0, 500.0, 4150.0, 200.0, 2174.0, 200.0, 3400.0, 300.0, 1000.0, 950.0, 900.0, 550.0, 1200.0, 225.0, 3000.0, 500.0, 650.0, 400.0, 200.0, 200.0, 150.0, 16600.0, 100.0, 1375.0, 575.0, 150.0, 500.0, 12550.0, 3500.0, 500.0, 150.0, 600.0, 200.0, 600.0, 100.0, 1600.0, 5000.0, 650.0, 1150.0, 300.0, 350.0, 500.0, 200.0, 525.0, 100.0, 150.0, 483.0, 517.0, 10000.0, 200.0, 300.0, 600.0, 7100.0, 273.0, 13100.0, 300.0, 2350.0, 102.0, 6100.0, 1300.0, 200.0, 500.0, 8000.0, 2850.0, 350.0, 300.0, 1775.0, 1400.0, 4550.0, 13900.0, 483.0, 200.0, 200.0, 150.0, 2950.0, 350.0, 2300.0, 12050.0, 286.0, 2033.0, 20500.0, 983.0, 300.0, 1000.0, 500.0, 400.0, 650.0, 600.0, 600.0, 250.0, 500.0, 250.0, 5100.0, 2700.0, 1200.0, 300.0, 210.0, 200.0, 1400.0, 16150.0, 300.0, 3050.0, 4000.0, 257.0, 3150.0, 4100.0, 4450.0, 200.0, 1500.0, 700.0, 50.0, 725.0, 9900.0, 250.0, 1225.0, 2600.0, 950.0, 500.0, 300.0, 9400.0, 800.0, 1200.0, 2000.0, 6550.0, 1700.0, 1500.0, 1200.0, 450.0, 200.0, 1075.0, 200.0, 800.0, 4650.0, 19300.0, 500.0, 450.0, 5400.0, 200.0, 550.0, 250.0, 400.0, 3000.0, 19100.0, 14800.0, 1800.0, 4300.0, 8500.0, 917.0, 600.0, 600.0, 433.0, 1750.0, 1000.0, 167.0, 400.0, 7950.0, 50.0, 450.0, 150.0, 5453.0, 20900.0, 1075.0, 500.0, 6050.0, 175.0, 1100.0, 300.0, 6700.0, 183.0, 1000.0, 1150.0, 300.0, 500.0, 1700.0, 1700.0, 4100.0, 250.0, 707.0, 5950.0, 550.0, 1200.0, 4500.0, 12783.0, 5417.0, 16333.0, 190.0, 2950.0, 26950.0, 900.0, 400.0, 5200.0, 4450.0, 250.0, 900.0, 850.0, 800.0, 1100.0, 850.0, 200.0, 263.0, 1550.0, 350.0, 1875.0, 300.0, 300.0, 1400.0, 1550.0, 2400.0, 239.0, 10700.0, 200.0, 1250.0, 2133.0, 200.0, 26500.0, 1250.0, 1750.0, 250.0, 1900.0, 900.0, 1900.0, 800.0, 100.0, 1100.0, 650.0, 5650.0, 225.0, 5600.0, 600.0, 1300.0, 8550.0, 2550.0, 1000.0, 1000.0, 1300.0, 11300.0, 5900.0, 183.0, 250.0, 200.0, 4400.0, 2400.0, 700.0, 150.0, 1050.0, 333.0, 2000.0, 217.0, 10800.0, 385.0, 12500.0, 3000.0, 800.0, 5200.0, 50.0, 15800.0, 150.0, 200.0, 550.0, 975.0, 600.0, 717.0, 650.0, 100.0, 1900.0, 1700.0, 300.0, 600.0, 767.0, 100.0, 3500.0, 1700.0, 1250.0, 400.0, 255.0, 1500.0, 100.0, 150.0, 250.0, 225.0, 450.0, 8600.0, 17050.0, 900.0, 400.0, 1500.0, 200.0, 250.0, 600.0, 110.0, 9100.0, 200.0, 900.0, 528.0, 1000.0, 2000.0, 150.0, 4000.0, 2400.0, 800.0, 275.0, 1000.0, 300.0, 1125.0, 2200.0, 650.0, 1050.0, 2250.0, 8600.0, 1375.0, 600.0, 100.0, 500.0, 550.0, 278.0, 100.0, 150.0, 200.0, 500.0, 450.0, 350.0, 1300.0, 450.0, 18850.0, 1250.0, 1150.0, 4450.0, 300.0, 9250.0, 1450.0, 1600.0, 400.0, 167.0, 700.0, 750.0, 300.0, 23000.0, 300.0, 500.0, 675.0, 1100.0, 225.0, 500.0, 750.0, 100.0, 650.0, 300.0, 50.0, 3525.0, 9050.0, 3550.0, 283.0, 17000.0, 1800.0, 250.0, 20450.0, 250.0, 450.0, 150.0, 120.0, 600.0, 400.0, 2300.0, 20450.0, 580.0, 30000.0, 2275.0, 150.0, 600.0, 1750.0, 1600.0, 200.0, 1100.0, 400.0, 1650.0, 150.0, 250.0, 150.0, 400.0, 200.0, 250.0, 150.0, 6317.0, 200.0, 850.0, 8200.0, 1450.0, 100.0, 200.0, 6200.0, 200.0, 50.0, 1500.0, 200.0, 300.0, 183.0, 700.0, 2350.0, 250.0, 300.0, 442.0, 3100.0, 300.0, 1000.0, 14000.0, 1950.0, 300.0, 500.0, 400.0, 1300.0, 800.0, 1100.0, 15700.0, 1000.0, 16550.0, 4200.0, 400.0, 700.0, 150.0, 300.0, 440.0, 700.0, 150.0, 4050.0, 180.0, 350.0, 1100.0, 900.0, 308.0, 150.0, 200.0, 300.0, 100.0, 1500.0, 4100.0, 400.0, 500.0, 50.0, 850.0, 150.0, 250.0, 600.0, 700.0, 6150.0, 1700.0, 6150.0, 200.0, 150.0, 167.0, 700.0, 300.0, 550.0, 2478.0, 850.0, 200.0, 1300.0, 1000.0, 550.0, 600.0, 200.0, 200.0, 175.0, 100.0, 5300.0, 200.0, 4220.0, 250.0, 350.0, 600.0, 250.0, 300.0, 3785.0, 8656.0, 350.0, 7050.0, 500.0, 1300.0, 1550.0, 11600.0, 350.0, 300.0, 975.0, 821.0, 16150.0, 110.0, 1100.0, 523.0, 3100.0, 1250.0, 450.0, 400.0, 250.0, 650.0, 1700.0, 2300.0, 400.0, 800.0, 500.0, 1125.0, 400.0, 1167.0, 8050.0, 150.0, 16050.0, 833.0, 1450.0, 1100.0, 850.0, 500.0, 1350.0, 600.0, 4900.0, 13050.0, 958.0, 100.0, 13800.0, 300.0, 600.0, 330.0, 2500.0, 200.0, 150.0, 750.0, 750.0, 1614.0, 9050.0, 850.0, 5333.0, 500.0, 600.0, 16150.0, 240.0, 550.0, 2050.0, 200.0, 750.0, 200.0, 300.0, 1850.0, 400.0, 100.0, 800.0, 50.0, 3400.0, 750.0, 23500.0, 2350.0, 1470.0, 500.0, 1225.0, 1100.0, 500.0, 300.0, 4400.0, 575.0, 12100.0, 800.0, 150.0, 300.0, 2738.0, 542.0, 150.0, 1850.0, 250.0, 1200.0, 550.0, 9350.0, 2700.0, 650.0, 900.0, 964.0, 245.0, 989.0, 2000.0, 4800.0, 650.0, 11825.0, 500.0, 500.0, 1500.0, 3250.0, 100.0, 2250.0, 150.0, 150.0, 850.0, 2900.0, 1550.0, 1800.0, 2500.0, 300.0, 4850.0, 1200.0, 1050.0, 3175.0, 425.0, 2500.0, 1050.0, 265.0, 200.0, 500.0, 200.0, 4000.0, 700.0, 550.0, 400.0, 150.0, 6300.0, 9150.0, 400.0, 1154.0, 3175.0, 16850.0, 100.0, 2000.0, 1600.0, 2500.0, 4300.0, 1200.0, 650.0, 150.0, 10750.0, 1850.0, 16900.0, 11000.0, 550.0, 1600.0, 6800.0, 350.0, 200.0, 1600.0, 750.0, 9800.0, 1200.0, 600.0, 343.0, 600.0, 115.0, 500.0, 330.0, 8150.0, 150.0, 290.0, 200.0, 1350.0, 500.0, 1900.0, 1850.0, 700.0, 300.0, 100.0, 1450.0, 100.0, 4400.0, 150.0, 100.0, 6250.0, 1450.0, 1050.0, 400.0, 400.0, 347.0, 11050.0, 950.0, 150.0, 12500.0, 725.0, 300.0, 2050.0, 1150.0, 2127.0, 200.0, 450.0, 650.0, 400.0, 184.0, 1200.0, 133.0, 150.0, 14400.0, 1550.0, 500.0, 350.0, 150.0, 350.0, 300.0, 200.0, 767.0, 679.0, 5100.0, 1800.0, 100.0, 1500.0, 500.0, 500.0, 400.0, 100.0, 150.0, 1100.0, 300.0, 200.0, 800.0, 2600.0, 1800.0, 300.0, 650.0, 300.0, 1100.0, 200.0, 100.0, 350.0, 625.0, 150.0, 1300.0, 875.0, 860.0, 150.0, 550.0, 8100.0, 800.0, 550.0, 450.0, 6950.0, 1133.0, 2100.0, 13250.0, 6900.0, 180.0, 600.0, 200.0, 1400.0, 6050.0, 400.0, 200.0, 2450.0, 1100.0, 1825.0, 8050.0, 650.0, 500.0, 500.0, 400.0, 700.0, 500.0, 600.0, 50.0, 600.0, 300.0, 8800.0, 575.0, 200.0, 600.0, 6650.0, 800.0, 4475.0, 600.0, 1050.0, 2950.0, 1200.0, 2150.0, 400.0, 6950.0, 50.0, 500.0, 547.0, 800.0, 550.0, 300.0, 4900.0, 265.0, 1350.0, 1575.0, 400.0, 800.0, 19200.0, 4300.0, 500.0, 450.0, 12000.0, 500.0, 1800.0, 150.0, 900.0, 550.0, 700.0, 600.0, 700.0, 375.0, 850.0, 900.0, 0.0, 950.0, 145.0, 4500.0, 1900.0, 1167.0, 3050.0, 900.0, 7500.0, 550.0, 100.0, 350.0, 2550.0, 7850.0, 16750.0, 150.0, 500.0, 2850.0, 7000.0, 1500.0, 550.0, 200.0, 150.0, 1600.0, 1400.0, 450.0, 900.0, 300.0, 286.0, 150.0, 700.0, 150.0, 200.0, 400.0, 6100.0, 433.0, 9950.0, 4800.0, 800.0, 2500.0, 7850.0, 200.0, 150.0, 400.0, 538.0, 150.0, 150.0, 1425.0, 900.0, 6000.0, 200.0, 100.0, 200.0, 1400.0, 147.0, 500.0, 650.0, 3500.0, 625.0, 1950.0, 7000.0, 200.0, 100.0, 2483.0, 8700.0, 500.0, 750.0, 7000.0, 400.0, 1300.0, 100.0, 800.0, 325.0, 2800.0, 900.0, 300.0, 2250.0, 450.0, 1700.0, 300.0, 300.0, 1700.0, 7300.0, 400.0, 550.0, 2450.0, 150.0, 400.0, 1950.0, 15400.0, 2050.0, 425.0, 150.0, 6970.0, 11113.0, 700.0, 7550.0, 140.0, 3213.0, 1050.0, 30000.0, 175.0, 2000.0, 700.0, 8100.0, 2350.0, 1450.0, 5450.0, 600.0, 550.0, 1075.0, 150.0, 500.0, 350.0, 100.0, 200.0, 350.0, 1600.0, 17100.0, 525.0, 3400.0, 9400.0, 200.0, 2150.0, 100.0, 150.0, 500.0, 7050.0, 6500.0, 21900.0, 8683.0, 300.0, 2500.0, 1900.0, 825.0, 5350.0, 100.0, 1150.0, 550.0, 1200.0, 2850.0, 400.0, 3100.0, 300.0, 300.0, 2400.0, 700.0, 1400.0, 1200.0, 250.0, 307.0, 9633.0, 2200.0, 313.0, 1431.0, 1100.0, 575.0, 400.0, 250.0, 450.0, 9950.0, 100.0, 1100.0, 500.0, 900.0, 950.0, 350.0, 1050.0, 1800.0, 15700.0, 333.0, 409.0, 2800.0, 1000.0, 300.0, 975.0, 825.0, 375.0, 5400.0, 200.0, 500.0, 1100.0, 1125.0, 30000.0, 200.0, 150.0, 450.0, 900.0, 20400.0, 3650.0, 6375.0, 400.0, 200.0, 300.0, 150.0, 6100.0, 1050.0, 200.0, 400.0, 650.0, 900.0, 8600.0, 1350.0, 1150.0, 100.0, 750.0, 1975.0, 197.0, 1200.0, 2275.0, 707.0, 1600.0, 800.0, 700.0, 1000.0, 1500.0, 2479.0, 5950.0, 1150.0, 600.0, 1100.0, 200.0, 400.0, 9150.0, 1400.0, 600.0, 1600.0, 1800.0, 100.0, 3000.0, 300.0, 150.0, 100.0, 1000.0, 180.0, 1000.0, 830.0, 700.0, 350.0, 8850.0, 550.0, 12000.0, 350.0, 650.0, 300.0, 569.0, 600.0, 183.0, 900.0, 11300.0, 250.0, 800.0, 125.0, 500.0, 1250.0, 425.0, 900.0, 9650.0, 100.0, 10400.0, 150.0, 1800.0, 725.0, 242.0, 2500.0, 300.0, 150.0, 300.0, 700.0, 2250.0, 100.0, 1200.0, 775.0, 400.0, 100.0, 450.0, 250.0, 250.0, 4100.0, 567.0, 725.0, 200.0, 1202.0, 9750.0, 479.0, 1200.0, 1300.0, 2500.0, 2000.0, 300.0, 250.0, 548.0, 1500.0, 9750.0, 850.0, 1800.0, 300.0, 552.0, 700.0, 500.0, 1300.0, 700.0, 2700.0, 7100.0, 6600.0, 1207.0, 400.0, 350.0, 290.0, 650.0, 1200.0, 300.0, 500.0, 5300.0, 150.0, 300.0, 9850.0, 13100.0, 750.0, 1400.0, 1200.0, 1400.0, 750.0, 117.0, 22600.0, 900.0, 750.0, 750.0, 100.0, 425.0, 2000.0, 1800.0, 200.0, 400.0, 6300.0, 1250.0, 740.0, 23950.0, 400.0, 374.0, 5775.0, 350.0, 1175.0, 800.0, 350.0, 700.0, 3100.0, 500.0, 650.0, 400.0, 750.0, 800.0, 2200.0, 6300.0, 750.0, 5450.0, 1100.0, 250.0, 300.0, 1300.0, 1200.0, 175.0, 350.0, 300.0, 763.0, 300.0, 4450.0, 800.0, 550.0, 300.0, 300.0, 800.0, 550.0, 400.0, 100.0, 402.0, 1843.0, 600.0, 1200.0, 3000.0, 2500.0, 1475.0, 650.0, 2225.0, 3040.0, 300.0, 300.0, 1233.0, 700.0, 245.0, 100.0, 500.0, 300.0, 500.0, 1500.0, 3850.0, 800.0, 1800.0, 3000.0, 1300.0, 900.0, 8300.0, 8300.0, 450.0, 2467.0, 4497.0, 200.0, 650.0, 1300.0, 300.0, 550.0, 300.0, 30000.0, 1825.0, 400.0, 9000.0, 100.0, 900.0, 1150.0, 200.0, 750.0, 12000.0, 1617.0, 2140.0, 2350.0, 550.0, 250.0, 1150.0, 900.0, 4900.0, 340.0, 150.0, 100.0, 1200.0, 8700.0, 550.0, 1800.0, 250.0, 577.0, 7800.0, 2400.0, 1100.0, 150.0, 1200.0, 150.0, 2900.0, 2150.0, 450.0, 100.0, 150.0, 375.0, 150.0, 240.0, 30000.0, 300.0, 1000.0, 1900.0, 600.0, 200.0, 1100.0, 250.0, 350.0, 100.0, 1500.0, 800.0, 350.0, 18800.0, 831.0, 2450.0, 150.0, 338.0, 923.0, 500.0, 250.0, 100.0, 387.0, 325.0, 11600.0, 600.0, 150.0, 400.0, 450.0, 125.0, 500.0, 17033.0, 1800.0, 1500.0, 5650.0, 400.0, 343.0, 1650.0, 1600.0, 550.0, 600.0, 10350.0, 1190.0, 550.0, 2700.0, 300.0, 650.0, 350.0, 19500.0, 200.0, 7450.0, 1000.0, 950.0, 200.0, 800.0, 1250.0, 1500.0, 800.0, 250.0, 100.0, 1600.0, 150.0, 2150.0, 200.0, 850.0, 300.0, 800.0, 333.0, 553.0, 1100.0, 2500.0, 785.0, 200.0, 200.0, 4900.0, 800.0, 900.0, 450.0, 501.0, 250.0, 300.0, 100.0, 850.0, 150.0, 200.0, 1050.0, 88.0, 5700.0, 750.0, 600.0, 9900.0, 7850.0, 100.0, 450.0, 2450.0, 2700.0, 300.0, 2000.0, 3600.0, 200.0, 6200.0, 250.0, 100.0, 150.0, 200.0, 300.0, 4600.0, 250.0, 1080.0, 1950.0, 2100.0, 467.0, 80.0, 1600.0, 175.0, 850.0, 700.0, 650.0, 3200.0, 4375.0, 200.0, 1050.0, 3950.0, 350.0, 3000.0, 700.0, 2700.0, 2500.0, 200.0, 950.0, 700.0, 250.0, 350.0, 800.0, 1000.0, 300.0, 750.0, 1550.0, 1300.0, 381.0, 500.0, 1500.0, 67.0, 200.0, 600.0, 1400.0, 8050.0, 100.0, 15200.0, 200.0, 1600.0, 600.0, 850.0, 1925.0, 450.0, 7100.0, 1400.0, 1700.0, 650.0, 1850.0, 10100.0, 195.0, 500.0, 400.0, 1050.0, 400.0, 9050.0, 837.0, 75.0, 4300.0, 250.0, 290.0, 1500.0, 1550.0, 300.0, 8500.0, 5900.0, 1800.0, 395.0, 15400.0, 2550.0, 1200.0, 6200.0, 350.0, 400.0, 128.0, 1900.0, 133.0, 1900.0, 300.0, 325.0, 1380.0, 2600.0, 50.0, 900.0, 467.0, 250.0, 675.0, 400.0, 2700.0, 500.0, 1800.0, 500.0, 1700.0, 100.0, 150.0, 1500.0, 450.0, 50.0, 750.0, 950.0, 458.0, 545.0, 231.0, 550.0, 475.0, 200.0, 100.0, 1330.0, 1625.0, 750.0, 3900.0, 867.0, 7800.0, 540.0, 1600.0, 400.0, 13950.0, 2100.0, 7050.0, 9800.0, 700.0, 350.0, 50.0, 300.0, 9600.0, 200.0, 6050.0, 1450.0, 500.0, 1300.0, 160.0, 1963.0, 725.0, 150.0, 1300.0, 200.0, 75.0, 500.0, 11750.0, 2555.0, 2250.0, 950.0, 225.0, 150.0, 100.0, 1650.0, 850.0, 2800.0, 1250.0, 1500.0, 1350.0, 7300.0, 300.0, 650.0, 150.0, 400.0, 600.0, 2200.0, 150.0, 500.0, 800.0, 100.0, 8900.0, 400.0, 700.0, 200.0, 75.0, 300.0, 2050.0, 700.0, 950.0, 467.0, 500.0, 1500.0, 3700.0, 1300.0, 100.0, 5500.0, 850.0, 700.0, 11467.0, 150.0, 650.0, 4150.0, 400.0, 500.0, 200.0, 917.0, 12400.0, 19700.0, 1454.0, 200.0, 400.0, 225.0, 600.0, 200.0, 4188.0, 100.0, 750.0, 675.0, 700.0, 150.0, 750.0, 1200.0, 1500.0, 333.0, 4350.0, 2000.0, 300.0, 700.0, 600.0, 3775.0, 3800.0, 1100.0, 14050.0, 550.0, 1400.0, 250.0, 350.0, 6700.0, 125.0, 1100.0, 100.0, 825.0, 500.0, 8716.0, 50.0, 600.0, 2350.0, 3500.0, 350.0, 908.0, 5250.0, 16100.0, 1650.0, 250.0, 1200.0, 1100.0, 150.0, 5408.0, 450.0, 250.0, 1206.0, 400.0, 700.0, 1450.0, 1150.0, 200.0, 300.0, 1367.0, 4000.0, 700.0, 517.0, 7600.0, 400.0, 200.0, 217.0, 800.0, 1300.0, 1800.0, 200.0, 934.0, 400.0, 150.0, 75.0, 600.0, 800.0, 2000.0, 2400.0, 397.0, 150.0, 3200.0, 650.0, 450.0, 850.0, 443.0, 120.0, 700.0, 333.0, 700.0, 1013.0, 550.0, 1150.0, 150.0, 100.0, 300.0, 7100.0, 1500.0, 800.0, 1920.0, 1100.0, 130.0, 150.0, 300.0, 350.0, 1100.0, 330.0, 850.0, 9550.0, 2200.0, 6150.0, 150.0, 200.0, 12300.0, 1700.0, 1400.0, 700.0, 2083.0], \"y0\": \" \", \"yaxis\": \"y\"}],                        {\"boxmode\": \"group\", \"legend\": {\"tracegroupgap\": 0}, \"margin\": {\"t\": 60}, \"template\": {\"data\": {\"bar\": [{\"error_x\": {\"color\": \"#2a3f5f\"}, \"error_y\": {\"color\": \"#2a3f5f\"}, \"marker\": {\"line\": {\"color\": \"#E5ECF6\", \"width\": 0.5}}, \"type\": \"bar\"}], \"barpolar\": [{\"marker\": {\"line\": {\"color\": \"#E5ECF6\", \"width\": 0.5}}, \"type\": \"barpolar\"}], \"carpet\": [{\"aaxis\": {\"endlinecolor\": \"#2a3f5f\", \"gridcolor\": \"white\", \"linecolor\": \"white\", \"minorgridcolor\": \"white\", \"startlinecolor\": \"#2a3f5f\"}, \"baxis\": {\"endlinecolor\": \"#2a3f5f\", \"gridcolor\": \"white\", \"linecolor\": \"white\", \"minorgridcolor\": \"white\", \"startlinecolor\": \"#2a3f5f\"}, \"type\": \"carpet\"}], \"choropleth\": [{\"colorbar\": {\"outlinewidth\": 0, \"ticks\": \"\"}, \"type\": \"choropleth\"}], \"contour\": [{\"colorbar\": {\"outlinewidth\": 0, \"ticks\": \"\"}, \"colorscale\": [[0.0, \"#0d0887\"], [0.1111111111111111, \"#46039f\"], [0.2222222222222222, \"#7201a8\"], [0.3333333333333333, \"#9c179e\"], [0.4444444444444444, \"#bd3786\"], [0.5555555555555556, \"#d8576b\"], [0.6666666666666666, \"#ed7953\"], [0.7777777777777778, \"#fb9f3a\"], [0.8888888888888888, \"#fdca26\"], [1.0, \"#f0f921\"]], \"type\": \"contour\"}], \"contourcarpet\": [{\"colorbar\": {\"outlinewidth\": 0, \"ticks\": \"\"}, \"type\": \"contourcarpet\"}], \"heatmap\": [{\"colorbar\": {\"outlinewidth\": 0, \"ticks\": \"\"}, \"colorscale\": [[0.0, \"#0d0887\"], [0.1111111111111111, \"#46039f\"], [0.2222222222222222, \"#7201a8\"], [0.3333333333333333, \"#9c179e\"], [0.4444444444444444, \"#bd3786\"], [0.5555555555555556, \"#d8576b\"], [0.6666666666666666, \"#ed7953\"], [0.7777777777777778, \"#fb9f3a\"], [0.8888888888888888, \"#fdca26\"], [1.0, \"#f0f921\"]], \"type\": \"heatmap\"}], \"heatmapgl\": [{\"colorbar\": {\"outlinewidth\": 0, \"ticks\": \"\"}, \"colorscale\": [[0.0, \"#0d0887\"], [0.1111111111111111, \"#46039f\"], [0.2222222222222222, \"#7201a8\"], [0.3333333333333333, \"#9c179e\"], [0.4444444444444444, \"#bd3786\"], [0.5555555555555556, \"#d8576b\"], [0.6666666666666666, \"#ed7953\"], [0.7777777777777778, \"#fb9f3a\"], [0.8888888888888888, \"#fdca26\"], [1.0, \"#f0f921\"]], \"type\": \"heatmapgl\"}], \"histogram\": [{\"marker\": {\"colorbar\": {\"outlinewidth\": 0, \"ticks\": \"\"}}, \"type\": \"histogram\"}], \"histogram2d\": [{\"colorbar\": {\"outlinewidth\": 0, \"ticks\": \"\"}, \"colorscale\": [[0.0, \"#0d0887\"], [0.1111111111111111, \"#46039f\"], [0.2222222222222222, \"#7201a8\"], [0.3333333333333333, \"#9c179e\"], [0.4444444444444444, \"#bd3786\"], [0.5555555555555556, \"#d8576b\"], [0.6666666666666666, \"#ed7953\"], [0.7777777777777778, \"#fb9f3a\"], [0.8888888888888888, \"#fdca26\"], [1.0, \"#f0f921\"]], \"type\": \"histogram2d\"}], \"histogram2dcontour\": [{\"colorbar\": {\"outlinewidth\": 0, \"ticks\": \"\"}, \"colorscale\": [[0.0, \"#0d0887\"], [0.1111111111111111, \"#46039f\"], [0.2222222222222222, \"#7201a8\"], [0.3333333333333333, \"#9c179e\"], [0.4444444444444444, \"#bd3786\"], [0.5555555555555556, \"#d8576b\"], [0.6666666666666666, \"#ed7953\"], [0.7777777777777778, \"#fb9f3a\"], [0.8888888888888888, \"#fdca26\"], [1.0, \"#f0f921\"]], \"type\": \"histogram2dcontour\"}], \"mesh3d\": [{\"colorbar\": {\"outlinewidth\": 0, \"ticks\": \"\"}, \"type\": \"mesh3d\"}], \"parcoords\": [{\"line\": {\"colorbar\": {\"outlinewidth\": 0, \"ticks\": \"\"}}, \"type\": \"parcoords\"}], \"pie\": [{\"automargin\": true, \"type\": \"pie\"}], \"scatter\": [{\"marker\": {\"colorbar\": {\"outlinewidth\": 0, \"ticks\": \"\"}}, \"type\": \"scatter\"}], \"scatter3d\": [{\"line\": {\"colorbar\": {\"outlinewidth\": 0, \"ticks\": \"\"}}, \"marker\": {\"colorbar\": {\"outlinewidth\": 0, \"ticks\": \"\"}}, \"type\": \"scatter3d\"}], \"scattercarpet\": [{\"marker\": {\"colorbar\": {\"outlinewidth\": 0, \"ticks\": \"\"}}, \"type\": \"scattercarpet\"}], \"scattergeo\": [{\"marker\": {\"colorbar\": {\"outlinewidth\": 0, \"ticks\": \"\"}}, \"type\": \"scattergeo\"}], \"scattergl\": [{\"marker\": {\"colorbar\": {\"outlinewidth\": 0, \"ticks\": \"\"}}, \"type\": \"scattergl\"}], \"scattermapbox\": [{\"marker\": {\"colorbar\": {\"outlinewidth\": 0, \"ticks\": \"\"}}, \"type\": \"scattermapbox\"}], \"scatterpolar\": [{\"marker\": {\"colorbar\": {\"outlinewidth\": 0, \"ticks\": \"\"}}, \"type\": \"scatterpolar\"}], \"scatterpolargl\": [{\"marker\": {\"colorbar\": {\"outlinewidth\": 0, \"ticks\": \"\"}}, \"type\": \"scatterpolargl\"}], \"scatterternary\": [{\"marker\": {\"colorbar\": {\"outlinewidth\": 0, \"ticks\": \"\"}}, \"type\": \"scatterternary\"}], \"surface\": [{\"colorbar\": {\"outlinewidth\": 0, \"ticks\": \"\"}, \"colorscale\": [[0.0, \"#0d0887\"], [0.1111111111111111, \"#46039f\"], [0.2222222222222222, \"#7201a8\"], [0.3333333333333333, \"#9c179e\"], [0.4444444444444444, \"#bd3786\"], [0.5555555555555556, \"#d8576b\"], [0.6666666666666666, \"#ed7953\"], [0.7777777777777778, \"#fb9f3a\"], [0.8888888888888888, \"#fdca26\"], [1.0, \"#f0f921\"]], \"type\": \"surface\"}], \"table\": [{\"cells\": {\"fill\": {\"color\": \"#EBF0F8\"}, \"line\": {\"color\": \"white\"}}, \"header\": {\"fill\": {\"color\": \"#C8D4E3\"}, \"line\": {\"color\": \"white\"}}, \"type\": \"table\"}]}, \"layout\": {\"annotationdefaults\": {\"arrowcolor\": \"#2a3f5f\", \"arrowhead\": 0, \"arrowwidth\": 1}, \"autotypenumbers\": \"strict\", \"coloraxis\": {\"colorbar\": {\"outlinewidth\": 0, \"ticks\": \"\"}}, \"colorscale\": {\"diverging\": [[0, \"#8e0152\"], [0.1, \"#c51b7d\"], [0.2, \"#de77ae\"], [0.3, \"#f1b6da\"], [0.4, \"#fde0ef\"], [0.5, \"#f7f7f7\"], [0.6, \"#e6f5d0\"], [0.7, \"#b8e186\"], [0.8, \"#7fbc41\"], [0.9, \"#4d9221\"], [1, \"#276419\"]], \"sequential\": [[0.0, \"#0d0887\"], [0.1111111111111111, \"#46039f\"], [0.2222222222222222, \"#7201a8\"], [0.3333333333333333, \"#9c179e\"], [0.4444444444444444, \"#bd3786\"], [0.5555555555555556, \"#d8576b\"], [0.6666666666666666, \"#ed7953\"], [0.7777777777777778, \"#fb9f3a\"], [0.8888888888888888, \"#fdca26\"], [1.0, \"#f0f921\"]], \"sequentialminus\": [[0.0, \"#0d0887\"], [0.1111111111111111, \"#46039f\"], [0.2222222222222222, \"#7201a8\"], [0.3333333333333333, \"#9c179e\"], [0.4444444444444444, \"#bd3786\"], [0.5555555555555556, \"#d8576b\"], [0.6666666666666666, \"#ed7953\"], [0.7777777777777778, \"#fb9f3a\"], [0.8888888888888888, \"#fdca26\"], [1.0, \"#f0f921\"]]}, \"colorway\": [\"#636efa\", \"#EF553B\", \"#00cc96\", \"#ab63fa\", \"#FFA15A\", \"#19d3f3\", \"#FF6692\", \"#B6E880\", \"#FF97FF\", \"#FECB52\"], \"font\": {\"color\": \"#2a3f5f\"}, \"geo\": {\"bgcolor\": \"white\", \"lakecolor\": \"white\", \"landcolor\": \"#E5ECF6\", \"showlakes\": true, \"showland\": true, \"subunitcolor\": \"white\"}, \"hoverlabel\": {\"align\": \"left\"}, \"hovermode\": \"closest\", \"mapbox\": {\"style\": \"light\"}, \"paper_bgcolor\": \"white\", \"plot_bgcolor\": \"#E5ECF6\", \"polar\": {\"angularaxis\": {\"gridcolor\": \"white\", \"linecolor\": \"white\", \"ticks\": \"\"}, \"bgcolor\": \"#E5ECF6\", \"radialaxis\": {\"gridcolor\": \"white\", \"linecolor\": \"white\", \"ticks\": \"\"}}, \"scene\": {\"xaxis\": {\"backgroundcolor\": \"#E5ECF6\", \"gridcolor\": \"white\", \"gridwidth\": 2, \"linecolor\": \"white\", \"showbackground\": true, \"ticks\": \"\", \"zerolinecolor\": \"white\"}, \"yaxis\": {\"backgroundcolor\": \"#E5ECF6\", \"gridcolor\": \"white\", \"gridwidth\": 2, \"linecolor\": \"white\", \"showbackground\": true, \"ticks\": \"\", \"zerolinecolor\": \"white\"}, \"zaxis\": {\"backgroundcolor\": \"#E5ECF6\", \"gridcolor\": \"white\", \"gridwidth\": 2, \"linecolor\": \"white\", \"showbackground\": true, \"ticks\": \"\", \"zerolinecolor\": \"white\"}}, \"shapedefaults\": {\"line\": {\"color\": \"#2a3f5f\"}}, \"ternary\": {\"aaxis\": {\"gridcolor\": \"white\", \"linecolor\": \"white\", \"ticks\": \"\"}, \"baxis\": {\"gridcolor\": \"white\", \"linecolor\": \"white\", \"ticks\": \"\"}, \"bgcolor\": \"#E5ECF6\", \"caxis\": {\"gridcolor\": \"white\", \"linecolor\": \"white\", \"ticks\": \"\"}}, \"title\": {\"x\": 0.05}, \"xaxis\": {\"automargin\": true, \"gridcolor\": \"white\", \"linecolor\": \"white\", \"ticks\": \"\", \"title\": {\"standoff\": 15}, \"zerolinecolor\": \"white\", \"zerolinewidth\": 2}, \"yaxis\": {\"automargin\": true, \"gridcolor\": \"white\", \"linecolor\": \"white\", \"ticks\": \"\", \"title\": {\"standoff\": 15}, \"zerolinecolor\": \"white\", \"zerolinewidth\": 2}}}, \"xaxis\": {\"anchor\": \"y\", \"domain\": [0.0, 1.0]}, \"yaxis\": {\"anchor\": \"x\", \"domain\": [0.0, 1.0], \"title\": {\"text\": \"product_weight_g\"}}},                        {\"responsive\": true}                    ).then(function(){\n",
              "                            \n",
              "var gd = document.getElementById('8d56433e-3937-4c4f-a720-101465bd3377');\n",
              "var x = new MutationObserver(function (mutations, observer) {{\n",
              "        var display = window.getComputedStyle(gd).display;\n",
              "        if (!display || display === 'none') {{\n",
              "            console.log([gd, 'removed!']);\n",
              "            Plotly.purge(gd);\n",
              "            observer.disconnect();\n",
              "        }}\n",
              "}});\n",
              "\n",
              "// Listen for the removal of the full notebook cells\n",
              "var notebookContainer = gd.closest('#notebook-container');\n",
              "if (notebookContainer) {{\n",
              "    x.observe(notebookContainer, {childList: true});\n",
              "}}\n",
              "\n",
              "// Listen for the clearing of the current output cell\n",
              "var outputEl = gd.closest('.output');\n",
              "if (outputEl) {{\n",
              "    x.observe(outputEl, {childList: true});\n",
              "}}\n",
              "\n",
              "                        })                };                            </script>        </div>\n",
              "</body>\n",
              "</html>"
            ]
          },
          "metadata": {
            "tags": []
          }
        }
      ]
    },
    {
      "cell_type": "code",
      "metadata": {
        "id": "hZdUhnLec4KY",
        "colab": {
          "base_uri": "https://localhost:8080/"
        },
        "outputId": "3dcf0215-4c31-4bf8-d959-ff515347efb8"
      },
      "source": [
        "df_produtos.product_weight_g.median()"
      ],
      "execution_count": null,
      "outputs": [
        {
          "output_type": "execute_result",
          "data": {
            "text/plain": [
              "700.0"
            ]
          },
          "metadata": {
            "tags": []
          },
          "execution_count": 28
        }
      ]
    },
    {
      "cell_type": "code",
      "metadata": {
        "id": "aCB0wreSc5Pg",
        "colab": {
          "base_uri": "https://localhost:8080/"
        },
        "outputId": "9151a8db-beef-4a4a-e288-c3794f056e43"
      },
      "source": [
        "df_produtos.product_weight_g.mean()"
      ],
      "execution_count": null,
      "outputs": [
        {
          "output_type": "execute_result",
          "data": {
            "text/plain": [
              "2276.4724877841513"
            ]
          },
          "metadata": {
            "tags": []
          },
          "execution_count": 29
        }
      ]
    },
    {
      "cell_type": "code",
      "metadata": {
        "id": "th2sH9nPb4pA"
      },
      "source": [
        "#df_produtos.fillna(method='ffil')\n",
        "#df_produtos.fillna(value=0)\n",
        "valor = df_produtos.product_weight_g.median()\n",
        "df_produtos.product_weight_g.fillna(value=valor, inplace=True)"
      ],
      "execution_count": null,
      "outputs": []
    },
    {
      "cell_type": "markdown",
      "metadata": {
        "id": "u8XIniV3d8Hq"
      },
      "source": [
        "### Info - Negócio"
      ]
    },
    {
      "cell_type": "code",
      "metadata": {
        "id": "rgW7bqHEeEWv",
        "colab": {
          "base_uri": "https://localhost:8080/",
          "height": 126
        },
        "outputId": "b5e29d8e-7252-4e54-c500-6121edb3d713"
      },
      "source": [
        "df_produtos.head(2)"
      ],
      "execution_count": null,
      "outputs": [
        {
          "output_type": "execute_result",
          "data": {
            "text/html": [
              "<div>\n",
              "<style scoped>\n",
              "    .dataframe tbody tr th:only-of-type {\n",
              "        vertical-align: middle;\n",
              "    }\n",
              "\n",
              "    .dataframe tbody tr th {\n",
              "        vertical-align: top;\n",
              "    }\n",
              "\n",
              "    .dataframe thead th {\n",
              "        text-align: right;\n",
              "    }\n",
              "</style>\n",
              "<table border=\"1\" class=\"dataframe\">\n",
              "  <thead>\n",
              "    <tr style=\"text-align: right;\">\n",
              "      <th></th>\n",
              "      <th>product_id</th>\n",
              "      <th>product_category_name</th>\n",
              "      <th>product_name_lenght</th>\n",
              "      <th>product_description_lenght</th>\n",
              "      <th>product_photos_qty</th>\n",
              "      <th>product_weight_g</th>\n",
              "      <th>product_length_cm</th>\n",
              "      <th>product_height_cm</th>\n",
              "      <th>product_width_cm</th>\n",
              "    </tr>\n",
              "  </thead>\n",
              "  <tbody>\n",
              "    <tr>\n",
              "      <th>0</th>\n",
              "      <td>1e9e8ef04dbcff4541ed26657ea517e5</td>\n",
              "      <td>perfumaria</td>\n",
              "      <td>40.0</td>\n",
              "      <td>287.0</td>\n",
              "      <td>1.0</td>\n",
              "      <td>225.0</td>\n",
              "      <td>16.0</td>\n",
              "      <td>10.0</td>\n",
              "      <td>14.0</td>\n",
              "    </tr>\n",
              "    <tr>\n",
              "      <th>1</th>\n",
              "      <td>3aa071139cb16b67ca9e5dea641aaa2f</td>\n",
              "      <td>artes</td>\n",
              "      <td>44.0</td>\n",
              "      <td>276.0</td>\n",
              "      <td>1.0</td>\n",
              "      <td>1000.0</td>\n",
              "      <td>30.0</td>\n",
              "      <td>18.0</td>\n",
              "      <td>20.0</td>\n",
              "    </tr>\n",
              "  </tbody>\n",
              "</table>\n",
              "</div>"
            ],
            "text/plain": [
              "                         product_id  ... product_width_cm\n",
              "0  1e9e8ef04dbcff4541ed26657ea517e5  ...             14.0\n",
              "1  3aa071139cb16b67ca9e5dea641aaa2f  ...             20.0\n",
              "\n",
              "[2 rows x 9 columns]"
            ]
          },
          "metadata": {
            "tags": []
          },
          "execution_count": 31
        }
      ]
    },
    {
      "cell_type": "code",
      "metadata": {
        "id": "uUyc0gD4c_no",
        "colab": {
          "base_uri": "https://localhost:8080/"
        },
        "outputId": "d6fd7504-31e3-47a2-d432-1a63ef03e0f2"
      },
      "source": [
        "df_categoria_mais_vendidas = df_produtos.product_category_name.value_counts().head(5).rename('qtd_prod_cat_ofertados')\n",
        "df_categoria_mais_vendidas"
      ],
      "execution_count": null,
      "outputs": [
        {
          "output_type": "execute_result",
          "data": {
            "text/plain": [
              "cama_mesa_banho          3029\n",
              "esporte_lazer            2867\n",
              "moveis_decoracao         2657\n",
              "beleza_saude             2444\n",
              "utilidades_domesticas    2335\n",
              "Name: qtd_prod_cat_ofertados, dtype: int64"
            ]
          },
          "metadata": {
            "tags": []
          },
          "execution_count": 32
        }
      ]
    },
    {
      "cell_type": "code",
      "metadata": {
        "id": "P-H4HoBDeHpe",
        "colab": {
          "base_uri": "https://localhost:8080/"
        },
        "outputId": "2dd78be3-3055-4852-de48-3030fe318aec"
      },
      "source": [
        "import numpy as np\n",
        "\n",
        "df_peso_medio_produtos = df_produtos.groupby( by='product_category_name' ).apply(np.mean)['product_weight_g']\n",
        "df_peso_medio_produtos"
      ],
      "execution_count": null,
      "outputs": [
        {
          "output_type": "execute_result",
          "data": {
            "text/plain": [
              "product_category_name\n",
              "agro_industria_e_comercio    5263.405405\n",
              "alimentos                     923.414634\n",
              "alimentos_bebidas            1307.932692\n",
              "artes                        1691.763636\n",
              "artes_e_artesanato           1164.578947\n",
              "                                ...     \n",
              "sinalizacao_e_seguranca      2969.817204\n",
              "tablets_impressao_imagem      381.444444\n",
              "telefonia                     236.506173\n",
              "telefonia_fixa                660.827586\n",
              "utilidades_domesticas        3020.793576\n",
              "Name: product_weight_g, Length: 74, dtype: float64"
            ]
          },
          "metadata": {
            "tags": []
          },
          "execution_count": 33
        }
      ]
    },
    {
      "cell_type": "code",
      "metadata": {
        "id": "HLBB1UHQfHjE",
        "colab": {
          "base_uri": "https://localhost:8080/",
          "height": 194
        },
        "outputId": "c4b66293-96eb-4136-8d63-3989e45c435b"
      },
      "source": [
        "df_mais_vendidos_peso_medio =  pd.merge(left=df_categoria_mais_vendidas, right=df_peso_medio_produtos, how='left', left_index=True, right_index=True)\n",
        "df_mais_vendidos_peso_medio"
      ],
      "execution_count": null,
      "outputs": [
        {
          "output_type": "execute_result",
          "data": {
            "text/html": [
              "<div>\n",
              "<style scoped>\n",
              "    .dataframe tbody tr th:only-of-type {\n",
              "        vertical-align: middle;\n",
              "    }\n",
              "\n",
              "    .dataframe tbody tr th {\n",
              "        vertical-align: top;\n",
              "    }\n",
              "\n",
              "    .dataframe thead th {\n",
              "        text-align: right;\n",
              "    }\n",
              "</style>\n",
              "<table border=\"1\" class=\"dataframe\">\n",
              "  <thead>\n",
              "    <tr style=\"text-align: right;\">\n",
              "      <th></th>\n",
              "      <th>qtd_prod_cat_ofertados</th>\n",
              "      <th>product_weight_g</th>\n",
              "    </tr>\n",
              "  </thead>\n",
              "  <tbody>\n",
              "    <tr>\n",
              "      <th>cama_mesa_banho</th>\n",
              "      <td>3029</td>\n",
              "      <td>2456.405084</td>\n",
              "    </tr>\n",
              "    <tr>\n",
              "      <th>esporte_lazer</th>\n",
              "      <td>2867</td>\n",
              "      <td>2024.670736</td>\n",
              "    </tr>\n",
              "    <tr>\n",
              "      <th>moveis_decoracao</th>\n",
              "      <td>2657</td>\n",
              "      <td>3008.266842</td>\n",
              "    </tr>\n",
              "    <tr>\n",
              "      <th>beleza_saude</th>\n",
              "      <td>2444</td>\n",
              "      <td>1434.793781</td>\n",
              "    </tr>\n",
              "    <tr>\n",
              "      <th>utilidades_domesticas</th>\n",
              "      <td>2335</td>\n",
              "      <td>3020.793576</td>\n",
              "    </tr>\n",
              "  </tbody>\n",
              "</table>\n",
              "</div>"
            ],
            "text/plain": [
              "                       qtd_prod_cat_ofertados  product_weight_g\n",
              "cama_mesa_banho                          3029       2456.405084\n",
              "esporte_lazer                            2867       2024.670736\n",
              "moveis_decoracao                         2657       3008.266842\n",
              "beleza_saude                             2444       1434.793781\n",
              "utilidades_domesticas                    2335       3020.793576"
            ]
          },
          "metadata": {
            "tags": []
          },
          "execution_count": 34
        }
      ]
    },
    {
      "cell_type": "markdown",
      "metadata": {
        "id": "c3ypj1ozgk1x"
      },
      "source": [
        "## Compras - olist_orders_dataset"
      ]
    },
    {
      "cell_type": "code",
      "metadata": {
        "id": "EMS9xn2xgLYK",
        "colab": {
          "base_uri": "https://localhost:8080/",
          "height": 155
        },
        "outputId": "2aec55f1-aeee-41c7-81c1-08750b87a339"
      },
      "source": [
        "df_compras.head(3)"
      ],
      "execution_count": null,
      "outputs": [
        {
          "output_type": "execute_result",
          "data": {
            "text/html": [
              "<div>\n",
              "<style scoped>\n",
              "    .dataframe tbody tr th:only-of-type {\n",
              "        vertical-align: middle;\n",
              "    }\n",
              "\n",
              "    .dataframe tbody tr th {\n",
              "        vertical-align: top;\n",
              "    }\n",
              "\n",
              "    .dataframe thead th {\n",
              "        text-align: right;\n",
              "    }\n",
              "</style>\n",
              "<table border=\"1\" class=\"dataframe\">\n",
              "  <thead>\n",
              "    <tr style=\"text-align: right;\">\n",
              "      <th></th>\n",
              "      <th>order_id</th>\n",
              "      <th>customer_id</th>\n",
              "      <th>order_status</th>\n",
              "      <th>order_purchase_timestamp</th>\n",
              "      <th>order_approved_at</th>\n",
              "      <th>order_delivered_carrier_date</th>\n",
              "      <th>order_delivered_customer_date</th>\n",
              "      <th>order_estimated_delivery_date</th>\n",
              "    </tr>\n",
              "  </thead>\n",
              "  <tbody>\n",
              "    <tr>\n",
              "      <th>0</th>\n",
              "      <td>e481f51cbdc54678b7cc49136f2d6af7</td>\n",
              "      <td>9ef432eb6251297304e76186b10a928d</td>\n",
              "      <td>delivered</td>\n",
              "      <td>2017-10-02 10:56:33</td>\n",
              "      <td>2017-10-02 11:07:15</td>\n",
              "      <td>2017-10-04 19:55:00</td>\n",
              "      <td>2017-10-10 21:25:13</td>\n",
              "      <td>2017-10-18 00:00:00</td>\n",
              "    </tr>\n",
              "    <tr>\n",
              "      <th>1</th>\n",
              "      <td>53cdb2fc8bc7dce0b6741e2150273451</td>\n",
              "      <td>b0830fb4747a6c6d20dea0b8c802d7ef</td>\n",
              "      <td>delivered</td>\n",
              "      <td>2018-07-24 20:41:37</td>\n",
              "      <td>2018-07-26 03:24:27</td>\n",
              "      <td>2018-07-26 14:31:00</td>\n",
              "      <td>2018-08-07 15:27:45</td>\n",
              "      <td>2018-08-13 00:00:00</td>\n",
              "    </tr>\n",
              "    <tr>\n",
              "      <th>2</th>\n",
              "      <td>47770eb9100c2d0c44946d9cf07ec65d</td>\n",
              "      <td>41ce2a54c0b03bf3443c3d931a367089</td>\n",
              "      <td>delivered</td>\n",
              "      <td>2018-08-08 08:38:49</td>\n",
              "      <td>2018-08-08 08:55:23</td>\n",
              "      <td>2018-08-08 13:50:00</td>\n",
              "      <td>2018-08-17 18:06:29</td>\n",
              "      <td>2018-09-04 00:00:00</td>\n",
              "    </tr>\n",
              "  </tbody>\n",
              "</table>\n",
              "</div>"
            ],
            "text/plain": [
              "                           order_id  ... order_estimated_delivery_date\n",
              "0  e481f51cbdc54678b7cc49136f2d6af7  ...           2017-10-18 00:00:00\n",
              "1  53cdb2fc8bc7dce0b6741e2150273451  ...           2018-08-13 00:00:00\n",
              "2  47770eb9100c2d0c44946d9cf07ec65d  ...           2018-09-04 00:00:00\n",
              "\n",
              "[3 rows x 8 columns]"
            ]
          },
          "metadata": {
            "tags": []
          },
          "execution_count": 35
        }
      ]
    },
    {
      "cell_type": "markdown",
      "metadata": {
        "id": "CbWnQt9AlpKz"
      },
      "source": [
        "### Info - Estrutura"
      ]
    },
    {
      "cell_type": "code",
      "metadata": {
        "id": "59ASLG2IgjWk",
        "colab": {
          "base_uri": "https://localhost:8080/"
        },
        "outputId": "f317d010-44bc-466f-937a-9d6eef9e13d5"
      },
      "source": [
        "df_compras.shape"
      ],
      "execution_count": null,
      "outputs": [
        {
          "output_type": "execute_result",
          "data": {
            "text/plain": [
              "(99441, 8)"
            ]
          },
          "metadata": {
            "tags": []
          },
          "execution_count": 36
        }
      ]
    },
    {
      "cell_type": "code",
      "metadata": {
        "id": "lYcYb_fplwwS",
        "colab": {
          "base_uri": "https://localhost:8080/",
          "height": 155
        },
        "outputId": "f3df7954-88bf-4011-a0a9-ffa88fa44704"
      },
      "source": [
        "df_compras.agg(['nunique','count','size'])"
      ],
      "execution_count": null,
      "outputs": [
        {
          "output_type": "execute_result",
          "data": {
            "text/html": [
              "<div>\n",
              "<style scoped>\n",
              "    .dataframe tbody tr th:only-of-type {\n",
              "        vertical-align: middle;\n",
              "    }\n",
              "\n",
              "    .dataframe tbody tr th {\n",
              "        vertical-align: top;\n",
              "    }\n",
              "\n",
              "    .dataframe thead th {\n",
              "        text-align: right;\n",
              "    }\n",
              "</style>\n",
              "<table border=\"1\" class=\"dataframe\">\n",
              "  <thead>\n",
              "    <tr style=\"text-align: right;\">\n",
              "      <th></th>\n",
              "      <th>order_id</th>\n",
              "      <th>customer_id</th>\n",
              "      <th>order_status</th>\n",
              "      <th>order_purchase_timestamp</th>\n",
              "      <th>order_approved_at</th>\n",
              "      <th>order_delivered_carrier_date</th>\n",
              "      <th>order_delivered_customer_date</th>\n",
              "      <th>order_estimated_delivery_date</th>\n",
              "    </tr>\n",
              "  </thead>\n",
              "  <tbody>\n",
              "    <tr>\n",
              "      <th>nunique</th>\n",
              "      <td>99441</td>\n",
              "      <td>99441</td>\n",
              "      <td>8</td>\n",
              "      <td>98875</td>\n",
              "      <td>90733</td>\n",
              "      <td>81018</td>\n",
              "      <td>95664</td>\n",
              "      <td>459</td>\n",
              "    </tr>\n",
              "    <tr>\n",
              "      <th>count</th>\n",
              "      <td>99441</td>\n",
              "      <td>99441</td>\n",
              "      <td>99441</td>\n",
              "      <td>99441</td>\n",
              "      <td>99281</td>\n",
              "      <td>97658</td>\n",
              "      <td>96476</td>\n",
              "      <td>99441</td>\n",
              "    </tr>\n",
              "    <tr>\n",
              "      <th>size</th>\n",
              "      <td>99441</td>\n",
              "      <td>99441</td>\n",
              "      <td>99441</td>\n",
              "      <td>99441</td>\n",
              "      <td>99441</td>\n",
              "      <td>99441</td>\n",
              "      <td>99441</td>\n",
              "      <td>99441</td>\n",
              "    </tr>\n",
              "  </tbody>\n",
              "</table>\n",
              "</div>"
            ],
            "text/plain": [
              "         order_id  ...  order_estimated_delivery_date\n",
              "nunique     99441  ...                            459\n",
              "count       99441  ...                          99441\n",
              "size        99441  ...                          99441\n",
              "\n",
              "[3 rows x 8 columns]"
            ]
          },
          "metadata": {
            "tags": []
          },
          "execution_count": 37
        }
      ]
    },
    {
      "cell_type": "code",
      "metadata": {
        "id": "EdCsyiRMly3V",
        "colab": {
          "base_uri": "https://localhost:8080/",
          "height": 155
        },
        "outputId": "74d444a2-f0f3-472e-e800-75e821f313e7"
      },
      "source": [
        "df_compras.fillna( method='ffill', inplace=True ) # Melhorem isso aqui!\n",
        "df_compras.agg(['nunique','count','size'])"
      ],
      "execution_count": null,
      "outputs": [
        {
          "output_type": "execute_result",
          "data": {
            "text/html": [
              "<div>\n",
              "<style scoped>\n",
              "    .dataframe tbody tr th:only-of-type {\n",
              "        vertical-align: middle;\n",
              "    }\n",
              "\n",
              "    .dataframe tbody tr th {\n",
              "        vertical-align: top;\n",
              "    }\n",
              "\n",
              "    .dataframe thead th {\n",
              "        text-align: right;\n",
              "    }\n",
              "</style>\n",
              "<table border=\"1\" class=\"dataframe\">\n",
              "  <thead>\n",
              "    <tr style=\"text-align: right;\">\n",
              "      <th></th>\n",
              "      <th>order_id</th>\n",
              "      <th>customer_id</th>\n",
              "      <th>order_status</th>\n",
              "      <th>order_purchase_timestamp</th>\n",
              "      <th>order_approved_at</th>\n",
              "      <th>order_delivered_carrier_date</th>\n",
              "      <th>order_delivered_customer_date</th>\n",
              "      <th>order_estimated_delivery_date</th>\n",
              "    </tr>\n",
              "  </thead>\n",
              "  <tbody>\n",
              "    <tr>\n",
              "      <th>nunique</th>\n",
              "      <td>99441</td>\n",
              "      <td>99441</td>\n",
              "      <td>8</td>\n",
              "      <td>98875</td>\n",
              "      <td>90733</td>\n",
              "      <td>81018</td>\n",
              "      <td>95664</td>\n",
              "      <td>459</td>\n",
              "    </tr>\n",
              "    <tr>\n",
              "      <th>count</th>\n",
              "      <td>99441</td>\n",
              "      <td>99441</td>\n",
              "      <td>99441</td>\n",
              "      <td>99441</td>\n",
              "      <td>99441</td>\n",
              "      <td>99441</td>\n",
              "      <td>99441</td>\n",
              "      <td>99441</td>\n",
              "    </tr>\n",
              "    <tr>\n",
              "      <th>size</th>\n",
              "      <td>99441</td>\n",
              "      <td>99441</td>\n",
              "      <td>99441</td>\n",
              "      <td>99441</td>\n",
              "      <td>99441</td>\n",
              "      <td>99441</td>\n",
              "      <td>99441</td>\n",
              "      <td>99441</td>\n",
              "    </tr>\n",
              "  </tbody>\n",
              "</table>\n",
              "</div>"
            ],
            "text/plain": [
              "         order_id  ...  order_estimated_delivery_date\n",
              "nunique     99441  ...                            459\n",
              "count       99441  ...                          99441\n",
              "size        99441  ...                          99441\n",
              "\n",
              "[3 rows x 8 columns]"
            ]
          },
          "metadata": {
            "tags": []
          },
          "execution_count": 38
        }
      ]
    },
    {
      "cell_type": "code",
      "metadata": {
        "id": "JrFEFTe0qRoS",
        "colab": {
          "base_uri": "https://localhost:8080/"
        },
        "outputId": "2c8319ed-934e-4e7e-9add-34786fb86848"
      },
      "source": [
        "df_compras.dtypes"
      ],
      "execution_count": null,
      "outputs": [
        {
          "output_type": "execute_result",
          "data": {
            "text/plain": [
              "order_id                         object\n",
              "customer_id                      object\n",
              "order_status                     object\n",
              "order_purchase_timestamp         object\n",
              "order_approved_at                object\n",
              "order_delivered_carrier_date     object\n",
              "order_delivered_customer_date    object\n",
              "order_estimated_delivery_date    object\n",
              "dtype: object"
            ]
          },
          "metadata": {
            "tags": []
          },
          "execution_count": 39
        }
      ]
    },
    {
      "cell_type": "markdown",
      "metadata": {
        "id": "BWYaWnSVmWJQ"
      },
      "source": [
        "### Info - Negócio"
      ]
    },
    {
      "cell_type": "code",
      "metadata": {
        "id": "nBbueJF_mK7Y",
        "colab": {
          "base_uri": "https://localhost:8080/",
          "height": 126
        },
        "outputId": "69e9ff8a-d5e4-42fa-a036-2f36b0fa8f6b"
      },
      "source": [
        "df_compras.head(2)"
      ],
      "execution_count": null,
      "outputs": [
        {
          "output_type": "execute_result",
          "data": {
            "text/html": [
              "<div>\n",
              "<style scoped>\n",
              "    .dataframe tbody tr th:only-of-type {\n",
              "        vertical-align: middle;\n",
              "    }\n",
              "\n",
              "    .dataframe tbody tr th {\n",
              "        vertical-align: top;\n",
              "    }\n",
              "\n",
              "    .dataframe thead th {\n",
              "        text-align: right;\n",
              "    }\n",
              "</style>\n",
              "<table border=\"1\" class=\"dataframe\">\n",
              "  <thead>\n",
              "    <tr style=\"text-align: right;\">\n",
              "      <th></th>\n",
              "      <th>order_id</th>\n",
              "      <th>customer_id</th>\n",
              "      <th>order_status</th>\n",
              "      <th>order_purchase_timestamp</th>\n",
              "      <th>order_approved_at</th>\n",
              "      <th>order_delivered_carrier_date</th>\n",
              "      <th>order_delivered_customer_date</th>\n",
              "      <th>order_estimated_delivery_date</th>\n",
              "    </tr>\n",
              "  </thead>\n",
              "  <tbody>\n",
              "    <tr>\n",
              "      <th>0</th>\n",
              "      <td>e481f51cbdc54678b7cc49136f2d6af7</td>\n",
              "      <td>9ef432eb6251297304e76186b10a928d</td>\n",
              "      <td>delivered</td>\n",
              "      <td>2017-10-02 10:56:33</td>\n",
              "      <td>2017-10-02 11:07:15</td>\n",
              "      <td>2017-10-04 19:55:00</td>\n",
              "      <td>2017-10-10 21:25:13</td>\n",
              "      <td>2017-10-18 00:00:00</td>\n",
              "    </tr>\n",
              "    <tr>\n",
              "      <th>1</th>\n",
              "      <td>53cdb2fc8bc7dce0b6741e2150273451</td>\n",
              "      <td>b0830fb4747a6c6d20dea0b8c802d7ef</td>\n",
              "      <td>delivered</td>\n",
              "      <td>2018-07-24 20:41:37</td>\n",
              "      <td>2018-07-26 03:24:27</td>\n",
              "      <td>2018-07-26 14:31:00</td>\n",
              "      <td>2018-08-07 15:27:45</td>\n",
              "      <td>2018-08-13 00:00:00</td>\n",
              "    </tr>\n",
              "  </tbody>\n",
              "</table>\n",
              "</div>"
            ],
            "text/plain": [
              "                           order_id  ... order_estimated_delivery_date\n",
              "0  e481f51cbdc54678b7cc49136f2d6af7  ...           2017-10-18 00:00:00\n",
              "1  53cdb2fc8bc7dce0b6741e2150273451  ...           2018-08-13 00:00:00\n",
              "\n",
              "[2 rows x 8 columns]"
            ]
          },
          "metadata": {
            "tags": []
          },
          "execution_count": 40
        }
      ]
    },
    {
      "cell_type": "code",
      "metadata": {
        "id": "F4aWFbNkmURr",
        "colab": {
          "base_uri": "https://localhost:8080/"
        },
        "outputId": "2313969c-70d6-4c02-f432-bce68da7a793"
      },
      "source": [
        "df_compras.order_status.unique()"
      ],
      "execution_count": null,
      "outputs": [
        {
          "output_type": "execute_result",
          "data": {
            "text/plain": [
              "array(['delivered', 'invoiced', 'shipped', 'processing', 'unavailable',\n",
              "       'canceled', 'created', 'approved'], dtype=object)"
            ]
          },
          "metadata": {
            "tags": []
          },
          "execution_count": 41
        }
      ]
    },
    {
      "cell_type": "code",
      "metadata": {
        "id": "Cny9t5SZmfnK",
        "colab": {
          "base_uri": "https://localhost:8080/"
        },
        "outputId": "5e863b66-c9c1-43a9-9bc2-06c42b544e0f"
      },
      "source": [
        "df_status = df_compras.order_status.value_counts()\n",
        "df_status"
      ],
      "execution_count": null,
      "outputs": [
        {
          "output_type": "execute_result",
          "data": {
            "text/plain": [
              "delivered      96478\n",
              "shipped         1107\n",
              "canceled         625\n",
              "unavailable      609\n",
              "invoiced         314\n",
              "processing       301\n",
              "created            5\n",
              "approved           2\n",
              "Name: order_status, dtype: int64"
            ]
          },
          "metadata": {
            "tags": []
          },
          "execution_count": 42
        }
      ]
    },
    {
      "cell_type": "code",
      "metadata": {
        "id": "M_yB9L4imroT",
        "colab": {
          "base_uri": "https://localhost:8080/",
          "height": 542
        },
        "outputId": "bb455c57-910c-47c6-df64-e49cb4457f77"
      },
      "source": [
        "fig = px.bar(df_status, y='order_status', title='Status do pedido', log_y=True, labels={'order_status': 'Pedidos', 'index':'Status'})\n",
        "gitly.show( fig )"
      ],
      "execution_count": null,
      "outputs": [
        {
          "output_type": "display_data",
          "data": {
            "text/html": [
              "<html>\n",
              "<head><meta charset=\"utf-8\" /></head>\n",
              "<body>\n",
              "    <div>            <script src=\"https://cdnjs.cloudflare.com/ajax/libs/mathjax/2.7.5/MathJax.js?config=TeX-AMS-MML_SVG\"></script><script type=\"text/javascript\">if (window.MathJax) {MathJax.Hub.Config({SVG: {font: \"STIX-Web\"}});}</script>                <script type=\"text/javascript\">window.PlotlyConfig = {MathJaxConfig: 'local'};</script>\n",
              "        <script src=\"https://cdn.plot.ly/plotly-latest.min.js\"></script>                <div id=\"c32fa4e7-b61d-4a81-861b-9baae0bafe15\" class=\"plotly-graph-div\" style=\"height:525px; width:100%;\"></div>            <script type=\"text/javascript\">                                    window.PLOTLYENV=window.PLOTLYENV || {};                                    if (document.getElementById(\"c32fa4e7-b61d-4a81-861b-9baae0bafe15\")) {                    Plotly.newPlot(                        \"c32fa4e7-b61d-4a81-861b-9baae0bafe15\",                        [{\"alignmentgroup\": \"True\", \"hovertemplate\": \"Status=%{x}<br>Pedidos=%{y}<extra></extra>\", \"legendgroup\": \"\", \"marker\": {\"color\": \"#636efa\"}, \"name\": \"\", \"offsetgroup\": \"\", \"orientation\": \"v\", \"showlegend\": false, \"textposition\": \"auto\", \"type\": \"bar\", \"x\": [\"delivered\", \"shipped\", \"canceled\", \"unavailable\", \"invoiced\", \"processing\", \"created\", \"approved\"], \"xaxis\": \"x\", \"y\": [96478, 1107, 625, 609, 314, 301, 5, 2], \"yaxis\": \"y\"}],                        {\"barmode\": \"relative\", \"legend\": {\"tracegroupgap\": 0}, \"template\": {\"data\": {\"bar\": [{\"error_x\": {\"color\": \"#2a3f5f\"}, \"error_y\": {\"color\": \"#2a3f5f\"}, \"marker\": {\"line\": {\"color\": \"#E5ECF6\", \"width\": 0.5}}, \"type\": \"bar\"}], \"barpolar\": [{\"marker\": {\"line\": {\"color\": \"#E5ECF6\", \"width\": 0.5}}, \"type\": \"barpolar\"}], \"carpet\": [{\"aaxis\": {\"endlinecolor\": \"#2a3f5f\", \"gridcolor\": \"white\", \"linecolor\": \"white\", \"minorgridcolor\": \"white\", \"startlinecolor\": \"#2a3f5f\"}, \"baxis\": {\"endlinecolor\": \"#2a3f5f\", \"gridcolor\": \"white\", \"linecolor\": \"white\", \"minorgridcolor\": \"white\", \"startlinecolor\": \"#2a3f5f\"}, \"type\": \"carpet\"}], \"choropleth\": [{\"colorbar\": {\"outlinewidth\": 0, \"ticks\": \"\"}, \"type\": \"choropleth\"}], \"contour\": [{\"colorbar\": {\"outlinewidth\": 0, \"ticks\": \"\"}, \"colorscale\": [[0.0, \"#0d0887\"], [0.1111111111111111, \"#46039f\"], [0.2222222222222222, \"#7201a8\"], [0.3333333333333333, \"#9c179e\"], [0.4444444444444444, \"#bd3786\"], [0.5555555555555556, \"#d8576b\"], [0.6666666666666666, \"#ed7953\"], [0.7777777777777778, \"#fb9f3a\"], [0.8888888888888888, \"#fdca26\"], [1.0, \"#f0f921\"]], \"type\": \"contour\"}], \"contourcarpet\": [{\"colorbar\": {\"outlinewidth\": 0, \"ticks\": \"\"}, \"type\": \"contourcarpet\"}], \"heatmap\": [{\"colorbar\": {\"outlinewidth\": 0, \"ticks\": \"\"}, \"colorscale\": [[0.0, \"#0d0887\"], [0.1111111111111111, \"#46039f\"], [0.2222222222222222, \"#7201a8\"], [0.3333333333333333, \"#9c179e\"], [0.4444444444444444, \"#bd3786\"], [0.5555555555555556, \"#d8576b\"], [0.6666666666666666, \"#ed7953\"], [0.7777777777777778, \"#fb9f3a\"], [0.8888888888888888, \"#fdca26\"], [1.0, \"#f0f921\"]], \"type\": \"heatmap\"}], \"heatmapgl\": [{\"colorbar\": {\"outlinewidth\": 0, \"ticks\": \"\"}, \"colorscale\": [[0.0, \"#0d0887\"], [0.1111111111111111, \"#46039f\"], [0.2222222222222222, \"#7201a8\"], [0.3333333333333333, \"#9c179e\"], [0.4444444444444444, \"#bd3786\"], [0.5555555555555556, \"#d8576b\"], [0.6666666666666666, \"#ed7953\"], [0.7777777777777778, \"#fb9f3a\"], [0.8888888888888888, \"#fdca26\"], [1.0, \"#f0f921\"]], \"type\": \"heatmapgl\"}], \"histogram\": [{\"marker\": {\"colorbar\": {\"outlinewidth\": 0, \"ticks\": \"\"}}, \"type\": \"histogram\"}], \"histogram2d\": [{\"colorbar\": {\"outlinewidth\": 0, \"ticks\": \"\"}, \"colorscale\": [[0.0, \"#0d0887\"], [0.1111111111111111, \"#46039f\"], [0.2222222222222222, \"#7201a8\"], [0.3333333333333333, \"#9c179e\"], [0.4444444444444444, \"#bd3786\"], [0.5555555555555556, \"#d8576b\"], [0.6666666666666666, \"#ed7953\"], [0.7777777777777778, \"#fb9f3a\"], [0.8888888888888888, \"#fdca26\"], [1.0, \"#f0f921\"]], \"type\": \"histogram2d\"}], \"histogram2dcontour\": [{\"colorbar\": {\"outlinewidth\": 0, \"ticks\": \"\"}, \"colorscale\": [[0.0, \"#0d0887\"], [0.1111111111111111, \"#46039f\"], [0.2222222222222222, \"#7201a8\"], [0.3333333333333333, \"#9c179e\"], [0.4444444444444444, \"#bd3786\"], [0.5555555555555556, \"#d8576b\"], [0.6666666666666666, \"#ed7953\"], [0.7777777777777778, \"#fb9f3a\"], [0.8888888888888888, \"#fdca26\"], [1.0, \"#f0f921\"]], \"type\": \"histogram2dcontour\"}], \"mesh3d\": [{\"colorbar\": {\"outlinewidth\": 0, \"ticks\": \"\"}, \"type\": \"mesh3d\"}], \"parcoords\": [{\"line\": {\"colorbar\": {\"outlinewidth\": 0, \"ticks\": \"\"}}, \"type\": \"parcoords\"}], \"pie\": [{\"automargin\": true, \"type\": \"pie\"}], \"scatter\": [{\"marker\": {\"colorbar\": {\"outlinewidth\": 0, \"ticks\": \"\"}}, \"type\": \"scatter\"}], \"scatter3d\": [{\"line\": {\"colorbar\": {\"outlinewidth\": 0, \"ticks\": \"\"}}, \"marker\": {\"colorbar\": {\"outlinewidth\": 0, \"ticks\": \"\"}}, \"type\": \"scatter3d\"}], \"scattercarpet\": [{\"marker\": {\"colorbar\": {\"outlinewidth\": 0, \"ticks\": \"\"}}, \"type\": \"scattercarpet\"}], \"scattergeo\": [{\"marker\": {\"colorbar\": {\"outlinewidth\": 0, \"ticks\": \"\"}}, \"type\": \"scattergeo\"}], \"scattergl\": [{\"marker\": {\"colorbar\": {\"outlinewidth\": 0, \"ticks\": \"\"}}, \"type\": \"scattergl\"}], \"scattermapbox\": [{\"marker\": {\"colorbar\": {\"outlinewidth\": 0, \"ticks\": \"\"}}, \"type\": \"scattermapbox\"}], \"scatterpolar\": [{\"marker\": {\"colorbar\": {\"outlinewidth\": 0, \"ticks\": \"\"}}, \"type\": \"scatterpolar\"}], \"scatterpolargl\": [{\"marker\": {\"colorbar\": {\"outlinewidth\": 0, \"ticks\": \"\"}}, \"type\": \"scatterpolargl\"}], \"scatterternary\": [{\"marker\": {\"colorbar\": {\"outlinewidth\": 0, \"ticks\": \"\"}}, \"type\": \"scatterternary\"}], \"surface\": [{\"colorbar\": {\"outlinewidth\": 0, \"ticks\": \"\"}, \"colorscale\": [[0.0, \"#0d0887\"], [0.1111111111111111, \"#46039f\"], [0.2222222222222222, \"#7201a8\"], [0.3333333333333333, \"#9c179e\"], [0.4444444444444444, \"#bd3786\"], [0.5555555555555556, \"#d8576b\"], [0.6666666666666666, \"#ed7953\"], [0.7777777777777778, \"#fb9f3a\"], [0.8888888888888888, \"#fdca26\"], [1.0, \"#f0f921\"]], \"type\": \"surface\"}], \"table\": [{\"cells\": {\"fill\": {\"color\": \"#EBF0F8\"}, \"line\": {\"color\": \"white\"}}, \"header\": {\"fill\": {\"color\": \"#C8D4E3\"}, \"line\": {\"color\": \"white\"}}, \"type\": \"table\"}]}, \"layout\": {\"annotationdefaults\": {\"arrowcolor\": \"#2a3f5f\", \"arrowhead\": 0, \"arrowwidth\": 1}, \"autotypenumbers\": \"strict\", \"coloraxis\": {\"colorbar\": {\"outlinewidth\": 0, \"ticks\": \"\"}}, \"colorscale\": {\"diverging\": [[0, \"#8e0152\"], [0.1, \"#c51b7d\"], [0.2, \"#de77ae\"], [0.3, \"#f1b6da\"], [0.4, \"#fde0ef\"], [0.5, \"#f7f7f7\"], [0.6, \"#e6f5d0\"], [0.7, \"#b8e186\"], [0.8, \"#7fbc41\"], [0.9, \"#4d9221\"], [1, \"#276419\"]], \"sequential\": [[0.0, \"#0d0887\"], [0.1111111111111111, \"#46039f\"], [0.2222222222222222, \"#7201a8\"], [0.3333333333333333, \"#9c179e\"], [0.4444444444444444, \"#bd3786\"], [0.5555555555555556, \"#d8576b\"], [0.6666666666666666, \"#ed7953\"], [0.7777777777777778, \"#fb9f3a\"], [0.8888888888888888, \"#fdca26\"], [1.0, \"#f0f921\"]], \"sequentialminus\": [[0.0, \"#0d0887\"], [0.1111111111111111, \"#46039f\"], [0.2222222222222222, \"#7201a8\"], [0.3333333333333333, \"#9c179e\"], [0.4444444444444444, \"#bd3786\"], [0.5555555555555556, \"#d8576b\"], [0.6666666666666666, \"#ed7953\"], [0.7777777777777778, \"#fb9f3a\"], [0.8888888888888888, \"#fdca26\"], [1.0, \"#f0f921\"]]}, \"colorway\": [\"#636efa\", \"#EF553B\", \"#00cc96\", \"#ab63fa\", \"#FFA15A\", \"#19d3f3\", \"#FF6692\", \"#B6E880\", \"#FF97FF\", \"#FECB52\"], \"font\": {\"color\": \"#2a3f5f\"}, \"geo\": {\"bgcolor\": \"white\", \"lakecolor\": \"white\", \"landcolor\": \"#E5ECF6\", \"showlakes\": true, \"showland\": true, \"subunitcolor\": \"white\"}, \"hoverlabel\": {\"align\": \"left\"}, \"hovermode\": \"closest\", \"mapbox\": {\"style\": \"light\"}, \"paper_bgcolor\": \"white\", \"plot_bgcolor\": \"#E5ECF6\", \"polar\": {\"angularaxis\": {\"gridcolor\": \"white\", \"linecolor\": \"white\", \"ticks\": \"\"}, \"bgcolor\": \"#E5ECF6\", \"radialaxis\": {\"gridcolor\": \"white\", \"linecolor\": \"white\", \"ticks\": \"\"}}, \"scene\": {\"xaxis\": {\"backgroundcolor\": \"#E5ECF6\", \"gridcolor\": \"white\", \"gridwidth\": 2, \"linecolor\": \"white\", \"showbackground\": true, \"ticks\": \"\", \"zerolinecolor\": \"white\"}, \"yaxis\": {\"backgroundcolor\": \"#E5ECF6\", \"gridcolor\": \"white\", \"gridwidth\": 2, \"linecolor\": \"white\", \"showbackground\": true, \"ticks\": \"\", \"zerolinecolor\": \"white\"}, \"zaxis\": {\"backgroundcolor\": \"#E5ECF6\", \"gridcolor\": \"white\", \"gridwidth\": 2, \"linecolor\": \"white\", \"showbackground\": true, \"ticks\": \"\", \"zerolinecolor\": \"white\"}}, \"shapedefaults\": {\"line\": {\"color\": \"#2a3f5f\"}}, \"ternary\": {\"aaxis\": {\"gridcolor\": \"white\", \"linecolor\": \"white\", \"ticks\": \"\"}, \"baxis\": {\"gridcolor\": \"white\", \"linecolor\": \"white\", \"ticks\": \"\"}, \"bgcolor\": \"#E5ECF6\", \"caxis\": {\"gridcolor\": \"white\", \"linecolor\": \"white\", \"ticks\": \"\"}}, \"title\": {\"x\": 0.05}, \"xaxis\": {\"automargin\": true, \"gridcolor\": \"white\", \"linecolor\": \"white\", \"ticks\": \"\", \"title\": {\"standoff\": 15}, \"zerolinecolor\": \"white\", \"zerolinewidth\": 2}, \"yaxis\": {\"automargin\": true, \"gridcolor\": \"white\", \"linecolor\": \"white\", \"ticks\": \"\", \"title\": {\"standoff\": 15}, \"zerolinecolor\": \"white\", \"zerolinewidth\": 2}}}, \"title\": {\"text\": \"Status do pedido\"}, \"xaxis\": {\"anchor\": \"y\", \"domain\": [0.0, 1.0], \"title\": {\"text\": \"Status\"}}, \"yaxis\": {\"anchor\": \"x\", \"domain\": [0.0, 1.0], \"title\": {\"text\": \"Pedidos\"}, \"type\": \"log\"}},                        {\"responsive\": true}                    ).then(function(){\n",
              "                            \n",
              "var gd = document.getElementById('c32fa4e7-b61d-4a81-861b-9baae0bafe15');\n",
              "var x = new MutationObserver(function (mutations, observer) {{\n",
              "        var display = window.getComputedStyle(gd).display;\n",
              "        if (!display || display === 'none') {{\n",
              "            console.log([gd, 'removed!']);\n",
              "            Plotly.purge(gd);\n",
              "            observer.disconnect();\n",
              "        }}\n",
              "}});\n",
              "\n",
              "// Listen for the removal of the full notebook cells\n",
              "var notebookContainer = gd.closest('#notebook-container');\n",
              "if (notebookContainer) {{\n",
              "    x.observe(notebookContainer, {childList: true});\n",
              "}}\n",
              "\n",
              "// Listen for the clearing of the current output cell\n",
              "var outputEl = gd.closest('.output');\n",
              "if (outputEl) {{\n",
              "    x.observe(outputEl, {childList: true});\n",
              "}}\n",
              "\n",
              "                        })                };                            </script>        </div>\n",
              "</body>\n",
              "</html>"
            ]
          },
          "metadata": {
            "tags": []
          }
        }
      ]
    },
    {
      "cell_type": "markdown",
      "metadata": {
        "id": "irHbz4O-qI2W"
      },
      "source": [
        "### Data"
      ]
    },
    {
      "cell_type": "code",
      "metadata": {
        "id": "SY4NFblSqM9V",
        "colab": {
          "base_uri": "https://localhost:8080/",
          "height": 126
        },
        "outputId": "95b0d5e7-750f-4529-ec0a-33d757617349"
      },
      "source": [
        "df_compras.head(2)"
      ],
      "execution_count": null,
      "outputs": [
        {
          "output_type": "execute_result",
          "data": {
            "text/html": [
              "<div>\n",
              "<style scoped>\n",
              "    .dataframe tbody tr th:only-of-type {\n",
              "        vertical-align: middle;\n",
              "    }\n",
              "\n",
              "    .dataframe tbody tr th {\n",
              "        vertical-align: top;\n",
              "    }\n",
              "\n",
              "    .dataframe thead th {\n",
              "        text-align: right;\n",
              "    }\n",
              "</style>\n",
              "<table border=\"1\" class=\"dataframe\">\n",
              "  <thead>\n",
              "    <tr style=\"text-align: right;\">\n",
              "      <th></th>\n",
              "      <th>order_id</th>\n",
              "      <th>customer_id</th>\n",
              "      <th>order_status</th>\n",
              "      <th>order_purchase_timestamp</th>\n",
              "      <th>order_approved_at</th>\n",
              "      <th>order_delivered_carrier_date</th>\n",
              "      <th>order_delivered_customer_date</th>\n",
              "      <th>order_estimated_delivery_date</th>\n",
              "    </tr>\n",
              "  </thead>\n",
              "  <tbody>\n",
              "    <tr>\n",
              "      <th>0</th>\n",
              "      <td>e481f51cbdc54678b7cc49136f2d6af7</td>\n",
              "      <td>9ef432eb6251297304e76186b10a928d</td>\n",
              "      <td>delivered</td>\n",
              "      <td>2017-10-02 10:56:33</td>\n",
              "      <td>2017-10-02 11:07:15</td>\n",
              "      <td>2017-10-04 19:55:00</td>\n",
              "      <td>2017-10-10 21:25:13</td>\n",
              "      <td>2017-10-18 00:00:00</td>\n",
              "    </tr>\n",
              "    <tr>\n",
              "      <th>1</th>\n",
              "      <td>53cdb2fc8bc7dce0b6741e2150273451</td>\n",
              "      <td>b0830fb4747a6c6d20dea0b8c802d7ef</td>\n",
              "      <td>delivered</td>\n",
              "      <td>2018-07-24 20:41:37</td>\n",
              "      <td>2018-07-26 03:24:27</td>\n",
              "      <td>2018-07-26 14:31:00</td>\n",
              "      <td>2018-08-07 15:27:45</td>\n",
              "      <td>2018-08-13 00:00:00</td>\n",
              "    </tr>\n",
              "  </tbody>\n",
              "</table>\n",
              "</div>"
            ],
            "text/plain": [
              "                           order_id  ... order_estimated_delivery_date\n",
              "0  e481f51cbdc54678b7cc49136f2d6af7  ...           2017-10-18 00:00:00\n",
              "1  53cdb2fc8bc7dce0b6741e2150273451  ...           2018-08-13 00:00:00\n",
              "\n",
              "[2 rows x 8 columns]"
            ]
          },
          "metadata": {
            "tags": []
          },
          "execution_count": 44
        }
      ]
    },
    {
      "cell_type": "code",
      "metadata": {
        "id": "X9qgxY8jqOo5",
        "colab": {
          "base_uri": "https://localhost:8080/",
          "height": 135
        },
        "outputId": "e9d71439-1a22-45df-b253-59752ebb9c23"
      },
      "source": [
        "df_compras_dt = df_compras[['order_id', 'customer_id', 'order_status']].copy()\n",
        "df_compras_dt.head(3)"
      ],
      "execution_count": null,
      "outputs": [
        {
          "output_type": "execute_result",
          "data": {
            "text/html": [
              "<div>\n",
              "<style scoped>\n",
              "    .dataframe tbody tr th:only-of-type {\n",
              "        vertical-align: middle;\n",
              "    }\n",
              "\n",
              "    .dataframe tbody tr th {\n",
              "        vertical-align: top;\n",
              "    }\n",
              "\n",
              "    .dataframe thead th {\n",
              "        text-align: right;\n",
              "    }\n",
              "</style>\n",
              "<table border=\"1\" class=\"dataframe\">\n",
              "  <thead>\n",
              "    <tr style=\"text-align: right;\">\n",
              "      <th></th>\n",
              "      <th>order_id</th>\n",
              "      <th>customer_id</th>\n",
              "      <th>order_status</th>\n",
              "    </tr>\n",
              "  </thead>\n",
              "  <tbody>\n",
              "    <tr>\n",
              "      <th>0</th>\n",
              "      <td>e481f51cbdc54678b7cc49136f2d6af7</td>\n",
              "      <td>9ef432eb6251297304e76186b10a928d</td>\n",
              "      <td>delivered</td>\n",
              "    </tr>\n",
              "    <tr>\n",
              "      <th>1</th>\n",
              "      <td>53cdb2fc8bc7dce0b6741e2150273451</td>\n",
              "      <td>b0830fb4747a6c6d20dea0b8c802d7ef</td>\n",
              "      <td>delivered</td>\n",
              "    </tr>\n",
              "    <tr>\n",
              "      <th>2</th>\n",
              "      <td>47770eb9100c2d0c44946d9cf07ec65d</td>\n",
              "      <td>41ce2a54c0b03bf3443c3d931a367089</td>\n",
              "      <td>delivered</td>\n",
              "    </tr>\n",
              "  </tbody>\n",
              "</table>\n",
              "</div>"
            ],
            "text/plain": [
              "                           order_id  ... order_status\n",
              "0  e481f51cbdc54678b7cc49136f2d6af7  ...    delivered\n",
              "1  53cdb2fc8bc7dce0b6741e2150273451  ...    delivered\n",
              "2  47770eb9100c2d0c44946d9cf07ec65d  ...    delivered\n",
              "\n",
              "[3 rows x 3 columns]"
            ]
          },
          "metadata": {
            "tags": []
          },
          "execution_count": 45
        }
      ]
    },
    {
      "cell_type": "code",
      "metadata": {
        "id": "IzTdElYMqqci",
        "colab": {
          "base_uri": "https://localhost:8080/"
        },
        "outputId": "2d421631-4f7a-4260-89f4-7dec9e423eb8"
      },
      "source": [
        "# demonstração\n",
        "pd.to_datetime( df_compras['order_purchase_timestamp'], format='%Y-%m-%d')"
      ],
      "execution_count": null,
      "outputs": [
        {
          "output_type": "execute_result",
          "data": {
            "text/plain": [
              "0       2017-10-02 10:56:33\n",
              "1       2018-07-24 20:41:37\n",
              "2       2018-08-08 08:38:49\n",
              "3       2017-11-18 19:28:06\n",
              "4       2018-02-13 21:18:39\n",
              "                ...        \n",
              "99436   2017-03-09 09:54:05\n",
              "99437   2018-02-06 12:58:58\n",
              "99438   2017-08-27 14:46:43\n",
              "99439   2018-01-08 21:28:27\n",
              "99440   2018-03-08 20:57:30\n",
              "Name: order_purchase_timestamp, Length: 99441, dtype: datetime64[ns]"
            ]
          },
          "metadata": {
            "tags": []
          },
          "execution_count": 46
        }
      ]
    },
    {
      "cell_type": "code",
      "metadata": {
        "id": "IHCOUodEq1Rf",
        "colab": {
          "base_uri": "https://localhost:8080/"
        },
        "outputId": "ac1ae140-b3b1-47eb-a782-e2eedef656ce"
      },
      "source": [
        "lista_colunas_datas = list( df_compras.iloc[:1, 3:].columns )\n",
        "lista_colunas_datas"
      ],
      "execution_count": null,
      "outputs": [
        {
          "output_type": "execute_result",
          "data": {
            "text/plain": [
              "['order_purchase_timestamp',\n",
              " 'order_approved_at',\n",
              " 'order_delivered_carrier_date',\n",
              " 'order_delivered_customer_date',\n",
              " 'order_estimated_delivery_date']"
            ]
          },
          "metadata": {
            "tags": []
          },
          "execution_count": 47
        }
      ]
    },
    {
      "cell_type": "code",
      "metadata": {
        "id": "UO2KZ7jXr6GX",
        "colab": {
          "base_uri": "https://localhost:8080/",
          "height": 155
        },
        "outputId": "3ba02f7b-e336-48cb-ef79-b405644180e6"
      },
      "source": [
        "for coluna in lista_colunas_datas:\n",
        "    df_compras_dt[coluna] = pd.to_datetime( df_compras[coluna], format='%Y-%m-%d')\n",
        "\n",
        "df_compras_dt.head(3)"
      ],
      "execution_count": null,
      "outputs": [
        {
          "output_type": "execute_result",
          "data": {
            "text/html": [
              "<div>\n",
              "<style scoped>\n",
              "    .dataframe tbody tr th:only-of-type {\n",
              "        vertical-align: middle;\n",
              "    }\n",
              "\n",
              "    .dataframe tbody tr th {\n",
              "        vertical-align: top;\n",
              "    }\n",
              "\n",
              "    .dataframe thead th {\n",
              "        text-align: right;\n",
              "    }\n",
              "</style>\n",
              "<table border=\"1\" class=\"dataframe\">\n",
              "  <thead>\n",
              "    <tr style=\"text-align: right;\">\n",
              "      <th></th>\n",
              "      <th>order_id</th>\n",
              "      <th>customer_id</th>\n",
              "      <th>order_status</th>\n",
              "      <th>order_purchase_timestamp</th>\n",
              "      <th>order_approved_at</th>\n",
              "      <th>order_delivered_carrier_date</th>\n",
              "      <th>order_delivered_customer_date</th>\n",
              "      <th>order_estimated_delivery_date</th>\n",
              "    </tr>\n",
              "  </thead>\n",
              "  <tbody>\n",
              "    <tr>\n",
              "      <th>0</th>\n",
              "      <td>e481f51cbdc54678b7cc49136f2d6af7</td>\n",
              "      <td>9ef432eb6251297304e76186b10a928d</td>\n",
              "      <td>delivered</td>\n",
              "      <td>2017-10-02 10:56:33</td>\n",
              "      <td>2017-10-02 11:07:15</td>\n",
              "      <td>2017-10-04 19:55:00</td>\n",
              "      <td>2017-10-10 21:25:13</td>\n",
              "      <td>2017-10-18</td>\n",
              "    </tr>\n",
              "    <tr>\n",
              "      <th>1</th>\n",
              "      <td>53cdb2fc8bc7dce0b6741e2150273451</td>\n",
              "      <td>b0830fb4747a6c6d20dea0b8c802d7ef</td>\n",
              "      <td>delivered</td>\n",
              "      <td>2018-07-24 20:41:37</td>\n",
              "      <td>2018-07-26 03:24:27</td>\n",
              "      <td>2018-07-26 14:31:00</td>\n",
              "      <td>2018-08-07 15:27:45</td>\n",
              "      <td>2018-08-13</td>\n",
              "    </tr>\n",
              "    <tr>\n",
              "      <th>2</th>\n",
              "      <td>47770eb9100c2d0c44946d9cf07ec65d</td>\n",
              "      <td>41ce2a54c0b03bf3443c3d931a367089</td>\n",
              "      <td>delivered</td>\n",
              "      <td>2018-08-08 08:38:49</td>\n",
              "      <td>2018-08-08 08:55:23</td>\n",
              "      <td>2018-08-08 13:50:00</td>\n",
              "      <td>2018-08-17 18:06:29</td>\n",
              "      <td>2018-09-04</td>\n",
              "    </tr>\n",
              "  </tbody>\n",
              "</table>\n",
              "</div>"
            ],
            "text/plain": [
              "                           order_id  ... order_estimated_delivery_date\n",
              "0  e481f51cbdc54678b7cc49136f2d6af7  ...                    2017-10-18\n",
              "1  53cdb2fc8bc7dce0b6741e2150273451  ...                    2018-08-13\n",
              "2  47770eb9100c2d0c44946d9cf07ec65d  ...                    2018-09-04\n",
              "\n",
              "[3 rows x 8 columns]"
            ]
          },
          "metadata": {
            "tags": []
          },
          "execution_count": 48
        }
      ]
    },
    {
      "cell_type": "code",
      "metadata": {
        "id": "tSus5C-7sgGt",
        "colab": {
          "base_uri": "https://localhost:8080/"
        },
        "outputId": "975391fe-722e-48d0-d8bb-eb6a8cbbea9f"
      },
      "source": [
        "df_compras_dt.dtypes"
      ],
      "execution_count": null,
      "outputs": [
        {
          "output_type": "execute_result",
          "data": {
            "text/plain": [
              "order_id                                 object\n",
              "customer_id                              object\n",
              "order_status                             object\n",
              "order_purchase_timestamp         datetime64[ns]\n",
              "order_approved_at                datetime64[ns]\n",
              "order_delivered_carrier_date     datetime64[ns]\n",
              "order_delivered_customer_date    datetime64[ns]\n",
              "order_estimated_delivery_date    datetime64[ns]\n",
              "dtype: object"
            ]
          },
          "metadata": {
            "tags": []
          },
          "execution_count": 49
        }
      ]
    },
    {
      "cell_type": "code",
      "metadata": {
        "id": "NRn9vQpEsiZe",
        "colab": {
          "base_uri": "https://localhost:8080/"
        },
        "outputId": "b2677730-80e0-4aad-8e08-d9a31073b130"
      },
      "source": [
        "df_compras_dt.iloc[0,:]"
      ],
      "execution_count": null,
      "outputs": [
        {
          "output_type": "execute_result",
          "data": {
            "text/plain": [
              "order_id                         e481f51cbdc54678b7cc49136f2d6af7\n",
              "customer_id                      9ef432eb6251297304e76186b10a928d\n",
              "order_status                                            delivered\n",
              "order_purchase_timestamp                      2017-10-02 10:56:33\n",
              "order_approved_at                             2017-10-02 11:07:15\n",
              "order_delivered_carrier_date                  2017-10-04 19:55:00\n",
              "order_delivered_customer_date                 2017-10-10 21:25:13\n",
              "order_estimated_delivery_date                 2017-10-18 00:00:00\n",
              "Name: 0, dtype: object"
            ]
          },
          "metadata": {
            "tags": []
          },
          "execution_count": 50
        }
      ]
    },
    {
      "cell_type": "markdown",
      "metadata": {
        "id": "GVGIhCMKtlhZ"
      },
      "source": [
        "Eficiência na entrega"
      ]
    },
    {
      "cell_type": "code",
      "metadata": {
        "id": "LFnBnmHlsq5k",
        "colab": {
          "base_uri": "https://localhost:8080/"
        },
        "outputId": "85561d71-b4a3-4850-f409-9d40e0a84499"
      },
      "source": [
        "em_tempo = (df_compras_dt.order_delivered_customer_date <= df_compras_dt.order_estimated_delivery_date).sum()\n",
        "em_tempo"
      ],
      "execution_count": null,
      "outputs": [
        {
          "output_type": "execute_result",
          "data": {
            "text/plain": [
              "89996"
            ]
          },
          "metadata": {
            "tags": []
          },
          "execution_count": 51
        }
      ]
    },
    {
      "cell_type": "code",
      "metadata": {
        "id": "uTpYOePbtFdY",
        "colab": {
          "base_uri": "https://localhost:8080/"
        },
        "outputId": "68606088-2ec8-4d71-aa5e-8280a02afb47"
      },
      "source": [
        "total = (df_compras_dt.order_delivered_customer_date <= df_compras_dt.order_estimated_delivery_date).count()\n",
        "total"
      ],
      "execution_count": null,
      "outputs": [
        {
          "output_type": "execute_result",
          "data": {
            "text/plain": [
              "99441"
            ]
          },
          "metadata": {
            "tags": []
          },
          "execution_count": 52
        }
      ]
    },
    {
      "cell_type": "code",
      "metadata": {
        "id": "UGyKduRrtjYx",
        "colab": {
          "base_uri": "https://localhost:8080/"
        },
        "outputId": "5967b443-04f9-42fc-c6fd-139bb25efcef"
      },
      "source": [
        "atrasados = total - em_tempo\n",
        "atrasados"
      ],
      "execution_count": null,
      "outputs": [
        {
          "output_type": "execute_result",
          "data": {
            "text/plain": [
              "9445"
            ]
          },
          "metadata": {
            "tags": []
          },
          "execution_count": 53
        }
      ]
    },
    {
      "cell_type": "code",
      "metadata": {
        "id": "Mz12OIWStyb5",
        "colab": {
          "base_uri": "https://localhost:8080/",
          "height": 542
        },
        "outputId": "c777b4a8-48a3-4510-ce3c-7658f05c5c76"
      },
      "source": [
        "fig = px.pie( values=[em_tempo, atrasados], names=['Dentro do Estimado','Atrasados'], title='Eficiência na Entrega')\n",
        "fig.show()"
      ],
      "execution_count": null,
      "outputs": [
        {
          "output_type": "display_data",
          "data": {
            "text/html": [
              "<html>\n",
              "<head><meta charset=\"utf-8\" /></head>\n",
              "<body>\n",
              "    <div>            <script src=\"https://cdnjs.cloudflare.com/ajax/libs/mathjax/2.7.5/MathJax.js?config=TeX-AMS-MML_SVG\"></script><script type=\"text/javascript\">if (window.MathJax) {MathJax.Hub.Config({SVG: {font: \"STIX-Web\"}});}</script>                <script type=\"text/javascript\">window.PlotlyConfig = {MathJaxConfig: 'local'};</script>\n",
              "        <script src=\"https://cdn.plot.ly/plotly-latest.min.js\"></script>                <div id=\"2aa7bfd3-cd85-42fe-8f92-cce0a4309cd8\" class=\"plotly-graph-div\" style=\"height:525px; width:100%;\"></div>            <script type=\"text/javascript\">                                    window.PLOTLYENV=window.PLOTLYENV || {};                                    if (document.getElementById(\"2aa7bfd3-cd85-42fe-8f92-cce0a4309cd8\")) {                    Plotly.newPlot(                        \"2aa7bfd3-cd85-42fe-8f92-cce0a4309cd8\",                        [{\"domain\": {\"x\": [0.0, 1.0], \"y\": [0.0, 1.0]}, \"hovertemplate\": \"label=%{label}<br>value=%{value}<extra></extra>\", \"labels\": [\"Dentro do Estimado\", \"Atrasados\"], \"legendgroup\": \"\", \"name\": \"\", \"showlegend\": true, \"type\": \"pie\", \"values\": [89996, 9445]}],                        {\"legend\": {\"tracegroupgap\": 0}, \"template\": {\"data\": {\"bar\": [{\"error_x\": {\"color\": \"#2a3f5f\"}, \"error_y\": {\"color\": \"#2a3f5f\"}, \"marker\": {\"line\": {\"color\": \"#E5ECF6\", \"width\": 0.5}}, \"type\": \"bar\"}], \"barpolar\": [{\"marker\": {\"line\": {\"color\": \"#E5ECF6\", \"width\": 0.5}}, \"type\": \"barpolar\"}], \"carpet\": [{\"aaxis\": {\"endlinecolor\": \"#2a3f5f\", \"gridcolor\": \"white\", \"linecolor\": \"white\", \"minorgridcolor\": \"white\", \"startlinecolor\": \"#2a3f5f\"}, \"baxis\": {\"endlinecolor\": \"#2a3f5f\", \"gridcolor\": \"white\", \"linecolor\": \"white\", \"minorgridcolor\": \"white\", \"startlinecolor\": \"#2a3f5f\"}, \"type\": \"carpet\"}], \"choropleth\": [{\"colorbar\": {\"outlinewidth\": 0, \"ticks\": \"\"}, \"type\": \"choropleth\"}], \"contour\": [{\"colorbar\": {\"outlinewidth\": 0, \"ticks\": \"\"}, \"colorscale\": [[0.0, \"#0d0887\"], [0.1111111111111111, \"#46039f\"], [0.2222222222222222, \"#7201a8\"], [0.3333333333333333, \"#9c179e\"], [0.4444444444444444, \"#bd3786\"], [0.5555555555555556, \"#d8576b\"], [0.6666666666666666, \"#ed7953\"], [0.7777777777777778, \"#fb9f3a\"], [0.8888888888888888, \"#fdca26\"], [1.0, \"#f0f921\"]], \"type\": \"contour\"}], \"contourcarpet\": [{\"colorbar\": {\"outlinewidth\": 0, \"ticks\": \"\"}, \"type\": \"contourcarpet\"}], \"heatmap\": [{\"colorbar\": {\"outlinewidth\": 0, \"ticks\": \"\"}, \"colorscale\": [[0.0, \"#0d0887\"], [0.1111111111111111, \"#46039f\"], [0.2222222222222222, \"#7201a8\"], [0.3333333333333333, \"#9c179e\"], [0.4444444444444444, \"#bd3786\"], [0.5555555555555556, \"#d8576b\"], [0.6666666666666666, \"#ed7953\"], [0.7777777777777778, \"#fb9f3a\"], [0.8888888888888888, \"#fdca26\"], [1.0, \"#f0f921\"]], \"type\": \"heatmap\"}], \"heatmapgl\": [{\"colorbar\": {\"outlinewidth\": 0, \"ticks\": \"\"}, \"colorscale\": [[0.0, \"#0d0887\"], [0.1111111111111111, \"#46039f\"], [0.2222222222222222, \"#7201a8\"], [0.3333333333333333, \"#9c179e\"], [0.4444444444444444, \"#bd3786\"], [0.5555555555555556, \"#d8576b\"], [0.6666666666666666, \"#ed7953\"], [0.7777777777777778, \"#fb9f3a\"], [0.8888888888888888, \"#fdca26\"], [1.0, \"#f0f921\"]], \"type\": \"heatmapgl\"}], \"histogram\": [{\"marker\": {\"colorbar\": {\"outlinewidth\": 0, \"ticks\": \"\"}}, \"type\": \"histogram\"}], \"histogram2d\": [{\"colorbar\": {\"outlinewidth\": 0, \"ticks\": \"\"}, \"colorscale\": [[0.0, \"#0d0887\"], [0.1111111111111111, \"#46039f\"], [0.2222222222222222, \"#7201a8\"], [0.3333333333333333, \"#9c179e\"], [0.4444444444444444, \"#bd3786\"], [0.5555555555555556, \"#d8576b\"], [0.6666666666666666, \"#ed7953\"], [0.7777777777777778, \"#fb9f3a\"], [0.8888888888888888, \"#fdca26\"], [1.0, \"#f0f921\"]], \"type\": \"histogram2d\"}], \"histogram2dcontour\": [{\"colorbar\": {\"outlinewidth\": 0, \"ticks\": \"\"}, \"colorscale\": [[0.0, \"#0d0887\"], [0.1111111111111111, \"#46039f\"], [0.2222222222222222, \"#7201a8\"], [0.3333333333333333, \"#9c179e\"], [0.4444444444444444, \"#bd3786\"], [0.5555555555555556, \"#d8576b\"], [0.6666666666666666, \"#ed7953\"], [0.7777777777777778, \"#fb9f3a\"], [0.8888888888888888, \"#fdca26\"], [1.0, \"#f0f921\"]], \"type\": \"histogram2dcontour\"}], \"mesh3d\": [{\"colorbar\": {\"outlinewidth\": 0, \"ticks\": \"\"}, \"type\": \"mesh3d\"}], \"parcoords\": [{\"line\": {\"colorbar\": {\"outlinewidth\": 0, \"ticks\": \"\"}}, \"type\": \"parcoords\"}], \"pie\": [{\"automargin\": true, \"type\": \"pie\"}], \"scatter\": [{\"marker\": {\"colorbar\": {\"outlinewidth\": 0, \"ticks\": \"\"}}, \"type\": \"scatter\"}], \"scatter3d\": [{\"line\": {\"colorbar\": {\"outlinewidth\": 0, \"ticks\": \"\"}}, \"marker\": {\"colorbar\": {\"outlinewidth\": 0, \"ticks\": \"\"}}, \"type\": \"scatter3d\"}], \"scattercarpet\": [{\"marker\": {\"colorbar\": {\"outlinewidth\": 0, \"ticks\": \"\"}}, \"type\": \"scattercarpet\"}], \"scattergeo\": [{\"marker\": {\"colorbar\": {\"outlinewidth\": 0, \"ticks\": \"\"}}, \"type\": \"scattergeo\"}], \"scattergl\": [{\"marker\": {\"colorbar\": {\"outlinewidth\": 0, \"ticks\": \"\"}}, \"type\": \"scattergl\"}], \"scattermapbox\": [{\"marker\": {\"colorbar\": {\"outlinewidth\": 0, \"ticks\": \"\"}}, \"type\": \"scattermapbox\"}], \"scatterpolar\": [{\"marker\": {\"colorbar\": {\"outlinewidth\": 0, \"ticks\": \"\"}}, \"type\": \"scatterpolar\"}], \"scatterpolargl\": [{\"marker\": {\"colorbar\": {\"outlinewidth\": 0, \"ticks\": \"\"}}, \"type\": \"scatterpolargl\"}], \"scatterternary\": [{\"marker\": {\"colorbar\": {\"outlinewidth\": 0, \"ticks\": \"\"}}, \"type\": \"scatterternary\"}], \"surface\": [{\"colorbar\": {\"outlinewidth\": 0, \"ticks\": \"\"}, \"colorscale\": [[0.0, \"#0d0887\"], [0.1111111111111111, \"#46039f\"], [0.2222222222222222, \"#7201a8\"], [0.3333333333333333, \"#9c179e\"], [0.4444444444444444, \"#bd3786\"], [0.5555555555555556, \"#d8576b\"], [0.6666666666666666, \"#ed7953\"], [0.7777777777777778, \"#fb9f3a\"], [0.8888888888888888, \"#fdca26\"], [1.0, \"#f0f921\"]], \"type\": \"surface\"}], \"table\": [{\"cells\": {\"fill\": {\"color\": \"#EBF0F8\"}, \"line\": {\"color\": \"white\"}}, \"header\": {\"fill\": {\"color\": \"#C8D4E3\"}, \"line\": {\"color\": \"white\"}}, \"type\": \"table\"}]}, \"layout\": {\"annotationdefaults\": {\"arrowcolor\": \"#2a3f5f\", \"arrowhead\": 0, \"arrowwidth\": 1}, \"autotypenumbers\": \"strict\", \"coloraxis\": {\"colorbar\": {\"outlinewidth\": 0, \"ticks\": \"\"}}, \"colorscale\": {\"diverging\": [[0, \"#8e0152\"], [0.1, \"#c51b7d\"], [0.2, \"#de77ae\"], [0.3, \"#f1b6da\"], [0.4, \"#fde0ef\"], [0.5, \"#f7f7f7\"], [0.6, \"#e6f5d0\"], [0.7, \"#b8e186\"], [0.8, \"#7fbc41\"], [0.9, \"#4d9221\"], [1, \"#276419\"]], \"sequential\": [[0.0, \"#0d0887\"], [0.1111111111111111, \"#46039f\"], [0.2222222222222222, \"#7201a8\"], [0.3333333333333333, \"#9c179e\"], [0.4444444444444444, \"#bd3786\"], [0.5555555555555556, \"#d8576b\"], [0.6666666666666666, \"#ed7953\"], [0.7777777777777778, \"#fb9f3a\"], [0.8888888888888888, \"#fdca26\"], [1.0, \"#f0f921\"]], \"sequentialminus\": [[0.0, \"#0d0887\"], [0.1111111111111111, \"#46039f\"], [0.2222222222222222, \"#7201a8\"], [0.3333333333333333, \"#9c179e\"], [0.4444444444444444, \"#bd3786\"], [0.5555555555555556, \"#d8576b\"], [0.6666666666666666, \"#ed7953\"], [0.7777777777777778, \"#fb9f3a\"], [0.8888888888888888, \"#fdca26\"], [1.0, \"#f0f921\"]]}, \"colorway\": [\"#636efa\", \"#EF553B\", \"#00cc96\", \"#ab63fa\", \"#FFA15A\", \"#19d3f3\", \"#FF6692\", \"#B6E880\", \"#FF97FF\", \"#FECB52\"], \"font\": {\"color\": \"#2a3f5f\"}, \"geo\": {\"bgcolor\": \"white\", \"lakecolor\": \"white\", \"landcolor\": \"#E5ECF6\", \"showlakes\": true, \"showland\": true, \"subunitcolor\": \"white\"}, \"hoverlabel\": {\"align\": \"left\"}, \"hovermode\": \"closest\", \"mapbox\": {\"style\": \"light\"}, \"paper_bgcolor\": \"white\", \"plot_bgcolor\": \"#E5ECF6\", \"polar\": {\"angularaxis\": {\"gridcolor\": \"white\", \"linecolor\": \"white\", \"ticks\": \"\"}, \"bgcolor\": \"#E5ECF6\", \"radialaxis\": {\"gridcolor\": \"white\", \"linecolor\": \"white\", \"ticks\": \"\"}}, \"scene\": {\"xaxis\": {\"backgroundcolor\": \"#E5ECF6\", \"gridcolor\": \"white\", \"gridwidth\": 2, \"linecolor\": \"white\", \"showbackground\": true, \"ticks\": \"\", \"zerolinecolor\": \"white\"}, \"yaxis\": {\"backgroundcolor\": \"#E5ECF6\", \"gridcolor\": \"white\", \"gridwidth\": 2, \"linecolor\": \"white\", \"showbackground\": true, \"ticks\": \"\", \"zerolinecolor\": \"white\"}, \"zaxis\": {\"backgroundcolor\": \"#E5ECF6\", \"gridcolor\": \"white\", \"gridwidth\": 2, \"linecolor\": \"white\", \"showbackground\": true, \"ticks\": \"\", \"zerolinecolor\": \"white\"}}, \"shapedefaults\": {\"line\": {\"color\": \"#2a3f5f\"}}, \"ternary\": {\"aaxis\": {\"gridcolor\": \"white\", \"linecolor\": \"white\", \"ticks\": \"\"}, \"baxis\": {\"gridcolor\": \"white\", \"linecolor\": \"white\", \"ticks\": \"\"}, \"bgcolor\": \"#E5ECF6\", \"caxis\": {\"gridcolor\": \"white\", \"linecolor\": \"white\", \"ticks\": \"\"}}, \"title\": {\"x\": 0.05}, \"xaxis\": {\"automargin\": true, \"gridcolor\": \"white\", \"linecolor\": \"white\", \"ticks\": \"\", \"title\": {\"standoff\": 15}, \"zerolinecolor\": \"white\", \"zerolinewidth\": 2}, \"yaxis\": {\"automargin\": true, \"gridcolor\": \"white\", \"linecolor\": \"white\", \"ticks\": \"\", \"title\": {\"standoff\": 15}, \"zerolinecolor\": \"white\", \"zerolinewidth\": 2}}}, \"title\": {\"text\": \"Efici\\u00eancia na Entrega\"}},                        {\"responsive\": true}                    ).then(function(){\n",
              "                            \n",
              "var gd = document.getElementById('2aa7bfd3-cd85-42fe-8f92-cce0a4309cd8');\n",
              "var x = new MutationObserver(function (mutations, observer) {{\n",
              "        var display = window.getComputedStyle(gd).display;\n",
              "        if (!display || display === 'none') {{\n",
              "            console.log([gd, 'removed!']);\n",
              "            Plotly.purge(gd);\n",
              "            observer.disconnect();\n",
              "        }}\n",
              "}});\n",
              "\n",
              "// Listen for the removal of the full notebook cells\n",
              "var notebookContainer = gd.closest('#notebook-container');\n",
              "if (notebookContainer) {{\n",
              "    x.observe(notebookContainer, {childList: true});\n",
              "}}\n",
              "\n",
              "// Listen for the clearing of the current output cell\n",
              "var outputEl = gd.closest('.output');\n",
              "if (outputEl) {{\n",
              "    x.observe(outputEl, {childList: true});\n",
              "}}\n",
              "\n",
              "                        })                };                            </script>        </div>\n",
              "</body>\n",
              "</html>"
            ]
          },
          "metadata": {
            "tags": []
          }
        }
      ]
    },
    {
      "cell_type": "code",
      "metadata": {
        "id": "rH-UpS9vuS6-",
        "colab": {
          "base_uri": "https://localhost:8080/",
          "height": 155
        },
        "outputId": "b82eac97-112d-482e-f5cf-12d48c329f0d"
      },
      "source": [
        "df_compras_dt.head(3)\n"
      ],
      "execution_count": null,
      "outputs": [
        {
          "output_type": "execute_result",
          "data": {
            "text/html": [
              "<div>\n",
              "<style scoped>\n",
              "    .dataframe tbody tr th:only-of-type {\n",
              "        vertical-align: middle;\n",
              "    }\n",
              "\n",
              "    .dataframe tbody tr th {\n",
              "        vertical-align: top;\n",
              "    }\n",
              "\n",
              "    .dataframe thead th {\n",
              "        text-align: right;\n",
              "    }\n",
              "</style>\n",
              "<table border=\"1\" class=\"dataframe\">\n",
              "  <thead>\n",
              "    <tr style=\"text-align: right;\">\n",
              "      <th></th>\n",
              "      <th>order_id</th>\n",
              "      <th>customer_id</th>\n",
              "      <th>order_status</th>\n",
              "      <th>order_purchase_timestamp</th>\n",
              "      <th>order_approved_at</th>\n",
              "      <th>order_delivered_carrier_date</th>\n",
              "      <th>order_delivered_customer_date</th>\n",
              "      <th>order_estimated_delivery_date</th>\n",
              "    </tr>\n",
              "  </thead>\n",
              "  <tbody>\n",
              "    <tr>\n",
              "      <th>0</th>\n",
              "      <td>e481f51cbdc54678b7cc49136f2d6af7</td>\n",
              "      <td>9ef432eb6251297304e76186b10a928d</td>\n",
              "      <td>delivered</td>\n",
              "      <td>2017-10-02 10:56:33</td>\n",
              "      <td>2017-10-02 11:07:15</td>\n",
              "      <td>2017-10-04 19:55:00</td>\n",
              "      <td>2017-10-10 21:25:13</td>\n",
              "      <td>2017-10-18</td>\n",
              "    </tr>\n",
              "    <tr>\n",
              "      <th>1</th>\n",
              "      <td>53cdb2fc8bc7dce0b6741e2150273451</td>\n",
              "      <td>b0830fb4747a6c6d20dea0b8c802d7ef</td>\n",
              "      <td>delivered</td>\n",
              "      <td>2018-07-24 20:41:37</td>\n",
              "      <td>2018-07-26 03:24:27</td>\n",
              "      <td>2018-07-26 14:31:00</td>\n",
              "      <td>2018-08-07 15:27:45</td>\n",
              "      <td>2018-08-13</td>\n",
              "    </tr>\n",
              "    <tr>\n",
              "      <th>2</th>\n",
              "      <td>47770eb9100c2d0c44946d9cf07ec65d</td>\n",
              "      <td>41ce2a54c0b03bf3443c3d931a367089</td>\n",
              "      <td>delivered</td>\n",
              "      <td>2018-08-08 08:38:49</td>\n",
              "      <td>2018-08-08 08:55:23</td>\n",
              "      <td>2018-08-08 13:50:00</td>\n",
              "      <td>2018-08-17 18:06:29</td>\n",
              "      <td>2018-09-04</td>\n",
              "    </tr>\n",
              "  </tbody>\n",
              "</table>\n",
              "</div>"
            ],
            "text/plain": [
              "                           order_id  ... order_estimated_delivery_date\n",
              "0  e481f51cbdc54678b7cc49136f2d6af7  ...                    2017-10-18\n",
              "1  53cdb2fc8bc7dce0b6741e2150273451  ...                    2018-08-13\n",
              "2  47770eb9100c2d0c44946d9cf07ec65d  ...                    2018-09-04\n",
              "\n",
              "[3 rows x 8 columns]"
            ]
          },
          "metadata": {
            "tags": []
          },
          "execution_count": 55
        }
      ]
    },
    {
      "cell_type": "code",
      "metadata": {
        "id": "qYNAThRtvVbq",
        "colab": {
          "base_uri": "https://localhost:8080/",
          "height": 155
        },
        "outputId": "6bded379-26c5-43a3-b7c0-715c482af77d"
      },
      "source": [
        "df_compras_dt['delivery_interval'] = df_compras_dt.order_delivered_customer_date - df_compras_dt.order_purchase_timestamp\n",
        "df_compras_dt.head(3)"
      ],
      "execution_count": null,
      "outputs": [
        {
          "output_type": "execute_result",
          "data": {
            "text/html": [
              "<div>\n",
              "<style scoped>\n",
              "    .dataframe tbody tr th:only-of-type {\n",
              "        vertical-align: middle;\n",
              "    }\n",
              "\n",
              "    .dataframe tbody tr th {\n",
              "        vertical-align: top;\n",
              "    }\n",
              "\n",
              "    .dataframe thead th {\n",
              "        text-align: right;\n",
              "    }\n",
              "</style>\n",
              "<table border=\"1\" class=\"dataframe\">\n",
              "  <thead>\n",
              "    <tr style=\"text-align: right;\">\n",
              "      <th></th>\n",
              "      <th>order_id</th>\n",
              "      <th>customer_id</th>\n",
              "      <th>order_status</th>\n",
              "      <th>order_purchase_timestamp</th>\n",
              "      <th>order_approved_at</th>\n",
              "      <th>order_delivered_carrier_date</th>\n",
              "      <th>order_delivered_customer_date</th>\n",
              "      <th>order_estimated_delivery_date</th>\n",
              "      <th>delivery_interval</th>\n",
              "    </tr>\n",
              "  </thead>\n",
              "  <tbody>\n",
              "    <tr>\n",
              "      <th>0</th>\n",
              "      <td>e481f51cbdc54678b7cc49136f2d6af7</td>\n",
              "      <td>9ef432eb6251297304e76186b10a928d</td>\n",
              "      <td>delivered</td>\n",
              "      <td>2017-10-02 10:56:33</td>\n",
              "      <td>2017-10-02 11:07:15</td>\n",
              "      <td>2017-10-04 19:55:00</td>\n",
              "      <td>2017-10-10 21:25:13</td>\n",
              "      <td>2017-10-18</td>\n",
              "      <td>8 days 10:28:40</td>\n",
              "    </tr>\n",
              "    <tr>\n",
              "      <th>1</th>\n",
              "      <td>53cdb2fc8bc7dce0b6741e2150273451</td>\n",
              "      <td>b0830fb4747a6c6d20dea0b8c802d7ef</td>\n",
              "      <td>delivered</td>\n",
              "      <td>2018-07-24 20:41:37</td>\n",
              "      <td>2018-07-26 03:24:27</td>\n",
              "      <td>2018-07-26 14:31:00</td>\n",
              "      <td>2018-08-07 15:27:45</td>\n",
              "      <td>2018-08-13</td>\n",
              "      <td>13 days 18:46:08</td>\n",
              "    </tr>\n",
              "    <tr>\n",
              "      <th>2</th>\n",
              "      <td>47770eb9100c2d0c44946d9cf07ec65d</td>\n",
              "      <td>41ce2a54c0b03bf3443c3d931a367089</td>\n",
              "      <td>delivered</td>\n",
              "      <td>2018-08-08 08:38:49</td>\n",
              "      <td>2018-08-08 08:55:23</td>\n",
              "      <td>2018-08-08 13:50:00</td>\n",
              "      <td>2018-08-17 18:06:29</td>\n",
              "      <td>2018-09-04</td>\n",
              "      <td>9 days 09:27:40</td>\n",
              "    </tr>\n",
              "  </tbody>\n",
              "</table>\n",
              "</div>"
            ],
            "text/plain": [
              "                           order_id  ... delivery_interval\n",
              "0  e481f51cbdc54678b7cc49136f2d6af7  ...   8 days 10:28:40\n",
              "1  53cdb2fc8bc7dce0b6741e2150273451  ...  13 days 18:46:08\n",
              "2  47770eb9100c2d0c44946d9cf07ec65d  ...   9 days 09:27:40\n",
              "\n",
              "[3 rows x 9 columns]"
            ]
          },
          "metadata": {
            "tags": []
          },
          "execution_count": 56
        }
      ]
    },
    {
      "cell_type": "code",
      "metadata": {
        "id": "7z7m-vJdvdUd",
        "colab": {
          "base_uri": "https://localhost:8080/",
          "height": 155
        },
        "outputId": "b5cbe63a-fa2f-4865-ff19-96dd2abe4b7f"
      },
      "source": [
        "df_compras_dt['numeric_month'] =  df_compras_dt.order_purchase_timestamp.dt.month\n",
        "df_compras_dt['month'] =  df_compras_dt.order_purchase_timestamp.dt.month_name()\n",
        "df_compras_dt['year'] =  df_compras_dt.order_purchase_timestamp.dt.year\n",
        "df_compras_dt.head(3)"
      ],
      "execution_count": null,
      "outputs": [
        {
          "output_type": "execute_result",
          "data": {
            "text/html": [
              "<div>\n",
              "<style scoped>\n",
              "    .dataframe tbody tr th:only-of-type {\n",
              "        vertical-align: middle;\n",
              "    }\n",
              "\n",
              "    .dataframe tbody tr th {\n",
              "        vertical-align: top;\n",
              "    }\n",
              "\n",
              "    .dataframe thead th {\n",
              "        text-align: right;\n",
              "    }\n",
              "</style>\n",
              "<table border=\"1\" class=\"dataframe\">\n",
              "  <thead>\n",
              "    <tr style=\"text-align: right;\">\n",
              "      <th></th>\n",
              "      <th>order_id</th>\n",
              "      <th>customer_id</th>\n",
              "      <th>order_status</th>\n",
              "      <th>order_purchase_timestamp</th>\n",
              "      <th>order_approved_at</th>\n",
              "      <th>order_delivered_carrier_date</th>\n",
              "      <th>order_delivered_customer_date</th>\n",
              "      <th>order_estimated_delivery_date</th>\n",
              "      <th>delivery_interval</th>\n",
              "      <th>numeric_month</th>\n",
              "      <th>month</th>\n",
              "      <th>year</th>\n",
              "    </tr>\n",
              "  </thead>\n",
              "  <tbody>\n",
              "    <tr>\n",
              "      <th>0</th>\n",
              "      <td>e481f51cbdc54678b7cc49136f2d6af7</td>\n",
              "      <td>9ef432eb6251297304e76186b10a928d</td>\n",
              "      <td>delivered</td>\n",
              "      <td>2017-10-02 10:56:33</td>\n",
              "      <td>2017-10-02 11:07:15</td>\n",
              "      <td>2017-10-04 19:55:00</td>\n",
              "      <td>2017-10-10 21:25:13</td>\n",
              "      <td>2017-10-18</td>\n",
              "      <td>8 days 10:28:40</td>\n",
              "      <td>10</td>\n",
              "      <td>October</td>\n",
              "      <td>2017</td>\n",
              "    </tr>\n",
              "    <tr>\n",
              "      <th>1</th>\n",
              "      <td>53cdb2fc8bc7dce0b6741e2150273451</td>\n",
              "      <td>b0830fb4747a6c6d20dea0b8c802d7ef</td>\n",
              "      <td>delivered</td>\n",
              "      <td>2018-07-24 20:41:37</td>\n",
              "      <td>2018-07-26 03:24:27</td>\n",
              "      <td>2018-07-26 14:31:00</td>\n",
              "      <td>2018-08-07 15:27:45</td>\n",
              "      <td>2018-08-13</td>\n",
              "      <td>13 days 18:46:08</td>\n",
              "      <td>7</td>\n",
              "      <td>July</td>\n",
              "      <td>2018</td>\n",
              "    </tr>\n",
              "    <tr>\n",
              "      <th>2</th>\n",
              "      <td>47770eb9100c2d0c44946d9cf07ec65d</td>\n",
              "      <td>41ce2a54c0b03bf3443c3d931a367089</td>\n",
              "      <td>delivered</td>\n",
              "      <td>2018-08-08 08:38:49</td>\n",
              "      <td>2018-08-08 08:55:23</td>\n",
              "      <td>2018-08-08 13:50:00</td>\n",
              "      <td>2018-08-17 18:06:29</td>\n",
              "      <td>2018-09-04</td>\n",
              "      <td>9 days 09:27:40</td>\n",
              "      <td>8</td>\n",
              "      <td>August</td>\n",
              "      <td>2018</td>\n",
              "    </tr>\n",
              "  </tbody>\n",
              "</table>\n",
              "</div>"
            ],
            "text/plain": [
              "                           order_id  ...  year\n",
              "0  e481f51cbdc54678b7cc49136f2d6af7  ...  2017\n",
              "1  53cdb2fc8bc7dce0b6741e2150273451  ...  2018\n",
              "2  47770eb9100c2d0c44946d9cf07ec65d  ...  2018\n",
              "\n",
              "[3 rows x 12 columns]"
            ]
          },
          "metadata": {
            "tags": []
          },
          "execution_count": 57
        }
      ]
    },
    {
      "cell_type": "code",
      "metadata": {
        "id": "YUd5DZpwwNwh",
        "colab": {
          "base_uri": "https://localhost:8080/",
          "height": 155
        },
        "outputId": "1cb17fea-e7d1-49e3-bf13-430860a2042c"
      },
      "source": [
        "df_compras_dt['days_delivery_interval'] = df_compras_dt.delivery_interval.dt.days\n",
        "df_compras_dt.head(3)"
      ],
      "execution_count": null,
      "outputs": [
        {
          "output_type": "execute_result",
          "data": {
            "text/html": [
              "<div>\n",
              "<style scoped>\n",
              "    .dataframe tbody tr th:only-of-type {\n",
              "        vertical-align: middle;\n",
              "    }\n",
              "\n",
              "    .dataframe tbody tr th {\n",
              "        vertical-align: top;\n",
              "    }\n",
              "\n",
              "    .dataframe thead th {\n",
              "        text-align: right;\n",
              "    }\n",
              "</style>\n",
              "<table border=\"1\" class=\"dataframe\">\n",
              "  <thead>\n",
              "    <tr style=\"text-align: right;\">\n",
              "      <th></th>\n",
              "      <th>order_id</th>\n",
              "      <th>customer_id</th>\n",
              "      <th>order_status</th>\n",
              "      <th>order_purchase_timestamp</th>\n",
              "      <th>order_approved_at</th>\n",
              "      <th>order_delivered_carrier_date</th>\n",
              "      <th>order_delivered_customer_date</th>\n",
              "      <th>order_estimated_delivery_date</th>\n",
              "      <th>delivery_interval</th>\n",
              "      <th>numeric_month</th>\n",
              "      <th>month</th>\n",
              "      <th>year</th>\n",
              "      <th>days_delivery_interval</th>\n",
              "    </tr>\n",
              "  </thead>\n",
              "  <tbody>\n",
              "    <tr>\n",
              "      <th>0</th>\n",
              "      <td>e481f51cbdc54678b7cc49136f2d6af7</td>\n",
              "      <td>9ef432eb6251297304e76186b10a928d</td>\n",
              "      <td>delivered</td>\n",
              "      <td>2017-10-02 10:56:33</td>\n",
              "      <td>2017-10-02 11:07:15</td>\n",
              "      <td>2017-10-04 19:55:00</td>\n",
              "      <td>2017-10-10 21:25:13</td>\n",
              "      <td>2017-10-18</td>\n",
              "      <td>8 days 10:28:40</td>\n",
              "      <td>10</td>\n",
              "      <td>October</td>\n",
              "      <td>2017</td>\n",
              "      <td>8</td>\n",
              "    </tr>\n",
              "    <tr>\n",
              "      <th>1</th>\n",
              "      <td>53cdb2fc8bc7dce0b6741e2150273451</td>\n",
              "      <td>b0830fb4747a6c6d20dea0b8c802d7ef</td>\n",
              "      <td>delivered</td>\n",
              "      <td>2018-07-24 20:41:37</td>\n",
              "      <td>2018-07-26 03:24:27</td>\n",
              "      <td>2018-07-26 14:31:00</td>\n",
              "      <td>2018-08-07 15:27:45</td>\n",
              "      <td>2018-08-13</td>\n",
              "      <td>13 days 18:46:08</td>\n",
              "      <td>7</td>\n",
              "      <td>July</td>\n",
              "      <td>2018</td>\n",
              "      <td>13</td>\n",
              "    </tr>\n",
              "    <tr>\n",
              "      <th>2</th>\n",
              "      <td>47770eb9100c2d0c44946d9cf07ec65d</td>\n",
              "      <td>41ce2a54c0b03bf3443c3d931a367089</td>\n",
              "      <td>delivered</td>\n",
              "      <td>2018-08-08 08:38:49</td>\n",
              "      <td>2018-08-08 08:55:23</td>\n",
              "      <td>2018-08-08 13:50:00</td>\n",
              "      <td>2018-08-17 18:06:29</td>\n",
              "      <td>2018-09-04</td>\n",
              "      <td>9 days 09:27:40</td>\n",
              "      <td>8</td>\n",
              "      <td>August</td>\n",
              "      <td>2018</td>\n",
              "      <td>9</td>\n",
              "    </tr>\n",
              "  </tbody>\n",
              "</table>\n",
              "</div>"
            ],
            "text/plain": [
              "                           order_id  ... days_delivery_interval\n",
              "0  e481f51cbdc54678b7cc49136f2d6af7  ...                      8\n",
              "1  53cdb2fc8bc7dce0b6741e2150273451  ...                     13\n",
              "2  47770eb9100c2d0c44946d9cf07ec65d  ...                      9\n",
              "\n",
              "[3 rows x 13 columns]"
            ]
          },
          "metadata": {
            "tags": []
          },
          "execution_count": 58
        }
      ]
    },
    {
      "cell_type": "code",
      "metadata": {
        "id": "pK4V5shpxaGb",
        "colab": {
          "base_uri": "https://localhost:8080/",
          "height": 428
        },
        "outputId": "17b1e688-4399-4eac-f27d-513c30812272"
      },
      "source": [
        "df_compras_mes =  df_compras_dt[['numeric_month','year','days_delivery_interval' ]].groupby( by='numeric_month' ).apply(np.mean)\n",
        "df_compras_mes"
      ],
      "execution_count": null,
      "outputs": [
        {
          "output_type": "execute_result",
          "data": {
            "text/html": [
              "<div>\n",
              "<style scoped>\n",
              "    .dataframe tbody tr th:only-of-type {\n",
              "        vertical-align: middle;\n",
              "    }\n",
              "\n",
              "    .dataframe tbody tr th {\n",
              "        vertical-align: top;\n",
              "    }\n",
              "\n",
              "    .dataframe thead th {\n",
              "        text-align: right;\n",
              "    }\n",
              "</style>\n",
              "<table border=\"1\" class=\"dataframe\">\n",
              "  <thead>\n",
              "    <tr style=\"text-align: right;\">\n",
              "      <th></th>\n",
              "      <th>numeric_month</th>\n",
              "      <th>year</th>\n",
              "      <th>days_delivery_interval</th>\n",
              "    </tr>\n",
              "    <tr>\n",
              "      <th>numeric_month</th>\n",
              "      <th></th>\n",
              "      <th></th>\n",
              "      <th></th>\n",
              "    </tr>\n",
              "  </thead>\n",
              "  <tbody>\n",
              "    <tr>\n",
              "      <th>1</th>\n",
              "      <td>1.0</td>\n",
              "      <td>2017.900855</td>\n",
              "      <td>14.787334</td>\n",
              "    </tr>\n",
              "    <tr>\n",
              "      <th>2</th>\n",
              "      <td>2.0</td>\n",
              "      <td>2017.790785</td>\n",
              "      <td>19.312412</td>\n",
              "    </tr>\n",
              "    <tr>\n",
              "      <th>3</th>\n",
              "      <td>3.0</td>\n",
              "      <td>2017.728899</td>\n",
              "      <td>17.794198</td>\n",
              "    </tr>\n",
              "    <tr>\n",
              "      <th>4</th>\n",
              "      <td>4.0</td>\n",
              "      <td>2017.742695</td>\n",
              "      <td>13.106069</td>\n",
              "    </tr>\n",
              "    <tr>\n",
              "      <th>5</th>\n",
              "      <td>5.0</td>\n",
              "      <td>2017.650052</td>\n",
              "      <td>13.075381</td>\n",
              "    </tr>\n",
              "    <tr>\n",
              "      <th>6</th>\n",
              "      <td>6.0</td>\n",
              "      <td>2017.655227</td>\n",
              "      <td>11.290374</td>\n",
              "    </tr>\n",
              "    <tr>\n",
              "      <th>7</th>\n",
              "      <td>7.0</td>\n",
              "      <td>2017.609808</td>\n",
              "      <td>10.002326</td>\n",
              "    </tr>\n",
              "    <tr>\n",
              "      <th>8</th>\n",
              "      <td>8.0</td>\n",
              "      <td>2017.600572</td>\n",
              "      <td>7.801162</td>\n",
              "    </tr>\n",
              "    <tr>\n",
              "      <th>9</th>\n",
              "      <td>9.0</td>\n",
              "      <td>2017.002787</td>\n",
              "      <td>13.654588</td>\n",
              "    </tr>\n",
              "    <tr>\n",
              "      <th>10</th>\n",
              "      <td>10.0</td>\n",
              "      <td>2016.935471</td>\n",
              "      <td>18.999193</td>\n",
              "    </tr>\n",
              "    <tr>\n",
              "      <th>11</th>\n",
              "      <td>11.0</td>\n",
              "      <td>2017.000000</td>\n",
              "      <td>16.025848</td>\n",
              "    </tr>\n",
              "    <tr>\n",
              "      <th>12</th>\n",
              "      <td>12.0</td>\n",
              "      <td>2016.999824</td>\n",
              "      <td>14.770004</td>\n",
              "    </tr>\n",
              "  </tbody>\n",
              "</table>\n",
              "</div>"
            ],
            "text/plain": [
              "               numeric_month         year  days_delivery_interval\n",
              "numeric_month                                                    \n",
              "1                        1.0  2017.900855               14.787334\n",
              "2                        2.0  2017.790785               19.312412\n",
              "3                        3.0  2017.728899               17.794198\n",
              "4                        4.0  2017.742695               13.106069\n",
              "5                        5.0  2017.650052               13.075381\n",
              "6                        6.0  2017.655227               11.290374\n",
              "7                        7.0  2017.609808               10.002326\n",
              "8                        8.0  2017.600572                7.801162\n",
              "9                        9.0  2017.002787               13.654588\n",
              "10                      10.0  2016.935471               18.999193\n",
              "11                      11.0  2017.000000               16.025848\n",
              "12                      12.0  2016.999824               14.770004"
            ]
          },
          "metadata": {
            "tags": []
          },
          "execution_count": 59
        }
      ]
    },
    {
      "cell_type": "code",
      "metadata": {
        "id": "2y708e9CweZO",
        "colab": {
          "base_uri": "https://localhost:8080/",
          "height": 542
        },
        "outputId": "b231814a-beed-4479-e55b-2ba31a228998"
      },
      "source": [
        "fig = px.bar(df_compras_mes, y='days_delivery_interval', title='Média de prazo de entrega', labels={'days_delivery_interval': 'Dias decorridos', 'index':'Mês'})\n",
        "gitly.show( fig )"
      ],
      "execution_count": null,
      "outputs": [
        {
          "output_type": "display_data",
          "data": {
            "text/html": [
              "<html>\n",
              "<head><meta charset=\"utf-8\" /></head>\n",
              "<body>\n",
              "    <div>            <script src=\"https://cdnjs.cloudflare.com/ajax/libs/mathjax/2.7.5/MathJax.js?config=TeX-AMS-MML_SVG\"></script><script type=\"text/javascript\">if (window.MathJax) {MathJax.Hub.Config({SVG: {font: \"STIX-Web\"}});}</script>                <script type=\"text/javascript\">window.PlotlyConfig = {MathJaxConfig: 'local'};</script>\n",
              "        <script src=\"https://cdn.plot.ly/plotly-latest.min.js\"></script>                <div id=\"17dd3d94-11ff-487f-9b96-c60fe7aa6618\" class=\"plotly-graph-div\" style=\"height:525px; width:100%;\"></div>            <script type=\"text/javascript\">                                    window.PLOTLYENV=window.PLOTLYENV || {};                                    if (document.getElementById(\"17dd3d94-11ff-487f-9b96-c60fe7aa6618\")) {                    Plotly.newPlot(                        \"17dd3d94-11ff-487f-9b96-c60fe7aa6618\",                        [{\"alignmentgroup\": \"True\", \"hovertemplate\": \"M\\u00eas=%{x}<br>Dias decorridos=%{y}<extra></extra>\", \"legendgroup\": \"\", \"marker\": {\"color\": \"#636efa\"}, \"name\": \"\", \"offsetgroup\": \"\", \"orientation\": \"v\", \"showlegend\": false, \"textposition\": \"auto\", \"type\": \"bar\", \"x\": [1, 2, 3, 4, 5, 6, 7, 8, 9, 10, 11, 12], \"xaxis\": \"x\", \"y\": [14.787334242161359, 19.312411847672777, 17.7941979177196, 13.10606871454565, 13.075380686654686, 11.290373990650235, 10.002326032176779, 7.801162040025823, 13.654587688734031, 18.99919338576326, 16.02584835630965, 14.770003524850194], \"yaxis\": \"y\"}],                        {\"barmode\": \"relative\", \"legend\": {\"tracegroupgap\": 0}, \"template\": {\"data\": {\"bar\": [{\"error_x\": {\"color\": \"#2a3f5f\"}, \"error_y\": {\"color\": \"#2a3f5f\"}, \"marker\": {\"line\": {\"color\": \"#E5ECF6\", \"width\": 0.5}}, \"type\": \"bar\"}], \"barpolar\": [{\"marker\": {\"line\": {\"color\": \"#E5ECF6\", \"width\": 0.5}}, \"type\": \"barpolar\"}], \"carpet\": [{\"aaxis\": {\"endlinecolor\": \"#2a3f5f\", \"gridcolor\": \"white\", \"linecolor\": \"white\", \"minorgridcolor\": \"white\", \"startlinecolor\": \"#2a3f5f\"}, \"baxis\": {\"endlinecolor\": \"#2a3f5f\", \"gridcolor\": \"white\", \"linecolor\": \"white\", \"minorgridcolor\": \"white\", \"startlinecolor\": \"#2a3f5f\"}, \"type\": \"carpet\"}], \"choropleth\": [{\"colorbar\": {\"outlinewidth\": 0, \"ticks\": \"\"}, \"type\": \"choropleth\"}], \"contour\": [{\"colorbar\": {\"outlinewidth\": 0, \"ticks\": \"\"}, \"colorscale\": [[0.0, \"#0d0887\"], [0.1111111111111111, \"#46039f\"], [0.2222222222222222, \"#7201a8\"], [0.3333333333333333, \"#9c179e\"], [0.4444444444444444, \"#bd3786\"], [0.5555555555555556, \"#d8576b\"], [0.6666666666666666, \"#ed7953\"], [0.7777777777777778, \"#fb9f3a\"], [0.8888888888888888, \"#fdca26\"], [1.0, \"#f0f921\"]], \"type\": \"contour\"}], \"contourcarpet\": [{\"colorbar\": {\"outlinewidth\": 0, \"ticks\": \"\"}, \"type\": \"contourcarpet\"}], \"heatmap\": [{\"colorbar\": {\"outlinewidth\": 0, \"ticks\": \"\"}, \"colorscale\": [[0.0, \"#0d0887\"], [0.1111111111111111, \"#46039f\"], [0.2222222222222222, \"#7201a8\"], [0.3333333333333333, \"#9c179e\"], [0.4444444444444444, \"#bd3786\"], [0.5555555555555556, \"#d8576b\"], [0.6666666666666666, \"#ed7953\"], [0.7777777777777778, \"#fb9f3a\"], [0.8888888888888888, \"#fdca26\"], [1.0, \"#f0f921\"]], \"type\": \"heatmap\"}], \"heatmapgl\": [{\"colorbar\": {\"outlinewidth\": 0, \"ticks\": \"\"}, \"colorscale\": [[0.0, \"#0d0887\"], [0.1111111111111111, \"#46039f\"], [0.2222222222222222, \"#7201a8\"], [0.3333333333333333, \"#9c179e\"], [0.4444444444444444, \"#bd3786\"], [0.5555555555555556, \"#d8576b\"], [0.6666666666666666, \"#ed7953\"], [0.7777777777777778, \"#fb9f3a\"], [0.8888888888888888, \"#fdca26\"], [1.0, \"#f0f921\"]], \"type\": \"heatmapgl\"}], \"histogram\": [{\"marker\": {\"colorbar\": {\"outlinewidth\": 0, \"ticks\": \"\"}}, \"type\": \"histogram\"}], \"histogram2d\": [{\"colorbar\": {\"outlinewidth\": 0, \"ticks\": \"\"}, \"colorscale\": [[0.0, \"#0d0887\"], [0.1111111111111111, \"#46039f\"], [0.2222222222222222, \"#7201a8\"], [0.3333333333333333, \"#9c179e\"], [0.4444444444444444, \"#bd3786\"], [0.5555555555555556, \"#d8576b\"], [0.6666666666666666, \"#ed7953\"], [0.7777777777777778, \"#fb9f3a\"], [0.8888888888888888, \"#fdca26\"], [1.0, \"#f0f921\"]], \"type\": \"histogram2d\"}], \"histogram2dcontour\": [{\"colorbar\": {\"outlinewidth\": 0, \"ticks\": \"\"}, \"colorscale\": [[0.0, \"#0d0887\"], [0.1111111111111111, \"#46039f\"], [0.2222222222222222, \"#7201a8\"], [0.3333333333333333, \"#9c179e\"], [0.4444444444444444, \"#bd3786\"], [0.5555555555555556, \"#d8576b\"], [0.6666666666666666, \"#ed7953\"], [0.7777777777777778, \"#fb9f3a\"], [0.8888888888888888, \"#fdca26\"], [1.0, \"#f0f921\"]], \"type\": \"histogram2dcontour\"}], \"mesh3d\": [{\"colorbar\": {\"outlinewidth\": 0, \"ticks\": \"\"}, \"type\": \"mesh3d\"}], \"parcoords\": [{\"line\": {\"colorbar\": {\"outlinewidth\": 0, \"ticks\": \"\"}}, \"type\": \"parcoords\"}], \"pie\": [{\"automargin\": true, \"type\": \"pie\"}], \"scatter\": [{\"marker\": {\"colorbar\": {\"outlinewidth\": 0, \"ticks\": \"\"}}, \"type\": \"scatter\"}], \"scatter3d\": [{\"line\": {\"colorbar\": {\"outlinewidth\": 0, \"ticks\": \"\"}}, \"marker\": {\"colorbar\": {\"outlinewidth\": 0, \"ticks\": \"\"}}, \"type\": \"scatter3d\"}], \"scattercarpet\": [{\"marker\": {\"colorbar\": {\"outlinewidth\": 0, \"ticks\": \"\"}}, \"type\": \"scattercarpet\"}], \"scattergeo\": [{\"marker\": {\"colorbar\": {\"outlinewidth\": 0, \"ticks\": \"\"}}, \"type\": \"scattergeo\"}], \"scattergl\": [{\"marker\": {\"colorbar\": {\"outlinewidth\": 0, \"ticks\": \"\"}}, \"type\": \"scattergl\"}], \"scattermapbox\": [{\"marker\": {\"colorbar\": {\"outlinewidth\": 0, \"ticks\": \"\"}}, \"type\": \"scattermapbox\"}], \"scatterpolar\": [{\"marker\": {\"colorbar\": {\"outlinewidth\": 0, \"ticks\": \"\"}}, \"type\": \"scatterpolar\"}], \"scatterpolargl\": [{\"marker\": {\"colorbar\": {\"outlinewidth\": 0, \"ticks\": \"\"}}, \"type\": \"scatterpolargl\"}], \"scatterternary\": [{\"marker\": {\"colorbar\": {\"outlinewidth\": 0, \"ticks\": \"\"}}, \"type\": \"scatterternary\"}], \"surface\": [{\"colorbar\": {\"outlinewidth\": 0, \"ticks\": \"\"}, \"colorscale\": [[0.0, \"#0d0887\"], [0.1111111111111111, \"#46039f\"], [0.2222222222222222, \"#7201a8\"], [0.3333333333333333, \"#9c179e\"], [0.4444444444444444, \"#bd3786\"], [0.5555555555555556, \"#d8576b\"], [0.6666666666666666, \"#ed7953\"], [0.7777777777777778, \"#fb9f3a\"], [0.8888888888888888, \"#fdca26\"], [1.0, \"#f0f921\"]], \"type\": \"surface\"}], \"table\": [{\"cells\": {\"fill\": {\"color\": \"#EBF0F8\"}, \"line\": {\"color\": \"white\"}}, \"header\": {\"fill\": {\"color\": \"#C8D4E3\"}, \"line\": {\"color\": \"white\"}}, \"type\": \"table\"}]}, \"layout\": {\"annotationdefaults\": {\"arrowcolor\": \"#2a3f5f\", \"arrowhead\": 0, \"arrowwidth\": 1}, \"autotypenumbers\": \"strict\", \"coloraxis\": {\"colorbar\": {\"outlinewidth\": 0, \"ticks\": \"\"}}, \"colorscale\": {\"diverging\": [[0, \"#8e0152\"], [0.1, \"#c51b7d\"], [0.2, \"#de77ae\"], [0.3, \"#f1b6da\"], [0.4, \"#fde0ef\"], [0.5, \"#f7f7f7\"], [0.6, \"#e6f5d0\"], [0.7, \"#b8e186\"], [0.8, \"#7fbc41\"], [0.9, \"#4d9221\"], [1, \"#276419\"]], \"sequential\": [[0.0, \"#0d0887\"], [0.1111111111111111, \"#46039f\"], [0.2222222222222222, \"#7201a8\"], [0.3333333333333333, \"#9c179e\"], [0.4444444444444444, \"#bd3786\"], [0.5555555555555556, \"#d8576b\"], [0.6666666666666666, \"#ed7953\"], [0.7777777777777778, \"#fb9f3a\"], [0.8888888888888888, \"#fdca26\"], [1.0, \"#f0f921\"]], \"sequentialminus\": [[0.0, \"#0d0887\"], [0.1111111111111111, \"#46039f\"], [0.2222222222222222, \"#7201a8\"], [0.3333333333333333, \"#9c179e\"], [0.4444444444444444, \"#bd3786\"], [0.5555555555555556, \"#d8576b\"], [0.6666666666666666, \"#ed7953\"], [0.7777777777777778, \"#fb9f3a\"], [0.8888888888888888, \"#fdca26\"], [1.0, \"#f0f921\"]]}, \"colorway\": [\"#636efa\", \"#EF553B\", \"#00cc96\", \"#ab63fa\", \"#FFA15A\", \"#19d3f3\", \"#FF6692\", \"#B6E880\", \"#FF97FF\", \"#FECB52\"], \"font\": {\"color\": \"#2a3f5f\"}, \"geo\": {\"bgcolor\": \"white\", \"lakecolor\": \"white\", \"landcolor\": \"#E5ECF6\", \"showlakes\": true, \"showland\": true, \"subunitcolor\": \"white\"}, \"hoverlabel\": {\"align\": \"left\"}, \"hovermode\": \"closest\", \"mapbox\": {\"style\": \"light\"}, \"paper_bgcolor\": \"white\", \"plot_bgcolor\": \"#E5ECF6\", \"polar\": {\"angularaxis\": {\"gridcolor\": \"white\", \"linecolor\": \"white\", \"ticks\": \"\"}, \"bgcolor\": \"#E5ECF6\", \"radialaxis\": {\"gridcolor\": \"white\", \"linecolor\": \"white\", \"ticks\": \"\"}}, \"scene\": {\"xaxis\": {\"backgroundcolor\": \"#E5ECF6\", \"gridcolor\": \"white\", \"gridwidth\": 2, \"linecolor\": \"white\", \"showbackground\": true, \"ticks\": \"\", \"zerolinecolor\": \"white\"}, \"yaxis\": {\"backgroundcolor\": \"#E5ECF6\", \"gridcolor\": \"white\", \"gridwidth\": 2, \"linecolor\": \"white\", \"showbackground\": true, \"ticks\": \"\", \"zerolinecolor\": \"white\"}, \"zaxis\": {\"backgroundcolor\": \"#E5ECF6\", \"gridcolor\": \"white\", \"gridwidth\": 2, \"linecolor\": \"white\", \"showbackground\": true, \"ticks\": \"\", \"zerolinecolor\": \"white\"}}, \"shapedefaults\": {\"line\": {\"color\": \"#2a3f5f\"}}, \"ternary\": {\"aaxis\": {\"gridcolor\": \"white\", \"linecolor\": \"white\", \"ticks\": \"\"}, \"baxis\": {\"gridcolor\": \"white\", \"linecolor\": \"white\", \"ticks\": \"\"}, \"bgcolor\": \"#E5ECF6\", \"caxis\": {\"gridcolor\": \"white\", \"linecolor\": \"white\", \"ticks\": \"\"}}, \"title\": {\"x\": 0.05}, \"xaxis\": {\"automargin\": true, \"gridcolor\": \"white\", \"linecolor\": \"white\", \"ticks\": \"\", \"title\": {\"standoff\": 15}, \"zerolinecolor\": \"white\", \"zerolinewidth\": 2}, \"yaxis\": {\"automargin\": true, \"gridcolor\": \"white\", \"linecolor\": \"white\", \"ticks\": \"\", \"title\": {\"standoff\": 15}, \"zerolinecolor\": \"white\", \"zerolinewidth\": 2}}}, \"title\": {\"text\": \"M\\u00e9dia de prazo de entrega\"}, \"xaxis\": {\"anchor\": \"y\", \"domain\": [0.0, 1.0], \"title\": {\"text\": \"M\\u00eas\"}}, \"yaxis\": {\"anchor\": \"x\", \"domain\": [0.0, 1.0], \"title\": {\"text\": \"Dias decorridos\"}}},                        {\"responsive\": true}                    ).then(function(){\n",
              "                            \n",
              "var gd = document.getElementById('17dd3d94-11ff-487f-9b96-c60fe7aa6618');\n",
              "var x = new MutationObserver(function (mutations, observer) {{\n",
              "        var display = window.getComputedStyle(gd).display;\n",
              "        if (!display || display === 'none') {{\n",
              "            console.log([gd, 'removed!']);\n",
              "            Plotly.purge(gd);\n",
              "            observer.disconnect();\n",
              "        }}\n",
              "}});\n",
              "\n",
              "// Listen for the removal of the full notebook cells\n",
              "var notebookContainer = gd.closest('#notebook-container');\n",
              "if (notebookContainer) {{\n",
              "    x.observe(notebookContainer, {childList: true});\n",
              "}}\n",
              "\n",
              "// Listen for the clearing of the current output cell\n",
              "var outputEl = gd.closest('.output');\n",
              "if (outputEl) {{\n",
              "    x.observe(outputEl, {childList: true});\n",
              "}}\n",
              "\n",
              "                        })                };                            </script>        </div>\n",
              "</body>\n",
              "</html>"
            ]
          },
          "metadata": {
            "tags": []
          }
        }
      ]
    },
    {
      "cell_type": "code",
      "metadata": {
        "id": "L2liJ4dAy6hS",
        "colab": {
          "base_uri": "https://localhost:8080/",
          "height": 399
        },
        "outputId": "26a3c181-56f2-4901-8d09-cb13881e94a5"
      },
      "source": [
        "df_n_compras_mes = df_compras_dt.numeric_month.value_counts()\n",
        "df_n_compras_mes_plot = df_n_compras_mes.reset_index().sort_values(by='index', ascending=True)\n",
        "df_n_compras_mes_plot"
      ],
      "execution_count": null,
      "outputs": [
        {
          "output_type": "execute_result",
          "data": {
            "text/html": [
              "<div>\n",
              "<style scoped>\n",
              "    .dataframe tbody tr th:only-of-type {\n",
              "        vertical-align: middle;\n",
              "    }\n",
              "\n",
              "    .dataframe tbody tr th {\n",
              "        vertical-align: top;\n",
              "    }\n",
              "\n",
              "    .dataframe thead th {\n",
              "        text-align: right;\n",
              "    }\n",
              "</style>\n",
              "<table border=\"1\" class=\"dataframe\">\n",
              "  <thead>\n",
              "    <tr style=\"text-align: right;\">\n",
              "      <th></th>\n",
              "      <th>index</th>\n",
              "      <th>numeric_month</th>\n",
              "    </tr>\n",
              "  </thead>\n",
              "  <tbody>\n",
              "    <tr>\n",
              "      <th>7</th>\n",
              "      <td>1</td>\n",
              "      <td>8069</td>\n",
              "    </tr>\n",
              "    <tr>\n",
              "      <th>6</th>\n",
              "      <td>2</td>\n",
              "      <td>8508</td>\n",
              "    </tr>\n",
              "    <tr>\n",
              "      <th>3</th>\n",
              "      <td>3</td>\n",
              "      <td>9893</td>\n",
              "    </tr>\n",
              "    <tr>\n",
              "      <th>5</th>\n",
              "      <td>4</td>\n",
              "      <td>9343</td>\n",
              "    </tr>\n",
              "    <tr>\n",
              "      <th>1</th>\n",
              "      <td>5</td>\n",
              "      <td>10573</td>\n",
              "    </tr>\n",
              "    <tr>\n",
              "      <th>4</th>\n",
              "      <td>6</td>\n",
              "      <td>9412</td>\n",
              "    </tr>\n",
              "    <tr>\n",
              "      <th>2</th>\n",
              "      <td>7</td>\n",
              "      <td>10318</td>\n",
              "    </tr>\n",
              "    <tr>\n",
              "      <th>0</th>\n",
              "      <td>8</td>\n",
              "      <td>10843</td>\n",
              "    </tr>\n",
              "    <tr>\n",
              "      <th>11</th>\n",
              "      <td>9</td>\n",
              "      <td>4305</td>\n",
              "    </tr>\n",
              "    <tr>\n",
              "      <th>10</th>\n",
              "      <td>10</td>\n",
              "      <td>4959</td>\n",
              "    </tr>\n",
              "    <tr>\n",
              "      <th>8</th>\n",
              "      <td>11</td>\n",
              "      <td>7544</td>\n",
              "    </tr>\n",
              "    <tr>\n",
              "      <th>9</th>\n",
              "      <td>12</td>\n",
              "      <td>5674</td>\n",
              "    </tr>\n",
              "  </tbody>\n",
              "</table>\n",
              "</div>"
            ],
            "text/plain": [
              "    index  numeric_month\n",
              "7       1           8069\n",
              "6       2           8508\n",
              "3       3           9893\n",
              "5       4           9343\n",
              "1       5          10573\n",
              "4       6           9412\n",
              "2       7          10318\n",
              "0       8          10843\n",
              "11      9           4305\n",
              "10     10           4959\n",
              "8      11           7544\n",
              "9      12           5674"
            ]
          },
          "metadata": {
            "tags": []
          },
          "execution_count": 61
        }
      ]
    },
    {
      "cell_type": "code",
      "metadata": {
        "id": "pRy1lo8hzIO1",
        "colab": {
          "base_uri": "https://localhost:8080/",
          "height": 542
        },
        "outputId": "a945f1d3-fd0b-403f-9ebc-7cc0c00db533"
      },
      "source": [
        "fig = px.bar(df_n_compras_mes_plot, x ='index' , y='numeric_month', title='Compras por mÊs', labels={'numeric_month': 'Qtd. de Compras', 'index':'Mês'})\n",
        "gitly.show( fig )"
      ],
      "execution_count": null,
      "outputs": [
        {
          "output_type": "display_data",
          "data": {
            "text/html": [
              "<html>\n",
              "<head><meta charset=\"utf-8\" /></head>\n",
              "<body>\n",
              "    <div>            <script src=\"https://cdnjs.cloudflare.com/ajax/libs/mathjax/2.7.5/MathJax.js?config=TeX-AMS-MML_SVG\"></script><script type=\"text/javascript\">if (window.MathJax) {MathJax.Hub.Config({SVG: {font: \"STIX-Web\"}});}</script>                <script type=\"text/javascript\">window.PlotlyConfig = {MathJaxConfig: 'local'};</script>\n",
              "        <script src=\"https://cdn.plot.ly/plotly-latest.min.js\"></script>                <div id=\"b9da811e-6c30-423b-88fa-174efb08a516\" class=\"plotly-graph-div\" style=\"height:525px; width:100%;\"></div>            <script type=\"text/javascript\">                                    window.PLOTLYENV=window.PLOTLYENV || {};                                    if (document.getElementById(\"b9da811e-6c30-423b-88fa-174efb08a516\")) {                    Plotly.newPlot(                        \"b9da811e-6c30-423b-88fa-174efb08a516\",                        [{\"alignmentgroup\": \"True\", \"hovertemplate\": \"M\\u00eas=%{x}<br>Qtd. de Compras=%{y}<extra></extra>\", \"legendgroup\": \"\", \"marker\": {\"color\": \"#636efa\"}, \"name\": \"\", \"offsetgroup\": \"\", \"orientation\": \"v\", \"showlegend\": false, \"textposition\": \"auto\", \"type\": \"bar\", \"x\": [1, 2, 3, 4, 5, 6, 7, 8, 9, 10, 11, 12], \"xaxis\": \"x\", \"y\": [8069, 8508, 9893, 9343, 10573, 9412, 10318, 10843, 4305, 4959, 7544, 5674], \"yaxis\": \"y\"}],                        {\"barmode\": \"relative\", \"legend\": {\"tracegroupgap\": 0}, \"template\": {\"data\": {\"bar\": [{\"error_x\": {\"color\": \"#2a3f5f\"}, \"error_y\": {\"color\": \"#2a3f5f\"}, \"marker\": {\"line\": {\"color\": \"#E5ECF6\", \"width\": 0.5}}, \"type\": \"bar\"}], \"barpolar\": [{\"marker\": {\"line\": {\"color\": \"#E5ECF6\", \"width\": 0.5}}, \"type\": \"barpolar\"}], \"carpet\": [{\"aaxis\": {\"endlinecolor\": \"#2a3f5f\", \"gridcolor\": \"white\", \"linecolor\": \"white\", \"minorgridcolor\": \"white\", \"startlinecolor\": \"#2a3f5f\"}, \"baxis\": {\"endlinecolor\": \"#2a3f5f\", \"gridcolor\": \"white\", \"linecolor\": \"white\", \"minorgridcolor\": \"white\", \"startlinecolor\": \"#2a3f5f\"}, \"type\": \"carpet\"}], \"choropleth\": [{\"colorbar\": {\"outlinewidth\": 0, \"ticks\": \"\"}, \"type\": \"choropleth\"}], \"contour\": [{\"colorbar\": {\"outlinewidth\": 0, \"ticks\": \"\"}, \"colorscale\": [[0.0, \"#0d0887\"], [0.1111111111111111, \"#46039f\"], [0.2222222222222222, \"#7201a8\"], [0.3333333333333333, \"#9c179e\"], [0.4444444444444444, \"#bd3786\"], [0.5555555555555556, \"#d8576b\"], [0.6666666666666666, \"#ed7953\"], [0.7777777777777778, \"#fb9f3a\"], [0.8888888888888888, \"#fdca26\"], [1.0, \"#f0f921\"]], \"type\": \"contour\"}], \"contourcarpet\": [{\"colorbar\": {\"outlinewidth\": 0, \"ticks\": \"\"}, \"type\": \"contourcarpet\"}], \"heatmap\": [{\"colorbar\": {\"outlinewidth\": 0, \"ticks\": \"\"}, \"colorscale\": [[0.0, \"#0d0887\"], [0.1111111111111111, \"#46039f\"], [0.2222222222222222, \"#7201a8\"], [0.3333333333333333, \"#9c179e\"], [0.4444444444444444, \"#bd3786\"], [0.5555555555555556, \"#d8576b\"], [0.6666666666666666, \"#ed7953\"], [0.7777777777777778, \"#fb9f3a\"], [0.8888888888888888, \"#fdca26\"], [1.0, \"#f0f921\"]], \"type\": \"heatmap\"}], \"heatmapgl\": [{\"colorbar\": {\"outlinewidth\": 0, \"ticks\": \"\"}, \"colorscale\": [[0.0, \"#0d0887\"], [0.1111111111111111, \"#46039f\"], [0.2222222222222222, \"#7201a8\"], [0.3333333333333333, \"#9c179e\"], [0.4444444444444444, \"#bd3786\"], [0.5555555555555556, \"#d8576b\"], [0.6666666666666666, \"#ed7953\"], [0.7777777777777778, \"#fb9f3a\"], [0.8888888888888888, \"#fdca26\"], [1.0, \"#f0f921\"]], \"type\": \"heatmapgl\"}], \"histogram\": [{\"marker\": {\"colorbar\": {\"outlinewidth\": 0, \"ticks\": \"\"}}, \"type\": \"histogram\"}], \"histogram2d\": [{\"colorbar\": {\"outlinewidth\": 0, \"ticks\": \"\"}, \"colorscale\": [[0.0, \"#0d0887\"], [0.1111111111111111, \"#46039f\"], [0.2222222222222222, \"#7201a8\"], [0.3333333333333333, \"#9c179e\"], [0.4444444444444444, \"#bd3786\"], [0.5555555555555556, \"#d8576b\"], [0.6666666666666666, \"#ed7953\"], [0.7777777777777778, \"#fb9f3a\"], [0.8888888888888888, \"#fdca26\"], [1.0, \"#f0f921\"]], \"type\": \"histogram2d\"}], \"histogram2dcontour\": [{\"colorbar\": {\"outlinewidth\": 0, \"ticks\": \"\"}, \"colorscale\": [[0.0, \"#0d0887\"], [0.1111111111111111, \"#46039f\"], [0.2222222222222222, \"#7201a8\"], [0.3333333333333333, \"#9c179e\"], [0.4444444444444444, \"#bd3786\"], [0.5555555555555556, \"#d8576b\"], [0.6666666666666666, \"#ed7953\"], [0.7777777777777778, \"#fb9f3a\"], [0.8888888888888888, \"#fdca26\"], [1.0, \"#f0f921\"]], \"type\": \"histogram2dcontour\"}], \"mesh3d\": [{\"colorbar\": {\"outlinewidth\": 0, \"ticks\": \"\"}, \"type\": \"mesh3d\"}], \"parcoords\": [{\"line\": {\"colorbar\": {\"outlinewidth\": 0, \"ticks\": \"\"}}, \"type\": \"parcoords\"}], \"pie\": [{\"automargin\": true, \"type\": \"pie\"}], \"scatter\": [{\"marker\": {\"colorbar\": {\"outlinewidth\": 0, \"ticks\": \"\"}}, \"type\": \"scatter\"}], \"scatter3d\": [{\"line\": {\"colorbar\": {\"outlinewidth\": 0, \"ticks\": \"\"}}, \"marker\": {\"colorbar\": {\"outlinewidth\": 0, \"ticks\": \"\"}}, \"type\": \"scatter3d\"}], \"scattercarpet\": [{\"marker\": {\"colorbar\": {\"outlinewidth\": 0, \"ticks\": \"\"}}, \"type\": \"scattercarpet\"}], \"scattergeo\": [{\"marker\": {\"colorbar\": {\"outlinewidth\": 0, \"ticks\": \"\"}}, \"type\": \"scattergeo\"}], \"scattergl\": [{\"marker\": {\"colorbar\": {\"outlinewidth\": 0, \"ticks\": \"\"}}, \"type\": \"scattergl\"}], \"scattermapbox\": [{\"marker\": {\"colorbar\": {\"outlinewidth\": 0, \"ticks\": \"\"}}, \"type\": \"scattermapbox\"}], \"scatterpolar\": [{\"marker\": {\"colorbar\": {\"outlinewidth\": 0, \"ticks\": \"\"}}, \"type\": \"scatterpolar\"}], \"scatterpolargl\": [{\"marker\": {\"colorbar\": {\"outlinewidth\": 0, \"ticks\": \"\"}}, \"type\": \"scatterpolargl\"}], \"scatterternary\": [{\"marker\": {\"colorbar\": {\"outlinewidth\": 0, \"ticks\": \"\"}}, \"type\": \"scatterternary\"}], \"surface\": [{\"colorbar\": {\"outlinewidth\": 0, \"ticks\": \"\"}, \"colorscale\": [[0.0, \"#0d0887\"], [0.1111111111111111, \"#46039f\"], [0.2222222222222222, \"#7201a8\"], [0.3333333333333333, \"#9c179e\"], [0.4444444444444444, \"#bd3786\"], [0.5555555555555556, \"#d8576b\"], [0.6666666666666666, \"#ed7953\"], [0.7777777777777778, \"#fb9f3a\"], [0.8888888888888888, \"#fdca26\"], [1.0, \"#f0f921\"]], \"type\": \"surface\"}], \"table\": [{\"cells\": {\"fill\": {\"color\": \"#EBF0F8\"}, \"line\": {\"color\": \"white\"}}, \"header\": {\"fill\": {\"color\": \"#C8D4E3\"}, \"line\": {\"color\": \"white\"}}, \"type\": \"table\"}]}, \"layout\": {\"annotationdefaults\": {\"arrowcolor\": \"#2a3f5f\", \"arrowhead\": 0, \"arrowwidth\": 1}, \"autotypenumbers\": \"strict\", \"coloraxis\": {\"colorbar\": {\"outlinewidth\": 0, \"ticks\": \"\"}}, \"colorscale\": {\"diverging\": [[0, \"#8e0152\"], [0.1, \"#c51b7d\"], [0.2, \"#de77ae\"], [0.3, \"#f1b6da\"], [0.4, \"#fde0ef\"], [0.5, \"#f7f7f7\"], [0.6, \"#e6f5d0\"], [0.7, \"#b8e186\"], [0.8, \"#7fbc41\"], [0.9, \"#4d9221\"], [1, \"#276419\"]], \"sequential\": [[0.0, \"#0d0887\"], [0.1111111111111111, \"#46039f\"], [0.2222222222222222, \"#7201a8\"], [0.3333333333333333, \"#9c179e\"], [0.4444444444444444, \"#bd3786\"], [0.5555555555555556, \"#d8576b\"], [0.6666666666666666, \"#ed7953\"], [0.7777777777777778, \"#fb9f3a\"], [0.8888888888888888, \"#fdca26\"], [1.0, \"#f0f921\"]], \"sequentialminus\": [[0.0, \"#0d0887\"], [0.1111111111111111, \"#46039f\"], [0.2222222222222222, \"#7201a8\"], [0.3333333333333333, \"#9c179e\"], [0.4444444444444444, \"#bd3786\"], [0.5555555555555556, \"#d8576b\"], [0.6666666666666666, \"#ed7953\"], [0.7777777777777778, \"#fb9f3a\"], [0.8888888888888888, \"#fdca26\"], [1.0, \"#f0f921\"]]}, \"colorway\": [\"#636efa\", \"#EF553B\", \"#00cc96\", \"#ab63fa\", \"#FFA15A\", \"#19d3f3\", \"#FF6692\", \"#B6E880\", \"#FF97FF\", \"#FECB52\"], \"font\": {\"color\": \"#2a3f5f\"}, \"geo\": {\"bgcolor\": \"white\", \"lakecolor\": \"white\", \"landcolor\": \"#E5ECF6\", \"showlakes\": true, \"showland\": true, \"subunitcolor\": \"white\"}, \"hoverlabel\": {\"align\": \"left\"}, \"hovermode\": \"closest\", \"mapbox\": {\"style\": \"light\"}, \"paper_bgcolor\": \"white\", \"plot_bgcolor\": \"#E5ECF6\", \"polar\": {\"angularaxis\": {\"gridcolor\": \"white\", \"linecolor\": \"white\", \"ticks\": \"\"}, \"bgcolor\": \"#E5ECF6\", \"radialaxis\": {\"gridcolor\": \"white\", \"linecolor\": \"white\", \"ticks\": \"\"}}, \"scene\": {\"xaxis\": {\"backgroundcolor\": \"#E5ECF6\", \"gridcolor\": \"white\", \"gridwidth\": 2, \"linecolor\": \"white\", \"showbackground\": true, \"ticks\": \"\", \"zerolinecolor\": \"white\"}, \"yaxis\": {\"backgroundcolor\": \"#E5ECF6\", \"gridcolor\": \"white\", \"gridwidth\": 2, \"linecolor\": \"white\", \"showbackground\": true, \"ticks\": \"\", \"zerolinecolor\": \"white\"}, \"zaxis\": {\"backgroundcolor\": \"#E5ECF6\", \"gridcolor\": \"white\", \"gridwidth\": 2, \"linecolor\": \"white\", \"showbackground\": true, \"ticks\": \"\", \"zerolinecolor\": \"white\"}}, \"shapedefaults\": {\"line\": {\"color\": \"#2a3f5f\"}}, \"ternary\": {\"aaxis\": {\"gridcolor\": \"white\", \"linecolor\": \"white\", \"ticks\": \"\"}, \"baxis\": {\"gridcolor\": \"white\", \"linecolor\": \"white\", \"ticks\": \"\"}, \"bgcolor\": \"#E5ECF6\", \"caxis\": {\"gridcolor\": \"white\", \"linecolor\": \"white\", \"ticks\": \"\"}}, \"title\": {\"x\": 0.05}, \"xaxis\": {\"automargin\": true, \"gridcolor\": \"white\", \"linecolor\": \"white\", \"ticks\": \"\", \"title\": {\"standoff\": 15}, \"zerolinecolor\": \"white\", \"zerolinewidth\": 2}, \"yaxis\": {\"automargin\": true, \"gridcolor\": \"white\", \"linecolor\": \"white\", \"ticks\": \"\", \"title\": {\"standoff\": 15}, \"zerolinecolor\": \"white\", \"zerolinewidth\": 2}}}, \"title\": {\"text\": \"Compras por m\\u00cas\"}, \"xaxis\": {\"anchor\": \"y\", \"domain\": [0.0, 1.0], \"title\": {\"text\": \"M\\u00eas\"}}, \"yaxis\": {\"anchor\": \"x\", \"domain\": [0.0, 1.0], \"title\": {\"text\": \"Qtd. de Compras\"}}},                        {\"responsive\": true}                    ).then(function(){\n",
              "                            \n",
              "var gd = document.getElementById('b9da811e-6c30-423b-88fa-174efb08a516');\n",
              "var x = new MutationObserver(function (mutations, observer) {{\n",
              "        var display = window.getComputedStyle(gd).display;\n",
              "        if (!display || display === 'none') {{\n",
              "            console.log([gd, 'removed!']);\n",
              "            Plotly.purge(gd);\n",
              "            observer.disconnect();\n",
              "        }}\n",
              "}});\n",
              "\n",
              "// Listen for the removal of the full notebook cells\n",
              "var notebookContainer = gd.closest('#notebook-container');\n",
              "if (notebookContainer) {{\n",
              "    x.observe(notebookContainer, {childList: true});\n",
              "}}\n",
              "\n",
              "// Listen for the clearing of the current output cell\n",
              "var outputEl = gd.closest('.output');\n",
              "if (outputEl) {{\n",
              "    x.observe(outputEl, {childList: true});\n",
              "}}\n",
              "\n",
              "                        })                };                            </script>        </div>\n",
              "</body>\n",
              "</html>"
            ]
          },
          "metadata": {
            "tags": []
          }
        }
      ]
    },
    {
      "cell_type": "code",
      "metadata": {
        "id": "2EeVrwdUzsHC",
        "colab": {
          "base_uri": "https://localhost:8080/"
        },
        "outputId": "7795dccb-b36a-446d-8fc3-aeae1720b421"
      },
      "source": [
        "df_compras_dt.order_purchase_timestamp.min()"
      ],
      "execution_count": null,
      "outputs": [
        {
          "output_type": "execute_result",
          "data": {
            "text/plain": [
              "Timestamp('2016-09-04 21:15:19')"
            ]
          },
          "metadata": {
            "tags": []
          },
          "execution_count": 63
        }
      ]
    },
    {
      "cell_type": "code",
      "metadata": {
        "id": "ChNHDhTrz52U",
        "colab": {
          "base_uri": "https://localhost:8080/"
        },
        "outputId": "dc90a580-7f12-4656-f415-9605ac6cfa17"
      },
      "source": [
        "df_compras_dt.order_purchase_timestamp.max()"
      ],
      "execution_count": null,
      "outputs": [
        {
          "output_type": "execute_result",
          "data": {
            "text/plain": [
              "Timestamp('2018-10-17 17:30:18')"
            ]
          },
          "metadata": {
            "tags": []
          },
          "execution_count": 64
        }
      ]
    },
    {
      "cell_type": "markdown",
      "metadata": {
        "id": "aPHVo508YqQt"
      },
      "source": [
        "## Compras_Itens - olist_order_items_dataset.csv"
      ]
    },
    {
      "cell_type": "markdown",
      "metadata": {
        "id": "22fLkEm2Zcd9"
      },
      "source": [
        "### Info - Estrutura"
      ]
    },
    {
      "cell_type": "code",
      "metadata": {
        "id": "zzO6T3Q8Zcd_",
        "colab": {
          "base_uri": "https://localhost:8080/"
        },
        "outputId": "f4134385-ccce-4155-c32e-30259914d264"
      },
      "source": [
        "df_compra_itens.shape"
      ],
      "execution_count": null,
      "outputs": [
        {
          "output_type": "execute_result",
          "data": {
            "text/plain": [
              "(112650, 7)"
            ]
          },
          "metadata": {
            "tags": []
          },
          "execution_count": 65
        }
      ]
    },
    {
      "cell_type": "code",
      "metadata": {
        "id": "RWSSZ0DBZceD",
        "colab": {
          "base_uri": "https://localhost:8080/",
          "height": 135
        },
        "outputId": "69145484-a247-46cf-9de1-01efe28c5932"
      },
      "source": [
        "df_compra_itens.agg(['nunique','count','size'])"
      ],
      "execution_count": null,
      "outputs": [
        {
          "output_type": "execute_result",
          "data": {
            "text/html": [
              "<div>\n",
              "<style scoped>\n",
              "    .dataframe tbody tr th:only-of-type {\n",
              "        vertical-align: middle;\n",
              "    }\n",
              "\n",
              "    .dataframe tbody tr th {\n",
              "        vertical-align: top;\n",
              "    }\n",
              "\n",
              "    .dataframe thead th {\n",
              "        text-align: right;\n",
              "    }\n",
              "</style>\n",
              "<table border=\"1\" class=\"dataframe\">\n",
              "  <thead>\n",
              "    <tr style=\"text-align: right;\">\n",
              "      <th></th>\n",
              "      <th>order_id</th>\n",
              "      <th>order_item_id</th>\n",
              "      <th>product_id</th>\n",
              "      <th>seller_id</th>\n",
              "      <th>shipping_limit_date</th>\n",
              "      <th>price</th>\n",
              "      <th>freight_value</th>\n",
              "    </tr>\n",
              "  </thead>\n",
              "  <tbody>\n",
              "    <tr>\n",
              "      <th>nunique</th>\n",
              "      <td>98666</td>\n",
              "      <td>21</td>\n",
              "      <td>32951</td>\n",
              "      <td>3095</td>\n",
              "      <td>93318</td>\n",
              "      <td>5968</td>\n",
              "      <td>6999</td>\n",
              "    </tr>\n",
              "    <tr>\n",
              "      <th>count</th>\n",
              "      <td>112650</td>\n",
              "      <td>112650</td>\n",
              "      <td>112650</td>\n",
              "      <td>112650</td>\n",
              "      <td>112650</td>\n",
              "      <td>112650</td>\n",
              "      <td>112650</td>\n",
              "    </tr>\n",
              "    <tr>\n",
              "      <th>size</th>\n",
              "      <td>112650</td>\n",
              "      <td>112650</td>\n",
              "      <td>112650</td>\n",
              "      <td>112650</td>\n",
              "      <td>112650</td>\n",
              "      <td>112650</td>\n",
              "      <td>112650</td>\n",
              "    </tr>\n",
              "  </tbody>\n",
              "</table>\n",
              "</div>"
            ],
            "text/plain": [
              "         order_id  order_item_id  ...   price  freight_value\n",
              "nunique     98666             21  ...    5968           6999\n",
              "count      112650         112650  ...  112650         112650\n",
              "size       112650         112650  ...  112650         112650\n",
              "\n",
              "[3 rows x 7 columns]"
            ]
          },
          "metadata": {
            "tags": []
          },
          "execution_count": 66
        }
      ]
    },
    {
      "cell_type": "markdown",
      "metadata": {
        "id": "rrrIEOlRcO8j"
      },
      "source": [
        "### Info Negócio"
      ]
    },
    {
      "cell_type": "code",
      "metadata": {
        "id": "cLsXDlnJ1EBv",
        "colab": {
          "base_uri": "https://localhost:8080/",
          "height": 135
        },
        "outputId": "17133416-96b6-42bf-b0d5-64469d1f6022"
      },
      "source": [
        "df_compra_itens.head(3)"
      ],
      "execution_count": null,
      "outputs": [
        {
          "output_type": "execute_result",
          "data": {
            "text/html": [
              "<div>\n",
              "<style scoped>\n",
              "    .dataframe tbody tr th:only-of-type {\n",
              "        vertical-align: middle;\n",
              "    }\n",
              "\n",
              "    .dataframe tbody tr th {\n",
              "        vertical-align: top;\n",
              "    }\n",
              "\n",
              "    .dataframe thead th {\n",
              "        text-align: right;\n",
              "    }\n",
              "</style>\n",
              "<table border=\"1\" class=\"dataframe\">\n",
              "  <thead>\n",
              "    <tr style=\"text-align: right;\">\n",
              "      <th></th>\n",
              "      <th>order_id</th>\n",
              "      <th>order_item_id</th>\n",
              "      <th>product_id</th>\n",
              "      <th>seller_id</th>\n",
              "      <th>shipping_limit_date</th>\n",
              "      <th>price</th>\n",
              "      <th>freight_value</th>\n",
              "    </tr>\n",
              "  </thead>\n",
              "  <tbody>\n",
              "    <tr>\n",
              "      <th>0</th>\n",
              "      <td>00010242fe8c5a6d1ba2dd792cb16214</td>\n",
              "      <td>1</td>\n",
              "      <td>4244733e06e7ecb4970a6e2683c13e61</td>\n",
              "      <td>48436dade18ac8b2bce089ec2a041202</td>\n",
              "      <td>2017-09-19 09:45:35</td>\n",
              "      <td>58.9</td>\n",
              "      <td>13.29</td>\n",
              "    </tr>\n",
              "    <tr>\n",
              "      <th>1</th>\n",
              "      <td>00018f77f2f0320c557190d7a144bdd3</td>\n",
              "      <td>1</td>\n",
              "      <td>e5f2d52b802189ee658865ca93d83a8f</td>\n",
              "      <td>dd7ddc04e1b6c2c614352b383efe2d36</td>\n",
              "      <td>2017-05-03 11:05:13</td>\n",
              "      <td>239.9</td>\n",
              "      <td>19.93</td>\n",
              "    </tr>\n",
              "    <tr>\n",
              "      <th>2</th>\n",
              "      <td>000229ec398224ef6ca0657da4fc703e</td>\n",
              "      <td>1</td>\n",
              "      <td>c777355d18b72b67abbeef9df44fd0fd</td>\n",
              "      <td>5b51032eddd242adc84c38acab88f23d</td>\n",
              "      <td>2018-01-18 14:48:30</td>\n",
              "      <td>199.0</td>\n",
              "      <td>17.87</td>\n",
              "    </tr>\n",
              "  </tbody>\n",
              "</table>\n",
              "</div>"
            ],
            "text/plain": [
              "                           order_id  order_item_id  ...  price freight_value\n",
              "0  00010242fe8c5a6d1ba2dd792cb16214              1  ...   58.9         13.29\n",
              "1  00018f77f2f0320c557190d7a144bdd3              1  ...  239.9         19.93\n",
              "2  000229ec398224ef6ca0657da4fc703e              1  ...  199.0         17.87\n",
              "\n",
              "[3 rows x 7 columns]"
            ]
          },
          "metadata": {
            "tags": []
          },
          "execution_count": 67
        }
      ]
    },
    {
      "cell_type": "markdown",
      "metadata": {
        "id": "M76np_XUQLJk"
      },
      "source": [
        "Perguntas:\n",
        "- Qual o produto mais vendido?\n",
        "- **O frete do produto mais vendido muda de acordo com a região?**\n",
        "- Qual o frete médio do produto mais vendido?\n",
        "- Qual o top 5 vendedores?\n",
        "- Quais produtos que os top 5 vendedores mais vendem?\n",
        "- Variação de preço ao longo do tempo.\n",
        "- Qual produto fatura mais?\n",
        "- Venda de produto x Ano (top 5?)\n",
        "- Volume de dinheiro em transações ao longo dos meses.\n",
        "----------------------------------------------\n",
        "Responder\n",
        "- Qual o produto mais vendido?\n",
        "- Qual o frete médio do produto mais vendido?\n",
        "- Qual produto fatura mais?\n",
        "- Qual o top 5 vendedores?\n",
        "----------------------------------------------\n",
        "Para casa:\n",
        "- Variação de preço ao longo do tempo.\n",
        "- Venda de produto x Ano (top 5?)\n",
        "- Volume de dinheiro em transações ao longo dos meses.\n"
      ]
    },
    {
      "cell_type": "markdown",
      "metadata": {
        "id": "3OCdGXHDVJ8z"
      },
      "source": [
        "#### Qual o produto mais vendido?"
      ]
    },
    {
      "cell_type": "code",
      "metadata": {
        "id": "oR1EqMJi1D80",
        "colab": {
          "base_uri": "https://localhost:8080/"
        },
        "outputId": "6e6e6984-bf3d-4f71-a1a5-c70fd9b575db"
      },
      "source": [
        "# Errado\n",
        "df_compra_itens.product_id.value_counts().head(5)"
      ],
      "execution_count": null,
      "outputs": [
        {
          "output_type": "execute_result",
          "data": {
            "text/plain": [
              "aca2eb7d00ea1a7b8ebd4e68314663af    527\n",
              "99a4788cb24856965c36a24e339b6058    488\n",
              "422879e10f46682990de24d770e7f83d    484\n",
              "389d119b48cf3043d311335e499d9c6b    392\n",
              "368c6c730842d78016ad823897a372db    388\n",
              "Name: product_id, dtype: int64"
            ]
          },
          "metadata": {
            "tags": []
          },
          "execution_count": 68
        }
      ]
    },
    {
      "cell_type": "code",
      "metadata": {
        "id": "618hGLC4abFv",
        "colab": {
          "base_uri": "https://localhost:8080/"
        },
        "outputId": "ff854fa0-f7bb-40a4-f883-aff278e05f57"
      },
      "source": [
        "df_compra_itens[['product_id', 'order_item_id' ]].groupby(by='product_id').apply(sum)['order_item_id']"
      ],
      "execution_count": null,
      "outputs": [
        {
          "output_type": "execute_result",
          "data": {
            "text/plain": [
              "product_id\n",
              "00066f42aeeb9f3007548bb9d3f33c38    1\n",
              "00088930e925c41fd95ebfe695fd2655    1\n",
              "0009406fd7479715e4bef61dd91f2462    1\n",
              "000b8f95fcb9e0096488278317764d19    2\n",
              "000d9be29b5207b54e86aa1b1ac54872    1\n",
              "                                   ..\n",
              "fff6177642830a9a94a0f2cba5e476d1    2\n",
              "fff81cc3158d2725c0655ab9ba0f712c    1\n",
              "fff9553ac224cec9d15d49f5a263411f    1\n",
              "fffdb2d0ec8d6a61f0a0a0db3f25b441    5\n",
              "fffe9eeff12fcbd74a2f2b007dde0c58    1\n",
              "Name: order_item_id, Length: 32951, dtype: int64"
            ]
          },
          "metadata": {
            "tags": []
          },
          "execution_count": 69
        }
      ]
    },
    {
      "cell_type": "code",
      "metadata": {
        "id": "22nRiVB4VZ4k",
        "colab": {
          "base_uri": "https://localhost:8080/"
        },
        "outputId": "04f29b6c-8376-47b6-fc0a-3c2e492a00fd"
      },
      "source": [
        "# Certo\n",
        "df_prod_mais_v = df_compra_itens[['product_id', 'order_item_id' ]].groupby(by='product_id').apply(sum)['order_item_id']\n",
        "df_prod_mais_v.head()"
      ],
      "execution_count": null,
      "outputs": [
        {
          "output_type": "execute_result",
          "data": {
            "text/plain": [
              "product_id\n",
              "00066f42aeeb9f3007548bb9d3f33c38    1\n",
              "00088930e925c41fd95ebfe695fd2655    1\n",
              "0009406fd7479715e4bef61dd91f2462    1\n",
              "000b8f95fcb9e0096488278317764d19    2\n",
              "000d9be29b5207b54e86aa1b1ac54872    1\n",
              "Name: order_item_id, dtype: int64"
            ]
          },
          "metadata": {
            "tags": []
          },
          "execution_count": 70
        }
      ]
    },
    {
      "cell_type": "code",
      "metadata": {
        "id": "PU4yVC7uVzCd",
        "colab": {
          "base_uri": "https://localhost:8080/"
        },
        "outputId": "403437b3-9b2c-4b9d-cb2b-cec49e3cc4c6"
      },
      "source": [
        "df_prod_mais_v.sort_values(ascending=False).head(5)"
      ],
      "execution_count": null,
      "outputs": [
        {
          "output_type": "execute_result",
          "data": {
            "text/plain": [
              "product_id\n",
              "422879e10f46682990de24d770e7f83d    793\n",
              "aca2eb7d00ea1a7b8ebd4e68314663af    640\n",
              "368c6c730842d78016ad823897a372db    551\n",
              "53759a2ecddad2bb87a079a1f1519f73    545\n",
              "99a4788cb24856965c36a24e339b6058    542\n",
              "Name: order_item_id, dtype: int64"
            ]
          },
          "metadata": {
            "tags": []
          },
          "execution_count": 71
        }
      ]
    },
    {
      "cell_type": "markdown",
      "metadata": {
        "id": "h9JFEf6oWg_6"
      },
      "source": [
        "#### Qual o frete médio do produto mais vendido?"
      ]
    },
    {
      "cell_type": "code",
      "metadata": {
        "id": "dv8b76JjcKLF",
        "colab": {
          "base_uri": "https://localhost:8080/",
          "height": 36
        },
        "outputId": "92beb563-55fc-4305-d576-5169d7a7fe32"
      },
      "source": [
        "df_prod_mais_v.sort_values(ascending=False).index[0]"
      ],
      "execution_count": null,
      "outputs": [
        {
          "output_type": "execute_result",
          "data": {
            "application/vnd.google.colaboratory.intrinsic+json": {
              "type": "string"
            },
            "text/plain": [
              "'422879e10f46682990de24d770e7f83d'"
            ]
          },
          "metadata": {
            "tags": []
          },
          "execution_count": 72
        }
      ]
    },
    {
      "cell_type": "code",
      "metadata": {
        "id": "8GthLv6lWWSB",
        "colab": {
          "base_uri": "https://localhost:8080/",
          "height": 340
        },
        "outputId": "a52f15d8-4678-4d43-8150-1828a2932991"
      },
      "source": [
        "prod_mais = df_prod_mais_v.sort_values(ascending=False).index[0]\n",
        "df_prod_mais_vendido = df_compra_itens[ df_compra_itens.product_id == prod_mais ]\n",
        "df_prod_mais_vendido.head(10)"
      ],
      "execution_count": null,
      "outputs": [
        {
          "output_type": "execute_result",
          "data": {
            "text/html": [
              "<div>\n",
              "<style scoped>\n",
              "    .dataframe tbody tr th:only-of-type {\n",
              "        vertical-align: middle;\n",
              "    }\n",
              "\n",
              "    .dataframe tbody tr th {\n",
              "        vertical-align: top;\n",
              "    }\n",
              "\n",
              "    .dataframe thead th {\n",
              "        text-align: right;\n",
              "    }\n",
              "</style>\n",
              "<table border=\"1\" class=\"dataframe\">\n",
              "  <thead>\n",
              "    <tr style=\"text-align: right;\">\n",
              "      <th></th>\n",
              "      <th>order_id</th>\n",
              "      <th>order_item_id</th>\n",
              "      <th>product_id</th>\n",
              "      <th>seller_id</th>\n",
              "      <th>shipping_limit_date</th>\n",
              "      <th>price</th>\n",
              "      <th>freight_value</th>\n",
              "    </tr>\n",
              "  </thead>\n",
              "  <tbody>\n",
              "    <tr>\n",
              "      <th>508</th>\n",
              "      <td>012b3f6ab7776a8ab3443a4ad7bef2e6</td>\n",
              "      <td>1</td>\n",
              "      <td>422879e10f46682990de24d770e7f83d</td>\n",
              "      <td>1f50f920176fa81dab994f9023523100</td>\n",
              "      <td>2018-05-09 21:30:50</td>\n",
              "      <td>53.90</td>\n",
              "      <td>0.00</td>\n",
              "    </tr>\n",
              "    <tr>\n",
              "      <th>509</th>\n",
              "      <td>012b3f6ab7776a8ab3443a4ad7bef2e6</td>\n",
              "      <td>2</td>\n",
              "      <td>422879e10f46682990de24d770e7f83d</td>\n",
              "      <td>1f50f920176fa81dab994f9023523100</td>\n",
              "      <td>2018-05-09 21:30:50</td>\n",
              "      <td>53.90</td>\n",
              "      <td>0.00</td>\n",
              "    </tr>\n",
              "    <tr>\n",
              "      <th>775</th>\n",
              "      <td>01c4f4e08d9e8b7c5bd47e612285993f</td>\n",
              "      <td>1</td>\n",
              "      <td>422879e10f46682990de24d770e7f83d</td>\n",
              "      <td>1f50f920176fa81dab994f9023523100</td>\n",
              "      <td>2017-11-30 04:30:35</td>\n",
              "      <td>49.00</td>\n",
              "      <td>13.41</td>\n",
              "    </tr>\n",
              "    <tr>\n",
              "      <th>869</th>\n",
              "      <td>0204196a1fd266bdc00356eb791b4516</td>\n",
              "      <td>1</td>\n",
              "      <td>422879e10f46682990de24d770e7f83d</td>\n",
              "      <td>1f50f920176fa81dab994f9023523100</td>\n",
              "      <td>2017-11-30 18:54:28</td>\n",
              "      <td>49.00</td>\n",
              "      <td>17.64</td>\n",
              "    </tr>\n",
              "    <tr>\n",
              "      <th>870</th>\n",
              "      <td>0204196a1fd266bdc00356eb791b4516</td>\n",
              "      <td>2</td>\n",
              "      <td>422879e10f46682990de24d770e7f83d</td>\n",
              "      <td>1f50f920176fa81dab994f9023523100</td>\n",
              "      <td>2017-11-30 18:54:28</td>\n",
              "      <td>49.00</td>\n",
              "      <td>17.64</td>\n",
              "    </tr>\n",
              "    <tr>\n",
              "      <th>1002</th>\n",
              "      <td>02556030d826438ef986ab5fd723a9a5</td>\n",
              "      <td>1</td>\n",
              "      <td>422879e10f46682990de24d770e7f83d</td>\n",
              "      <td>1f50f920176fa81dab994f9023523100</td>\n",
              "      <td>2018-02-16 10:48:11</td>\n",
              "      <td>49.90</td>\n",
              "      <td>19.59</td>\n",
              "    </tr>\n",
              "    <tr>\n",
              "      <th>1003</th>\n",
              "      <td>02556030d826438ef986ab5fd723a9a5</td>\n",
              "      <td>2</td>\n",
              "      <td>422879e10f46682990de24d770e7f83d</td>\n",
              "      <td>1f50f920176fa81dab994f9023523100</td>\n",
              "      <td>2018-02-16 10:48:11</td>\n",
              "      <td>49.90</td>\n",
              "      <td>19.59</td>\n",
              "    </tr>\n",
              "    <tr>\n",
              "      <th>1068</th>\n",
              "      <td>027ae252d37e5527c2e109e268b222e2</td>\n",
              "      <td>1</td>\n",
              "      <td>422879e10f46682990de24d770e7f83d</td>\n",
              "      <td>1f50f920176fa81dab994f9023523100</td>\n",
              "      <td>2018-05-24 22:18:42</td>\n",
              "      <td>53.90</td>\n",
              "      <td>14.47</td>\n",
              "    </tr>\n",
              "    <tr>\n",
              "      <th>1161</th>\n",
              "      <td>02b2c02d27d60c0e658675335ca80216</td>\n",
              "      <td>1</td>\n",
              "      <td>422879e10f46682990de24d770e7f83d</td>\n",
              "      <td>1f50f920176fa81dab994f9023523100</td>\n",
              "      <td>2017-08-10 13:10:18</td>\n",
              "      <td>59.90</td>\n",
              "      <td>17.67</td>\n",
              "    </tr>\n",
              "    <tr>\n",
              "      <th>1340</th>\n",
              "      <td>03202c9906e9d1140a8ac3e15f4492e8</td>\n",
              "      <td>1</td>\n",
              "      <td>422879e10f46682990de24d770e7f83d</td>\n",
              "      <td>1f50f920176fa81dab994f9023523100</td>\n",
              "      <td>2018-08-09 04:44:41</td>\n",
              "      <td>49.91</td>\n",
              "      <td>20.99</td>\n",
              "    </tr>\n",
              "  </tbody>\n",
              "</table>\n",
              "</div>"
            ],
            "text/plain": [
              "                              order_id  order_item_id  ...  price freight_value\n",
              "508   012b3f6ab7776a8ab3443a4ad7bef2e6              1  ...  53.90          0.00\n",
              "509   012b3f6ab7776a8ab3443a4ad7bef2e6              2  ...  53.90          0.00\n",
              "775   01c4f4e08d9e8b7c5bd47e612285993f              1  ...  49.00         13.41\n",
              "869   0204196a1fd266bdc00356eb791b4516              1  ...  49.00         17.64\n",
              "870   0204196a1fd266bdc00356eb791b4516              2  ...  49.00         17.64\n",
              "1002  02556030d826438ef986ab5fd723a9a5              1  ...  49.90         19.59\n",
              "1003  02556030d826438ef986ab5fd723a9a5              2  ...  49.90         19.59\n",
              "1068  027ae252d37e5527c2e109e268b222e2              1  ...  53.90         14.47\n",
              "1161  02b2c02d27d60c0e658675335ca80216              1  ...  59.90         17.67\n",
              "1340  03202c9906e9d1140a8ac3e15f4492e8              1  ...  49.91         20.99\n",
              "\n",
              "[10 rows x 7 columns]"
            ]
          },
          "metadata": {
            "tags": []
          },
          "execution_count": 73
        }
      ]
    },
    {
      "cell_type": "code",
      "metadata": {
        "id": "IPPjJ_70XLZz",
        "colab": {
          "base_uri": "https://localhost:8080/"
        },
        "outputId": "7a0013e7-295c-4a51-ea07-efdd6e3b72aa"
      },
      "source": [
        "df_prod_mais_vendido.freight_value.describe()"
      ],
      "execution_count": null,
      "outputs": [
        {
          "output_type": "execute_result",
          "data": {
            "text/plain": [
              "count    484.000000\n",
              "mean      15.752149\n",
              "std        8.358141\n",
              "min        0.000000\n",
              "25%       13.430000\n",
              "50%       17.630000\n",
              "75%       17.670000\n",
              "max       83.270000\n",
              "Name: freight_value, dtype: float64"
            ]
          },
          "metadata": {
            "tags": []
          },
          "execution_count": 74
        }
      ]
    },
    {
      "cell_type": "code",
      "metadata": {
        "id": "LsXZZ_YOXjcj",
        "colab": {
          "base_uri": "https://localhost:8080/",
          "height": 542
        },
        "outputId": "b74b7f81-d2f9-4787-f195-0bd299850d3e"
      },
      "source": [
        "fig = px.box(df_prod_mais_vendido, y=\"freight_value\")\n",
        "fig.show()"
      ],
      "execution_count": null,
      "outputs": [
        {
          "output_type": "display_data",
          "data": {
            "text/html": [
              "<html>\n",
              "<head><meta charset=\"utf-8\" /></head>\n",
              "<body>\n",
              "    <div>            <script src=\"https://cdnjs.cloudflare.com/ajax/libs/mathjax/2.7.5/MathJax.js?config=TeX-AMS-MML_SVG\"></script><script type=\"text/javascript\">if (window.MathJax) {MathJax.Hub.Config({SVG: {font: \"STIX-Web\"}});}</script>                <script type=\"text/javascript\">window.PlotlyConfig = {MathJaxConfig: 'local'};</script>\n",
              "        <script src=\"https://cdn.plot.ly/plotly-latest.min.js\"></script>                <div id=\"e72fc7f9-b553-4d77-be2d-05c4f5c653bd\" class=\"plotly-graph-div\" style=\"height:525px; width:100%;\"></div>            <script type=\"text/javascript\">                                    window.PLOTLYENV=window.PLOTLYENV || {};                                    if (document.getElementById(\"e72fc7f9-b553-4d77-be2d-05c4f5c653bd\")) {                    Plotly.newPlot(                        \"e72fc7f9-b553-4d77-be2d-05c4f5c653bd\",                        [{\"alignmentgroup\": \"True\", \"hovertemplate\": \"freight_value=%{y}<extra></extra>\", \"legendgroup\": \"\", \"marker\": {\"color\": \"#636efa\"}, \"name\": \"\", \"notched\": false, \"offsetgroup\": \"\", \"orientation\": \"v\", \"showlegend\": false, \"type\": \"box\", \"x0\": \" \", \"xaxis\": \"x\", \"y\": [0.0, 0.0, 13.41, 17.64, 17.64, 19.59, 19.59, 14.47, 17.67, 20.99, 20.99, 13.43, 13.43, 13.37, 13.44, 17.64, 20.8, 17.26, 17.67, 19.66, 0.0, 21.35, 0.0, 0.0, 17.66, 37.9, 13.41, 13.44, 13.46, 13.46, 13.37, 13.37, 21.2, 21.2, 0.0, 17.6, 13.4, 19.59, 17.67, 13.41, 0.0, 17.67, 13.44, 16.52, 17.67, 17.67, 17.67, 13.44, 20.99, 13.37, 17.67, 17.6, 17.6, 21.35, 21.35, 21.35, 13.37, 17.64, 52.95, 52.95, 13.46, 17.67, 17.67, 17.67, 17.67, 17.67, 17.67, 13.37, 17.64, 13.37, 13.37, 13.37, 19.63, 14.47, 12.44, 28.79, 28.79, 17.6, 17.6, 17.64, 17.6, 17.67, 22.96, 13.44, 17.63, 0.0, 0.0, 0.0, 21.35, 37.9, 37.9, 13.37, 0.0, 0.0, 0.0, 13.37, 13.44, 13.43, 13.43, 13.43, 0.0, 20.99, 20.99, 12.48, 17.67, 19.59, 17.64, 27.11, 17.6, 17.6, 17.6, 17.64, 13.43, 17.67, 17.67, 13.43, 13.44, 13.44, 0.0, 17.6, 17.67, 21.35, 13.44, 17.64, 17.67, 13.4, 17.67, 17.67, 19.66, 13.41, 17.67, 17.67, 13.46, 13.46, 37.97, 24.61, 13.43, 19.66, 17.67, 17.67, 17.67, 17.67, 17.67, 28.75, 17.67, 28.82, 28.82, 28.82, 28.82, 28.82, 17.64, 17.64, 17.67, 13.44, 17.66, 17.66, 17.66, 17.66, 17.66, 21.35, 19.65, 19.65, 17.67, 13.41, 13.4, 20.99, 20.99, 17.64, 13.37, 13.37, 13.37, 13.41, 13.41, 0.0, 0.0, 16.1, 16.1, 0.0, 0.0, 17.64, 19.66, 17.67, 13.41, 16.1, 16.1, 16.1, 25.21, 17.67, 17.6, 28.79, 17.67, 17.67, 13.4, 13.44, 17.66, 17.67, 28.79, 10.13, 17.67, 17.67, 13.44, 13.44, 8.84, 8.84, 0.0, 0.0, 13.44, 12.48, 12.48, 0.0, 0.0, 19.65, 13.44, 13.44, 13.41, 13.46, 21.35, 17.64, 0.0, 17.67, 12.52, 0.0, 13.37, 13.43, 13.43, 13.43, 13.43, 13.43, 13.43, 13.43, 13.43, 13.43, 13.43, 13.43, 13.43, 13.43, 13.43, 17.67, 17.67, 0.0, 17.6, 13.46, 22.96, 17.67, 17.67, 13.44, 17.63, 13.41, 17.02, 17.67, 20.99, 17.67, 14.47, 14.47, 14.47, 14.47, 14.47, 17.67, 13.37, 13.37, 17.6, 0.0, 0.0, 17.64, 13.44, 28.82, 14.47, 20.99, 20.99, 20.99, 20.99, 20.99, 20.99, 17.67, 17.67, 20.99, 13.44, 13.44, 13.44, 17.67, 17.67, 28.75, 17.67, 17.67, 12.49, 17.66, 0.0, 17.67, 13.71, 13.4, 56.43, 17.64, 13.43, 13.43, 13.44, 19.62, 13.37, 0.0, 17.67, 17.67, 17.67, 17.67, 17.6, 17.64, 21.35, 21.35, 21.35, 13.44, 13.43, 22.96, 22.96, 17.6, 17.66, 17.64, 17.66, 24.32, 17.67, 17.67, 0.0, 0.0, 17.67, 20.99, 0.0, 17.64, 17.64, 17.67, 39.47, 17.64, 28.79, 17.66, 13.43, 17.6, 17.67, 17.67, 17.67, 13.44, 14.47, 14.47, 14.47, 14.47, 14.47, 17.64, 17.64, 17.64, 17.67, 17.64, 0.0, 18.0, 13.44, 13.44, 14.77, 28.75, 17.66, 0.0, 17.67, 17.6, 17.64, 0.0, 0.0, 17.6, 0.0, 27.55, 27.55, 17.67, 0.0, 13.44, 20.77, 20.99, 17.67, 13.43, 0.0, 13.44, 22.96, 12.0, 12.0, 28.82, 22.96, 17.6, 21.35, 21.35, 17.6, 6.34, 11.86, 17.67, 0.0, 17.64, 0.0, 0.0, 13.43, 13.43, 21.18, 21.18, 13.41, 13.41, 17.67, 13.43, 17.67, 0.0, 0.0, 0.0, 0.0, 19.66, 17.6, 0.0, 0.0, 0.0, 0.0, 26.43, 17.67, 28.82, 0.0, 0.0, 13.44, 13.44, 13.44, 4.05, 4.05, 13.4, 17.64, 17.64, 17.67, 28.82, 17.67, 17.67, 17.6, 0.0, 6.43, 6.43, 13.43, 17.67, 25.21, 13.43, 17.6, 22.96, 13.44, 17.67, 13.41, 17.67, 17.67, 13.44, 13.44, 19.81, 23.5, 23.5, 17.64, 17.64, 17.67, 17.67, 17.67, 17.67, 22.96, 17.6, 19.32, 19.32, 19.32, 19.32, 19.32, 19.32, 17.67, 0.0, 37.97, 17.64, 17.67, 17.67, 17.67, 17.67, 17.67, 13.43, 13.44, 10.24, 17.6, 83.27, 22.96, 6.09, 17.67, 13.44, 13.44, 17.67, 13.37, 17.67, 13.44, 0.0, 13.44, 13.44], \"y0\": \" \", \"yaxis\": \"y\"}],                        {\"boxmode\": \"group\", \"legend\": {\"tracegroupgap\": 0}, \"margin\": {\"t\": 60}, \"template\": {\"data\": {\"bar\": [{\"error_x\": {\"color\": \"#2a3f5f\"}, \"error_y\": {\"color\": \"#2a3f5f\"}, \"marker\": {\"line\": {\"color\": \"#E5ECF6\", \"width\": 0.5}}, \"type\": \"bar\"}], \"barpolar\": [{\"marker\": {\"line\": {\"color\": \"#E5ECF6\", \"width\": 0.5}}, \"type\": \"barpolar\"}], \"carpet\": [{\"aaxis\": {\"endlinecolor\": \"#2a3f5f\", \"gridcolor\": \"white\", \"linecolor\": \"white\", \"minorgridcolor\": \"white\", \"startlinecolor\": \"#2a3f5f\"}, \"baxis\": {\"endlinecolor\": \"#2a3f5f\", \"gridcolor\": \"white\", \"linecolor\": \"white\", \"minorgridcolor\": \"white\", \"startlinecolor\": \"#2a3f5f\"}, \"type\": \"carpet\"}], \"choropleth\": [{\"colorbar\": {\"outlinewidth\": 0, \"ticks\": \"\"}, \"type\": \"choropleth\"}], \"contour\": [{\"colorbar\": {\"outlinewidth\": 0, \"ticks\": \"\"}, \"colorscale\": [[0.0, \"#0d0887\"], [0.1111111111111111, \"#46039f\"], [0.2222222222222222, \"#7201a8\"], [0.3333333333333333, \"#9c179e\"], [0.4444444444444444, \"#bd3786\"], [0.5555555555555556, \"#d8576b\"], [0.6666666666666666, \"#ed7953\"], [0.7777777777777778, \"#fb9f3a\"], [0.8888888888888888, \"#fdca26\"], [1.0, \"#f0f921\"]], \"type\": \"contour\"}], \"contourcarpet\": [{\"colorbar\": {\"outlinewidth\": 0, \"ticks\": \"\"}, \"type\": \"contourcarpet\"}], \"heatmap\": [{\"colorbar\": {\"outlinewidth\": 0, \"ticks\": \"\"}, \"colorscale\": [[0.0, \"#0d0887\"], [0.1111111111111111, \"#46039f\"], [0.2222222222222222, \"#7201a8\"], [0.3333333333333333, \"#9c179e\"], [0.4444444444444444, \"#bd3786\"], [0.5555555555555556, \"#d8576b\"], [0.6666666666666666, \"#ed7953\"], [0.7777777777777778, \"#fb9f3a\"], [0.8888888888888888, \"#fdca26\"], [1.0, \"#f0f921\"]], \"type\": \"heatmap\"}], \"heatmapgl\": [{\"colorbar\": {\"outlinewidth\": 0, \"ticks\": \"\"}, \"colorscale\": [[0.0, \"#0d0887\"], [0.1111111111111111, \"#46039f\"], [0.2222222222222222, \"#7201a8\"], [0.3333333333333333, \"#9c179e\"], [0.4444444444444444, \"#bd3786\"], [0.5555555555555556, \"#d8576b\"], [0.6666666666666666, \"#ed7953\"], [0.7777777777777778, \"#fb9f3a\"], [0.8888888888888888, \"#fdca26\"], [1.0, \"#f0f921\"]], \"type\": \"heatmapgl\"}], \"histogram\": [{\"marker\": {\"colorbar\": {\"outlinewidth\": 0, \"ticks\": \"\"}}, \"type\": \"histogram\"}], \"histogram2d\": [{\"colorbar\": {\"outlinewidth\": 0, \"ticks\": \"\"}, \"colorscale\": [[0.0, \"#0d0887\"], [0.1111111111111111, \"#46039f\"], [0.2222222222222222, \"#7201a8\"], [0.3333333333333333, \"#9c179e\"], [0.4444444444444444, \"#bd3786\"], [0.5555555555555556, \"#d8576b\"], [0.6666666666666666, \"#ed7953\"], [0.7777777777777778, \"#fb9f3a\"], [0.8888888888888888, \"#fdca26\"], [1.0, \"#f0f921\"]], \"type\": \"histogram2d\"}], \"histogram2dcontour\": [{\"colorbar\": {\"outlinewidth\": 0, \"ticks\": \"\"}, \"colorscale\": [[0.0, \"#0d0887\"], [0.1111111111111111, \"#46039f\"], [0.2222222222222222, \"#7201a8\"], [0.3333333333333333, \"#9c179e\"], [0.4444444444444444, \"#bd3786\"], [0.5555555555555556, \"#d8576b\"], [0.6666666666666666, \"#ed7953\"], [0.7777777777777778, \"#fb9f3a\"], [0.8888888888888888, \"#fdca26\"], [1.0, \"#f0f921\"]], \"type\": \"histogram2dcontour\"}], \"mesh3d\": [{\"colorbar\": {\"outlinewidth\": 0, \"ticks\": \"\"}, \"type\": \"mesh3d\"}], \"parcoords\": [{\"line\": {\"colorbar\": {\"outlinewidth\": 0, \"ticks\": \"\"}}, \"type\": \"parcoords\"}], \"pie\": [{\"automargin\": true, \"type\": \"pie\"}], \"scatter\": [{\"marker\": {\"colorbar\": {\"outlinewidth\": 0, \"ticks\": \"\"}}, \"type\": \"scatter\"}], \"scatter3d\": [{\"line\": {\"colorbar\": {\"outlinewidth\": 0, \"ticks\": \"\"}}, \"marker\": {\"colorbar\": {\"outlinewidth\": 0, \"ticks\": \"\"}}, \"type\": \"scatter3d\"}], \"scattercarpet\": [{\"marker\": {\"colorbar\": {\"outlinewidth\": 0, \"ticks\": \"\"}}, \"type\": \"scattercarpet\"}], \"scattergeo\": [{\"marker\": {\"colorbar\": {\"outlinewidth\": 0, \"ticks\": \"\"}}, \"type\": \"scattergeo\"}], \"scattergl\": [{\"marker\": {\"colorbar\": {\"outlinewidth\": 0, \"ticks\": \"\"}}, \"type\": \"scattergl\"}], \"scattermapbox\": [{\"marker\": {\"colorbar\": {\"outlinewidth\": 0, \"ticks\": \"\"}}, \"type\": \"scattermapbox\"}], \"scatterpolar\": [{\"marker\": {\"colorbar\": {\"outlinewidth\": 0, \"ticks\": \"\"}}, \"type\": \"scatterpolar\"}], \"scatterpolargl\": [{\"marker\": {\"colorbar\": {\"outlinewidth\": 0, \"ticks\": \"\"}}, \"type\": \"scatterpolargl\"}], \"scatterternary\": [{\"marker\": {\"colorbar\": {\"outlinewidth\": 0, \"ticks\": \"\"}}, \"type\": \"scatterternary\"}], \"surface\": [{\"colorbar\": {\"outlinewidth\": 0, \"ticks\": \"\"}, \"colorscale\": [[0.0, \"#0d0887\"], [0.1111111111111111, \"#46039f\"], [0.2222222222222222, \"#7201a8\"], [0.3333333333333333, \"#9c179e\"], [0.4444444444444444, \"#bd3786\"], [0.5555555555555556, \"#d8576b\"], [0.6666666666666666, \"#ed7953\"], [0.7777777777777778, \"#fb9f3a\"], [0.8888888888888888, \"#fdca26\"], [1.0, \"#f0f921\"]], \"type\": \"surface\"}], \"table\": [{\"cells\": {\"fill\": {\"color\": \"#EBF0F8\"}, \"line\": {\"color\": \"white\"}}, \"header\": {\"fill\": {\"color\": \"#C8D4E3\"}, \"line\": {\"color\": \"white\"}}, \"type\": \"table\"}]}, \"layout\": {\"annotationdefaults\": {\"arrowcolor\": \"#2a3f5f\", \"arrowhead\": 0, \"arrowwidth\": 1}, \"autotypenumbers\": \"strict\", \"coloraxis\": {\"colorbar\": {\"outlinewidth\": 0, \"ticks\": \"\"}}, \"colorscale\": {\"diverging\": [[0, \"#8e0152\"], [0.1, \"#c51b7d\"], [0.2, \"#de77ae\"], [0.3, \"#f1b6da\"], [0.4, \"#fde0ef\"], [0.5, \"#f7f7f7\"], [0.6, \"#e6f5d0\"], [0.7, \"#b8e186\"], [0.8, \"#7fbc41\"], [0.9, \"#4d9221\"], [1, \"#276419\"]], \"sequential\": [[0.0, \"#0d0887\"], [0.1111111111111111, \"#46039f\"], [0.2222222222222222, \"#7201a8\"], [0.3333333333333333, \"#9c179e\"], [0.4444444444444444, \"#bd3786\"], [0.5555555555555556, \"#d8576b\"], [0.6666666666666666, \"#ed7953\"], [0.7777777777777778, \"#fb9f3a\"], [0.8888888888888888, \"#fdca26\"], [1.0, \"#f0f921\"]], \"sequentialminus\": [[0.0, \"#0d0887\"], [0.1111111111111111, \"#46039f\"], [0.2222222222222222, \"#7201a8\"], [0.3333333333333333, \"#9c179e\"], [0.4444444444444444, \"#bd3786\"], [0.5555555555555556, \"#d8576b\"], [0.6666666666666666, \"#ed7953\"], [0.7777777777777778, \"#fb9f3a\"], [0.8888888888888888, \"#fdca26\"], [1.0, \"#f0f921\"]]}, \"colorway\": [\"#636efa\", \"#EF553B\", \"#00cc96\", \"#ab63fa\", \"#FFA15A\", \"#19d3f3\", \"#FF6692\", \"#B6E880\", \"#FF97FF\", \"#FECB52\"], \"font\": {\"color\": \"#2a3f5f\"}, \"geo\": {\"bgcolor\": \"white\", \"lakecolor\": \"white\", \"landcolor\": \"#E5ECF6\", \"showlakes\": true, \"showland\": true, \"subunitcolor\": \"white\"}, \"hoverlabel\": {\"align\": \"left\"}, \"hovermode\": \"closest\", \"mapbox\": {\"style\": \"light\"}, \"paper_bgcolor\": \"white\", \"plot_bgcolor\": \"#E5ECF6\", \"polar\": {\"angularaxis\": {\"gridcolor\": \"white\", \"linecolor\": \"white\", \"ticks\": \"\"}, \"bgcolor\": \"#E5ECF6\", \"radialaxis\": {\"gridcolor\": \"white\", \"linecolor\": \"white\", \"ticks\": \"\"}}, \"scene\": {\"xaxis\": {\"backgroundcolor\": \"#E5ECF6\", \"gridcolor\": \"white\", \"gridwidth\": 2, \"linecolor\": \"white\", \"showbackground\": true, \"ticks\": \"\", \"zerolinecolor\": \"white\"}, \"yaxis\": {\"backgroundcolor\": \"#E5ECF6\", \"gridcolor\": \"white\", \"gridwidth\": 2, \"linecolor\": \"white\", \"showbackground\": true, \"ticks\": \"\", \"zerolinecolor\": \"white\"}, \"zaxis\": {\"backgroundcolor\": \"#E5ECF6\", \"gridcolor\": \"white\", \"gridwidth\": 2, \"linecolor\": \"white\", \"showbackground\": true, \"ticks\": \"\", \"zerolinecolor\": \"white\"}}, \"shapedefaults\": {\"line\": {\"color\": \"#2a3f5f\"}}, \"ternary\": {\"aaxis\": {\"gridcolor\": \"white\", \"linecolor\": \"white\", \"ticks\": \"\"}, \"baxis\": {\"gridcolor\": \"white\", \"linecolor\": \"white\", \"ticks\": \"\"}, \"bgcolor\": \"#E5ECF6\", \"caxis\": {\"gridcolor\": \"white\", \"linecolor\": \"white\", \"ticks\": \"\"}}, \"title\": {\"x\": 0.05}, \"xaxis\": {\"automargin\": true, \"gridcolor\": \"white\", \"linecolor\": \"white\", \"ticks\": \"\", \"title\": {\"standoff\": 15}, \"zerolinecolor\": \"white\", \"zerolinewidth\": 2}, \"yaxis\": {\"automargin\": true, \"gridcolor\": \"white\", \"linecolor\": \"white\", \"ticks\": \"\", \"title\": {\"standoff\": 15}, \"zerolinecolor\": \"white\", \"zerolinewidth\": 2}}}, \"xaxis\": {\"anchor\": \"y\", \"domain\": [0.0, 1.0]}, \"yaxis\": {\"anchor\": \"x\", \"domain\": [0.0, 1.0], \"title\": {\"text\": \"freight_value\"}}},                        {\"responsive\": true}                    ).then(function(){\n",
              "                            \n",
              "var gd = document.getElementById('e72fc7f9-b553-4d77-be2d-05c4f5c653bd');\n",
              "var x = new MutationObserver(function (mutations, observer) {{\n",
              "        var display = window.getComputedStyle(gd).display;\n",
              "        if (!display || display === 'none') {{\n",
              "            console.log([gd, 'removed!']);\n",
              "            Plotly.purge(gd);\n",
              "            observer.disconnect();\n",
              "        }}\n",
              "}});\n",
              "\n",
              "// Listen for the removal of the full notebook cells\n",
              "var notebookContainer = gd.closest('#notebook-container');\n",
              "if (notebookContainer) {{\n",
              "    x.observe(notebookContainer, {childList: true});\n",
              "}}\n",
              "\n",
              "// Listen for the clearing of the current output cell\n",
              "var outputEl = gd.closest('.output');\n",
              "if (outputEl) {{\n",
              "    x.observe(outputEl, {childList: true});\n",
              "}}\n",
              "\n",
              "                        })                };                            </script>        </div>\n",
              "</body>\n",
              "</html>"
            ]
          },
          "metadata": {
            "tags": []
          }
        }
      ]
    },
    {
      "cell_type": "markdown",
      "metadata": {
        "id": "uvPfDFI6X8YQ"
      },
      "source": [
        "#### Qual produto fatura mais?"
      ]
    },
    {
      "cell_type": "code",
      "metadata": {
        "id": "p-DEQUz3Y1XF",
        "colab": {
          "base_uri": "https://localhost:8080/",
          "height": 232
        },
        "outputId": "2fcbb343-3ebd-453d-8cbe-58870721d1f2"
      },
      "source": [
        "df_compra_itens['valor_final'] = df_compra_itens.order_item_id * df_compra_itens.price\n",
        "df_compra_itens.head()"
      ],
      "execution_count": null,
      "outputs": [
        {
          "output_type": "stream",
          "text": [
            "INFO:numexpr.utils:NumExpr defaulting to 2 threads.\n"
          ],
          "name": "stderr"
        },
        {
          "output_type": "execute_result",
          "data": {
            "text/html": [
              "<div>\n",
              "<style scoped>\n",
              "    .dataframe tbody tr th:only-of-type {\n",
              "        vertical-align: middle;\n",
              "    }\n",
              "\n",
              "    .dataframe tbody tr th {\n",
              "        vertical-align: top;\n",
              "    }\n",
              "\n",
              "    .dataframe thead th {\n",
              "        text-align: right;\n",
              "    }\n",
              "</style>\n",
              "<table border=\"1\" class=\"dataframe\">\n",
              "  <thead>\n",
              "    <tr style=\"text-align: right;\">\n",
              "      <th></th>\n",
              "      <th>order_id</th>\n",
              "      <th>order_item_id</th>\n",
              "      <th>product_id</th>\n",
              "      <th>seller_id</th>\n",
              "      <th>shipping_limit_date</th>\n",
              "      <th>price</th>\n",
              "      <th>freight_value</th>\n",
              "      <th>valor_final</th>\n",
              "    </tr>\n",
              "  </thead>\n",
              "  <tbody>\n",
              "    <tr>\n",
              "      <th>0</th>\n",
              "      <td>00010242fe8c5a6d1ba2dd792cb16214</td>\n",
              "      <td>1</td>\n",
              "      <td>4244733e06e7ecb4970a6e2683c13e61</td>\n",
              "      <td>48436dade18ac8b2bce089ec2a041202</td>\n",
              "      <td>2017-09-19 09:45:35</td>\n",
              "      <td>58.90</td>\n",
              "      <td>13.29</td>\n",
              "      <td>58.90</td>\n",
              "    </tr>\n",
              "    <tr>\n",
              "      <th>1</th>\n",
              "      <td>00018f77f2f0320c557190d7a144bdd3</td>\n",
              "      <td>1</td>\n",
              "      <td>e5f2d52b802189ee658865ca93d83a8f</td>\n",
              "      <td>dd7ddc04e1b6c2c614352b383efe2d36</td>\n",
              "      <td>2017-05-03 11:05:13</td>\n",
              "      <td>239.90</td>\n",
              "      <td>19.93</td>\n",
              "      <td>239.90</td>\n",
              "    </tr>\n",
              "    <tr>\n",
              "      <th>2</th>\n",
              "      <td>000229ec398224ef6ca0657da4fc703e</td>\n",
              "      <td>1</td>\n",
              "      <td>c777355d18b72b67abbeef9df44fd0fd</td>\n",
              "      <td>5b51032eddd242adc84c38acab88f23d</td>\n",
              "      <td>2018-01-18 14:48:30</td>\n",
              "      <td>199.00</td>\n",
              "      <td>17.87</td>\n",
              "      <td>199.00</td>\n",
              "    </tr>\n",
              "    <tr>\n",
              "      <th>3</th>\n",
              "      <td>00024acbcdf0a6daa1e931b038114c75</td>\n",
              "      <td>1</td>\n",
              "      <td>7634da152a4610f1595efa32f14722fc</td>\n",
              "      <td>9d7a1d34a5052409006425275ba1c2b4</td>\n",
              "      <td>2018-08-15 10:10:18</td>\n",
              "      <td>12.99</td>\n",
              "      <td>12.79</td>\n",
              "      <td>12.99</td>\n",
              "    </tr>\n",
              "    <tr>\n",
              "      <th>4</th>\n",
              "      <td>00042b26cf59d7ce69dfabb4e55b4fd9</td>\n",
              "      <td>1</td>\n",
              "      <td>ac6c3623068f30de03045865e4e10089</td>\n",
              "      <td>df560393f3a51e74553ab94004ba5c87</td>\n",
              "      <td>2017-02-13 13:57:51</td>\n",
              "      <td>199.90</td>\n",
              "      <td>18.14</td>\n",
              "      <td>199.90</td>\n",
              "    </tr>\n",
              "  </tbody>\n",
              "</table>\n",
              "</div>"
            ],
            "text/plain": [
              "                           order_id  order_item_id  ... freight_value valor_final\n",
              "0  00010242fe8c5a6d1ba2dd792cb16214              1  ...         13.29       58.90\n",
              "1  00018f77f2f0320c557190d7a144bdd3              1  ...         19.93      239.90\n",
              "2  000229ec398224ef6ca0657da4fc703e              1  ...         17.87      199.00\n",
              "3  00024acbcdf0a6daa1e931b038114c75              1  ...         12.79       12.99\n",
              "4  00042b26cf59d7ce69dfabb4e55b4fd9              1  ...         18.14      199.90\n",
              "\n",
              "[5 rows x 8 columns]"
            ]
          },
          "metadata": {
            "tags": []
          },
          "execution_count": 76
        }
      ]
    },
    {
      "cell_type": "code",
      "metadata": {
        "id": "KLjEJ-Y1X60B",
        "colab": {
          "base_uri": "https://localhost:8080/",
          "height": 223
        },
        "outputId": "8278eb89-80b3-4e00-b851-0c35e96735f2"
      },
      "source": [
        "df_prod_mais_f = df_compra_itens[['product_id', 'order_item_id', 'valor_final' ]].groupby(by=['product_id']).apply(sum)[['valor_final', 'order_item_id']]\n",
        "df_prod_mais_f.head()"
      ],
      "execution_count": null,
      "outputs": [
        {
          "output_type": "execute_result",
          "data": {
            "text/html": [
              "<div>\n",
              "<style scoped>\n",
              "    .dataframe tbody tr th:only-of-type {\n",
              "        vertical-align: middle;\n",
              "    }\n",
              "\n",
              "    .dataframe tbody tr th {\n",
              "        vertical-align: top;\n",
              "    }\n",
              "\n",
              "    .dataframe thead th {\n",
              "        text-align: right;\n",
              "    }\n",
              "</style>\n",
              "<table border=\"1\" class=\"dataframe\">\n",
              "  <thead>\n",
              "    <tr style=\"text-align: right;\">\n",
              "      <th></th>\n",
              "      <th>valor_final</th>\n",
              "      <th>order_item_id</th>\n",
              "    </tr>\n",
              "    <tr>\n",
              "      <th>product_id</th>\n",
              "      <th></th>\n",
              "      <th></th>\n",
              "    </tr>\n",
              "  </thead>\n",
              "  <tbody>\n",
              "    <tr>\n",
              "      <th>00066f42aeeb9f3007548bb9d3f33c38</th>\n",
              "      <td>101.65</td>\n",
              "      <td>1</td>\n",
              "    </tr>\n",
              "    <tr>\n",
              "      <th>00088930e925c41fd95ebfe695fd2655</th>\n",
              "      <td>129.90</td>\n",
              "      <td>1</td>\n",
              "    </tr>\n",
              "    <tr>\n",
              "      <th>0009406fd7479715e4bef61dd91f2462</th>\n",
              "      <td>229.00</td>\n",
              "      <td>1</td>\n",
              "    </tr>\n",
              "    <tr>\n",
              "      <th>000b8f95fcb9e0096488278317764d19</th>\n",
              "      <td>117.80</td>\n",
              "      <td>2</td>\n",
              "    </tr>\n",
              "    <tr>\n",
              "      <th>000d9be29b5207b54e86aa1b1ac54872</th>\n",
              "      <td>199.00</td>\n",
              "      <td>1</td>\n",
              "    </tr>\n",
              "  </tbody>\n",
              "</table>\n",
              "</div>"
            ],
            "text/plain": [
              "                                  valor_final  order_item_id\n",
              "product_id                                                  \n",
              "00066f42aeeb9f3007548bb9d3f33c38       101.65              1\n",
              "00088930e925c41fd95ebfe695fd2655       129.90              1\n",
              "0009406fd7479715e4bef61dd91f2462       229.00              1\n",
              "000b8f95fcb9e0096488278317764d19       117.80              2\n",
              "000d9be29b5207b54e86aa1b1ac54872       199.00              1"
            ]
          },
          "metadata": {
            "tags": []
          },
          "execution_count": 77
        }
      ]
    },
    {
      "cell_type": "code",
      "metadata": {
        "id": "U8KxCsYzZJZk",
        "colab": {
          "base_uri": "https://localhost:8080/",
          "height": 223
        },
        "outputId": "a2abaaac-010a-4a57-c222-5e558b4c42c3"
      },
      "source": [
        "df_prod_mais_f.sort_values(by=['valor_final'] ,ascending=False).head(5)"
      ],
      "execution_count": null,
      "outputs": [
        {
          "output_type": "execute_result",
          "data": {
            "text/html": [
              "<div>\n",
              "<style scoped>\n",
              "    .dataframe tbody tr th:only-of-type {\n",
              "        vertical-align: middle;\n",
              "    }\n",
              "\n",
              "    .dataframe tbody tr th {\n",
              "        vertical-align: top;\n",
              "    }\n",
              "\n",
              "    .dataframe thead th {\n",
              "        text-align: right;\n",
              "    }\n",
              "</style>\n",
              "<table border=\"1\" class=\"dataframe\">\n",
              "  <thead>\n",
              "    <tr style=\"text-align: right;\">\n",
              "      <th></th>\n",
              "      <th>valor_final</th>\n",
              "      <th>order_item_id</th>\n",
              "    </tr>\n",
              "    <tr>\n",
              "      <th>product_id</th>\n",
              "      <th></th>\n",
              "      <th></th>\n",
              "    </tr>\n",
              "  </thead>\n",
              "  <tbody>\n",
              "    <tr>\n",
              "      <th>bb50f2e236e5eea0100680137654686c</th>\n",
              "      <td>70485.00</td>\n",
              "      <td>215</td>\n",
              "    </tr>\n",
              "    <tr>\n",
              "      <th>5769ef0a239114ac3a854af00df129e4</th>\n",
              "      <td>60480.00</td>\n",
              "      <td>36</td>\n",
              "    </tr>\n",
              "    <tr>\n",
              "      <th>6cdd53843498f92890544667809f1595</th>\n",
              "      <td>57557.60</td>\n",
              "      <td>164</td>\n",
              "    </tr>\n",
              "    <tr>\n",
              "      <th>d1c427060a0f73f6b889a5c7c61f2ac4</th>\n",
              "      <td>50940.39</td>\n",
              "      <td>369</td>\n",
              "    </tr>\n",
              "    <tr>\n",
              "      <th>d6160fb7873f184099d9bc95e30376af</th>\n",
              "      <td>48899.34</td>\n",
              "      <td>35</td>\n",
              "    </tr>\n",
              "  </tbody>\n",
              "</table>\n",
              "</div>"
            ],
            "text/plain": [
              "                                  valor_final  order_item_id\n",
              "product_id                                                  \n",
              "bb50f2e236e5eea0100680137654686c     70485.00            215\n",
              "5769ef0a239114ac3a854af00df129e4     60480.00             36\n",
              "6cdd53843498f92890544667809f1595     57557.60            164\n",
              "d1c427060a0f73f6b889a5c7c61f2ac4     50940.39            369\n",
              "d6160fb7873f184099d9bc95e30376af     48899.34             35"
            ]
          },
          "metadata": {
            "tags": []
          },
          "execution_count": 78
        }
      ]
    },
    {
      "cell_type": "markdown",
      "metadata": {
        "id": "1fEsxJ3fZdqc"
      },
      "source": [
        "#### Qual o top 5 vendedores (+vendem)?"
      ]
    },
    {
      "cell_type": "code",
      "metadata": {
        "id": "aYAF51mBZfco",
        "colab": {
          "base_uri": "https://localhost:8080/",
          "height": 223
        },
        "outputId": "48483e23-1ff4-4c68-c2ae-629ebed82906"
      },
      "source": [
        "# Transações\n",
        "df_compra_itens.groupby( by=['seller_id'] ).count().sort_values(by=['order_id'], ascending=False).head(5)"
      ],
      "execution_count": null,
      "outputs": [
        {
          "output_type": "execute_result",
          "data": {
            "text/html": [
              "<div>\n",
              "<style scoped>\n",
              "    .dataframe tbody tr th:only-of-type {\n",
              "        vertical-align: middle;\n",
              "    }\n",
              "\n",
              "    .dataframe tbody tr th {\n",
              "        vertical-align: top;\n",
              "    }\n",
              "\n",
              "    .dataframe thead th {\n",
              "        text-align: right;\n",
              "    }\n",
              "</style>\n",
              "<table border=\"1\" class=\"dataframe\">\n",
              "  <thead>\n",
              "    <tr style=\"text-align: right;\">\n",
              "      <th></th>\n",
              "      <th>order_id</th>\n",
              "      <th>order_item_id</th>\n",
              "      <th>product_id</th>\n",
              "      <th>shipping_limit_date</th>\n",
              "      <th>price</th>\n",
              "      <th>freight_value</th>\n",
              "      <th>valor_final</th>\n",
              "    </tr>\n",
              "    <tr>\n",
              "      <th>seller_id</th>\n",
              "      <th></th>\n",
              "      <th></th>\n",
              "      <th></th>\n",
              "      <th></th>\n",
              "      <th></th>\n",
              "      <th></th>\n",
              "      <th></th>\n",
              "    </tr>\n",
              "  </thead>\n",
              "  <tbody>\n",
              "    <tr>\n",
              "      <th>6560211a19b47992c3666cc44a7e94c0</th>\n",
              "      <td>2033</td>\n",
              "      <td>2033</td>\n",
              "      <td>2033</td>\n",
              "      <td>2033</td>\n",
              "      <td>2033</td>\n",
              "      <td>2033</td>\n",
              "      <td>2033</td>\n",
              "    </tr>\n",
              "    <tr>\n",
              "      <th>4a3ca9315b744ce9f8e9374361493884</th>\n",
              "      <td>1987</td>\n",
              "      <td>1987</td>\n",
              "      <td>1987</td>\n",
              "      <td>1987</td>\n",
              "      <td>1987</td>\n",
              "      <td>1987</td>\n",
              "      <td>1987</td>\n",
              "    </tr>\n",
              "    <tr>\n",
              "      <th>1f50f920176fa81dab994f9023523100</th>\n",
              "      <td>1931</td>\n",
              "      <td>1931</td>\n",
              "      <td>1931</td>\n",
              "      <td>1931</td>\n",
              "      <td>1931</td>\n",
              "      <td>1931</td>\n",
              "      <td>1931</td>\n",
              "    </tr>\n",
              "    <tr>\n",
              "      <th>cc419e0650a3c5ba77189a1882b7556a</th>\n",
              "      <td>1775</td>\n",
              "      <td>1775</td>\n",
              "      <td>1775</td>\n",
              "      <td>1775</td>\n",
              "      <td>1775</td>\n",
              "      <td>1775</td>\n",
              "      <td>1775</td>\n",
              "    </tr>\n",
              "    <tr>\n",
              "      <th>da8622b14eb17ae2831f4ac5b9dab84a</th>\n",
              "      <td>1551</td>\n",
              "      <td>1551</td>\n",
              "      <td>1551</td>\n",
              "      <td>1551</td>\n",
              "      <td>1551</td>\n",
              "      <td>1551</td>\n",
              "      <td>1551</td>\n",
              "    </tr>\n",
              "  </tbody>\n",
              "</table>\n",
              "</div>"
            ],
            "text/plain": [
              "                                  order_id  ...  valor_final\n",
              "seller_id                                   ...             \n",
              "6560211a19b47992c3666cc44a7e94c0      2033  ...         2033\n",
              "4a3ca9315b744ce9f8e9374361493884      1987  ...         1987\n",
              "1f50f920176fa81dab994f9023523100      1931  ...         1931\n",
              "cc419e0650a3c5ba77189a1882b7556a      1775  ...         1775\n",
              "da8622b14eb17ae2831f4ac5b9dab84a      1551  ...         1551\n",
              "\n",
              "[5 rows x 7 columns]"
            ]
          },
          "metadata": {
            "tags": []
          },
          "execution_count": 79
        }
      ]
    },
    {
      "cell_type": "code",
      "metadata": {
        "id": "shvOxcy3gNqk",
        "colab": {
          "base_uri": "https://localhost:8080/"
        },
        "outputId": "3ff2a6d9-2776-40ad-8250-d52bfef126e9"
      },
      "source": [
        "# Transações\n",
        "df_compra_itens.seller_id.value_counts().head(5)"
      ],
      "execution_count": null,
      "outputs": [
        {
          "output_type": "execute_result",
          "data": {
            "text/plain": [
              "6560211a19b47992c3666cc44a7e94c0    2033\n",
              "4a3ca9315b744ce9f8e9374361493884    1987\n",
              "1f50f920176fa81dab994f9023523100    1931\n",
              "cc419e0650a3c5ba77189a1882b7556a    1775\n",
              "da8622b14eb17ae2831f4ac5b9dab84a    1551\n",
              "Name: seller_id, dtype: int64"
            ]
          },
          "metadata": {
            "tags": []
          },
          "execution_count": 80
        }
      ]
    },
    {
      "cell_type": "code",
      "metadata": {
        "id": "Rjrg9qhFfhLV",
        "colab": {
          "base_uri": "https://localhost:8080/"
        },
        "outputId": "d2e55923-4af7-4e1d-8a6c-1aa47905b60c"
      },
      "source": [
        "# Quem vendeu mais produtos\n",
        "df_compra_itens.groupby( by=['seller_id'] ).apply( sum ).sort_values(by=['order_item_id'], ascending=False).head(5)['order_item_id']"
      ],
      "execution_count": null,
      "outputs": [
        {
          "output_type": "execute_result",
          "data": {
            "text/plain": [
              "seller_id\n",
              "1f50f920176fa81dab994f9023523100    2898\n",
              "1025f0e2d44d7041d6cf58b6550e0bfa    2290\n",
              "4a3ca9315b744ce9f8e9374361493884    2269\n",
              "6560211a19b47992c3666cc44a7e94c0    2261\n",
              "7c67e1448b00f6e969d365cea6b010ab    2172\n",
              "Name: order_item_id, dtype: int64"
            ]
          },
          "metadata": {
            "tags": []
          },
          "execution_count": 81
        }
      ]
    },
    {
      "cell_type": "markdown",
      "metadata": {
        "id": "qSxWob8AzyNx"
      },
      "source": [
        "# Relacionamento entre tabelas"
      ]
    },
    {
      "cell_type": "markdown",
      "metadata": {
        "id": "kEx5whK5z2GI"
      },
      "source": [
        "Perguntas:\n",
        "- Top 5 categorias mais vendidas?\n",
        "- Quanto cada categoria participa no faturamento total (%)?\n",
        "- Existe relação entre o peso e o frete?\n"
      ]
    },
    {
      "cell_type": "markdown",
      "metadata": {
        "id": "eICuloXp1Qyy"
      },
      "source": [
        "## Top 5 categorias mais vendidas (unidades vendidas)?"
      ]
    },
    {
      "cell_type": "code",
      "metadata": {
        "id": "ZiTRsRhRfqvt",
        "colab": {
          "base_uri": "https://localhost:8080/",
          "height": 155
        },
        "outputId": "9e5d86c7-167d-4d75-d00b-05accfe89257"
      },
      "source": [
        "df_produtos.head(3)"
      ],
      "execution_count": null,
      "outputs": [
        {
          "output_type": "execute_result",
          "data": {
            "text/html": [
              "<div>\n",
              "<style scoped>\n",
              "    .dataframe tbody tr th:only-of-type {\n",
              "        vertical-align: middle;\n",
              "    }\n",
              "\n",
              "    .dataframe tbody tr th {\n",
              "        vertical-align: top;\n",
              "    }\n",
              "\n",
              "    .dataframe thead th {\n",
              "        text-align: right;\n",
              "    }\n",
              "</style>\n",
              "<table border=\"1\" class=\"dataframe\">\n",
              "  <thead>\n",
              "    <tr style=\"text-align: right;\">\n",
              "      <th></th>\n",
              "      <th>product_id</th>\n",
              "      <th>product_category_name</th>\n",
              "      <th>product_name_lenght</th>\n",
              "      <th>product_description_lenght</th>\n",
              "      <th>product_photos_qty</th>\n",
              "      <th>product_weight_g</th>\n",
              "      <th>product_length_cm</th>\n",
              "      <th>product_height_cm</th>\n",
              "      <th>product_width_cm</th>\n",
              "    </tr>\n",
              "  </thead>\n",
              "  <tbody>\n",
              "    <tr>\n",
              "      <th>0</th>\n",
              "      <td>1e9e8ef04dbcff4541ed26657ea517e5</td>\n",
              "      <td>perfumaria</td>\n",
              "      <td>40.0</td>\n",
              "      <td>287.0</td>\n",
              "      <td>1.0</td>\n",
              "      <td>225.0</td>\n",
              "      <td>16.0</td>\n",
              "      <td>10.0</td>\n",
              "      <td>14.0</td>\n",
              "    </tr>\n",
              "    <tr>\n",
              "      <th>1</th>\n",
              "      <td>3aa071139cb16b67ca9e5dea641aaa2f</td>\n",
              "      <td>artes</td>\n",
              "      <td>44.0</td>\n",
              "      <td>276.0</td>\n",
              "      <td>1.0</td>\n",
              "      <td>1000.0</td>\n",
              "      <td>30.0</td>\n",
              "      <td>18.0</td>\n",
              "      <td>20.0</td>\n",
              "    </tr>\n",
              "    <tr>\n",
              "      <th>2</th>\n",
              "      <td>96bd76ec8810374ed1b65e291975717f</td>\n",
              "      <td>esporte_lazer</td>\n",
              "      <td>46.0</td>\n",
              "      <td>250.0</td>\n",
              "      <td>1.0</td>\n",
              "      <td>154.0</td>\n",
              "      <td>18.0</td>\n",
              "      <td>9.0</td>\n",
              "      <td>15.0</td>\n",
              "    </tr>\n",
              "  </tbody>\n",
              "</table>\n",
              "</div>"
            ],
            "text/plain": [
              "                         product_id  ... product_width_cm\n",
              "0  1e9e8ef04dbcff4541ed26657ea517e5  ...             14.0\n",
              "1  3aa071139cb16b67ca9e5dea641aaa2f  ...             20.0\n",
              "2  96bd76ec8810374ed1b65e291975717f  ...             15.0\n",
              "\n",
              "[3 rows x 9 columns]"
            ]
          },
          "metadata": {
            "tags": []
          },
          "execution_count": 82
        }
      ]
    },
    {
      "cell_type": "code",
      "metadata": {
        "id": "3x506rR61n33",
        "colab": {
          "base_uri": "https://localhost:8080/",
          "height": 155
        },
        "outputId": "6f3a64c9-0e24-4597-b551-5bf062f20638"
      },
      "source": [
        "df_compra_itens.head(3)"
      ],
      "execution_count": null,
      "outputs": [
        {
          "output_type": "execute_result",
          "data": {
            "text/html": [
              "<div>\n",
              "<style scoped>\n",
              "    .dataframe tbody tr th:only-of-type {\n",
              "        vertical-align: middle;\n",
              "    }\n",
              "\n",
              "    .dataframe tbody tr th {\n",
              "        vertical-align: top;\n",
              "    }\n",
              "\n",
              "    .dataframe thead th {\n",
              "        text-align: right;\n",
              "    }\n",
              "</style>\n",
              "<table border=\"1\" class=\"dataframe\">\n",
              "  <thead>\n",
              "    <tr style=\"text-align: right;\">\n",
              "      <th></th>\n",
              "      <th>order_id</th>\n",
              "      <th>order_item_id</th>\n",
              "      <th>product_id</th>\n",
              "      <th>seller_id</th>\n",
              "      <th>shipping_limit_date</th>\n",
              "      <th>price</th>\n",
              "      <th>freight_value</th>\n",
              "      <th>valor_final</th>\n",
              "    </tr>\n",
              "  </thead>\n",
              "  <tbody>\n",
              "    <tr>\n",
              "      <th>0</th>\n",
              "      <td>00010242fe8c5a6d1ba2dd792cb16214</td>\n",
              "      <td>1</td>\n",
              "      <td>4244733e06e7ecb4970a6e2683c13e61</td>\n",
              "      <td>48436dade18ac8b2bce089ec2a041202</td>\n",
              "      <td>2017-09-19 09:45:35</td>\n",
              "      <td>58.9</td>\n",
              "      <td>13.29</td>\n",
              "      <td>58.9</td>\n",
              "    </tr>\n",
              "    <tr>\n",
              "      <th>1</th>\n",
              "      <td>00018f77f2f0320c557190d7a144bdd3</td>\n",
              "      <td>1</td>\n",
              "      <td>e5f2d52b802189ee658865ca93d83a8f</td>\n",
              "      <td>dd7ddc04e1b6c2c614352b383efe2d36</td>\n",
              "      <td>2017-05-03 11:05:13</td>\n",
              "      <td>239.9</td>\n",
              "      <td>19.93</td>\n",
              "      <td>239.9</td>\n",
              "    </tr>\n",
              "    <tr>\n",
              "      <th>2</th>\n",
              "      <td>000229ec398224ef6ca0657da4fc703e</td>\n",
              "      <td>1</td>\n",
              "      <td>c777355d18b72b67abbeef9df44fd0fd</td>\n",
              "      <td>5b51032eddd242adc84c38acab88f23d</td>\n",
              "      <td>2018-01-18 14:48:30</td>\n",
              "      <td>199.0</td>\n",
              "      <td>17.87</td>\n",
              "      <td>199.0</td>\n",
              "    </tr>\n",
              "  </tbody>\n",
              "</table>\n",
              "</div>"
            ],
            "text/plain": [
              "                           order_id  order_item_id  ... freight_value valor_final\n",
              "0  00010242fe8c5a6d1ba2dd792cb16214              1  ...         13.29        58.9\n",
              "1  00018f77f2f0320c557190d7a144bdd3              1  ...         19.93       239.9\n",
              "2  000229ec398224ef6ca0657da4fc703e              1  ...         17.87       199.0\n",
              "\n",
              "[3 rows x 8 columns]"
            ]
          },
          "metadata": {
            "tags": []
          },
          "execution_count": 83
        }
      ]
    },
    {
      "cell_type": "code",
      "metadata": {
        "id": "4LLDFF2O1nyp",
        "colab": {
          "base_uri": "https://localhost:8080/",
          "height": 135
        },
        "outputId": "7ba9d676-9618-4873-e49e-ee389366e458"
      },
      "source": [
        "df_left = df_compra_itens[['order_item_id', 'product_id']]\n",
        "df_left.head(3)"
      ],
      "execution_count": null,
      "outputs": [
        {
          "output_type": "execute_result",
          "data": {
            "text/html": [
              "<div>\n",
              "<style scoped>\n",
              "    .dataframe tbody tr th:only-of-type {\n",
              "        vertical-align: middle;\n",
              "    }\n",
              "\n",
              "    .dataframe tbody tr th {\n",
              "        vertical-align: top;\n",
              "    }\n",
              "\n",
              "    .dataframe thead th {\n",
              "        text-align: right;\n",
              "    }\n",
              "</style>\n",
              "<table border=\"1\" class=\"dataframe\">\n",
              "  <thead>\n",
              "    <tr style=\"text-align: right;\">\n",
              "      <th></th>\n",
              "      <th>order_item_id</th>\n",
              "      <th>product_id</th>\n",
              "    </tr>\n",
              "  </thead>\n",
              "  <tbody>\n",
              "    <tr>\n",
              "      <th>0</th>\n",
              "      <td>1</td>\n",
              "      <td>4244733e06e7ecb4970a6e2683c13e61</td>\n",
              "    </tr>\n",
              "    <tr>\n",
              "      <th>1</th>\n",
              "      <td>1</td>\n",
              "      <td>e5f2d52b802189ee658865ca93d83a8f</td>\n",
              "    </tr>\n",
              "    <tr>\n",
              "      <th>2</th>\n",
              "      <td>1</td>\n",
              "      <td>c777355d18b72b67abbeef9df44fd0fd</td>\n",
              "    </tr>\n",
              "  </tbody>\n",
              "</table>\n",
              "</div>"
            ],
            "text/plain": [
              "   order_item_id                        product_id\n",
              "0              1  4244733e06e7ecb4970a6e2683c13e61\n",
              "1              1  e5f2d52b802189ee658865ca93d83a8f\n",
              "2              1  c777355d18b72b67abbeef9df44fd0fd"
            ]
          },
          "metadata": {
            "tags": []
          },
          "execution_count": 84
        }
      ]
    },
    {
      "cell_type": "code",
      "metadata": {
        "id": "pV2841pg1nsy",
        "colab": {
          "base_uri": "https://localhost:8080/",
          "height": 135
        },
        "outputId": "1d60a72f-3bac-472d-be0a-f828e949f962"
      },
      "source": [
        "df_right = df_produtos[['product_id', 'product_category_name']]\n",
        "df_right.head(3)"
      ],
      "execution_count": null,
      "outputs": [
        {
          "output_type": "execute_result",
          "data": {
            "text/html": [
              "<div>\n",
              "<style scoped>\n",
              "    .dataframe tbody tr th:only-of-type {\n",
              "        vertical-align: middle;\n",
              "    }\n",
              "\n",
              "    .dataframe tbody tr th {\n",
              "        vertical-align: top;\n",
              "    }\n",
              "\n",
              "    .dataframe thead th {\n",
              "        text-align: right;\n",
              "    }\n",
              "</style>\n",
              "<table border=\"1\" class=\"dataframe\">\n",
              "  <thead>\n",
              "    <tr style=\"text-align: right;\">\n",
              "      <th></th>\n",
              "      <th>product_id</th>\n",
              "      <th>product_category_name</th>\n",
              "    </tr>\n",
              "  </thead>\n",
              "  <tbody>\n",
              "    <tr>\n",
              "      <th>0</th>\n",
              "      <td>1e9e8ef04dbcff4541ed26657ea517e5</td>\n",
              "      <td>perfumaria</td>\n",
              "    </tr>\n",
              "    <tr>\n",
              "      <th>1</th>\n",
              "      <td>3aa071139cb16b67ca9e5dea641aaa2f</td>\n",
              "      <td>artes</td>\n",
              "    </tr>\n",
              "    <tr>\n",
              "      <th>2</th>\n",
              "      <td>96bd76ec8810374ed1b65e291975717f</td>\n",
              "      <td>esporte_lazer</td>\n",
              "    </tr>\n",
              "  </tbody>\n",
              "</table>\n",
              "</div>"
            ],
            "text/plain": [
              "                         product_id product_category_name\n",
              "0  1e9e8ef04dbcff4541ed26657ea517e5            perfumaria\n",
              "1  3aa071139cb16b67ca9e5dea641aaa2f                 artes\n",
              "2  96bd76ec8810374ed1b65e291975717f         esporte_lazer"
            ]
          },
          "metadata": {
            "tags": []
          },
          "execution_count": 85
        }
      ]
    },
    {
      "cell_type": "code",
      "metadata": {
        "id": "KA6ga8JK1nqD",
        "colab": {
          "base_uri": "https://localhost:8080/",
          "height": 194
        },
        "outputId": "6884bb78-923f-4874-d7c0-38c8004f41bc"
      },
      "source": [
        "df_categorias_vendas = pd.merge(df_left, df_right, how='left', on='product_id')\n",
        "df_categorias_vendas.head()"
      ],
      "execution_count": null,
      "outputs": [
        {
          "output_type": "execute_result",
          "data": {
            "text/html": [
              "<div>\n",
              "<style scoped>\n",
              "    .dataframe tbody tr th:only-of-type {\n",
              "        vertical-align: middle;\n",
              "    }\n",
              "\n",
              "    .dataframe tbody tr th {\n",
              "        vertical-align: top;\n",
              "    }\n",
              "\n",
              "    .dataframe thead th {\n",
              "        text-align: right;\n",
              "    }\n",
              "</style>\n",
              "<table border=\"1\" class=\"dataframe\">\n",
              "  <thead>\n",
              "    <tr style=\"text-align: right;\">\n",
              "      <th></th>\n",
              "      <th>order_item_id</th>\n",
              "      <th>product_id</th>\n",
              "      <th>product_category_name</th>\n",
              "    </tr>\n",
              "  </thead>\n",
              "  <tbody>\n",
              "    <tr>\n",
              "      <th>0</th>\n",
              "      <td>1</td>\n",
              "      <td>4244733e06e7ecb4970a6e2683c13e61</td>\n",
              "      <td>cool_stuff</td>\n",
              "    </tr>\n",
              "    <tr>\n",
              "      <th>1</th>\n",
              "      <td>1</td>\n",
              "      <td>e5f2d52b802189ee658865ca93d83a8f</td>\n",
              "      <td>pet_shop</td>\n",
              "    </tr>\n",
              "    <tr>\n",
              "      <th>2</th>\n",
              "      <td>1</td>\n",
              "      <td>c777355d18b72b67abbeef9df44fd0fd</td>\n",
              "      <td>moveis_decoracao</td>\n",
              "    </tr>\n",
              "    <tr>\n",
              "      <th>3</th>\n",
              "      <td>1</td>\n",
              "      <td>7634da152a4610f1595efa32f14722fc</td>\n",
              "      <td>perfumaria</td>\n",
              "    </tr>\n",
              "    <tr>\n",
              "      <th>4</th>\n",
              "      <td>1</td>\n",
              "      <td>ac6c3623068f30de03045865e4e10089</td>\n",
              "      <td>ferramentas_jardim</td>\n",
              "    </tr>\n",
              "  </tbody>\n",
              "</table>\n",
              "</div>"
            ],
            "text/plain": [
              "   order_item_id                        product_id product_category_name\n",
              "0              1  4244733e06e7ecb4970a6e2683c13e61            cool_stuff\n",
              "1              1  e5f2d52b802189ee658865ca93d83a8f              pet_shop\n",
              "2              1  c777355d18b72b67abbeef9df44fd0fd      moveis_decoracao\n",
              "3              1  7634da152a4610f1595efa32f14722fc            perfumaria\n",
              "4              1  ac6c3623068f30de03045865e4e10089    ferramentas_jardim"
            ]
          },
          "metadata": {
            "tags": []
          },
          "execution_count": 86
        }
      ]
    },
    {
      "cell_type": "code",
      "metadata": {
        "id": "Yd_OQ4064xGn",
        "colab": {
          "base_uri": "https://localhost:8080/",
          "height": 428
        },
        "outputId": "58bcf3fa-f3b2-4f4b-a18f-3f5038569734"
      },
      "source": [
        "df_cat_total = df_categorias_vendas[['order_item_id', 'product_category_name']].groupby(by='product_category_name').sum()\n",
        "df_cat_total"
      ],
      "execution_count": null,
      "outputs": [
        {
          "output_type": "execute_result",
          "data": {
            "text/html": [
              "<div>\n",
              "<style scoped>\n",
              "    .dataframe tbody tr th:only-of-type {\n",
              "        vertical-align: middle;\n",
              "    }\n",
              "\n",
              "    .dataframe tbody tr th {\n",
              "        vertical-align: top;\n",
              "    }\n",
              "\n",
              "    .dataframe thead th {\n",
              "        text-align: right;\n",
              "    }\n",
              "</style>\n",
              "<table border=\"1\" class=\"dataframe\">\n",
              "  <thead>\n",
              "    <tr style=\"text-align: right;\">\n",
              "      <th></th>\n",
              "      <th>order_item_id</th>\n",
              "    </tr>\n",
              "    <tr>\n",
              "      <th>product_category_name</th>\n",
              "      <th></th>\n",
              "    </tr>\n",
              "  </thead>\n",
              "  <tbody>\n",
              "    <tr>\n",
              "      <th>agro_industria_e_comercio</th>\n",
              "      <td>265</td>\n",
              "    </tr>\n",
              "    <tr>\n",
              "      <th>alimentos</th>\n",
              "      <td>609</td>\n",
              "    </tr>\n",
              "    <tr>\n",
              "      <th>alimentos_bebidas</th>\n",
              "      <td>365</td>\n",
              "    </tr>\n",
              "    <tr>\n",
              "      <th>artes</th>\n",
              "      <td>230</td>\n",
              "    </tr>\n",
              "    <tr>\n",
              "      <th>artes_e_artesanato</th>\n",
              "      <td>26</td>\n",
              "    </tr>\n",
              "    <tr>\n",
              "      <th>...</th>\n",
              "      <td>...</td>\n",
              "    </tr>\n",
              "    <tr>\n",
              "      <th>sinalizacao_e_seguranca</th>\n",
              "      <td>307</td>\n",
              "    </tr>\n",
              "    <tr>\n",
              "      <th>tablets_impressao_imagem</th>\n",
              "      <td>89</td>\n",
              "    </tr>\n",
              "    <tr>\n",
              "      <th>telefonia</th>\n",
              "      <td>5161</td>\n",
              "    </tr>\n",
              "    <tr>\n",
              "      <th>telefonia_fixa</th>\n",
              "      <td>366</td>\n",
              "    </tr>\n",
              "    <tr>\n",
              "      <th>utilidades_domesticas</th>\n",
              "      <td>9051</td>\n",
              "    </tr>\n",
              "  </tbody>\n",
              "</table>\n",
              "<p>74 rows × 1 columns</p>\n",
              "</div>"
            ],
            "text/plain": [
              "                           order_item_id\n",
              "product_category_name                   \n",
              "agro_industria_e_comercio            265\n",
              "alimentos                            609\n",
              "alimentos_bebidas                    365\n",
              "artes                                230\n",
              "artes_e_artesanato                    26\n",
              "...                                  ...\n",
              "sinalizacao_e_seguranca              307\n",
              "tablets_impressao_imagem              89\n",
              "telefonia                           5161\n",
              "telefonia_fixa                       366\n",
              "utilidades_domesticas               9051\n",
              "\n",
              "[74 rows x 1 columns]"
            ]
          },
          "metadata": {
            "tags": []
          },
          "execution_count": 87
        }
      ]
    },
    {
      "cell_type": "code",
      "metadata": {
        "id": "EHXCywez4xEw",
        "colab": {
          "base_uri": "https://localhost:8080/",
          "height": 223
        },
        "outputId": "576a999a-25b9-4a18-9fea-7fc6e0d17ad8"
      },
      "source": [
        "df_cat_total.sort_values(by='order_item_id', ascending=False).head(5)"
      ],
      "execution_count": null,
      "outputs": [
        {
          "output_type": "execute_result",
          "data": {
            "text/html": [
              "<div>\n",
              "<style scoped>\n",
              "    .dataframe tbody tr th:only-of-type {\n",
              "        vertical-align: middle;\n",
              "    }\n",
              "\n",
              "    .dataframe tbody tr th {\n",
              "        vertical-align: top;\n",
              "    }\n",
              "\n",
              "    .dataframe thead th {\n",
              "        text-align: right;\n",
              "    }\n",
              "</style>\n",
              "<table border=\"1\" class=\"dataframe\">\n",
              "  <thead>\n",
              "    <tr style=\"text-align: right;\">\n",
              "      <th></th>\n",
              "      <th>order_item_id</th>\n",
              "    </tr>\n",
              "    <tr>\n",
              "      <th>product_category_name</th>\n",
              "      <th></th>\n",
              "    </tr>\n",
              "  </thead>\n",
              "  <tbody>\n",
              "    <tr>\n",
              "      <th>cama_mesa_banho</th>\n",
              "      <td>13665</td>\n",
              "    </tr>\n",
              "    <tr>\n",
              "      <th>moveis_decoracao</th>\n",
              "      <td>11540</td>\n",
              "    </tr>\n",
              "    <tr>\n",
              "      <th>beleza_saude</th>\n",
              "      <td>11081</td>\n",
              "    </tr>\n",
              "    <tr>\n",
              "      <th>esporte_lazer</th>\n",
              "      <td>9932</td>\n",
              "    </tr>\n",
              "    <tr>\n",
              "      <th>informatica_acessorios</th>\n",
              "      <td>9874</td>\n",
              "    </tr>\n",
              "  </tbody>\n",
              "</table>\n",
              "</div>"
            ],
            "text/plain": [
              "                        order_item_id\n",
              "product_category_name                \n",
              "cama_mesa_banho                 13665\n",
              "moveis_decoracao                11540\n",
              "beleza_saude                    11081\n",
              "esporte_lazer                    9932\n",
              "informatica_acessorios           9874"
            ]
          },
          "metadata": {
            "tags": []
          },
          "execution_count": 88
        }
      ]
    },
    {
      "cell_type": "code",
      "metadata": {
        "id": "zoiprWik4xBz",
        "colab": {
          "base_uri": "https://localhost:8080/",
          "height": 542
        },
        "outputId": "138dd9a7-082d-4bed-8c29-9528d87c1afb"
      },
      "source": [
        "df_plot = df_cat_total.sort_values(by='order_item_id', ascending=False).head(5)\n",
        "fig = px.bar(df_plot, y='order_item_id', title='Categorias mais vendidas', labels={'order_item_id': 'Qtd. Vendidas', 'index':'Categoria'})\n",
        "gitly.show( fig )"
      ],
      "execution_count": null,
      "outputs": [
        {
          "output_type": "display_data",
          "data": {
            "text/html": [
              "<html>\n",
              "<head><meta charset=\"utf-8\" /></head>\n",
              "<body>\n",
              "    <div>            <script src=\"https://cdnjs.cloudflare.com/ajax/libs/mathjax/2.7.5/MathJax.js?config=TeX-AMS-MML_SVG\"></script><script type=\"text/javascript\">if (window.MathJax) {MathJax.Hub.Config({SVG: {font: \"STIX-Web\"}});}</script>                <script type=\"text/javascript\">window.PlotlyConfig = {MathJaxConfig: 'local'};</script>\n",
              "        <script src=\"https://cdn.plot.ly/plotly-latest.min.js\"></script>                <div id=\"ec75ff9a-ba27-4d9e-86cc-dd003ffc1d7c\" class=\"plotly-graph-div\" style=\"height:525px; width:100%;\"></div>            <script type=\"text/javascript\">                                    window.PLOTLYENV=window.PLOTLYENV || {};                                    if (document.getElementById(\"ec75ff9a-ba27-4d9e-86cc-dd003ffc1d7c\")) {                    Plotly.newPlot(                        \"ec75ff9a-ba27-4d9e-86cc-dd003ffc1d7c\",                        [{\"alignmentgroup\": \"True\", \"hovertemplate\": \"product_category_name=%{x}<br>Qtd. Vendidas=%{y}<extra></extra>\", \"legendgroup\": \"\", \"marker\": {\"color\": \"#636efa\"}, \"name\": \"\", \"offsetgroup\": \"\", \"orientation\": \"v\", \"showlegend\": false, \"textposition\": \"auto\", \"type\": \"bar\", \"x\": [\"cama_mesa_banho\", \"moveis_decoracao\", \"beleza_saude\", \"esporte_lazer\", \"informatica_acessorios\"], \"xaxis\": \"x\", \"y\": [13665, 11540, 11081, 9932, 9874], \"yaxis\": \"y\"}],                        {\"barmode\": \"relative\", \"legend\": {\"tracegroupgap\": 0}, \"template\": {\"data\": {\"bar\": [{\"error_x\": {\"color\": \"#2a3f5f\"}, \"error_y\": {\"color\": \"#2a3f5f\"}, \"marker\": {\"line\": {\"color\": \"#E5ECF6\", \"width\": 0.5}}, \"type\": \"bar\"}], \"barpolar\": [{\"marker\": {\"line\": {\"color\": \"#E5ECF6\", \"width\": 0.5}}, \"type\": \"barpolar\"}], \"carpet\": [{\"aaxis\": {\"endlinecolor\": \"#2a3f5f\", \"gridcolor\": \"white\", \"linecolor\": \"white\", \"minorgridcolor\": \"white\", \"startlinecolor\": \"#2a3f5f\"}, \"baxis\": {\"endlinecolor\": \"#2a3f5f\", \"gridcolor\": \"white\", \"linecolor\": \"white\", \"minorgridcolor\": \"white\", \"startlinecolor\": \"#2a3f5f\"}, \"type\": \"carpet\"}], \"choropleth\": [{\"colorbar\": {\"outlinewidth\": 0, \"ticks\": \"\"}, \"type\": \"choropleth\"}], \"contour\": [{\"colorbar\": {\"outlinewidth\": 0, \"ticks\": \"\"}, \"colorscale\": [[0.0, \"#0d0887\"], [0.1111111111111111, \"#46039f\"], [0.2222222222222222, \"#7201a8\"], [0.3333333333333333, \"#9c179e\"], [0.4444444444444444, \"#bd3786\"], [0.5555555555555556, \"#d8576b\"], [0.6666666666666666, \"#ed7953\"], [0.7777777777777778, \"#fb9f3a\"], [0.8888888888888888, \"#fdca26\"], [1.0, \"#f0f921\"]], \"type\": \"contour\"}], \"contourcarpet\": [{\"colorbar\": {\"outlinewidth\": 0, \"ticks\": \"\"}, \"type\": \"contourcarpet\"}], \"heatmap\": [{\"colorbar\": {\"outlinewidth\": 0, \"ticks\": \"\"}, \"colorscale\": [[0.0, \"#0d0887\"], [0.1111111111111111, \"#46039f\"], [0.2222222222222222, \"#7201a8\"], [0.3333333333333333, \"#9c179e\"], [0.4444444444444444, \"#bd3786\"], [0.5555555555555556, \"#d8576b\"], [0.6666666666666666, \"#ed7953\"], [0.7777777777777778, \"#fb9f3a\"], [0.8888888888888888, \"#fdca26\"], [1.0, \"#f0f921\"]], \"type\": \"heatmap\"}], \"heatmapgl\": [{\"colorbar\": {\"outlinewidth\": 0, \"ticks\": \"\"}, \"colorscale\": [[0.0, \"#0d0887\"], [0.1111111111111111, \"#46039f\"], [0.2222222222222222, \"#7201a8\"], [0.3333333333333333, \"#9c179e\"], [0.4444444444444444, \"#bd3786\"], [0.5555555555555556, \"#d8576b\"], [0.6666666666666666, \"#ed7953\"], [0.7777777777777778, \"#fb9f3a\"], [0.8888888888888888, \"#fdca26\"], [1.0, \"#f0f921\"]], \"type\": \"heatmapgl\"}], \"histogram\": [{\"marker\": {\"colorbar\": {\"outlinewidth\": 0, \"ticks\": \"\"}}, \"type\": \"histogram\"}], \"histogram2d\": [{\"colorbar\": {\"outlinewidth\": 0, \"ticks\": \"\"}, \"colorscale\": [[0.0, \"#0d0887\"], [0.1111111111111111, \"#46039f\"], [0.2222222222222222, \"#7201a8\"], [0.3333333333333333, \"#9c179e\"], [0.4444444444444444, \"#bd3786\"], [0.5555555555555556, \"#d8576b\"], [0.6666666666666666, \"#ed7953\"], [0.7777777777777778, \"#fb9f3a\"], [0.8888888888888888, \"#fdca26\"], [1.0, \"#f0f921\"]], \"type\": \"histogram2d\"}], \"histogram2dcontour\": [{\"colorbar\": {\"outlinewidth\": 0, \"ticks\": \"\"}, \"colorscale\": [[0.0, \"#0d0887\"], [0.1111111111111111, \"#46039f\"], [0.2222222222222222, \"#7201a8\"], [0.3333333333333333, \"#9c179e\"], [0.4444444444444444, \"#bd3786\"], [0.5555555555555556, \"#d8576b\"], [0.6666666666666666, \"#ed7953\"], [0.7777777777777778, \"#fb9f3a\"], [0.8888888888888888, \"#fdca26\"], [1.0, \"#f0f921\"]], \"type\": \"histogram2dcontour\"}], \"mesh3d\": [{\"colorbar\": {\"outlinewidth\": 0, \"ticks\": \"\"}, \"type\": \"mesh3d\"}], \"parcoords\": [{\"line\": {\"colorbar\": {\"outlinewidth\": 0, \"ticks\": \"\"}}, \"type\": \"parcoords\"}], \"pie\": [{\"automargin\": true, \"type\": \"pie\"}], \"scatter\": [{\"marker\": {\"colorbar\": {\"outlinewidth\": 0, \"ticks\": \"\"}}, \"type\": \"scatter\"}], \"scatter3d\": [{\"line\": {\"colorbar\": {\"outlinewidth\": 0, \"ticks\": \"\"}}, \"marker\": {\"colorbar\": {\"outlinewidth\": 0, \"ticks\": \"\"}}, \"type\": \"scatter3d\"}], \"scattercarpet\": [{\"marker\": {\"colorbar\": {\"outlinewidth\": 0, \"ticks\": \"\"}}, \"type\": \"scattercarpet\"}], \"scattergeo\": [{\"marker\": {\"colorbar\": {\"outlinewidth\": 0, \"ticks\": \"\"}}, \"type\": \"scattergeo\"}], \"scattergl\": [{\"marker\": {\"colorbar\": {\"outlinewidth\": 0, \"ticks\": \"\"}}, \"type\": \"scattergl\"}], \"scattermapbox\": [{\"marker\": {\"colorbar\": {\"outlinewidth\": 0, \"ticks\": \"\"}}, \"type\": \"scattermapbox\"}], \"scatterpolar\": [{\"marker\": {\"colorbar\": {\"outlinewidth\": 0, \"ticks\": \"\"}}, \"type\": \"scatterpolar\"}], \"scatterpolargl\": [{\"marker\": {\"colorbar\": {\"outlinewidth\": 0, \"ticks\": \"\"}}, \"type\": \"scatterpolargl\"}], \"scatterternary\": [{\"marker\": {\"colorbar\": {\"outlinewidth\": 0, \"ticks\": \"\"}}, \"type\": \"scatterternary\"}], \"surface\": [{\"colorbar\": {\"outlinewidth\": 0, \"ticks\": \"\"}, \"colorscale\": [[0.0, \"#0d0887\"], [0.1111111111111111, \"#46039f\"], [0.2222222222222222, \"#7201a8\"], [0.3333333333333333, \"#9c179e\"], [0.4444444444444444, \"#bd3786\"], [0.5555555555555556, \"#d8576b\"], [0.6666666666666666, \"#ed7953\"], [0.7777777777777778, \"#fb9f3a\"], [0.8888888888888888, \"#fdca26\"], [1.0, \"#f0f921\"]], \"type\": \"surface\"}], \"table\": [{\"cells\": {\"fill\": {\"color\": \"#EBF0F8\"}, \"line\": {\"color\": \"white\"}}, \"header\": {\"fill\": {\"color\": \"#C8D4E3\"}, \"line\": {\"color\": \"white\"}}, \"type\": \"table\"}]}, \"layout\": {\"annotationdefaults\": {\"arrowcolor\": \"#2a3f5f\", \"arrowhead\": 0, \"arrowwidth\": 1}, \"autotypenumbers\": \"strict\", \"coloraxis\": {\"colorbar\": {\"outlinewidth\": 0, \"ticks\": \"\"}}, \"colorscale\": {\"diverging\": [[0, \"#8e0152\"], [0.1, \"#c51b7d\"], [0.2, \"#de77ae\"], [0.3, \"#f1b6da\"], [0.4, \"#fde0ef\"], [0.5, \"#f7f7f7\"], [0.6, \"#e6f5d0\"], [0.7, \"#b8e186\"], [0.8, \"#7fbc41\"], [0.9, \"#4d9221\"], [1, \"#276419\"]], \"sequential\": [[0.0, \"#0d0887\"], [0.1111111111111111, \"#46039f\"], [0.2222222222222222, \"#7201a8\"], [0.3333333333333333, \"#9c179e\"], [0.4444444444444444, \"#bd3786\"], [0.5555555555555556, \"#d8576b\"], [0.6666666666666666, \"#ed7953\"], [0.7777777777777778, \"#fb9f3a\"], [0.8888888888888888, \"#fdca26\"], [1.0, \"#f0f921\"]], \"sequentialminus\": [[0.0, \"#0d0887\"], [0.1111111111111111, \"#46039f\"], [0.2222222222222222, \"#7201a8\"], [0.3333333333333333, \"#9c179e\"], [0.4444444444444444, \"#bd3786\"], [0.5555555555555556, \"#d8576b\"], [0.6666666666666666, \"#ed7953\"], [0.7777777777777778, \"#fb9f3a\"], [0.8888888888888888, \"#fdca26\"], [1.0, \"#f0f921\"]]}, \"colorway\": [\"#636efa\", \"#EF553B\", \"#00cc96\", \"#ab63fa\", \"#FFA15A\", \"#19d3f3\", \"#FF6692\", \"#B6E880\", \"#FF97FF\", \"#FECB52\"], \"font\": {\"color\": \"#2a3f5f\"}, \"geo\": {\"bgcolor\": \"white\", \"lakecolor\": \"white\", \"landcolor\": \"#E5ECF6\", \"showlakes\": true, \"showland\": true, \"subunitcolor\": \"white\"}, \"hoverlabel\": {\"align\": \"left\"}, \"hovermode\": \"closest\", \"mapbox\": {\"style\": \"light\"}, \"paper_bgcolor\": \"white\", \"plot_bgcolor\": \"#E5ECF6\", \"polar\": {\"angularaxis\": {\"gridcolor\": \"white\", \"linecolor\": \"white\", \"ticks\": \"\"}, \"bgcolor\": \"#E5ECF6\", \"radialaxis\": {\"gridcolor\": \"white\", \"linecolor\": \"white\", \"ticks\": \"\"}}, \"scene\": {\"xaxis\": {\"backgroundcolor\": \"#E5ECF6\", \"gridcolor\": \"white\", \"gridwidth\": 2, \"linecolor\": \"white\", \"showbackground\": true, \"ticks\": \"\", \"zerolinecolor\": \"white\"}, \"yaxis\": {\"backgroundcolor\": \"#E5ECF6\", \"gridcolor\": \"white\", \"gridwidth\": 2, \"linecolor\": \"white\", \"showbackground\": true, \"ticks\": \"\", \"zerolinecolor\": \"white\"}, \"zaxis\": {\"backgroundcolor\": \"#E5ECF6\", \"gridcolor\": \"white\", \"gridwidth\": 2, \"linecolor\": \"white\", \"showbackground\": true, \"ticks\": \"\", \"zerolinecolor\": \"white\"}}, \"shapedefaults\": {\"line\": {\"color\": \"#2a3f5f\"}}, \"ternary\": {\"aaxis\": {\"gridcolor\": \"white\", \"linecolor\": \"white\", \"ticks\": \"\"}, \"baxis\": {\"gridcolor\": \"white\", \"linecolor\": \"white\", \"ticks\": \"\"}, \"bgcolor\": \"#E5ECF6\", \"caxis\": {\"gridcolor\": \"white\", \"linecolor\": \"white\", \"ticks\": \"\"}}, \"title\": {\"x\": 0.05}, \"xaxis\": {\"automargin\": true, \"gridcolor\": \"white\", \"linecolor\": \"white\", \"ticks\": \"\", \"title\": {\"standoff\": 15}, \"zerolinecolor\": \"white\", \"zerolinewidth\": 2}, \"yaxis\": {\"automargin\": true, \"gridcolor\": \"white\", \"linecolor\": \"white\", \"ticks\": \"\", \"title\": {\"standoff\": 15}, \"zerolinecolor\": \"white\", \"zerolinewidth\": 2}}}, \"title\": {\"text\": \"Categorias mais vendidas\"}, \"xaxis\": {\"anchor\": \"y\", \"domain\": [0.0, 1.0], \"title\": {\"text\": \"product_category_name\"}}, \"yaxis\": {\"anchor\": \"x\", \"domain\": [0.0, 1.0], \"title\": {\"text\": \"Qtd. Vendidas\"}}},                        {\"responsive\": true}                    ).then(function(){\n",
              "                            \n",
              "var gd = document.getElementById('ec75ff9a-ba27-4d9e-86cc-dd003ffc1d7c');\n",
              "var x = new MutationObserver(function (mutations, observer) {{\n",
              "        var display = window.getComputedStyle(gd).display;\n",
              "        if (!display || display === 'none') {{\n",
              "            console.log([gd, 'removed!']);\n",
              "            Plotly.purge(gd);\n",
              "            observer.disconnect();\n",
              "        }}\n",
              "}});\n",
              "\n",
              "// Listen for the removal of the full notebook cells\n",
              "var notebookContainer = gd.closest('#notebook-container');\n",
              "if (notebookContainer) {{\n",
              "    x.observe(notebookContainer, {childList: true});\n",
              "}}\n",
              "\n",
              "// Listen for the clearing of the current output cell\n",
              "var outputEl = gd.closest('.output');\n",
              "if (outputEl) {{\n",
              "    x.observe(outputEl, {childList: true});\n",
              "}}\n",
              "\n",
              "                        })                };                            </script>        </div>\n",
              "</body>\n",
              "</html>"
            ]
          },
          "metadata": {
            "tags": []
          }
        }
      ]
    },
    {
      "cell_type": "markdown",
      "metadata": {
        "id": "itBRqHxi7mXN"
      },
      "source": [
        "# Categorias com maior faturamento\n"
      ]
    },
    {
      "cell_type": "code",
      "metadata": {
        "id": "WGysAxcl4w_d",
        "colab": {
          "base_uri": "https://localhost:8080/",
          "height": 135
        },
        "outputId": "fd413ae2-8ea2-436b-b514-17279279a378"
      },
      "source": [
        "df_left = df_compra_itens[['valor_final', 'product_id']]\n",
        "df_left.head(3)"
      ],
      "execution_count": null,
      "outputs": [
        {
          "output_type": "execute_result",
          "data": {
            "text/html": [
              "<div>\n",
              "<style scoped>\n",
              "    .dataframe tbody tr th:only-of-type {\n",
              "        vertical-align: middle;\n",
              "    }\n",
              "\n",
              "    .dataframe tbody tr th {\n",
              "        vertical-align: top;\n",
              "    }\n",
              "\n",
              "    .dataframe thead th {\n",
              "        text-align: right;\n",
              "    }\n",
              "</style>\n",
              "<table border=\"1\" class=\"dataframe\">\n",
              "  <thead>\n",
              "    <tr style=\"text-align: right;\">\n",
              "      <th></th>\n",
              "      <th>valor_final</th>\n",
              "      <th>product_id</th>\n",
              "    </tr>\n",
              "  </thead>\n",
              "  <tbody>\n",
              "    <tr>\n",
              "      <th>0</th>\n",
              "      <td>58.9</td>\n",
              "      <td>4244733e06e7ecb4970a6e2683c13e61</td>\n",
              "    </tr>\n",
              "    <tr>\n",
              "      <th>1</th>\n",
              "      <td>239.9</td>\n",
              "      <td>e5f2d52b802189ee658865ca93d83a8f</td>\n",
              "    </tr>\n",
              "    <tr>\n",
              "      <th>2</th>\n",
              "      <td>199.0</td>\n",
              "      <td>c777355d18b72b67abbeef9df44fd0fd</td>\n",
              "    </tr>\n",
              "  </tbody>\n",
              "</table>\n",
              "</div>"
            ],
            "text/plain": [
              "   valor_final                        product_id\n",
              "0         58.9  4244733e06e7ecb4970a6e2683c13e61\n",
              "1        239.9  e5f2d52b802189ee658865ca93d83a8f\n",
              "2        199.0  c777355d18b72b67abbeef9df44fd0fd"
            ]
          },
          "metadata": {
            "tags": []
          },
          "execution_count": 90
        }
      ]
    },
    {
      "cell_type": "code",
      "metadata": {
        "id": "0dnlCcKt7uXn",
        "colab": {
          "base_uri": "https://localhost:8080/",
          "height": 135
        },
        "outputId": "93d03b28-c6c3-4b61-b068-b3631401d1a3"
      },
      "source": [
        "df_right = df_produtos[['product_id', 'product_category_name']]\n",
        "df_right.head(3)"
      ],
      "execution_count": null,
      "outputs": [
        {
          "output_type": "execute_result",
          "data": {
            "text/html": [
              "<div>\n",
              "<style scoped>\n",
              "    .dataframe tbody tr th:only-of-type {\n",
              "        vertical-align: middle;\n",
              "    }\n",
              "\n",
              "    .dataframe tbody tr th {\n",
              "        vertical-align: top;\n",
              "    }\n",
              "\n",
              "    .dataframe thead th {\n",
              "        text-align: right;\n",
              "    }\n",
              "</style>\n",
              "<table border=\"1\" class=\"dataframe\">\n",
              "  <thead>\n",
              "    <tr style=\"text-align: right;\">\n",
              "      <th></th>\n",
              "      <th>product_id</th>\n",
              "      <th>product_category_name</th>\n",
              "    </tr>\n",
              "  </thead>\n",
              "  <tbody>\n",
              "    <tr>\n",
              "      <th>0</th>\n",
              "      <td>1e9e8ef04dbcff4541ed26657ea517e5</td>\n",
              "      <td>perfumaria</td>\n",
              "    </tr>\n",
              "    <tr>\n",
              "      <th>1</th>\n",
              "      <td>3aa071139cb16b67ca9e5dea641aaa2f</td>\n",
              "      <td>artes</td>\n",
              "    </tr>\n",
              "    <tr>\n",
              "      <th>2</th>\n",
              "      <td>96bd76ec8810374ed1b65e291975717f</td>\n",
              "      <td>esporte_lazer</td>\n",
              "    </tr>\n",
              "  </tbody>\n",
              "</table>\n",
              "</div>"
            ],
            "text/plain": [
              "                         product_id product_category_name\n",
              "0  1e9e8ef04dbcff4541ed26657ea517e5            perfumaria\n",
              "1  3aa071139cb16b67ca9e5dea641aaa2f                 artes\n",
              "2  96bd76ec8810374ed1b65e291975717f         esporte_lazer"
            ]
          },
          "metadata": {
            "tags": []
          },
          "execution_count": 91
        }
      ]
    },
    {
      "cell_type": "code",
      "metadata": {
        "id": "UoOP0bGp7vxs",
        "colab": {
          "base_uri": "https://localhost:8080/",
          "height": 194
        },
        "outputId": "ba36040e-7587-4768-f8da-8fc9f07a68ec"
      },
      "source": [
        "df_categorias_fat = pd.merge(df_left, df_right, how='left', on='product_id')\n",
        "df_categorias_fat.head()"
      ],
      "execution_count": null,
      "outputs": [
        {
          "output_type": "execute_result",
          "data": {
            "text/html": [
              "<div>\n",
              "<style scoped>\n",
              "    .dataframe tbody tr th:only-of-type {\n",
              "        vertical-align: middle;\n",
              "    }\n",
              "\n",
              "    .dataframe tbody tr th {\n",
              "        vertical-align: top;\n",
              "    }\n",
              "\n",
              "    .dataframe thead th {\n",
              "        text-align: right;\n",
              "    }\n",
              "</style>\n",
              "<table border=\"1\" class=\"dataframe\">\n",
              "  <thead>\n",
              "    <tr style=\"text-align: right;\">\n",
              "      <th></th>\n",
              "      <th>valor_final</th>\n",
              "      <th>product_id</th>\n",
              "      <th>product_category_name</th>\n",
              "    </tr>\n",
              "  </thead>\n",
              "  <tbody>\n",
              "    <tr>\n",
              "      <th>0</th>\n",
              "      <td>58.90</td>\n",
              "      <td>4244733e06e7ecb4970a6e2683c13e61</td>\n",
              "      <td>cool_stuff</td>\n",
              "    </tr>\n",
              "    <tr>\n",
              "      <th>1</th>\n",
              "      <td>239.90</td>\n",
              "      <td>e5f2d52b802189ee658865ca93d83a8f</td>\n",
              "      <td>pet_shop</td>\n",
              "    </tr>\n",
              "    <tr>\n",
              "      <th>2</th>\n",
              "      <td>199.00</td>\n",
              "      <td>c777355d18b72b67abbeef9df44fd0fd</td>\n",
              "      <td>moveis_decoracao</td>\n",
              "    </tr>\n",
              "    <tr>\n",
              "      <th>3</th>\n",
              "      <td>12.99</td>\n",
              "      <td>7634da152a4610f1595efa32f14722fc</td>\n",
              "      <td>perfumaria</td>\n",
              "    </tr>\n",
              "    <tr>\n",
              "      <th>4</th>\n",
              "      <td>199.90</td>\n",
              "      <td>ac6c3623068f30de03045865e4e10089</td>\n",
              "      <td>ferramentas_jardim</td>\n",
              "    </tr>\n",
              "  </tbody>\n",
              "</table>\n",
              "</div>"
            ],
            "text/plain": [
              "   valor_final                        product_id product_category_name\n",
              "0        58.90  4244733e06e7ecb4970a6e2683c13e61            cool_stuff\n",
              "1       239.90  e5f2d52b802189ee658865ca93d83a8f              pet_shop\n",
              "2       199.00  c777355d18b72b67abbeef9df44fd0fd      moveis_decoracao\n",
              "3        12.99  7634da152a4610f1595efa32f14722fc            perfumaria\n",
              "4       199.90  ac6c3623068f30de03045865e4e10089    ferramentas_jardim"
            ]
          },
          "metadata": {
            "tags": []
          },
          "execution_count": 92
        }
      ]
    },
    {
      "cell_type": "code",
      "metadata": {
        "id": "Y24OUUGv8Dfy",
        "colab": {
          "base_uri": "https://localhost:8080/",
          "height": 428
        },
        "outputId": "cf541818-4715-4103-c0b4-a2da88ce895d"
      },
      "source": [
        "df_cat_fat_total = df_categorias_fat[['valor_final', 'product_category_name']].groupby(by='product_category_name').sum()\n",
        "df_cat_fat_total"
      ],
      "execution_count": null,
      "outputs": [
        {
          "output_type": "execute_result",
          "data": {
            "text/html": [
              "<div>\n",
              "<style scoped>\n",
              "    .dataframe tbody tr th:only-of-type {\n",
              "        vertical-align: middle;\n",
              "    }\n",
              "\n",
              "    .dataframe tbody tr th {\n",
              "        vertical-align: top;\n",
              "    }\n",
              "\n",
              "    .dataframe thead th {\n",
              "        text-align: right;\n",
              "    }\n",
              "</style>\n",
              "<table border=\"1\" class=\"dataframe\">\n",
              "  <thead>\n",
              "    <tr style=\"text-align: right;\">\n",
              "      <th></th>\n",
              "      <th>valor_final</th>\n",
              "    </tr>\n",
              "    <tr>\n",
              "      <th>product_category_name</th>\n",
              "      <th></th>\n",
              "    </tr>\n",
              "  </thead>\n",
              "  <tbody>\n",
              "    <tr>\n",
              "      <th>agro_industria_e_comercio</th>\n",
              "      <td>91634.76</td>\n",
              "    </tr>\n",
              "    <tr>\n",
              "      <th>alimentos</th>\n",
              "      <td>33180.45</td>\n",
              "    </tr>\n",
              "    <tr>\n",
              "      <th>alimentos_bebidas</th>\n",
              "      <td>17797.63</td>\n",
              "    </tr>\n",
              "    <tr>\n",
              "      <th>artes</th>\n",
              "      <td>25366.09</td>\n",
              "    </tr>\n",
              "    <tr>\n",
              "      <th>artes_e_artesanato</th>\n",
              "      <td>1875.90</td>\n",
              "    </tr>\n",
              "    <tr>\n",
              "      <th>...</th>\n",
              "      <td>...</td>\n",
              "    </tr>\n",
              "    <tr>\n",
              "      <th>sinalizacao_e_seguranca</th>\n",
              "      <td>34797.13</td>\n",
              "    </tr>\n",
              "    <tr>\n",
              "      <th>tablets_impressao_imagem</th>\n",
              "      <td>8082.21</td>\n",
              "    </tr>\n",
              "    <tr>\n",
              "      <th>telefonia</th>\n",
              "      <td>360139.72</td>\n",
              "    </tr>\n",
              "    <tr>\n",
              "      <th>telefonia_fixa</th>\n",
              "      <td>128822.79</td>\n",
              "    </tr>\n",
              "    <tr>\n",
              "      <th>utilidades_domesticas</th>\n",
              "      <td>750233.73</td>\n",
              "    </tr>\n",
              "  </tbody>\n",
              "</table>\n",
              "<p>74 rows × 1 columns</p>\n",
              "</div>"
            ],
            "text/plain": [
              "                           valor_final\n",
              "product_category_name                 \n",
              "agro_industria_e_comercio     91634.76\n",
              "alimentos                     33180.45\n",
              "alimentos_bebidas             17797.63\n",
              "artes                         25366.09\n",
              "artes_e_artesanato             1875.90\n",
              "...                                ...\n",
              "sinalizacao_e_seguranca       34797.13\n",
              "tablets_impressao_imagem       8082.21\n",
              "telefonia                    360139.72\n",
              "telefonia_fixa               128822.79\n",
              "utilidades_domesticas        750233.73\n",
              "\n",
              "[74 rows x 1 columns]"
            ]
          },
          "metadata": {
            "tags": []
          },
          "execution_count": 93
        }
      ]
    },
    {
      "cell_type": "code",
      "metadata": {
        "id": "eR-S7bc48Stg",
        "colab": {
          "base_uri": "https://localhost:8080/",
          "height": 223
        },
        "outputId": "8c917c5e-bc25-401f-9057-d5933d4efeb1"
      },
      "source": [
        "df_cat_fat_total.sort_values(by='valor_final', ascending=False).head(5)"
      ],
      "execution_count": null,
      "outputs": [
        {
          "output_type": "execute_result",
          "data": {
            "text/html": [
              "<div>\n",
              "<style scoped>\n",
              "    .dataframe tbody tr th:only-of-type {\n",
              "        vertical-align: middle;\n",
              "    }\n",
              "\n",
              "    .dataframe tbody tr th {\n",
              "        vertical-align: top;\n",
              "    }\n",
              "\n",
              "    .dataframe thead th {\n",
              "        text-align: right;\n",
              "    }\n",
              "</style>\n",
              "<table border=\"1\" class=\"dataframe\">\n",
              "  <thead>\n",
              "    <tr style=\"text-align: right;\">\n",
              "      <th></th>\n",
              "      <th>valor_final</th>\n",
              "    </tr>\n",
              "    <tr>\n",
              "      <th>product_category_name</th>\n",
              "      <th></th>\n",
              "    </tr>\n",
              "  </thead>\n",
              "  <tbody>\n",
              "    <tr>\n",
              "      <th>beleza_saude</th>\n",
              "      <td>1347468.49</td>\n",
              "    </tr>\n",
              "    <tr>\n",
              "      <th>relogios_presentes</th>\n",
              "      <td>1259634.58</td>\n",
              "    </tr>\n",
              "    <tr>\n",
              "      <th>cama_mesa_banho</th>\n",
              "      <td>1228795.46</td>\n",
              "    </tr>\n",
              "    <tr>\n",
              "      <th>informatica_acessorios</th>\n",
              "      <td>1135454.64</td>\n",
              "    </tr>\n",
              "    <tr>\n",
              "      <th>esporte_lazer</th>\n",
              "      <td>1082435.42</td>\n",
              "    </tr>\n",
              "  </tbody>\n",
              "</table>\n",
              "</div>"
            ],
            "text/plain": [
              "                        valor_final\n",
              "product_category_name              \n",
              "beleza_saude             1347468.49\n",
              "relogios_presentes       1259634.58\n",
              "cama_mesa_banho          1228795.46\n",
              "informatica_acessorios   1135454.64\n",
              "esporte_lazer            1082435.42"
            ]
          },
          "metadata": {
            "tags": []
          },
          "execution_count": 94
        }
      ]
    },
    {
      "cell_type": "code",
      "metadata": {
        "id": "VBU7s5gw8ZOr",
        "colab": {
          "base_uri": "https://localhost:8080/",
          "height": 542
        },
        "outputId": "327c8d82-6a40-4632-d104-740cbb11a26d"
      },
      "source": [
        "df_plot = df_cat_fat_total.sort_values(by='valor_final', ascending=False).head(5)\n",
        "fig = px.bar(df_plot, y='valor_final', title='Categorias mais vendidas', labels={'valor_final': 'Faturamento', 'index':'Categoria'})\n",
        "gitly.show( fig )"
      ],
      "execution_count": null,
      "outputs": [
        {
          "output_type": "display_data",
          "data": {
            "text/html": [
              "<html>\n",
              "<head><meta charset=\"utf-8\" /></head>\n",
              "<body>\n",
              "    <div>            <script src=\"https://cdnjs.cloudflare.com/ajax/libs/mathjax/2.7.5/MathJax.js?config=TeX-AMS-MML_SVG\"></script><script type=\"text/javascript\">if (window.MathJax) {MathJax.Hub.Config({SVG: {font: \"STIX-Web\"}});}</script>                <script type=\"text/javascript\">window.PlotlyConfig = {MathJaxConfig: 'local'};</script>\n",
              "        <script src=\"https://cdn.plot.ly/plotly-latest.min.js\"></script>                <div id=\"d7fdfefa-b95b-4d84-b715-f8043403d0ad\" class=\"plotly-graph-div\" style=\"height:525px; width:100%;\"></div>            <script type=\"text/javascript\">                                    window.PLOTLYENV=window.PLOTLYENV || {};                                    if (document.getElementById(\"d7fdfefa-b95b-4d84-b715-f8043403d0ad\")) {                    Plotly.newPlot(                        \"d7fdfefa-b95b-4d84-b715-f8043403d0ad\",                        [{\"alignmentgroup\": \"True\", \"hovertemplate\": \"product_category_name=%{x}<br>Faturamento=%{y}<extra></extra>\", \"legendgroup\": \"\", \"marker\": {\"color\": \"#636efa\"}, \"name\": \"\", \"offsetgroup\": \"\", \"orientation\": \"v\", \"showlegend\": false, \"textposition\": \"auto\", \"type\": \"bar\", \"x\": [\"beleza_saude\", \"relogios_presentes\", \"cama_mesa_banho\", \"informatica_acessorios\", \"esporte_lazer\"], \"xaxis\": \"x\", \"y\": [1347468.4899999574, 1259634.5799999926, 1228795.4599999888, 1135454.6400000188, 1082435.4200000318], \"yaxis\": \"y\"}],                        {\"barmode\": \"relative\", \"legend\": {\"tracegroupgap\": 0}, \"template\": {\"data\": {\"bar\": [{\"error_x\": {\"color\": \"#2a3f5f\"}, \"error_y\": {\"color\": \"#2a3f5f\"}, \"marker\": {\"line\": {\"color\": \"#E5ECF6\", \"width\": 0.5}}, \"type\": \"bar\"}], \"barpolar\": [{\"marker\": {\"line\": {\"color\": \"#E5ECF6\", \"width\": 0.5}}, \"type\": \"barpolar\"}], \"carpet\": [{\"aaxis\": {\"endlinecolor\": \"#2a3f5f\", \"gridcolor\": \"white\", \"linecolor\": \"white\", \"minorgridcolor\": \"white\", \"startlinecolor\": \"#2a3f5f\"}, \"baxis\": {\"endlinecolor\": \"#2a3f5f\", \"gridcolor\": \"white\", \"linecolor\": \"white\", \"minorgridcolor\": \"white\", \"startlinecolor\": \"#2a3f5f\"}, \"type\": \"carpet\"}], \"choropleth\": [{\"colorbar\": {\"outlinewidth\": 0, \"ticks\": \"\"}, \"type\": \"choropleth\"}], \"contour\": [{\"colorbar\": {\"outlinewidth\": 0, \"ticks\": \"\"}, \"colorscale\": [[0.0, \"#0d0887\"], [0.1111111111111111, \"#46039f\"], [0.2222222222222222, \"#7201a8\"], [0.3333333333333333, \"#9c179e\"], [0.4444444444444444, \"#bd3786\"], [0.5555555555555556, \"#d8576b\"], [0.6666666666666666, \"#ed7953\"], [0.7777777777777778, \"#fb9f3a\"], [0.8888888888888888, \"#fdca26\"], [1.0, \"#f0f921\"]], \"type\": \"contour\"}], \"contourcarpet\": [{\"colorbar\": {\"outlinewidth\": 0, \"ticks\": \"\"}, \"type\": \"contourcarpet\"}], \"heatmap\": [{\"colorbar\": {\"outlinewidth\": 0, \"ticks\": \"\"}, \"colorscale\": [[0.0, \"#0d0887\"], [0.1111111111111111, \"#46039f\"], [0.2222222222222222, \"#7201a8\"], [0.3333333333333333, \"#9c179e\"], [0.4444444444444444, \"#bd3786\"], [0.5555555555555556, \"#d8576b\"], [0.6666666666666666, \"#ed7953\"], [0.7777777777777778, \"#fb9f3a\"], [0.8888888888888888, \"#fdca26\"], [1.0, \"#f0f921\"]], \"type\": \"heatmap\"}], \"heatmapgl\": [{\"colorbar\": {\"outlinewidth\": 0, \"ticks\": \"\"}, \"colorscale\": [[0.0, \"#0d0887\"], [0.1111111111111111, \"#46039f\"], [0.2222222222222222, \"#7201a8\"], [0.3333333333333333, \"#9c179e\"], [0.4444444444444444, \"#bd3786\"], [0.5555555555555556, \"#d8576b\"], [0.6666666666666666, \"#ed7953\"], [0.7777777777777778, \"#fb9f3a\"], [0.8888888888888888, \"#fdca26\"], [1.0, \"#f0f921\"]], \"type\": \"heatmapgl\"}], \"histogram\": [{\"marker\": {\"colorbar\": {\"outlinewidth\": 0, \"ticks\": \"\"}}, \"type\": \"histogram\"}], \"histogram2d\": [{\"colorbar\": {\"outlinewidth\": 0, \"ticks\": \"\"}, \"colorscale\": [[0.0, \"#0d0887\"], [0.1111111111111111, \"#46039f\"], [0.2222222222222222, \"#7201a8\"], [0.3333333333333333, \"#9c179e\"], [0.4444444444444444, \"#bd3786\"], [0.5555555555555556, \"#d8576b\"], [0.6666666666666666, \"#ed7953\"], [0.7777777777777778, \"#fb9f3a\"], [0.8888888888888888, \"#fdca26\"], [1.0, \"#f0f921\"]], \"type\": \"histogram2d\"}], \"histogram2dcontour\": [{\"colorbar\": {\"outlinewidth\": 0, \"ticks\": \"\"}, \"colorscale\": [[0.0, \"#0d0887\"], [0.1111111111111111, \"#46039f\"], [0.2222222222222222, \"#7201a8\"], [0.3333333333333333, \"#9c179e\"], [0.4444444444444444, \"#bd3786\"], [0.5555555555555556, \"#d8576b\"], [0.6666666666666666, \"#ed7953\"], [0.7777777777777778, \"#fb9f3a\"], [0.8888888888888888, \"#fdca26\"], [1.0, \"#f0f921\"]], \"type\": \"histogram2dcontour\"}], \"mesh3d\": [{\"colorbar\": {\"outlinewidth\": 0, \"ticks\": \"\"}, \"type\": \"mesh3d\"}], \"parcoords\": [{\"line\": {\"colorbar\": {\"outlinewidth\": 0, \"ticks\": \"\"}}, \"type\": \"parcoords\"}], \"pie\": [{\"automargin\": true, \"type\": \"pie\"}], \"scatter\": [{\"marker\": {\"colorbar\": {\"outlinewidth\": 0, \"ticks\": \"\"}}, \"type\": \"scatter\"}], \"scatter3d\": [{\"line\": {\"colorbar\": {\"outlinewidth\": 0, \"ticks\": \"\"}}, \"marker\": {\"colorbar\": {\"outlinewidth\": 0, \"ticks\": \"\"}}, \"type\": \"scatter3d\"}], \"scattercarpet\": [{\"marker\": {\"colorbar\": {\"outlinewidth\": 0, \"ticks\": \"\"}}, \"type\": \"scattercarpet\"}], \"scattergeo\": [{\"marker\": {\"colorbar\": {\"outlinewidth\": 0, \"ticks\": \"\"}}, \"type\": \"scattergeo\"}], \"scattergl\": [{\"marker\": {\"colorbar\": {\"outlinewidth\": 0, \"ticks\": \"\"}}, \"type\": \"scattergl\"}], \"scattermapbox\": [{\"marker\": {\"colorbar\": {\"outlinewidth\": 0, \"ticks\": \"\"}}, \"type\": \"scattermapbox\"}], \"scatterpolar\": [{\"marker\": {\"colorbar\": {\"outlinewidth\": 0, \"ticks\": \"\"}}, \"type\": \"scatterpolar\"}], \"scatterpolargl\": [{\"marker\": {\"colorbar\": {\"outlinewidth\": 0, \"ticks\": \"\"}}, \"type\": \"scatterpolargl\"}], \"scatterternary\": [{\"marker\": {\"colorbar\": {\"outlinewidth\": 0, \"ticks\": \"\"}}, \"type\": \"scatterternary\"}], \"surface\": [{\"colorbar\": {\"outlinewidth\": 0, \"ticks\": \"\"}, \"colorscale\": [[0.0, \"#0d0887\"], [0.1111111111111111, \"#46039f\"], [0.2222222222222222, \"#7201a8\"], [0.3333333333333333, \"#9c179e\"], [0.4444444444444444, \"#bd3786\"], [0.5555555555555556, \"#d8576b\"], [0.6666666666666666, \"#ed7953\"], [0.7777777777777778, \"#fb9f3a\"], [0.8888888888888888, \"#fdca26\"], [1.0, \"#f0f921\"]], \"type\": \"surface\"}], \"table\": [{\"cells\": {\"fill\": {\"color\": \"#EBF0F8\"}, \"line\": {\"color\": \"white\"}}, \"header\": {\"fill\": {\"color\": \"#C8D4E3\"}, \"line\": {\"color\": \"white\"}}, \"type\": \"table\"}]}, \"layout\": {\"annotationdefaults\": {\"arrowcolor\": \"#2a3f5f\", \"arrowhead\": 0, \"arrowwidth\": 1}, \"autotypenumbers\": \"strict\", \"coloraxis\": {\"colorbar\": {\"outlinewidth\": 0, \"ticks\": \"\"}}, \"colorscale\": {\"diverging\": [[0, \"#8e0152\"], [0.1, \"#c51b7d\"], [0.2, \"#de77ae\"], [0.3, \"#f1b6da\"], [0.4, \"#fde0ef\"], [0.5, \"#f7f7f7\"], [0.6, \"#e6f5d0\"], [0.7, \"#b8e186\"], [0.8, \"#7fbc41\"], [0.9, \"#4d9221\"], [1, \"#276419\"]], \"sequential\": [[0.0, \"#0d0887\"], [0.1111111111111111, \"#46039f\"], [0.2222222222222222, \"#7201a8\"], [0.3333333333333333, \"#9c179e\"], [0.4444444444444444, \"#bd3786\"], [0.5555555555555556, \"#d8576b\"], [0.6666666666666666, \"#ed7953\"], [0.7777777777777778, \"#fb9f3a\"], [0.8888888888888888, \"#fdca26\"], [1.0, \"#f0f921\"]], \"sequentialminus\": [[0.0, \"#0d0887\"], [0.1111111111111111, \"#46039f\"], [0.2222222222222222, \"#7201a8\"], [0.3333333333333333, \"#9c179e\"], [0.4444444444444444, \"#bd3786\"], [0.5555555555555556, \"#d8576b\"], [0.6666666666666666, \"#ed7953\"], [0.7777777777777778, \"#fb9f3a\"], [0.8888888888888888, \"#fdca26\"], [1.0, \"#f0f921\"]]}, \"colorway\": [\"#636efa\", \"#EF553B\", \"#00cc96\", \"#ab63fa\", \"#FFA15A\", \"#19d3f3\", \"#FF6692\", \"#B6E880\", \"#FF97FF\", \"#FECB52\"], \"font\": {\"color\": \"#2a3f5f\"}, \"geo\": {\"bgcolor\": \"white\", \"lakecolor\": \"white\", \"landcolor\": \"#E5ECF6\", \"showlakes\": true, \"showland\": true, \"subunitcolor\": \"white\"}, \"hoverlabel\": {\"align\": \"left\"}, \"hovermode\": \"closest\", \"mapbox\": {\"style\": \"light\"}, \"paper_bgcolor\": \"white\", \"plot_bgcolor\": \"#E5ECF6\", \"polar\": {\"angularaxis\": {\"gridcolor\": \"white\", \"linecolor\": \"white\", \"ticks\": \"\"}, \"bgcolor\": \"#E5ECF6\", \"radialaxis\": {\"gridcolor\": \"white\", \"linecolor\": \"white\", \"ticks\": \"\"}}, \"scene\": {\"xaxis\": {\"backgroundcolor\": \"#E5ECF6\", \"gridcolor\": \"white\", \"gridwidth\": 2, \"linecolor\": \"white\", \"showbackground\": true, \"ticks\": \"\", \"zerolinecolor\": \"white\"}, \"yaxis\": {\"backgroundcolor\": \"#E5ECF6\", \"gridcolor\": \"white\", \"gridwidth\": 2, \"linecolor\": \"white\", \"showbackground\": true, \"ticks\": \"\", \"zerolinecolor\": \"white\"}, \"zaxis\": {\"backgroundcolor\": \"#E5ECF6\", \"gridcolor\": \"white\", \"gridwidth\": 2, \"linecolor\": \"white\", \"showbackground\": true, \"ticks\": \"\", \"zerolinecolor\": \"white\"}}, \"shapedefaults\": {\"line\": {\"color\": \"#2a3f5f\"}}, \"ternary\": {\"aaxis\": {\"gridcolor\": \"white\", \"linecolor\": \"white\", \"ticks\": \"\"}, \"baxis\": {\"gridcolor\": \"white\", \"linecolor\": \"white\", \"ticks\": \"\"}, \"bgcolor\": \"#E5ECF6\", \"caxis\": {\"gridcolor\": \"white\", \"linecolor\": \"white\", \"ticks\": \"\"}}, \"title\": {\"x\": 0.05}, \"xaxis\": {\"automargin\": true, \"gridcolor\": \"white\", \"linecolor\": \"white\", \"ticks\": \"\", \"title\": {\"standoff\": 15}, \"zerolinecolor\": \"white\", \"zerolinewidth\": 2}, \"yaxis\": {\"automargin\": true, \"gridcolor\": \"white\", \"linecolor\": \"white\", \"ticks\": \"\", \"title\": {\"standoff\": 15}, \"zerolinecolor\": \"white\", \"zerolinewidth\": 2}}}, \"title\": {\"text\": \"Categorias mais vendidas\"}, \"xaxis\": {\"anchor\": \"y\", \"domain\": [0.0, 1.0], \"title\": {\"text\": \"product_category_name\"}}, \"yaxis\": {\"anchor\": \"x\", \"domain\": [0.0, 1.0], \"title\": {\"text\": \"Faturamento\"}}},                        {\"responsive\": true}                    ).then(function(){\n",
              "                            \n",
              "var gd = document.getElementById('d7fdfefa-b95b-4d84-b715-f8043403d0ad');\n",
              "var x = new MutationObserver(function (mutations, observer) {{\n",
              "        var display = window.getComputedStyle(gd).display;\n",
              "        if (!display || display === 'none') {{\n",
              "            console.log([gd, 'removed!']);\n",
              "            Plotly.purge(gd);\n",
              "            observer.disconnect();\n",
              "        }}\n",
              "}});\n",
              "\n",
              "// Listen for the removal of the full notebook cells\n",
              "var notebookContainer = gd.closest('#notebook-container');\n",
              "if (notebookContainer) {{\n",
              "    x.observe(notebookContainer, {childList: true});\n",
              "}}\n",
              "\n",
              "// Listen for the clearing of the current output cell\n",
              "var outputEl = gd.closest('.output');\n",
              "if (outputEl) {{\n",
              "    x.observe(outputEl, {childList: true});\n",
              "}}\n",
              "\n",
              "                        })                };                            </script>        </div>\n",
              "</body>\n",
              "</html>"
            ]
          },
          "metadata": {
            "tags": []
          }
        }
      ]
    }
  ]
}