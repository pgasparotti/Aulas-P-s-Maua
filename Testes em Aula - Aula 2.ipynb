{
  "nbformat": 4,
  "nbformat_minor": 0,
  "metadata": {
    "colab": {
      "name": "Testes em Aula - Aula2.ipynb",
      "provenance": [],
      "include_colab_link": true
    },
    "kernelspec": {
      "display_name": "Python 3",
      "name": "python3"
    }
  },
  "cells": [
    {
      "cell_type": "markdown",
      "metadata": {
        "id": "view-in-github",
        "colab_type": "text"
      },
      "source": [
        "<a href=\"https://colab.research.google.com/github/pgasparotti/Aulas-P-s-Maua/blob/main/Testes%20em%20Aula%20-%20Aula%202.ipynb\" target=\"_parent\"><img src=\"https://colab.research.google.com/assets/colab-badge.svg\" alt=\"Open In Colab\"/></a>"
      ]
    },
    {
      "cell_type": "code",
      "metadata": {
        "colab": {
          "base_uri": "https://localhost:8080/"
        },
        "id": "ZOjzd7x3W6IS",
        "outputId": "b8d7a3f7-e3f5-45c8-d092-88f94d392ef0"
      },
      "source": [
        "!pip install pycep-correios"
      ],
      "execution_count": null,
      "outputs": [
        {
          "output_type": "stream",
          "text": [
            "Collecting pycep-correios\n",
            "  Downloading https://files.pythonhosted.org/packages/a7/f1/4d5ac723907f04e3d3f367d6036b27182b707aba2b7eac1d77386da77fe4/pycep_correios-4.0.4-py2.py3-none-any.whl\n",
            "Requirement already satisfied: requests>=2.7.0 in /usr/local/lib/python3.6/dist-packages (from pycep-correios) (2.23.0)\n",
            "Collecting zeep>=2.0.0\n",
            "\u001b[?25l  Downloading https://files.pythonhosted.org/packages/e5/8c/b14cbe8562e582786dbd86487c041827cb2a4dafcaf832c035878e94651f/zeep-4.0.0-py2.py3-none-any.whl (100kB)\n",
            "\u001b[K     |████████████████████████████████| 102kB 3.9MB/s \n",
            "\u001b[?25hCollecting deprecated\n",
            "  Downloading https://files.pythonhosted.org/packages/76/a1/05d7f62f956d77b23a640efc650f80ce24483aa2f85a09c03fb64f49e879/Deprecated-1.2.10-py2.py3-none-any.whl\n",
            "Requirement already satisfied: certifi>=2017.4.17 in /usr/local/lib/python3.6/dist-packages (from requests>=2.7.0->pycep-correios) (2020.12.5)\n",
            "Requirement already satisfied: urllib3!=1.25.0,!=1.25.1,<1.26,>=1.21.1 in /usr/local/lib/python3.6/dist-packages (from requests>=2.7.0->pycep-correios) (1.24.3)\n",
            "Requirement already satisfied: idna<3,>=2.5 in /usr/local/lib/python3.6/dist-packages (from requests>=2.7.0->pycep-correios) (2.10)\n",
            "Requirement already satisfied: chardet<4,>=3.0.2 in /usr/local/lib/python3.6/dist-packages (from requests>=2.7.0->pycep-correios) (3.0.4)\n",
            "Collecting requests-file>=1.5.1\n",
            "  Downloading https://files.pythonhosted.org/packages/77/86/cdb5e8eaed90796aa83a6d9f75cfbd37af553c47a291cd47bc410ef9bdb2/requests_file-1.5.1-py2.py3-none-any.whl\n",
            "Collecting cached-property>=1.3.0\n",
            "  Downloading https://files.pythonhosted.org/packages/48/19/f2090f7dad41e225c7f2326e4cfe6fff49e57dedb5b53636c9551f86b069/cached_property-1.5.2-py2.py3-none-any.whl\n",
            "Requirement already satisfied: lxml>=3.1.0 in /usr/local/lib/python3.6/dist-packages (from zeep>=2.0.0->pycep-correios) (4.2.6)\n",
            "Requirement already satisfied: defusedxml>=0.4.1 in /usr/local/lib/python3.6/dist-packages (from zeep>=2.0.0->pycep-correios) (0.6.0)\n",
            "Collecting appdirs>=1.4.0\n",
            "  Downloading https://files.pythonhosted.org/packages/3b/00/2344469e2084fb287c2e0b57b72910309874c3245463acd6cf5e3db69324/appdirs-1.4.4-py2.py3-none-any.whl\n",
            "Collecting isodate>=0.5.4\n",
            "\u001b[?25l  Downloading https://files.pythonhosted.org/packages/9b/9f/b36f7774ff5ea8e428fdcfc4bb332c39ee5b9362ddd3d40d9516a55221b2/isodate-0.6.0-py2.py3-none-any.whl (45kB)\n",
            "\u001b[K     |████████████████████████████████| 51kB 5.4MB/s \n",
            "\u001b[?25hRequirement already satisfied: pytz in /usr/local/lib/python3.6/dist-packages (from zeep>=2.0.0->pycep-correios) (2018.9)\n",
            "Requirement already satisfied: attrs>=17.2.0 in /usr/local/lib/python3.6/dist-packages (from zeep>=2.0.0->pycep-correios) (20.3.0)\n",
            "Collecting requests-toolbelt>=0.7.1\n",
            "\u001b[?25l  Downloading https://files.pythonhosted.org/packages/60/ef/7681134338fc097acef8d9b2f8abe0458e4d87559c689a8c306d0957ece5/requests_toolbelt-0.9.1-py2.py3-none-any.whl (54kB)\n",
            "\u001b[K     |████████████████████████████████| 61kB 6.5MB/s \n",
            "\u001b[?25hRequirement already satisfied: wrapt<2,>=1.10 in /usr/local/lib/python3.6/dist-packages (from deprecated->pycep-correios) (1.12.1)\n",
            "Requirement already satisfied: six in /usr/local/lib/python3.6/dist-packages (from requests-file>=1.5.1->zeep>=2.0.0->pycep-correios) (1.15.0)\n",
            "Installing collected packages: requests-file, cached-property, appdirs, isodate, requests-toolbelt, zeep, deprecated, pycep-correios\n",
            "Successfully installed appdirs-1.4.4 cached-property-1.5.2 deprecated-1.2.10 isodate-0.6.0 pycep-correios-4.0.4 requests-file-1.5.1 requests-toolbelt-0.9.1 zeep-4.0.0\n"
          ],
          "name": "stdout"
        }
      ]
    },
    {
      "cell_type": "code",
      "metadata": {
        "colab": {
          "base_uri": "https://localhost:8080/"
        },
        "id": "rx7xwoe8XEjJ",
        "outputId": "09e14106-aae3-42d8-b3fd-7cde86fcc2b9"
      },
      "source": [
        "# fonte https://imasters.com.br/back-end/python-consulta-de-cep-com-pycepcorreios\n",
        "\n",
        "import pycep_correios\n",
        "\n",
        "endereco = pycep_correios.get_address_from_cep('09070000')\n",
        "\n",
        "\n",
        "print(endereco['bairro'])\n",
        "print(endereco['cidade'])"
      ],
      "execution_count": null,
      "outputs": [
        {
          "output_type": "stream",
          "text": [
            "Santa Maria\n",
            "Santo André\n"
          ],
          "name": "stdout"
        }
      ]
    },
    {
      "cell_type": "code",
      "metadata": {
        "colab": {
          "background_save": true
        },
        "id": "mFt7bixiXJEd",
        "outputId": "f94eac10-3d26-48ee-dd87-353c168baf79"
      },
      "source": [
        "print(endereco)"
      ],
      "execution_count": null,
      "outputs": [
        {
          "output_type": "stream",
          "text": [
            "{'bairro': 'Santa Maria', 'cep': '09070-000', 'cidade': 'Santo André', 'logradouro': 'Avenida Gago Coutinho', 'uf': 'SP', 'complemento': 'de 1/2 ao fim'}\n"
          ],
          "name": "stdout"
        }
      ]
    },
    {
      "cell_type": "code",
      "metadata": {
        "id": "jNqlsOByXU2t"
      },
      "source": [
        ""
      ],
      "execution_count": null,
      "outputs": []
    },
    {
      "cell_type": "code",
      "metadata": {
        "colab": {
          "base_uri": "https://localhost:8080/"
        },
        "id": "ebMYID-uXe8t",
        "outputId": "bb5d73b5-a3b7-47f2-deaa-6b6c7333ff7f"
      },
      "source": [
        "import datetime\n",
        "\n",
        "print(datetime.date(2017,1,15))\n",
        "hj = datetime.datetime.now()"
      ],
      "execution_count": null,
      "outputs": [
        {
          "output_type": "stream",
          "text": [
            "2017-01-15\n"
          ],
          "name": "stdout"
        }
      ]
    },
    {
      "cell_type": "code",
      "metadata": {
        "colab": {
          "base_uri": "https://localhost:8080/"
        },
        "id": "2Vn3LlMrrdXq",
        "outputId": "c454bc96-de6e-40f2-882f-2d3b51b4a255"
      },
      "source": [
        "print(hj)\n",
        "print(hj.year)\n",
        "print(hj.day)\n",
        "print(hj.month)"
      ],
      "execution_count": null,
      "outputs": [
        {
          "output_type": "stream",
          "text": [
            "2020-12-11 23:20:25.819284\n",
            "2020\n",
            "11\n",
            "12\n"
          ],
          "name": "stdout"
        }
      ]
    },
    {
      "cell_type": "code",
      "metadata": {
        "colab": {
          "base_uri": "https://localhost:8080/"
        },
        "id": "68zpZ8SBrn7X",
        "outputId": "b7de271c-d73f-4e79-b077-83d1d55cdd98"
      },
      "source": [
        "print(hj)"
      ],
      "execution_count": null,
      "outputs": [
        {
          "output_type": "stream",
          "text": [
            "2020-12-11 23:20:25.819284\n"
          ],
          "name": "stdout"
        }
      ]
    }
  ]
}